{
 "cells": [
  {
   "cell_type": "code",
   "execution_count": 137,
   "metadata": {},
   "outputs": [],
   "source": [
    "%matplotlib inline\n",
    "import matplotlib.pyplot as plt\n",
    "import pandas as pd\n",
    "import numpy as np\n",
    "from ipywidgets import widgets\n",
    "import seaborn as sns\n",
    "from scipy.signal import find_peaks\n",
    "from time import time\n",
    "import feather\n",
    "import xlsxwriter \n",
    "from  scipy import signal\n",
    "from statsmodels.tsa.seasonal import seasonal_decompose"
   ]
  },
  {
   "cell_type": "markdown",
   "metadata": {},
   "source": [
    "# Limpieza de datos"
   ]
  },
  {
   "cell_type": "code",
   "execution_count": 11,
   "metadata": {},
   "outputs": [],
   "source": [
    "def dtfr():\n",
    "    df = pd.read_excel(\"datos/Consumo horario Zonas de carga de la GCROC 2015-2020.xlsx\", sheet_name=\"datos\")\n",
    "    return df"
   ]
  },
  {
   "cell_type": "code",
   "execution_count": null,
   "metadata": {},
   "outputs": [],
   "source": [
    "dtfr().head()"
   ]
  },
  {
   "cell_type": "markdown",
   "metadata": {},
   "source": [
    "##### Remoción de primer encabezado y cambio de nombres en segundo encabezado"
   ]
  },
  {
   "cell_type": "code",
   "execution_count": 14,
   "metadata": {},
   "outputs": [],
   "source": [
    "def lim_header():\n",
    "    dfi = dtfr()\n",
    "    dfi.columns = dfi.iloc[0]\n",
    "    dfi = dfi.drop(index=0)\n",
    "    dfi.rename(columns = {\"día de la semana\" : \"día_semana\"}, inplace=True )\n",
    "    dfi.rename(columns = {pd.NaT : \"fechas\"}, inplace = True)\n",
    "    return dfi"
   ]
  },
  {
   "cell_type": "code",
   "execution_count": null,
   "metadata": {},
   "outputs": [],
   "source": [
    "lim_header().head()"
   ]
  },
  {
   "cell_type": "markdown",
   "metadata": {},
   "source": [
    "##### Relleno día semana y fecha "
   ]
  },
  {
   "cell_type": "code",
   "execution_count": 17,
   "metadata": {},
   "outputs": [],
   "source": [
    "def lim_relleno():\n",
    "    df = lim_header()\n",
    "    dia_sem = df[\"día_semana\"].tolist()\n",
    "    fech = df[\"fecha\"].tolist()\n",
    "    hor = df[\"hora\"].tolist()\n",
    "    indx = 0\n",
    "    for h in hor:\n",
    "        if h == 1:\n",
    "            fecha = fech[indx]\n",
    "            diaa = dia_sem[indx]\n",
    "            indx += 1\n",
    "        elif h != 1:\n",
    "            fech[indx] = fecha\n",
    "            dia_sem[indx] = diaa\n",
    "            indx += 1\n",
    "    df[\"fecha\"] = fech\n",
    "    df[\"día_semana\"] = dia_sem\n",
    "    return df"
   ]
  },
  {
   "cell_type": "code",
   "execution_count": null,
   "metadata": {},
   "outputs": [],
   "source": [
    "lim_relleno().head()"
   ]
  },
  {
   "cell_type": "markdown",
   "metadata": {},
   "source": [
    "#### Remplazo de valores no numéricos"
   ]
  },
  {
   "cell_type": "code",
   "execution_count": 12,
   "metadata": {},
   "outputs": [],
   "source": [
    "def lim_Nnum():\n",
    "    df = lim_relleno()\n",
    "    df['year'] = pd.DatetimeIndex(df[\"fechas\"]).year\n",
    "    df['month'] = pd.DatetimeIndex(df[\"fechas\"]).month\n",
    "    df['day'] = pd.DatetimeIndex(df[\"fechas\"]).day\n",
    "\n",
    "    df = df.replace([\"Lunes\", \"Martes\", \"Miercoles\", \"Jueves\", \"Viernes\", \"Sabado\", \"Domingo\"], [0, 1, 2, 3, 4, 5, 6])\n",
    "    df = df.replace([\"Miércoles\", \"Sábado\"],[2,5])\n",
    "\n",
    "    df = df.drop([\"fecha\",\"fechas\"], axis=1)\n",
    "    df = df.dropna()\n",
    "    \n",
    "    return df"
   ]
  },
  {
   "cell_type": "code",
   "execution_count": 60,
   "metadata": {},
   "outputs": [],
   "source": [
    "def lim_Nnum():\n",
    "    df = lim_relleno()\n",
    "    df['year'] = pd.DatetimeIndex(df[\"fecha\"]).year\n",
    "    df['month'] = pd.DatetimeIndex(df[\"fecha\"]).month\n",
    "    df['day'] = pd.DatetimeIndex(df[\"fecha\"]).day\n",
    "\n",
    "    df = df.replace([\"Lunes\", \"Martes\", \"Miercoles\", \"Jueves\", \"Viernes\", \"Sabado\", \"Domingo\"], [0, 1, 2, 3, 4, 5, 6])\n",
    "    df = df.replace([\"Miércoles\", \"Sábado\"],[2,5])\n",
    "\n",
    "    df.columns = df.columns.fillna('to_drop')\n",
    "    df.drop('to_drop', axis = 1, inplace = True)\n",
    "#     df = df.drop([\"fecha\",\"fechas\"], axis=1)\n",
    "    df = df.dropna()\n",
    "    \n",
    "    return df"
   ]
  },
  {
   "cell_type": "code",
   "execution_count": 121,
   "metadata": {},
   "outputs": [],
   "source": [
    "ones = df.set_index(\"fecha\")\n",
    "hora_1 = ones[ones[\"hora\"]==3]\n",
    "part = hora_1.ZCCI84BA14.tail(100)\n",
    "result=seasonal_decompose(part, model='multiplicative')\n",
    "# plt.figure(figsize=(20,5"
   ]
  },
  {
   "cell_type": "code",
   "execution_count": null,
   "metadata": {},
   "outputs": [],
   "source": []
  },
  {
   "cell_type": "code",
   "execution_count": null,
   "metadata": {},
   "outputs": [],
   "source": []
  },
  {
   "cell_type": "markdown",
   "metadata": {},
   "source": [
    "#### Cambio de nombre a zonas de carga"
   ]
  },
  {
   "cell_type": "code",
   "execution_count": 123,
   "metadata": {},
   "outputs": [],
   "source": [
    "def lim_nomzon():\n",
    "    df = lim_Nnum()\n",
    "    zonas = df.columns\n",
    "    elim = [\"día_semana\", \"hora\", \"day\", \"year\", \"month\", \"fecha\"]\n",
    "    zonas = zonas.drop(elim)\n",
    "    son = [\"zona_{}\".format(i+1) for i in range(len(zonas))]\n",
    "    listDic={}\n",
    "    for zona, so in zip(zonas, son):\n",
    "        listDic[zona]=so\n",
    "    df.rename(columns = listDic, inplace=True )\n",
    "    return df"
   ]
  },
  {
   "cell_type": "markdown",
   "metadata": {},
   "source": [
    "###### llama los datos más rapido"
   ]
  },
  {
   "cell_type": "code",
   "execution_count": 250,
   "metadata": {},
   "outputs": [],
   "source": [
    "lim_nomzon().to_pickle(\"dflimpios.pkl\")"
   ]
  },
  {
   "cell_type": "code",
   "execution_count": null,
   "metadata": {},
   "outputs": [],
   "source": [
    "df[df[\"hora\"]==3][\"zona_9\"]"
   ]
  },
  {
   "cell_type": "code",
   "execution_count": 165,
   "metadata": {},
   "outputs": [],
   "source": [
    "df = lim_nomzon()"
   ]
  },
  {
   "cell_type": "code",
   "execution_count": 241,
   "metadata": {},
   "outputs": [],
   "source": [
    "cas = df.query(\"hora == 2\")"
   ]
  },
  {
   "cell_type": "code",
   "execution_count": 242,
   "metadata": {},
   "outputs": [
    {
     "data": {
      "text/plain": [
       "[<matplotlib.lines.Line2D at 0x219c4b47240>]"
      ]
     },
     "execution_count": 242,
     "metadata": {},
     "output_type": "execute_result"
    },
    {
     "data": {
      "image/png": "[encoded data removed]",
      "text/plain": [
       "<Figure size 432x288 with 1 Axes>"
      ]
     },
     "metadata": {
      "needs_background": "light"
     },
     "output_type": "display_data"
    }
   ],
   "source": [
    "plt.plot(cas.zona_9)"
   ]
  },
  {
   "cell_type": "code",
   "execution_count": 243,
   "metadata": {},
   "outputs": [],
   "source": [
    "ones = df.set_index(\"fecha\")\n",
    "hora_1 = ones[ones[\"hora\"]==2]\n",
    "part = hora_1.zona_9.tail(100)\n",
    "result = seasonal_decompose(part, model='multiplicative')\n",
    "tab = result.seasonal.reset_index(drop = True)"
   ]
  },
  {
   "cell_type": "code",
   "execution_count": 244,
   "metadata": {},
   "outputs": [],
   "source": [
    "t = np.arange(1,100)\n",
    "sen = np.abs(np.sin(((2*np.pi)/14)*t))\n",
    "cos = np.abs(np.cos(((2*np.pi)/14)*t))"
   ]
  },
  {
   "cell_type": "code",
   "execution_count": 245,
   "metadata": {},
   "outputs": [
    {
     "data": {
      "text/plain": [
       "[<matplotlib.lines.Line2D at 0x219c1aa5940>]"
      ]
     },
     "execution_count": 245,
     "metadata": {},
     "output_type": "execute_result"
    },
    {
     "data": {
      "image/png": "[encoded data removed]",
      "text/plain": [
       "<Figure size 1440x360 with 1 Axes>"
      ]
     },
     "metadata": {
      "needs_background": "light"
     },
     "output_type": "display_data"
    }
   ],
   "source": [
    "plt.figure(figsize=(20, 5))\n",
    "plt.plot(tab, c ='red')\n",
    "# plt.plot(t-2, ((sen+cos)*0.47)+0.4, c='black')"
   ]
  },
  {
   "cell_type": "code",
   "execution_count": 246,
   "metadata": {},
   "outputs": [],
   "source": [
    "f, asd = signal.periodogram(tab, fs=1)"
   ]
  },
  {
   "cell_type": "code",
   "execution_count": 247,
   "metadata": {},
   "outputs": [
    {
     "name": "stderr",
     "output_type": "stream",
     "text": [
      "C:\\Users\\alber\\Anaconda3\\lib\\site-packages\\ipykernel_launcher.py:1: RuntimeWarning: divide by zero encountered in true_divide\n",
      "  \"\"\"Entry point for launching an IPython kernel.\n"
     ]
    },
    {
     "data": {
      "text/plain": [
       "[<matplotlib.lines.Line2D at 0x219c40670f0>]"
      ]
     },
     "execution_count": 247,
     "metadata": {},
     "output_type": "execute_result"
    },
    {
     "data": {
      "image/png": "[encoded data removed]",
      "text/plain": [
       "<Figure size 432x288 with 1 Axes>"
      ]
     },
     "metadata": {
      "needs_background": "light"
     },
     "output_type": "display_data"
    }
   ],
   "source": [
    "plt.plot(1/f, asd)"
   ]
  },
  {
   "cell_type": "code",
   "execution_count": 248,
   "metadata": {},
   "outputs": [],
   "source": [
    "peaks, _ = find_peaks(asd, height=0)"
   ]
  },
  {
   "cell_type": "code",
   "execution_count": 249,
   "metadata": {},
   "outputs": [
    {
     "data": {
      "text/plain": [
       "array([14, 29, 43], dtype=int64)"
      ]
     },
     "execution_count": 249,
     "metadata": {},
     "output_type": "execute_result"
    }
   ],
   "source": [
    "peaks"
   ]
  },
  {
   "cell_type": "code",
   "execution_count": null,
   "metadata": {},
   "outputs": [],
   "source": []
  }
 ],
 "metadata": {
  "kernelspec": {
   "display_name": "Python 3",
   "language": "python",
   "name": "python3"
  },
  "language_info": {
   "codemirror_mode": {
    "name": "ipython",
    "version": 3
   },
   "file_extension": ".py",
   "mimetype": "text/x-python",
   "name": "python",
   "nbconvert_exporter": "python",
   "pygments_lexer": "ipython3",
   "version": "3.7.3"
  }
 },
 "nbformat": 4,
 "nbformat_minor": 2
}
