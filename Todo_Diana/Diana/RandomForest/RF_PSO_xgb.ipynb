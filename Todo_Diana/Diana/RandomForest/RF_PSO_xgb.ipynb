{
 "cells": [
  {
   "cell_type": "markdown",
   "metadata": {
    "colab_type": "text",
    "heading_collapsed": true,
    "id": "3vqI3QDZZKAq"
   },
   "source": [
    "# Importar librerias"
   ]
  },
  {
   "cell_type": "code",
   "execution_count": 3,
   "metadata": {
    "ExecuteTime": {
     "end_time": "2020-04-24T21:49:02.974968Z",
     "start_time": "2020-04-24T21:49:02.968191Z"
    },
    "colab": {},
    "colab_type": "code",
    "hidden": true,
    "id": "Nawvp8qcZKAs"
   },
   "outputs": [],
   "source": [
    "c = 7 # Valor para variables climaticas"
   ]
  },
  {
   "cell_type": "code",
   "execution_count": 4,
   "metadata": {
    "ExecuteTime": {
     "end_time": "2020-04-24T21:49:05.650987Z",
     "start_time": "2020-04-24T21:49:02.978002Z"
    },
    "colab": {
     "base_uri": "https://localhost:8080/",
     "height": 0
    },
    "colab_type": "code",
    "hidden": true,
    "id": "q6eMT5bpZKA0",
    "outputId": "8ec8b204-9313-4698-c6d7-92fc1f995f3c"
   },
   "outputs": [],
   "source": [
    "import time\n",
    "#importar datos y librerias\n",
    "\n",
    "import numpy as np\n",
    "import pandas as pd\n",
    "import matplotlib.pyplot as plt\n",
    "\n",
    "from datetime import datetime\n",
    "from scipy import signal\n",
    "from scipy import special\n",
    "from scipy.ndimage.interpolation import shift\n",
    "\n",
    "import sklearn\n",
    "from sklearn.linear_model import LinearRegression\n",
    "from statsmodels.tsa.seasonal import seasonal_decompose\n",
    "from sklearn.model_selection import train_test_split\n",
    "# from pmdarima.arima import auto_arima\n",
    "# from statsmodels.tsa.arima_model import ARIMA\n",
    "from sklearn import linear_model\n",
    "from sklearn.linear_model import Lasso\n",
    "from sklearn.model_selection import train_test_split\n",
    "from sklearn.decomposition import PCA\n",
    "\n",
    "import warnings\n",
    "warnings.filterwarnings(\"ignore\", category=RuntimeWarning)\n",
    "%matplotlib inline\n",
    "\n",
    "\n",
    "import cupy as cp\n",
    "from xgboost import XGBRegressor"
   ]
  },
  {
   "cell_type": "markdown",
   "metadata": {
    "colab_type": "text",
    "id": "O2hWPwD6ZKBA"
   },
   "source": [
    "# Funciones"
   ]
  },
  {
   "cell_type": "markdown",
   "metadata": {
    "colab_type": "text",
    "id": "OGEDYWTN4Yyt"
   },
   "source": [
    "**Mape**"
   ]
  },
  {
   "cell_type": "code",
   "execution_count": 5,
   "metadata": {
    "ExecuteTime": {
     "end_time": "2020-04-24T21:49:05.659678Z",
     "start_time": "2020-04-24T21:49:05.654565Z"
    },
    "colab": {},
    "colab_type": "code",
    "id": "9As0Is464XAU"
   },
   "outputs": [],
   "source": [
    "# para calcular el mape\n",
    "def Mape(y,y_pred):\n",
    "    return np.mean(np.abs((y-y_pred)/y))*100"
   ]
  },
  {
   "cell_type": "markdown",
   "metadata": {
    "colab_type": "text",
    "id": "TTGNBpGV4gx2"
   },
   "source": [
    " **Kronecker**"
   ]
  },
  {
   "cell_type": "code",
   "execution_count": 6,
   "metadata": {
    "ExecuteTime": {
     "end_time": "2020-04-24T21:49:05.682875Z",
     "start_time": "2020-04-24T21:49:05.663806Z"
    },
    "colab": {},
    "colab_type": "code",
    "id": "FqOGgPpQ4k8Q"
   },
   "outputs": [],
   "source": [
    "# para hacer kronecker por fila sin GPU\n",
    "def kronecker(data1:'Dataframe 1',data2:'Dataframe 2'):\n",
    "    Combinacion = pd.DataFrame(); d1 = pd.DataFrame()\n",
    "    for i in data2.columns:\n",
    "        d1 = data1.multiply(data2[f\"{i}\"] , axis=\"index\")\n",
    "        d1.columns = [f'{i}_{j}' for j in data1.columns]\n",
    "        Combinacion = pd.concat([Combinacion, d1], axis = 1)\n",
    "    return Combinacion\n",
    "\n",
    "# para hacer kronecker por fila con GPU\n",
    "def corc(data1:'Dataframe 1',data2:'Dataframe 2'):\n",
    "    nom = [f'{i}_{j}' for i in data2.columns for j in data1.columns] # nombres\n",
    "\n",
    "    a = cp.array(data1).T\n",
    "    b = cp.array(data2)\n",
    "    cp.cuda.Stream.null.synchronize() #conversion a Cupy\n",
    "\n",
    "    m, k = a.shape\n",
    "    d = cp.zeros((k, 1))\n",
    "    cp.cuda.Stream.null.synchronize() #vector de ceros para multiplicar\n",
    "\n",
    "    for i in range(m):\n",
    "        c = cp.multiply(a[[i]].T, b)\n",
    "        d = cp.concatenate((d, c), 1)\n",
    "        cp.cuda.Stream.null.synchronize() #kronecker\n",
    "\n",
    "    d = cp.asnumpy(d)       #conversion a numpy\n",
    "    d = np.delete(d, 0, 1)  #eliminar columna de ceros\n",
    "    bob = pd.DataFrame(d, columns = nom) #pandas\n",
    "    return bob"
   ]
  },
  {
   "cell_type": "markdown",
   "metadata": {
    "colab_type": "text",
    "id": "m-N1kHPy4-qG"
   },
   "source": [
    "**Variables difusas**"
   ]
  },
  {
   "cell_type": "code",
   "execution_count": 7,
   "metadata": {
    "ExecuteTime": {
     "end_time": "2020-04-24T21:49:05.702840Z",
     "start_time": "2020-04-24T21:49:05.685871Z"
    },
    "colab": {},
    "colab_type": "code",
    "id": "z5cjSrWwZKBB"
   },
   "outputs": [],
   "source": [
    "# para crear variables difusas\n",
    "def triangular():\n",
    "    \n",
    "    # Se crea x\n",
    "    ma = pd.DataFrame();\n",
    "    x = consumofeb.index.dayofyear.to_list()\n",
    "    # Se crean variables a, b y c\n",
    "    height = difs()\n",
    "    for hei in height:\n",
    "        ba = pd.DataFrame(x, columns=[\"x\"])\n",
    "        ba[\"a\"] = height[hei][0]\n",
    "        ba[\"b\"] = height[hei][1]\n",
    "        ba[\"c\"] = height[hei][2]\n",
    "        # Variable difusa\n",
    "        ca = pd.DataFrame()\n",
    "        ca[\"bo\"] = (ba.x-ba.a)/(ba.b-ba.a)\n",
    "        ca[\"ba\"] = (ba.c-ba.x)/(ba.c-ba.b)\n",
    "        ca = ca.min(axis = 1)\n",
    "        ca[ca<0]=0\n",
    "        ma = pd.concat([ma, ca], axis = 1) # Se concatenan\n",
    "\n",
    "    ma.index = consumofeb.index\n",
    "    ma.columns = height.keys()\n",
    "    return ma"
   ]
  },
  {
   "cell_type": "markdown",
   "metadata": {
    "colab_type": "text",
    "heading_collapsed": true,
    "id": "GQpe5fpFZKBN"
   },
   "source": [
    "# Cargar datos"
   ]
  },
  {
   "cell_type": "code",
   "execution_count": 8,
   "metadata": {
    "ExecuteTime": {
     "end_time": "2020-04-24T21:49:07.520800Z",
     "start_time": "2020-04-24T21:49:05.706300Z"
    },
    "colab": {},
    "colab_type": "code",
    "hidden": true,
    "id": "ROVJ_4VexmN_"
   },
   "outputs": [],
   "source": [
    "def cargar():\n",
    "    # variables climaticas\n",
    "    consumofeb=pd.read_excel(r'./Consumo_feb.xlsx').set_index(\"fecha\").loc[\"2007-01-01\":\"2020-03-30\"] #desde 2007 hasta 31 de marzo de 2020\n",
    "    Y = consumofeb.values; pca = PCA(n_components=.9).fit(Y) #fit PCA\n",
    "    clima_pca=pca.transform(Y)                               #transform PCA\n",
    "    consumofeb[\"pca1\"]=clima_pca[:,0]; consumofeb[\"pca2\"]=clima_pca[:,1] #agregar PCA\n",
    "\n",
    "    #variables de consumo MWh\n",
    "    consumo=pd.read_excel('./Data1.xlsx').set_index(\"fecha\").loc[\"2007-01-01\":\"2020-03-30\"] \n",
    "    return consumo, consumofeb\n",
    "\n",
    "consumo, consumofeb = cargar()"
   ]
  },
  {
   "cell_type": "code",
   "execution_count": 9,
   "metadata": {
    "ExecuteTime": {
     "end_time": "2020-04-24T21:49:07.537479Z",
     "start_time": "2020-04-24T21:49:07.525405Z"
    },
    "colab": {
     "base_uri": "https://localhost:8080/",
     "height": 0
    },
    "colab_type": "code",
    "hidden": true,
    "id": "6xf-uenZZKBg",
    "outputId": "9c01c14a-1861-4e20-837e-1b43fd6e463e"
   },
   "outputs": [
    {
     "name": "stdout",
     "output_type": "stream",
     "text": [
      "ok\n"
     ]
    }
   ],
   "source": [
    "if len(consumofeb.index) == len(consumo.index): print(\"ok\") # confirmar que ambos documentos tengan la misma longitud"
   ]
  },
  {
   "cell_type": "code",
   "execution_count": 10,
   "metadata": {
    "ExecuteTime": {
     "end_time": "2020-04-24T21:49:07.571858Z",
     "start_time": "2020-04-24T21:49:07.543090Z"
    },
    "hidden": true
   },
   "outputs": [
    {
     "data": {
      "text/html": [
       "<div>\n",
       "<style scoped>\n",
       "    .dataframe tbody tr th:only-of-type {\n",
       "        vertical-align: middle;\n",
       "    }\n",
       "\n",
       "    .dataframe tbody tr th {\n",
       "        vertical-align: top;\n",
       "    }\n",
       "\n",
       "    .dataframe thead th {\n",
       "        text-align: right;\n",
       "    }\n",
       "</style>\n",
       "<table border=\"1\" class=\"dataframe\">\n",
       "  <thead>\n",
       "    <tr style=\"text-align: right;\">\n",
       "      <th></th>\n",
       "      <th>mín</th>\n",
       "      <th>max</th>\n",
       "      <th>prom</th>\n",
       "      <th>Nubosidad</th>\n",
       "      <th>Lluvia</th>\n",
       "      <th>Velocidad_viento</th>\n",
       "      <th>pca1</th>\n",
       "      <th>pca2</th>\n",
       "    </tr>\n",
       "    <tr>\n",
       "      <th>fecha</th>\n",
       "      <th></th>\n",
       "      <th></th>\n",
       "      <th></th>\n",
       "      <th></th>\n",
       "      <th></th>\n",
       "      <th></th>\n",
       "      <th></th>\n",
       "      <th></th>\n",
       "    </tr>\n",
       "  </thead>\n",
       "  <tbody>\n",
       "    <tr>\n",
       "      <th>2020-03-26</th>\n",
       "      <td>11.586795</td>\n",
       "      <td>30.143811</td>\n",
       "      <td>20.865303</td>\n",
       "      <td>12.5</td>\n",
       "      <td>0.0</td>\n",
       "      <td>8.566490</td>\n",
       "      <td>-17.756094</td>\n",
       "      <td>5.229643</td>\n",
       "    </tr>\n",
       "    <tr>\n",
       "      <th>2020-03-27</th>\n",
       "      <td>11.157733</td>\n",
       "      <td>27.367474</td>\n",
       "      <td>19.262604</td>\n",
       "      <td>12.5</td>\n",
       "      <td>0.0</td>\n",
       "      <td>7.644608</td>\n",
       "      <td>-17.889096</td>\n",
       "      <td>6.381723</td>\n",
       "    </tr>\n",
       "    <tr>\n",
       "      <th>2020-03-28</th>\n",
       "      <td>11.794835</td>\n",
       "      <td>28.818809</td>\n",
       "      <td>20.306822</td>\n",
       "      <td>12.5</td>\n",
       "      <td>0.0</td>\n",
       "      <td>8.213464</td>\n",
       "      <td>-17.763601</td>\n",
       "      <td>5.615300</td>\n",
       "    </tr>\n",
       "    <tr>\n",
       "      <th>2020-03-29</th>\n",
       "      <td>12.612114</td>\n",
       "      <td>30.435102</td>\n",
       "      <td>21.523608</td>\n",
       "      <td>12.5</td>\n",
       "      <td>0.0</td>\n",
       "      <td>7.901533</td>\n",
       "      <td>-17.598824</td>\n",
       "      <td>4.855239</td>\n",
       "    </tr>\n",
       "    <tr>\n",
       "      <th>2020-03-30</th>\n",
       "      <td>12.128960</td>\n",
       "      <td>29.058100</td>\n",
       "      <td>20.593530</td>\n",
       "      <td>12.5</td>\n",
       "      <td>0.0</td>\n",
       "      <td>7.164680</td>\n",
       "      <td>-17.699049</td>\n",
       "      <td>5.565520</td>\n",
       "    </tr>\n",
       "  </tbody>\n",
       "</table>\n",
       "</div>"
      ],
      "text/plain": [
       "                  mín        max       prom  Nubosidad  Lluvia  \\\n",
       "fecha                                                            \n",
       "2020-03-26  11.586795  30.143811  20.865303       12.5     0.0   \n",
       "2020-03-27  11.157733  27.367474  19.262604       12.5     0.0   \n",
       "2020-03-28  11.794835  28.818809  20.306822       12.5     0.0   \n",
       "2020-03-29  12.612114  30.435102  21.523608       12.5     0.0   \n",
       "2020-03-30  12.128960  29.058100  20.593530       12.5     0.0   \n",
       "\n",
       "            Velocidad_viento       pca1      pca2  \n",
       "fecha                                              \n",
       "2020-03-26          8.566490 -17.756094  5.229643  \n",
       "2020-03-27          7.644608 -17.889096  6.381723  \n",
       "2020-03-28          8.213464 -17.763601  5.615300  \n",
       "2020-03-29          7.901533 -17.598824  4.855239  \n",
       "2020-03-30          7.164680 -17.699049  5.565520  "
      ]
     },
     "execution_count": 10,
     "metadata": {},
     "output_type": "execute_result"
    }
   ],
   "source": [
    "consumofeb.tail()"
   ]
  },
  {
   "cell_type": "markdown",
   "metadata": {
    "colab_type": "text",
    "hidden": true,
    "id": "7Ist4d1yZKBs"
   },
   "source": [
    "-  Para graficar"
   ]
  },
  {
   "cell_type": "markdown",
   "metadata": {
    "colab_type": "text",
    "heading_collapsed": true,
    "id": "Qx5efxfeZKBx"
   },
   "source": [
    "# Variables climaticas"
   ]
  },
  {
   "cell_type": "markdown",
   "metadata": {
    "colab_type": "text",
    "hidden": true,
    "id": "FDNtZwbrZKBl"
   },
   "source": [
    "**Variables difusas** "
   ]
  },
  {
   "cell_type": "code",
   "execution_count": 11,
   "metadata": {
    "ExecuteTime": {
     "end_time": "2020-04-24T21:49:07.586971Z",
     "start_time": "2020-04-24T21:49:07.576679Z"
    },
    "colab": {},
    "colab_type": "code",
    "hidden": true,
    "id": "7lEq7yJMZKBm"
   },
   "outputs": [],
   "source": [
    "def difs():\n",
    "    # Inicializar posicion de datos\n",
    "\n",
    "    inv1 = [310.5-365.25, 8.6529, 138.941176470588]\n",
    "    pr = [8.6529, 138.941176470588, 221.9375]\n",
    "    vr = [138.941176470588, 221.9375, 310.5]\n",
    "    ot = [221.9375, 310.5, 365.25+8.6529]\n",
    "    ot2 = [221.9375-365.25, 310.5-365.25, 8.6529]\n",
    "    inv2 = [310.5, 365.25+8.6529, 365.25+138.941176470588]\n",
    "\n",
    "    height = {'Invierno1': inv1,'Primavera': pr,'verano': vr,'Otoño': ot,'Otoño2': ot2,'Invierno2': inv2,} \n",
    "    return height"
   ]
  },
  {
   "cell_type": "code",
   "execution_count": 12,
   "metadata": {
    "ExecuteTime": {
     "end_time": "2020-04-24T21:49:07.598334Z",
     "start_time": "2020-04-24T21:49:07.592663Z"
    },
    "colab": {},
    "colab_type": "code",
    "hidden": true,
    "id": "nUHI3krzZKBt"
   },
   "outputs": [],
   "source": [
    "# triangular().iplot()"
   ]
  },
  {
   "cell_type": "code",
   "execution_count": 13,
   "metadata": {
    "ExecuteTime": {
     "end_time": "2020-04-24T21:49:07.626905Z",
     "start_time": "2020-04-24T21:49:07.602822Z"
    },
    "colab": {},
    "colab_type": "code",
    "hidden": true,
    "id": "auVFztYRZKBx"
   },
   "outputs": [],
   "source": [
    "def pba(j, n):\n",
    "    # armonicos\n",
    "    f, asd = signal.periodogram(consumofeb[j], 1)\n",
    "#     plt.figure()\n",
    "#     plt.plot(1/f, asd)\n",
    "    picos = pd.DataFrame(asd, 1/(f), columns=[\"potencia\"])\n",
    "    picos = picos.sort_values(by=\"potencia\",ascending=False).reset_index().head(12)\n",
    "    picos.columns = [\"periodo\", \"potencia\"]\n",
    "    #fourier\n",
    "    sencos = pd.DataFrame(index = consumofeb.index)\n",
    "    t = np.arange(1,len(consumofeb)+1)\n",
    "    sencos[\"t\"]=t\n",
    "    for i  in  picos.periodo:\n",
    "            sencos[f\"{i:.2f}_sen\"] = np.abs(np.sin(((2*np.pi)/(i))*t))\n",
    "            sencos[f\"{i:.2f}_cos\"] = np.abs(np.cos(((2*np.pi)/(i))*t))\n",
    "    sencos['ones']=1\n",
    "    sencos['sen1']=np.abs(np.sin(((2*np.pi)/(365.25))*t))\n",
    "    sencos['cos1']=np.abs(np.cos(((2*np.pi)/(365.25))*t))\n",
    "    \n",
    "    sencos=kronecker(sencos, triangular())\n",
    "    #regresion\n",
    "    X_train, X_test, y_train, y_test = train_test_split(sencos, consumofeb[j], test_size=n, shuffle = False)\n",
    "    \n",
    "    reg = LinearRegression(n_jobs=-1).fit(X_train, y_train)\n",
    "    y_predict=reg.predict(X_test)\n",
    "    \n",
    "#     plt.figure()\n",
    "#     plt.plot(y_test , label=\"real\")\n",
    "#     plt.plot(y_test.index, y_predict,label=\"predicción\")\n",
    "\n",
    "#     plt.figure()\n",
    "#     plt.plot(y_train)\n",
    "#     plt.plot(y_train.index, reg.predict(X_train))\n",
    "#     print(Mape(y_train,reg.predict(X_train),1))\n",
    "    \n",
    "    nov=pd.DataFrame(np.concatenate([reg.predict(X_train),y_predict]),index=consumofeb.index,columns=[f\"{j}\"])\n",
    "\n",
    "    return nov"
   ]
  },
  {
   "cell_type": "code",
   "execution_count": 14,
   "metadata": {
    "ExecuteTime": {
     "end_time": "2020-04-24T21:49:07.639572Z",
     "start_time": "2020-04-24T21:49:07.631347Z"
    },
    "colab": {},
    "colab_type": "code",
    "hidden": true,
    "id": "5C_YKhC3ZKB2"
   },
   "outputs": [],
   "source": [
    "# pba(\"pca1\", 1)"
   ]
  },
  {
   "cell_type": "code",
   "execution_count": 15,
   "metadata": {
    "ExecuteTime": {
     "end_time": "2020-04-24T21:49:07.652444Z",
     "start_time": "2020-04-24T21:49:07.642681Z"
    },
    "colab": {},
    "colab_type": "code",
    "hidden": true,
    "id": "ej9iPVA-ZKB5"
   },
   "outputs": [],
   "source": [
    "def modelosclima(n):\n",
    "    ca = pd.DataFrame(index = consumo.index)\n",
    "    for i in consumofeb.columns:\n",
    "        ca = pd.concat([ca, pba(i, n)], axis = 1)\n",
    "    return ca"
   ]
  },
  {
   "cell_type": "code",
   "execution_count": 16,
   "metadata": {
    "ExecuteTime": {
     "end_time": "2020-04-24T21:49:12.320916Z",
     "start_time": "2020-04-24T21:49:07.656531Z"
    },
    "colab": {},
    "colab_type": "code",
    "hidden": true,
    "id": "oNODq8lJZKB-"
   },
   "outputs": [],
   "source": [
    "# Se corre y guarda en una variable los datos de clima predichos\n",
    "modclima = modelosclima(c)"
   ]
  },
  {
   "cell_type": "markdown",
   "metadata": {
    "colab_type": "text",
    "heading_collapsed": true,
    "id": "vM6tw3OMZKCC"
   },
   "source": [
    "# Variables festivos"
   ]
  },
  {
   "cell_type": "code",
   "execution_count": 17,
   "metadata": {
    "ExecuteTime": {
     "end_time": "2020-04-24T21:49:12.362142Z",
     "start_time": "2020-04-24T21:49:12.322681Z"
    },
    "colab": {},
    "colab_type": "code",
    "hidden": true,
    "id": "igC2IVjMZKCD"
   },
   "outputs": [],
   "source": [
    "def festivos():\n",
    "    festivos=pd.read_excel('./Festivos.xlsx')\n",
    "    festivos2=pd.read_excel('./Festivos2 (1).xlsx')\n",
    "\n",
    "    Dum = pd.DataFrame(index = consumo.index)\n",
    "\n",
    "    for col in festivos.columns:\n",
    "        Dum[f\"{col}\"] = consumo.index.isin(festivos[f\"{col}\"])\n",
    "        Dum[col] = Dum[col].replace([False, True],[0, 1])\n",
    "        clean = Dum[col].values\n",
    "        Dum[col] = Dum[col]+shift(clean, 1, cval=0)*.4\n",
    "        Dum[col] = Dum[col]+shift(clean, -1, cval=0)*.4\n",
    "        Dum[col] = Dum[col]+shift(clean, 2, cval=0)*.1\n",
    "        Dum[col] = Dum[col]+shift(clean, -2, cval=0)*.1\n",
    "        Dum[col] = Dum[col]/2\n",
    "\n",
    "    Dum[\"ones\"] = 1\n",
    "    Dum[\"t\"]=np.arange(1,len(consumo.index)+1)    \n",
    "    \n",
    "    for col in festivos2.columns:\n",
    "        Dum[col] = consumo.index.isin(festivos2[col])\n",
    "    Dum = Dum.replace([False, True],[0, 1])\n",
    "    \n",
    "    return Dum"
   ]
  },
  {
   "cell_type": "code",
   "execution_count": 18,
   "metadata": {
    "ExecuteTime": {
     "end_time": "2020-04-24T21:49:12.373222Z",
     "start_time": "2020-04-24T21:49:12.366111Z"
    },
    "colab": {},
    "colab_type": "code",
    "hidden": true,
    "id": "ppKf-OHnZKCI"
   },
   "outputs": [],
   "source": [
    "# festivos()"
   ]
  },
  {
   "cell_type": "markdown",
   "metadata": {
    "colab_type": "text",
    "heading_collapsed": true,
    "id": "SjwTup0gZKCN"
   },
   "source": [
    "# Todas las variables dependientes (dummies)"
   ]
  },
  {
   "cell_type": "code",
   "execution_count": 19,
   "metadata": {
    "ExecuteTime": {
     "end_time": "2020-04-24T21:49:12.420969Z",
     "start_time": "2020-04-24T21:49:12.378077Z"
    },
    "colab": {},
    "colab_type": "code",
    "hidden": true,
    "id": "FiGdcNWsZKCN"
   },
   "outputs": [],
   "source": [
    "def dummies(n):   \n",
    "    # variables eureka y clima\n",
    "    consumo2 = pd.DataFrame(index=consumo.index)\n",
    "    consumo2[\"num\"] = np.arange(1,len(consumo.index)+1)\n",
    "    consumo2[\"day\"] = consumo.index.weekday\n",
    "    consumo2[\"eureka1\"] = consumo2.day**3\n",
    "    consumo2[\"eureka2\"] = modclima[\"max\"]*consumo2.num\n",
    "    consumo2[\"month\"] = consumo.index.month\n",
    "    X = consumo2.join(modclima)\n",
    "    # normalizacion eureka-clima\n",
    "    X_norm = X/X.max()\n",
    "    \n",
    "    # variables gplearn\n",
    "    X_norm[\"gplearn1\"]=np.cos(X_norm.day)*X_norm.num\n",
    "    X_norm[\"gplearn2\"]=X_norm.num*X_norm[\"mín\"]\n",
    "    X_norm[\"gplearn3\"]=3.319**X_norm[\"max\"]*np.cos(X_norm.day)\n",
    "    X_norm[\"gplearn8\"]=3.319**X_norm[\"max\"]*X_norm.num \n",
    "    X_norm[\"gplearn4\"]=np.cos(X_norm.day)*np.sin(X_norm.day)\n",
    "    X_norm[\"gplearn6\"]=X_norm[\"max\"]**2*X_norm[\"mín\"]**2\n",
    "    X_norm[\"gplearn7\"]=1/np.cos(X_norm.day)\n",
    "    X_norm[\"gplearn10\"]=X_norm[\"max\"]*X_norm[\"mín\"]**3*np.cos(X_norm.month)**2\n",
    "    \n",
    "    X_norm=X_norm.drop(['mín', 'max', 'Nubosidad',\"prom\", 'Lluvia', 'Velocidad_viento'],axis=1)\n",
    "    # variables dummies\n",
    "    X_norm = pd.get_dummies(X_norm, columns=[\"month\", \"day\"], prefix=[\"month\", \"day\"], drop_first=True)\n",
    "\n",
    "    # variables festivos y difusa de clima\n",
    "    X_norm = X_norm.join(festivos())\n",
    "    X_norm = X_norm.join(triangular())\n",
    "    \n",
    "    # variables entre y fin\n",
    "    X_norm[\"fin\"]=consumo.index.weekday\n",
    "    X_norm[\"entre\"]=consumo.index.weekday\n",
    "    X_norm[\"fin\"]=X_norm[\"fin\"].replace([0,1,2,3,4,5,6],[.5,0,0,0,.5,1,1])\n",
    "    X_norm[\"entre\"]=X_norm[\"entre\"].replace([0,1,2,3,4,5,6],[.5,1,1,1,.5,0,0])\n",
    "    return X_norm"
   ]
  },
  {
   "cell_type": "markdown",
   "metadata": {
    "colab_type": "text",
    "heading_collapsed": true,
    "id": "rUkgGDVnZKCV"
   },
   "source": [
    "# Separar train-test"
   ]
  },
  {
   "cell_type": "code",
   "execution_count": 20,
   "metadata": {
    "ExecuteTime": {
     "end_time": "2020-04-24T21:49:12.435930Z",
     "start_time": "2020-04-24T21:49:12.425949Z"
    },
    "colab": {},
    "colab_type": "code",
    "hidden": true,
    "id": "PuciRChrZKCW"
   },
   "outputs": [],
   "source": [
    "def separar(n, X, y):\n",
    "    # separar X y Y\n",
    "    X_train, X_test, y_train, y_test = train_test_split(X, y, \\\n",
    "                                                  test_size = n, shuffle = False)\n",
    "    return (X_train, X_test), (y_train, y_test)"
   ]
  },
  {
   "cell_type": "markdown",
   "metadata": {
    "colab_type": "text",
    "heading_collapsed": true,
    "id": "vgPOo__uZKCa"
   },
   "source": [
    "# Primer regresion"
   ]
  },
  {
   "cell_type": "code",
   "execution_count": 21,
   "metadata": {
    "ExecuteTime": {
     "end_time": "2020-04-24T21:49:12.461015Z",
     "start_time": "2020-04-24T21:49:12.444901Z"
    },
    "colab": {},
    "colab_type": "code",
    "hidden": true,
    "id": "r6GyfGsWZKCa"
   },
   "outputs": [],
   "source": [
    "def reg(n, pre_forc): # n = 7 , pre_for = \"general\" o \"forcasting\"\n",
    "    # cargar X y Y\n",
    "    y = consumo; X = dummies(n)\n",
    "    # Se obtienen los datos separados\n",
    "    Xo, yo = separar(n, X, y)  \n",
    "    # Decision \"general\" \"forcasting\"\n",
    "    if pre_forc == \"general\": pre_forc = 0\n",
    "    elif pre_forc == \"forcasting\": pre_forc = 1\n",
    "    else: print(f\"expected `general` or `forcasting`, got {pre_forc} instead\")\n",
    "    # regresion y predeccion    \n",
    "    reg = LinearRegression(n_jobs =-1).fit(Xo[0], yo[0])\n",
    "    y_predict=reg.predict(Xo[pre_forc])\n",
    "    \n",
    "    # dataframe real-predict- resta\n",
    "    comp = pd.DataFrame(y_predict, columns = [\"predict\"],index = yo[pre_forc].index)\n",
    "    comp[\"real\"] = yo[pre_forc]; comp[\"resta\"] = comp.real - comp.predict\n",
    "    return comp"
   ]
  },
  {
   "cell_type": "markdown",
   "metadata": {
    "colab_type": "text",
    "hidden": true,
    "id": "xSLrLtOAZKCe"
   },
   "source": [
    "- Para graficar"
   ]
  },
  {
   "cell_type": "code",
   "execution_count": 22,
   "metadata": {
    "ExecuteTime": {
     "end_time": "2020-04-24T21:49:12.478954Z",
     "start_time": "2020-04-24T21:49:12.467983Z"
    },
    "colab": {},
    "colab_type": "code",
    "hidden": true,
    "id": "vCvHtapnZKCf"
   },
   "outputs": [],
   "source": [
    "def visual1():\n",
    "    regio = reg(n, \"general\")\n",
    "    rego = regio[[\"predict\", \"real\"]]\n",
    "    \n",
    "    rego.iplot(title = f\"general: {Mape(*rego.values.T)}\")\n",
    "    regio.resta.iplot(title = \"resta\")\n",
    "    \n",
    "    regal = reg(n, \"forcasting\")[[\"predict\", \"real\"]]\n",
    "    regal.iplot(title = f\"forcasting: {Mape(*regal.values.T)}\")"
   ]
  },
  {
   "cell_type": "code",
   "execution_count": 23,
   "metadata": {
    "ExecuteTime": {
     "end_time": "2020-04-24T21:49:12.492078Z",
     "start_time": "2020-04-24T21:49:12.485097Z"
    },
    "colab": {},
    "colab_type": "code",
    "hidden": true,
    "id": "ZsXJOenwZKCl"
   },
   "outputs": [],
   "source": [
    "# visual1(7)"
   ]
  },
  {
   "cell_type": "markdown",
   "metadata": {
    "colab_type": "text",
    "heading_collapsed": true,
    "id": "lCuKekUzZKCp"
   },
   "source": [
    "# Periodos en residuales"
   ]
  },
  {
   "cell_type": "code",
   "execution_count": 24,
   "metadata": {
    "ExecuteTime": {
     "end_time": "2020-04-24T21:49:12.512023Z",
     "start_time": "2020-04-24T21:49:12.498064Z"
    },
    "colab": {},
    "colab_type": "code",
    "hidden": true,
    "id": "z9RYOJyYZKCp"
   },
   "outputs": [],
   "source": [
    "def perio(n, fg):\n",
    "    # Periodograma de resta real - pred\n",
    "    reg1 = reg(n, fg)\n",
    "    \n",
    "    f, asd = signal.periodogram(reg1.resta, 1)\n",
    "    \n",
    "#     # graficar\n",
    "#     plt.plot(1/f, asd); plt.xlabel('periodo'); plt.ylabel('PSD')\n",
    "\n",
    "    # DataFrame con columna de potencia y columna de \n",
    "    picos = pd.DataFrame(asd, columns=[\"potencia\"])\n",
    "    picos[\"periodo\"] = 1/f\n",
    "    picos = picos.sort_values(by=\"potencia\",ascending=False).reset_index(drop = True).head(12)\n",
    "    return picos[2:12]"
   ]
  },
  {
   "cell_type": "code",
   "execution_count": 25,
   "metadata": {
    "ExecuteTime": {
     "end_time": "2020-04-24T21:49:12.522994Z",
     "start_time": "2020-04-24T21:49:12.516014Z"
    },
    "colab": {},
    "colab_type": "code",
    "hidden": true,
    "id": "HGHCbXpZZKCt"
   },
   "outputs": [],
   "source": [
    "# perio(7, \"general\")"
   ]
  },
  {
   "cell_type": "markdown",
   "metadata": {
    "colab_type": "text",
    "heading_collapsed": true,
    "id": "zRjD5OEqZKCy"
   },
   "source": [
    "# Kronecker Sencos-dummies"
   ]
  },
  {
   "cell_type": "code",
   "execution_count": 26,
   "metadata": {
    "ExecuteTime": {
     "end_time": "2020-04-24T21:49:12.561895Z",
     "start_time": "2020-04-24T21:49:12.527980Z"
    },
    "colab": {},
    "colab_type": "code",
    "hidden": true,
    "id": "K0-7YPt5ZKC7"
   },
   "outputs": [],
   "source": [
    "def kron(n):\n",
    "    # Se llama a X y a Y\n",
    "    X = dummies(n) \n",
    "    # Se crea dataframe de fourier\n",
    "    sencos = pd.DataFrame()\n",
    "    t = np.arange(1,len(consumo.MWh)+1)\n",
    "    sencos[\"t\"]=t\n",
    "    \n",
    "    # Mando llamar la funcion de armonicos\n",
    "    p = perio(n, \"general\")\n",
    "    \n",
    "    # fourier\n",
    "    for i  in  p.periodo:\n",
    "            sencos[\"{}_sen\".format(i)] = np.abs(np.sin(((2*np.pi)/(i))*t))\n",
    "            sencos[\"{}_cos\".format(i)] = np.abs(np.cos(((2*np.pi)/(i))*t))\n",
    "    sencos['ones']=1\n",
    "    sencos['sen']=np.abs(np.sin(((2*np.pi)/14)*t))\n",
    "    sencos['cos']=np.abs(np.cos(((2*np.pi)/14)*t))\n",
    "    sencos['sen1']=np.abs(np.sin(((2*np.pi)/(365.25))*t))\n",
    "    sencos['cos1']=np.abs(np.cos(((2*np.pi)/(365.25))*t))\n",
    "    sencos['sen2']=np.abs(np.sin(((2*np.pi)/(28))*t))\n",
    "    sencos['cos2']=np.abs(np.cos(((2*np.pi)/(28))*t))\n",
    "#     sencos['sen3']=np.abs(np.sin(((2*np.pi)/(241.25))*t))\n",
    "#     sencos['cos3']=np.abs(np.cos(((2*np.pi)/(241.25))*t))\n",
    "    sencos.index =consumo.index\n",
    "    \n",
    "    # Kronecker\n",
    "    combination=corc(X, sencos)\n",
    "    return combination"
   ]
  },
  {
   "cell_type": "markdown",
   "metadata": {
    "colab_type": "text",
    "heading_collapsed": true,
    "id": "tt_KVYnPZKC-"
   },
   "source": [
    "# Segunda regresion"
   ]
  },
  {
   "cell_type": "code",
   "execution_count": 27,
   "metadata": {
    "ExecuteTime": {
     "end_time": "2020-04-24T21:49:12.593810Z",
     "start_time": "2020-04-24T21:49:12.566883Z"
    },
    "colab": {},
    "colab_type": "code",
    "hidden": true,
    "id": "TP_sAflPZKC_"
   },
   "outputs": [],
   "source": [
    "def reg2(n, pre_forc): # n = 7 , pre_for = \"general\" o \"forcasting\"\n",
    "    # Se llama a X y a Y\n",
    "    X = kron(n); y = consumo\n",
    "    \n",
    "    # split\n",
    "    Xo, yo = separar(n, X, y) \n",
    "    \n",
    "    # Decision \"general\" \"forcasting\"\n",
    "    if pre_forc == \"general\": pre_forc = 0\n",
    "    elif pre_forc == \"forcasting\": pre_forc = 1\n",
    "    else: print(f\"expected `general` or `forcasting`, got {pre_forc} instead\")\n",
    "        \n",
    "    # regresion y predeccion    \n",
    "    reg = LinearRegression(n_jobs =-1).fit(Xo[0], yo[0])\n",
    "    y_predict=reg.predict(Xo[pre_forc])\n",
    "    \n",
    "    # dataframe real-predict- resta\n",
    "    comp = pd.DataFrame(y_predict, columns = [\"predict\"],index = yo[pre_forc].index)\n",
    "    comp[\"real\"] = yo[pre_forc]; comp[\"resta\"] = comp.real - comp.predict\n",
    "    return comp"
   ]
  },
  {
   "cell_type": "markdown",
   "metadata": {
    "colab_type": "text",
    "hidden": true,
    "id": "oTjOn7NBZKDP"
   },
   "source": [
    "- para graficar"
   ]
  },
  {
   "cell_type": "code",
   "execution_count": 28,
   "metadata": {
    "ExecuteTime": {
     "end_time": "2020-04-24T21:49:12.619741Z",
     "start_time": "2020-04-24T21:49:12.604782Z"
    },
    "colab": {},
    "colab_type": "code",
    "hidden": true,
    "id": "pytr28AaZKDP"
   },
   "outputs": [],
   "source": [
    "def visual2(n):\n",
    "    regio = reg2(n, \"general\")\n",
    "    rego = regio[[\"predict\", \"real\"]]\n",
    "    \n",
    "    rego.iplot(title = f\"general: {Mape(*rego.values.T)}\")\n",
    "    regio.resta.iplot(title = \"resta\")\n",
    "    \n",
    "    regal = reg2(n, \"forcasting\")[[\"predict\", \"real\"]]\n",
    "    regal.iplot(title = f\"forcasting: {Mape(*regal.values.T)}\")"
   ]
  },
  {
   "cell_type": "code",
   "execution_count": 29,
   "metadata": {
    "ExecuteTime": {
     "end_time": "2020-04-24T21:49:12.632764Z",
     "start_time": "2020-04-24T21:49:12.625725Z"
    },
    "colab": {},
    "colab_type": "code",
    "hidden": true,
    "id": "KNz7en11ZKDT"
   },
   "outputs": [],
   "source": [
    "# visual2(10)"
   ]
  },
  {
   "cell_type": "markdown",
   "metadata": {
    "colab_type": "text",
    "heading_collapsed": true,
    "id": "xf8-cJfmZKDi"
   },
   "source": [
    "# Tercera regresion"
   ]
  },
  {
   "cell_type": "code",
   "execution_count": 30,
   "metadata": {
    "ExecuteTime": {
     "end_time": "2020-04-24T21:49:12.642954Z",
     "start_time": "2020-04-24T21:49:12.638690Z"
    },
    "colab": {},
    "colab_type": "code",
    "hidden": true,
    "id": "7RZxmRpGZKDx"
   },
   "outputs": [],
   "source": [
    "# def rego(n):\n",
    "#     X = kron(n)\n",
    "#     X_train, X_test, y_train, y_test = train_test_split(X, consumo, test_size = n, shuffle = False)\n",
    "    \n",
    "#     # regresion con lasso # 150, 5\n",
    "#     lasso_reg = XGBRegressor(n_jobs= -1, n_estimators=70, max_depth=3, tree_method='gpu_hist', nthread = -1, objective = \"reg:squarederror\").fit(X_train,y_train)\n",
    "#     y_pred_lass = lasso_reg.predict(X_test)\n",
    "\n",
    "#     # predict, real, resta\n",
    "#     comp = pd.DataFrame(y_pred_lass, columns = [\"predict\"],index = y_test.index)\n",
    "#     comp[\"real\"] = y_test; comp[\"resta\"] = comp.real - comp.predict\n",
    "#     return comp"
   ]
  },
  {
   "cell_type": "code",
   "execution_count": 31,
   "metadata": {
    "ExecuteTime": {
     "end_time": "2020-04-24T21:49:12.653650Z",
     "start_time": "2020-04-24T21:49:12.647667Z"
    },
    "colab": {
     "base_uri": "https://localhost:8080/",
     "height": 34
    },
    "colab_type": "code",
    "hidden": true,
    "id": "LFWMPI9vZKD1",
    "outputId": "1f5ed560-fd6a-4633-9ace-f96765495061"
   },
   "outputs": [],
   "source": [
    "# beg = time.time()\n",
    "# ba = rego(20)\n",
    "# end = time.time()\n",
    "# print(f\" timepo de corrida: {(end - beg)/60} min\")"
   ]
  },
  {
   "cell_type": "code",
   "execution_count": 32,
   "metadata": {
    "ExecuteTime": {
     "end_time": "2020-04-24T21:49:12.663623Z",
     "start_time": "2020-04-24T21:49:12.657640Z"
    },
    "colab": {
     "base_uri": "https://localhost:8080/",
     "height": 336
    },
    "colab_type": "code",
    "hidden": true,
    "id": "jpChue7EZKD6",
    "outputId": "6ec87d3a-bd67-49db-b1ac-6575d25f98c3"
   },
   "outputs": [],
   "source": [
    "# ai = Mape(*ba[[\"predict\", \"real\"]].values.T)\n",
    "# ba[[\"predict\", \"real\"]].plot(title = f\"Mape: {ai:.3f}\")"
   ]
  },
  {
   "cell_type": "markdown",
   "metadata": {
    "colab_type": "text",
    "hidden": true,
    "id": "GcPvX1R2ZKD_"
   },
   "source": [
    "- para graficar"
   ]
  },
  {
   "cell_type": "markdown",
   "metadata": {
    "colab_type": "text",
    "heading_collapsed": true,
    "id": "sJwRJb3nZKEA"
   },
   "source": [
    "# Separado"
   ]
  },
  {
   "cell_type": "markdown",
   "metadata": {
    "hidden": true
   },
   "source": [
    "**Para obtener multiples dataframes**"
   ]
  },
  {
   "cell_type": "code",
   "execution_count": 33,
   "metadata": {
    "ExecuteTime": {
     "end_time": "2020-04-24T21:49:12.677624Z",
     "start_time": "2020-04-24T21:49:12.669608Z"
    },
    "colab": {
     "base_uri": "https://localhost:8080/",
     "height": 34
    },
    "colab_type": "code",
    "hidden": true,
    "id": "xOSE8icYFMJt",
    "outputId": "831261d5-a2f8-4477-de54-d463754c779b"
   },
   "outputs": [],
   "source": [
    "# def banana(n):\n",
    "#     X = kron(n); y = consumo; cas ={}\n",
    "#     for i in range(1, 4):\n",
    "#         j = i*n\n",
    "#         print(j)\n",
    "\n",
    "#         X_train = X.head(len(y)-j); X_test = X.tail(j).head(n)\n",
    "#         y_train = y.head(len(y)-j); y_test = y.tail(j).head(n)\n",
    "\n",
    "#         XGB_reg = XGBRegressor(n_jobs= -1, n_estimators=70, max_depth=3, nthread = -1, objective = \"reg:squarederror\").fit(X_train,y_train)\n",
    "#         y_pred_xgb = XGB_reg.predict(X_test)\n",
    "\n",
    "#         comp = pd.DataFrame(y_pred_xgb, columns = [\"predict\"],index = y_test.index)\n",
    "#         comp[\"real\"] = y_test; comp[\"resta\"] = comp.real - comp.predict\n",
    "\n",
    "#         cas[j] = comp\n",
    "#     return cas\n",
    "\n",
    "# res = banana(10)"
   ]
  },
  {
   "cell_type": "markdown",
   "metadata": {
    "heading_collapsed": true
   },
   "source": [
    "# PSO"
   ]
  },
  {
   "cell_type": "code",
   "execution_count": 34,
   "metadata": {
    "ExecuteTime": {
     "end_time": "2020-04-24T21:49:12.688596Z",
     "start_time": "2020-04-24T21:49:12.682612Z"
    },
    "hidden": true
   },
   "outputs": [],
   "source": [
    "from pyswarm import pso"
   ]
  },
  {
   "cell_type": "code",
   "execution_count": 57,
   "metadata": {
    "ExecuteTime": {
     "end_time": "2020-04-24T22:01:05.976524Z",
     "start_time": "2020-04-24T22:01:05.964555Z"
    },
    "hidden": true
   },
   "outputs": [],
   "source": [
    "def PSO(teef, ne):\n",
    "    n = 7\n",
    "    X = kron(n); y = consumo; mape =[]\n",
    "    for i in range(1, 2):\n",
    "        j = i*n\n",
    "        print(i)\n",
    "\n",
    "        X_train = X.head(len(y)-j); X_test = X.tail(j).head(n)\n",
    "        y_train = y.head(len(y)-j); y_test = y.tail(j).head(n)\n",
    "\n",
    "        XGB_reg = XGBRegressor(n_jobs= -1,n_estimators=int(ne), max_depth=int(teef), nthread = -1, reg_alpha = 1,\\\n",
    "                               objective = \"reg:squarederror\").fit(X_train,y_train)\n",
    "        \n",
    "        y_pred_xgb = XGB_reg.predict(X_test) # tree_method=’gpu_hist’\n",
    "\n",
    "        mape.append(Mape(y_test.values, y_pred_xgb))\n",
    "        print(sum(mape))\n",
    "\n",
    "    return sum(mape)\n",
    "\n",
    "# bon, boy = PSO(10, 70)"
   ]
  },
  {
   "cell_type": "code",
   "execution_count": 58,
   "metadata": {
    "ExecuteTime": {
     "end_time": "2020-04-24T22:01:06.368824Z",
     "start_time": "2020-04-24T22:01:06.353862Z"
    },
    "hidden": true
   },
   "outputs": [
    {
     "ename": "NameError",
     "evalue": "name 'bon' is not defined",
     "output_type": "error",
     "traceback": [
      "\u001b[1;31m---------------------------------------------------------------------------\u001b[0m",
      "\u001b[1;31mNameError\u001b[0m                                 Traceback (most recent call last)",
      "\u001b[1;32m<ipython-input-58-125e79c5e1e0>\u001b[0m in \u001b[0;36m<module>\u001b[1;34m\u001b[0m\n\u001b[1;32m----> 1\u001b[1;33m \u001b[0mplt\u001b[0m\u001b[1;33m.\u001b[0m\u001b[0mplot\u001b[0m\u001b[1;33m(\u001b[0m\u001b[0mbon\u001b[0m\u001b[1;33m)\u001b[0m\u001b[1;33m\u001b[0m\u001b[1;33m\u001b[0m\u001b[0m\n\u001b[0m\u001b[0;32m      2\u001b[0m \u001b[0mplt\u001b[0m\u001b[1;33m.\u001b[0m\u001b[0mplot\u001b[0m\u001b[1;33m(\u001b[0m\u001b[0mboy\u001b[0m\u001b[1;33m)\u001b[0m\u001b[1;33m\u001b[0m\u001b[1;33m\u001b[0m\u001b[0m\n",
      "\u001b[1;31mNameError\u001b[0m: name 'bon' is not defined"
     ]
    }
   ],
   "source": [
    "plt.plot(bon)\n",
    "plt.plot(boy)"
   ]
  },
  {
   "cell_type": "code",
   "execution_count": 59,
   "metadata": {
    "ExecuteTime": {
     "end_time": "2020-04-24T22:01:06.638860Z",
     "start_time": "2020-04-24T22:01:06.635871Z"
    },
    "hidden": true
   },
   "outputs": [],
   "source": [
    "# Aumenta de forma lineal con el teef: 100 10s - 1000 26s\n",
    "# Es constante con n_estimadores : 100 2.24s - 1000 2.14s"
   ]
  },
  {
   "cell_type": "code",
   "execution_count": 60,
   "metadata": {
    "ExecuteTime": {
     "end_time": "2020-04-24T22:01:09.251338Z",
     "start_time": "2020-04-24T22:01:09.244358Z"
    },
    "hidden": true
   },
   "outputs": [],
   "source": [
    "def correr(hi):\n",
    "    pro, num= hi\n",
    "#     for deep, number, leaf\n",
    "    a = time.time()\n",
    "    mape = PSO(pro, num)\n",
    "    b = time.time()\n",
    "    c = b - a\n",
    "    return mape*10 + c"
   ]
  },
  {
   "cell_type": "code",
   "execution_count": 61,
   "metadata": {
    "ExecuteTime": {
     "end_time": "2020-04-24T22:01:13.042664Z",
     "start_time": "2020-04-24T22:01:10.089362Z"
    },
    "hidden": true
   },
   "outputs": [
    {
     "name": "stdout",
     "output_type": "stream",
     "text": [
      "1\n",
      "59.68863740319199\n"
     ]
    },
    {
     "data": {
      "text/plain": [
       "599.8316953534073"
      ]
     },
     "execution_count": 61,
     "metadata": {},
     "output_type": "execute_result"
    }
   ],
   "source": [
    "correr([4, 5])"
   ]
  },
  {
   "cell_type": "code",
   "execution_count": 64,
   "metadata": {
    "ExecuteTime": {
     "end_time": "2020-04-24T22:21:17.223452Z",
     "start_time": "2020-04-24T22:05:22.069498Z"
    },
    "hidden": true
   },
   "outputs": [
    {
     "name": "stdout",
     "output_type": "stream",
     "text": [
      "1\n",
      "6.717519524463472\n",
      "1\n",
      "6.7726597057280875\n",
      "1\n",
      "6.722148802055007\n",
      "1\n",
      "10.915625978528972\n",
      "1\n",
      "66.28215911817318\n",
      "1\n",
      "43.339165716706255\n",
      "1\n",
      "6.726059645246024\n",
      "1\n",
      "6.716868751325639\n",
      "1\n",
      "7.969722672897231\n",
      "1\n",
      "18.036250068506\n",
      "1\n",
      "25.237312676408685\n",
      "1\n",
      "6.740237313373106\n",
      "1\n",
      "6.7202791040529615\n",
      "1\n",
      "6.774516037062995\n",
      "1\n",
      "6.740094566814658\n",
      "1\n",
      "90.95613218852691\n",
      "1\n",
      "90.2332170627671\n",
      "1\n",
      "90.2332170627671\n",
      "1\n",
      "90.2332170627671\n",
      "1\n",
      "6.740158378020437\n",
      "1\n",
      "6.740158378020437\n",
      "1\n"
     ]
    },
    {
     "ename": "KeyboardInterrupt",
     "evalue": "",
     "output_type": "error",
     "traceback": [
      "\u001b[1;31m---------------------------------------------------------------------------\u001b[0m",
      "\u001b[1;31mKeyboardInterrupt\u001b[0m                         Traceback (most recent call last)",
      "\u001b[1;32m<ipython-input-64-40a09a253654>\u001b[0m in \u001b[0;36m<module>\u001b[1;34m\u001b[0m\n\u001b[0;32m      1\u001b[0m \u001b[0mbeg\u001b[0m \u001b[1;33m=\u001b[0m \u001b[0mtime\u001b[0m\u001b[1;33m.\u001b[0m\u001b[0mtime\u001b[0m\u001b[1;33m(\u001b[0m\u001b[1;33m)\u001b[0m\u001b[1;33m\u001b[0m\u001b[1;33m\u001b[0m\u001b[0m\n\u001b[0;32m      2\u001b[0m \u001b[0mlb\u001b[0m\u001b[1;33m=\u001b[0m \u001b[1;33m[\u001b[0m\u001b[0mint\u001b[0m\u001b[1;33m(\u001b[0m\u001b[1;36m1\u001b[0m\u001b[1;33m)\u001b[0m\u001b[1;33m,\u001b[0m \u001b[0mint\u001b[0m\u001b[1;33m(\u001b[0m\u001b[1;36m1\u001b[0m\u001b[1;33m)\u001b[0m\u001b[1;33m]\u001b[0m\u001b[1;33m;\u001b[0m \u001b[0mub\u001b[0m \u001b[1;33m=\u001b[0m \u001b[1;33m[\u001b[0m\u001b[0mint\u001b[0m\u001b[1;33m(\u001b[0m\u001b[1;36m100\u001b[0m\u001b[1;33m)\u001b[0m\u001b[1;33m,\u001b[0m \u001b[0mint\u001b[0m\u001b[1;33m(\u001b[0m\u001b[1;36m100\u001b[0m\u001b[1;33m)\u001b[0m\u001b[1;33m]\u001b[0m\u001b[1;33m\u001b[0m\u001b[1;33m\u001b[0m\u001b[0m\n\u001b[1;32m----> 3\u001b[1;33m \u001b[0mxopt\u001b[0m\u001b[1;33m,\u001b[0m \u001b[0mfopt\u001b[0m \u001b[1;33m=\u001b[0m \u001b[0mpso\u001b[0m\u001b[1;33m(\u001b[0m\u001b[0mcorrer\u001b[0m\u001b[1;33m,\u001b[0m \u001b[0mlb\u001b[0m\u001b[1;33m,\u001b[0m \u001b[0mub\u001b[0m\u001b[1;33m,\u001b[0m \u001b[0mswarmsize\u001b[0m\u001b[1;33m=\u001b[0m\u001b[1;36m15\u001b[0m\u001b[1;33m,\u001b[0m  \u001b[0mmaxiter\u001b[0m\u001b[1;33m=\u001b[0m\u001b[1;36m5\u001b[0m\u001b[1;33m,\u001b[0m \u001b[0mminstep\u001b[0m\u001b[1;33m=\u001b[0m\u001b[1;36m10\u001b[0m\u001b[1;33m,\u001b[0m \u001b[0momega\u001b[0m \u001b[1;33m=\u001b[0m \u001b[1;36m100\u001b[0m\u001b[1;33m)\u001b[0m\u001b[1;33m\u001b[0m\u001b[1;33m\u001b[0m\u001b[0m\n\u001b[0m\u001b[0;32m      4\u001b[0m \u001b[0mend\u001b[0m \u001b[1;33m=\u001b[0m \u001b[0mtime\u001b[0m\u001b[1;33m.\u001b[0m\u001b[0mtime\u001b[0m\u001b[1;33m(\u001b[0m\u001b[1;33m)\u001b[0m\u001b[1;33m\u001b[0m\u001b[1;33m\u001b[0m\u001b[0m\n\u001b[0;32m      5\u001b[0m \u001b[0mprint\u001b[0m\u001b[1;33m(\u001b[0m\u001b[0mend\u001b[0m \u001b[1;33m-\u001b[0m \u001b[0mbeg\u001b[0m\u001b[1;33m)\u001b[0m\u001b[1;33m\u001b[0m\u001b[1;33m\u001b[0m\u001b[0m\n",
      "\u001b[1;32m~\\Anaconda3\\lib\\site-packages\\pyswarm\\pso.py\u001b[0m in \u001b[0;36mpso\u001b[1;34m(func, lb, ub, ieqcons, f_ieqcons, args, kwargs, swarmsize, omega, phip, phig, maxiter, minstep, minfunc, debug)\u001b[0m\n\u001b[0;32m    143\u001b[0m             \u001b[0mx\u001b[0m\u001b[1;33m[\u001b[0m\u001b[0mi\u001b[0m\u001b[1;33m,\u001b[0m \u001b[0mmark1\u001b[0m\u001b[1;33m]\u001b[0m \u001b[1;33m=\u001b[0m \u001b[0mlb\u001b[0m\u001b[1;33m[\u001b[0m\u001b[0mmark1\u001b[0m\u001b[1;33m]\u001b[0m\u001b[1;33m\u001b[0m\u001b[1;33m\u001b[0m\u001b[0m\n\u001b[0;32m    144\u001b[0m             \u001b[0mx\u001b[0m\u001b[1;33m[\u001b[0m\u001b[0mi\u001b[0m\u001b[1;33m,\u001b[0m \u001b[0mmark2\u001b[0m\u001b[1;33m]\u001b[0m \u001b[1;33m=\u001b[0m \u001b[0mub\u001b[0m\u001b[1;33m[\u001b[0m\u001b[0mmark2\u001b[0m\u001b[1;33m]\u001b[0m\u001b[1;33m\u001b[0m\u001b[1;33m\u001b[0m\u001b[0m\n\u001b[1;32m--> 145\u001b[1;33m             \u001b[0mfx\u001b[0m \u001b[1;33m=\u001b[0m \u001b[0mobj\u001b[0m\u001b[1;33m(\u001b[0m\u001b[0mx\u001b[0m\u001b[1;33m[\u001b[0m\u001b[0mi\u001b[0m\u001b[1;33m,\u001b[0m \u001b[1;33m:\u001b[0m\u001b[1;33m]\u001b[0m\u001b[1;33m)\u001b[0m\u001b[1;33m\u001b[0m\u001b[1;33m\u001b[0m\u001b[0m\n\u001b[0m\u001b[0;32m    146\u001b[0m \u001b[1;33m\u001b[0m\u001b[0m\n\u001b[0;32m    147\u001b[0m             \u001b[1;31m# Compare particle's best position (if constraints are satisfied)\u001b[0m\u001b[1;33m\u001b[0m\u001b[1;33m\u001b[0m\u001b[1;33m\u001b[0m\u001b[0m\n",
      "\u001b[1;32m~\\Anaconda3\\lib\\site-packages\\pyswarm\\pso.py\u001b[0m in \u001b[0;36m<lambda>\u001b[1;34m(x)\u001b[0m\n\u001b[0;32m     72\u001b[0m \u001b[1;33m\u001b[0m\u001b[0m\n\u001b[0;32m     73\u001b[0m     \u001b[1;31m# Check for constraint function(s) #########################################\u001b[0m\u001b[1;33m\u001b[0m\u001b[1;33m\u001b[0m\u001b[1;33m\u001b[0m\u001b[0m\n\u001b[1;32m---> 74\u001b[1;33m     \u001b[0mobj\u001b[0m \u001b[1;33m=\u001b[0m \u001b[1;32mlambda\u001b[0m \u001b[0mx\u001b[0m\u001b[1;33m:\u001b[0m \u001b[0mfunc\u001b[0m\u001b[1;33m(\u001b[0m\u001b[0mx\u001b[0m\u001b[1;33m,\u001b[0m \u001b[1;33m*\u001b[0m\u001b[0margs\u001b[0m\u001b[1;33m,\u001b[0m \u001b[1;33m**\u001b[0m\u001b[0mkwargs\u001b[0m\u001b[1;33m)\u001b[0m\u001b[1;33m\u001b[0m\u001b[1;33m\u001b[0m\u001b[0m\n\u001b[0m\u001b[0;32m     75\u001b[0m     \u001b[1;32mif\u001b[0m \u001b[0mf_ieqcons\u001b[0m \u001b[1;32mis\u001b[0m \u001b[1;32mNone\u001b[0m\u001b[1;33m:\u001b[0m\u001b[1;33m\u001b[0m\u001b[1;33m\u001b[0m\u001b[0m\n\u001b[0;32m     76\u001b[0m         \u001b[1;32mif\u001b[0m \u001b[1;32mnot\u001b[0m \u001b[0mlen\u001b[0m\u001b[1;33m(\u001b[0m\u001b[0mieqcons\u001b[0m\u001b[1;33m)\u001b[0m\u001b[1;33m:\u001b[0m\u001b[1;33m\u001b[0m\u001b[1;33m\u001b[0m\u001b[0m\n",
      "\u001b[1;32m<ipython-input-60-244d1e7dee13>\u001b[0m in \u001b[0;36mcorrer\u001b[1;34m(hi)\u001b[0m\n\u001b[0;32m      3\u001b[0m \u001b[1;31m#     for deep, number, leaf\u001b[0m\u001b[1;33m\u001b[0m\u001b[1;33m\u001b[0m\u001b[1;33m\u001b[0m\u001b[0m\n\u001b[0;32m      4\u001b[0m     \u001b[0ma\u001b[0m \u001b[1;33m=\u001b[0m \u001b[0mtime\u001b[0m\u001b[1;33m.\u001b[0m\u001b[0mtime\u001b[0m\u001b[1;33m(\u001b[0m\u001b[1;33m)\u001b[0m\u001b[1;33m\u001b[0m\u001b[1;33m\u001b[0m\u001b[0m\n\u001b[1;32m----> 5\u001b[1;33m     \u001b[0mmape\u001b[0m \u001b[1;33m=\u001b[0m \u001b[0mPSO\u001b[0m\u001b[1;33m(\u001b[0m\u001b[0mpro\u001b[0m\u001b[1;33m,\u001b[0m \u001b[0mnum\u001b[0m\u001b[1;33m)\u001b[0m\u001b[1;33m\u001b[0m\u001b[1;33m\u001b[0m\u001b[0m\n\u001b[0m\u001b[0;32m      6\u001b[0m     \u001b[0mb\u001b[0m \u001b[1;33m=\u001b[0m \u001b[0mtime\u001b[0m\u001b[1;33m.\u001b[0m\u001b[0mtime\u001b[0m\u001b[1;33m(\u001b[0m\u001b[1;33m)\u001b[0m\u001b[1;33m\u001b[0m\u001b[1;33m\u001b[0m\u001b[0m\n\u001b[0;32m      7\u001b[0m     \u001b[0mc\u001b[0m \u001b[1;33m=\u001b[0m \u001b[0mb\u001b[0m \u001b[1;33m-\u001b[0m \u001b[0ma\u001b[0m\u001b[1;33m\u001b[0m\u001b[1;33m\u001b[0m\u001b[0m\n",
      "\u001b[1;32m<ipython-input-57-1f755a3be6ac>\u001b[0m in \u001b[0;36mPSO\u001b[1;34m(teef, ne)\u001b[0m\n\u001b[0;32m     10\u001b[0m \u001b[1;33m\u001b[0m\u001b[0m\n\u001b[0;32m     11\u001b[0m         XGB_reg = XGBRegressor(n_jobs= -1,n_estimators=int(ne), max_depth=int(teef), nthread = -1, reg_alpha = 1,\\\n\u001b[1;32m---> 12\u001b[1;33m                                objective = \"reg:squarederror\").fit(X_train,y_train)\n\u001b[0m\u001b[0;32m     13\u001b[0m \u001b[1;33m\u001b[0m\u001b[0m\n\u001b[0;32m     14\u001b[0m         \u001b[0my_pred_xgb\u001b[0m \u001b[1;33m=\u001b[0m \u001b[0mXGB_reg\u001b[0m\u001b[1;33m.\u001b[0m\u001b[0mpredict\u001b[0m\u001b[1;33m(\u001b[0m\u001b[0mX_test\u001b[0m\u001b[1;33m)\u001b[0m \u001b[1;31m# tree_method=’gpu_hist’\u001b[0m\u001b[1;33m\u001b[0m\u001b[1;33m\u001b[0m\u001b[0m\n",
      "\u001b[1;32m~\\Anaconda3\\lib\\site-packages\\xgboost\\sklearn.py\u001b[0m in \u001b[0;36mfit\u001b[1;34m(self, X, y, sample_weight, eval_set, eval_metric, early_stopping_rounds, verbose, xgb_model, sample_weight_eval_set, callbacks)\u001b[0m\n\u001b[0;32m    394\u001b[0m                               \u001b[0mevals_result\u001b[0m\u001b[1;33m=\u001b[0m\u001b[0mevals_result\u001b[0m\u001b[1;33m,\u001b[0m \u001b[0mobj\u001b[0m\u001b[1;33m=\u001b[0m\u001b[0mobj\u001b[0m\u001b[1;33m,\u001b[0m \u001b[0mfeval\u001b[0m\u001b[1;33m=\u001b[0m\u001b[0mfeval\u001b[0m\u001b[1;33m,\u001b[0m\u001b[1;33m\u001b[0m\u001b[1;33m\u001b[0m\u001b[0m\n\u001b[0;32m    395\u001b[0m                               \u001b[0mverbose_eval\u001b[0m\u001b[1;33m=\u001b[0m\u001b[0mverbose\u001b[0m\u001b[1;33m,\u001b[0m \u001b[0mxgb_model\u001b[0m\u001b[1;33m=\u001b[0m\u001b[0mxgb_model\u001b[0m\u001b[1;33m,\u001b[0m\u001b[1;33m\u001b[0m\u001b[1;33m\u001b[0m\u001b[0m\n\u001b[1;32m--> 396\u001b[1;33m                               callbacks=callbacks)\n\u001b[0m\u001b[0;32m    397\u001b[0m \u001b[1;33m\u001b[0m\u001b[0m\n\u001b[0;32m    398\u001b[0m         \u001b[1;32mif\u001b[0m \u001b[0mevals_result\u001b[0m\u001b[1;33m:\u001b[0m\u001b[1;33m\u001b[0m\u001b[1;33m\u001b[0m\u001b[0m\n",
      "\u001b[1;32m~\\Anaconda3\\lib\\site-packages\\xgboost\\training.py\u001b[0m in \u001b[0;36mtrain\u001b[1;34m(params, dtrain, num_boost_round, evals, obj, feval, maximize, early_stopping_rounds, evals_result, verbose_eval, xgb_model, callbacks, learning_rates)\u001b[0m\n\u001b[0;32m    214\u001b[0m                            \u001b[0mevals\u001b[0m\u001b[1;33m=\u001b[0m\u001b[0mevals\u001b[0m\u001b[1;33m,\u001b[0m\u001b[1;33m\u001b[0m\u001b[1;33m\u001b[0m\u001b[0m\n\u001b[0;32m    215\u001b[0m                            \u001b[0mobj\u001b[0m\u001b[1;33m=\u001b[0m\u001b[0mobj\u001b[0m\u001b[1;33m,\u001b[0m \u001b[0mfeval\u001b[0m\u001b[1;33m=\u001b[0m\u001b[0mfeval\u001b[0m\u001b[1;33m,\u001b[0m\u001b[1;33m\u001b[0m\u001b[1;33m\u001b[0m\u001b[0m\n\u001b[1;32m--> 216\u001b[1;33m                            xgb_model=xgb_model, callbacks=callbacks)\n\u001b[0m\u001b[0;32m    217\u001b[0m \u001b[1;33m\u001b[0m\u001b[0m\n\u001b[0;32m    218\u001b[0m \u001b[1;33m\u001b[0m\u001b[0m\n",
      "\u001b[1;32m~\\Anaconda3\\lib\\site-packages\\xgboost\\training.py\u001b[0m in \u001b[0;36m_train_internal\u001b[1;34m(params, dtrain, num_boost_round, evals, obj, feval, xgb_model, callbacks)\u001b[0m\n\u001b[0;32m     72\u001b[0m         \u001b[1;31m# Skip the first update if it is a recovery step.\u001b[0m\u001b[1;33m\u001b[0m\u001b[1;33m\u001b[0m\u001b[1;33m\u001b[0m\u001b[0m\n\u001b[0;32m     73\u001b[0m         \u001b[1;32mif\u001b[0m \u001b[0mversion\u001b[0m \u001b[1;33m%\u001b[0m \u001b[1;36m2\u001b[0m \u001b[1;33m==\u001b[0m \u001b[1;36m0\u001b[0m\u001b[1;33m:\u001b[0m\u001b[1;33m\u001b[0m\u001b[1;33m\u001b[0m\u001b[0m\n\u001b[1;32m---> 74\u001b[1;33m             \u001b[0mbst\u001b[0m\u001b[1;33m.\u001b[0m\u001b[0mupdate\u001b[0m\u001b[1;33m(\u001b[0m\u001b[0mdtrain\u001b[0m\u001b[1;33m,\u001b[0m \u001b[0mi\u001b[0m\u001b[1;33m,\u001b[0m \u001b[0mobj\u001b[0m\u001b[1;33m)\u001b[0m\u001b[1;33m\u001b[0m\u001b[1;33m\u001b[0m\u001b[0m\n\u001b[0m\u001b[0;32m     75\u001b[0m             \u001b[0mbst\u001b[0m\u001b[1;33m.\u001b[0m\u001b[0msave_rabit_checkpoint\u001b[0m\u001b[1;33m(\u001b[0m\u001b[1;33m)\u001b[0m\u001b[1;33m\u001b[0m\u001b[1;33m\u001b[0m\u001b[0m\n\u001b[0;32m     76\u001b[0m             \u001b[0mversion\u001b[0m \u001b[1;33m+=\u001b[0m \u001b[1;36m1\u001b[0m\u001b[1;33m\u001b[0m\u001b[1;33m\u001b[0m\u001b[0m\n",
      "\u001b[1;32m~\\Anaconda3\\lib\\site-packages\\xgboost\\core.py\u001b[0m in \u001b[0;36mupdate\u001b[1;34m(self, dtrain, iteration, fobj)\u001b[0m\n\u001b[0;32m   1107\u001b[0m         \u001b[1;32mif\u001b[0m \u001b[0mfobj\u001b[0m \u001b[1;32mis\u001b[0m \u001b[1;32mNone\u001b[0m\u001b[1;33m:\u001b[0m\u001b[1;33m\u001b[0m\u001b[1;33m\u001b[0m\u001b[0m\n\u001b[0;32m   1108\u001b[0m             _check_call(_LIB.XGBoosterUpdateOneIter(self.handle, ctypes.c_int(iteration),\n\u001b[1;32m-> 1109\u001b[1;33m                                                     dtrain.handle))\n\u001b[0m\u001b[0;32m   1110\u001b[0m         \u001b[1;32melse\u001b[0m\u001b[1;33m:\u001b[0m\u001b[1;33m\u001b[0m\u001b[1;33m\u001b[0m\u001b[0m\n\u001b[0;32m   1111\u001b[0m             \u001b[0mpred\u001b[0m \u001b[1;33m=\u001b[0m \u001b[0mself\u001b[0m\u001b[1;33m.\u001b[0m\u001b[0mpredict\u001b[0m\u001b[1;33m(\u001b[0m\u001b[0mdtrain\u001b[0m\u001b[1;33m)\u001b[0m\u001b[1;33m\u001b[0m\u001b[1;33m\u001b[0m\u001b[0m\n",
      "\u001b[1;31mKeyboardInterrupt\u001b[0m: "
     ]
    }
   ],
   "source": [
    "\n",
    "beg = time.time()\n",
    "lb= [int(1), int(1)]; ub = [int(100), int(100)]\n",
    "xopt, fopt = pso(correr, lb, ub, swarmsize=15,  maxiter=5, minstep=10) #, omega = 100\n",
    "end = time.time()\n",
    "print(end - beg)"
   ]
  },
  {
   "cell_type": "code",
   "execution_count": 63,
   "metadata": {
    "ExecuteTime": {
     "end_time": "2020-04-24T22:02:10.475704Z",
     "start_time": "2020-04-24T22:02:10.468693Z"
    },
    "hidden": true
   },
   "outputs": [
    {
     "data": {
      "text/plain": [
       "(array([ 1., 10.]), 401.0319543492169)"
      ]
     },
     "execution_count": 63,
     "metadata": {},
     "output_type": "execute_result"
    }
   ],
   "source": [
    "xopt, fopt"
   ]
  },
  {
   "cell_type": "code",
   "execution_count": null,
   "metadata": {
    "hidden": true
   },
   "outputs": [],
   "source": []
  }
 ],
 "metadata": {
  "accelerator": "GPU",
  "colab": {
   "collapsed_sections": [
    "3vqI3QDZZKAq",
    "O2hWPwD6ZKBA",
    "GQpe5fpFZKBN",
    "Qx5efxfeZKBx",
    "vM6tw3OMZKCC",
    "SjwTup0gZKCN",
    "rUkgGDVnZKCV",
    "vgPOo__uZKCa",
    "lCuKekUzZKCp",
    "zRjD5OEqZKCy",
    "tt_KVYnPZKC-",
    "xf8-cJfmZKDi"
   ],
   "machine_shape": "hm",
   "name": "Random Forest-s_kro_opt-PCA-Copy1.ipynb",
   "provenance": [],
   "toc_visible": true
  },
  "kernelspec": {
   "display_name": "Python 3",
   "language": "python",
   "name": "python3"
  },
  "language_info": {
   "codemirror_mode": {
    "name": "ipython",
    "version": 3
   },
   "file_extension": ".py",
   "mimetype": "text/x-python",
   "name": "python",
   "nbconvert_exporter": "python",
   "pygments_lexer": "ipython3",
   "version": "3.7.7"
  },
  "toc": {
   "base_numbering": 1,
   "nav_menu": {},
   "number_sections": true,
   "sideBar": true,
   "skip_h1_title": false,
   "title_cell": "Table of Contents",
   "title_sidebar": "Contents",
   "toc_cell": false,
   "toc_position": {
    "height": "calc(100% - 180px)",
    "left": "10px",
    "top": "150px",
    "width": "206px"
   },
   "toc_section_display": true,
   "toc_window_display": true
  }
 },
 "nbformat": 4,
 "nbformat_minor": 1
}
