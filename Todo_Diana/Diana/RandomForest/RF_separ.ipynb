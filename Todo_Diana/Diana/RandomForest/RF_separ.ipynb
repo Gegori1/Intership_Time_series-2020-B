{
 "cells": [
  {
   "cell_type": "markdown",
   "metadata": {
    "colab_type": "text",
    "id": "3vqI3QDZZKAq"
   },
   "source": [
    "# Importar librerias"
   ]
  },
  {
   "cell_type": "code",
   "execution_count": 1,
   "metadata": {
    "ExecuteTime": {
     "end_time": "2020-04-30T15:31:21.916806Z",
     "start_time": "2020-04-30T15:31:21.908816Z"
    },
    "colab": {},
    "colab_type": "code",
    "id": "Nawvp8qcZKAs"
   },
   "outputs": [],
   "source": [
    "c = 20 # Valor para variables climaticas"
   ]
  },
  {
   "cell_type": "code",
   "execution_count": 38,
   "metadata": {
    "ExecuteTime": {
     "end_time": "2020-04-30T15:51:03.041806Z",
     "start_time": "2020-04-30T15:51:02.910767Z"
    },
    "colab": {
     "base_uri": "https://localhost:8080/",
     "height": 0
    },
    "colab_type": "code",
    "id": "q6eMT5bpZKA0",
    "outputId": "8ec8b204-9313-4698-c6d7-92fc1f995f3c"
   },
   "outputs": [],
   "source": [
    "import time\n",
    "#importar datos y librerias\n",
    "\n",
    "import numpy as np\n",
    "import pandas as pd\n",
    "import matplotlib.pyplot as plt\n",
    "from statsmodels.tsa.arima_model import ARIMA\n",
    "\n",
    "\n",
    "from scipy import signal\n",
    "from scipy.ndimage.interpolation import shift\n",
    "\n",
    "from sklearn.linear_model import LinearRegression, Lasso\n",
    "from sklearn.model_selection import train_test_split\n",
    "# from pmdarima.arima import auto_arima\n",
    "# from statsmodels.tsa.arima_model import ARIMA\n",
    "from sklearn.decomposition import PCA\n",
    "\n",
    "import warnings\n",
    "warnings.filterwarnings(\"ignore\", category=RuntimeWarning)\n",
    "%matplotlib inline\n",
    "\n",
    "from statsmodels.tsa.seasonal import seasonal_decompose\n",
    "from xgboost import XGBRegressor\n",
    "import cupy as cp"
   ]
  },
  {
   "cell_type": "code",
   "execution_count": 3,
   "metadata": {
    "ExecuteTime": {
     "end_time": "2020-04-30T15:31:28.163633Z",
     "start_time": "2020-04-30T15:31:26.689487Z"
    }
   },
   "outputs": [
    {
     "data": {
      "text/html": [
       "        <script type=\"text/javascript\">\n",
       "        window.PlotlyConfig = {MathJaxConfig: 'local'};\n",
       "        if (window.MathJax) {MathJax.Hub.Config({SVG: {font: \"STIX-Web\"}});}\n",
       "        if (typeof require !== 'undefined') {\n",
       "        require.undef(\"plotly\");\n",
       "        requirejs.config({\n",
       "            paths: {\n",
       "                'plotly': ['https://cdn.plot.ly/plotly-latest.min']\n",
       "            }\n",
       "        });\n",
       "        require(['plotly'], function(Plotly) {\n",
       "            window._Plotly = Plotly;\n",
       "        });\n",
       "        }\n",
       "        </script>\n",
       "        "
      ]
     },
     "metadata": {},
     "output_type": "display_data"
    }
   ],
   "source": [
    "# Plotly\n",
    "import chart_studio.plotly as ply\n",
    "import cufflinks as cf\n",
    "cf.go_offline()"
   ]
  },
  {
   "cell_type": "markdown",
   "metadata": {
    "colab_type": "text",
    "id": "O2hWPwD6ZKBA"
   },
   "source": [
    "# Funciones"
   ]
  },
  {
   "cell_type": "markdown",
   "metadata": {
    "colab_type": "text",
    "id": "OGEDYWTN4Yyt"
   },
   "source": [
    "**Mape**"
   ]
  },
  {
   "cell_type": "code",
   "execution_count": 4,
   "metadata": {
    "ExecuteTime": {
     "end_time": "2020-04-30T15:31:28.176552Z",
     "start_time": "2020-04-30T15:31:28.163633Z"
    },
    "colab": {},
    "colab_type": "code",
    "id": "9As0Is464XAU"
   },
   "outputs": [],
   "source": [
    "# para calcular el mape\n",
    "def Mape(y,y_pred):\n",
    "    return np.mean(np.abs((y-y_pred)/y))*100"
   ]
  },
  {
   "cell_type": "markdown",
   "metadata": {
    "colab_type": "text",
    "id": "TTGNBpGV4gx2"
   },
   "source": [
    " **Kronecker**"
   ]
  },
  {
   "cell_type": "code",
   "execution_count": 5,
   "metadata": {
    "ExecuteTime": {
     "end_time": "2020-04-30T15:31:28.196557Z",
     "start_time": "2020-04-30T15:31:28.176552Z"
    },
    "colab": {},
    "colab_type": "code",
    "id": "FqOGgPpQ4k8Q"
   },
   "outputs": [],
   "source": [
    "# para hacer kronecker por fila sin GPU\n",
    "def kronecker(data1:'Dataframe 1',data2:'Dataframe 2'):\n",
    "    Combinacion = pd.DataFrame(); d1 = pd.DataFrame()\n",
    "    for i in data2.columns:\n",
    "        d1 = data1.multiply(data2[f\"{i}\"] , axis=\"index\")\n",
    "        d1.columns = [f'{i}_{j}' for j in data1.columns]\n",
    "        Combinacion = pd.concat([Combinacion, d1], axis = 1)\n",
    "    return Combinacion\n",
    "\n",
    "# para hacer kronecker por fila con GPU\n",
    "def corc(data1:'Dataframe 1',data2:'Dataframe 2'):\n",
    "    nom = [f'{i}_{j}' for i in data2.columns for j in data1.columns] # nombres\n",
    "\n",
    "    a = cp.array(data1).T\n",
    "    b = cp.array(data2)\n",
    "    cp.cuda.Stream.null.synchronize() #conversion a Cupy\n",
    "\n",
    "    m, k = a.shape\n",
    "    d = cp.zeros((k, 1))\n",
    "    cp.cuda.Stream.null.synchronize() #vector de ceros para multiplicar\n",
    "\n",
    "    for i in range(m):\n",
    "        c = cp.multiply(a[[i]].T, b)\n",
    "        d = cp.concatenate((d, c), 1)\n",
    "        cp.cuda.Stream.null.synchronize() #kronecker\n",
    "\n",
    "    d = cp.asnumpy(d)       #conversion a numpy\n",
    "    d = np.delete(d, 0, 1)  #eliminar columna de ceros\n",
    "    bob = pd.DataFrame(d, columns = nom) #pandas\n",
    "    return bob"
   ]
  },
  {
   "cell_type": "markdown",
   "metadata": {
    "colab_type": "text",
    "id": "m-N1kHPy4-qG"
   },
   "source": [
    "**Variables difusas**"
   ]
  },
  {
   "cell_type": "code",
   "execution_count": 6,
   "metadata": {
    "ExecuteTime": {
     "end_time": "2020-04-30T15:31:28.212508Z",
     "start_time": "2020-04-30T15:31:28.196557Z"
    },
    "colab": {},
    "colab_type": "code",
    "id": "z5cjSrWwZKBB"
   },
   "outputs": [],
   "source": [
    "# para crear variables difusas\n",
    "def triangular():\n",
    "    \n",
    "    # Se crea x\n",
    "    ma = pd.DataFrame();\n",
    "    x = consumofeb.index.dayofyear.to_list()\n",
    "    # Se crean variables a, b y c\n",
    "    height = difs()\n",
    "    for hei in height:\n",
    "        ba = pd.DataFrame(x, columns=[\"x\"])\n",
    "        ba[\"a\"] = height[hei][0]\n",
    "        ba[\"b\"] = height[hei][1]\n",
    "        ba[\"c\"] = height[hei][2]\n",
    "        # Variable difusa\n",
    "        ca = pd.DataFrame()\n",
    "        ca[\"bo\"] = (ba.x-ba.a)/(ba.b-ba.a)\n",
    "        ca[\"ba\"] = (ba.c-ba.x)/(ba.c-ba.b)\n",
    "        ca = ca.min(axis = 1)\n",
    "        ca[ca<0]=0\n",
    "        ma = pd.concat([ma, ca], axis = 1) # Se concatenan\n",
    "\n",
    "    ma.index = consumofeb.index\n",
    "    ma.columns = height.keys()\n",
    "    return ma"
   ]
  },
  {
   "cell_type": "markdown",
   "metadata": {
    "colab_type": "text",
    "id": "GQpe5fpFZKBN"
   },
   "source": [
    "# Cargar datos"
   ]
  },
  {
   "cell_type": "code",
   "execution_count": 7,
   "metadata": {
    "ExecuteTime": {
     "end_time": "2020-04-30T15:31:30.399108Z",
     "start_time": "2020-04-30T15:31:29.010399Z"
    },
    "colab": {},
    "colab_type": "code",
    "id": "ROVJ_4VexmN_"
   },
   "outputs": [],
   "source": [
    "def cargar():\n",
    "    # variables climaticas\n",
    "    consumofeb=pd.read_excel(r'./Consumo_feb.xlsx').set_index(\"fecha\").loc[\"2007-01-01\":\"2020-03-30\"] #desde 2007 hasta 31 de marzo de 2020\n",
    "    consumofeb = consumofeb.drop([\"prom\", 'Lluvia', 'Velocidad_viento'], axis = 1)\n",
    "    #variables de consumo MWh\n",
    "    consumo=pd.read_excel('./Data1.xlsx').set_index(\"fecha\").loc[\"2007-01-01\":\"2020-03-30\"] \n",
    "    return consumo, consumofeb\n",
    "\n",
    "consumo, consumofeb = cargar()"
   ]
  },
  {
   "cell_type": "code",
   "execution_count": 8,
   "metadata": {
    "ExecuteTime": {
     "end_time": "2020-04-30T15:31:31.103031Z",
     "start_time": "2020-04-30T15:31:31.091053Z"
    },
    "colab": {
     "base_uri": "https://localhost:8080/",
     "height": 0
    },
    "colab_type": "code",
    "id": "6xf-uenZZKBg",
    "outputId": "9c01c14a-1861-4e20-837e-1b43fd6e463e"
   },
   "outputs": [
    {
     "name": "stdout",
     "output_type": "stream",
     "text": [
      "ok\n"
     ]
    }
   ],
   "source": [
    "if len(consumofeb.index) == len(consumo.index): print(\"ok\") # confirmar que ambos documentos tengan la misma longitud"
   ]
  },
  {
   "cell_type": "code",
   "execution_count": 9,
   "metadata": {
    "ExecuteTime": {
     "end_time": "2020-04-30T15:31:31.384268Z",
     "start_time": "2020-04-30T15:31:31.376290Z"
    }
   },
   "outputs": [],
   "source": [
    "# consumofeb.tail(20)"
   ]
  },
  {
   "cell_type": "markdown",
   "metadata": {
    "colab_type": "text",
    "id": "7Ist4d1yZKBs"
   },
   "source": [
    "-  Para graficar"
   ]
  },
  {
   "cell_type": "markdown",
   "metadata": {
    "colab_type": "text",
    "id": "Qx5efxfeZKBx"
   },
   "source": [
    "# Variables climaticas"
   ]
  },
  {
   "cell_type": "code",
   "execution_count": 10,
   "metadata": {
    "ExecuteTime": {
     "end_time": "2020-04-30T15:31:32.187331Z",
     "start_time": "2020-04-30T15:31:32.175347Z"
    }
   },
   "outputs": [
    {
     "name": "stdout",
     "output_type": "stream",
     "text": [
      "(4838,)\n"
     ]
    }
   ],
   "source": [
    "fft_list = np.fft.fft(consumo.MWh)\n",
    "for num_ in [100]:\n",
    "    fft_list_m10 = np.copy(fft_list); fft_list_m10[num_:-num_]=0\n",
    "    va = np.fft.ifft(fft_list_m10)\n",
    "print(va.shape)"
   ]
  },
  {
   "cell_type": "code",
   "execution_count": 11,
   "metadata": {
    "ExecuteTime": {
     "end_time": "2020-04-30T15:31:32.387643Z",
     "start_time": "2020-04-30T15:31:32.379661Z"
    }
   },
   "outputs": [],
   "source": [
    "# vale = consumo.copy(); vale[\"d\"] = np.abs(va); vale.iplot()"
   ]
  },
  {
   "cell_type": "markdown",
   "metadata": {
    "colab_type": "text",
    "id": "FDNtZwbrZKBl"
   },
   "source": [
    "**Variables difusas** "
   ]
  },
  {
   "cell_type": "code",
   "execution_count": 12,
   "metadata": {
    "ExecuteTime": {
     "end_time": "2020-04-30T15:31:33.675486Z",
     "start_time": "2020-04-30T15:31:33.659818Z"
    },
    "colab": {},
    "colab_type": "code",
    "id": "7lEq7yJMZKBm"
   },
   "outputs": [],
   "source": [
    "def difs():\n",
    "    # Inicializar posicion de datos\n",
    "\n",
    "    inv1 = [310.5-365.25, 8.6529, 138.941176470588]\n",
    "    pr = [8.6529, 138.941176470588, 221.9375]\n",
    "    vr = [138.941176470588, 221.9375, 310.5]\n",
    "    ot = [221.9375, 310.5, 365.25+8.6529]\n",
    "    ot2 = [221.9375-365.25, 310.5-365.25, 8.6529]\n",
    "    inv2 = [310.5, 365.25+8.6529, 365.25+138.941176470588]\n",
    "\n",
    "    height = {'Invierno1': inv1,'Primavera': pr,'verano': vr,'Otoño': ot,'Otoño2': ot2,'Invierno2': inv2,} \n",
    "    return height"
   ]
  },
  {
   "cell_type": "code",
   "execution_count": 13,
   "metadata": {
    "ExecuteTime": {
     "end_time": "2020-04-30T15:31:34.206047Z",
     "start_time": "2020-04-30T15:31:34.202052Z"
    },
    "colab": {},
    "colab_type": "code",
    "id": "nUHI3krzZKBt"
   },
   "outputs": [],
   "source": [
    "# triangular().iplot()"
   ]
  },
  {
   "cell_type": "code",
   "execution_count": 14,
   "metadata": {
    "ExecuteTime": {
     "end_time": "2020-04-30T15:31:34.495485Z",
     "start_time": "2020-04-30T15:31:34.475511Z"
    },
    "colab": {},
    "colab_type": "code",
    "id": "auVFztYRZKBx"
   },
   "outputs": [],
   "source": [
    "def pba(j, n):\n",
    "    # armonicos\n",
    "    f, asd = signal.periodogram(consumofeb[j], 1)\n",
    "#     plt.figure()\n",
    "#     plt.plot(1/f, asd)\n",
    "    picos = pd.DataFrame(asd, 1/(f), columns=[\"potencia\"])\n",
    "    picos = picos.sort_values(by=\"potencia\",ascending=False).reset_index().head(12)\n",
    "    picos.columns = [\"periodo\", \"potencia\"]\n",
    "    #fourier\n",
    "    sencos = pd.DataFrame(index = consumofeb.index)\n",
    "    t = np.arange(1,len(consumofeb)+1)\n",
    "    sencos[\"t\"]=t\n",
    "    for i  in  picos.periodo:\n",
    "            sencos[f\"{i:.2f}_sen\"] = np.abs(np.sin(((2*np.pi)/(i))*t))\n",
    "            sencos[f\"{i:.2f}_cos\"] = np.abs(np.cos(((2*np.pi)/(i))*t))\n",
    "    sencos['ones']=1\n",
    "    sencos['sen1']=np.abs(np.sin(((2*np.pi)/(365.25))*t))\n",
    "    sencos['cos1']=np.abs(np.cos(((2*np.pi)/(365.25))*t))\n",
    "    \n",
    "    sencos=kronecker(sencos, triangular())\n",
    "    #regresion\n",
    "    X_train, X_test, y_train, y_test = train_test_split(sencos, consumofeb[j], test_size=n, shuffle = False)\n",
    "    \n",
    "    reg = LinearRegression(n_jobs=-1).fit(X_train, y_train)\n",
    "    y_predict=reg.predict(X_test)\n",
    "    \n",
    "#     plt.figure()\n",
    "#     plt.plot(y_test , label=\"real\")\n",
    "#     plt.plot(y_test.index, y_predict,label=\"predicción\")\n",
    "\n",
    "#     plt.figure()\n",
    "#     plt.plot(y_train)\n",
    "#     plt.plot(y_train.index, reg.predict(X_train))\n",
    "#     print(Mape(y_train,reg.predict(X_train),1))\n",
    "    \n",
    "    nov=pd.DataFrame(np.concatenate([reg.predict(X_train),y_predict]),index=consumofeb.index,columns=[f\"{j}\"])\n",
    "\n",
    "    return nov"
   ]
  },
  {
   "cell_type": "code",
   "execution_count": 15,
   "metadata": {
    "ExecuteTime": {
     "end_time": "2020-04-30T15:31:36.842396Z",
     "start_time": "2020-04-30T15:31:36.834407Z"
    },
    "colab": {},
    "colab_type": "code",
    "id": "5C_YKhC3ZKB2"
   },
   "outputs": [],
   "source": [
    "# pba(\"pca1\", 1)"
   ]
  },
  {
   "cell_type": "code",
   "execution_count": 16,
   "metadata": {
    "ExecuteTime": {
     "end_time": "2020-04-30T15:31:37.214474Z",
     "start_time": "2020-04-30T15:31:37.206484Z"
    },
    "colab": {},
    "colab_type": "code",
    "id": "ej9iPVA-ZKB5"
   },
   "outputs": [],
   "source": [
    "def modelosclima(n):\n",
    "    ca = pd.DataFrame(index = consumo.index)\n",
    "    for i in [\"mín\", \"max\", \"Nubosidad\"]:\n",
    "        ca = pd.concat([ca, pba(i, n)], axis = 1)\n",
    "    return ca"
   ]
  },
  {
   "cell_type": "code",
   "execution_count": 17,
   "metadata": {
    "ExecuteTime": {
     "end_time": "2020-04-30T15:31:39.898801Z",
     "start_time": "2020-04-30T15:31:38.617898Z"
    },
    "colab": {},
    "colab_type": "code",
    "id": "oNODq8lJZKB-"
   },
   "outputs": [],
   "source": [
    "# Se corre y guarda en una variable los datos de clima predichos\n",
    "modclima = modelosclima(c)"
   ]
  },
  {
   "cell_type": "markdown",
   "metadata": {
    "colab_type": "text",
    "id": "vM6tw3OMZKCC"
   },
   "source": [
    "# Variables festivos"
   ]
  },
  {
   "cell_type": "code",
   "execution_count": 18,
   "metadata": {
    "ExecuteTime": {
     "end_time": "2020-04-30T15:31:41.516350Z",
     "start_time": "2020-04-30T15:31:41.496346Z"
    },
    "colab": {},
    "colab_type": "code",
    "id": "igC2IVjMZKCD"
   },
   "outputs": [],
   "source": [
    "def festivos():\n",
    "    festivos=pd.read_excel('./Festivos.xlsx')\n",
    "    festivos2=pd.read_excel('./Festivos2.xlsx')\n",
    "\n",
    "    Dum = pd.DataFrame(index = consumo.index)\n",
    "\n",
    "    for col in festivos.columns:\n",
    "        Dum[f\"{col}\"] = consumo.index.isin(festivos[f\"{col}\"])\n",
    "        Dum[col] = Dum[col].replace([False, True],[0, 1])\n",
    "        clean = Dum[col].values\n",
    "        Dum[col] = Dum[col]+shift(clean, 1, cval=0)*.4\n",
    "        Dum[col] = Dum[col]+shift(clean, -1, cval=0)*.4\n",
    "        Dum[col] = Dum[col]+shift(clean, 2, cval=0)*.1\n",
    "        Dum[col] = Dum[col]+shift(clean, -2, cval=0)*.1\n",
    "        Dum[col] = Dum[col]/2\n",
    "\n",
    "    Dum[\"ones\"] = 1\n",
    "    tm = np.arange(1,len(consumo.index)+1)  \n",
    "    Dum[\"t\"] = tm/np.max(tm)\n",
    "    \n",
    "    for col in festivos2.columns:\n",
    "        Dum[col] = consumo.index.isin(festivos2[col])\n",
    "    Dum = Dum.replace([False, True],[0, 1])\n",
    "    \n",
    "    return Dum"
   ]
  },
  {
   "cell_type": "code",
   "execution_count": 19,
   "metadata": {
    "ExecuteTime": {
     "end_time": "2020-04-30T15:31:42.753158Z",
     "start_time": "2020-04-30T15:31:42.745139Z"
    },
    "colab": {},
    "colab_type": "code",
    "id": "ppKf-OHnZKCI"
   },
   "outputs": [],
   "source": [
    "# festivos()"
   ]
  },
  {
   "cell_type": "markdown",
   "metadata": {
    "colab_type": "text",
    "id": "SjwTup0gZKCN"
   },
   "source": [
    "# Todas las variables dependientes (dummies)"
   ]
  },
  {
   "cell_type": "code",
   "execution_count": 20,
   "metadata": {
    "ExecuteTime": {
     "end_time": "2020-04-30T15:31:43.413946Z",
     "start_time": "2020-04-30T15:31:43.393950Z"
    },
    "colab": {},
    "colab_type": "code",
    "id": "FiGdcNWsZKCN"
   },
   "outputs": [],
   "source": [
    "def dummies(dia, n):   \n",
    "    # variables eureka y clima\n",
    "    consumo2 = pd.DataFrame(index=consumo.index)\n",
    "    consumo2[\"num\"] = np.arange(1,len(consumo.index)+1)\n",
    "    consumo2[\"day\"] = consumo.index.weekday\n",
    "    consumo2[\"eureka1\"] = consumo2.day**3\n",
    "    consumo2[\"eureka2\"] = modclima[\"max\"]*consumo2.num\n",
    "    consumo2[\"month\"] = consumo.index.month\n",
    "    consumo2[\"year\"] = consumo.index.year\n",
    "    X = consumo2.join(modclima)\n",
    "    # normalizacion eureka-clima\n",
    "    X_norm = X/X.max()\n",
    "    \n",
    "    # variables gplearn\n",
    "    X_norm[\"gplearn1\"]=np.cos(X_norm.day)*X_norm.num\n",
    "    X_norm[\"gplearn2\"]=X_norm.num*X_norm[\"mín\"]\n",
    "    X_norm[\"gplearn3\"]=3.319**X_norm[\"max\"]*np.cos(X_norm.day)\n",
    "    X_norm[\"gplearn8\"]=3.319**X_norm[\"max\"]*X_norm.num \n",
    "    X_norm[\"gplearn4\"]=np.cos(X_norm.day)*np.sin(X_norm.day)\n",
    "    X_norm[\"gplearn6\"]=X_norm[\"max\"]**2*X_norm[\"mín\"]**2\n",
    "    X_norm[\"gplearn7\"]=1/np.cos(X_norm.day)\n",
    "    X_norm[\"gplearn10\"]=X_norm[\"max\"]*X_norm[\"mín\"]**3*np.cos(X_norm.month)**2\n",
    "    X_norm = X_norm/X_norm.max()\n",
    "    \n",
    "    # variables dummies\n",
    "    X_norm = pd.get_dummies(X_norm, columns=[\"month\", \"year\"], prefix=[\"month\", \"year\"], drop_first=True)\n",
    "    X_norm = X_norm.drop([\"day\"], axis = 1)\n",
    "    # variables festivos y difusa de clima\n",
    "    X_norm = X_norm.join(festivos())\n",
    "    X_norm = X_norm.join(triangular())\n",
    "    \n",
    "    # variables entre y fin\n",
    "#     X_norm[\"fin\"]=consumo.index.weekday\n",
    "#     X_norm[\"entre\"]=consumo.index.weekday\n",
    "#     X_norm[\"fin\"]=X_norm[\"fin\"].replace([0,1,2,3,4,5,6],[.5,0,0,0,.5,1,1])\n",
    "#     X_norm[\"entre\"]=X_norm[\"entre\"].replace([0,1,2,3,4,5,6],[.5,1,1,1,.5,0,0])\n",
    "    return X_norm[X_norm.index.weekday == dia]"
   ]
  },
  {
   "cell_type": "markdown",
   "metadata": {
    "colab_type": "text",
    "id": "rUkgGDVnZKCV"
   },
   "source": [
    "# Separar train-test"
   ]
  },
  {
   "cell_type": "code",
   "execution_count": 21,
   "metadata": {
    "ExecuteTime": {
     "end_time": "2020-04-30T15:31:44.680905Z",
     "start_time": "2020-04-30T15:31:44.672884Z"
    },
    "colab": {},
    "colab_type": "code",
    "id": "PuciRChrZKCW"
   },
   "outputs": [],
   "source": [
    "def separar(n, X, y):\n",
    "    # separar X y Y\n",
    "    X_train, X_test, y_train, y_test = train_test_split(X, y, \\\n",
    "                                                  test_size = n, shuffle = False)\n",
    "    return (X_train, X_test), (y_train, y_test)"
   ]
  },
  {
   "cell_type": "markdown",
   "metadata": {
    "colab_type": "text",
    "id": "vgPOo__uZKCa"
   },
   "source": [
    "# Primer regresion"
   ]
  },
  {
   "cell_type": "code",
   "execution_count": 64,
   "metadata": {
    "ExecuteTime": {
     "end_time": "2020-04-30T15:56:58.420271Z",
     "start_time": "2020-04-30T15:56:58.404290Z"
    }
   },
   "outputs": [],
   "source": [
    "def zeta(dia, n):   \n",
    "    # variables eureka y clima\n",
    "    consumo2 = pd.DataFrame(index=consumo.index)\n",
    "    consumo2[\"num\"] = np.arange(1,len(consumo.index)+1)\n",
    "    consumo2[\"day\"] = consumo.index.weekday\n",
    "    consumo2[\"eureka1\"] = consumo2.day**3\n",
    "    consumo2[\"eureka2\"] = modclima[\"max\"]*consumo2.num\n",
    "    consumo2[\"month\"] = consumo.index.month\n",
    "    X = consumo2.join(modclima)\n",
    "    # normalizacion eureka-clima\n",
    "    X_norm = X/X.max()\n",
    "    \n",
    "    # variables gplearn\n",
    "    X_norm[\"gplearn1\"]=np.cos(X_norm.day)*X_norm.num\n",
    "    X_norm[\"gplearn2\"]=X_norm.num*X_norm[\"mín\"]\n",
    "    X_norm[\"gplearn3\"]=3.319**X_norm[\"max\"]*np.cos(X_norm.day)\n",
    "    X_norm[\"gplearn8\"]=3.319**X_norm[\"max\"]*X_norm.num \n",
    "    X_norm[\"gplearn4\"]=np.cos(X_norm.day)*np.sin(X_norm.day)\n",
    "    X_norm[\"gplearn6\"]=X_norm[\"max\"]**2*X_norm[\"mín\"]**2\n",
    "    X_norm[\"gplearn7\"]=1/np.cos(X_norm.day)\n",
    "    X_norm[\"gplearn10\"]=X_norm[\"max\"]*X_norm[\"mín\"]**3*np.cos(X_norm.month)**2\n",
    "    # variables dummies\n",
    "#     X_norm = pd.get_dummies(X_norm, columns=[\"month\", \"day\"], prefix=[\"month\", \"day\"], drop_first=True)\n",
    "\n",
    "    # variables festivos y difusa de clima\n",
    "#     X_norm = X_norm.join(festivos())\n",
    "#     X_norm = X_norm.join(triangular())\n",
    "    \n",
    "    # variables entre y fin\n",
    "#     X_norm[\"fin\"]=consumo.index.weekday\n",
    "#     X_norm[\"entre\"]=consumo.index.weekday\n",
    "#     X_norm[\"fin\"]=X_norm[\"fin\"].replace([0,1,2,3,4,5,6],[.5,0,0,0,.5,1,1])\n",
    "#     X_norm[\"entre\"]=X_norm[\"entre\"].replace([0,1,2,3,4,5,6],[.5,1,1,1,.5,0,0])\n",
    "    return X_norm[X_norm.index.weekday == dia]"
   ]
  },
  {
   "cell_type": "code",
   "execution_count": 69,
   "metadata": {
    "ExecuteTime": {
     "end_time": "2020-04-30T15:57:58.197565Z",
     "start_time": "2020-04-30T15:57:58.185584Z"
    },
    "colab": {},
    "colab_type": "code",
    "id": "r6GyfGsWZKCa"
   },
   "outputs": [],
   "source": [
    "def reg(dia, n, pre_forc): # n = 7 , pre_for = \"general\" o \"forcasting\"\n",
    "    # cargar X y Y\n",
    "    y = consumo[consumo.index.weekday == dia]; X = dummies(dia, n)\n",
    "    X[[\"gplearn8\", \"eureka2\"]]\n",
    "    # Se obtienen los datos separados\n",
    "    Xo, yo = separar(n, X, y)  \n",
    "    # Decision \"general\" \"forcasting\"\n",
    "    if pre_forc == \"general\": pre_forc = 0\n",
    "    elif pre_forc == \"forcasting\": pre_forc = 1\n",
    "    else: print(f\"expected `general` or `forcasting`, got {pre_forc} instead\")\n",
    "    # regresion y predeccion    \n",
    "    reg = LinearRegression(n_jobs =-1).fit(Xo[0], yo[0])\n",
    "#     reg = XGBRegressor(max_depth = 5000, n_estimators = 1000, objective='reg:squarederror').fit(Xo[0],yo[0])\n",
    "    y_predict=reg.predict(Xo[pre_forc])\n",
    "    \n",
    "    # dataframe real-predict- resta\n",
    "    comp = pd.DataFrame(y_predict, columns = [\"predict\"],index = yo[pre_forc].index)\n",
    "    comp[\"real\"] = yo[pre_forc]; comp[\"resta\"] = comp.real - comp.predict\n",
    "    comp[\"error\"] = np.abs(((comp.real - comp.predict))/comp.real)*100\n",
    "    return comp"
   ]
  },
  {
   "cell_type": "code",
   "execution_count": 70,
   "metadata": {
    "ExecuteTime": {
     "end_time": "2020-04-30T15:57:58.511296Z",
     "start_time": "2020-04-30T15:57:58.503308Z"
    }
   },
   "outputs": [],
   "source": [
    "# def reg(dia, n, pre_forc): # n = 7 , pre_for = \"general\" o \"forcasting\"\n",
    "#     # cargar X y Y\n",
    "#     y = consumo[consumo.index.weekday == dia]; X = dummies(dia, n)\n",
    "#     # Se obtienen los datos separados\n",
    "#     Xo, yo = separar(n, X, y)  \n",
    "#     # Decision \"general\" \"forcasting\"\n",
    "#     if pre_forc == \"general\": pre_forc = 0\n",
    "#     elif pre_forc == \"forcasting\": pre_forc = 1\n",
    "#     else: print(f\"expected `general` or `forcasting`, got {pre_forc} instead\")\n",
    "#     # regresion y predeccion    \n",
    "#     reg = LinearRegression(n_jobs =-1).fit(Xo[0], yo[0])\n",
    "\n",
    "#     xgbModel = XGBRegressor(max_depth = 250, n_estimators = 5, objective='reg:squarederror').fit(Xo[0],yo[0], eval_set = [(Xo[0], yo[0]), (Xo[pre_forc], yo[pre_forc])], verbose=False)\n",
    "#     fig = plt.figure(figsize=(16,4))\n",
    "#     plt.xticks(rotation='vertical')\n",
    "#     plt.bar([i for i in range(len(xgbModel.feature_importances_))], xgbModel.feature_importances_.tolist(), tick_label=Xo[pre_forc].columns)\n",
    "#     plt.title('Figure 6: Feature importance of the technical indicators.')\n",
    "#     plt.show()\n",
    "#     return pd.DataFrame(xgbModel.feature_importances_, index = Xo[pre_forc].columns, columns = [\"bob\"])"
   ]
  },
  {
   "cell_type": "code",
   "execution_count": 71,
   "metadata": {
    "ExecuteTime": {
     "end_time": "2020-04-30T15:58:03.001703Z",
     "start_time": "2020-04-30T15:57:59.677556Z"
    }
   },
   "outputs": [
    {
     "name": "stdout",
     "output_type": "stream",
     "text": [
      "2.3149312908027126\n",
      "2.1829433138010454\n",
      "2.171529945998732\n",
      "2.226304011689469\n",
      "2.2826044496610964\n",
      "2.229083842600399\n",
      "2.2142569992859262\n"
     ]
    }
   ],
   "source": [
    "for i in range(7):\n",
    "    bob = reg(i, 7, \"general\")\n",
    "    print(bob.error.mean())"
   ]
  },
  {
   "cell_type": "code",
   "execution_count": 82,
   "metadata": {
    "ExecuteTime": {
     "end_time": "2020-04-30T16:18:52.994947Z",
     "start_time": "2020-04-30T16:18:52.984975Z"
    }
   },
   "outputs": [],
   "source": [
    "def aro(dia, n):\n",
    "    X = zeta(dia, n)#; y_train = reg(dia, n, \"general\")[[\"real\"]]; y_test = reg(dia, n, \"forcasting\")[[\"real\"]]\n",
    "    X_train, X_test, y_train, y_test = train_test_split(X, consumo[consumo.index.weekday == dia], test_size = n, shuffle = False)\n",
    "    model = ARIMA(y_train.values, order=(7,1,0), exog = X_train.values)\n",
    "    model_fit = model.fit(disp=0)\n",
    "    output = model_fit.forecast(steps = n, exog = X_test.values); predo = output[0]\n",
    "    y_test[\"predict\"] = predo\n",
    "    y_test[\"error\"] = (np.abs(y_test.real - y_test.predict)/y_test.real)*100\n",
    "    return y_test"
   ]
  },
  {
   "cell_type": "code",
   "execution_count": 83,
   "metadata": {
    "ExecuteTime": {
     "end_time": "2020-04-30T16:18:53.613729Z",
     "start_time": "2020-04-30T16:18:53.538965Z"
    }
   },
   "outputs": [
    {
     "ename": "ValueError",
     "evalue": "x contains a constant. Adding a constant with trend='c' is not allowed.",
     "output_type": "error",
     "traceback": [
      "\u001b[1;31m---------------------------------------------------------------------------\u001b[0m",
      "\u001b[1;31mValueError\u001b[0m                                Traceback (most recent call last)",
      "\u001b[1;32m<ipython-input-83-1dd44c836bf8>\u001b[0m in \u001b[0;36m<module>\u001b[1;34m\u001b[0m\n\u001b[1;32m----> 1\u001b[1;33m \u001b[0maro\u001b[0m\u001b[1;33m(\u001b[0m\u001b[1;36m1\u001b[0m\u001b[1;33m,\u001b[0m \u001b[1;36m7\u001b[0m\u001b[1;33m)\u001b[0m\u001b[1;33m\u001b[0m\u001b[1;33m\u001b[0m\u001b[0m\n\u001b[0m",
      "\u001b[1;32m<ipython-input-82-d733d425edf2>\u001b[0m in \u001b[0;36maro\u001b[1;34m(dia, n)\u001b[0m\n\u001b[0;32m      3\u001b[0m     \u001b[0mX_train\u001b[0m\u001b[1;33m,\u001b[0m \u001b[0mX_test\u001b[0m\u001b[1;33m,\u001b[0m \u001b[0my_train\u001b[0m\u001b[1;33m,\u001b[0m \u001b[0my_test\u001b[0m \u001b[1;33m=\u001b[0m \u001b[0mtrain_test_split\u001b[0m\u001b[1;33m(\u001b[0m\u001b[0mX\u001b[0m\u001b[1;33m,\u001b[0m \u001b[0mconsumo\u001b[0m\u001b[1;33m[\u001b[0m\u001b[0mconsumo\u001b[0m\u001b[1;33m.\u001b[0m\u001b[0mindex\u001b[0m\u001b[1;33m.\u001b[0m\u001b[0mweekday\u001b[0m \u001b[1;33m==\u001b[0m \u001b[0mdia\u001b[0m\u001b[1;33m]\u001b[0m\u001b[1;33m,\u001b[0m \u001b[0mtest_size\u001b[0m \u001b[1;33m=\u001b[0m \u001b[0mn\u001b[0m\u001b[1;33m,\u001b[0m \u001b[0mshuffle\u001b[0m \u001b[1;33m=\u001b[0m \u001b[1;32mFalse\u001b[0m\u001b[1;33m)\u001b[0m\u001b[1;33m\u001b[0m\u001b[1;33m\u001b[0m\u001b[0m\n\u001b[0;32m      4\u001b[0m     \u001b[0mmodel\u001b[0m \u001b[1;33m=\u001b[0m \u001b[0mARIMA\u001b[0m\u001b[1;33m(\u001b[0m\u001b[0my_train\u001b[0m\u001b[1;33m.\u001b[0m\u001b[0mvalues\u001b[0m\u001b[1;33m,\u001b[0m \u001b[0morder\u001b[0m\u001b[1;33m=\u001b[0m\u001b[1;33m(\u001b[0m\u001b[1;36m7\u001b[0m\u001b[1;33m,\u001b[0m\u001b[1;36m1\u001b[0m\u001b[1;33m,\u001b[0m\u001b[1;36m0\u001b[0m\u001b[1;33m)\u001b[0m\u001b[1;33m,\u001b[0m \u001b[0mexog\u001b[0m \u001b[1;33m=\u001b[0m \u001b[0mX_train\u001b[0m\u001b[1;33m.\u001b[0m\u001b[0mvalues\u001b[0m\u001b[1;33m)\u001b[0m\u001b[1;33m\u001b[0m\u001b[1;33m\u001b[0m\u001b[0m\n\u001b[1;32m----> 5\u001b[1;33m     \u001b[0mmodel_fit\u001b[0m \u001b[1;33m=\u001b[0m \u001b[0mmodel\u001b[0m\u001b[1;33m.\u001b[0m\u001b[0mfit\u001b[0m\u001b[1;33m(\u001b[0m\u001b[0mdisp\u001b[0m\u001b[1;33m=\u001b[0m\u001b[1;36m0\u001b[0m\u001b[1;33m)\u001b[0m\u001b[1;33m\u001b[0m\u001b[1;33m\u001b[0m\u001b[0m\n\u001b[0m\u001b[0;32m      6\u001b[0m     \u001b[0moutput\u001b[0m \u001b[1;33m=\u001b[0m \u001b[0mmodel_fit\u001b[0m\u001b[1;33m.\u001b[0m\u001b[0mforecast\u001b[0m\u001b[1;33m(\u001b[0m\u001b[0msteps\u001b[0m \u001b[1;33m=\u001b[0m \u001b[0mn\u001b[0m\u001b[1;33m,\u001b[0m \u001b[0mexog\u001b[0m \u001b[1;33m=\u001b[0m \u001b[0mX_test\u001b[0m\u001b[1;33m.\u001b[0m\u001b[0mvalues\u001b[0m\u001b[1;33m)\u001b[0m\u001b[1;33m;\u001b[0m \u001b[0mpredo\u001b[0m \u001b[1;33m=\u001b[0m \u001b[0moutput\u001b[0m\u001b[1;33m[\u001b[0m\u001b[1;36m0\u001b[0m\u001b[1;33m]\u001b[0m\u001b[1;33m\u001b[0m\u001b[1;33m\u001b[0m\u001b[0m\n\u001b[0;32m      7\u001b[0m     \u001b[0my_test\u001b[0m\u001b[1;33m[\u001b[0m\u001b[1;34m\"predict\"\u001b[0m\u001b[1;33m]\u001b[0m \u001b[1;33m=\u001b[0m \u001b[0mpredo\u001b[0m\u001b[1;33m\u001b[0m\u001b[1;33m\u001b[0m\u001b[0m\n",
      "\u001b[1;32m~\\AppData\\Roaming\\Python\\Python37\\site-packages\\statsmodels\\tsa\\arima_model.py\u001b[0m in \u001b[0;36mfit\u001b[1;34m(self, start_params, trend, method, transparams, solver, maxiter, full_output, disp, callback, start_ar_lags, **kwargs)\u001b[0m\n\u001b[0;32m   1198\u001b[0m                                         \u001b[0mmethod\u001b[0m\u001b[1;33m,\u001b[0m \u001b[0mtransparams\u001b[0m\u001b[1;33m,\u001b[0m \u001b[0msolver\u001b[0m\u001b[1;33m,\u001b[0m\u001b[1;33m\u001b[0m\u001b[1;33m\u001b[0m\u001b[0m\n\u001b[0;32m   1199\u001b[0m                                         \u001b[0mmaxiter\u001b[0m\u001b[1;33m,\u001b[0m \u001b[0mfull_output\u001b[0m\u001b[1;33m,\u001b[0m \u001b[0mdisp\u001b[0m\u001b[1;33m,\u001b[0m\u001b[1;33m\u001b[0m\u001b[1;33m\u001b[0m\u001b[0m\n\u001b[1;32m-> 1200\u001b[1;33m                                         callback, start_ar_lags, **kwargs)\n\u001b[0m\u001b[0;32m   1201\u001b[0m         \u001b[0mnormalized_cov_params\u001b[0m \u001b[1;33m=\u001b[0m \u001b[1;32mNone\u001b[0m  \u001b[1;31m# TODO: fix this?\u001b[0m\u001b[1;33m\u001b[0m\u001b[1;33m\u001b[0m\u001b[0m\n\u001b[0;32m   1202\u001b[0m         arima_fit = ARIMAResults(self, mlefit._results.params,\n",
      "\u001b[1;32m~\\AppData\\Roaming\\Python\\Python37\\site-packages\\statsmodels\\tsa\\arima_model.py\u001b[0m in \u001b[0;36mfit\u001b[1;34m(self, start_params, trend, method, transparams, solver, maxiter, full_output, disp, callback, start_ar_lags, **kwargs)\u001b[0m\n\u001b[0;32m    951\u001b[0m         \u001b[1;32melse\u001b[0m\u001b[1;33m:\u001b[0m\u001b[1;33m\u001b[0m\u001b[1;33m\u001b[0m\u001b[0m\n\u001b[0;32m    952\u001b[0m             \u001b[1;31m# Ensures only call once per ARMA instance\u001b[0m\u001b[1;33m\u001b[0m\u001b[1;33m\u001b[0m\u001b[1;33m\u001b[0m\u001b[0m\n\u001b[1;32m--> 953\u001b[1;33m             \u001b[0mk_trend\u001b[0m\u001b[1;33m,\u001b[0m \u001b[0mexog\u001b[0m \u001b[1;33m=\u001b[0m \u001b[0m_make_arma_exog\u001b[0m\u001b[1;33m(\u001b[0m\u001b[0mendog\u001b[0m\u001b[1;33m,\u001b[0m \u001b[0mself\u001b[0m\u001b[1;33m.\u001b[0m\u001b[0mexog\u001b[0m\u001b[1;33m,\u001b[0m \u001b[0mtrend\u001b[0m\u001b[1;33m)\u001b[0m\u001b[1;33m\u001b[0m\u001b[1;33m\u001b[0m\u001b[0m\n\u001b[0m\u001b[0;32m    954\u001b[0m \u001b[1;33m\u001b[0m\u001b[0m\n\u001b[0;32m    955\u001b[0m         \u001b[1;31m# Check has something to estimate\u001b[0m\u001b[1;33m\u001b[0m\u001b[1;33m\u001b[0m\u001b[1;33m\u001b[0m\u001b[0m\n",
      "\u001b[1;32m~\\AppData\\Roaming\\Python\\Python37\\site-packages\\statsmodels\\tsa\\arima_model.py\u001b[0m in \u001b[0;36m_make_arma_exog\u001b[1;34m(endog, exog, trend)\u001b[0m\n\u001b[0;32m    422\u001b[0m         \u001b[0mexog\u001b[0m \u001b[1;33m=\u001b[0m \u001b[0mnp\u001b[0m\u001b[1;33m.\u001b[0m\u001b[0mones\u001b[0m\u001b[1;33m(\u001b[0m\u001b[1;33m(\u001b[0m\u001b[0mlen\u001b[0m\u001b[1;33m(\u001b[0m\u001b[0mendog\u001b[0m\u001b[1;33m)\u001b[0m\u001b[1;33m,\u001b[0m \u001b[1;36m1\u001b[0m\u001b[1;33m)\u001b[0m\u001b[1;33m)\u001b[0m\u001b[1;33m\u001b[0m\u001b[1;33m\u001b[0m\u001b[0m\n\u001b[0;32m    423\u001b[0m     \u001b[1;32melif\u001b[0m \u001b[0mexog\u001b[0m \u001b[1;32mis\u001b[0m \u001b[1;32mnot\u001b[0m \u001b[1;32mNone\u001b[0m \u001b[1;32mand\u001b[0m \u001b[0mtrend\u001b[0m \u001b[1;33m==\u001b[0m \u001b[1;34m'c'\u001b[0m\u001b[1;33m:\u001b[0m  \u001b[1;31m# constant plus exogenous\u001b[0m\u001b[1;33m\u001b[0m\u001b[1;33m\u001b[0m\u001b[0m\n\u001b[1;32m--> 424\u001b[1;33m         \u001b[0mexog\u001b[0m \u001b[1;33m=\u001b[0m \u001b[0madd_trend\u001b[0m\u001b[1;33m(\u001b[0m\u001b[0mexog\u001b[0m\u001b[1;33m,\u001b[0m \u001b[0mtrend\u001b[0m\u001b[1;33m=\u001b[0m\u001b[1;34m'c'\u001b[0m\u001b[1;33m,\u001b[0m \u001b[0mprepend\u001b[0m\u001b[1;33m=\u001b[0m\u001b[1;32mTrue\u001b[0m\u001b[1;33m,\u001b[0m \u001b[0mhas_constant\u001b[0m\u001b[1;33m=\u001b[0m\u001b[1;34m'raise'\u001b[0m\u001b[1;33m)\u001b[0m\u001b[1;33m\u001b[0m\u001b[1;33m\u001b[0m\u001b[0m\n\u001b[0m\u001b[0;32m    425\u001b[0m     \u001b[1;32melif\u001b[0m \u001b[0mtrend\u001b[0m \u001b[1;33m==\u001b[0m \u001b[1;34m'nc'\u001b[0m\u001b[1;33m:\u001b[0m\u001b[1;33m\u001b[0m\u001b[1;33m\u001b[0m\u001b[0m\n\u001b[0;32m    426\u001b[0m         \u001b[0mk_trend\u001b[0m \u001b[1;33m=\u001b[0m \u001b[1;36m0\u001b[0m\u001b[1;33m\u001b[0m\u001b[1;33m\u001b[0m\u001b[0m\n",
      "\u001b[1;32m~\\AppData\\Roaming\\Python\\Python37\\site-packages\\statsmodels\\tsa\\tsatools.py\u001b[0m in \u001b[0;36madd_trend\u001b[1;34m(x, trend, prepend, has_constant)\u001b[0m\n\u001b[0;32m    119\u001b[0m                 \u001b[0mmsg\u001b[0m \u001b[1;33m=\u001b[0m \u001b[1;34m\"x contains a constant. Adding a constant with \"\u001b[0m\u001b[0;31m \u001b[0m\u001b[0;31m\\\u001b[0m\u001b[1;33m\u001b[0m\u001b[1;33m\u001b[0m\u001b[0m\n\u001b[0;32m    120\u001b[0m                       \u001b[1;34m\"trend='{0}' is not allowed.\"\u001b[0m\u001b[1;33m.\u001b[0m\u001b[0mformat\u001b[0m\u001b[1;33m(\u001b[0m\u001b[0mtrend\u001b[0m\u001b[1;33m)\u001b[0m\u001b[1;33m\u001b[0m\u001b[1;33m\u001b[0m\u001b[0m\n\u001b[1;32m--> 121\u001b[1;33m                 \u001b[1;32mraise\u001b[0m \u001b[0mValueError\u001b[0m\u001b[1;33m(\u001b[0m\u001b[0mmsg\u001b[0m\u001b[1;33m)\u001b[0m\u001b[1;33m\u001b[0m\u001b[1;33m\u001b[0m\u001b[0m\n\u001b[0m\u001b[0;32m    122\u001b[0m             \u001b[1;32melif\u001b[0m \u001b[0mhas_constant\u001b[0m \u001b[1;33m==\u001b[0m \u001b[1;34m'skip'\u001b[0m\u001b[1;33m:\u001b[0m\u001b[1;33m\u001b[0m\u001b[1;33m\u001b[0m\u001b[0m\n\u001b[0;32m    123\u001b[0m                 \u001b[0mcolumns\u001b[0m \u001b[1;33m=\u001b[0m \u001b[0mcolumns\u001b[0m\u001b[1;33m[\u001b[0m\u001b[1;36m1\u001b[0m\u001b[1;33m:\u001b[0m\u001b[1;33m]\u001b[0m\u001b[1;33m\u001b[0m\u001b[1;33m\u001b[0m\u001b[0m\n",
      "\u001b[1;31mValueError\u001b[0m: x contains a constant. Adding a constant with trend='c' is not allowed."
     ]
    }
   ],
   "source": [
    "aro(1, 7)"
   ]
  },
  {
   "cell_type": "code",
   "execution_count": 50,
   "metadata": {
    "ExecuteTime": {
     "end_time": "2020-04-30T15:53:51.813692Z",
     "start_time": "2020-04-30T15:53:50.814926Z"
    }
   },
   "outputs": [
    {
     "ename": "ValueError",
     "evalue": "x contains a constant. Adding a constant with trend='c' is not allowed.",
     "output_type": "error",
     "traceback": [
      "\u001b[1;31m---------------------------------------------------------------------------\u001b[0m",
      "\u001b[1;31mValueError\u001b[0m                                Traceback (most recent call last)",
      "\u001b[1;32m<ipython-input-50-9abc3289f7ed>\u001b[0m in \u001b[0;36m<module>\u001b[1;34m\u001b[0m\n\u001b[0;32m      1\u001b[0m \u001b[1;32mfor\u001b[0m \u001b[0mi\u001b[0m \u001b[1;32min\u001b[0m \u001b[0mrange\u001b[0m\u001b[1;33m(\u001b[0m\u001b[1;36m7\u001b[0m\u001b[1;33m)\u001b[0m\u001b[1;33m:\u001b[0m\u001b[1;33m\u001b[0m\u001b[1;33m\u001b[0m\u001b[0m\n\u001b[1;32m----> 2\u001b[1;33m     \u001b[0mbob\u001b[0m \u001b[1;33m=\u001b[0m \u001b[0maro\u001b[0m\u001b[1;33m(\u001b[0m\u001b[0mi\u001b[0m\u001b[1;33m,\u001b[0m \u001b[1;36m7\u001b[0m\u001b[1;33m)\u001b[0m\u001b[1;33m\u001b[0m\u001b[1;33m\u001b[0m\u001b[0m\n\u001b[0m\u001b[0;32m      3\u001b[0m     \u001b[0mprint\u001b[0m\u001b[1;33m(\u001b[0m\u001b[0mbob\u001b[0m\u001b[1;33m.\u001b[0m\u001b[0merror\u001b[0m\u001b[1;33m.\u001b[0m\u001b[0mmean\u001b[0m\u001b[1;33m(\u001b[0m\u001b[1;33m)\u001b[0m\u001b[1;33m)\u001b[0m\u001b[1;33m\u001b[0m\u001b[1;33m\u001b[0m\u001b[0m\n",
      "\u001b[1;32m<ipython-input-49-698d30d5457e>\u001b[0m in \u001b[0;36maro\u001b[1;34m(dia, n)\u001b[0m\n\u001b[0;32m      3\u001b[0m     \u001b[0mX_train\u001b[0m\u001b[1;33m,\u001b[0m \u001b[0mX_test\u001b[0m \u001b[1;33m=\u001b[0m \u001b[0mtrain_test_split\u001b[0m\u001b[1;33m(\u001b[0m\u001b[0mX\u001b[0m\u001b[1;33m,\u001b[0m \u001b[0mtest_size\u001b[0m \u001b[1;33m=\u001b[0m \u001b[0mn\u001b[0m\u001b[1;33m,\u001b[0m \u001b[0mshuffle\u001b[0m \u001b[1;33m=\u001b[0m \u001b[1;32mFalse\u001b[0m\u001b[1;33m)\u001b[0m\u001b[1;33m\u001b[0m\u001b[1;33m\u001b[0m\u001b[0m\n\u001b[0;32m      4\u001b[0m     \u001b[0mmodel\u001b[0m \u001b[1;33m=\u001b[0m \u001b[0mARIMA\u001b[0m\u001b[1;33m(\u001b[0m\u001b[0my_train\u001b[0m\u001b[1;33m.\u001b[0m\u001b[0mvalues\u001b[0m\u001b[1;33m,\u001b[0m \u001b[0morder\u001b[0m\u001b[1;33m=\u001b[0m\u001b[1;33m(\u001b[0m\u001b[1;36m7\u001b[0m\u001b[1;33m,\u001b[0m\u001b[1;36m1\u001b[0m\u001b[1;33m,\u001b[0m\u001b[1;36m0\u001b[0m\u001b[1;33m)\u001b[0m\u001b[1;33m,\u001b[0m \u001b[0mexog\u001b[0m \u001b[1;33m=\u001b[0m \u001b[0mX_train\u001b[0m\u001b[1;33m.\u001b[0m\u001b[0mvalues\u001b[0m\u001b[1;33m)\u001b[0m\u001b[1;33m\u001b[0m\u001b[1;33m\u001b[0m\u001b[0m\n\u001b[1;32m----> 5\u001b[1;33m     \u001b[0mmodel_fit\u001b[0m \u001b[1;33m=\u001b[0m \u001b[0mmodel\u001b[0m\u001b[1;33m.\u001b[0m\u001b[0mfit\u001b[0m\u001b[1;33m(\u001b[0m\u001b[0mdisp\u001b[0m\u001b[1;33m=\u001b[0m\u001b[1;36m0\u001b[0m\u001b[1;33m)\u001b[0m\u001b[1;33m\u001b[0m\u001b[1;33m\u001b[0m\u001b[0m\n\u001b[0m\u001b[0;32m      6\u001b[0m     \u001b[0moutput\u001b[0m \u001b[1;33m=\u001b[0m \u001b[0mmodel_fit\u001b[0m\u001b[1;33m.\u001b[0m\u001b[0mforecast\u001b[0m\u001b[1;33m(\u001b[0m\u001b[0msteps\u001b[0m \u001b[1;33m=\u001b[0m \u001b[0mn\u001b[0m\u001b[1;33m,\u001b[0m \u001b[0mexog\u001b[0m \u001b[1;33m=\u001b[0m \u001b[0mX_test\u001b[0m\u001b[1;33m.\u001b[0m\u001b[0mvalues\u001b[0m\u001b[1;33m)\u001b[0m\u001b[1;33m;\u001b[0m \u001b[0mpredo\u001b[0m \u001b[1;33m=\u001b[0m \u001b[0moutput\u001b[0m\u001b[1;33m[\u001b[0m\u001b[1;36m0\u001b[0m\u001b[1;33m]\u001b[0m\u001b[1;33m\u001b[0m\u001b[1;33m\u001b[0m\u001b[0m\n\u001b[0;32m      7\u001b[0m     \u001b[0my_test\u001b[0m\u001b[1;33m[\u001b[0m\u001b[1;34m\"predict\"\u001b[0m\u001b[1;33m]\u001b[0m \u001b[1;33m=\u001b[0m \u001b[0mpredo\u001b[0m\u001b[1;33m\u001b[0m\u001b[1;33m\u001b[0m\u001b[0m\n",
      "\u001b[1;32m~\\AppData\\Roaming\\Python\\Python37\\site-packages\\statsmodels\\tsa\\arima_model.py\u001b[0m in \u001b[0;36mfit\u001b[1;34m(self, start_params, trend, method, transparams, solver, maxiter, full_output, disp, callback, start_ar_lags, **kwargs)\u001b[0m\n\u001b[0;32m   1198\u001b[0m                                         \u001b[0mmethod\u001b[0m\u001b[1;33m,\u001b[0m \u001b[0mtransparams\u001b[0m\u001b[1;33m,\u001b[0m \u001b[0msolver\u001b[0m\u001b[1;33m,\u001b[0m\u001b[1;33m\u001b[0m\u001b[1;33m\u001b[0m\u001b[0m\n\u001b[0;32m   1199\u001b[0m                                         \u001b[0mmaxiter\u001b[0m\u001b[1;33m,\u001b[0m \u001b[0mfull_output\u001b[0m\u001b[1;33m,\u001b[0m \u001b[0mdisp\u001b[0m\u001b[1;33m,\u001b[0m\u001b[1;33m\u001b[0m\u001b[1;33m\u001b[0m\u001b[0m\n\u001b[1;32m-> 1200\u001b[1;33m                                         callback, start_ar_lags, **kwargs)\n\u001b[0m\u001b[0;32m   1201\u001b[0m         \u001b[0mnormalized_cov_params\u001b[0m \u001b[1;33m=\u001b[0m \u001b[1;32mNone\u001b[0m  \u001b[1;31m# TODO: fix this?\u001b[0m\u001b[1;33m\u001b[0m\u001b[1;33m\u001b[0m\u001b[0m\n\u001b[0;32m   1202\u001b[0m         arima_fit = ARIMAResults(self, mlefit._results.params,\n",
      "\u001b[1;32m~\\AppData\\Roaming\\Python\\Python37\\site-packages\\statsmodels\\tsa\\arima_model.py\u001b[0m in \u001b[0;36mfit\u001b[1;34m(self, start_params, trend, method, transparams, solver, maxiter, full_output, disp, callback, start_ar_lags, **kwargs)\u001b[0m\n\u001b[0;32m    951\u001b[0m         \u001b[1;32melse\u001b[0m\u001b[1;33m:\u001b[0m\u001b[1;33m\u001b[0m\u001b[1;33m\u001b[0m\u001b[0m\n\u001b[0;32m    952\u001b[0m             \u001b[1;31m# Ensures only call once per ARMA instance\u001b[0m\u001b[1;33m\u001b[0m\u001b[1;33m\u001b[0m\u001b[1;33m\u001b[0m\u001b[0m\n\u001b[1;32m--> 953\u001b[1;33m             \u001b[0mk_trend\u001b[0m\u001b[1;33m,\u001b[0m \u001b[0mexog\u001b[0m \u001b[1;33m=\u001b[0m \u001b[0m_make_arma_exog\u001b[0m\u001b[1;33m(\u001b[0m\u001b[0mendog\u001b[0m\u001b[1;33m,\u001b[0m \u001b[0mself\u001b[0m\u001b[1;33m.\u001b[0m\u001b[0mexog\u001b[0m\u001b[1;33m,\u001b[0m \u001b[0mtrend\u001b[0m\u001b[1;33m)\u001b[0m\u001b[1;33m\u001b[0m\u001b[1;33m\u001b[0m\u001b[0m\n\u001b[0m\u001b[0;32m    954\u001b[0m \u001b[1;33m\u001b[0m\u001b[0m\n\u001b[0;32m    955\u001b[0m         \u001b[1;31m# Check has something to estimate\u001b[0m\u001b[1;33m\u001b[0m\u001b[1;33m\u001b[0m\u001b[1;33m\u001b[0m\u001b[0m\n",
      "\u001b[1;32m~\\AppData\\Roaming\\Python\\Python37\\site-packages\\statsmodels\\tsa\\arima_model.py\u001b[0m in \u001b[0;36m_make_arma_exog\u001b[1;34m(endog, exog, trend)\u001b[0m\n\u001b[0;32m    422\u001b[0m         \u001b[0mexog\u001b[0m \u001b[1;33m=\u001b[0m \u001b[0mnp\u001b[0m\u001b[1;33m.\u001b[0m\u001b[0mones\u001b[0m\u001b[1;33m(\u001b[0m\u001b[1;33m(\u001b[0m\u001b[0mlen\u001b[0m\u001b[1;33m(\u001b[0m\u001b[0mendog\u001b[0m\u001b[1;33m)\u001b[0m\u001b[1;33m,\u001b[0m \u001b[1;36m1\u001b[0m\u001b[1;33m)\u001b[0m\u001b[1;33m)\u001b[0m\u001b[1;33m\u001b[0m\u001b[1;33m\u001b[0m\u001b[0m\n\u001b[0;32m    423\u001b[0m     \u001b[1;32melif\u001b[0m \u001b[0mexog\u001b[0m \u001b[1;32mis\u001b[0m \u001b[1;32mnot\u001b[0m \u001b[1;32mNone\u001b[0m \u001b[1;32mand\u001b[0m \u001b[0mtrend\u001b[0m \u001b[1;33m==\u001b[0m \u001b[1;34m'c'\u001b[0m\u001b[1;33m:\u001b[0m  \u001b[1;31m# constant plus exogenous\u001b[0m\u001b[1;33m\u001b[0m\u001b[1;33m\u001b[0m\u001b[0m\n\u001b[1;32m--> 424\u001b[1;33m         \u001b[0mexog\u001b[0m \u001b[1;33m=\u001b[0m \u001b[0madd_trend\u001b[0m\u001b[1;33m(\u001b[0m\u001b[0mexog\u001b[0m\u001b[1;33m,\u001b[0m \u001b[0mtrend\u001b[0m\u001b[1;33m=\u001b[0m\u001b[1;34m'c'\u001b[0m\u001b[1;33m,\u001b[0m \u001b[0mprepend\u001b[0m\u001b[1;33m=\u001b[0m\u001b[1;32mTrue\u001b[0m\u001b[1;33m,\u001b[0m \u001b[0mhas_constant\u001b[0m\u001b[1;33m=\u001b[0m\u001b[1;34m'raise'\u001b[0m\u001b[1;33m)\u001b[0m\u001b[1;33m\u001b[0m\u001b[1;33m\u001b[0m\u001b[0m\n\u001b[0m\u001b[0;32m    425\u001b[0m     \u001b[1;32melif\u001b[0m \u001b[0mtrend\u001b[0m \u001b[1;33m==\u001b[0m \u001b[1;34m'nc'\u001b[0m\u001b[1;33m:\u001b[0m\u001b[1;33m\u001b[0m\u001b[1;33m\u001b[0m\u001b[0m\n\u001b[0;32m    426\u001b[0m         \u001b[0mk_trend\u001b[0m \u001b[1;33m=\u001b[0m \u001b[1;36m0\u001b[0m\u001b[1;33m\u001b[0m\u001b[1;33m\u001b[0m\u001b[0m\n",
      "\u001b[1;32m~\\AppData\\Roaming\\Python\\Python37\\site-packages\\statsmodels\\tsa\\tsatools.py\u001b[0m in \u001b[0;36madd_trend\u001b[1;34m(x, trend, prepend, has_constant)\u001b[0m\n\u001b[0;32m    119\u001b[0m                 \u001b[0mmsg\u001b[0m \u001b[1;33m=\u001b[0m \u001b[1;34m\"x contains a constant. Adding a constant with \"\u001b[0m\u001b[0;31m \u001b[0m\u001b[0;31m\\\u001b[0m\u001b[1;33m\u001b[0m\u001b[1;33m\u001b[0m\u001b[0m\n\u001b[0;32m    120\u001b[0m                       \u001b[1;34m\"trend='{0}' is not allowed.\"\u001b[0m\u001b[1;33m.\u001b[0m\u001b[0mformat\u001b[0m\u001b[1;33m(\u001b[0m\u001b[0mtrend\u001b[0m\u001b[1;33m)\u001b[0m\u001b[1;33m\u001b[0m\u001b[1;33m\u001b[0m\u001b[0m\n\u001b[1;32m--> 121\u001b[1;33m                 \u001b[1;32mraise\u001b[0m \u001b[0mValueError\u001b[0m\u001b[1;33m(\u001b[0m\u001b[0mmsg\u001b[0m\u001b[1;33m)\u001b[0m\u001b[1;33m\u001b[0m\u001b[1;33m\u001b[0m\u001b[0m\n\u001b[0m\u001b[0;32m    122\u001b[0m             \u001b[1;32melif\u001b[0m \u001b[0mhas_constant\u001b[0m \u001b[1;33m==\u001b[0m \u001b[1;34m'skip'\u001b[0m\u001b[1;33m:\u001b[0m\u001b[1;33m\u001b[0m\u001b[1;33m\u001b[0m\u001b[0m\n\u001b[0;32m    123\u001b[0m                 \u001b[0mcolumns\u001b[0m \u001b[1;33m=\u001b[0m \u001b[0mcolumns\u001b[0m\u001b[1;33m[\u001b[0m\u001b[1;36m1\u001b[0m\u001b[1;33m:\u001b[0m\u001b[1;33m]\u001b[0m\u001b[1;33m\u001b[0m\u001b[1;33m\u001b[0m\u001b[0m\n",
      "\u001b[1;31mValueError\u001b[0m: x contains a constant. Adding a constant with trend='c' is not allowed."
     ]
    }
   ],
   "source": [
    "for i in range(7):\n",
    "    bob = aro(i, 7)\n",
    "    print(bob.error.mean())"
   ]
  },
  {
   "cell_type": "markdown",
   "metadata": {
    "colab_type": "text",
    "id": "xSLrLtOAZKCe"
   },
   "source": [
    "- Para graficar"
   ]
  },
  {
   "cell_type": "code",
   "execution_count": 66,
   "metadata": {
    "ExecuteTime": {
     "end_time": "2020-04-28T04:01:31.165472Z",
     "start_time": "2020-04-28T04:01:31.153488Z"
    },
    "colab": {},
    "colab_type": "code",
    "id": "vCvHtapnZKCf"
   },
   "outputs": [],
   "source": [
    "def visual1(dia, n):\n",
    "    regio = reg(dia, n, \"general\")\n",
    "    rego = regio[[\"predict\", \"real\"]]\n",
    "    \n",
    "    rego.iplot(title = f\"general: {Mape(*rego.values.T)}\")\n",
    "    regio.resta.iplot(title = \"resta\")\n",
    "    \n",
    "    regal = reg(dia, n, \"forcasting\")[[\"predict\", \"real\"]]\n",
    "    regal.iplot(title = f\"forcasting: {Mape(*regal.values.T)}\")"
   ]
  },
  {
   "cell_type": "code",
   "execution_count": 67,
   "metadata": {
    "ExecuteTime": {
     "end_time": "2020-04-28T04:01:31.373311Z",
     "start_time": "2020-04-28T04:01:31.369317Z"
    },
    "colab": {},
    "colab_type": "code",
    "id": "ZsXJOenwZKCl"
   },
   "outputs": [],
   "source": [
    "# visual1(1, 7)"
   ]
  },
  {
   "cell_type": "markdown",
   "metadata": {
    "colab_type": "text",
    "id": "lCuKekUzZKCp"
   },
   "source": [
    "# Periodos en residuales"
   ]
  },
  {
   "cell_type": "code",
   "execution_count": 309,
   "metadata": {
    "ExecuteTime": {
     "end_time": "2020-04-28T05:29:30.616794Z",
     "start_time": "2020-04-28T05:29:30.607859Z"
    },
    "colab": {},
    "colab_type": "code",
    "id": "z9RYOJyYZKCp"
   },
   "outputs": [],
   "source": [
    "def perio(dia, n):\n",
    "    # Periodograma de resta real - pred\n",
    "    reg1 = reg(dia, n, \"general\")\n",
    "    \n",
    "#     f, asd = signal.periodogram(reg1.resta, 1)\n",
    "    \n",
    "#     # graficar\n",
    "#     plt.plot(1/f, asd); plt.xlabel('periodo'); plt.ylabel('PSD')\n",
    "\n",
    "\n",
    "    result = seasonal_decompose(reg1.resta, model=\"additive\").seasonal.reset_index(drop = True)\n",
    "    f, asd = signal.periodogram(result)\n",
    "\n",
    "\n",
    "\n",
    "    # DataFrame con columna de potencia y columna de \n",
    "    picos = pd.DataFrame(asd, columns=[\"potencia\"])\n",
    "    picos[\"periodo\"] = 1/f\n",
    "    picos = picos.sort_values(by=\"potencia\",ascending=False).reset_index(drop = True).head(12)\n",
    "    return picos[:4]"
   ]
  },
  {
   "cell_type": "code",
   "execution_count": 248,
   "metadata": {
    "ExecuteTime": {
     "end_time": "2020-04-28T05:20:41.393006Z",
     "start_time": "2020-04-28T05:20:40.924367Z"
    },
    "colab": {},
    "colab_type": "code",
    "id": "HGHCbXpZZKCt"
   },
   "outputs": [
    {
     "data": {
      "text/html": [
       "<div>\n",
       "<style scoped>\n",
       "    .dataframe tbody tr th:only-of-type {\n",
       "        vertical-align: middle;\n",
       "    }\n",
       "\n",
       "    .dataframe tbody tr th {\n",
       "        vertical-align: top;\n",
       "    }\n",
       "\n",
       "    .dataframe thead th {\n",
       "        text-align: right;\n",
       "    }\n",
       "</style>\n",
       "<table border=\"1\" class=\"dataframe\">\n",
       "  <thead>\n",
       "    <tr style=\"text-align: right;\">\n",
       "      <th></th>\n",
       "      <th>potencia</th>\n",
       "      <th>periodo</th>\n",
       "    </tr>\n",
       "  </thead>\n",
       "  <tbody>\n",
       "    <tr>\n",
       "      <th>0</th>\n",
       "      <td>1.328078e+08</td>\n",
       "      <td>8.658228</td>\n",
       "    </tr>\n",
       "    <tr>\n",
       "      <th>1</th>\n",
       "      <td>1.274461e+08</td>\n",
       "      <td>6.514286</td>\n",
       "    </tr>\n",
       "    <tr>\n",
       "      <th>2</th>\n",
       "      <td>6.564899e+07</td>\n",
       "      <td>3.717391</td>\n",
       "    </tr>\n",
       "    <tr>\n",
       "      <th>3</th>\n",
       "      <td>5.426551e+07</td>\n",
       "      <td>4.717241</td>\n",
       "    </tr>\n",
       "    <tr>\n",
       "      <th>4</th>\n",
       "      <td>5.307003e+07</td>\n",
       "      <td>12.905660</td>\n",
       "    </tr>\n",
       "    <tr>\n",
       "      <th>5</th>\n",
       "      <td>4.267856e+07</td>\n",
       "      <td>7.434783</td>\n",
       "    </tr>\n",
       "    <tr>\n",
       "      <th>6</th>\n",
       "      <td>3.234190e+07</td>\n",
       "      <td>4.000000</td>\n",
       "    </tr>\n",
       "    <tr>\n",
       "      <th>7</th>\n",
       "      <td>2.609387e+07</td>\n",
       "      <td>10.363636</td>\n",
       "    </tr>\n",
       "    <tr>\n",
       "      <th>8</th>\n",
       "      <td>2.276397e+07</td>\n",
       "      <td>5.181818</td>\n",
       "    </tr>\n",
       "    <tr>\n",
       "      <th>9</th>\n",
       "      <td>2.234021e+07</td>\n",
       "      <td>13.153846</td>\n",
       "    </tr>\n",
       "    <tr>\n",
       "      <th>10</th>\n",
       "      <td>1.866851e+07</td>\n",
       "      <td>3.053571</td>\n",
       "    </tr>\n",
       "    <tr>\n",
       "      <th>11</th>\n",
       "      <td>1.541404e+07</td>\n",
       "      <td>5.221374</td>\n",
       "    </tr>\n",
       "  </tbody>\n",
       "</table>\n",
       "</div>"
      ],
      "text/plain": [
       "        potencia    periodo\n",
       "0   1.328078e+08   8.658228\n",
       "1   1.274461e+08   6.514286\n",
       "2   6.564899e+07   3.717391\n",
       "3   5.426551e+07   4.717241\n",
       "4   5.307003e+07  12.905660\n",
       "5   4.267856e+07   7.434783\n",
       "6   3.234190e+07   4.000000\n",
       "7   2.609387e+07  10.363636\n",
       "8   2.276397e+07   5.181818\n",
       "9   2.234021e+07  13.153846\n",
       "10  1.866851e+07   3.053571\n",
       "11  1.541404e+07   5.221374"
      ]
     },
     "execution_count": 248,
     "metadata": {},
     "output_type": "execute_result"
    }
   ],
   "source": [
    "perio(1, 7)"
   ]
  },
  {
   "cell_type": "markdown",
   "metadata": {},
   "source": [
    "# Solo SenCos"
   ]
  },
  {
   "cell_type": "code",
   "execution_count": 310,
   "metadata": {
    "ExecuteTime": {
     "end_time": "2020-04-28T05:29:31.977749Z",
     "start_time": "2020-04-28T05:29:31.961792Z"
    }
   },
   "outputs": [],
   "source": [
    "def sencos(dia, n):\n",
    "     # Se llama a X y a Y\n",
    "    # Se crea dataframe de fourier\n",
    "    sencos = pd.DataFrame()\n",
    "    t = np.arange(1,len(consumo[consumo.index.weekday == dia])+1)\n",
    "    sencos[\"t\"]=t\n",
    "    \n",
    "    # Mando llamar la funcion de armonicos\n",
    "    p = perio(dia, n)\n",
    "    \n",
    "    # fourier\n",
    "    for i  in  p.periodo:\n",
    "            sencos[\"{}_sen\".format(i)] = np.abs(np.sin(((2*np.pi)/(i))*t))\n",
    "            sencos[\"{}_cos\".format(i)] = np.abs(np.cos(((2*np.pi)/(i))*t))\n",
    "    sencos['ones']=1\n",
    "    sencos['sen']=np.abs(np.sin(((2*np.pi)/14)*t))\n",
    "    sencos['cos']=np.abs(np.cos(((2*np.pi)/14)*t))\n",
    "    sencos['sen1']=np.abs(np.sin(((2*np.pi)/(365.25))*t))\n",
    "    sencos['cos1']=np.abs(np.cos(((2*np.pi)/(365.25))*t))\n",
    "    sencos['sen2']=np.abs(np.sin(((2*np.pi)/(28))*t))\n",
    "    sencos['cos2']=np.abs(np.cos(((2*np.pi)/(28))*t))\n",
    "    sencos.index =consumo[consumo.index.weekday == dia].index\n",
    "    return sencos"
   ]
  },
  {
   "cell_type": "code",
   "execution_count": 311,
   "metadata": {
    "ExecuteTime": {
     "end_time": "2020-04-28T05:29:32.786282Z",
     "start_time": "2020-04-28T05:29:32.773354Z"
    }
   },
   "outputs": [],
   "source": [
    "def reg2(dia, n, pre_forc): # n = 7 , pre_for = \"general\" o \"forcasting\"\n",
    "    # Se llama a X y a Y\n",
    "    X = dummies(dia, n); T = sencos(dia, n); y = consumo[consumo.index.weekday == dia]\n",
    "    C = pd.concat([X, T], 1)\n",
    "    # split\n",
    "    Xo, yo = separar(n, C, y) \n",
    "    \n",
    "    # Decision \"general\" \"forcasting\"\n",
    "    if pre_forc == \"general\": pre_forc = 0\n",
    "    elif pre_forc == \"forcasting\": pre_forc = 1\n",
    "    else: print(f\"expected `general` or `forcasting`, got {pre_forc} instead\")\n",
    "        \n",
    "    # regresion y predeccion    \n",
    "    reg = LinearRegression(n_jobs =-1).fit(Xo[0], yo[0])\n",
    "#     reg = Lasso(normalize = True, max_iter = 10000).fit(Xo[0], yo[0])\n",
    "\n",
    "\n",
    "    y_predict=reg.predict(Xo[pre_forc])\n",
    "    \n",
    "    # dataframe real-predict- resta\n",
    "    comp = pd.DataFrame(y_predict, columns = [\"predict\"],index = yo[pre_forc].index)\n",
    "    comp[\"real\"] = yo[pre_forc]; comp[\"error\"] = np.abs(((comp.real - comp.predict))/comp.real)*100\n",
    "    comp[\"resta\"] = comp.real - comp.predict\n",
    "    return comp"
   ]
  },
  {
   "cell_type": "code",
   "execution_count": 312,
   "metadata": {
    "ExecuteTime": {
     "end_time": "2020-04-28T05:29:39.760534Z",
     "start_time": "2020-04-28T05:29:33.172522Z"
    }
   },
   "outputs": [
    {
     "name": "stdout",
     "output_type": "stream",
     "text": [
      "2.2252753354704\n",
      "2.1064743898207383\n",
      "2.0996441804977444\n",
      "2.1631452453632423\n",
      "2.203056295857972\n",
      "2.169491236226695\n",
      "2.154674078905796\n"
     ]
    }
   ],
   "source": [
    "for i in range(7):\n",
    "    print(reg2(i, 7, \"general\").error.mean())"
   ]
  },
  {
   "cell_type": "code",
   "execution_count": 244,
   "metadata": {
    "ExecuteTime": {
     "end_time": "2020-04-28T05:15:16.225524Z",
     "start_time": "2020-04-28T05:15:14.702118Z"
    }
   },
   "outputs": [
    {
     "data": {
      "application/vnd.plotly.v1+json": {
       "config": {
        "linkText": "Export to plot.ly",
        "plotlyServerURL": "https://plot.ly",
        "showLink": true
       },
       "data": [
        {
         "line": {
          "color": "rgba(255, 153, 51, 1.0)",
          "dash": "solid",
          "shape": "linear",
          "width": 1.3
         },
         "mode": "lines",
         "name": "predict",
         "text": "",
         "type": "scatter",
         "x": [
          "2007-01-01",
          "2007-01-08",
          "2007-01-15",
          "2007-01-22",
          "2007-01-29",
          "2007-02-05",
          "2007-02-12",
          "2007-02-19",
          "2007-02-26",
          "2007-03-05",
          "2007-03-12",
          "2007-03-19",
          "2007-03-26",
          "2007-04-02",
          "2007-04-09",
          "2007-04-16",
          "2007-04-23",
          "2007-04-30",
          "2007-05-07",
          "2007-05-14",
          "2007-05-21",
          "2007-05-28",
          "2007-06-04",
          "2007-06-11",
          "2007-06-18",
          "2007-06-25",
          "2007-07-02",
          "2007-07-09",
          "2007-07-16",
          "2007-07-23",
          "2007-07-30",
          "2007-08-06",
          "2007-08-13",
          "2007-08-20",
          "2007-08-27",
          "2007-09-03",
          "2007-09-10",
          "2007-09-17",
          "2007-09-24",
          "2007-10-01",
          "2007-10-08",
          "2007-10-15",
          "2007-10-22",
          "2007-10-29",
          "2007-11-05",
          "2007-11-12",
          "2007-11-19",
          "2007-11-26",
          "2007-12-03",
          "2007-12-10",
          "2007-12-17",
          "2007-12-24",
          "2007-12-31",
          "2008-01-07",
          "2008-01-14",
          "2008-01-21",
          "2008-01-28",
          "2008-02-04",
          "2008-02-11",
          "2008-02-18",
          "2008-02-25",
          "2008-03-03",
          "2008-03-10",
          "2008-03-17",
          "2008-03-24",
          "2008-03-31",
          "2008-04-07",
          "2008-04-14",
          "2008-04-21",
          "2008-04-28",
          "2008-05-05",
          "2008-05-12",
          "2008-05-19",
          "2008-05-26",
          "2008-06-02",
          "2008-06-09",
          "2008-06-16",
          "2008-06-23",
          "2008-06-30",
          "2008-07-07",
          "2008-07-14",
          "2008-07-21",
          "2008-07-28",
          "2008-08-04",
          "2008-08-11",
          "2008-08-18",
          "2008-08-25",
          "2008-09-01",
          "2008-09-08",
          "2008-09-15",
          "2008-09-22",
          "2008-09-29",
          "2008-10-06",
          "2008-10-13",
          "2008-10-20",
          "2008-10-27",
          "2008-11-03",
          "2008-11-10",
          "2008-11-17",
          "2008-11-24",
          "2008-12-01",
          "2008-12-08",
          "2008-12-15",
          "2008-12-22",
          "2008-12-29",
          "2009-01-05",
          "2009-01-12",
          "2009-01-19",
          "2009-01-26",
          "2009-02-02",
          "2009-02-09",
          "2009-02-16",
          "2009-02-23",
          "2009-03-02",
          "2009-03-09",
          "2009-03-16",
          "2009-03-23",
          "2009-03-30",
          "2009-04-06",
          "2009-04-13",
          "2009-04-20",
          "2009-04-27",
          "2009-05-04",
          "2009-05-11",
          "2009-05-18",
          "2009-05-25",
          "2009-06-01",
          "2009-06-08",
          "2009-06-15",
          "2009-06-22",
          "2009-06-29",
          "2009-07-06",
          "2009-07-13",
          "2009-07-20",
          "2009-07-27",
          "2009-08-03",
          "2009-08-10",
          "2009-08-17",
          "2009-08-24",
          "2009-08-31",
          "2009-09-07",
          "2009-09-14",
          "2009-09-21",
          "2009-09-28",
          "2009-10-05",
          "2009-10-12",
          "2009-10-19",
          "2009-10-26",
          "2009-11-02",
          "2009-11-09",
          "2009-11-16",
          "2009-11-23",
          "2009-11-30",
          "2009-12-07",
          "2009-12-14",
          "2009-12-21",
          "2009-12-28",
          "2010-01-04",
          "2010-01-11",
          "2010-01-18",
          "2010-01-25",
          "2010-02-01",
          "2010-02-08",
          "2010-02-15",
          "2010-02-22",
          "2010-03-01",
          "2010-03-08",
          "2010-03-15",
          "2010-03-22",
          "2010-03-29",
          "2010-04-05",
          "2010-04-12",
          "2010-04-19",
          "2010-04-26",
          "2010-05-03",
          "2010-05-10",
          "2010-05-17",
          "2010-05-24",
          "2010-05-31",
          "2010-06-07",
          "2010-06-14",
          "2010-06-21",
          "2010-06-28",
          "2010-07-05",
          "2010-07-12",
          "2010-07-19",
          "2010-07-26",
          "2010-08-02",
          "2010-08-09",
          "2010-08-16",
          "2010-08-23",
          "2010-08-30",
          "2010-09-06",
          "2010-09-13",
          "2010-09-20",
          "2010-09-27",
          "2010-10-04",
          "2010-10-11",
          "2010-10-18",
          "2010-10-25",
          "2010-11-01",
          "2010-11-08",
          "2010-11-15",
          "2010-11-22",
          "2010-11-29",
          "2010-12-06",
          "2010-12-13",
          "2010-12-20",
          "2010-12-27",
          "2011-01-03",
          "2011-01-10",
          "2011-01-17",
          "2011-01-24",
          "2011-01-31",
          "2011-02-07",
          "2011-02-14",
          "2011-02-21",
          "2011-02-28",
          "2011-03-07",
          "2011-03-14",
          "2011-03-21",
          "2011-03-28",
          "2011-04-04",
          "2011-04-11",
          "2011-04-18",
          "2011-04-25",
          "2011-05-02",
          "2011-05-09",
          "2011-05-16",
          "2011-05-23",
          "2011-05-30",
          "2011-06-06",
          "2011-06-13",
          "2011-06-20",
          "2011-06-27",
          "2011-07-04",
          "2011-07-11",
          "2011-07-18",
          "2011-07-25",
          "2011-08-01",
          "2011-08-08",
          "2011-08-15",
          "2011-08-22",
          "2011-08-29",
          "2011-09-05",
          "2011-09-12",
          "2011-09-19",
          "2011-09-26",
          "2011-10-03",
          "2011-10-10",
          "2011-10-17",
          "2011-10-24",
          "2011-10-31",
          "2011-11-07",
          "2011-11-14",
          "2011-11-21",
          "2011-11-28",
          "2011-12-05",
          "2011-12-12",
          "2011-12-19",
          "2011-12-26",
          "2012-01-02",
          "2012-01-09",
          "2012-01-16",
          "2012-01-23",
          "2012-01-30",
          "2012-02-06",
          "2012-02-13",
          "2012-02-20",
          "2012-02-27",
          "2012-03-05",
          "2012-03-12",
          "2012-03-19",
          "2012-03-26",
          "2012-04-02",
          "2012-04-09",
          "2012-04-16",
          "2012-04-23",
          "2012-04-30",
          "2012-05-07",
          "2012-05-14",
          "2012-05-21",
          "2012-05-28",
          "2012-06-04",
          "2012-06-11",
          "2012-06-18",
          "2012-06-25",
          "2012-07-02",
          "2012-07-09",
          "2012-07-16",
          "2012-07-23",
          "2012-07-30",
          "2012-08-06",
          "2012-08-13",
          "2012-08-20",
          "2012-08-27",
          "2012-09-03",
          "2012-09-10",
          "2012-09-17",
          "2012-09-24",
          "2012-10-01",
          "2012-10-08",
          "2012-10-15",
          "2012-10-22",
          "2012-10-29",
          "2012-11-05",
          "2012-11-12",
          "2012-11-19",
          "2012-11-26",
          "2012-12-03",
          "2012-12-10",
          "2012-12-17",
          "2012-12-24",
          "2012-12-31",
          "2013-01-07",
          "2013-01-14",
          "2013-01-21",
          "2013-01-28",
          "2013-02-04",
          "2013-02-11",
          "2013-02-18",
          "2013-02-25",
          "2013-03-04",
          "2013-03-11",
          "2013-03-18",
          "2013-03-25",
          "2013-04-01",
          "2013-04-08",
          "2013-04-15",
          "2013-04-22",
          "2013-04-29",
          "2013-05-06",
          "2013-05-13",
          "2013-05-20",
          "2013-05-27",
          "2013-06-03",
          "2013-06-10",
          "2013-06-17",
          "2013-06-24",
          "2013-07-01",
          "2013-07-08",
          "2013-07-15",
          "2013-07-22",
          "2013-07-29",
          "2013-08-05",
          "2013-08-12",
          "2013-08-19",
          "2013-08-26",
          "2013-09-02",
          "2013-09-09",
          "2013-09-16",
          "2013-09-23",
          "2013-09-30",
          "2013-10-07",
          "2013-10-14",
          "2013-10-21",
          "2013-10-28",
          "2013-11-04",
          "2013-11-11",
          "2013-11-18",
          "2013-11-25",
          "2013-12-02",
          "2013-12-09",
          "2013-12-16",
          "2013-12-23",
          "2013-12-30",
          "2014-01-06",
          "2014-01-13",
          "2014-01-20",
          "2014-01-27",
          "2014-02-03",
          "2014-02-10",
          "2014-02-17",
          "2014-02-24",
          "2014-03-03",
          "2014-03-10",
          "2014-03-17",
          "2014-03-24",
          "2014-03-31",
          "2014-04-07",
          "2014-04-14",
          "2014-04-21",
          "2014-04-28",
          "2014-05-05",
          "2014-05-12",
          "2014-05-19",
          "2014-05-26",
          "2014-06-02",
          "2014-06-09",
          "2014-06-16",
          "2014-06-23",
          "2014-06-30",
          "2014-07-07",
          "2014-07-14",
          "2014-07-21",
          "2014-07-28",
          "2014-08-04",
          "2014-08-11",
          "2014-08-18",
          "2014-08-25",
          "2014-09-01",
          "2014-09-08",
          "2014-09-15",
          "2014-09-22",
          "2014-09-29",
          "2014-10-06",
          "2014-10-13",
          "2014-10-20",
          "2014-10-27",
          "2014-11-03",
          "2014-11-10",
          "2014-11-17",
          "2014-11-24",
          "2014-12-01",
          "2014-12-08",
          "2014-12-15",
          "2014-12-22",
          "2014-12-29",
          "2015-01-05",
          "2015-01-12",
          "2015-01-19",
          "2015-01-26",
          "2015-02-02",
          "2015-02-09",
          "2015-02-16",
          "2015-02-23",
          "2015-03-02",
          "2015-03-09",
          "2015-03-16",
          "2015-03-23",
          "2015-03-30",
          "2015-04-06",
          "2015-04-13",
          "2015-04-20",
          "2015-04-27",
          "2015-05-04",
          "2015-05-11",
          "2015-05-18",
          "2015-05-25",
          "2015-06-01",
          "2015-06-08",
          "2015-06-15",
          "2015-06-22",
          "2015-06-29",
          "2015-07-06",
          "2015-07-13",
          "2015-07-20",
          "2015-07-27",
          "2015-08-03",
          "2015-08-10",
          "2015-08-17",
          "2015-08-24",
          "2015-08-31",
          "2015-09-07",
          "2015-09-14",
          "2015-09-21",
          "2015-09-28",
          "2015-10-05",
          "2015-10-12",
          "2015-10-19",
          "2015-10-26",
          "2015-11-02",
          "2015-11-09",
          "2015-11-16",
          "2015-11-23",
          "2015-11-30",
          "2015-12-07",
          "2015-12-14",
          "2015-12-21",
          "2015-12-28",
          "2016-01-04",
          "2016-01-11",
          "2016-01-18",
          "2016-01-25",
          "2016-02-01",
          "2016-02-08",
          "2016-02-15",
          "2016-02-22",
          "2016-02-29",
          "2016-03-07",
          "2016-03-14",
          "2016-03-21",
          "2016-03-28",
          "2016-04-04",
          "2016-04-11",
          "2016-04-18",
          "2016-04-25",
          "2016-05-02",
          "2016-05-09",
          "2016-05-16",
          "2016-05-23",
          "2016-05-30",
          "2016-06-06",
          "2016-06-13",
          "2016-06-20",
          "2016-06-27",
          "2016-07-04",
          "2016-07-11",
          "2016-07-18",
          "2016-07-25",
          "2016-08-01",
          "2016-08-08",
          "2016-08-15",
          "2016-08-22",
          "2016-08-29",
          "2016-09-05",
          "2016-09-12",
          "2016-09-19",
          "2016-09-26",
          "2016-10-03",
          "2016-10-10",
          "2016-10-17",
          "2016-10-24",
          "2016-10-31",
          "2016-11-07",
          "2016-11-14",
          "2016-11-21",
          "2016-11-28",
          "2016-12-05",
          "2016-12-12",
          "2016-12-19",
          "2016-12-26",
          "2017-01-02",
          "2017-01-09",
          "2017-01-16",
          "2017-01-23",
          "2017-01-30",
          "2017-02-06",
          "2017-02-13",
          "2017-02-20",
          "2017-02-27",
          "2017-03-06",
          "2017-03-13",
          "2017-03-20",
          "2017-03-27",
          "2017-04-03",
          "2017-04-10",
          "2017-04-17",
          "2017-04-24",
          "2017-05-01",
          "2017-05-08",
          "2017-05-15",
          "2017-05-22",
          "2017-05-29",
          "2017-06-05",
          "2017-06-12",
          "2017-06-19",
          "2017-06-26",
          "2017-07-03",
          "2017-07-10",
          "2017-07-17",
          "2017-07-24",
          "2017-07-31",
          "2017-08-07",
          "2017-08-14",
          "2017-08-21",
          "2017-08-28",
          "2017-09-04",
          "2017-09-11",
          "2017-09-18",
          "2017-09-25",
          "2017-10-02",
          "2017-10-09",
          "2017-10-16",
          "2017-10-23",
          "2017-10-30",
          "2017-11-06",
          "2017-11-13",
          "2017-11-20",
          "2017-11-27",
          "2017-12-04",
          "2017-12-11",
          "2017-12-18",
          "2017-12-25",
          "2018-01-01",
          "2018-01-08",
          "2018-01-15",
          "2018-01-22",
          "2018-01-29",
          "2018-02-05",
          "2018-02-12",
          "2018-02-19",
          "2018-02-26",
          "2018-03-05",
          "2018-03-12",
          "2018-03-19",
          "2018-03-26",
          "2018-04-02",
          "2018-04-09",
          "2018-04-16",
          "2018-04-23",
          "2018-04-30",
          "2018-05-07",
          "2018-05-14",
          "2018-05-21",
          "2018-05-28",
          "2018-06-04",
          "2018-06-11",
          "2018-06-18",
          "2018-06-25",
          "2018-07-02",
          "2018-07-09",
          "2018-07-16",
          "2018-07-23",
          "2018-07-30",
          "2018-08-06",
          "2018-08-13",
          "2018-08-20",
          "2018-08-27",
          "2018-09-03",
          "2018-09-10",
          "2018-09-17",
          "2018-09-24",
          "2018-10-01",
          "2018-10-08",
          "2018-10-15",
          "2018-10-22",
          "2018-10-29",
          "2018-11-05",
          "2018-11-12",
          "2018-11-19",
          "2018-11-26",
          "2018-12-03",
          "2018-12-10",
          "2018-12-17",
          "2018-12-24",
          "2018-12-31",
          "2019-01-07",
          "2019-01-14",
          "2019-01-21",
          "2019-01-28",
          "2019-02-04",
          "2019-02-11",
          "2019-02-18",
          "2019-02-25",
          "2019-03-04",
          "2019-03-11",
          "2019-03-18",
          "2019-03-25",
          "2019-04-01",
          "2019-04-08",
          "2019-04-15",
          "2019-04-22",
          "2019-04-29",
          "2019-05-06",
          "2019-05-13",
          "2019-05-20",
          "2019-05-27",
          "2019-06-03",
          "2019-06-10",
          "2019-06-17",
          "2019-06-24",
          "2019-07-01",
          "2019-07-08",
          "2019-07-15",
          "2019-07-22",
          "2019-07-29",
          "2019-08-05",
          "2019-08-12",
          "2019-08-19",
          "2019-08-26",
          "2019-09-02",
          "2019-09-09",
          "2019-09-16",
          "2019-09-23",
          "2019-09-30",
          "2019-10-07",
          "2019-10-14",
          "2019-10-21",
          "2019-10-28",
          "2019-11-04",
          "2019-11-11",
          "2019-11-18",
          "2019-11-25",
          "2019-12-02",
          "2019-12-09",
          "2019-12-16",
          "2019-12-23",
          "2019-12-30",
          "2020-01-06",
          "2020-01-13",
          "2020-01-20",
          "2020-01-27",
          "2020-02-03",
          "2020-02-10"
         ],
         "y": [
          97414.61941541004,
          137807.31086841493,
          137492.58938189517,
          137700.26851723267,
          139660.17937288986,
          117317.49395553526,
          137885.8129436532,
          138463.94137385202,
          140640.94678786225,
          143570.44092007517,
          142855.57449635008,
          124270.20427263128,
          143999.2104036215,
          143963.41807453948,
          139387.8202929167,
          145805.23922980094,
          148031.7210935248,
          148627.012368705,
          150837.3509263806,
          153564.00918857683,
          154556.99852987716,
          151757.86373897645,
          149637.1110524636,
          148221.20084723615,
          146024.75010721208,
          141930.4977294662,
          134004.16542493898,
          136153.2801601753,
          136652.3607563239,
          136859.5354236652,
          138889.29019096325,
          141525.272234467,
          139923.31720289332,
          141199.86460150155,
          142195.84491246767,
          141812.95382038737,
          140693.643302584,
          128305.72596351922,
          143009.0464415219,
          141723.9326750367,
          141045.15679053153,
          141099.3851422136,
          139906.1124125087,
          139306.18160935634,
          139489.96152332262,
          139814.46778729415,
          118531.55303664178,
          136155.92971029144,
          137313.60927231866,
          139544.25194032735,
          142681.38999026688,
          117365.81271004479,
          113423.66534981721,
          143254.82812626718,
          141277.78489082732,
          140505.74154001646,
          142825.51711408922,
          121450.87526410863,
          144779.22188860827,
          143342.08876046902,
          144539.24750686437,
          147213.6721668613,
          145451.40217865945,
          145927.27832040773,
          143502.7576032307,
          146970.1526779831,
          146527.72056881015,
          148698.08135022636,
          150401.91209447387,
          150540.32988468543,
          151949.49248028448,
          154767.44351185602,
          155807.56344722916,
          154047.33989725614,
          151818.22460736602,
          150776.94755509554,
          148501.61688969395,
          145507.9604396402,
          143501.79930177663,
          138110.1847099567,
          139335.22039984324,
          137553.7983965529,
          138231.58170451463,
          141110.49912164896,
          138641.62292408536,
          137415.932280512,
          138590.83712211577,
          138104.49519098614,
          136160.2291951226,
          122559.72522547941,
          137974.21660242893,
          139302.6588093323,
          139039.1202047626,
          140511.4172052578,
          142317.50929446047,
          140136.47843551956,
          138539.9737063172,
          140481.71793932997,
          120265.70560843678,
          138721.67511315865,
          139095.8424560025,
          140917.83508864345,
          142204.8797530132,
          139342.82141893829,
          138004.5180262738,
          134181.14576179878,
          134451.91422231696,
          134338.59905789263,
          137254.63797628158,
          114864.13358700584,
          135582.1917960439,
          137256.48213128938,
          140061.194464191,
          144774.92856993357,
          145389.92076595477,
          127409.68198750485,
          147646.21666809847,
          147135.9735487189,
          146192.18538133803,
          143815.68965469918,
          148603.45858283306,
          143060.23448705082,
          143821.6880208539,
          147770.89965609615,
          153775.72801649006,
          153392.88840255546,
          152225.71163851325,
          151475.49711484835,
          149820.66792985116,
          146147.12719358,
          143873.40752425566,
          137774.7849685397,
          138852.813805482,
          139369.81081816583,
          142743.83513112686,
          149809.68351417908,
          149316.66480424156,
          144551.12376173856,
          142533.7943190592,
          142188.80034075974,
          138915.35410505335,
          135423.5703818454,
          141675.68058987288,
          142931.6766724286,
          142236.00141044921,
          139602.9882932722,
          143967.48728913852,
          142793.49991883064,
          141079.62563283095,
          143068.56348476734,
          122822.07987753542,
          140178.6761427784,
          137995.09990876063,
          138340.73674869645,
          138623.4742566158,
          139947.59229643724,
          139807.34838697535,
          138690.145927088,
          143939.4687971413,
          143396.39789137128,
          145449.81491263135,
          128148.69864747161,
          139181.06264747167,
          146072.03178076955,
          150086.2388708603,
          153994.748540267,
          154158.58513183467,
          135370.555606165,
          155884.1229493663,
          156732.04567754653,
          153838.84893125296,
          158263.14734702522,
          159188.097593286,
          159215.5608388998,
          159479.60739750188,
          164594.31032687626,
          165106.27459252294,
          164861.32821889865,
          163297.52252667083,
          161642.97140362472,
          159177.20723540767,
          154334.56362158194,
          151649.44873800664,
          146277.23510411492,
          147769.19781511126,
          148164.84504422004,
          148935.25925055397,
          153626.0585171034,
          150957.88425864256,
          149863.83463751353,
          151754.12691857398,
          153272.82334126128,
          152726.48634349066,
          152042.83535437175,
          153527.6930557196,
          154148.35601653066,
          152548.58041316416,
          151537.6224777582,
          153241.73205079776,
          152151.56695699063,
          149157.02146146883,
          150706.32870299835,
          133847.12889302487,
          154661.83292811975,
          155300.65236831416,
          156359.18469371815,
          148869.41611985193,
          153952.8561145832,
          147993.14662243216,
          153605.6485867956,
          158807.44382479563,
          158117.4982798607,
          160496.57570528885,
          161369.8088764832,
          138330.17159166164,
          158482.17411328695,
          160778.35484926868,
          163012.5443691549,
          164317.30404378302,
          165015.2534235804,
          148563.71400406593,
          168541.29885474028,
          169330.98234339245,
          171426.7681164571,
          173393.16722849195,
          170998.42343566363,
          175544.68991760394,
          180038.98638315537,
          181944.7956275274,
          182481.77561029434,
          181098.48176705895,
          179748.0274074091,
          177086.5021086882,
          173127.62415417485,
          168989.87626324006,
          159223.93388207583,
          158186.16726416408,
          157082.1392576404,
          158858.50119432696,
          166006.3123696458,
          165764.41470397898,
          162950.07510374518,
          164067.40203987458,
          163623.05429161672,
          161638.6473646775,
          161707.07002275845,
          163081.59289382037,
          164331.93048378633,
          163768.49646263366,
          163146.7056905793,
          163597.48177272614,
          163456.68823710748,
          161563.8235800984,
          159949.14459965212,
          160724.05788625428,
          139906.6401200333,
          158047.41335611395,
          160610.76156888207,
          145424.45994235008,
          160139.37205898564,
          141685.61957500136,
          144574.5758770773,
          161638.5802117249,
          159870.87569657218,
          160572.2016705906,
          160771.0290824537,
          138027.4847266337,
          158602.53909648754,
          162628.28478742842,
          165459.12990931433,
          167986.12729841913,
          167563.95128017064,
          150162.62301506585,
          170996.04004618595,
          171126.4861133081,
          169006.95051380742,
          175227.9110435781,
          176392.50888083864,
          176544.36920166525,
          179994.894049715,
          183039.05713896913,
          183621.20948690973,
          182395.97320467094,
          183150.45690956397,
          181533.69217045512,
          177801.98481281212,
          173930.0714708001,
          164954.9139393081,
          164442.61425669963,
          164340.81401239368,
          164211.88680682622,
          164482.44911291142,
          169532.9420958995,
          166914.12882148317,
          167451.75243557413,
          168237.00450128532,
          166950.5529988205,
          165869.4181455149,
          153930.63728446246,
          169478.087615379,
          168582.54289859525,
          170283.1365911297,
          171010.6560469368,
          169265.7079667366,
          167937.35378146335,
          166457.73301228273,
          167536.14665095226,
          147852.0080340305,
          166594.10652544774,
          165949.85591092682,
          169780.61772490566,
          169705.45442044406,
          140636.7738722775,
          138372.25950441728,
          155603.06389133332,
          160885.8086185853,
          162760.2703781878,
          165403.77313114732,
          145653.06207365653,
          168449.41591690527,
          168376.28872286086,
          169290.05490893224,
          170350.3064375454,
          170090.5839124011,
          153449.13239545582,
          174337.82733121858,
          170964.36287582188,
          175631.40474369968,
          177588.68049796112,
          179171.70407668498,
          179283.8434638524,
          181450.88633112848,
          182314.99851936594,
          183679.35891558832,
          183543.93532922494,
          186230.00669063022,
          186392.23040830035,
          184138.31553222146,
          179702.472848727,
          169282.0548375891,
          168785.82443393822,
          168162.71283099262,
          168402.44182615436,
          169424.44678422716,
          175353.25733749717,
          176059.9493101525,
          175469.40681456053,
          172151.1512325089,
          167358.89329998812,
          163790.30913373298,
          129747.28861804426,
          166540.80471037462,
          168380.48730324718,
          168532.97179563704,
          168699.7994605616,
          166661.3125380547,
          164175.95946189767,
          161849.28946544323,
          162226.67206804056,
          144954.9007019526,
          164521.43526535126,
          167248.97115910385,
          167131.41321264452,
          164417.04570015904,
          151761.84495079156,
          142515.75579591485,
          163902.6977960443,
          164013.47286109772,
          166281.14351041286,
          168120.1151615716,
          147676.06544467554,
          170403.03943101206,
          171835.62646938668,
          173535.2008877208,
          175954.95050726787,
          175180.96510593276,
          158097.87642434286,
          178761.48411606392,
          179080.59283379742,
          179048.97143803097,
          180940.67737868545,
          177146.27195358483,
          181357.65396852524,
          182497.6788987943,
          183403.62035885977,
          183417.98101555894,
          183254.85774523445,
          185708.24239563112,
          185096.02232814755,
          180094.1260447081,
          174432.99227575155,
          174926.99084224462,
          170735.9679026643,
          171891.72005517373,
          173867.24930177466,
          175300.09829733873,
          180298.49174273945,
          179104.38577692633,
          178258.1992966233,
          177960.35352327407,
          174442.91860255803,
          171131.09587763055,
          157553.08428318345,
          171574.42096965748,
          173004.68660227358,
          173324.57167369564,
          173023.89965124513,
          171964.927772982,
          170869.82738326746,
          170796.3008670188,
          171940.92388847517,
          152343.77268763568,
          169443.0473371223,
          170704.53558287822,
          170105.6107564821,
          169468.44954360864,
          167813.99281271995,
          168547.65561806798,
          166173.32051335205,
          172348.5190496022,
          172582.86999834198,
          173540.37130665648,
          151593.62850356725,
          171708.2679163472,
          171520.31379311212,
          173533.57347143698,
          175893.4116323663,
          175985.5448904736,
          159711.6732888816,
          182278.07219702305,
          183012.39503904985,
          179461.7357040698,
          186179.28260752175,
          185998.20010799833,
          185722.46450962324,
          187803.7900367144,
          189052.64731548337,
          188474.98965726953,
          186054.07806323614,
          186253.1974799943,
          186766.60397487856,
          184698.0010477016,
          179898.73564757477,
          178835.102076496,
          173832.6926954773,
          174731.69901958937,
          175316.1338550376,
          177247.43161411677,
          182406.86698319268,
          182130.36242932905,
          182037.8819508088,
          182999.55068465823,
          180954.126420461,
          176571.4582687137,
          173710.3705465866,
          179059.46294088988,
          180395.20062708505,
          180010.01667317428,
          178752.02341305505,
          180124.63268620882,
          176680.004510396,
          174540.001929907,
          174729.14362780482,
          156023.3122240813,
          173713.08737518324,
          171388.90373240522,
          172318.76871138072,
          169677.3637731184,
          172254.97940034053,
          174400.34467637606,
          159781.43702359448,
          160919.27872973244,
          164011.74272536626,
          167808.08034281206,
          146256.95743297518,
          167199.59181695452,
          169110.04005398127,
          171299.06493676105,
          172993.25459415058,
          175210.5160779555,
          175881.44303556829,
          157037.0818107386,
          172815.3054530752,
          175237.13305567828,
          177969.8134089039,
          181588.42515649536,
          183311.35511973864,
          185785.57401921117,
          189017.9856114611,
          190366.29859546013,
          188581.60778160745,
          186997.24568860166,
          185898.76439910266,
          183406.3404590811,
          179641.12634069705,
          177319.37570356665,
          170358.33570720334,
          171859.462535132,
          171633.5154816175,
          173363.58025754293,
          176617.9766065345,
          174418.342766951,
          172546.28523779075,
          173044.98467822734,
          173652.08122420232,
          170578.04300530723,
          171116.5450929543,
          171610.19767717557,
          171368.0243524448,
          168939.0498619099,
          171015.02405505162,
          171244.30055646726,
          168689.5795366598,
          168924.41529549015,
          167054.60492372263,
          165561.2911388947,
          146943.8779923516,
          166872.8709134378,
          168810.2086673168,
          154013.2462629073,
          169007.24477478402,
          147888.4223105357,
          158404.43720824702,
          171515.1830201796,
          169482.04932843422,
          172085.0705791969,
          173126.31513947572,
          152210.2023328147,
          175595.15777672,
          176879.86927715907,
          178681.43036464037,
          182293.15700502504,
          183405.56600985333,
          166316.1358061994,
          187298.53204189107,
          188105.00739601982,
          190812.12498560105,
          188398.50056039199,
          193903.0632504885,
          164259.0310000079,
          196405.9159956611,
          196968.59338295058,
          196462.30439673673,
          195352.0155964149,
          195854.8435738152,
          193798.80203050806,
          192164.62822146591,
          191527.52311223696,
          182209.7900605277,
          181594.5803969933,
          179142.36817082713,
          180309.55439320815,
          180329.28736419725,
          185172.42348612187,
          186706.75472048917,
          188569.8628614481,
          186576.8486913155,
          181271.29430036034,
          180095.16674246918,
          176060.67806272232,
          178552.91300488616,
          177546.95920072924,
          180465.25634441,
          181163.37916246013,
          180449.6411433388,
          183292.27501920078,
          184732.40211209952,
          183652.06842843143,
          163747.22416081707,
          181006.4232821205,
          180011.2993472221,
          169752.1556313395,
          174191.93304089468,
          126672.80932903255,
          127147.79954156933,
          181536.5802992002,
          177954.11866492772,
          179892.5223055799,
          178605.31350773136,
          157518.38467009534,
          181940.39835621067,
          182827.07043664705,
          186051.5269212944,
          190145.68900029105,
          191954.60996089273,
          172664.68736934717,
          195193.6441021735,
          191471.82957615162,
          196848.84916911228,
          199077.6196831516,
          199730.50004011032,
          200048.95299978857,
          202791.1671764783,
          203279.34647819703,
          203590.56865016196,
          202035.97484645128,
          201470.75578753228,
          197946.11164258703,
          189467.67795384204,
          187162.91716384894,
          176391.26519292506,
          182441.63238288567,
          183431.26114620434,
          187328.95900374555,
          188930.79592299327,
          193656.9337068348,
          193032.12342783302,
          192202.14375919738,
          191095.45425846142,
          187707.55171679828,
          186145.73294632597,
          173040.01182589674,
          185042.01312908938,
          180417.76753321034,
          181233.68798914953,
          181174.4180983402,
          177316.37762247134,
          177627.16109230113,
          179619.1671433008,
          178905.02200902347,
          159435.93919804308,
          177498.82887014892,
          173839.9806587196,
          176506.03118266354,
          176319.3109353848,
          151133.6513510259,
          149027.31373980892,
          183427.94010714206,
          176754.03541228225,
          182031.10263540107,
          183534.47577021635,
          162877.39373309413,
          188684.63545532647,
          189393.1165122416,
          189914.42014565252,
          190943.47648733738,
          191044.70035301952,
          173728.06228266933,
          193770.66623339904,
          195014.75681851213,
          196732.25908180454,
          198307.12623722828,
          196562.88366259506,
          201140.31100874627,
          205658.44972724427,
          207419.86454188748,
          208891.6031312722,
          206927.8188919408,
          206530.24601432777,
          205315.27774884435,
          201351.94203735408,
          196552.01181700383,
          188601.237339569,
          192274.1012106207,
          192254.4714204262,
          191835.5630414571,
          191485.9925516796,
          193842.56953973067,
          192267.42089800432,
          192146.01320715965,
          193264.8263789373,
          192839.8608564714,
          192100.1596339236,
          157409.12020240468,
          191131.31914067155,
          188168.27640758635,
          187310.24040271467,
          187993.62539342052,
          186179.04619050468,
          186215.0191850866,
          188406.52537007746,
          186654.04466661307,
          164614.69136700284,
          183555.0153472794,
          185640.033190606,
          188009.06547845082,
          186487.8877705296,
          174274.61341823085,
          166171.12418000825,
          180444.16193771386,
          180495.7286781955,
          182285.48102800635,
          184307.8925327684,
          164807.83648218328,
          189629.08434121136
         ]
        },
        {
         "line": {
          "color": "rgba(55, 128, 191, 1.0)",
          "dash": "solid",
          "shape": "linear",
          "width": 1.3
         },
         "mode": "lines",
         "name": "real",
         "text": "",
         "type": "scatter",
         "x": [
          "2007-01-01",
          "2007-01-08",
          "2007-01-15",
          "2007-01-22",
          "2007-01-29",
          "2007-02-05",
          "2007-02-12",
          "2007-02-19",
          "2007-02-26",
          "2007-03-05",
          "2007-03-12",
          "2007-03-19",
          "2007-03-26",
          "2007-04-02",
          "2007-04-09",
          "2007-04-16",
          "2007-04-23",
          "2007-04-30",
          "2007-05-07",
          "2007-05-14",
          "2007-05-21",
          "2007-05-28",
          "2007-06-04",
          "2007-06-11",
          "2007-06-18",
          "2007-06-25",
          "2007-07-02",
          "2007-07-09",
          "2007-07-16",
          "2007-07-23",
          "2007-07-30",
          "2007-08-06",
          "2007-08-13",
          "2007-08-20",
          "2007-08-27",
          "2007-09-03",
          "2007-09-10",
          "2007-09-17",
          "2007-09-24",
          "2007-10-01",
          "2007-10-08",
          "2007-10-15",
          "2007-10-22",
          "2007-10-29",
          "2007-11-05",
          "2007-11-12",
          "2007-11-19",
          "2007-11-26",
          "2007-12-03",
          "2007-12-10",
          "2007-12-17",
          "2007-12-24",
          "2007-12-31",
          "2008-01-07",
          "2008-01-14",
          "2008-01-21",
          "2008-01-28",
          "2008-02-04",
          "2008-02-11",
          "2008-02-18",
          "2008-02-25",
          "2008-03-03",
          "2008-03-10",
          "2008-03-17",
          "2008-03-24",
          "2008-03-31",
          "2008-04-07",
          "2008-04-14",
          "2008-04-21",
          "2008-04-28",
          "2008-05-05",
          "2008-05-12",
          "2008-05-19",
          "2008-05-26",
          "2008-06-02",
          "2008-06-09",
          "2008-06-16",
          "2008-06-23",
          "2008-06-30",
          "2008-07-07",
          "2008-07-14",
          "2008-07-21",
          "2008-07-28",
          "2008-08-04",
          "2008-08-11",
          "2008-08-18",
          "2008-08-25",
          "2008-09-01",
          "2008-09-08",
          "2008-09-15",
          "2008-09-22",
          "2008-09-29",
          "2008-10-06",
          "2008-10-13",
          "2008-10-20",
          "2008-10-27",
          "2008-11-03",
          "2008-11-10",
          "2008-11-17",
          "2008-11-24",
          "2008-12-01",
          "2008-12-08",
          "2008-12-15",
          "2008-12-22",
          "2008-12-29",
          "2009-01-05",
          "2009-01-12",
          "2009-01-19",
          "2009-01-26",
          "2009-02-02",
          "2009-02-09",
          "2009-02-16",
          "2009-02-23",
          "2009-03-02",
          "2009-03-09",
          "2009-03-16",
          "2009-03-23",
          "2009-03-30",
          "2009-04-06",
          "2009-04-13",
          "2009-04-20",
          "2009-04-27",
          "2009-05-04",
          "2009-05-11",
          "2009-05-18",
          "2009-05-25",
          "2009-06-01",
          "2009-06-08",
          "2009-06-15",
          "2009-06-22",
          "2009-06-29",
          "2009-07-06",
          "2009-07-13",
          "2009-07-20",
          "2009-07-27",
          "2009-08-03",
          "2009-08-10",
          "2009-08-17",
          "2009-08-24",
          "2009-08-31",
          "2009-09-07",
          "2009-09-14",
          "2009-09-21",
          "2009-09-28",
          "2009-10-05",
          "2009-10-12",
          "2009-10-19",
          "2009-10-26",
          "2009-11-02",
          "2009-11-09",
          "2009-11-16",
          "2009-11-23",
          "2009-11-30",
          "2009-12-07",
          "2009-12-14",
          "2009-12-21",
          "2009-12-28",
          "2010-01-04",
          "2010-01-11",
          "2010-01-18",
          "2010-01-25",
          "2010-02-01",
          "2010-02-08",
          "2010-02-15",
          "2010-02-22",
          "2010-03-01",
          "2010-03-08",
          "2010-03-15",
          "2010-03-22",
          "2010-03-29",
          "2010-04-05",
          "2010-04-12",
          "2010-04-19",
          "2010-04-26",
          "2010-05-03",
          "2010-05-10",
          "2010-05-17",
          "2010-05-24",
          "2010-05-31",
          "2010-06-07",
          "2010-06-14",
          "2010-06-21",
          "2010-06-28",
          "2010-07-05",
          "2010-07-12",
          "2010-07-19",
          "2010-07-26",
          "2010-08-02",
          "2010-08-09",
          "2010-08-16",
          "2010-08-23",
          "2010-08-30",
          "2010-09-06",
          "2010-09-13",
          "2010-09-20",
          "2010-09-27",
          "2010-10-04",
          "2010-10-11",
          "2010-10-18",
          "2010-10-25",
          "2010-11-01",
          "2010-11-08",
          "2010-11-15",
          "2010-11-22",
          "2010-11-29",
          "2010-12-06",
          "2010-12-13",
          "2010-12-20",
          "2010-12-27",
          "2011-01-03",
          "2011-01-10",
          "2011-01-17",
          "2011-01-24",
          "2011-01-31",
          "2011-02-07",
          "2011-02-14",
          "2011-02-21",
          "2011-02-28",
          "2011-03-07",
          "2011-03-14",
          "2011-03-21",
          "2011-03-28",
          "2011-04-04",
          "2011-04-11",
          "2011-04-18",
          "2011-04-25",
          "2011-05-02",
          "2011-05-09",
          "2011-05-16",
          "2011-05-23",
          "2011-05-30",
          "2011-06-06",
          "2011-06-13",
          "2011-06-20",
          "2011-06-27",
          "2011-07-04",
          "2011-07-11",
          "2011-07-18",
          "2011-07-25",
          "2011-08-01",
          "2011-08-08",
          "2011-08-15",
          "2011-08-22",
          "2011-08-29",
          "2011-09-05",
          "2011-09-12",
          "2011-09-19",
          "2011-09-26",
          "2011-10-03",
          "2011-10-10",
          "2011-10-17",
          "2011-10-24",
          "2011-10-31",
          "2011-11-07",
          "2011-11-14",
          "2011-11-21",
          "2011-11-28",
          "2011-12-05",
          "2011-12-12",
          "2011-12-19",
          "2011-12-26",
          "2012-01-02",
          "2012-01-09",
          "2012-01-16",
          "2012-01-23",
          "2012-01-30",
          "2012-02-06",
          "2012-02-13",
          "2012-02-20",
          "2012-02-27",
          "2012-03-05",
          "2012-03-12",
          "2012-03-19",
          "2012-03-26",
          "2012-04-02",
          "2012-04-09",
          "2012-04-16",
          "2012-04-23",
          "2012-04-30",
          "2012-05-07",
          "2012-05-14",
          "2012-05-21",
          "2012-05-28",
          "2012-06-04",
          "2012-06-11",
          "2012-06-18",
          "2012-06-25",
          "2012-07-02",
          "2012-07-09",
          "2012-07-16",
          "2012-07-23",
          "2012-07-30",
          "2012-08-06",
          "2012-08-13",
          "2012-08-20",
          "2012-08-27",
          "2012-09-03",
          "2012-09-10",
          "2012-09-17",
          "2012-09-24",
          "2012-10-01",
          "2012-10-08",
          "2012-10-15",
          "2012-10-22",
          "2012-10-29",
          "2012-11-05",
          "2012-11-12",
          "2012-11-19",
          "2012-11-26",
          "2012-12-03",
          "2012-12-10",
          "2012-12-17",
          "2012-12-24",
          "2012-12-31",
          "2013-01-07",
          "2013-01-14",
          "2013-01-21",
          "2013-01-28",
          "2013-02-04",
          "2013-02-11",
          "2013-02-18",
          "2013-02-25",
          "2013-03-04",
          "2013-03-11",
          "2013-03-18",
          "2013-03-25",
          "2013-04-01",
          "2013-04-08",
          "2013-04-15",
          "2013-04-22",
          "2013-04-29",
          "2013-05-06",
          "2013-05-13",
          "2013-05-20",
          "2013-05-27",
          "2013-06-03",
          "2013-06-10",
          "2013-06-17",
          "2013-06-24",
          "2013-07-01",
          "2013-07-08",
          "2013-07-15",
          "2013-07-22",
          "2013-07-29",
          "2013-08-05",
          "2013-08-12",
          "2013-08-19",
          "2013-08-26",
          "2013-09-02",
          "2013-09-09",
          "2013-09-16",
          "2013-09-23",
          "2013-09-30",
          "2013-10-07",
          "2013-10-14",
          "2013-10-21",
          "2013-10-28",
          "2013-11-04",
          "2013-11-11",
          "2013-11-18",
          "2013-11-25",
          "2013-12-02",
          "2013-12-09",
          "2013-12-16",
          "2013-12-23",
          "2013-12-30",
          "2014-01-06",
          "2014-01-13",
          "2014-01-20",
          "2014-01-27",
          "2014-02-03",
          "2014-02-10",
          "2014-02-17",
          "2014-02-24",
          "2014-03-03",
          "2014-03-10",
          "2014-03-17",
          "2014-03-24",
          "2014-03-31",
          "2014-04-07",
          "2014-04-14",
          "2014-04-21",
          "2014-04-28",
          "2014-05-05",
          "2014-05-12",
          "2014-05-19",
          "2014-05-26",
          "2014-06-02",
          "2014-06-09",
          "2014-06-16",
          "2014-06-23",
          "2014-06-30",
          "2014-07-07",
          "2014-07-14",
          "2014-07-21",
          "2014-07-28",
          "2014-08-04",
          "2014-08-11",
          "2014-08-18",
          "2014-08-25",
          "2014-09-01",
          "2014-09-08",
          "2014-09-15",
          "2014-09-22",
          "2014-09-29",
          "2014-10-06",
          "2014-10-13",
          "2014-10-20",
          "2014-10-27",
          "2014-11-03",
          "2014-11-10",
          "2014-11-17",
          "2014-11-24",
          "2014-12-01",
          "2014-12-08",
          "2014-12-15",
          "2014-12-22",
          "2014-12-29",
          "2015-01-05",
          "2015-01-12",
          "2015-01-19",
          "2015-01-26",
          "2015-02-02",
          "2015-02-09",
          "2015-02-16",
          "2015-02-23",
          "2015-03-02",
          "2015-03-09",
          "2015-03-16",
          "2015-03-23",
          "2015-03-30",
          "2015-04-06",
          "2015-04-13",
          "2015-04-20",
          "2015-04-27",
          "2015-05-04",
          "2015-05-11",
          "2015-05-18",
          "2015-05-25",
          "2015-06-01",
          "2015-06-08",
          "2015-06-15",
          "2015-06-22",
          "2015-06-29",
          "2015-07-06",
          "2015-07-13",
          "2015-07-20",
          "2015-07-27",
          "2015-08-03",
          "2015-08-10",
          "2015-08-17",
          "2015-08-24",
          "2015-08-31",
          "2015-09-07",
          "2015-09-14",
          "2015-09-21",
          "2015-09-28",
          "2015-10-05",
          "2015-10-12",
          "2015-10-19",
          "2015-10-26",
          "2015-11-02",
          "2015-11-09",
          "2015-11-16",
          "2015-11-23",
          "2015-11-30",
          "2015-12-07",
          "2015-12-14",
          "2015-12-21",
          "2015-12-28",
          "2016-01-04",
          "2016-01-11",
          "2016-01-18",
          "2016-01-25",
          "2016-02-01",
          "2016-02-08",
          "2016-02-15",
          "2016-02-22",
          "2016-02-29",
          "2016-03-07",
          "2016-03-14",
          "2016-03-21",
          "2016-03-28",
          "2016-04-04",
          "2016-04-11",
          "2016-04-18",
          "2016-04-25",
          "2016-05-02",
          "2016-05-09",
          "2016-05-16",
          "2016-05-23",
          "2016-05-30",
          "2016-06-06",
          "2016-06-13",
          "2016-06-20",
          "2016-06-27",
          "2016-07-04",
          "2016-07-11",
          "2016-07-18",
          "2016-07-25",
          "2016-08-01",
          "2016-08-08",
          "2016-08-15",
          "2016-08-22",
          "2016-08-29",
          "2016-09-05",
          "2016-09-12",
          "2016-09-19",
          "2016-09-26",
          "2016-10-03",
          "2016-10-10",
          "2016-10-17",
          "2016-10-24",
          "2016-10-31",
          "2016-11-07",
          "2016-11-14",
          "2016-11-21",
          "2016-11-28",
          "2016-12-05",
          "2016-12-12",
          "2016-12-19",
          "2016-12-26",
          "2017-01-02",
          "2017-01-09",
          "2017-01-16",
          "2017-01-23",
          "2017-01-30",
          "2017-02-06",
          "2017-02-13",
          "2017-02-20",
          "2017-02-27",
          "2017-03-06",
          "2017-03-13",
          "2017-03-20",
          "2017-03-27",
          "2017-04-03",
          "2017-04-10",
          "2017-04-17",
          "2017-04-24",
          "2017-05-01",
          "2017-05-08",
          "2017-05-15",
          "2017-05-22",
          "2017-05-29",
          "2017-06-05",
          "2017-06-12",
          "2017-06-19",
          "2017-06-26",
          "2017-07-03",
          "2017-07-10",
          "2017-07-17",
          "2017-07-24",
          "2017-07-31",
          "2017-08-07",
          "2017-08-14",
          "2017-08-21",
          "2017-08-28",
          "2017-09-04",
          "2017-09-11",
          "2017-09-18",
          "2017-09-25",
          "2017-10-02",
          "2017-10-09",
          "2017-10-16",
          "2017-10-23",
          "2017-10-30",
          "2017-11-06",
          "2017-11-13",
          "2017-11-20",
          "2017-11-27",
          "2017-12-04",
          "2017-12-11",
          "2017-12-18",
          "2017-12-25",
          "2018-01-01",
          "2018-01-08",
          "2018-01-15",
          "2018-01-22",
          "2018-01-29",
          "2018-02-05",
          "2018-02-12",
          "2018-02-19",
          "2018-02-26",
          "2018-03-05",
          "2018-03-12",
          "2018-03-19",
          "2018-03-26",
          "2018-04-02",
          "2018-04-09",
          "2018-04-16",
          "2018-04-23",
          "2018-04-30",
          "2018-05-07",
          "2018-05-14",
          "2018-05-21",
          "2018-05-28",
          "2018-06-04",
          "2018-06-11",
          "2018-06-18",
          "2018-06-25",
          "2018-07-02",
          "2018-07-09",
          "2018-07-16",
          "2018-07-23",
          "2018-07-30",
          "2018-08-06",
          "2018-08-13",
          "2018-08-20",
          "2018-08-27",
          "2018-09-03",
          "2018-09-10",
          "2018-09-17",
          "2018-09-24",
          "2018-10-01",
          "2018-10-08",
          "2018-10-15",
          "2018-10-22",
          "2018-10-29",
          "2018-11-05",
          "2018-11-12",
          "2018-11-19",
          "2018-11-26",
          "2018-12-03",
          "2018-12-10",
          "2018-12-17",
          "2018-12-24",
          "2018-12-31",
          "2019-01-07",
          "2019-01-14",
          "2019-01-21",
          "2019-01-28",
          "2019-02-04",
          "2019-02-11",
          "2019-02-18",
          "2019-02-25",
          "2019-03-04",
          "2019-03-11",
          "2019-03-18",
          "2019-03-25",
          "2019-04-01",
          "2019-04-08",
          "2019-04-15",
          "2019-04-22",
          "2019-04-29",
          "2019-05-06",
          "2019-05-13",
          "2019-05-20",
          "2019-05-27",
          "2019-06-03",
          "2019-06-10",
          "2019-06-17",
          "2019-06-24",
          "2019-07-01",
          "2019-07-08",
          "2019-07-15",
          "2019-07-22",
          "2019-07-29",
          "2019-08-05",
          "2019-08-12",
          "2019-08-19",
          "2019-08-26",
          "2019-09-02",
          "2019-09-09",
          "2019-09-16",
          "2019-09-23",
          "2019-09-30",
          "2019-10-07",
          "2019-10-14",
          "2019-10-21",
          "2019-10-28",
          "2019-11-04",
          "2019-11-11",
          "2019-11-18",
          "2019-11-25",
          "2019-12-02",
          "2019-12-09",
          "2019-12-16",
          "2019-12-23",
          "2019-12-30",
          "2020-01-06",
          "2020-01-13",
          "2020-01-20",
          "2020-01-27",
          "2020-02-03",
          "2020-02-10"
         ],
         "y": [
          98112.97,
          137743.895,
          138324.109,
          139010.637,
          135272.964,
          114825.214,
          134632.72,
          138522.284,
          143092.742,
          142361.871,
          145532.716,
          129948.842,
          146240.661,
          140540.181,
          139902.225,
          146240.238,
          149229.87,
          139263.038,
          151742.661,
          151744.464,
          153823.061,
          148889.738,
          153434.384,
          149206.731,
          141698.752,
          137522.783,
          131771.178,
          127850.158,
          137891.54,
          136766.254,
          132442.335,
          139031.343,
          142371.421,
          142909.734,
          140808.309,
          135045.893,
          133901.541,
          128114.036,
          143631.352,
          142848.975,
          145088.849,
          144308.367,
          138229.245,
          134102.157,
          140779.740317887,
          143240.236,
          123240.864860669,
          139495.246096568,
          142947.842,
          144744.744,
          144222.703,
          124168.229,
          123237.253,
          143533.549,
          143323.287,
          143438.42,
          143205.754,
          129999.253,
          144092.234,
          146676.313,
          150095.392,
          150438.865,
          147138.481,
          138702.856,
          145187.179,
          152109.033,
          154749.064,
          143267.957,
          156980.586,
          156623.501,
          155266.92700000003,
          159859.34,
          155595.354,
          152301.439,
          159817.66299999997,
          153898.161,
          145240.834,
          148707.93,
          147751.816,
          136992.795,
          135986.759,
          137096.355,
          141606.03,
          141839.21300000005,
          140747.545,
          141380.32400000002,
          135804.138,
          136663.183,
          136854.207,
          122085.72,
          135801.626,
          136160.691,
          139464.37900000004,
          139690.412,
          139985.838,
          138674.77299999996,
          136975.71600000001,
          138120.15099999998,
          118376.782,
          133754.00400000002,
          131475.537,
          134917.288,
          133176.963,
          130834.735,
          124091.144,
          128833.08300000001,
          135378.53199999998,
          132606.881,
          135202.97600000002,
          118691.828,
          137755.039,
          140545.50699999998,
          136040.213,
          140789.45099999997,
          141608.045,
          126269.92199999998,
          147958.28100000002,
          142658.421,
          142265.344,
          140035.119,
          146508.925,
          148079.58,
          134873.615,
          153009.203,
          146014.55500000002,
          147966.398,
          149626.856,
          152617.859,
          156315.607,
          140992.93,
          134165.98799999998,
          138382.43300000002,
          143025.99,
          147114.49200000003,
          151528.46499999997,
          151825.384,
          146630.277,
          150208.62400000004,
          143636.537,
          137329.19599999997,
          135109.151,
          130919.363,
          140704.013,
          138837.194,
          148036.395,
          140282.06900000002,
          144032.033,
          141290.38499999998,
          131187.33500000002,
          142536.731,
          133515.313,
          144404.61399999994,
          147850.968,
          146554.08299999998,
          149750.883,
          143360.70399999997,
          136010.181,
          140533.165,
          142608.133,
          140599.314,
          142023.945,
          124095.76,
          135128.124,
          140689.179,
          139546.44,
          144701.46,
          153128.595,
          140843.98600000003,
          156753.921,
          155070.21099999998,
          154137.664,
          161597.41,
          160626.859,
          161503.746,
          157491.519,
          161597.981,
          163796.77264711255,
          164861.82082736382,
          168465.29381498814,
          171569.7212967465,
          160444.2362869736,
          160237.136785085,
          163599.56766887978,
          145230.072,
          146403.682,
          149646.108,
          146634.975,
          146837.406,
          152889.874,
          146393.213,
          154271.887,
          162123.919,
          158660.51,
          152080.842,
          151345.413,
          149532.473,
          150040.181,
          152284.973,
          153355.636,
          152806.918,
          151644.33499999996,
          147515.389,
          137837.25500000003,
          152884.911,
          154158.71,
          153834.69014028326,
          155211.054569967,
          154868.782213481,
          145001.341361398,
          153362.715,
          157232.361,
          155503.878,
          154889.077,
          155876.613,
          142008.4354454776,
          158757.8899179548,
          160482.017,
          164740.657,
          165061.596,
          166840.416,
          153206.872,
          171055.86,
          170078.42835383862,
          173588.767,
          169515.123,
          169140.343,
          173067.431,
          175015.084,
          178733.653,
          178769.63,
          179443.03718929546,
          180536.99961654443,
          178834.9791978867,
          180132.4572432588,
          160223.20357935925,
          151692.11567320873,
          155533.647,
          161688.973,
          163804.338,
          162329.751,
          162567.385,
          163288.951,
          173008.33266666668,
          163659.106,
          154763.54,
          164400.2487251822,
          166220.417,
          169951.292,
          166523.653,
          164532.718,
          158725.021,
          162551.188,
          161074.37,
          162855.785,
          160231.933,
          147475.228,
          157003.303,
          158069.308,
          144030.595,
          162803.811,
          148307.263,
          152141.788,
          157202.54,
          161919.824,
          159682.508,
          158799.924,
          137149.656,
          147467.08,
          151229.345,
          160688.297,
          169707.387,
          169508.263,
          158850.044,
          173361.61,
          168711.683,
          170667.615,
          175414.228,
          176813.083,
          174867.027,
          182285.725,
          182315.726,
          182783.258,
          185556.367,
          179987.129,
          188580.707,
          180019.103,
          167159.092,
          160674.828,
          169461.025,
          160886.365,
          165035.283,
          162412.812,
          167853.297,
          170097.22,
          164209.529,
          167330.886,
          166916.921,
          172506.339,
          161933.155,
          170580.606,
          166476.18,
          171994.991,
          170453.73,
          172975.964,
          167533.735,
          160815.961,
          167304.721,
          153166.56,
          166029.394,
          164878.12,
          167861.624,
          167980.183,
          141988.2406624403,
          141153.884,
          161643.01,
          164861.743,
          164793.76,
          166562.978,
          150431.219,
          172205.524,
          173349.852,
          172260.032,
          169990.021,
          173439.705,
          155633.956,
          172894.849,
          174933.541,
          176178.411,
          176132.524,
          178995.197,
          182469.258,
          183383.331,
          183871.111,
          183116.09,
          180930.171,
          189122.701,
          182867.81,
          176561.023,
          171936.784,
          174765.468,
          162850.691,
          168194.738,
          162368.991,
          165964.035,
          173090.44,
          170401.535,
          179866.913,
          175433.414,
          172572.819,
          167304.519,
          130330.428,
          162716.808,
          159729.943,
          166965.893,
          163879.272,
          164728.163,
          164132.755,
          163678.163,
          165505.667,
          142869.92,
          161965.537,
          162958.105,
          165218.667,
          166775.259,
          156225.066,
          139290.378,
          158031.217,
          164726.074,
          161937.843,
          166125.483,
          150271.419,
          171486.19,
          171175.649,
          175001.882,
          175749.276,
          173183.927,
          156638.704,
          182604.901,
          179798.492,
          184924.809,
          182860.091,
          179060.508,
          183815.657,
          185540.704,
          189594.505,
          190063.259,
          182450.328,
          178852.512,
          186155.474,
          187427.391,
          169580.554,
          163867.205,
          167314.029,
          166526.749,
          172895.07,
          175969.974,
          181237.184,
          176548.473,
          173189.69,
          172633.405,
          179488.512,
          170423.18,
          157802.914,
          174597.429,
          176627.799,
          171071.174,
          175627.481,
          179175.522,
          175916.999,
          171177.063,
          167473.936,
          146547.144,
          169529.059,
          168976.057,
          174432.844,
          175190.227,
          169752.224,
          158591.313,
          169182.295,
          173639.512,
          176663.093,
          175510.516,
          150293.878,
          174259.485,
          170690.405,
          179969.77,
          178825.272,
          180394.212,
          143449.455,
          168610.545,
          165909.52,
          178079.144,
          184730.505,
          188078.29,
          190755.648,
          187591.002,
          196346.917,
          194122.025,
          186337.396,
          180651.539,
          188778.935,
          188915.103,
          177666.38,
          175355.288,
          171883.055,
          171691.569,
          178503.166,
          178213.605,
          182226.517,
          187280.187,
          189719.34679999997,
          179975.28462,
          187600.102,
          187928.264,
          178508.845,
          183088.525,
          183265.867,
          181981.822,
          177322.672,
          177513.926,
          170594.752,
          154272.928,
          175930.067,
          159304.382,
          175730.074,
          177025.454,
          175020.125,
          171598.983,
          172231.389,
          157869.57317795325,
          158816.49,
          163716.680012,
          162082.318,
          164340.875,
          140586.562,
          166704.854,
          167953.936,
          173011.159,
          171593.602,
          173990.05899999998,
          171048.12,
          159910.585,
          174130.071,
          176906.139,
          183447.364,
          181225.623,
          177249.159,
          180205.251,
          186182.456,
          182066.549,
          193083.494,
          191195.96,
          185662.05,
          176916.906,
          172288.611,
          175978.366,
          173548.153,
          179211.242,
          171645.961,
          174082.302,
          170306.172,
          173529.408,
          172156.138,
          166989.389029851,
          169710.68800917602,
          163789.086,
          176986.643,
          176977.137,
          172539.206,
          168193.949,
          170818.165,
          176639.566,
          177047.354,
          172145.678098452,
          175828.222529692,
          165745.709,
          146226.97804091,
          170987.068,
          171480.885,
          149689.067565506,
          174388.199,
          151620.745,
          159677.491,
          172300.817,
          174296.26234134496,
          173532.487,
          172535.142,
          154576,
          180790,
          178257,
          183517.829,
          183000.522,
          178599.645,
          162811.591,
          188269.17654,
          182312.393,
          189844,
          182212.205,
          189238.479,
          164259.031,
          196393.864,
          199861.991,
          203269.439,
          199476.648,
          200554.6421,
          195187.93105088003,
          200440.835,
          191609.328,
          179381.238,
          179050,
          175504.863,
          178303.128,
          182377.317,
          186980.907,
          187718.905,
          186732.901,
          186157.534,
          177008.5879816735,
          174787.08651999998,
          182091,
          176438,
          172585.65911999997,
          177875.81627,
          181586.03488,
          184427.33885,
          181798.01909267603,
          183250.92,
          183648.95077999998,
          155786.776,
          179749,
          180028.65052487157,
          172381,
          180017.0986433333,
          122089.32715460594,
          120848.33318499998,
          180349,
          177680,
          180284.56298439603,
          177637.65199732737,
          156210,
          174019,
          186421,
          191049.36385384828,
          192162,
          195907,
          172113,
          197548.69474477987,
          191762.16321726626,
          198457.70584052586,
          194986.68177622985,
          202445,
          189271.402,
          194687.555,
          196719.038,
          201408.557,
          214143,
          212600,
          202382.744,
          183943.629,
          183106,
          178614.238,
          180937.497,
          184709.2807591317,
          197176.677,
          197728.826,
          194641.9063828583,
          185128.02006791547,
          191763,
          190959.91755137994,
          186838.86560959346,
          183735.2636169938,
          176521.30188142983,
          181083.80842645533,
          180762.936,
          181926.923,
          183599.222,
          178025.762,
          178110.547,
          174303,
          183045.09347819517,
          151468.631,
          183134.103,
          174911.71656963718,
          181474.01,
          180959.98220267319,
          145495.307,
          143656.234,
          182738.254,
          182535.309,
          182290.678,
          181973.65679925002,
          160242.44,
          189773.70681175234,
          193798.507,
          192569.25,
          198560.408,
          200735.4813077563,
          167159.64,
          199188.2,
          196904.228,
          198098.91,
          193010,
          198123.603,
          203507.566,
          202461.592,
          204508.96828426616,
          209524.979,
          211223.095,
          203386.629,
          202115.272,
          202818.984,
          201163.077,
          193055.643,
          196427.65843207831,
          190345.883,
          186454.933,
          190961.858,
          199254.661,
          194524.297,
          201514.617,
          188368.346,
          193289.27,
          190909.494,
          151766.345,
          191005,
          180928,
          186287,
          189008,
          179750,
          178933,
          185071,
          189833,
          155473,
          187654,
          188061,
          189322,
          188477,
          167160,
          161393,
          179303,
          187431,
          187257,
          184964,
          157350.724,
          185664.461
         ]
        }
       ],
       "layout": {
        "legend": {
         "bgcolor": "#F5F6F9",
         "font": {
          "color": "#4D5663"
         }
        },
        "paper_bgcolor": "#F5F6F9",
        "plot_bgcolor": "#F5F6F9",
        "template": {
         "data": {
          "bar": [
           {
            "error_x": {
             "color": "#2a3f5f"
            },
            "error_y": {
             "color": "#2a3f5f"
            },
            "marker": {
             "line": {
              "color": "#E5ECF6",
              "width": 0.5
             }
            },
            "type": "bar"
           }
          ],
          "barpolar": [
           {
            "marker": {
             "line": {
              "color": "#E5ECF6",
              "width": 0.5
             }
            },
            "type": "barpolar"
           }
          ],
          "carpet": [
           {
            "aaxis": {
             "endlinecolor": "#2a3f5f",
             "gridcolor": "white",
             "linecolor": "white",
             "minorgridcolor": "white",
             "startlinecolor": "#2a3f5f"
            },
            "baxis": {
             "endlinecolor": "#2a3f5f",
             "gridcolor": "white",
             "linecolor": "white",
             "minorgridcolor": "white",
             "startlinecolor": "#2a3f5f"
            },
            "type": "carpet"
           }
          ],
          "choropleth": [
           {
            "colorbar": {
             "outlinewidth": 0,
             "ticks": ""
            },
            "type": "choropleth"
           }
          ],
          "contour": [
           {
            "colorbar": {
             "outlinewidth": 0,
             "ticks": ""
            },
            "colorscale": [
             [
              0,
              "#0d0887"
             ],
             [
              0.1111111111111111,
              "#46039f"
             ],
             [
              0.2222222222222222,
              "#7201a8"
             ],
             [
              0.3333333333333333,
              "#9c179e"
             ],
             [
              0.4444444444444444,
              "#bd3786"
             ],
             [
              0.5555555555555556,
              "#d8576b"
             ],
             [
              0.6666666666666666,
              "#ed7953"
             ],
             [
              0.7777777777777778,
              "#fb9f3a"
             ],
             [
              0.8888888888888888,
              "#fdca26"
             ],
             [
              1,
              "#f0f921"
             ]
            ],
            "type": "contour"
           }
          ],
          "contourcarpet": [
           {
            "colorbar": {
             "outlinewidth": 0,
             "ticks": ""
            },
            "type": "contourcarpet"
           }
          ],
          "heatmap": [
           {
            "colorbar": {
             "outlinewidth": 0,
             "ticks": ""
            },
            "colorscale": [
             [
              0,
              "#0d0887"
             ],
             [
              0.1111111111111111,
              "#46039f"
             ],
             [
              0.2222222222222222,
              "#7201a8"
             ],
             [
              0.3333333333333333,
              "#9c179e"
             ],
             [
              0.4444444444444444,
              "#bd3786"
             ],
             [
              0.5555555555555556,
              "#d8576b"
             ],
             [
              0.6666666666666666,
              "#ed7953"
             ],
             [
              0.7777777777777778,
              "#fb9f3a"
             ],
             [
              0.8888888888888888,
              "#fdca26"
             ],
             [
              1,
              "#f0f921"
             ]
            ],
            "type": "heatmap"
           }
          ],
          "heatmapgl": [
           {
            "colorbar": {
             "outlinewidth": 0,
             "ticks": ""
            },
            "colorscale": [
             [
              0,
              "#0d0887"
             ],
             [
              0.1111111111111111,
              "#46039f"
             ],
             [
              0.2222222222222222,
              "#7201a8"
             ],
             [
              0.3333333333333333,
              "#9c179e"
             ],
             [
              0.4444444444444444,
              "#bd3786"
             ],
             [
              0.5555555555555556,
              "#d8576b"
             ],
             [
              0.6666666666666666,
              "#ed7953"
             ],
             [
              0.7777777777777778,
              "#fb9f3a"
             ],
             [
              0.8888888888888888,
              "#fdca26"
             ],
             [
              1,
              "#f0f921"
             ]
            ],
            "type": "heatmapgl"
           }
          ],
          "histogram": [
           {
            "marker": {
             "colorbar": {
              "outlinewidth": 0,
              "ticks": ""
             }
            },
            "type": "histogram"
           }
          ],
          "histogram2d": [
           {
            "colorbar": {
             "outlinewidth": 0,
             "ticks": ""
            },
            "colorscale": [
             [
              0,
              "#0d0887"
             ],
             [
              0.1111111111111111,
              "#46039f"
             ],
             [
              0.2222222222222222,
              "#7201a8"
             ],
             [
              0.3333333333333333,
              "#9c179e"
             ],
             [
              0.4444444444444444,
              "#bd3786"
             ],
             [
              0.5555555555555556,
              "#d8576b"
             ],
             [
              0.6666666666666666,
              "#ed7953"
             ],
             [
              0.7777777777777778,
              "#fb9f3a"
             ],
             [
              0.8888888888888888,
              "#fdca26"
             ],
             [
              1,
              "#f0f921"
             ]
            ],
            "type": "histogram2d"
           }
          ],
          "histogram2dcontour": [
           {
            "colorbar": {
             "outlinewidth": 0,
             "ticks": ""
            },
            "colorscale": [
             [
              0,
              "#0d0887"
             ],
             [
              0.1111111111111111,
              "#46039f"
             ],
             [
              0.2222222222222222,
              "#7201a8"
             ],
             [
              0.3333333333333333,
              "#9c179e"
             ],
             [
              0.4444444444444444,
              "#bd3786"
             ],
             [
              0.5555555555555556,
              "#d8576b"
             ],
             [
              0.6666666666666666,
              "#ed7953"
             ],
             [
              0.7777777777777778,
              "#fb9f3a"
             ],
             [
              0.8888888888888888,
              "#fdca26"
             ],
             [
              1,
              "#f0f921"
             ]
            ],
            "type": "histogram2dcontour"
           }
          ],
          "mesh3d": [
           {
            "colorbar": {
             "outlinewidth": 0,
             "ticks": ""
            },
            "type": "mesh3d"
           }
          ],
          "parcoords": [
           {
            "line": {
             "colorbar": {
              "outlinewidth": 0,
              "ticks": ""
             }
            },
            "type": "parcoords"
           }
          ],
          "scatter": [
           {
            "marker": {
             "colorbar": {
              "outlinewidth": 0,
              "ticks": ""
             }
            },
            "type": "scatter"
           }
          ],
          "scatter3d": [
           {
            "line": {
             "colorbar": {
              "outlinewidth": 0,
              "ticks": ""
             }
            },
            "marker": {
             "colorbar": {
              "outlinewidth": 0,
              "ticks": ""
             }
            },
            "type": "scatter3d"
           }
          ],
          "scattercarpet": [
           {
            "marker": {
             "colorbar": {
              "outlinewidth": 0,
              "ticks": ""
             }
            },
            "type": "scattercarpet"
           }
          ],
          "scattergeo": [
           {
            "marker": {
             "colorbar": {
              "outlinewidth": 0,
              "ticks": ""
             }
            },
            "type": "scattergeo"
           }
          ],
          "scattergl": [
           {
            "marker": {
             "colorbar": {
              "outlinewidth": 0,
              "ticks": ""
             }
            },
            "type": "scattergl"
           }
          ],
          "scattermapbox": [
           {
            "marker": {
             "colorbar": {
              "outlinewidth": 0,
              "ticks": ""
             }
            },
            "type": "scattermapbox"
           }
          ],
          "scatterpolar": [
           {
            "marker": {
             "colorbar": {
              "outlinewidth": 0,
              "ticks": ""
             }
            },
            "type": "scatterpolar"
           }
          ],
          "scatterpolargl": [
           {
            "marker": {
             "colorbar": {
              "outlinewidth": 0,
              "ticks": ""
             }
            },
            "type": "scatterpolargl"
           }
          ],
          "scatterternary": [
           {
            "marker": {
             "colorbar": {
              "outlinewidth": 0,
              "ticks": ""
             }
            },
            "type": "scatterternary"
           }
          ],
          "surface": [
           {
            "colorbar": {
             "outlinewidth": 0,
             "ticks": ""
            },
            "colorscale": [
             [
              0,
              "#0d0887"
             ],
             [
              0.1111111111111111,
              "#46039f"
             ],
             [
              0.2222222222222222,
              "#7201a8"
             ],
             [
              0.3333333333333333,
              "#9c179e"
             ],
             [
              0.4444444444444444,
              "#bd3786"
             ],
             [
              0.5555555555555556,
              "#d8576b"
             ],
             [
              0.6666666666666666,
              "#ed7953"
             ],
             [
              0.7777777777777778,
              "#fb9f3a"
             ],
             [
              0.8888888888888888,
              "#fdca26"
             ],
             [
              1,
              "#f0f921"
             ]
            ],
            "type": "surface"
           }
          ],
          "table": [
           {
            "cells": {
             "fill": {
              "color": "#EBF0F8"
             },
             "line": {
              "color": "white"
             }
            },
            "header": {
             "fill": {
              "color": "#C8D4E3"
             },
             "line": {
              "color": "white"
             }
            },
            "type": "table"
           }
          ]
         },
         "layout": {
          "annotationdefaults": {
           "arrowcolor": "#2a3f5f",
           "arrowhead": 0,
           "arrowwidth": 1
          },
          "colorscale": {
           "diverging": [
            [
             0,
             "#8e0152"
            ],
            [
             0.1,
             "#c51b7d"
            ],
            [
             0.2,
             "#de77ae"
            ],
            [
             0.3,
             "#f1b6da"
            ],
            [
             0.4,
             "#fde0ef"
            ],
            [
             0.5,
             "#f7f7f7"
            ],
            [
             0.6,
             "#e6f5d0"
            ],
            [
             0.7,
             "#b8e186"
            ],
            [
             0.8,
             "#7fbc41"
            ],
            [
             0.9,
             "#4d9221"
            ],
            [
             1,
             "#276419"
            ]
           ],
           "sequential": [
            [
             0,
             "#0d0887"
            ],
            [
             0.1111111111111111,
             "#46039f"
            ],
            [
             0.2222222222222222,
             "#7201a8"
            ],
            [
             0.3333333333333333,
             "#9c179e"
            ],
            [
             0.4444444444444444,
             "#bd3786"
            ],
            [
             0.5555555555555556,
             "#d8576b"
            ],
            [
             0.6666666666666666,
             "#ed7953"
            ],
            [
             0.7777777777777778,
             "#fb9f3a"
            ],
            [
             0.8888888888888888,
             "#fdca26"
            ],
            [
             1,
             "#f0f921"
            ]
           ],
           "sequentialminus": [
            [
             0,
             "#0d0887"
            ],
            [
             0.1111111111111111,
             "#46039f"
            ],
            [
             0.2222222222222222,
             "#7201a8"
            ],
            [
             0.3333333333333333,
             "#9c179e"
            ],
            [
             0.4444444444444444,
             "#bd3786"
            ],
            [
             0.5555555555555556,
             "#d8576b"
            ],
            [
             0.6666666666666666,
             "#ed7953"
            ],
            [
             0.7777777777777778,
             "#fb9f3a"
            ],
            [
             0.8888888888888888,
             "#fdca26"
            ],
            [
             1,
             "#f0f921"
            ]
           ]
          },
          "colorway": [
           "#636efa",
           "#EF553B",
           "#00cc96",
           "#ab63fa",
           "#FFA15A",
           "#19d3f3",
           "#FF6692",
           "#B6E880",
           "#FF97FF",
           "#FECB52"
          ],
          "font": {
           "color": "#2a3f5f"
          },
          "geo": {
           "bgcolor": "white",
           "lakecolor": "white",
           "landcolor": "#E5ECF6",
           "showlakes": true,
           "showland": true,
           "subunitcolor": "white"
          },
          "hoverlabel": {
           "align": "left"
          },
          "hovermode": "closest",
          "mapbox": {
           "style": "light"
          },
          "paper_bgcolor": "white",
          "plot_bgcolor": "#E5ECF6",
          "polar": {
           "angularaxis": {
            "gridcolor": "white",
            "linecolor": "white",
            "ticks": ""
           },
           "bgcolor": "#E5ECF6",
           "radialaxis": {
            "gridcolor": "white",
            "linecolor": "white",
            "ticks": ""
           }
          },
          "scene": {
           "xaxis": {
            "backgroundcolor": "#E5ECF6",
            "gridcolor": "white",
            "gridwidth": 2,
            "linecolor": "white",
            "showbackground": true,
            "ticks": "",
            "zerolinecolor": "white"
           },
           "yaxis": {
            "backgroundcolor": "#E5ECF6",
            "gridcolor": "white",
            "gridwidth": 2,
            "linecolor": "white",
            "showbackground": true,
            "ticks": "",
            "zerolinecolor": "white"
           },
           "zaxis": {
            "backgroundcolor": "#E5ECF6",
            "gridcolor": "white",
            "gridwidth": 2,
            "linecolor": "white",
            "showbackground": true,
            "ticks": "",
            "zerolinecolor": "white"
           }
          },
          "shapedefaults": {
           "line": {
            "color": "#2a3f5f"
           }
          },
          "ternary": {
           "aaxis": {
            "gridcolor": "white",
            "linecolor": "white",
            "ticks": ""
           },
           "baxis": {
            "gridcolor": "white",
            "linecolor": "white",
            "ticks": ""
           },
           "bgcolor": "#E5ECF6",
           "caxis": {
            "gridcolor": "white",
            "linecolor": "white",
            "ticks": ""
           }
          },
          "title": {
           "x": 0.05
          },
          "xaxis": {
           "automargin": true,
           "gridcolor": "white",
           "linecolor": "white",
           "ticks": "",
           "zerolinecolor": "white",
           "zerolinewidth": 2
          },
          "yaxis": {
           "automargin": true,
           "gridcolor": "white",
           "linecolor": "white",
           "ticks": "",
           "zerolinecolor": "white",
           "zerolinewidth": 2
          }
         }
        },
        "title": {
         "font": {
          "color": "#4D5663"
         },
         "text": "2.163632748444067"
        },
        "xaxis": {
         "gridcolor": "#E1E5ED",
         "showgrid": true,
         "tickfont": {
          "color": "#4D5663"
         },
         "title": {
          "font": {
           "color": "#4D5663"
          },
          "text": ""
         },
         "zerolinecolor": "#E1E5ED"
        },
        "yaxis": {
         "gridcolor": "#E1E5ED",
         "showgrid": true,
         "tickfont": {
          "color": "#4D5663"
         },
         "title": {
          "font": {
           "color": "#4D5663"
          },
          "text": ""
         },
         "zerolinecolor": "#E1E5ED"
        }
       }
      },
      "text/html": [
       "<div>\n",
       "        \n",
       "        \n",
       "            <div id=\"661cea14-610f-4f57-bf81-7740b07d3fba\" class=\"plotly-graph-div\" style=\"height:525px; width:100%;\"></div>\n",
       "            <script type=\"text/javascript\">\n",
       "                require([\"plotly\"], function(Plotly) {\n",
       "                    window.PLOTLYENV=window.PLOTLYENV || {};\n",
       "                    window.PLOTLYENV.BASE_URL='https://plot.ly';\n",
       "                    \n",
       "                if (document.getElementById(\"661cea14-610f-4f57-bf81-7740b07d3fba\")) {\n",
       "                    Plotly.newPlot(\n",
       "                        '661cea14-610f-4f57-bf81-7740b07d3fba',\n",
       "                        [{\"line\": {\"color\": \"rgba(255, 153, 51, 1.0)\", \"dash\": \"solid\", \"shape\": \"linear\", \"width\": 1.3}, \"mode\": \"lines\", \"name\": \"predict\", \"text\": \"\", \"type\": \"scatter\", \"x\": [\"2007-01-01\", \"2007-01-08\", \"2007-01-15\", \"2007-01-22\", \"2007-01-29\", \"2007-02-05\", \"2007-02-12\", \"2007-02-19\", \"2007-02-26\", \"2007-03-05\", \"2007-03-12\", \"2007-03-19\", \"2007-03-26\", \"2007-04-02\", \"2007-04-09\", \"2007-04-16\", \"2007-04-23\", \"2007-04-30\", \"2007-05-07\", \"2007-05-14\", \"2007-05-21\", \"2007-05-28\", \"2007-06-04\", \"2007-06-11\", \"2007-06-18\", \"2007-06-25\", \"2007-07-02\", \"2007-07-09\", \"2007-07-16\", \"2007-07-23\", \"2007-07-30\", \"2007-08-06\", \"2007-08-13\", \"2007-08-20\", \"2007-08-27\", \"2007-09-03\", \"2007-09-10\", \"2007-09-17\", \"2007-09-24\", \"2007-10-01\", \"2007-10-08\", \"2007-10-15\", \"2007-10-22\", \"2007-10-29\", \"2007-11-05\", \"2007-11-12\", \"2007-11-19\", \"2007-11-26\", \"2007-12-03\", \"2007-12-10\", \"2007-12-17\", \"2007-12-24\", \"2007-12-31\", \"2008-01-07\", \"2008-01-14\", \"2008-01-21\", \"2008-01-28\", \"2008-02-04\", \"2008-02-11\", \"2008-02-18\", \"2008-02-25\", \"2008-03-03\", \"2008-03-10\", \"2008-03-17\", \"2008-03-24\", \"2008-03-31\", \"2008-04-07\", \"2008-04-14\", \"2008-04-21\", \"2008-04-28\", \"2008-05-05\", \"2008-05-12\", \"2008-05-19\", \"2008-05-26\", \"2008-06-02\", \"2008-06-09\", \"2008-06-16\", \"2008-06-23\", \"2008-06-30\", \"2008-07-07\", \"2008-07-14\", \"2008-07-21\", \"2008-07-28\", \"2008-08-04\", \"2008-08-11\", \"2008-08-18\", \"2008-08-25\", \"2008-09-01\", \"2008-09-08\", \"2008-09-15\", \"2008-09-22\", \"2008-09-29\", \"2008-10-06\", \"2008-10-13\", \"2008-10-20\", \"2008-10-27\", \"2008-11-03\", \"2008-11-10\", \"2008-11-17\", \"2008-11-24\", \"2008-12-01\", \"2008-12-08\", \"2008-12-15\", \"2008-12-22\", \"2008-12-29\", \"2009-01-05\", \"2009-01-12\", \"2009-01-19\", \"2009-01-26\", \"2009-02-02\", \"2009-02-09\", \"2009-02-16\", \"2009-02-23\", \"2009-03-02\", \"2009-03-09\", \"2009-03-16\", \"2009-03-23\", \"2009-03-30\", \"2009-04-06\", \"2009-04-13\", \"2009-04-20\", \"2009-04-27\", \"2009-05-04\", \"2009-05-11\", \"2009-05-18\", \"2009-05-25\", \"2009-06-01\", \"2009-06-08\", \"2009-06-15\", \"2009-06-22\", \"2009-06-29\", \"2009-07-06\", \"2009-07-13\", \"2009-07-20\", \"2009-07-27\", \"2009-08-03\", \"2009-08-10\", \"2009-08-17\", \"2009-08-24\", \"2009-08-31\", \"2009-09-07\", \"2009-09-14\", \"2009-09-21\", \"2009-09-28\", \"2009-10-05\", \"2009-10-12\", \"2009-10-19\", \"2009-10-26\", \"2009-11-02\", \"2009-11-09\", \"2009-11-16\", \"2009-11-23\", \"2009-11-30\", \"2009-12-07\", \"2009-12-14\", \"2009-12-21\", \"2009-12-28\", \"2010-01-04\", \"2010-01-11\", \"2010-01-18\", \"2010-01-25\", \"2010-02-01\", \"2010-02-08\", \"2010-02-15\", \"2010-02-22\", \"2010-03-01\", \"2010-03-08\", \"2010-03-15\", \"2010-03-22\", \"2010-03-29\", \"2010-04-05\", \"2010-04-12\", \"2010-04-19\", \"2010-04-26\", \"2010-05-03\", \"2010-05-10\", \"2010-05-17\", \"2010-05-24\", \"2010-05-31\", \"2010-06-07\", \"2010-06-14\", \"2010-06-21\", \"2010-06-28\", \"2010-07-05\", \"2010-07-12\", \"2010-07-19\", \"2010-07-26\", \"2010-08-02\", \"2010-08-09\", \"2010-08-16\", \"2010-08-23\", \"2010-08-30\", \"2010-09-06\", \"2010-09-13\", \"2010-09-20\", \"2010-09-27\", \"2010-10-04\", \"2010-10-11\", \"2010-10-18\", \"2010-10-25\", \"2010-11-01\", \"2010-11-08\", \"2010-11-15\", \"2010-11-22\", \"2010-11-29\", \"2010-12-06\", \"2010-12-13\", \"2010-12-20\", \"2010-12-27\", \"2011-01-03\", \"2011-01-10\", \"2011-01-17\", \"2011-01-24\", \"2011-01-31\", \"2011-02-07\", \"2011-02-14\", \"2011-02-21\", \"2011-02-28\", \"2011-03-07\", \"2011-03-14\", \"2011-03-21\", \"2011-03-28\", \"2011-04-04\", \"2011-04-11\", \"2011-04-18\", \"2011-04-25\", \"2011-05-02\", \"2011-05-09\", \"2011-05-16\", \"2011-05-23\", \"2011-05-30\", \"2011-06-06\", \"2011-06-13\", \"2011-06-20\", \"2011-06-27\", \"2011-07-04\", \"2011-07-11\", \"2011-07-18\", \"2011-07-25\", \"2011-08-01\", \"2011-08-08\", \"2011-08-15\", \"2011-08-22\", \"2011-08-29\", \"2011-09-05\", \"2011-09-12\", \"2011-09-19\", \"2011-09-26\", \"2011-10-03\", \"2011-10-10\", \"2011-10-17\", \"2011-10-24\", \"2011-10-31\", \"2011-11-07\", \"2011-11-14\", \"2011-11-21\", \"2011-11-28\", \"2011-12-05\", \"2011-12-12\", \"2011-12-19\", \"2011-12-26\", \"2012-01-02\", \"2012-01-09\", \"2012-01-16\", \"2012-01-23\", \"2012-01-30\", \"2012-02-06\", \"2012-02-13\", \"2012-02-20\", \"2012-02-27\", \"2012-03-05\", \"2012-03-12\", \"2012-03-19\", \"2012-03-26\", \"2012-04-02\", \"2012-04-09\", \"2012-04-16\", \"2012-04-23\", \"2012-04-30\", \"2012-05-07\", \"2012-05-14\", \"2012-05-21\", \"2012-05-28\", \"2012-06-04\", \"2012-06-11\", \"2012-06-18\", \"2012-06-25\", \"2012-07-02\", \"2012-07-09\", \"2012-07-16\", \"2012-07-23\", \"2012-07-30\", \"2012-08-06\", \"2012-08-13\", \"2012-08-20\", \"2012-08-27\", \"2012-09-03\", \"2012-09-10\", \"2012-09-17\", \"2012-09-24\", \"2012-10-01\", \"2012-10-08\", \"2012-10-15\", \"2012-10-22\", \"2012-10-29\", \"2012-11-05\", \"2012-11-12\", \"2012-11-19\", \"2012-11-26\", \"2012-12-03\", \"2012-12-10\", \"2012-12-17\", \"2012-12-24\", \"2012-12-31\", \"2013-01-07\", \"2013-01-14\", \"2013-01-21\", \"2013-01-28\", \"2013-02-04\", \"2013-02-11\", \"2013-02-18\", \"2013-02-25\", \"2013-03-04\", \"2013-03-11\", \"2013-03-18\", \"2013-03-25\", \"2013-04-01\", \"2013-04-08\", \"2013-04-15\", \"2013-04-22\", \"2013-04-29\", \"2013-05-06\", \"2013-05-13\", \"2013-05-20\", \"2013-05-27\", \"2013-06-03\", \"2013-06-10\", \"2013-06-17\", \"2013-06-24\", \"2013-07-01\", \"2013-07-08\", \"2013-07-15\", \"2013-07-22\", \"2013-07-29\", \"2013-08-05\", \"2013-08-12\", \"2013-08-19\", \"2013-08-26\", \"2013-09-02\", \"2013-09-09\", \"2013-09-16\", \"2013-09-23\", \"2013-09-30\", \"2013-10-07\", \"2013-10-14\", \"2013-10-21\", \"2013-10-28\", \"2013-11-04\", \"2013-11-11\", \"2013-11-18\", \"2013-11-25\", \"2013-12-02\", \"2013-12-09\", \"2013-12-16\", \"2013-12-23\", \"2013-12-30\", \"2014-01-06\", \"2014-01-13\", \"2014-01-20\", \"2014-01-27\", \"2014-02-03\", \"2014-02-10\", \"2014-02-17\", \"2014-02-24\", \"2014-03-03\", \"2014-03-10\", \"2014-03-17\", \"2014-03-24\", \"2014-03-31\", \"2014-04-07\", \"2014-04-14\", \"2014-04-21\", \"2014-04-28\", \"2014-05-05\", \"2014-05-12\", \"2014-05-19\", \"2014-05-26\", \"2014-06-02\", \"2014-06-09\", \"2014-06-16\", \"2014-06-23\", \"2014-06-30\", \"2014-07-07\", \"2014-07-14\", \"2014-07-21\", \"2014-07-28\", \"2014-08-04\", \"2014-08-11\", \"2014-08-18\", \"2014-08-25\", \"2014-09-01\", \"2014-09-08\", \"2014-09-15\", \"2014-09-22\", \"2014-09-29\", \"2014-10-06\", \"2014-10-13\", \"2014-10-20\", \"2014-10-27\", \"2014-11-03\", \"2014-11-10\", \"2014-11-17\", \"2014-11-24\", \"2014-12-01\", \"2014-12-08\", \"2014-12-15\", \"2014-12-22\", \"2014-12-29\", \"2015-01-05\", \"2015-01-12\", \"2015-01-19\", \"2015-01-26\", \"2015-02-02\", \"2015-02-09\", \"2015-02-16\", \"2015-02-23\", \"2015-03-02\", \"2015-03-09\", \"2015-03-16\", \"2015-03-23\", \"2015-03-30\", \"2015-04-06\", \"2015-04-13\", \"2015-04-20\", \"2015-04-27\", \"2015-05-04\", \"2015-05-11\", \"2015-05-18\", \"2015-05-25\", \"2015-06-01\", \"2015-06-08\", \"2015-06-15\", \"2015-06-22\", \"2015-06-29\", \"2015-07-06\", \"2015-07-13\", \"2015-07-20\", \"2015-07-27\", \"2015-08-03\", \"2015-08-10\", \"2015-08-17\", \"2015-08-24\", \"2015-08-31\", \"2015-09-07\", \"2015-09-14\", \"2015-09-21\", \"2015-09-28\", \"2015-10-05\", \"2015-10-12\", \"2015-10-19\", \"2015-10-26\", \"2015-11-02\", \"2015-11-09\", \"2015-11-16\", \"2015-11-23\", \"2015-11-30\", \"2015-12-07\", \"2015-12-14\", \"2015-12-21\", \"2015-12-28\", \"2016-01-04\", \"2016-01-11\", \"2016-01-18\", \"2016-01-25\", \"2016-02-01\", \"2016-02-08\", \"2016-02-15\", \"2016-02-22\", \"2016-02-29\", \"2016-03-07\", \"2016-03-14\", \"2016-03-21\", \"2016-03-28\", \"2016-04-04\", \"2016-04-11\", \"2016-04-18\", \"2016-04-25\", \"2016-05-02\", \"2016-05-09\", \"2016-05-16\", \"2016-05-23\", \"2016-05-30\", \"2016-06-06\", \"2016-06-13\", \"2016-06-20\", \"2016-06-27\", \"2016-07-04\", \"2016-07-11\", \"2016-07-18\", \"2016-07-25\", \"2016-08-01\", \"2016-08-08\", \"2016-08-15\", \"2016-08-22\", \"2016-08-29\", \"2016-09-05\", \"2016-09-12\", \"2016-09-19\", \"2016-09-26\", \"2016-10-03\", \"2016-10-10\", \"2016-10-17\", \"2016-10-24\", \"2016-10-31\", \"2016-11-07\", \"2016-11-14\", \"2016-11-21\", \"2016-11-28\", \"2016-12-05\", \"2016-12-12\", \"2016-12-19\", \"2016-12-26\", \"2017-01-02\", \"2017-01-09\", \"2017-01-16\", \"2017-01-23\", \"2017-01-30\", \"2017-02-06\", \"2017-02-13\", \"2017-02-20\", \"2017-02-27\", \"2017-03-06\", \"2017-03-13\", \"2017-03-20\", \"2017-03-27\", \"2017-04-03\", \"2017-04-10\", \"2017-04-17\", \"2017-04-24\", \"2017-05-01\", \"2017-05-08\", \"2017-05-15\", \"2017-05-22\", \"2017-05-29\", \"2017-06-05\", \"2017-06-12\", \"2017-06-19\", \"2017-06-26\", \"2017-07-03\", \"2017-07-10\", \"2017-07-17\", \"2017-07-24\", \"2017-07-31\", \"2017-08-07\", \"2017-08-14\", \"2017-08-21\", \"2017-08-28\", \"2017-09-04\", \"2017-09-11\", \"2017-09-18\", \"2017-09-25\", \"2017-10-02\", \"2017-10-09\", \"2017-10-16\", \"2017-10-23\", \"2017-10-30\", \"2017-11-06\", \"2017-11-13\", \"2017-11-20\", \"2017-11-27\", \"2017-12-04\", \"2017-12-11\", \"2017-12-18\", \"2017-12-25\", \"2018-01-01\", \"2018-01-08\", \"2018-01-15\", \"2018-01-22\", \"2018-01-29\", \"2018-02-05\", \"2018-02-12\", \"2018-02-19\", \"2018-02-26\", \"2018-03-05\", \"2018-03-12\", \"2018-03-19\", \"2018-03-26\", \"2018-04-02\", \"2018-04-09\", \"2018-04-16\", \"2018-04-23\", \"2018-04-30\", \"2018-05-07\", \"2018-05-14\", \"2018-05-21\", \"2018-05-28\", \"2018-06-04\", \"2018-06-11\", \"2018-06-18\", \"2018-06-25\", \"2018-07-02\", \"2018-07-09\", \"2018-07-16\", \"2018-07-23\", \"2018-07-30\", \"2018-08-06\", \"2018-08-13\", \"2018-08-20\", \"2018-08-27\", \"2018-09-03\", \"2018-09-10\", \"2018-09-17\", \"2018-09-24\", \"2018-10-01\", \"2018-10-08\", \"2018-10-15\", \"2018-10-22\", \"2018-10-29\", \"2018-11-05\", \"2018-11-12\", \"2018-11-19\", \"2018-11-26\", \"2018-12-03\", \"2018-12-10\", \"2018-12-17\", \"2018-12-24\", \"2018-12-31\", \"2019-01-07\", \"2019-01-14\", \"2019-01-21\", \"2019-01-28\", \"2019-02-04\", \"2019-02-11\", \"2019-02-18\", \"2019-02-25\", \"2019-03-04\", \"2019-03-11\", \"2019-03-18\", \"2019-03-25\", \"2019-04-01\", \"2019-04-08\", \"2019-04-15\", \"2019-04-22\", \"2019-04-29\", \"2019-05-06\", \"2019-05-13\", \"2019-05-20\", \"2019-05-27\", \"2019-06-03\", \"2019-06-10\", \"2019-06-17\", \"2019-06-24\", \"2019-07-01\", \"2019-07-08\", \"2019-07-15\", \"2019-07-22\", \"2019-07-29\", \"2019-08-05\", \"2019-08-12\", \"2019-08-19\", \"2019-08-26\", \"2019-09-02\", \"2019-09-09\", \"2019-09-16\", \"2019-09-23\", \"2019-09-30\", \"2019-10-07\", \"2019-10-14\", \"2019-10-21\", \"2019-10-28\", \"2019-11-04\", \"2019-11-11\", \"2019-11-18\", \"2019-11-25\", \"2019-12-02\", \"2019-12-09\", \"2019-12-16\", \"2019-12-23\", \"2019-12-30\", \"2020-01-06\", \"2020-01-13\", \"2020-01-20\", \"2020-01-27\", \"2020-02-03\", \"2020-02-10\"], \"y\": [97414.61941541004, 137807.31086841493, 137492.58938189517, 137700.26851723267, 139660.17937288986, 117317.49395553526, 137885.8129436532, 138463.94137385202, 140640.94678786225, 143570.44092007517, 142855.57449635008, 124270.20427263128, 143999.2104036215, 143963.41807453948, 139387.8202929167, 145805.23922980094, 148031.7210935248, 148627.012368705, 150837.3509263806, 153564.00918857683, 154556.99852987716, 151757.86373897645, 149637.1110524636, 148221.20084723615, 146024.75010721208, 141930.4977294662, 134004.16542493898, 136153.2801601753, 136652.3607563239, 136859.5354236652, 138889.29019096325, 141525.272234467, 139923.31720289332, 141199.86460150155, 142195.84491246767, 141812.95382038737, 140693.643302584, 128305.72596351922, 143009.0464415219, 141723.9326750367, 141045.15679053153, 141099.3851422136, 139906.1124125087, 139306.18160935634, 139489.96152332262, 139814.46778729415, 118531.55303664178, 136155.92971029144, 137313.60927231866, 139544.25194032735, 142681.38999026688, 117365.81271004479, 113423.66534981721, 143254.82812626718, 141277.78489082732, 140505.74154001646, 142825.51711408922, 121450.87526410863, 144779.22188860827, 143342.08876046902, 144539.24750686437, 147213.6721668613, 145451.40217865945, 145927.27832040773, 143502.7576032307, 146970.1526779831, 146527.72056881015, 148698.08135022636, 150401.91209447387, 150540.32988468543, 151949.49248028448, 154767.44351185602, 155807.56344722916, 154047.33989725614, 151818.22460736602, 150776.94755509554, 148501.61688969395, 145507.9604396402, 143501.79930177663, 138110.1847099567, 139335.22039984324, 137553.7983965529, 138231.58170451463, 141110.49912164896, 138641.62292408536, 137415.932280512, 138590.83712211577, 138104.49519098614, 136160.2291951226, 122559.72522547941, 137974.21660242893, 139302.6588093323, 139039.1202047626, 140511.4172052578, 142317.50929446047, 140136.47843551956, 138539.9737063172, 140481.71793932997, 120265.70560843678, 138721.67511315865, 139095.8424560025, 140917.83508864345, 142204.8797530132, 139342.82141893829, 138004.5180262738, 134181.14576179878, 134451.91422231696, 134338.59905789263, 137254.63797628158, 114864.13358700584, 135582.1917960439, 137256.48213128938, 140061.194464191, 144774.92856993357, 145389.92076595477, 127409.68198750485, 147646.21666809847, 147135.9735487189, 146192.18538133803, 143815.68965469918, 148603.45858283306, 143060.23448705082, 143821.6880208539, 147770.89965609615, 153775.72801649006, 153392.88840255546, 152225.71163851325, 151475.49711484835, 149820.66792985116, 146147.12719358, 143873.40752425566, 137774.7849685397, 138852.813805482, 139369.81081816583, 142743.83513112686, 149809.68351417908, 149316.66480424156, 144551.12376173856, 142533.7943190592, 142188.80034075974, 138915.35410505335, 135423.5703818454, 141675.68058987288, 142931.6766724286, 142236.00141044921, 139602.9882932722, 143967.48728913852, 142793.49991883064, 141079.62563283095, 143068.56348476734, 122822.07987753542, 140178.6761427784, 137995.09990876063, 138340.73674869645, 138623.4742566158, 139947.59229643724, 139807.34838697535, 138690.145927088, 143939.4687971413, 143396.39789137128, 145449.81491263135, 128148.69864747161, 139181.06264747167, 146072.03178076955, 150086.2388708603, 153994.748540267, 154158.58513183467, 135370.555606165, 155884.1229493663, 156732.04567754653, 153838.84893125296, 158263.14734702522, 159188.097593286, 159215.5608388998, 159479.60739750188, 164594.31032687626, 165106.27459252294, 164861.32821889865, 163297.52252667083, 161642.97140362472, 159177.20723540767, 154334.56362158194, 151649.44873800664, 146277.23510411492, 147769.19781511126, 148164.84504422004, 148935.25925055397, 153626.0585171034, 150957.88425864256, 149863.83463751353, 151754.12691857398, 153272.82334126128, 152726.48634349066, 152042.83535437175, 153527.6930557196, 154148.35601653066, 152548.58041316416, 151537.6224777582, 153241.73205079776, 152151.56695699063, 149157.02146146883, 150706.32870299835, 133847.12889302487, 154661.83292811975, 155300.65236831416, 156359.18469371815, 148869.41611985193, 153952.8561145832, 147993.14662243216, 153605.6485867956, 158807.44382479563, 158117.4982798607, 160496.57570528885, 161369.8088764832, 138330.17159166164, 158482.17411328695, 160778.35484926868, 163012.5443691549, 164317.30404378302, 165015.2534235804, 148563.71400406593, 168541.29885474028, 169330.98234339245, 171426.7681164571, 173393.16722849195, 170998.42343566363, 175544.68991760394, 180038.98638315537, 181944.7956275274, 182481.77561029434, 181098.48176705895, 179748.0274074091, 177086.5021086882, 173127.62415417485, 168989.87626324006, 159223.93388207583, 158186.16726416408, 157082.1392576404, 158858.50119432696, 166006.3123696458, 165764.41470397898, 162950.07510374518, 164067.40203987458, 163623.05429161672, 161638.6473646775, 161707.07002275845, 163081.59289382037, 164331.93048378633, 163768.49646263366, 163146.7056905793, 163597.48177272614, 163456.68823710748, 161563.8235800984, 159949.14459965212, 160724.05788625428, 139906.6401200333, 158047.41335611395, 160610.76156888207, 145424.45994235008, 160139.37205898564, 141685.61957500136, 144574.5758770773, 161638.5802117249, 159870.87569657218, 160572.2016705906, 160771.0290824537, 138027.4847266337, 158602.53909648754, 162628.28478742842, 165459.12990931433, 167986.12729841913, 167563.95128017064, 150162.62301506585, 170996.04004618595, 171126.4861133081, 169006.95051380742, 175227.9110435781, 176392.50888083864, 176544.36920166525, 179994.894049715, 183039.05713896913, 183621.20948690973, 182395.97320467094, 183150.45690956397, 181533.69217045512, 177801.98481281212, 173930.0714708001, 164954.9139393081, 164442.61425669963, 164340.81401239368, 164211.88680682622, 164482.44911291142, 169532.9420958995, 166914.12882148317, 167451.75243557413, 168237.00450128532, 166950.5529988205, 165869.4181455149, 153930.63728446246, 169478.087615379, 168582.54289859525, 170283.1365911297, 171010.6560469368, 169265.7079667366, 167937.35378146335, 166457.73301228273, 167536.14665095226, 147852.0080340305, 166594.10652544774, 165949.85591092682, 169780.61772490566, 169705.45442044406, 140636.7738722775, 138372.25950441728, 155603.06389133332, 160885.8086185853, 162760.2703781878, 165403.77313114732, 145653.06207365653, 168449.41591690527, 168376.28872286086, 169290.05490893224, 170350.3064375454, 170090.5839124011, 153449.13239545582, 174337.82733121858, 170964.36287582188, 175631.40474369968, 177588.68049796112, 179171.70407668498, 179283.8434638524, 181450.88633112848, 182314.99851936594, 183679.35891558832, 183543.93532922494, 186230.00669063022, 186392.23040830035, 184138.31553222146, 179702.472848727, 169282.0548375891, 168785.82443393822, 168162.71283099262, 168402.44182615436, 169424.44678422716, 175353.25733749717, 176059.9493101525, 175469.40681456053, 172151.1512325089, 167358.89329998812, 163790.30913373298, 129747.28861804426, 166540.80471037462, 168380.48730324718, 168532.97179563704, 168699.7994605616, 166661.3125380547, 164175.95946189767, 161849.28946544323, 162226.67206804056, 144954.9007019526, 164521.43526535126, 167248.97115910385, 167131.41321264452, 164417.04570015904, 151761.84495079156, 142515.75579591485, 163902.6977960443, 164013.47286109772, 166281.14351041286, 168120.1151615716, 147676.06544467554, 170403.03943101206, 171835.62646938668, 173535.2008877208, 175954.95050726787, 175180.96510593276, 158097.87642434286, 178761.48411606392, 179080.59283379742, 179048.97143803097, 180940.67737868545, 177146.27195358483, 181357.65396852524, 182497.6788987943, 183403.62035885977, 183417.98101555894, 183254.85774523445, 185708.24239563112, 185096.02232814755, 180094.1260447081, 174432.99227575155, 174926.99084224462, 170735.9679026643, 171891.72005517373, 173867.24930177466, 175300.09829733873, 180298.49174273945, 179104.38577692633, 178258.1992966233, 177960.35352327407, 174442.91860255803, 171131.09587763055, 157553.08428318345, 171574.42096965748, 173004.68660227358, 173324.57167369564, 173023.89965124513, 171964.927772982, 170869.82738326746, 170796.3008670188, 171940.92388847517, 152343.77268763568, 169443.0473371223, 170704.53558287822, 170105.6107564821, 169468.44954360864, 167813.99281271995, 168547.65561806798, 166173.32051335205, 172348.5190496022, 172582.86999834198, 173540.37130665648, 151593.62850356725, 171708.2679163472, 171520.31379311212, 173533.57347143698, 175893.4116323663, 175985.5448904736, 159711.6732888816, 182278.07219702305, 183012.39503904985, 179461.7357040698, 186179.28260752175, 185998.20010799833, 185722.46450962324, 187803.7900367144, 189052.64731548337, 188474.98965726953, 186054.07806323614, 186253.1974799943, 186766.60397487856, 184698.0010477016, 179898.73564757477, 178835.102076496, 173832.6926954773, 174731.69901958937, 175316.1338550376, 177247.43161411677, 182406.86698319268, 182130.36242932905, 182037.8819508088, 182999.55068465823, 180954.126420461, 176571.4582687137, 173710.3705465866, 179059.46294088988, 180395.20062708505, 180010.01667317428, 178752.02341305505, 180124.63268620882, 176680.004510396, 174540.001929907, 174729.14362780482, 156023.3122240813, 173713.08737518324, 171388.90373240522, 172318.76871138072, 169677.3637731184, 172254.97940034053, 174400.34467637606, 159781.43702359448, 160919.27872973244, 164011.74272536626, 167808.08034281206, 146256.95743297518, 167199.59181695452, 169110.04005398127, 171299.06493676105, 172993.25459415058, 175210.5160779555, 175881.44303556829, 157037.0818107386, 172815.3054530752, 175237.13305567828, 177969.8134089039, 181588.42515649536, 183311.35511973864, 185785.57401921117, 189017.9856114611, 190366.29859546013, 188581.60778160745, 186997.24568860166, 185898.76439910266, 183406.3404590811, 179641.12634069705, 177319.37570356665, 170358.33570720334, 171859.462535132, 171633.5154816175, 173363.58025754293, 176617.9766065345, 174418.342766951, 172546.28523779075, 173044.98467822734, 173652.08122420232, 170578.04300530723, 171116.5450929543, 171610.19767717557, 171368.0243524448, 168939.0498619099, 171015.02405505162, 171244.30055646726, 168689.5795366598, 168924.41529549015, 167054.60492372263, 165561.2911388947, 146943.8779923516, 166872.8709134378, 168810.2086673168, 154013.2462629073, 169007.24477478402, 147888.4223105357, 158404.43720824702, 171515.1830201796, 169482.04932843422, 172085.0705791969, 173126.31513947572, 152210.2023328147, 175595.15777672, 176879.86927715907, 178681.43036464037, 182293.15700502504, 183405.56600985333, 166316.1358061994, 187298.53204189107, 188105.00739601982, 190812.12498560105, 188398.50056039199, 193903.0632504885, 164259.0310000079, 196405.9159956611, 196968.59338295058, 196462.30439673673, 195352.0155964149, 195854.8435738152, 193798.80203050806, 192164.62822146591, 191527.52311223696, 182209.7900605277, 181594.5803969933, 179142.36817082713, 180309.55439320815, 180329.28736419725, 185172.42348612187, 186706.75472048917, 188569.8628614481, 186576.8486913155, 181271.29430036034, 180095.16674246918, 176060.67806272232, 178552.91300488616, 177546.95920072924, 180465.25634441, 181163.37916246013, 180449.6411433388, 183292.27501920078, 184732.40211209952, 183652.06842843143, 163747.22416081707, 181006.4232821205, 180011.2993472221, 169752.1556313395, 174191.93304089468, 126672.80932903255, 127147.79954156933, 181536.5802992002, 177954.11866492772, 179892.5223055799, 178605.31350773136, 157518.38467009534, 181940.39835621067, 182827.07043664705, 186051.5269212944, 190145.68900029105, 191954.60996089273, 172664.68736934717, 195193.6441021735, 191471.82957615162, 196848.84916911228, 199077.6196831516, 199730.50004011032, 200048.95299978857, 202791.1671764783, 203279.34647819703, 203590.56865016196, 202035.97484645128, 201470.75578753228, 197946.11164258703, 189467.67795384204, 187162.91716384894, 176391.26519292506, 182441.63238288567, 183431.26114620434, 187328.95900374555, 188930.79592299327, 193656.9337068348, 193032.12342783302, 192202.14375919738, 191095.45425846142, 187707.55171679828, 186145.73294632597, 173040.01182589674, 185042.01312908938, 180417.76753321034, 181233.68798914953, 181174.4180983402, 177316.37762247134, 177627.16109230113, 179619.1671433008, 178905.02200902347, 159435.93919804308, 177498.82887014892, 173839.9806587196, 176506.03118266354, 176319.3109353848, 151133.6513510259, 149027.31373980892, 183427.94010714206, 176754.03541228225, 182031.10263540107, 183534.47577021635, 162877.39373309413, 188684.63545532647, 189393.1165122416, 189914.42014565252, 190943.47648733738, 191044.70035301952, 173728.06228266933, 193770.66623339904, 195014.75681851213, 196732.25908180454, 198307.12623722828, 196562.88366259506, 201140.31100874627, 205658.44972724427, 207419.86454188748, 208891.6031312722, 206927.8188919408, 206530.24601432777, 205315.27774884435, 201351.94203735408, 196552.01181700383, 188601.237339569, 192274.1012106207, 192254.4714204262, 191835.5630414571, 191485.9925516796, 193842.56953973067, 192267.42089800432, 192146.01320715965, 193264.8263789373, 192839.8608564714, 192100.1596339236, 157409.12020240468, 191131.31914067155, 188168.27640758635, 187310.24040271467, 187993.62539342052, 186179.04619050468, 186215.0191850866, 188406.52537007746, 186654.04466661307, 164614.69136700284, 183555.0153472794, 185640.033190606, 188009.06547845082, 186487.8877705296, 174274.61341823085, 166171.12418000825, 180444.16193771386, 180495.7286781955, 182285.48102800635, 184307.8925327684, 164807.83648218328, 189629.08434121136]}, {\"line\": {\"color\": \"rgba(55, 128, 191, 1.0)\", \"dash\": \"solid\", \"shape\": \"linear\", \"width\": 1.3}, \"mode\": \"lines\", \"name\": \"real\", \"text\": \"\", \"type\": \"scatter\", \"x\": [\"2007-01-01\", \"2007-01-08\", \"2007-01-15\", \"2007-01-22\", \"2007-01-29\", \"2007-02-05\", \"2007-02-12\", \"2007-02-19\", \"2007-02-26\", \"2007-03-05\", \"2007-03-12\", \"2007-03-19\", \"2007-03-26\", \"2007-04-02\", \"2007-04-09\", \"2007-04-16\", \"2007-04-23\", \"2007-04-30\", \"2007-05-07\", \"2007-05-14\", \"2007-05-21\", \"2007-05-28\", \"2007-06-04\", \"2007-06-11\", \"2007-06-18\", \"2007-06-25\", \"2007-07-02\", \"2007-07-09\", \"2007-07-16\", \"2007-07-23\", \"2007-07-30\", \"2007-08-06\", \"2007-08-13\", \"2007-08-20\", \"2007-08-27\", \"2007-09-03\", \"2007-09-10\", \"2007-09-17\", \"2007-09-24\", \"2007-10-01\", \"2007-10-08\", \"2007-10-15\", \"2007-10-22\", \"2007-10-29\", \"2007-11-05\", \"2007-11-12\", \"2007-11-19\", \"2007-11-26\", \"2007-12-03\", \"2007-12-10\", \"2007-12-17\", \"2007-12-24\", \"2007-12-31\", \"2008-01-07\", \"2008-01-14\", \"2008-01-21\", \"2008-01-28\", \"2008-02-04\", \"2008-02-11\", \"2008-02-18\", \"2008-02-25\", \"2008-03-03\", \"2008-03-10\", \"2008-03-17\", \"2008-03-24\", \"2008-03-31\", \"2008-04-07\", \"2008-04-14\", \"2008-04-21\", \"2008-04-28\", \"2008-05-05\", \"2008-05-12\", \"2008-05-19\", \"2008-05-26\", \"2008-06-02\", \"2008-06-09\", \"2008-06-16\", \"2008-06-23\", \"2008-06-30\", \"2008-07-07\", \"2008-07-14\", \"2008-07-21\", \"2008-07-28\", \"2008-08-04\", \"2008-08-11\", \"2008-08-18\", \"2008-08-25\", \"2008-09-01\", \"2008-09-08\", \"2008-09-15\", \"2008-09-22\", \"2008-09-29\", \"2008-10-06\", \"2008-10-13\", \"2008-10-20\", \"2008-10-27\", \"2008-11-03\", \"2008-11-10\", \"2008-11-17\", \"2008-11-24\", \"2008-12-01\", \"2008-12-08\", \"2008-12-15\", \"2008-12-22\", \"2008-12-29\", \"2009-01-05\", \"2009-01-12\", \"2009-01-19\", \"2009-01-26\", \"2009-02-02\", \"2009-02-09\", \"2009-02-16\", \"2009-02-23\", \"2009-03-02\", \"2009-03-09\", \"2009-03-16\", \"2009-03-23\", \"2009-03-30\", \"2009-04-06\", \"2009-04-13\", \"2009-04-20\", \"2009-04-27\", \"2009-05-04\", \"2009-05-11\", \"2009-05-18\", \"2009-05-25\", \"2009-06-01\", \"2009-06-08\", \"2009-06-15\", \"2009-06-22\", \"2009-06-29\", \"2009-07-06\", \"2009-07-13\", \"2009-07-20\", \"2009-07-27\", \"2009-08-03\", \"2009-08-10\", \"2009-08-17\", \"2009-08-24\", \"2009-08-31\", \"2009-09-07\", \"2009-09-14\", \"2009-09-21\", \"2009-09-28\", \"2009-10-05\", \"2009-10-12\", \"2009-10-19\", \"2009-10-26\", \"2009-11-02\", \"2009-11-09\", \"2009-11-16\", \"2009-11-23\", \"2009-11-30\", \"2009-12-07\", \"2009-12-14\", \"2009-12-21\", \"2009-12-28\", \"2010-01-04\", \"2010-01-11\", \"2010-01-18\", \"2010-01-25\", \"2010-02-01\", \"2010-02-08\", \"2010-02-15\", \"2010-02-22\", \"2010-03-01\", \"2010-03-08\", \"2010-03-15\", \"2010-03-22\", \"2010-03-29\", \"2010-04-05\", \"2010-04-12\", \"2010-04-19\", \"2010-04-26\", \"2010-05-03\", \"2010-05-10\", \"2010-05-17\", \"2010-05-24\", \"2010-05-31\", \"2010-06-07\", \"2010-06-14\", \"2010-06-21\", \"2010-06-28\", \"2010-07-05\", \"2010-07-12\", \"2010-07-19\", \"2010-07-26\", \"2010-08-02\", \"2010-08-09\", \"2010-08-16\", \"2010-08-23\", \"2010-08-30\", \"2010-09-06\", \"2010-09-13\", \"2010-09-20\", \"2010-09-27\", \"2010-10-04\", \"2010-10-11\", \"2010-10-18\", \"2010-10-25\", \"2010-11-01\", \"2010-11-08\", \"2010-11-15\", \"2010-11-22\", \"2010-11-29\", \"2010-12-06\", \"2010-12-13\", \"2010-12-20\", \"2010-12-27\", \"2011-01-03\", \"2011-01-10\", \"2011-01-17\", \"2011-01-24\", \"2011-01-31\", \"2011-02-07\", \"2011-02-14\", \"2011-02-21\", \"2011-02-28\", \"2011-03-07\", \"2011-03-14\", \"2011-03-21\", \"2011-03-28\", \"2011-04-04\", \"2011-04-11\", \"2011-04-18\", \"2011-04-25\", \"2011-05-02\", \"2011-05-09\", \"2011-05-16\", \"2011-05-23\", \"2011-05-30\", \"2011-06-06\", \"2011-06-13\", \"2011-06-20\", \"2011-06-27\", \"2011-07-04\", \"2011-07-11\", \"2011-07-18\", \"2011-07-25\", \"2011-08-01\", \"2011-08-08\", \"2011-08-15\", \"2011-08-22\", \"2011-08-29\", \"2011-09-05\", \"2011-09-12\", \"2011-09-19\", \"2011-09-26\", \"2011-10-03\", \"2011-10-10\", \"2011-10-17\", \"2011-10-24\", \"2011-10-31\", \"2011-11-07\", \"2011-11-14\", \"2011-11-21\", \"2011-11-28\", \"2011-12-05\", \"2011-12-12\", \"2011-12-19\", \"2011-12-26\", \"2012-01-02\", \"2012-01-09\", \"2012-01-16\", \"2012-01-23\", \"2012-01-30\", \"2012-02-06\", \"2012-02-13\", \"2012-02-20\", \"2012-02-27\", \"2012-03-05\", \"2012-03-12\", \"2012-03-19\", \"2012-03-26\", \"2012-04-02\", \"2012-04-09\", \"2012-04-16\", \"2012-04-23\", \"2012-04-30\", \"2012-05-07\", \"2012-05-14\", \"2012-05-21\", \"2012-05-28\", \"2012-06-04\", \"2012-06-11\", \"2012-06-18\", \"2012-06-25\", \"2012-07-02\", \"2012-07-09\", \"2012-07-16\", \"2012-07-23\", \"2012-07-30\", \"2012-08-06\", \"2012-08-13\", \"2012-08-20\", \"2012-08-27\", \"2012-09-03\", \"2012-09-10\", \"2012-09-17\", \"2012-09-24\", \"2012-10-01\", \"2012-10-08\", \"2012-10-15\", \"2012-10-22\", \"2012-10-29\", \"2012-11-05\", \"2012-11-12\", \"2012-11-19\", \"2012-11-26\", \"2012-12-03\", \"2012-12-10\", \"2012-12-17\", \"2012-12-24\", \"2012-12-31\", \"2013-01-07\", \"2013-01-14\", \"2013-01-21\", \"2013-01-28\", \"2013-02-04\", \"2013-02-11\", \"2013-02-18\", \"2013-02-25\", \"2013-03-04\", \"2013-03-11\", \"2013-03-18\", \"2013-03-25\", \"2013-04-01\", \"2013-04-08\", \"2013-04-15\", \"2013-04-22\", \"2013-04-29\", \"2013-05-06\", \"2013-05-13\", \"2013-05-20\", \"2013-05-27\", \"2013-06-03\", \"2013-06-10\", \"2013-06-17\", \"2013-06-24\", \"2013-07-01\", \"2013-07-08\", \"2013-07-15\", \"2013-07-22\", \"2013-07-29\", \"2013-08-05\", \"2013-08-12\", \"2013-08-19\", \"2013-08-26\", \"2013-09-02\", \"2013-09-09\", \"2013-09-16\", \"2013-09-23\", \"2013-09-30\", \"2013-10-07\", \"2013-10-14\", \"2013-10-21\", \"2013-10-28\", \"2013-11-04\", \"2013-11-11\", \"2013-11-18\", \"2013-11-25\", \"2013-12-02\", \"2013-12-09\", \"2013-12-16\", \"2013-12-23\", \"2013-12-30\", \"2014-01-06\", \"2014-01-13\", \"2014-01-20\", \"2014-01-27\", \"2014-02-03\", \"2014-02-10\", \"2014-02-17\", \"2014-02-24\", \"2014-03-03\", \"2014-03-10\", \"2014-03-17\", \"2014-03-24\", \"2014-03-31\", \"2014-04-07\", \"2014-04-14\", \"2014-04-21\", \"2014-04-28\", \"2014-05-05\", \"2014-05-12\", \"2014-05-19\", \"2014-05-26\", \"2014-06-02\", \"2014-06-09\", \"2014-06-16\", \"2014-06-23\", \"2014-06-30\", \"2014-07-07\", \"2014-07-14\", \"2014-07-21\", \"2014-07-28\", \"2014-08-04\", \"2014-08-11\", \"2014-08-18\", \"2014-08-25\", \"2014-09-01\", \"2014-09-08\", \"2014-09-15\", \"2014-09-22\", \"2014-09-29\", \"2014-10-06\", \"2014-10-13\", \"2014-10-20\", \"2014-10-27\", \"2014-11-03\", \"2014-11-10\", \"2014-11-17\", \"2014-11-24\", \"2014-12-01\", \"2014-12-08\", \"2014-12-15\", \"2014-12-22\", \"2014-12-29\", \"2015-01-05\", \"2015-01-12\", \"2015-01-19\", \"2015-01-26\", \"2015-02-02\", \"2015-02-09\", \"2015-02-16\", \"2015-02-23\", \"2015-03-02\", \"2015-03-09\", \"2015-03-16\", \"2015-03-23\", \"2015-03-30\", \"2015-04-06\", \"2015-04-13\", \"2015-04-20\", \"2015-04-27\", \"2015-05-04\", \"2015-05-11\", \"2015-05-18\", \"2015-05-25\", \"2015-06-01\", \"2015-06-08\", \"2015-06-15\", \"2015-06-22\", \"2015-06-29\", \"2015-07-06\", \"2015-07-13\", \"2015-07-20\", \"2015-07-27\", \"2015-08-03\", \"2015-08-10\", \"2015-08-17\", \"2015-08-24\", \"2015-08-31\", \"2015-09-07\", \"2015-09-14\", \"2015-09-21\", \"2015-09-28\", \"2015-10-05\", \"2015-10-12\", \"2015-10-19\", \"2015-10-26\", \"2015-11-02\", \"2015-11-09\", \"2015-11-16\", \"2015-11-23\", \"2015-11-30\", \"2015-12-07\", \"2015-12-14\", \"2015-12-21\", \"2015-12-28\", \"2016-01-04\", \"2016-01-11\", \"2016-01-18\", \"2016-01-25\", \"2016-02-01\", \"2016-02-08\", \"2016-02-15\", \"2016-02-22\", \"2016-02-29\", \"2016-03-07\", \"2016-03-14\", \"2016-03-21\", \"2016-03-28\", \"2016-04-04\", \"2016-04-11\", \"2016-04-18\", \"2016-04-25\", \"2016-05-02\", \"2016-05-09\", \"2016-05-16\", \"2016-05-23\", \"2016-05-30\", \"2016-06-06\", \"2016-06-13\", \"2016-06-20\", \"2016-06-27\", \"2016-07-04\", \"2016-07-11\", \"2016-07-18\", \"2016-07-25\", \"2016-08-01\", \"2016-08-08\", \"2016-08-15\", \"2016-08-22\", \"2016-08-29\", \"2016-09-05\", \"2016-09-12\", \"2016-09-19\", \"2016-09-26\", \"2016-10-03\", \"2016-10-10\", \"2016-10-17\", \"2016-10-24\", \"2016-10-31\", \"2016-11-07\", \"2016-11-14\", \"2016-11-21\", \"2016-11-28\", \"2016-12-05\", \"2016-12-12\", \"2016-12-19\", \"2016-12-26\", \"2017-01-02\", \"2017-01-09\", \"2017-01-16\", \"2017-01-23\", \"2017-01-30\", \"2017-02-06\", \"2017-02-13\", \"2017-02-20\", \"2017-02-27\", \"2017-03-06\", \"2017-03-13\", \"2017-03-20\", \"2017-03-27\", \"2017-04-03\", \"2017-04-10\", \"2017-04-17\", \"2017-04-24\", \"2017-05-01\", \"2017-05-08\", \"2017-05-15\", \"2017-05-22\", \"2017-05-29\", \"2017-06-05\", \"2017-06-12\", \"2017-06-19\", \"2017-06-26\", \"2017-07-03\", \"2017-07-10\", \"2017-07-17\", \"2017-07-24\", \"2017-07-31\", \"2017-08-07\", \"2017-08-14\", \"2017-08-21\", \"2017-08-28\", \"2017-09-04\", \"2017-09-11\", \"2017-09-18\", \"2017-09-25\", \"2017-10-02\", \"2017-10-09\", \"2017-10-16\", \"2017-10-23\", \"2017-10-30\", \"2017-11-06\", \"2017-11-13\", \"2017-11-20\", \"2017-11-27\", \"2017-12-04\", \"2017-12-11\", \"2017-12-18\", \"2017-12-25\", \"2018-01-01\", \"2018-01-08\", \"2018-01-15\", \"2018-01-22\", \"2018-01-29\", \"2018-02-05\", \"2018-02-12\", \"2018-02-19\", \"2018-02-26\", \"2018-03-05\", \"2018-03-12\", \"2018-03-19\", \"2018-03-26\", \"2018-04-02\", \"2018-04-09\", \"2018-04-16\", \"2018-04-23\", \"2018-04-30\", \"2018-05-07\", \"2018-05-14\", \"2018-05-21\", \"2018-05-28\", \"2018-06-04\", \"2018-06-11\", \"2018-06-18\", \"2018-06-25\", \"2018-07-02\", \"2018-07-09\", \"2018-07-16\", \"2018-07-23\", \"2018-07-30\", \"2018-08-06\", \"2018-08-13\", \"2018-08-20\", \"2018-08-27\", \"2018-09-03\", \"2018-09-10\", \"2018-09-17\", \"2018-09-24\", \"2018-10-01\", \"2018-10-08\", \"2018-10-15\", \"2018-10-22\", \"2018-10-29\", \"2018-11-05\", \"2018-11-12\", \"2018-11-19\", \"2018-11-26\", \"2018-12-03\", \"2018-12-10\", \"2018-12-17\", \"2018-12-24\", \"2018-12-31\", \"2019-01-07\", \"2019-01-14\", \"2019-01-21\", \"2019-01-28\", \"2019-02-04\", \"2019-02-11\", \"2019-02-18\", \"2019-02-25\", \"2019-03-04\", \"2019-03-11\", \"2019-03-18\", \"2019-03-25\", \"2019-04-01\", \"2019-04-08\", \"2019-04-15\", \"2019-04-22\", \"2019-04-29\", \"2019-05-06\", \"2019-05-13\", \"2019-05-20\", \"2019-05-27\", \"2019-06-03\", \"2019-06-10\", \"2019-06-17\", \"2019-06-24\", \"2019-07-01\", \"2019-07-08\", \"2019-07-15\", \"2019-07-22\", \"2019-07-29\", \"2019-08-05\", \"2019-08-12\", \"2019-08-19\", \"2019-08-26\", \"2019-09-02\", \"2019-09-09\", \"2019-09-16\", \"2019-09-23\", \"2019-09-30\", \"2019-10-07\", \"2019-10-14\", \"2019-10-21\", \"2019-10-28\", \"2019-11-04\", \"2019-11-11\", \"2019-11-18\", \"2019-11-25\", \"2019-12-02\", \"2019-12-09\", \"2019-12-16\", \"2019-12-23\", \"2019-12-30\", \"2020-01-06\", \"2020-01-13\", \"2020-01-20\", \"2020-01-27\", \"2020-02-03\", \"2020-02-10\"], \"y\": [98112.97, 137743.895, 138324.109, 139010.637, 135272.964, 114825.214, 134632.72, 138522.284, 143092.742, 142361.871, 145532.716, 129948.842, 146240.661, 140540.181, 139902.225, 146240.238, 149229.87, 139263.038, 151742.661, 151744.464, 153823.061, 148889.738, 153434.384, 149206.731, 141698.752, 137522.783, 131771.178, 127850.158, 137891.54, 136766.254, 132442.335, 139031.343, 142371.421, 142909.734, 140808.309, 135045.893, 133901.541, 128114.036, 143631.352, 142848.975, 145088.849, 144308.367, 138229.245, 134102.157, 140779.740317887, 143240.236, 123240.864860669, 139495.246096568, 142947.842, 144744.744, 144222.703, 124168.229, 123237.253, 143533.549, 143323.287, 143438.42, 143205.754, 129999.253, 144092.234, 146676.313, 150095.392, 150438.865, 147138.481, 138702.856, 145187.179, 152109.033, 154749.064, 143267.957, 156980.586, 156623.501, 155266.92700000003, 159859.34, 155595.354, 152301.439, 159817.66299999997, 153898.161, 145240.834, 148707.93, 147751.816, 136992.795, 135986.759, 137096.355, 141606.03, 141839.21300000005, 140747.545, 141380.32400000002, 135804.138, 136663.183, 136854.207, 122085.72, 135801.626, 136160.691, 139464.37900000004, 139690.412, 139985.838, 138674.77299999996, 136975.71600000001, 138120.15099999998, 118376.782, 133754.00400000002, 131475.537, 134917.288, 133176.963, 130834.735, 124091.144, 128833.08300000001, 135378.53199999998, 132606.881, 135202.97600000002, 118691.828, 137755.039, 140545.50699999998, 136040.213, 140789.45099999997, 141608.045, 126269.92199999998, 147958.28100000002, 142658.421, 142265.344, 140035.119, 146508.925, 148079.58, 134873.615, 153009.203, 146014.55500000002, 147966.398, 149626.856, 152617.859, 156315.607, 140992.93, 134165.98799999998, 138382.43300000002, 143025.99, 147114.49200000003, 151528.46499999997, 151825.384, 146630.277, 150208.62400000004, 143636.537, 137329.19599999997, 135109.151, 130919.363, 140704.013, 138837.194, 148036.395, 140282.06900000002, 144032.033, 141290.38499999998, 131187.33500000002, 142536.731, 133515.313, 144404.61399999994, 147850.968, 146554.08299999998, 149750.883, 143360.70399999997, 136010.181, 140533.165, 142608.133, 140599.314, 142023.945, 124095.76, 135128.124, 140689.179, 139546.44, 144701.46, 153128.595, 140843.98600000003, 156753.921, 155070.21099999998, 154137.664, 161597.41, 160626.859, 161503.746, 157491.519, 161597.981, 163796.77264711255, 164861.82082736382, 168465.29381498814, 171569.7212967465, 160444.2362869736, 160237.136785085, 163599.56766887978, 145230.072, 146403.682, 149646.108, 146634.975, 146837.406, 152889.874, 146393.213, 154271.887, 162123.919, 158660.51, 152080.842, 151345.413, 149532.473, 150040.181, 152284.973, 153355.636, 152806.918, 151644.33499999996, 147515.389, 137837.25500000003, 152884.911, 154158.71, 153834.69014028326, 155211.054569967, 154868.782213481, 145001.341361398, 153362.715, 157232.361, 155503.878, 154889.077, 155876.613, 142008.4354454776, 158757.8899179548, 160482.017, 164740.657, 165061.596, 166840.416, 153206.872, 171055.86, 170078.42835383862, 173588.767, 169515.123, 169140.343, 173067.431, 175015.084, 178733.653, 178769.63, 179443.03718929546, 180536.99961654443, 178834.9791978867, 180132.4572432588, 160223.20357935925, 151692.11567320873, 155533.647, 161688.973, 163804.338, 162329.751, 162567.385, 163288.951, 173008.33266666668, 163659.106, 154763.54, 164400.2487251822, 166220.417, 169951.292, 166523.653, 164532.718, 158725.021, 162551.188, 161074.37, 162855.785, 160231.933, 147475.228, 157003.303, 158069.308, 144030.595, 162803.811, 148307.263, 152141.788, 157202.54, 161919.824, 159682.508, 158799.924, 137149.656, 147467.08, 151229.345, 160688.297, 169707.387, 169508.263, 158850.044, 173361.61, 168711.683, 170667.615, 175414.228, 176813.083, 174867.027, 182285.725, 182315.726, 182783.258, 185556.367, 179987.129, 188580.707, 180019.103, 167159.092, 160674.828, 169461.025, 160886.365, 165035.283, 162412.812, 167853.297, 170097.22, 164209.529, 167330.886, 166916.921, 172506.339, 161933.155, 170580.606, 166476.18, 171994.991, 170453.73, 172975.964, 167533.735, 160815.961, 167304.721, 153166.56, 166029.394, 164878.12, 167861.624, 167980.183, 141988.2406624403, 141153.884, 161643.01, 164861.743, 164793.76, 166562.978, 150431.219, 172205.524, 173349.852, 172260.032, 169990.021, 173439.705, 155633.956, 172894.849, 174933.541, 176178.411, 176132.524, 178995.197, 182469.258, 183383.331, 183871.111, 183116.09, 180930.171, 189122.701, 182867.81, 176561.023, 171936.784, 174765.468, 162850.691, 168194.738, 162368.991, 165964.035, 173090.44, 170401.535, 179866.913, 175433.414, 172572.819, 167304.519, 130330.428, 162716.808, 159729.943, 166965.893, 163879.272, 164728.163, 164132.755, 163678.163, 165505.667, 142869.92, 161965.537, 162958.105, 165218.667, 166775.259, 156225.066, 139290.378, 158031.217, 164726.074, 161937.843, 166125.483, 150271.419, 171486.19, 171175.649, 175001.882, 175749.276, 173183.927, 156638.704, 182604.901, 179798.492, 184924.809, 182860.091, 179060.508, 183815.657, 185540.704, 189594.505, 190063.259, 182450.328, 178852.512, 186155.474, 187427.391, 169580.554, 163867.205, 167314.029, 166526.749, 172895.07, 175969.974, 181237.184, 176548.473, 173189.69, 172633.405, 179488.512, 170423.18, 157802.914, 174597.429, 176627.799, 171071.174, 175627.481, 179175.522, 175916.999, 171177.063, 167473.936, 146547.144, 169529.059, 168976.057, 174432.844, 175190.227, 169752.224, 158591.313, 169182.295, 173639.512, 176663.093, 175510.516, 150293.878, 174259.485, 170690.405, 179969.77, 178825.272, 180394.212, 143449.455, 168610.545, 165909.52, 178079.144, 184730.505, 188078.29, 190755.648, 187591.002, 196346.917, 194122.025, 186337.396, 180651.539, 188778.935, 188915.103, 177666.38, 175355.288, 171883.055, 171691.569, 178503.166, 178213.605, 182226.517, 187280.187, 189719.34679999997, 179975.28462, 187600.102, 187928.264, 178508.845, 183088.525, 183265.867, 181981.822, 177322.672, 177513.926, 170594.752, 154272.928, 175930.067, 159304.382, 175730.074, 177025.454, 175020.125, 171598.983, 172231.389, 157869.57317795325, 158816.49, 163716.680012, 162082.318, 164340.875, 140586.562, 166704.854, 167953.936, 173011.159, 171593.602, 173990.05899999998, 171048.12, 159910.585, 174130.071, 176906.139, 183447.364, 181225.623, 177249.159, 180205.251, 186182.456, 182066.549, 193083.494, 191195.96, 185662.05, 176916.906, 172288.611, 175978.366, 173548.153, 179211.242, 171645.961, 174082.302, 170306.172, 173529.408, 172156.138, 166989.389029851, 169710.68800917602, 163789.086, 176986.643, 176977.137, 172539.206, 168193.949, 170818.165, 176639.566, 177047.354, 172145.678098452, 175828.222529692, 165745.709, 146226.97804091, 170987.068, 171480.885, 149689.067565506, 174388.199, 151620.745, 159677.491, 172300.817, 174296.26234134496, 173532.487, 172535.142, 154576.0, 180790.0, 178257.0, 183517.829, 183000.522, 178599.645, 162811.591, 188269.17654, 182312.393, 189844.0, 182212.205, 189238.479, 164259.031, 196393.864, 199861.991, 203269.439, 199476.648, 200554.6421, 195187.93105088003, 200440.835, 191609.328, 179381.238, 179050.0, 175504.863, 178303.128, 182377.317, 186980.907, 187718.905, 186732.901, 186157.534, 177008.5879816735, 174787.08651999998, 182091.0, 176438.0, 172585.65911999997, 177875.81627, 181586.03488, 184427.33885, 181798.01909267603, 183250.92, 183648.95077999998, 155786.776, 179749.0, 180028.65052487157, 172381.0, 180017.0986433333, 122089.32715460594, 120848.33318499998, 180349.0, 177680.0, 180284.56298439603, 177637.65199732737, 156210.0, 174019.0, 186421.0, 191049.36385384828, 192162.0, 195907.0, 172113.0, 197548.69474477987, 191762.16321726626, 198457.70584052586, 194986.68177622985, 202445.0, 189271.402, 194687.555, 196719.038, 201408.557, 214143.0, 212600.0, 202382.744, 183943.629, 183106.0, 178614.238, 180937.497, 184709.2807591317, 197176.677, 197728.826, 194641.9063828583, 185128.02006791547, 191763.0, 190959.91755137994, 186838.86560959346, 183735.2636169938, 176521.30188142983, 181083.80842645533, 180762.936, 181926.923, 183599.222, 178025.762, 178110.547, 174303.0, 183045.09347819517, 151468.631, 183134.103, 174911.71656963718, 181474.01, 180959.98220267319, 145495.307, 143656.234, 182738.254, 182535.309, 182290.678, 181973.65679925002, 160242.44, 189773.70681175234, 193798.507, 192569.25, 198560.408, 200735.4813077563, 167159.64, 199188.2, 196904.228, 198098.91, 193010.0, 198123.603, 203507.566, 202461.592, 204508.96828426616, 209524.979, 211223.095, 203386.629, 202115.272, 202818.984, 201163.077, 193055.643, 196427.65843207831, 190345.883, 186454.933, 190961.858, 199254.661, 194524.297, 201514.617, 188368.346, 193289.27, 190909.494, 151766.345, 191005.0, 180928.0, 186287.0, 189008.0, 179750.0, 178933.0, 185071.0, 189833.0, 155473.0, 187654.0, 188061.0, 189322.0, 188477.0, 167160.0, 161393.0, 179303.0, 187431.0, 187257.0, 184964.0, 157350.724, 185664.461]}],\n",
       "                        {\"legend\": {\"bgcolor\": \"#F5F6F9\", \"font\": {\"color\": \"#4D5663\"}}, \"paper_bgcolor\": \"#F5F6F9\", \"plot_bgcolor\": \"#F5F6F9\", \"template\": {\"data\": {\"bar\": [{\"error_x\": {\"color\": \"#2a3f5f\"}, \"error_y\": {\"color\": \"#2a3f5f\"}, \"marker\": {\"line\": {\"color\": \"#E5ECF6\", \"width\": 0.5}}, \"type\": \"bar\"}], \"barpolar\": [{\"marker\": {\"line\": {\"color\": \"#E5ECF6\", \"width\": 0.5}}, \"type\": \"barpolar\"}], \"carpet\": [{\"aaxis\": {\"endlinecolor\": \"#2a3f5f\", \"gridcolor\": \"white\", \"linecolor\": \"white\", \"minorgridcolor\": \"white\", \"startlinecolor\": \"#2a3f5f\"}, \"baxis\": {\"endlinecolor\": \"#2a3f5f\", \"gridcolor\": \"white\", \"linecolor\": \"white\", \"minorgridcolor\": \"white\", \"startlinecolor\": \"#2a3f5f\"}, \"type\": \"carpet\"}], \"choropleth\": [{\"colorbar\": {\"outlinewidth\": 0, \"ticks\": \"\"}, \"type\": \"choropleth\"}], \"contour\": [{\"colorbar\": {\"outlinewidth\": 0, \"ticks\": \"\"}, \"colorscale\": [[0.0, \"#0d0887\"], [0.1111111111111111, \"#46039f\"], [0.2222222222222222, \"#7201a8\"], [0.3333333333333333, \"#9c179e\"], [0.4444444444444444, \"#bd3786\"], [0.5555555555555556, \"#d8576b\"], [0.6666666666666666, \"#ed7953\"], [0.7777777777777778, \"#fb9f3a\"], [0.8888888888888888, \"#fdca26\"], [1.0, \"#f0f921\"]], \"type\": \"contour\"}], \"contourcarpet\": [{\"colorbar\": {\"outlinewidth\": 0, \"ticks\": \"\"}, \"type\": \"contourcarpet\"}], \"heatmap\": [{\"colorbar\": {\"outlinewidth\": 0, \"ticks\": \"\"}, \"colorscale\": [[0.0, \"#0d0887\"], [0.1111111111111111, \"#46039f\"], [0.2222222222222222, \"#7201a8\"], [0.3333333333333333, \"#9c179e\"], [0.4444444444444444, \"#bd3786\"], [0.5555555555555556, \"#d8576b\"], [0.6666666666666666, \"#ed7953\"], [0.7777777777777778, \"#fb9f3a\"], [0.8888888888888888, \"#fdca26\"], [1.0, \"#f0f921\"]], \"type\": \"heatmap\"}], \"heatmapgl\": [{\"colorbar\": {\"outlinewidth\": 0, \"ticks\": \"\"}, \"colorscale\": [[0.0, \"#0d0887\"], [0.1111111111111111, \"#46039f\"], [0.2222222222222222, \"#7201a8\"], [0.3333333333333333, \"#9c179e\"], [0.4444444444444444, \"#bd3786\"], [0.5555555555555556, \"#d8576b\"], [0.6666666666666666, \"#ed7953\"], [0.7777777777777778, \"#fb9f3a\"], [0.8888888888888888, \"#fdca26\"], [1.0, \"#f0f921\"]], \"type\": \"heatmapgl\"}], \"histogram\": [{\"marker\": {\"colorbar\": {\"outlinewidth\": 0, \"ticks\": \"\"}}, \"type\": \"histogram\"}], \"histogram2d\": [{\"colorbar\": {\"outlinewidth\": 0, \"ticks\": \"\"}, \"colorscale\": [[0.0, \"#0d0887\"], [0.1111111111111111, \"#46039f\"], [0.2222222222222222, \"#7201a8\"], [0.3333333333333333, \"#9c179e\"], [0.4444444444444444, \"#bd3786\"], [0.5555555555555556, \"#d8576b\"], [0.6666666666666666, \"#ed7953\"], [0.7777777777777778, \"#fb9f3a\"], [0.8888888888888888, \"#fdca26\"], [1.0, \"#f0f921\"]], \"type\": \"histogram2d\"}], \"histogram2dcontour\": [{\"colorbar\": {\"outlinewidth\": 0, \"ticks\": \"\"}, \"colorscale\": [[0.0, \"#0d0887\"], [0.1111111111111111, \"#46039f\"], [0.2222222222222222, \"#7201a8\"], [0.3333333333333333, \"#9c179e\"], [0.4444444444444444, \"#bd3786\"], [0.5555555555555556, \"#d8576b\"], [0.6666666666666666, \"#ed7953\"], [0.7777777777777778, \"#fb9f3a\"], [0.8888888888888888, \"#fdca26\"], [1.0, \"#f0f921\"]], \"type\": \"histogram2dcontour\"}], \"mesh3d\": [{\"colorbar\": {\"outlinewidth\": 0, \"ticks\": \"\"}, \"type\": \"mesh3d\"}], \"parcoords\": [{\"line\": {\"colorbar\": {\"outlinewidth\": 0, \"ticks\": \"\"}}, \"type\": \"parcoords\"}], \"scatter\": [{\"marker\": {\"colorbar\": {\"outlinewidth\": 0, \"ticks\": \"\"}}, \"type\": \"scatter\"}], \"scatter3d\": [{\"line\": {\"colorbar\": {\"outlinewidth\": 0, \"ticks\": \"\"}}, \"marker\": {\"colorbar\": {\"outlinewidth\": 0, \"ticks\": \"\"}}, \"type\": \"scatter3d\"}], \"scattercarpet\": [{\"marker\": {\"colorbar\": {\"outlinewidth\": 0, \"ticks\": \"\"}}, \"type\": \"scattercarpet\"}], \"scattergeo\": [{\"marker\": {\"colorbar\": {\"outlinewidth\": 0, \"ticks\": \"\"}}, \"type\": \"scattergeo\"}], \"scattergl\": [{\"marker\": {\"colorbar\": {\"outlinewidth\": 0, \"ticks\": \"\"}}, \"type\": \"scattergl\"}], \"scattermapbox\": [{\"marker\": {\"colorbar\": {\"outlinewidth\": 0, \"ticks\": \"\"}}, \"type\": \"scattermapbox\"}], \"scatterpolar\": [{\"marker\": {\"colorbar\": {\"outlinewidth\": 0, \"ticks\": \"\"}}, \"type\": \"scatterpolar\"}], \"scatterpolargl\": [{\"marker\": {\"colorbar\": {\"outlinewidth\": 0, \"ticks\": \"\"}}, \"type\": \"scatterpolargl\"}], \"scatterternary\": [{\"marker\": {\"colorbar\": {\"outlinewidth\": 0, \"ticks\": \"\"}}, \"type\": \"scatterternary\"}], \"surface\": [{\"colorbar\": {\"outlinewidth\": 0, \"ticks\": \"\"}, \"colorscale\": [[0.0, \"#0d0887\"], [0.1111111111111111, \"#46039f\"], [0.2222222222222222, \"#7201a8\"], [0.3333333333333333, \"#9c179e\"], [0.4444444444444444, \"#bd3786\"], [0.5555555555555556, \"#d8576b\"], [0.6666666666666666, \"#ed7953\"], [0.7777777777777778, \"#fb9f3a\"], [0.8888888888888888, \"#fdca26\"], [1.0, \"#f0f921\"]], \"type\": \"surface\"}], \"table\": [{\"cells\": {\"fill\": {\"color\": \"#EBF0F8\"}, \"line\": {\"color\": \"white\"}}, \"header\": {\"fill\": {\"color\": \"#C8D4E3\"}, \"line\": {\"color\": \"white\"}}, \"type\": \"table\"}]}, \"layout\": {\"annotationdefaults\": {\"arrowcolor\": \"#2a3f5f\", \"arrowhead\": 0, \"arrowwidth\": 1}, \"colorscale\": {\"diverging\": [[0, \"#8e0152\"], [0.1, \"#c51b7d\"], [0.2, \"#de77ae\"], [0.3, \"#f1b6da\"], [0.4, \"#fde0ef\"], [0.5, \"#f7f7f7\"], [0.6, \"#e6f5d0\"], [0.7, \"#b8e186\"], [0.8, \"#7fbc41\"], [0.9, \"#4d9221\"], [1, \"#276419\"]], \"sequential\": [[0.0, \"#0d0887\"], [0.1111111111111111, \"#46039f\"], [0.2222222222222222, \"#7201a8\"], [0.3333333333333333, \"#9c179e\"], [0.4444444444444444, \"#bd3786\"], [0.5555555555555556, \"#d8576b\"], [0.6666666666666666, \"#ed7953\"], [0.7777777777777778, \"#fb9f3a\"], [0.8888888888888888, \"#fdca26\"], [1.0, \"#f0f921\"]], \"sequentialminus\": [[0.0, \"#0d0887\"], [0.1111111111111111, \"#46039f\"], [0.2222222222222222, \"#7201a8\"], [0.3333333333333333, \"#9c179e\"], [0.4444444444444444, \"#bd3786\"], [0.5555555555555556, \"#d8576b\"], [0.6666666666666666, \"#ed7953\"], [0.7777777777777778, \"#fb9f3a\"], [0.8888888888888888, \"#fdca26\"], [1.0, \"#f0f921\"]]}, \"colorway\": [\"#636efa\", \"#EF553B\", \"#00cc96\", \"#ab63fa\", \"#FFA15A\", \"#19d3f3\", \"#FF6692\", \"#B6E880\", \"#FF97FF\", \"#FECB52\"], \"font\": {\"color\": \"#2a3f5f\"}, \"geo\": {\"bgcolor\": \"white\", \"lakecolor\": \"white\", \"landcolor\": \"#E5ECF6\", \"showlakes\": true, \"showland\": true, \"subunitcolor\": \"white\"}, \"hoverlabel\": {\"align\": \"left\"}, \"hovermode\": \"closest\", \"mapbox\": {\"style\": \"light\"}, \"paper_bgcolor\": \"white\", \"plot_bgcolor\": \"#E5ECF6\", \"polar\": {\"angularaxis\": {\"gridcolor\": \"white\", \"linecolor\": \"white\", \"ticks\": \"\"}, \"bgcolor\": \"#E5ECF6\", \"radialaxis\": {\"gridcolor\": \"white\", \"linecolor\": \"white\", \"ticks\": \"\"}}, \"scene\": {\"xaxis\": {\"backgroundcolor\": \"#E5ECF6\", \"gridcolor\": \"white\", \"gridwidth\": 2, \"linecolor\": \"white\", \"showbackground\": true, \"ticks\": \"\", \"zerolinecolor\": \"white\"}, \"yaxis\": {\"backgroundcolor\": \"#E5ECF6\", \"gridcolor\": \"white\", \"gridwidth\": 2, \"linecolor\": \"white\", \"showbackground\": true, \"ticks\": \"\", \"zerolinecolor\": \"white\"}, \"zaxis\": {\"backgroundcolor\": \"#E5ECF6\", \"gridcolor\": \"white\", \"gridwidth\": 2, \"linecolor\": \"white\", \"showbackground\": true, \"ticks\": \"\", \"zerolinecolor\": \"white\"}}, \"shapedefaults\": {\"line\": {\"color\": \"#2a3f5f\"}}, \"ternary\": {\"aaxis\": {\"gridcolor\": \"white\", \"linecolor\": \"white\", \"ticks\": \"\"}, \"baxis\": {\"gridcolor\": \"white\", \"linecolor\": \"white\", \"ticks\": \"\"}, \"bgcolor\": \"#E5ECF6\", \"caxis\": {\"gridcolor\": \"white\", \"linecolor\": \"white\", \"ticks\": \"\"}}, \"title\": {\"x\": 0.05}, \"xaxis\": {\"automargin\": true, \"gridcolor\": \"white\", \"linecolor\": \"white\", \"ticks\": \"\", \"zerolinecolor\": \"white\", \"zerolinewidth\": 2}, \"yaxis\": {\"automargin\": true, \"gridcolor\": \"white\", \"linecolor\": \"white\", \"ticks\": \"\", \"zerolinecolor\": \"white\", \"zerolinewidth\": 2}}}, \"title\": {\"font\": {\"color\": \"#4D5663\"}, \"text\": \"2.163632748444067\"}, \"xaxis\": {\"gridcolor\": \"#E1E5ED\", \"showgrid\": true, \"tickfont\": {\"color\": \"#4D5663\"}, \"title\": {\"font\": {\"color\": \"#4D5663\"}, \"text\": \"\"}, \"zerolinecolor\": \"#E1E5ED\"}, \"yaxis\": {\"gridcolor\": \"#E1E5ED\", \"showgrid\": true, \"tickfont\": {\"color\": \"#4D5663\"}, \"title\": {\"font\": {\"color\": \"#4D5663\"}, \"text\": \"\"}, \"zerolinecolor\": \"#E1E5ED\"}},\n",
       "                        {\"showLink\": true, \"linkText\": \"Export to plot.ly\", \"plotlyServerURL\": \"https://plot.ly\", \"responsive\": true}\n",
       "                    ).then(function(){\n",
       "                            \n",
       "var gd = document.getElementById('661cea14-610f-4f57-bf81-7740b07d3fba');\n",
       "var x = new MutationObserver(function (mutations, observer) {{\n",
       "        var display = window.getComputedStyle(gd).display;\n",
       "        if (!display || display === 'none') {{\n",
       "            console.log([gd, 'removed!']);\n",
       "            Plotly.purge(gd);\n",
       "            observer.disconnect();\n",
       "        }}\n",
       "}});\n",
       "\n",
       "// Listen for the removal of the full notebook cells\n",
       "var notebookContainer = gd.closest('#notebook-container');\n",
       "if (notebookContainer) {{\n",
       "    x.observe(notebookContainer, {childList: true});\n",
       "}}\n",
       "\n",
       "// Listen for the clearing of the current output cell\n",
       "var outputEl = gd.closest('.output');\n",
       "if (outputEl) {{\n",
       "    x.observe(outputEl, {childList: true});\n",
       "}}\n",
       "\n",
       "                        })\n",
       "                };\n",
       "                });\n",
       "            </script>\n",
       "        </div>"
      ]
     },
     "metadata": {},
     "output_type": "display_data"
    }
   ],
   "source": [
    "bob = reg2(0, 7, \"general\")\n",
    "bob[[\"predict\", \"real\"]].iplot(title = bob.error.mean())"
   ]
  },
  {
   "cell_type": "markdown",
   "metadata": {
    "colab_type": "text",
    "id": "zRjD5OEqZKCy"
   },
   "source": [
    "# Kronecker Sencos-dummies"
   ]
  },
  {
   "cell_type": "code",
   "execution_count": 292,
   "metadata": {
    "ExecuteTime": {
     "end_time": "2020-04-28T05:27:53.094020Z",
     "start_time": "2020-04-28T05:27:53.076068Z"
    },
    "colab": {},
    "colab_type": "code",
    "id": "K0-7YPt5ZKC7"
   },
   "outputs": [],
   "source": [
    "def kron(dia, n):\n",
    "    # Se llama a X y a Y\n",
    "    X = dummies(dia, n) \n",
    "    # Se crea dataframe de fourier\n",
    "    sencos = pd.DataFrame()\n",
    "    t = np.arange(1,len(consumo[consumo.index.weekday == dia])+1)\n",
    "    sencos[\"t\"]=t\n",
    "    \n",
    "    # Mando llamar la funcion de armonicos\n",
    "    p = perio(dia, n)[2:3]\n",
    "    \n",
    "    # fourier\n",
    "    for i  in  p.periodo:\n",
    "            sencos[\"{}_sen\".format(i)] = np.abs(np.sin(((2*np.pi)/(i))*t))\n",
    "            sencos[\"{}_cos\".format(i)] = np.abs(np.cos(((2*np.pi)/(i))*t))\n",
    "    sencos['ones']=1\n",
    "    sencos['sen']=np.abs(np.sin(((2*np.pi)/14)*t))\n",
    "    sencos['cos']=np.abs(np.cos(((2*np.pi)/14)*t))\n",
    "    sencos['sen1']=np.abs(np.sin(((2*np.pi)/(365.25))*t))\n",
    "    sencos['cos1']=np.abs(np.cos(((2*np.pi)/(365.25))*t))\n",
    "    sencos['sen2']=np.abs(np.sin(((2*np.pi)/(28))*t))\n",
    "    sencos['cos2']=np.abs(np.cos(((2*np.pi)/(28))*t))\n",
    "    sencos.index =consumo[consumo.index.weekday == dia].index\n",
    "    \n",
    "    # Kronecker\n",
    "    combination=kronecker(X, sencos)\n",
    "    return combination"
   ]
  },
  {
   "cell_type": "markdown",
   "metadata": {
    "colab_type": "text",
    "id": "tt_KVYnPZKC-"
   },
   "source": [
    "# Segunda regresion"
   ]
  },
  {
   "cell_type": "code",
   "execution_count": 293,
   "metadata": {
    "ExecuteTime": {
     "end_time": "2020-04-28T05:27:57.399791Z",
     "start_time": "2020-04-28T05:27:57.390812Z"
    },
    "colab": {},
    "colab_type": "code",
    "id": "TP_sAflPZKC_"
   },
   "outputs": [],
   "source": [
    "def reg2(dia, n, pre_forc): # n = 7 , pre_for = \"general\" o \"forcasting\"\n",
    "    # Se llama a X y a Y\n",
    "    X = kron(dia, n); y = consumo[consumo.index.weekday == dia]\n",
    "    \n",
    "    # split\n",
    "    Xo, yo = separar(n, X, y) \n",
    "    \n",
    "    # Decision \"general\" \"forcasting\"\n",
    "    if pre_forc == \"general\": pre_forc = 0\n",
    "    elif pre_forc == \"forcasting\": pre_forc = 1\n",
    "    else: print(f\"expected `general` or `forcasting`, got {pre_forc} instead\")\n",
    "        \n",
    "    # regresion y predeccion    \n",
    "    reg = LinearRegression(n_jobs =-1).fit(Xo[0], yo[0])\n",
    "#     reg = Lasso(normalize = True, max_iter = 10000).fit(Xo[0], yo[0])\n",
    "\n",
    "\n",
    "    y_predict=reg.predict(Xo[pre_forc])\n",
    "    \n",
    "    # dataframe real-predict- resta\n",
    "    comp = pd.DataFrame(y_predict, columns = [\"predict\"],index = yo[pre_forc].index)\n",
    "    comp[\"real\"] = yo[pre_forc]; comp[\"resta\"] = comp.real - comp.predict\n",
    "    return comp"
   ]
  },
  {
   "cell_type": "code",
   "execution_count": 299,
   "metadata": {
    "ExecuteTime": {
     "end_time": "2020-04-28T05:28:28.382208Z",
     "start_time": "2020-04-28T05:28:26.434367Z"
    }
   },
   "outputs": [
    {
     "data": {
      "text/plain": [
       "47.01718788677745"
      ]
     },
     "execution_count": 299,
     "metadata": {},
     "output_type": "execute_result"
    }
   ],
   "source": [
    "bay = reg2(2, 1, \"forcasting\")\n",
    "Mape(bay.real, bay.predict)"
   ]
  },
  {
   "cell_type": "code",
   "execution_count": 300,
   "metadata": {
    "ExecuteTime": {
     "end_time": "2020-04-28T05:28:28.870185Z",
     "start_time": "2020-04-28T05:28:28.384203Z"
    }
   },
   "outputs": [
    {
     "data": {
      "application/vnd.plotly.v1+json": {
       "config": {
        "linkText": "Export to plot.ly",
        "plotlyServerURL": "https://plot.ly",
        "showLink": true
       },
       "data": [
        {
         "line": {
          "color": "rgba(255, 153, 51, 1.0)",
          "dash": "solid",
          "shape": "linear",
          "width": 1.3
         },
         "mode": "lines",
         "name": "real",
         "text": "",
         "type": "scatter",
         "x": [
          "2020-03-25"
         ],
         "y": [
          207132.60167331056
         ]
        },
        {
         "line": {
          "color": "rgba(55, 128, 191, 1.0)",
          "dash": "solid",
          "shape": "linear",
          "width": 1.3
         },
         "mode": "lines",
         "name": "predict",
         "text": "",
         "type": "scatter",
         "x": [
          "2020-03-25"
         ],
         "y": [
          109744.6771697998
         ]
        }
       ],
       "layout": {
        "legend": {
         "bgcolor": "#F5F6F9",
         "font": {
          "color": "#4D5663"
         }
        },
        "paper_bgcolor": "#F5F6F9",
        "plot_bgcolor": "#F5F6F9",
        "template": {
         "data": {
          "bar": [
           {
            "error_x": {
             "color": "#2a3f5f"
            },
            "error_y": {
             "color": "#2a3f5f"
            },
            "marker": {
             "line": {
              "color": "#E5ECF6",
              "width": 0.5
             }
            },
            "type": "bar"
           }
          ],
          "barpolar": [
           {
            "marker": {
             "line": {
              "color": "#E5ECF6",
              "width": 0.5
             }
            },
            "type": "barpolar"
           }
          ],
          "carpet": [
           {
            "aaxis": {
             "endlinecolor": "#2a3f5f",
             "gridcolor": "white",
             "linecolor": "white",
             "minorgridcolor": "white",
             "startlinecolor": "#2a3f5f"
            },
            "baxis": {
             "endlinecolor": "#2a3f5f",
             "gridcolor": "white",
             "linecolor": "white",
             "minorgridcolor": "white",
             "startlinecolor": "#2a3f5f"
            },
            "type": "carpet"
           }
          ],
          "choropleth": [
           {
            "colorbar": {
             "outlinewidth": 0,
             "ticks": ""
            },
            "type": "choropleth"
           }
          ],
          "contour": [
           {
            "colorbar": {
             "outlinewidth": 0,
             "ticks": ""
            },
            "colorscale": [
             [
              0,
              "#0d0887"
             ],
             [
              0.1111111111111111,
              "#46039f"
             ],
             [
              0.2222222222222222,
              "#7201a8"
             ],
             [
              0.3333333333333333,
              "#9c179e"
             ],
             [
              0.4444444444444444,
              "#bd3786"
             ],
             [
              0.5555555555555556,
              "#d8576b"
             ],
             [
              0.6666666666666666,
              "#ed7953"
             ],
             [
              0.7777777777777778,
              "#fb9f3a"
             ],
             [
              0.8888888888888888,
              "#fdca26"
             ],
             [
              1,
              "#f0f921"
             ]
            ],
            "type": "contour"
           }
          ],
          "contourcarpet": [
           {
            "colorbar": {
             "outlinewidth": 0,
             "ticks": ""
            },
            "type": "contourcarpet"
           }
          ],
          "heatmap": [
           {
            "colorbar": {
             "outlinewidth": 0,
             "ticks": ""
            },
            "colorscale": [
             [
              0,
              "#0d0887"
             ],
             [
              0.1111111111111111,
              "#46039f"
             ],
             [
              0.2222222222222222,
              "#7201a8"
             ],
             [
              0.3333333333333333,
              "#9c179e"
             ],
             [
              0.4444444444444444,
              "#bd3786"
             ],
             [
              0.5555555555555556,
              "#d8576b"
             ],
             [
              0.6666666666666666,
              "#ed7953"
             ],
             [
              0.7777777777777778,
              "#fb9f3a"
             ],
             [
              0.8888888888888888,
              "#fdca26"
             ],
             [
              1,
              "#f0f921"
             ]
            ],
            "type": "heatmap"
           }
          ],
          "heatmapgl": [
           {
            "colorbar": {
             "outlinewidth": 0,
             "ticks": ""
            },
            "colorscale": [
             [
              0,
              "#0d0887"
             ],
             [
              0.1111111111111111,
              "#46039f"
             ],
             [
              0.2222222222222222,
              "#7201a8"
             ],
             [
              0.3333333333333333,
              "#9c179e"
             ],
             [
              0.4444444444444444,
              "#bd3786"
             ],
             [
              0.5555555555555556,
              "#d8576b"
             ],
             [
              0.6666666666666666,
              "#ed7953"
             ],
             [
              0.7777777777777778,
              "#fb9f3a"
             ],
             [
              0.8888888888888888,
              "#fdca26"
             ],
             [
              1,
              "#f0f921"
             ]
            ],
            "type": "heatmapgl"
           }
          ],
          "histogram": [
           {
            "marker": {
             "colorbar": {
              "outlinewidth": 0,
              "ticks": ""
             }
            },
            "type": "histogram"
           }
          ],
          "histogram2d": [
           {
            "colorbar": {
             "outlinewidth": 0,
             "ticks": ""
            },
            "colorscale": [
             [
              0,
              "#0d0887"
             ],
             [
              0.1111111111111111,
              "#46039f"
             ],
             [
              0.2222222222222222,
              "#7201a8"
             ],
             [
              0.3333333333333333,
              "#9c179e"
             ],
             [
              0.4444444444444444,
              "#bd3786"
             ],
             [
              0.5555555555555556,
              "#d8576b"
             ],
             [
              0.6666666666666666,
              "#ed7953"
             ],
             [
              0.7777777777777778,
              "#fb9f3a"
             ],
             [
              0.8888888888888888,
              "#fdca26"
             ],
             [
              1,
              "#f0f921"
             ]
            ],
            "type": "histogram2d"
           }
          ],
          "histogram2dcontour": [
           {
            "colorbar": {
             "outlinewidth": 0,
             "ticks": ""
            },
            "colorscale": [
             [
              0,
              "#0d0887"
             ],
             [
              0.1111111111111111,
              "#46039f"
             ],
             [
              0.2222222222222222,
              "#7201a8"
             ],
             [
              0.3333333333333333,
              "#9c179e"
             ],
             [
              0.4444444444444444,
              "#bd3786"
             ],
             [
              0.5555555555555556,
              "#d8576b"
             ],
             [
              0.6666666666666666,
              "#ed7953"
             ],
             [
              0.7777777777777778,
              "#fb9f3a"
             ],
             [
              0.8888888888888888,
              "#fdca26"
             ],
             [
              1,
              "#f0f921"
             ]
            ],
            "type": "histogram2dcontour"
           }
          ],
          "mesh3d": [
           {
            "colorbar": {
             "outlinewidth": 0,
             "ticks": ""
            },
            "type": "mesh3d"
           }
          ],
          "parcoords": [
           {
            "line": {
             "colorbar": {
              "outlinewidth": 0,
              "ticks": ""
             }
            },
            "type": "parcoords"
           }
          ],
          "scatter": [
           {
            "marker": {
             "colorbar": {
              "outlinewidth": 0,
              "ticks": ""
             }
            },
            "type": "scatter"
           }
          ],
          "scatter3d": [
           {
            "line": {
             "colorbar": {
              "outlinewidth": 0,
              "ticks": ""
             }
            },
            "marker": {
             "colorbar": {
              "outlinewidth": 0,
              "ticks": ""
             }
            },
            "type": "scatter3d"
           }
          ],
          "scattercarpet": [
           {
            "marker": {
             "colorbar": {
              "outlinewidth": 0,
              "ticks": ""
             }
            },
            "type": "scattercarpet"
           }
          ],
          "scattergeo": [
           {
            "marker": {
             "colorbar": {
              "outlinewidth": 0,
              "ticks": ""
             }
            },
            "type": "scattergeo"
           }
          ],
          "scattergl": [
           {
            "marker": {
             "colorbar": {
              "outlinewidth": 0,
              "ticks": ""
             }
            },
            "type": "scattergl"
           }
          ],
          "scattermapbox": [
           {
            "marker": {
             "colorbar": {
              "outlinewidth": 0,
              "ticks": ""
             }
            },
            "type": "scattermapbox"
           }
          ],
          "scatterpolar": [
           {
            "marker": {
             "colorbar": {
              "outlinewidth": 0,
              "ticks": ""
             }
            },
            "type": "scatterpolar"
           }
          ],
          "scatterpolargl": [
           {
            "marker": {
             "colorbar": {
              "outlinewidth": 0,
              "ticks": ""
             }
            },
            "type": "scatterpolargl"
           }
          ],
          "scatterternary": [
           {
            "marker": {
             "colorbar": {
              "outlinewidth": 0,
              "ticks": ""
             }
            },
            "type": "scatterternary"
           }
          ],
          "surface": [
           {
            "colorbar": {
             "outlinewidth": 0,
             "ticks": ""
            },
            "colorscale": [
             [
              0,
              "#0d0887"
             ],
             [
              0.1111111111111111,
              "#46039f"
             ],
             [
              0.2222222222222222,
              "#7201a8"
             ],
             [
              0.3333333333333333,
              "#9c179e"
             ],
             [
              0.4444444444444444,
              "#bd3786"
             ],
             [
              0.5555555555555556,
              "#d8576b"
             ],
             [
              0.6666666666666666,
              "#ed7953"
             ],
             [
              0.7777777777777778,
              "#fb9f3a"
             ],
             [
              0.8888888888888888,
              "#fdca26"
             ],
             [
              1,
              "#f0f921"
             ]
            ],
            "type": "surface"
           }
          ],
          "table": [
           {
            "cells": {
             "fill": {
              "color": "#EBF0F8"
             },
             "line": {
              "color": "white"
             }
            },
            "header": {
             "fill": {
              "color": "#C8D4E3"
             },
             "line": {
              "color": "white"
             }
            },
            "type": "table"
           }
          ]
         },
         "layout": {
          "annotationdefaults": {
           "arrowcolor": "#2a3f5f",
           "arrowhead": 0,
           "arrowwidth": 1
          },
          "colorscale": {
           "diverging": [
            [
             0,
             "#8e0152"
            ],
            [
             0.1,
             "#c51b7d"
            ],
            [
             0.2,
             "#de77ae"
            ],
            [
             0.3,
             "#f1b6da"
            ],
            [
             0.4,
             "#fde0ef"
            ],
            [
             0.5,
             "#f7f7f7"
            ],
            [
             0.6,
             "#e6f5d0"
            ],
            [
             0.7,
             "#b8e186"
            ],
            [
             0.8,
             "#7fbc41"
            ],
            [
             0.9,
             "#4d9221"
            ],
            [
             1,
             "#276419"
            ]
           ],
           "sequential": [
            [
             0,
             "#0d0887"
            ],
            [
             0.1111111111111111,
             "#46039f"
            ],
            [
             0.2222222222222222,
             "#7201a8"
            ],
            [
             0.3333333333333333,
             "#9c179e"
            ],
            [
             0.4444444444444444,
             "#bd3786"
            ],
            [
             0.5555555555555556,
             "#d8576b"
            ],
            [
             0.6666666666666666,
             "#ed7953"
            ],
            [
             0.7777777777777778,
             "#fb9f3a"
            ],
            [
             0.8888888888888888,
             "#fdca26"
            ],
            [
             1,
             "#f0f921"
            ]
           ],
           "sequentialminus": [
            [
             0,
             "#0d0887"
            ],
            [
             0.1111111111111111,
             "#46039f"
            ],
            [
             0.2222222222222222,
             "#7201a8"
            ],
            [
             0.3333333333333333,
             "#9c179e"
            ],
            [
             0.4444444444444444,
             "#bd3786"
            ],
            [
             0.5555555555555556,
             "#d8576b"
            ],
            [
             0.6666666666666666,
             "#ed7953"
            ],
            [
             0.7777777777777778,
             "#fb9f3a"
            ],
            [
             0.8888888888888888,
             "#fdca26"
            ],
            [
             1,
             "#f0f921"
            ]
           ]
          },
          "colorway": [
           "#636efa",
           "#EF553B",
           "#00cc96",
           "#ab63fa",
           "#FFA15A",
           "#19d3f3",
           "#FF6692",
           "#B6E880",
           "#FF97FF",
           "#FECB52"
          ],
          "font": {
           "color": "#2a3f5f"
          },
          "geo": {
           "bgcolor": "white",
           "lakecolor": "white",
           "landcolor": "#E5ECF6",
           "showlakes": true,
           "showland": true,
           "subunitcolor": "white"
          },
          "hoverlabel": {
           "align": "left"
          },
          "hovermode": "closest",
          "mapbox": {
           "style": "light"
          },
          "paper_bgcolor": "white",
          "plot_bgcolor": "#E5ECF6",
          "polar": {
           "angularaxis": {
            "gridcolor": "white",
            "linecolor": "white",
            "ticks": ""
           },
           "bgcolor": "#E5ECF6",
           "radialaxis": {
            "gridcolor": "white",
            "linecolor": "white",
            "ticks": ""
           }
          },
          "scene": {
           "xaxis": {
            "backgroundcolor": "#E5ECF6",
            "gridcolor": "white",
            "gridwidth": 2,
            "linecolor": "white",
            "showbackground": true,
            "ticks": "",
            "zerolinecolor": "white"
           },
           "yaxis": {
            "backgroundcolor": "#E5ECF6",
            "gridcolor": "white",
            "gridwidth": 2,
            "linecolor": "white",
            "showbackground": true,
            "ticks": "",
            "zerolinecolor": "white"
           },
           "zaxis": {
            "backgroundcolor": "#E5ECF6",
            "gridcolor": "white",
            "gridwidth": 2,
            "linecolor": "white",
            "showbackground": true,
            "ticks": "",
            "zerolinecolor": "white"
           }
          },
          "shapedefaults": {
           "line": {
            "color": "#2a3f5f"
           }
          },
          "ternary": {
           "aaxis": {
            "gridcolor": "white",
            "linecolor": "white",
            "ticks": ""
           },
           "baxis": {
            "gridcolor": "white",
            "linecolor": "white",
            "ticks": ""
           },
           "bgcolor": "#E5ECF6",
           "caxis": {
            "gridcolor": "white",
            "linecolor": "white",
            "ticks": ""
           }
          },
          "title": {
           "x": 0.05
          },
          "xaxis": {
           "automargin": true,
           "gridcolor": "white",
           "linecolor": "white",
           "ticks": "",
           "zerolinecolor": "white",
           "zerolinewidth": 2
          },
          "yaxis": {
           "automargin": true,
           "gridcolor": "white",
           "linecolor": "white",
           "ticks": "",
           "zerolinecolor": "white",
           "zerolinewidth": 2
          }
         }
        },
        "title": {
         "font": {
          "color": "#4D5663"
         }
        },
        "xaxis": {
         "gridcolor": "#E1E5ED",
         "showgrid": true,
         "tickfont": {
          "color": "#4D5663"
         },
         "title": {
          "font": {
           "color": "#4D5663"
          },
          "text": ""
         },
         "zerolinecolor": "#E1E5ED"
        },
        "yaxis": {
         "gridcolor": "#E1E5ED",
         "showgrid": true,
         "tickfont": {
          "color": "#4D5663"
         },
         "title": {
          "font": {
           "color": "#4D5663"
          },
          "text": ""
         },
         "zerolinecolor": "#E1E5ED"
        }
       }
      },
      "text/html": [
       "<div>\n",
       "        \n",
       "        \n",
       "            <div id=\"0093fcf9-c8f4-456e-96b5-6f278a2998e7\" class=\"plotly-graph-div\" style=\"height:525px; width:100%;\"></div>\n",
       "            <script type=\"text/javascript\">\n",
       "                require([\"plotly\"], function(Plotly) {\n",
       "                    window.PLOTLYENV=window.PLOTLYENV || {};\n",
       "                    window.PLOTLYENV.BASE_URL='https://plot.ly';\n",
       "                    \n",
       "                if (document.getElementById(\"0093fcf9-c8f4-456e-96b5-6f278a2998e7\")) {\n",
       "                    Plotly.newPlot(\n",
       "                        '0093fcf9-c8f4-456e-96b5-6f278a2998e7',\n",
       "                        [{\"line\": {\"color\": \"rgba(255, 153, 51, 1.0)\", \"dash\": \"solid\", \"shape\": \"linear\", \"width\": 1.3}, \"mode\": \"lines\", \"name\": \"real\", \"text\": \"\", \"type\": \"scatter\", \"x\": [\"2020-03-25\"], \"y\": [207132.60167331056]}, {\"line\": {\"color\": \"rgba(55, 128, 191, 1.0)\", \"dash\": \"solid\", \"shape\": \"linear\", \"width\": 1.3}, \"mode\": \"lines\", \"name\": \"predict\", \"text\": \"\", \"type\": \"scatter\", \"x\": [\"2020-03-25\"], \"y\": [109744.6771697998]}],\n",
       "                        {\"legend\": {\"bgcolor\": \"#F5F6F9\", \"font\": {\"color\": \"#4D5663\"}}, \"paper_bgcolor\": \"#F5F6F9\", \"plot_bgcolor\": \"#F5F6F9\", \"template\": {\"data\": {\"bar\": [{\"error_x\": {\"color\": \"#2a3f5f\"}, \"error_y\": {\"color\": \"#2a3f5f\"}, \"marker\": {\"line\": {\"color\": \"#E5ECF6\", \"width\": 0.5}}, \"type\": \"bar\"}], \"barpolar\": [{\"marker\": {\"line\": {\"color\": \"#E5ECF6\", \"width\": 0.5}}, \"type\": \"barpolar\"}], \"carpet\": [{\"aaxis\": {\"endlinecolor\": \"#2a3f5f\", \"gridcolor\": \"white\", \"linecolor\": \"white\", \"minorgridcolor\": \"white\", \"startlinecolor\": \"#2a3f5f\"}, \"baxis\": {\"endlinecolor\": \"#2a3f5f\", \"gridcolor\": \"white\", \"linecolor\": \"white\", \"minorgridcolor\": \"white\", \"startlinecolor\": \"#2a3f5f\"}, \"type\": \"carpet\"}], \"choropleth\": [{\"colorbar\": {\"outlinewidth\": 0, \"ticks\": \"\"}, \"type\": \"choropleth\"}], \"contour\": [{\"colorbar\": {\"outlinewidth\": 0, \"ticks\": \"\"}, \"colorscale\": [[0.0, \"#0d0887\"], [0.1111111111111111, \"#46039f\"], [0.2222222222222222, \"#7201a8\"], [0.3333333333333333, \"#9c179e\"], [0.4444444444444444, \"#bd3786\"], [0.5555555555555556, \"#d8576b\"], [0.6666666666666666, \"#ed7953\"], [0.7777777777777778, \"#fb9f3a\"], [0.8888888888888888, \"#fdca26\"], [1.0, \"#f0f921\"]], \"type\": \"contour\"}], \"contourcarpet\": [{\"colorbar\": {\"outlinewidth\": 0, \"ticks\": \"\"}, \"type\": \"contourcarpet\"}], \"heatmap\": [{\"colorbar\": {\"outlinewidth\": 0, \"ticks\": \"\"}, \"colorscale\": [[0.0, \"#0d0887\"], [0.1111111111111111, \"#46039f\"], [0.2222222222222222, \"#7201a8\"], [0.3333333333333333, \"#9c179e\"], [0.4444444444444444, \"#bd3786\"], [0.5555555555555556, \"#d8576b\"], [0.6666666666666666, \"#ed7953\"], [0.7777777777777778, \"#fb9f3a\"], [0.8888888888888888, \"#fdca26\"], [1.0, \"#f0f921\"]], \"type\": \"heatmap\"}], \"heatmapgl\": [{\"colorbar\": {\"outlinewidth\": 0, \"ticks\": \"\"}, \"colorscale\": [[0.0, \"#0d0887\"], [0.1111111111111111, \"#46039f\"], [0.2222222222222222, \"#7201a8\"], [0.3333333333333333, \"#9c179e\"], [0.4444444444444444, \"#bd3786\"], [0.5555555555555556, \"#d8576b\"], [0.6666666666666666, \"#ed7953\"], [0.7777777777777778, \"#fb9f3a\"], [0.8888888888888888, \"#fdca26\"], [1.0, \"#f0f921\"]], \"type\": \"heatmapgl\"}], \"histogram\": [{\"marker\": {\"colorbar\": {\"outlinewidth\": 0, \"ticks\": \"\"}}, \"type\": \"histogram\"}], \"histogram2d\": [{\"colorbar\": {\"outlinewidth\": 0, \"ticks\": \"\"}, \"colorscale\": [[0.0, \"#0d0887\"], [0.1111111111111111, \"#46039f\"], [0.2222222222222222, \"#7201a8\"], [0.3333333333333333, \"#9c179e\"], [0.4444444444444444, \"#bd3786\"], [0.5555555555555556, \"#d8576b\"], [0.6666666666666666, \"#ed7953\"], [0.7777777777777778, \"#fb9f3a\"], [0.8888888888888888, \"#fdca26\"], [1.0, \"#f0f921\"]], \"type\": \"histogram2d\"}], \"histogram2dcontour\": [{\"colorbar\": {\"outlinewidth\": 0, \"ticks\": \"\"}, \"colorscale\": [[0.0, \"#0d0887\"], [0.1111111111111111, \"#46039f\"], [0.2222222222222222, \"#7201a8\"], [0.3333333333333333, \"#9c179e\"], [0.4444444444444444, \"#bd3786\"], [0.5555555555555556, \"#d8576b\"], [0.6666666666666666, \"#ed7953\"], [0.7777777777777778, \"#fb9f3a\"], [0.8888888888888888, \"#fdca26\"], [1.0, \"#f0f921\"]], \"type\": \"histogram2dcontour\"}], \"mesh3d\": [{\"colorbar\": {\"outlinewidth\": 0, \"ticks\": \"\"}, \"type\": \"mesh3d\"}], \"parcoords\": [{\"line\": {\"colorbar\": {\"outlinewidth\": 0, \"ticks\": \"\"}}, \"type\": \"parcoords\"}], \"scatter\": [{\"marker\": {\"colorbar\": {\"outlinewidth\": 0, \"ticks\": \"\"}}, \"type\": \"scatter\"}], \"scatter3d\": [{\"line\": {\"colorbar\": {\"outlinewidth\": 0, \"ticks\": \"\"}}, \"marker\": {\"colorbar\": {\"outlinewidth\": 0, \"ticks\": \"\"}}, \"type\": \"scatter3d\"}], \"scattercarpet\": [{\"marker\": {\"colorbar\": {\"outlinewidth\": 0, \"ticks\": \"\"}}, \"type\": \"scattercarpet\"}], \"scattergeo\": [{\"marker\": {\"colorbar\": {\"outlinewidth\": 0, \"ticks\": \"\"}}, \"type\": \"scattergeo\"}], \"scattergl\": [{\"marker\": {\"colorbar\": {\"outlinewidth\": 0, \"ticks\": \"\"}}, \"type\": \"scattergl\"}], \"scattermapbox\": [{\"marker\": {\"colorbar\": {\"outlinewidth\": 0, \"ticks\": \"\"}}, \"type\": \"scattermapbox\"}], \"scatterpolar\": [{\"marker\": {\"colorbar\": {\"outlinewidth\": 0, \"ticks\": \"\"}}, \"type\": \"scatterpolar\"}], \"scatterpolargl\": [{\"marker\": {\"colorbar\": {\"outlinewidth\": 0, \"ticks\": \"\"}}, \"type\": \"scatterpolargl\"}], \"scatterternary\": [{\"marker\": {\"colorbar\": {\"outlinewidth\": 0, \"ticks\": \"\"}}, \"type\": \"scatterternary\"}], \"surface\": [{\"colorbar\": {\"outlinewidth\": 0, \"ticks\": \"\"}, \"colorscale\": [[0.0, \"#0d0887\"], [0.1111111111111111, \"#46039f\"], [0.2222222222222222, \"#7201a8\"], [0.3333333333333333, \"#9c179e\"], [0.4444444444444444, \"#bd3786\"], [0.5555555555555556, \"#d8576b\"], [0.6666666666666666, \"#ed7953\"], [0.7777777777777778, \"#fb9f3a\"], [0.8888888888888888, \"#fdca26\"], [1.0, \"#f0f921\"]], \"type\": \"surface\"}], \"table\": [{\"cells\": {\"fill\": {\"color\": \"#EBF0F8\"}, \"line\": {\"color\": \"white\"}}, \"header\": {\"fill\": {\"color\": \"#C8D4E3\"}, \"line\": {\"color\": \"white\"}}, \"type\": \"table\"}]}, \"layout\": {\"annotationdefaults\": {\"arrowcolor\": \"#2a3f5f\", \"arrowhead\": 0, \"arrowwidth\": 1}, \"colorscale\": {\"diverging\": [[0, \"#8e0152\"], [0.1, \"#c51b7d\"], [0.2, \"#de77ae\"], [0.3, \"#f1b6da\"], [0.4, \"#fde0ef\"], [0.5, \"#f7f7f7\"], [0.6, \"#e6f5d0\"], [0.7, \"#b8e186\"], [0.8, \"#7fbc41\"], [0.9, \"#4d9221\"], [1, \"#276419\"]], \"sequential\": [[0.0, \"#0d0887\"], [0.1111111111111111, \"#46039f\"], [0.2222222222222222, \"#7201a8\"], [0.3333333333333333, \"#9c179e\"], [0.4444444444444444, \"#bd3786\"], [0.5555555555555556, \"#d8576b\"], [0.6666666666666666, \"#ed7953\"], [0.7777777777777778, \"#fb9f3a\"], [0.8888888888888888, \"#fdca26\"], [1.0, \"#f0f921\"]], \"sequentialminus\": [[0.0, \"#0d0887\"], [0.1111111111111111, \"#46039f\"], [0.2222222222222222, \"#7201a8\"], [0.3333333333333333, \"#9c179e\"], [0.4444444444444444, \"#bd3786\"], [0.5555555555555556, \"#d8576b\"], [0.6666666666666666, \"#ed7953\"], [0.7777777777777778, \"#fb9f3a\"], [0.8888888888888888, \"#fdca26\"], [1.0, \"#f0f921\"]]}, \"colorway\": [\"#636efa\", \"#EF553B\", \"#00cc96\", \"#ab63fa\", \"#FFA15A\", \"#19d3f3\", \"#FF6692\", \"#B6E880\", \"#FF97FF\", \"#FECB52\"], \"font\": {\"color\": \"#2a3f5f\"}, \"geo\": {\"bgcolor\": \"white\", \"lakecolor\": \"white\", \"landcolor\": \"#E5ECF6\", \"showlakes\": true, \"showland\": true, \"subunitcolor\": \"white\"}, \"hoverlabel\": {\"align\": \"left\"}, \"hovermode\": \"closest\", \"mapbox\": {\"style\": \"light\"}, \"paper_bgcolor\": \"white\", \"plot_bgcolor\": \"#E5ECF6\", \"polar\": {\"angularaxis\": {\"gridcolor\": \"white\", \"linecolor\": \"white\", \"ticks\": \"\"}, \"bgcolor\": \"#E5ECF6\", \"radialaxis\": {\"gridcolor\": \"white\", \"linecolor\": \"white\", \"ticks\": \"\"}}, \"scene\": {\"xaxis\": {\"backgroundcolor\": \"#E5ECF6\", \"gridcolor\": \"white\", \"gridwidth\": 2, \"linecolor\": \"white\", \"showbackground\": true, \"ticks\": \"\", \"zerolinecolor\": \"white\"}, \"yaxis\": {\"backgroundcolor\": \"#E5ECF6\", \"gridcolor\": \"white\", \"gridwidth\": 2, \"linecolor\": \"white\", \"showbackground\": true, \"ticks\": \"\", \"zerolinecolor\": \"white\"}, \"zaxis\": {\"backgroundcolor\": \"#E5ECF6\", \"gridcolor\": \"white\", \"gridwidth\": 2, \"linecolor\": \"white\", \"showbackground\": true, \"ticks\": \"\", \"zerolinecolor\": \"white\"}}, \"shapedefaults\": {\"line\": {\"color\": \"#2a3f5f\"}}, \"ternary\": {\"aaxis\": {\"gridcolor\": \"white\", \"linecolor\": \"white\", \"ticks\": \"\"}, \"baxis\": {\"gridcolor\": \"white\", \"linecolor\": \"white\", \"ticks\": \"\"}, \"bgcolor\": \"#E5ECF6\", \"caxis\": {\"gridcolor\": \"white\", \"linecolor\": \"white\", \"ticks\": \"\"}}, \"title\": {\"x\": 0.05}, \"xaxis\": {\"automargin\": true, \"gridcolor\": \"white\", \"linecolor\": \"white\", \"ticks\": \"\", \"zerolinecolor\": \"white\", \"zerolinewidth\": 2}, \"yaxis\": {\"automargin\": true, \"gridcolor\": \"white\", \"linecolor\": \"white\", \"ticks\": \"\", \"zerolinecolor\": \"white\", \"zerolinewidth\": 2}}}, \"title\": {\"font\": {\"color\": \"#4D5663\"}}, \"xaxis\": {\"gridcolor\": \"#E1E5ED\", \"showgrid\": true, \"tickfont\": {\"color\": \"#4D5663\"}, \"title\": {\"font\": {\"color\": \"#4D5663\"}, \"text\": \"\"}, \"zerolinecolor\": \"#E1E5ED\"}, \"yaxis\": {\"gridcolor\": \"#E1E5ED\", \"showgrid\": true, \"tickfont\": {\"color\": \"#4D5663\"}, \"title\": {\"font\": {\"color\": \"#4D5663\"}, \"text\": \"\"}, \"zerolinecolor\": \"#E1E5ED\"}},\n",
       "                        {\"showLink\": true, \"linkText\": \"Export to plot.ly\", \"plotlyServerURL\": \"https://plot.ly\", \"responsive\": true}\n",
       "                    ).then(function(){\n",
       "                            \n",
       "var gd = document.getElementById('0093fcf9-c8f4-456e-96b5-6f278a2998e7');\n",
       "var x = new MutationObserver(function (mutations, observer) {{\n",
       "        var display = window.getComputedStyle(gd).display;\n",
       "        if (!display || display === 'none') {{\n",
       "            console.log([gd, 'removed!']);\n",
       "            Plotly.purge(gd);\n",
       "            observer.disconnect();\n",
       "        }}\n",
       "}});\n",
       "\n",
       "// Listen for the removal of the full notebook cells\n",
       "var notebookContainer = gd.closest('#notebook-container');\n",
       "if (notebookContainer) {{\n",
       "    x.observe(notebookContainer, {childList: true});\n",
       "}}\n",
       "\n",
       "// Listen for the clearing of the current output cell\n",
       "var outputEl = gd.closest('.output');\n",
       "if (outputEl) {{\n",
       "    x.observe(outputEl, {childList: true});\n",
       "}}\n",
       "\n",
       "                        })\n",
       "                };\n",
       "                });\n",
       "            </script>\n",
       "        </div>"
      ]
     },
     "metadata": {},
     "output_type": "display_data"
    }
   ],
   "source": [
    "bay[[\"real\", \"predict\"]].iplot()"
   ]
  },
  {
   "cell_type": "markdown",
   "metadata": {
    "colab_type": "text",
    "id": "oTjOn7NBZKDP"
   },
   "source": [
    "- para graficar"
   ]
  },
  {
   "cell_type": "code",
   "execution_count": 273,
   "metadata": {
    "ExecuteTime": {
     "end_time": "2020-04-26T23:57:43.251667Z",
     "start_time": "2020-04-26T23:57:43.242721Z"
    },
    "colab": {},
    "colab_type": "code",
    "id": "pytr28AaZKDP"
   },
   "outputs": [],
   "source": [
    "def visual2(dia, n):\n",
    "    regio = reg2(dia, n, \"general\")\n",
    "    rego = regio[[\"predict\", \"real\"]]\n",
    "    \n",
    "    rego.iplot(title = f\"general: {Mape(*rego.values.T)}\")\n",
    "    regio.resta.iplot(title = \"resta\")\n",
    "    \n",
    "    regal = reg2(dia, n, \"forcasting\")[[\"predict\", \"real\"]]\n",
    "    regal.iplot(title = f\"forcasting: {Mape(*regal.values.T)}\")"
   ]
  },
  {
   "cell_type": "code",
   "execution_count": 274,
   "metadata": {
    "ExecuteTime": {
     "end_time": "2020-04-26T23:57:45.325146Z",
     "start_time": "2020-04-26T23:57:45.321157Z"
    },
    "colab": {},
    "colab_type": "code",
    "id": "KNz7en11ZKDT"
   },
   "outputs": [],
   "source": [
    "# visual2(1, 10)"
   ]
  },
  {
   "cell_type": "markdown",
   "metadata": {
    "colab_type": "text",
    "id": "xf8-cJfmZKDi"
   },
   "source": [
    "# Tercera regresion"
   ]
  },
  {
   "cell_type": "code",
   "execution_count": 275,
   "metadata": {
    "ExecuteTime": {
     "end_time": "2020-04-26T23:57:58.826730Z",
     "start_time": "2020-04-26T23:57:58.815761Z"
    },
    "colab": {},
    "colab_type": "code",
    "id": "7RZxmRpGZKDx"
   },
   "outputs": [],
   "source": [
    "def rego(n):\n",
    "    X = kron(n)\n",
    "    X_train, X_test, y_train, y_test = train_test_split(X, consumo, test_size = n, shuffle = False)\n",
    "    \n",
    "    # regresion con lasso # 150, 5\n",
    "    lasso_reg = XGBRegressor(n_jobs= -1, n_estimators=70, max_depth=3, tree_method='gpu_hist', nthread = -1, objective = \"reg:squarederror\").fit(X_train,y_train)\n",
    "    y_pred_lass = lasso_reg.predict(X_test)\n",
    "\n",
    "    # predict, real, resta\n",
    "    comp = pd.DataFrame(y_pred_lass, columns = [\"predict\"],index = y_test.index)\n",
    "    comp[\"real\"] = y_test; comp[\"resta\"] = comp.real - comp.predict\n",
    "    return comp"
   ]
  },
  {
   "cell_type": "code",
   "execution_count": 276,
   "metadata": {
    "ExecuteTime": {
     "end_time": "2020-04-26T23:58:05.257566Z",
     "start_time": "2020-04-26T23:58:05.225687Z"
    },
    "colab": {
     "base_uri": "https://localhost:8080/",
     "height": 34
    },
    "colab_type": "code",
    "id": "LFWMPI9vZKD1",
    "outputId": "1f5ed560-fd6a-4633-9ace-f96765495061"
   },
   "outputs": [
    {
     "ename": "TypeError",
     "evalue": "kron() missing 1 required positional argument: 'n'",
     "output_type": "error",
     "traceback": [
      "\u001b[1;31m---------------------------------------------------------------------------\u001b[0m",
      "\u001b[1;31mTypeError\u001b[0m                                 Traceback (most recent call last)",
      "\u001b[1;32m<ipython-input-276-f923abfbab05>\u001b[0m in \u001b[0;36m<module>\u001b[1;34m\u001b[0m\n\u001b[0;32m      1\u001b[0m \u001b[0mbeg\u001b[0m \u001b[1;33m=\u001b[0m \u001b[0mtime\u001b[0m\u001b[1;33m.\u001b[0m\u001b[0mtime\u001b[0m\u001b[1;33m(\u001b[0m\u001b[1;33m)\u001b[0m\u001b[1;33m\u001b[0m\u001b[1;33m\u001b[0m\u001b[0m\n\u001b[1;32m----> 2\u001b[1;33m \u001b[0mba\u001b[0m \u001b[1;33m=\u001b[0m \u001b[0mrego\u001b[0m\u001b[1;33m(\u001b[0m\u001b[1;36m20\u001b[0m\u001b[1;33m)\u001b[0m\u001b[1;33m\u001b[0m\u001b[1;33m\u001b[0m\u001b[0m\n\u001b[0m\u001b[0;32m      3\u001b[0m \u001b[0mend\u001b[0m \u001b[1;33m=\u001b[0m \u001b[0mtime\u001b[0m\u001b[1;33m.\u001b[0m\u001b[0mtime\u001b[0m\u001b[1;33m(\u001b[0m\u001b[1;33m)\u001b[0m\u001b[1;33m\u001b[0m\u001b[1;33m\u001b[0m\u001b[0m\n\u001b[0;32m      4\u001b[0m \u001b[0mprint\u001b[0m\u001b[1;33m(\u001b[0m\u001b[1;34mf\" timepo de corrida: {(end - beg)/60} min\"\u001b[0m\u001b[1;33m)\u001b[0m\u001b[1;33m\u001b[0m\u001b[1;33m\u001b[0m\u001b[0m\n",
      "\u001b[1;32m<ipython-input-275-385025b9e4d0>\u001b[0m in \u001b[0;36mrego\u001b[1;34m(n)\u001b[0m\n\u001b[0;32m      1\u001b[0m \u001b[1;32mdef\u001b[0m \u001b[0mrego\u001b[0m\u001b[1;33m(\u001b[0m\u001b[0mn\u001b[0m\u001b[1;33m)\u001b[0m\u001b[1;33m:\u001b[0m\u001b[1;33m\u001b[0m\u001b[1;33m\u001b[0m\u001b[0m\n\u001b[1;32m----> 2\u001b[1;33m     \u001b[0mX\u001b[0m \u001b[1;33m=\u001b[0m \u001b[0mkron\u001b[0m\u001b[1;33m(\u001b[0m\u001b[0mn\u001b[0m\u001b[1;33m)\u001b[0m\u001b[1;33m\u001b[0m\u001b[1;33m\u001b[0m\u001b[0m\n\u001b[0m\u001b[0;32m      3\u001b[0m     \u001b[0mX_train\u001b[0m\u001b[1;33m,\u001b[0m \u001b[0mX_test\u001b[0m\u001b[1;33m,\u001b[0m \u001b[0my_train\u001b[0m\u001b[1;33m,\u001b[0m \u001b[0my_test\u001b[0m \u001b[1;33m=\u001b[0m \u001b[0mtrain_test_split\u001b[0m\u001b[1;33m(\u001b[0m\u001b[0mX\u001b[0m\u001b[1;33m,\u001b[0m \u001b[0mconsumo\u001b[0m\u001b[1;33m,\u001b[0m \u001b[0mtest_size\u001b[0m \u001b[1;33m=\u001b[0m \u001b[0mn\u001b[0m\u001b[1;33m,\u001b[0m \u001b[0mshuffle\u001b[0m \u001b[1;33m=\u001b[0m \u001b[1;32mFalse\u001b[0m\u001b[1;33m)\u001b[0m\u001b[1;33m\u001b[0m\u001b[1;33m\u001b[0m\u001b[0m\n\u001b[0;32m      4\u001b[0m \u001b[1;33m\u001b[0m\u001b[0m\n\u001b[0;32m      5\u001b[0m     \u001b[1;31m# regresion con lasso # 150, 5\u001b[0m\u001b[1;33m\u001b[0m\u001b[1;33m\u001b[0m\u001b[1;33m\u001b[0m\u001b[0m\n",
      "\u001b[1;31mTypeError\u001b[0m: kron() missing 1 required positional argument: 'n'"
     ]
    }
   ],
   "source": [
    "beg = time.time()\n",
    "ba = rego(20)\n",
    "end = time.time()\n",
    "print(f\" timepo de corrida: {(end - beg)/60} min\")"
   ]
  },
  {
   "cell_type": "code",
   "execution_count": 114,
   "metadata": {
    "ExecuteTime": {
     "end_time": "2020-04-26T20:04:29.873088Z",
     "start_time": "2020-04-26T20:04:29.865094Z"
    },
    "colab": {
     "base_uri": "https://localhost:8080/",
     "height": 336
    },
    "colab_type": "code",
    "id": "jpChue7EZKD6",
    "outputId": "6ec87d3a-bd67-49db-b1ac-6575d25f98c3"
   },
   "outputs": [],
   "source": [
    "# ai = Mape(*ba[[\"predict\", \"real\"]].values.T)\n",
    "# ba[[\"predict\", \"real\"]].plot(title = f\"Mape: {ai:.3f}\")"
   ]
  },
  {
   "cell_type": "markdown",
   "metadata": {
    "colab_type": "text",
    "id": "GcPvX1R2ZKD_"
   },
   "source": [
    "- para graficar"
   ]
  },
  {
   "cell_type": "markdown",
   "metadata": {
    "colab_type": "text",
    "id": "sJwRJb3nZKEA"
   },
   "source": [
    "# Separado"
   ]
  },
  {
   "cell_type": "markdown",
   "metadata": {},
   "source": [
    "**Para obtener multiples dataframes**"
   ]
  },
  {
   "cell_type": "code",
   "execution_count": 132,
   "metadata": {
    "ExecuteTime": {
     "end_time": "2020-04-26T20:09:14.311220Z",
     "start_time": "2020-04-26T20:09:05.263481Z"
    },
    "colab": {
     "base_uri": "https://localhost:8080/",
     "height": 34
    },
    "colab_type": "code",
    "id": "xOSE8icYFMJt",
    "outputId": "831261d5-a2f8-4477-de54-d463754c779b"
   },
   "outputs": [
    {
     "name": "stdout",
     "output_type": "stream",
     "text": [
      "10\n",
      "20\n",
      "30\n"
     ]
    }
   ],
   "source": [
    "def banana(dia, n):\n",
    "    X = kron(dia, n); y = consumo[consumo.index.weekday == dia]; cas ={}\n",
    "    for i in range(1, 4):\n",
    "        j = i*n\n",
    "        print(j)\n",
    "\n",
    "        X_train = X.head(len(y)-j); X_test = X.tail(j).head(n)\n",
    "        y_train = y.head(len(y)-j); y_test = y.tail(j).head(n)\n",
    "\n",
    "        XGB_reg = XGBRegressor(n_jobs= -1, n_estimators=70, max_depth=3, nthread = -1, objective = \"reg:squarederror\").fit(X_train,y_train)\n",
    "        y_pred_xgb = XGB_reg.predict(X_test)\n",
    "\n",
    "        comp = pd.DataFrame(y_pred_xgb, columns = [\"predict\"],index = y_test.index)\n",
    "        comp[\"real\"] = y_test; comp[\"resta\"] = comp.real - comp.predict\n",
    "\n",
    "        cas[j] = comp\n",
    "    return cas\n",
    "\n",
    "res = banana(1, 10)"
   ]
  },
  {
   "cell_type": "code",
   "execution_count": 133,
   "metadata": {
    "ExecuteTime": {
     "end_time": "2020-04-26T20:09:14.332672Z",
     "start_time": "2020-04-26T20:09:14.313243Z"
    }
   },
   "outputs": [
    {
     "name": "stdout",
     "output_type": "stream",
     "text": [
      "2.697683842313862\n",
      "4.063274291343018\n",
      "2.569889225787797\n"
     ]
    }
   ],
   "source": [
    "for i in [10, 20, 30]:\n",
    "    print(Mape(res[i].real, res[i].predict))"
   ]
  },
  {
   "cell_type": "code",
   "execution_count": 131,
   "metadata": {
    "ExecuteTime": {
     "end_time": "2020-04-26T20:08:49.765907Z",
     "start_time": "2020-04-26T20:08:49.749929Z"
    }
   },
   "outputs": [
    {
     "name": "stdout",
     "output_type": "stream",
     "text": [
      "3.206874291243618\n",
      "3.601121181018755\n",
      "2.9797198342656688\n"
     ]
    }
   ],
   "source": [
    "for i in [10, 20, 30]:\n",
    "    print(Mape(res[i].real, res[i].predict))"
   ]
  },
  {
   "cell_type": "markdown",
   "metadata": {},
   "source": [
    "# PSO"
   ]
  },
  {
   "cell_type": "code",
   "execution_count": 34,
   "metadata": {
    "ExecuteTime": {
     "end_time": "2020-04-24T21:49:12.688596Z",
     "start_time": "2020-04-24T21:49:12.682612Z"
    }
   },
   "outputs": [],
   "source": [
    "from pyswarm import pso"
   ]
  },
  {
   "cell_type": "code",
   "execution_count": 57,
   "metadata": {
    "ExecuteTime": {
     "end_time": "2020-04-24T22:01:05.976524Z",
     "start_time": "2020-04-24T22:01:05.964555Z"
    }
   },
   "outputs": [],
   "source": [
    "def PSO(teef, ne):\n",
    "    n = 7\n",
    "    X = kron(n); y = consumo; mape =[]\n",
    "    for i in range(1, 2):\n",
    "        j = i*n\n",
    "        print(i)\n",
    "\n",
    "        X_train = X.head(len(y)-j); X_test = X.tail(j).head(n)\n",
    "        y_train = y.head(len(y)-j); y_test = y.tail(j).head(n)\n",
    "\n",
    "        XGB_reg = XGBRegressor(n_jobs= -1,n_estimators=int(ne), max_depth=int(teef), nthread = -1, reg_alpha = 1,\\\n",
    "                               objective = \"reg:squarederror\").fit(X_train,y_train)\n",
    "        \n",
    "        y_pred_xgb = XGB_reg.predict(X_test) # tree_method=’gpu_hist’\n",
    "\n",
    "        mape.append(Mape(y_test.values, y_pred_xgb))\n",
    "        print(sum(mape))\n",
    "\n",
    "    return sum(mape)\n",
    "\n",
    "# bon, boy = PSO(10, 70)"
   ]
  },
  {
   "cell_type": "code",
   "execution_count": 58,
   "metadata": {
    "ExecuteTime": {
     "end_time": "2020-04-24T22:01:06.368824Z",
     "start_time": "2020-04-24T22:01:06.353862Z"
    }
   },
   "outputs": [
    {
     "ename": "NameError",
     "evalue": "name 'bon' is not defined",
     "output_type": "error",
     "traceback": [
      "\u001b[1;31m---------------------------------------------------------------------------\u001b[0m",
      "\u001b[1;31mNameError\u001b[0m                                 Traceback (most recent call last)",
      "\u001b[1;32m<ipython-input-58-125e79c5e1e0>\u001b[0m in \u001b[0;36m<module>\u001b[1;34m\u001b[0m\n\u001b[1;32m----> 1\u001b[1;33m \u001b[0mplt\u001b[0m\u001b[1;33m.\u001b[0m\u001b[0mplot\u001b[0m\u001b[1;33m(\u001b[0m\u001b[0mbon\u001b[0m\u001b[1;33m)\u001b[0m\u001b[1;33m\u001b[0m\u001b[1;33m\u001b[0m\u001b[0m\n\u001b[0m\u001b[0;32m      2\u001b[0m \u001b[0mplt\u001b[0m\u001b[1;33m.\u001b[0m\u001b[0mplot\u001b[0m\u001b[1;33m(\u001b[0m\u001b[0mboy\u001b[0m\u001b[1;33m)\u001b[0m\u001b[1;33m\u001b[0m\u001b[1;33m\u001b[0m\u001b[0m\n",
      "\u001b[1;31mNameError\u001b[0m: name 'bon' is not defined"
     ]
    }
   ],
   "source": [
    "plt.plot(bon)\n",
    "plt.plot(boy)"
   ]
  },
  {
   "cell_type": "code",
   "execution_count": 59,
   "metadata": {
    "ExecuteTime": {
     "end_time": "2020-04-24T22:01:06.638860Z",
     "start_time": "2020-04-24T22:01:06.635871Z"
    }
   },
   "outputs": [],
   "source": [
    "# Aumenta de forma lineal con el teef: 100 10s - 1000 26s\n",
    "# Es constante con n_estimadores : 100 2.24s - 1000 2.14s"
   ]
  },
  {
   "cell_type": "code",
   "execution_count": 60,
   "metadata": {
    "ExecuteTime": {
     "end_time": "2020-04-24T22:01:09.251338Z",
     "start_time": "2020-04-24T22:01:09.244358Z"
    }
   },
   "outputs": [],
   "source": [
    "def correr(hi):\n",
    "    pro, num= hi\n",
    "#     for deep, number, leaf\n",
    "    a = time.time()\n",
    "    mape = PSO(pro, num)\n",
    "    b = time.time()\n",
    "    c = b - a\n",
    "    return mape*10 + c"
   ]
  },
  {
   "cell_type": "code",
   "execution_count": 61,
   "metadata": {
    "ExecuteTime": {
     "end_time": "2020-04-24T22:01:13.042664Z",
     "start_time": "2020-04-24T22:01:10.089362Z"
    }
   },
   "outputs": [
    {
     "name": "stdout",
     "output_type": "stream",
     "text": [
      "1\n",
      "59.68863740319199\n"
     ]
    },
    {
     "data": {
      "text/plain": [
       "599.8316953534073"
      ]
     },
     "execution_count": 61,
     "metadata": {},
     "output_type": "execute_result"
    }
   ],
   "source": [
    "correr([4, 5])"
   ]
  },
  {
   "cell_type": "code",
   "execution_count": 64,
   "metadata": {
    "ExecuteTime": {
     "end_time": "2020-04-24T22:21:17.223452Z",
     "start_time": "2020-04-24T22:05:22.069498Z"
    }
   },
   "outputs": [
    {
     "name": "stdout",
     "output_type": "stream",
     "text": [
      "1\n",
      "6.717519524463472\n",
      "1\n",
      "6.7726597057280875\n",
      "1\n",
      "6.722148802055007\n",
      "1\n",
      "10.915625978528972\n",
      "1\n",
      "66.28215911817318\n",
      "1\n",
      "43.339165716706255\n",
      "1\n",
      "6.726059645246024\n",
      "1\n",
      "6.716868751325639\n",
      "1\n",
      "7.969722672897231\n",
      "1\n",
      "18.036250068506\n",
      "1\n",
      "25.237312676408685\n",
      "1\n",
      "6.740237313373106\n",
      "1\n",
      "6.7202791040529615\n",
      "1\n",
      "6.774516037062995\n",
      "1\n",
      "6.740094566814658\n",
      "1\n",
      "90.95613218852691\n",
      "1\n",
      "90.2332170627671\n",
      "1\n",
      "90.2332170627671\n",
      "1\n",
      "90.2332170627671\n",
      "1\n",
      "6.740158378020437\n",
      "1\n",
      "6.740158378020437\n",
      "1\n"
     ]
    },
    {
     "ename": "KeyboardInterrupt",
     "evalue": "",
     "output_type": "error",
     "traceback": [
      "\u001b[1;31m---------------------------------------------------------------------------\u001b[0m",
      "\u001b[1;31mKeyboardInterrupt\u001b[0m                         Traceback (most recent call last)",
      "\u001b[1;32m<ipython-input-64-40a09a253654>\u001b[0m in \u001b[0;36m<module>\u001b[1;34m\u001b[0m\n\u001b[0;32m      1\u001b[0m \u001b[0mbeg\u001b[0m \u001b[1;33m=\u001b[0m \u001b[0mtime\u001b[0m\u001b[1;33m.\u001b[0m\u001b[0mtime\u001b[0m\u001b[1;33m(\u001b[0m\u001b[1;33m)\u001b[0m\u001b[1;33m\u001b[0m\u001b[1;33m\u001b[0m\u001b[0m\n\u001b[0;32m      2\u001b[0m \u001b[0mlb\u001b[0m\u001b[1;33m=\u001b[0m \u001b[1;33m[\u001b[0m\u001b[0mint\u001b[0m\u001b[1;33m(\u001b[0m\u001b[1;36m1\u001b[0m\u001b[1;33m)\u001b[0m\u001b[1;33m,\u001b[0m \u001b[0mint\u001b[0m\u001b[1;33m(\u001b[0m\u001b[1;36m1\u001b[0m\u001b[1;33m)\u001b[0m\u001b[1;33m]\u001b[0m\u001b[1;33m;\u001b[0m \u001b[0mub\u001b[0m \u001b[1;33m=\u001b[0m \u001b[1;33m[\u001b[0m\u001b[0mint\u001b[0m\u001b[1;33m(\u001b[0m\u001b[1;36m100\u001b[0m\u001b[1;33m)\u001b[0m\u001b[1;33m,\u001b[0m \u001b[0mint\u001b[0m\u001b[1;33m(\u001b[0m\u001b[1;36m100\u001b[0m\u001b[1;33m)\u001b[0m\u001b[1;33m]\u001b[0m\u001b[1;33m\u001b[0m\u001b[1;33m\u001b[0m\u001b[0m\n\u001b[1;32m----> 3\u001b[1;33m \u001b[0mxopt\u001b[0m\u001b[1;33m,\u001b[0m \u001b[0mfopt\u001b[0m \u001b[1;33m=\u001b[0m \u001b[0mpso\u001b[0m\u001b[1;33m(\u001b[0m\u001b[0mcorrer\u001b[0m\u001b[1;33m,\u001b[0m \u001b[0mlb\u001b[0m\u001b[1;33m,\u001b[0m \u001b[0mub\u001b[0m\u001b[1;33m,\u001b[0m \u001b[0mswarmsize\u001b[0m\u001b[1;33m=\u001b[0m\u001b[1;36m15\u001b[0m\u001b[1;33m,\u001b[0m  \u001b[0mmaxiter\u001b[0m\u001b[1;33m=\u001b[0m\u001b[1;36m5\u001b[0m\u001b[1;33m,\u001b[0m \u001b[0mminstep\u001b[0m\u001b[1;33m=\u001b[0m\u001b[1;36m10\u001b[0m\u001b[1;33m,\u001b[0m \u001b[0momega\u001b[0m \u001b[1;33m=\u001b[0m \u001b[1;36m100\u001b[0m\u001b[1;33m)\u001b[0m\u001b[1;33m\u001b[0m\u001b[1;33m\u001b[0m\u001b[0m\n\u001b[0m\u001b[0;32m      4\u001b[0m \u001b[0mend\u001b[0m \u001b[1;33m=\u001b[0m \u001b[0mtime\u001b[0m\u001b[1;33m.\u001b[0m\u001b[0mtime\u001b[0m\u001b[1;33m(\u001b[0m\u001b[1;33m)\u001b[0m\u001b[1;33m\u001b[0m\u001b[1;33m\u001b[0m\u001b[0m\n\u001b[0;32m      5\u001b[0m \u001b[0mprint\u001b[0m\u001b[1;33m(\u001b[0m\u001b[0mend\u001b[0m \u001b[1;33m-\u001b[0m \u001b[0mbeg\u001b[0m\u001b[1;33m)\u001b[0m\u001b[1;33m\u001b[0m\u001b[1;33m\u001b[0m\u001b[0m\n",
      "\u001b[1;32m~\\Anaconda3\\lib\\site-packages\\pyswarm\\pso.py\u001b[0m in \u001b[0;36mpso\u001b[1;34m(func, lb, ub, ieqcons, f_ieqcons, args, kwargs, swarmsize, omega, phip, phig, maxiter, minstep, minfunc, debug)\u001b[0m\n\u001b[0;32m    143\u001b[0m             \u001b[0mx\u001b[0m\u001b[1;33m[\u001b[0m\u001b[0mi\u001b[0m\u001b[1;33m,\u001b[0m \u001b[0mmark1\u001b[0m\u001b[1;33m]\u001b[0m \u001b[1;33m=\u001b[0m \u001b[0mlb\u001b[0m\u001b[1;33m[\u001b[0m\u001b[0mmark1\u001b[0m\u001b[1;33m]\u001b[0m\u001b[1;33m\u001b[0m\u001b[1;33m\u001b[0m\u001b[0m\n\u001b[0;32m    144\u001b[0m             \u001b[0mx\u001b[0m\u001b[1;33m[\u001b[0m\u001b[0mi\u001b[0m\u001b[1;33m,\u001b[0m \u001b[0mmark2\u001b[0m\u001b[1;33m]\u001b[0m \u001b[1;33m=\u001b[0m \u001b[0mub\u001b[0m\u001b[1;33m[\u001b[0m\u001b[0mmark2\u001b[0m\u001b[1;33m]\u001b[0m\u001b[1;33m\u001b[0m\u001b[1;33m\u001b[0m\u001b[0m\n\u001b[1;32m--> 145\u001b[1;33m             \u001b[0mfx\u001b[0m \u001b[1;33m=\u001b[0m \u001b[0mobj\u001b[0m\u001b[1;33m(\u001b[0m\u001b[0mx\u001b[0m\u001b[1;33m[\u001b[0m\u001b[0mi\u001b[0m\u001b[1;33m,\u001b[0m \u001b[1;33m:\u001b[0m\u001b[1;33m]\u001b[0m\u001b[1;33m)\u001b[0m\u001b[1;33m\u001b[0m\u001b[1;33m\u001b[0m\u001b[0m\n\u001b[0m\u001b[0;32m    146\u001b[0m \u001b[1;33m\u001b[0m\u001b[0m\n\u001b[0;32m    147\u001b[0m             \u001b[1;31m# Compare particle's best position (if constraints are satisfied)\u001b[0m\u001b[1;33m\u001b[0m\u001b[1;33m\u001b[0m\u001b[1;33m\u001b[0m\u001b[0m\n",
      "\u001b[1;32m~\\Anaconda3\\lib\\site-packages\\pyswarm\\pso.py\u001b[0m in \u001b[0;36m<lambda>\u001b[1;34m(x)\u001b[0m\n\u001b[0;32m     72\u001b[0m \u001b[1;33m\u001b[0m\u001b[0m\n\u001b[0;32m     73\u001b[0m     \u001b[1;31m# Check for constraint function(s) #########################################\u001b[0m\u001b[1;33m\u001b[0m\u001b[1;33m\u001b[0m\u001b[1;33m\u001b[0m\u001b[0m\n\u001b[1;32m---> 74\u001b[1;33m     \u001b[0mobj\u001b[0m \u001b[1;33m=\u001b[0m \u001b[1;32mlambda\u001b[0m \u001b[0mx\u001b[0m\u001b[1;33m:\u001b[0m \u001b[0mfunc\u001b[0m\u001b[1;33m(\u001b[0m\u001b[0mx\u001b[0m\u001b[1;33m,\u001b[0m \u001b[1;33m*\u001b[0m\u001b[0margs\u001b[0m\u001b[1;33m,\u001b[0m \u001b[1;33m**\u001b[0m\u001b[0mkwargs\u001b[0m\u001b[1;33m)\u001b[0m\u001b[1;33m\u001b[0m\u001b[1;33m\u001b[0m\u001b[0m\n\u001b[0m\u001b[0;32m     75\u001b[0m     \u001b[1;32mif\u001b[0m \u001b[0mf_ieqcons\u001b[0m \u001b[1;32mis\u001b[0m \u001b[1;32mNone\u001b[0m\u001b[1;33m:\u001b[0m\u001b[1;33m\u001b[0m\u001b[1;33m\u001b[0m\u001b[0m\n\u001b[0;32m     76\u001b[0m         \u001b[1;32mif\u001b[0m \u001b[1;32mnot\u001b[0m \u001b[0mlen\u001b[0m\u001b[1;33m(\u001b[0m\u001b[0mieqcons\u001b[0m\u001b[1;33m)\u001b[0m\u001b[1;33m:\u001b[0m\u001b[1;33m\u001b[0m\u001b[1;33m\u001b[0m\u001b[0m\n",
      "\u001b[1;32m<ipython-input-60-244d1e7dee13>\u001b[0m in \u001b[0;36mcorrer\u001b[1;34m(hi)\u001b[0m\n\u001b[0;32m      3\u001b[0m \u001b[1;31m#     for deep, number, leaf\u001b[0m\u001b[1;33m\u001b[0m\u001b[1;33m\u001b[0m\u001b[1;33m\u001b[0m\u001b[0m\n\u001b[0;32m      4\u001b[0m     \u001b[0ma\u001b[0m \u001b[1;33m=\u001b[0m \u001b[0mtime\u001b[0m\u001b[1;33m.\u001b[0m\u001b[0mtime\u001b[0m\u001b[1;33m(\u001b[0m\u001b[1;33m)\u001b[0m\u001b[1;33m\u001b[0m\u001b[1;33m\u001b[0m\u001b[0m\n\u001b[1;32m----> 5\u001b[1;33m     \u001b[0mmape\u001b[0m \u001b[1;33m=\u001b[0m \u001b[0mPSO\u001b[0m\u001b[1;33m(\u001b[0m\u001b[0mpro\u001b[0m\u001b[1;33m,\u001b[0m \u001b[0mnum\u001b[0m\u001b[1;33m)\u001b[0m\u001b[1;33m\u001b[0m\u001b[1;33m\u001b[0m\u001b[0m\n\u001b[0m\u001b[0;32m      6\u001b[0m     \u001b[0mb\u001b[0m \u001b[1;33m=\u001b[0m \u001b[0mtime\u001b[0m\u001b[1;33m.\u001b[0m\u001b[0mtime\u001b[0m\u001b[1;33m(\u001b[0m\u001b[1;33m)\u001b[0m\u001b[1;33m\u001b[0m\u001b[1;33m\u001b[0m\u001b[0m\n\u001b[0;32m      7\u001b[0m     \u001b[0mc\u001b[0m \u001b[1;33m=\u001b[0m \u001b[0mb\u001b[0m \u001b[1;33m-\u001b[0m \u001b[0ma\u001b[0m\u001b[1;33m\u001b[0m\u001b[1;33m\u001b[0m\u001b[0m\n",
      "\u001b[1;32m<ipython-input-57-1f755a3be6ac>\u001b[0m in \u001b[0;36mPSO\u001b[1;34m(teef, ne)\u001b[0m\n\u001b[0;32m     10\u001b[0m \u001b[1;33m\u001b[0m\u001b[0m\n\u001b[0;32m     11\u001b[0m         XGB_reg = XGBRegressor(n_jobs= -1,n_estimators=int(ne), max_depth=int(teef), nthread = -1, reg_alpha = 1,\\\n\u001b[1;32m---> 12\u001b[1;33m                                objective = \"reg:squarederror\").fit(X_train,y_train)\n\u001b[0m\u001b[0;32m     13\u001b[0m \u001b[1;33m\u001b[0m\u001b[0m\n\u001b[0;32m     14\u001b[0m         \u001b[0my_pred_xgb\u001b[0m \u001b[1;33m=\u001b[0m \u001b[0mXGB_reg\u001b[0m\u001b[1;33m.\u001b[0m\u001b[0mpredict\u001b[0m\u001b[1;33m(\u001b[0m\u001b[0mX_test\u001b[0m\u001b[1;33m)\u001b[0m \u001b[1;31m# tree_method=’gpu_hist’\u001b[0m\u001b[1;33m\u001b[0m\u001b[1;33m\u001b[0m\u001b[0m\n",
      "\u001b[1;32m~\\Anaconda3\\lib\\site-packages\\xgboost\\sklearn.py\u001b[0m in \u001b[0;36mfit\u001b[1;34m(self, X, y, sample_weight, eval_set, eval_metric, early_stopping_rounds, verbose, xgb_model, sample_weight_eval_set, callbacks)\u001b[0m\n\u001b[0;32m    394\u001b[0m                               \u001b[0mevals_result\u001b[0m\u001b[1;33m=\u001b[0m\u001b[0mevals_result\u001b[0m\u001b[1;33m,\u001b[0m \u001b[0mobj\u001b[0m\u001b[1;33m=\u001b[0m\u001b[0mobj\u001b[0m\u001b[1;33m,\u001b[0m \u001b[0mfeval\u001b[0m\u001b[1;33m=\u001b[0m\u001b[0mfeval\u001b[0m\u001b[1;33m,\u001b[0m\u001b[1;33m\u001b[0m\u001b[1;33m\u001b[0m\u001b[0m\n\u001b[0;32m    395\u001b[0m                               \u001b[0mverbose_eval\u001b[0m\u001b[1;33m=\u001b[0m\u001b[0mverbose\u001b[0m\u001b[1;33m,\u001b[0m \u001b[0mxgb_model\u001b[0m\u001b[1;33m=\u001b[0m\u001b[0mxgb_model\u001b[0m\u001b[1;33m,\u001b[0m\u001b[1;33m\u001b[0m\u001b[1;33m\u001b[0m\u001b[0m\n\u001b[1;32m--> 396\u001b[1;33m                               callbacks=callbacks)\n\u001b[0m\u001b[0;32m    397\u001b[0m \u001b[1;33m\u001b[0m\u001b[0m\n\u001b[0;32m    398\u001b[0m         \u001b[1;32mif\u001b[0m \u001b[0mevals_result\u001b[0m\u001b[1;33m:\u001b[0m\u001b[1;33m\u001b[0m\u001b[1;33m\u001b[0m\u001b[0m\n",
      "\u001b[1;32m~\\Anaconda3\\lib\\site-packages\\xgboost\\training.py\u001b[0m in \u001b[0;36mtrain\u001b[1;34m(params, dtrain, num_boost_round, evals, obj, feval, maximize, early_stopping_rounds, evals_result, verbose_eval, xgb_model, callbacks, learning_rates)\u001b[0m\n\u001b[0;32m    214\u001b[0m                            \u001b[0mevals\u001b[0m\u001b[1;33m=\u001b[0m\u001b[0mevals\u001b[0m\u001b[1;33m,\u001b[0m\u001b[1;33m\u001b[0m\u001b[1;33m\u001b[0m\u001b[0m\n\u001b[0;32m    215\u001b[0m                            \u001b[0mobj\u001b[0m\u001b[1;33m=\u001b[0m\u001b[0mobj\u001b[0m\u001b[1;33m,\u001b[0m \u001b[0mfeval\u001b[0m\u001b[1;33m=\u001b[0m\u001b[0mfeval\u001b[0m\u001b[1;33m,\u001b[0m\u001b[1;33m\u001b[0m\u001b[1;33m\u001b[0m\u001b[0m\n\u001b[1;32m--> 216\u001b[1;33m                            xgb_model=xgb_model, callbacks=callbacks)\n\u001b[0m\u001b[0;32m    217\u001b[0m \u001b[1;33m\u001b[0m\u001b[0m\n\u001b[0;32m    218\u001b[0m \u001b[1;33m\u001b[0m\u001b[0m\n",
      "\u001b[1;32m~\\Anaconda3\\lib\\site-packages\\xgboost\\training.py\u001b[0m in \u001b[0;36m_train_internal\u001b[1;34m(params, dtrain, num_boost_round, evals, obj, feval, xgb_model, callbacks)\u001b[0m\n\u001b[0;32m     72\u001b[0m         \u001b[1;31m# Skip the first update if it is a recovery step.\u001b[0m\u001b[1;33m\u001b[0m\u001b[1;33m\u001b[0m\u001b[1;33m\u001b[0m\u001b[0m\n\u001b[0;32m     73\u001b[0m         \u001b[1;32mif\u001b[0m \u001b[0mversion\u001b[0m \u001b[1;33m%\u001b[0m \u001b[1;36m2\u001b[0m \u001b[1;33m==\u001b[0m \u001b[1;36m0\u001b[0m\u001b[1;33m:\u001b[0m\u001b[1;33m\u001b[0m\u001b[1;33m\u001b[0m\u001b[0m\n\u001b[1;32m---> 74\u001b[1;33m             \u001b[0mbst\u001b[0m\u001b[1;33m.\u001b[0m\u001b[0mupdate\u001b[0m\u001b[1;33m(\u001b[0m\u001b[0mdtrain\u001b[0m\u001b[1;33m,\u001b[0m \u001b[0mi\u001b[0m\u001b[1;33m,\u001b[0m \u001b[0mobj\u001b[0m\u001b[1;33m)\u001b[0m\u001b[1;33m\u001b[0m\u001b[1;33m\u001b[0m\u001b[0m\n\u001b[0m\u001b[0;32m     75\u001b[0m             \u001b[0mbst\u001b[0m\u001b[1;33m.\u001b[0m\u001b[0msave_rabit_checkpoint\u001b[0m\u001b[1;33m(\u001b[0m\u001b[1;33m)\u001b[0m\u001b[1;33m\u001b[0m\u001b[1;33m\u001b[0m\u001b[0m\n\u001b[0;32m     76\u001b[0m             \u001b[0mversion\u001b[0m \u001b[1;33m+=\u001b[0m \u001b[1;36m1\u001b[0m\u001b[1;33m\u001b[0m\u001b[1;33m\u001b[0m\u001b[0m\n",
      "\u001b[1;32m~\\Anaconda3\\lib\\site-packages\\xgboost\\core.py\u001b[0m in \u001b[0;36mupdate\u001b[1;34m(self, dtrain, iteration, fobj)\u001b[0m\n\u001b[0;32m   1107\u001b[0m         \u001b[1;32mif\u001b[0m \u001b[0mfobj\u001b[0m \u001b[1;32mis\u001b[0m \u001b[1;32mNone\u001b[0m\u001b[1;33m:\u001b[0m\u001b[1;33m\u001b[0m\u001b[1;33m\u001b[0m\u001b[0m\n\u001b[0;32m   1108\u001b[0m             _check_call(_LIB.XGBoosterUpdateOneIter(self.handle, ctypes.c_int(iteration),\n\u001b[1;32m-> 1109\u001b[1;33m                                                     dtrain.handle))\n\u001b[0m\u001b[0;32m   1110\u001b[0m         \u001b[1;32melse\u001b[0m\u001b[1;33m:\u001b[0m\u001b[1;33m\u001b[0m\u001b[1;33m\u001b[0m\u001b[0m\n\u001b[0;32m   1111\u001b[0m             \u001b[0mpred\u001b[0m \u001b[1;33m=\u001b[0m \u001b[0mself\u001b[0m\u001b[1;33m.\u001b[0m\u001b[0mpredict\u001b[0m\u001b[1;33m(\u001b[0m\u001b[0mdtrain\u001b[0m\u001b[1;33m)\u001b[0m\u001b[1;33m\u001b[0m\u001b[1;33m\u001b[0m\u001b[0m\n",
      "\u001b[1;31mKeyboardInterrupt\u001b[0m: "
     ]
    }
   ],
   "source": [
    "\n",
    "beg = time.time()\n",
    "lb= [int(1), int(1)]; ub = [int(100), int(100)]\n",
    "xopt, fopt = pso(correr, lb, ub, swarmsize=15,  maxiter=5, minstep=10) #, omega = 100\n",
    "end = time.time()\n",
    "print(end - beg)"
   ]
  },
  {
   "cell_type": "code",
   "execution_count": 63,
   "metadata": {
    "ExecuteTime": {
     "end_time": "2020-04-24T22:02:10.475704Z",
     "start_time": "2020-04-24T22:02:10.468693Z"
    }
   },
   "outputs": [
    {
     "data": {
      "text/plain": [
       "(array([ 1., 10.]), 401.0319543492169)"
      ]
     },
     "execution_count": 63,
     "metadata": {},
     "output_type": "execute_result"
    }
   ],
   "source": [
    "xopt, fopt"
   ]
  },
  {
   "cell_type": "code",
   "execution_count": null,
   "metadata": {},
   "outputs": [],
   "source": []
  }
 ],
 "metadata": {
  "accelerator": "GPU",
  "colab": {
   "collapsed_sections": [
    "3vqI3QDZZKAq",
    "O2hWPwD6ZKBA",
    "GQpe5fpFZKBN",
    "Qx5efxfeZKBx",
    "vM6tw3OMZKCC",
    "SjwTup0gZKCN",
    "rUkgGDVnZKCV",
    "vgPOo__uZKCa",
    "lCuKekUzZKCp",
    "zRjD5OEqZKCy",
    "tt_KVYnPZKC-",
    "xf8-cJfmZKDi"
   ],
   "machine_shape": "hm",
   "name": "Random Forest-s_kro_opt-PCA-Copy1.ipynb",
   "provenance": [],
   "toc_visible": true
  },
  "kernelspec": {
   "display_name": "Python 3",
   "language": "python",
   "name": "python3"
  },
  "language_info": {
   "codemirror_mode": {
    "name": "ipython",
    "version": 3
   },
   "file_extension": ".py",
   "mimetype": "text/x-python",
   "name": "python",
   "nbconvert_exporter": "python",
   "pygments_lexer": "ipython3",
   "version": "3.7.7"
  },
  "toc": {
   "base_numbering": 1,
   "nav_menu": {},
   "number_sections": true,
   "sideBar": true,
   "skip_h1_title": false,
   "title_cell": "Table of Contents",
   "title_sidebar": "Contents",
   "toc_cell": false,
   "toc_position": {
    "height": "calc(100% - 180px)",
    "left": "10px",
    "top": "150px",
    "width": "206px"
   },
   "toc_section_display": true,
   "toc_window_display": true
  }
 },
 "nbformat": 4,
 "nbformat_minor": 1
}
