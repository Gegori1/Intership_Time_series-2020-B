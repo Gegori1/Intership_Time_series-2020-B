{
 "cells": [
  {
   "cell_type": "code",
   "execution_count": 65,
   "metadata": {},
   "outputs": [],
   "source": [
    "%matplotlib inline\n",
    "import matplotlib.pyplot as plt\n",
    "import pandas as pd\n",
    "import numpy as np\n",
    "from scipy.signal import find_peaks\n",
    "from pandas import read_csv\n",
    "from time import time \n",
    "import pickle\n",
    "from scipy import stats\n",
    "from sklearn.model_selection import train_test_split\n",
    "from sklearn.linear_model import LinearRegression\n",
    "from statsmodels.tsa.ar_model import AR\n",
    "from xgboost import XGBRegressor"
   ]
  },
  {
   "cell_type": "markdown",
   "metadata": {},
   "source": [
    "# Dummies"
   ]
  },
  {
   "cell_type": "code",
   "execution_count": 24,
   "metadata": {},
   "outputs": [],
   "source": [
    "def dum_fest(df):\n",
    "    cata = []; fes = read_csv(\"Excels/festivos.csv\")\n",
    "    for j in range(len(fes.index)):\n",
    "            festiveDay = df.loc[(df.year==fes[\"Year\"][j]) & (df.month==fes[\"Month\"][j]) & (df.day==fes[\"Day\"][j])].index.values.tolist()\n",
    "            cata = cata + festiveDay\n",
    "\n",
    "    df['fest'] = np.nan; df.fest = df.fest.fillna(pd.Series(-1, index=cata))\n",
    "    df.fest = df.fest.fillna(0)\n",
    "#     df = df.query(\"fest == 0\")\n",
    "#     df = df.drop(\"fest\", axis = 1)\n",
    "    return df"
   ]
  },
  {
   "cell_type": "code",
   "execution_count": 25,
   "metadata": {},
   "outputs": [],
   "source": [
    "# lunes   martes-miercoles-jueves   viernes   sabado   domingo\n",
    "def dum_dia(df):\n",
    "    df.día_semana=df.día_semana.apply(lambda x: 1 if x==1 else (2 if x in [2,3,4] else (3 if x==5 else (4 if x==6 else 0))))\n",
    "    df = pd.get_dummies(df, prefix=['d_sm'], columns=['día_semana'])\n",
    "    df = df.drop(\"d_sm_0\", axis = 1)\n",
    "    return df"
   ]
  },
  {
   "cell_type": "code",
   "execution_count": 26,
   "metadata": {},
   "outputs": [],
   "source": [
    "def dum_seas(df):\n",
    "    df['seas'] = np.nan\n",
    "    pr = df.query('day == 21 and month ==3').index\n",
    "    vr = df.query('day == 21 and month == 6').index\n",
    "    ot = df.query('day == 21 and month == 9').index\n",
    "    inv= df.query('day == 21 and month == 12').index\n",
    "\n",
    "    df.seas = df.seas.fillna(pd.Series(0, index=pr))\n",
    "    df.seas = df.seas.fillna(pd.Series(1, index=vr))\n",
    "    df.seas = df.seas.fillna(pd.Series(2, index=ot))\n",
    "    df.seas = df.seas.fillna(pd.Series(3, index=inv))\n",
    "\n",
    "    df.seas = df.seas.fillna(method= 'ffill')\n",
    "    df.seas = df.seas.fillna(method= 'bfill')\n",
    "\n",
    "    df = pd.get_dummies(df, prefix=['s_s'], columns=['seas'])\n",
    "    df = df.drop(\"s_s_3.0\", axis = 1)\n",
    "\n",
    "    return df"
   ]
  },
  {
   "cell_type": "code",
   "execution_count": 27,
   "metadata": {},
   "outputs": [],
   "source": [
    "#     Enero, Febrero, Marzo, Abril, Mayo, Junio, Julio, Agosto, Septiembre, Octubre, Diciembre\n",
    "def dum_mensual(df):\n",
    "    df = pd.get_dummies(df, prefix=['mon'], columns=['month'])\n",
    "    df = df.drop(\"mon_12\", axis = 1)\n",
    "    return df"
   ]
  },
  {
   "cell_type": "code",
   "execution_count": 48,
   "metadata": {},
   "outputs": [],
   "source": [
    "def fm1(i):\n",
    "    global df\n",
    "    df = pd.read_pickle(\"dflimpios.pkl\")\n",
    "    if i==0:\n",
    "        df = dum_fest(df)\n",
    "    if i==1:\n",
    "        df = dum_dia(df)\n",
    "    if i==2:\n",
    "        df = dum_seas(df)\n",
    "    if i==3:\n",
    "        df = dum_mensual(df)\n",
    "    if i==4:\n",
    "        df = dum_mensual(dum_seas(dum_dia(dum_fest(df)))) \n",
    "    return df\n",
    "fm1(1);"
   ]
  },
  {
   "cell_type": "code",
   "execution_count": 49,
   "metadata": {},
   "outputs": [],
   "source": [
    "def sonas(): \n",
    "    return [\"zona_{}\".format(i+1) for i in range(26)]"
   ]
  },
  {
   "cell_type": "markdown",
   "metadata": {},
   "source": [
    "# Funciones para regresión"
   ]
  },
  {
   "cell_type": "code",
   "execution_count": 50,
   "metadata": {},
   "outputs": [],
   "source": [
    "# def get_zon_hor(h,z):\n",
    "#     hora_n = df.query('hora == {}'.format(h))\n",
    "#     zon_n = hora_n['{}'.format(z)]\n",
    "#     return zon_n.values"
   ]
  },
  {
   "cell_type": "code",
   "execution_count": 51,
   "metadata": {},
   "outputs": [],
   "source": [
    "def get_zon_hor(h,z):\n",
    "    hora_n = df.query('hora == {}'.format(h))\n",
    "    zon_n = hora_n['{}'.format(z)]\n",
    "    # para quitar el dia que se va a predecir\n",
    "#     zon_n.drop(zon_n.tail(365).index, inplace=True)\n",
    "    # para quitar dias extremos\n",
    "    zon_n = zon_n.reset_index(drop = True)\n",
    "    zon_n = zon_n.drop(np.where((np.abs(stats.zscore(zon_n)))>4.5)[0])\n",
    "    zon_n = zon_n.reset_index(drop = True)\n",
    "    zon_n = zon_n[zon_n>1]\n",
    "    # para quitar tendencia (no sirve por el momento)\n",
    "#     zon_n = polynomial(zon_n, order=2)\n",
    "    return zon_n"
   ]
  },
  {
   "cell_type": "code",
   "execution_count": 52,
   "metadata": {},
   "outputs": [],
   "source": [
    "# def get_dums(h):\n",
    "#     dem = ['hora',]# 'year', 'month']\n",
    "#     zro =  sonas() #+dem\n",
    "#     sin_zonas = df[df[\"hora\"]==h]\n",
    "#     sin_zonas=sin_zonas.reset_index()\n",
    "#     sin_zonas = sin_zonas.drop(zro,  axis=1)\n",
    "#     sin_zonas = sin_zonas.drop('index', axis=1)\n",
    "#     return  sin_zonas"
   ]
  },
  {
   "cell_type": "code",
   "execution_count": 53,
   "metadata": {},
   "outputs": [],
   "source": [
    "def get_dums(h, z):\n",
    "    dem = ['hora',]# 'year', 'month']\n",
    "    zro =  sonas() #+dem\n",
    "    sin_zonas = df[df[\"hora\"]==h]\n",
    "    # para quitar los dias que se van a predecir\n",
    "#     sin_zonas.drop(sin_zonas.tail(365).index,inplace=True)\n",
    "    sin_zonas = sin_zonas.reset_index(drop = True)\n",
    "    # para quitar dias extremos\n",
    "    sin_zonas = sin_zonas.drop(np.where((np.abs(stats.zscore(sin_zonas[f\"{z}\"])))>4.5)[0])\n",
    "    sin_zonas = sin_zonas.query(f\"{z} > 1\")\n",
    "    sin_zonas = sin_zonas.reset_index(drop = True)\n",
    "    #quitar zonas\n",
    "    sin_zonas = sin_zonas.drop(zro,  axis=1)\n",
    "    return  sin_zonas"
   ]
  },
  {
   "cell_type": "code",
   "execution_count": 250,
   "metadata": {},
   "outputs": [],
   "source": [
    "def get_max_pts(h, z, armon):\n",
    "    from  scipy import signal\n",
    "    x = get_zon_hor(1, \"zona_1\")\n",
    "    f, asd = signal.periodogram(x, fs=1)\n",
    "    peaks, _ = find_peaks(asd, height=0)\n",
    "    altura = _['peak_heights']\n",
    "    fan = 1/(f[peaks])\n",
    "    app = pd.DataFrame(altura, fan, columns=[\"altura_pk\"]).sort_values(by=\"altura_pk\",ascending=False).head(armon).iloc[armon-1:]\n",
    "    return app;"
   ]
  },
  {
   "cell_type": "code",
   "execution_count": 82,
   "metadata": {},
   "outputs": [],
   "source": [
    "def get_sc_coef(h, z, armon):\n",
    "    X = pd.DataFrame()\n",
    "    t = np.arange(len(get_zon_hor(h, z)))\n",
    "    X[\"te\"] = t \n",
    "    p = get_max_pts(h, z, armon)\n",
    "    for i  in p.index:\n",
    "        X[\"{}_sen\".format(i)] = (np.sin((t*2*np.pi)/i))\n",
    "        X[\"{}_cos\".format(i)] = (np.cos((t*2*np.pi)/i))\n",
    "    X[\"unos\"] = 1\n",
    "    X = X.drop(\"te\", axis = 1)\n",
    "    return X"
   ]
  },
  {
   "cell_type": "code",
   "execution_count": 68,
   "metadata": {},
   "outputs": [],
   "source": [
    "def kron_conv(h, z, armon):\n",
    "    dm1 = get_dums(h, z); dm2 = get_sc_coef(h, z, armon)\n",
    "    d3 = pd.DataFrame(); kron = pd.DataFrame()\n",
    "    for i in dm2.columns:\n",
    "        d3 = dm1.multiply(dm2[f\"{i}\"], axis=\"index\")\n",
    "        d3.columns = [f\"{j}_{i}\" for j in dm1.columns]\n",
    "        kron = pd.concat([kron, d3], axis = 1)\n",
    "    X = kron.reset_index()\n",
    "    X2 = pd.concat([X, dm1, dm2], sort = False, axis=1)\n",
    "    X2 = X2.drop('index', axis = 1)\n",
    "    X2 = X2.drop('unos', axis = 1)\n",
    "    return X2"
   ]
  },
  {
   "cell_type": "code",
   "execution_count": 69,
   "metadata": {},
   "outputs": [],
   "source": [
    "def MAPE(y_true, y_pred):\n",
    "    y_true, y_pred = np.array(y_true), np.array(y_pred)\n",
    "    ma = np.mean(np.abs((y_true - y_pred) / y_true)) * 100\n",
    "    return ma"
   ]
  },
  {
   "cell_type": "code",
   "execution_count": 80,
   "metadata": {},
   "outputs": [],
   "source": [
    "def get_train_split_sick(X, y, dias):\n",
    "    X_train, X_test, y_train, y_test = train_test_split(X, y, test_size = dias/len(y), shuffle = False)\n",
    "    return X_train, X_test, y_train, y_test"
   ]
  },
  {
   "cell_type": "code",
   "execution_count": 71,
   "metadata": {},
   "outputs": [],
   "source": [
    "def get_train_split_xgb(X, y, dias):\n",
    "    X_train, X_test, y_train, y_test = train_test_split(X, y, test_size = 0.5, shuffle = False)\n",
    "    X_val, X_test, y_val, y_test = train_test_split(X_test, y_test, test_size = dias/len(y_test), shuffle = False)\n",
    "    return X_train, X_test, X_val, y_train, y_test, y_val "
   ]
  },
  {
   "cell_type": "code",
   "execution_count": 72,
   "metadata": {},
   "outputs": [],
   "source": [
    "def regSck(h, z, armon, dias):\n",
    "    y = np.array(get_zon_hor(h, z))\n",
    "    X = kron_conv(h, z, armon)\n",
    "    #Regressión con scikitlearn\n",
    "    X_tr, X_te, y_tr, y_te = get_train_split_sick(X, y, dias)\n",
    "    regress = LinearRegression(n_jobs = -1).fit(X_tr, y_tr)\n",
    "    y_pred = regress.predict(X_te)\n",
    "    m1 = MAPE(y_te, y_pred)\n",
    "    \n",
    "    return m1, y_pred"
   ]
  },
  {
   "cell_type": "code",
   "execution_count": 77,
   "metadata": {},
   "outputs": [],
   "source": [
    "def regXGB(h, z, armon, dias):\n",
    "    y = np.array(get_zon_hor(h, z))\n",
    "    X = kron_conv(h, z, armon)\n",
    "     #Regressión con XGBoost\n",
    "    X_train, X_test, X_val, y_train, y_test, y_val = get_train_split_xgb(X, y, dias)\n",
    "    regress2 = XGBRegressor(objective ='reg:squarederror', n_jobs=-1, max_depth=3, learning_rate=1.5, n_estimators=5)\n",
    "    regress2.fit(X_train, y_train, eval_set=[(X,y),(X_val,y_val)], verbose=0, early_stopping_rounds=50)\n",
    "    y_pred2 = regress2.predict(X_test)\n",
    "    m2 = MAPE(y_test, y_pred2)\n",
    "    \n",
    "    return m2, y_pred2"
   ]
  },
  {
   "cell_type": "code",
   "execution_count": 78,
   "metadata": {},
   "outputs": [],
   "source": [
    "def regAR(h, z):\n",
    "    y = pd.Series(get_zon_hor(h, z))\n",
    "    y_train, y_test = train_test_split(y, test_size = dias/len(y), shuffle = False)\n",
    "    \n",
    "    #Regresión con Autoregresión\n",
    "    regresar = AR(y_train).fit()\n",
    "    y_predico = regresar.predict(start=len(y_train), end=len(y_train) + len(y_test)-1, dynamic=False)\n",
    "    m3 = MAPE(y_test, y_predico)\n",
    "    return m3, y_predico"
   ]
  },
  {
   "cell_type": "markdown",
   "metadata": {},
   "source": [
    "# Llamar datos"
   ]
  },
  {
   "cell_type": "code",
   "execution_count": 238,
   "metadata": {},
   "outputs": [],
   "source": [
    "pkl_file = open('Excels/mapes_365_sextre.pkl', 'rb')\n",
    "EAD = pickle.load(pkl_file)\n",
    "pkl_file.close()\n",
    "ED = EAD[\"mape\"]"
   ]
  },
  {
   "cell_type": "code",
   "execution_count": 248,
   "metadata": {},
   "outputs": [],
   "source": [
    "z = 7\n",
    "EM = pd.DataFrame()\n",
    "ED[f\"zona_{z}\"] = ED[f\"zona_{z}\"].rename(columns={'AR':'AR_-1_-1'})\n",
    "EM[[\"model\", \"armon\", \"dli\"]] = ED[f\"zona_{z}\"].idxmin(axis = 1).str.split('_',-1, expand=True)\n",
    "EM[[\"armon\", \"dli\"]] = EM[[\"armon\", \"dli\"]].astype(int)#, errors = 'ignore')\n",
    "EM = EM.replace(['Sck', 'XGB','AR'],[1,2, 3])"
   ]
  },
  {
   "cell_type": "code",
   "execution_count": 340,
   "metadata": {},
   "outputs": [
    {
     "data": {
      "text/plain": [
       "1      Sck_2_2\n",
       "2      XGB_0_0\n",
       "3      Sck_2_2\n",
       "4      Sck_2_2\n",
       "5      Sck_2_2\n",
       "6      Sck_2_5\n",
       "7      Sck_2_0\n",
       "8      Sck_2_0\n",
       "9      XGB_2_3\n",
       "10     XGB_0_3\n",
       "11     XGB_0_3\n",
       "12    AR_-1_-1\n",
       "13    AR_-1_-1\n",
       "14     Sck_2_1\n",
       "15     Sck_2_4\n",
       "16     Sck_2_4\n",
       "17     Sck_2_4\n",
       "18     Sck_2_4\n",
       "19     XGB_0_4\n",
       "20     XGB_0_2\n",
       "21     XGB_0_1\n",
       "22     Sck_2_1\n",
       "23     Sck_2_4\n",
       "24     XGB_0_4\n",
       "dtype: object"
      ]
     },
     "execution_count": 340,
     "metadata": {},
     "output_type": "execute_result"
    }
   ],
   "source": [
    "ED[\"zona_4\"].idxmin(axis = 1)"
   ]
  },
  {
   "cell_type": "markdown",
   "metadata": {},
   "source": [
    "## Guardar datos"
   ]
  },
  {
   "cell_type": "code",
   "execution_count": 254,
   "metadata": {},
   "outputs": [],
   "source": [
    "def reg_specificas(dias=365):\n",
    "    r = {}; y_p = {}\n",
    "    for z in range(1, 27):\n",
    "        EM = pd.DataFrame()\n",
    "        ED[f\"zona_{z}\"] = ED[f\"zona_{z}\"].rename(columns={'AR':'AR_-1_-1'})\n",
    "        EM[[\"model\", \"armon\", \"dli\"]] = ED[f\"zona_{z}\"].idxmin(axis = 1).str.split('_', expand=True)\n",
    "        EM[[\"armon\", \"dli\"]] = EM[[\"armon\", \"dli\"]].astype(int)\n",
    "        EM = EM.replace(['Sck', 'XGB','AR'],[1,2, 3])\n",
    "        r[f\"zona_{z}\"] = []; y_p[f\"zona_{z}\"] = []\n",
    "        for h, a, armon, datos in zip(EM.index, EM[\"model\"], EM[\"armon\"], EM[\"dli\"]):  \n",
    "\n",
    "            if armon and datos == -1:\n",
    "                r_, y_p_  = regAR(h, f\"zona_{z}\")\n",
    "                r[f\"zona_{z}\"].append(r_); y_p[f\"zona_{z}\"].append(y_p_)\n",
    "            if a == 1:\n",
    "                r_, y_p_ = regSck(h, f\"zona_{z}\", armon, dias)\n",
    "                r[f\"zona_{z}\"].append(r_); y_p[f\"zona_{z}\"].append(y_p_)\n",
    "\n",
    "            if a == 2:\n",
    "                r_, y_p_ = regXGB(h, f\"zona_{z}\", armon, dias)\n",
    "                r[f\"zona_{z}\"].append(r_); y_p[f\"zona_{z}\"].append(y_p_)\n",
    "    \n",
    "    ro = pd.DataFrame(r, index = range(1, 25)); yo = pd.DataFrame(y_p, index = range(1, 25))\n",
    "    FNE = {\"mape\": ro, \"pred\": yo}\n",
    "    output = open(f'Modelos/modelos.pkl', 'wb'); pickle.dump(FNE, output); output.close()\n",
    "    return FNE"
   ]
  },
  {
   "cell_type": "code",
   "execution_count": 255,
   "metadata": {},
   "outputs": [
    {
     "name": "stderr",
     "output_type": "stream",
     "text": [
      "C:\\Users\\alber\\Anaconda3\\lib\\site-packages\\statsmodels\\tsa\\base\\tsa_model.py:215: ValueWarning: An unsupported index was provided and will be ignored when e.g. forecasting.\n",
      "  ' ignored when e.g. forecasting.', ValueWarning)\n",
      "C:\\Users\\alber\\Anaconda3\\lib\\site-packages\\statsmodels\\tsa\\base\\tsa_model.py:576: ValueWarning: No supported index is available. Prediction results will be given with an integer index beginning at `start`.\n",
      "  ValueWarning)\n"
     ]
    }
   ],
   "source": [
    "FNE = reg_specificas(365)"
   ]
  },
  {
   "cell_type": "code",
   "execution_count": 320,
   "metadata": {},
   "outputs": [],
   "source": [
    "FNE[\"pred\"].loc[1, \"zona_9\"];"
   ]
  },
  {
   "cell_type": "code",
   "execution_count": 319,
   "metadata": {},
   "outputs": [],
   "source": [
    "get_zon_hor(9, \"zona_1\").tail(365).values;"
   ]
  },
  {
   "cell_type": "code",
   "execution_count": 365,
   "metadata": {},
   "outputs": [
    {
     "data": {
      "text/plain": [
       "[<matplotlib.lines.Line2D at 0x239dc892c50>]"
      ]
     },
     "execution_count": 365,
     "metadata": {},
     "output_type": "execute_result"
    },
    {
     "data": {
      "image/png": "[encoded data removed]",
      "text/plain": [
       "<Figure size 432x288 with 1 Axes>"
      ]
     },
     "metadata": {
      "needs_background": "light"
     },
     "output_type": "display_data"
    }
   ],
   "source": [
    "plt.plot(get_zon_hor(19,\"zona_4\").tail(365).values)\n",
    "plt.plot(FNE[\"pred\"].loc[19,\"zona_4\"])"
   ]
  },
  {
   "cell_type": "code",
   "execution_count": null,
   "metadata": {},
   "outputs": [],
   "source": [
    "porque unos se ajustan mehor que otros"
   ]
  },
  {
   "cell_type": "code",
   "execution_count": 347,
   "metadata": {},
   "outputs": [
    {
     "data": {
      "text/plain": [
       "[<matplotlib.lines.Line2D at 0x239c266a940>]"
      ]
     },
     "execution_count": 347,
     "metadata": {},
     "output_type": "execute_result"
    },
    {
     "data": {
      "image/png": "[encoded data removed]",
      "text/plain": [
       "<Figure size 432x288 with 1 Axes>"
      ]
     },
     "metadata": {
      "needs_background": "light"
     },
     "output_type": "display_data"
    }
   ],
   "source": [
    "plt.plot(get_zon_hor(21, \"zona_4\"))"
   ]
  },
  {
   "cell_type": "code",
   "execution_count": null,
   "metadata": {},
   "outputs": [],
   "source": []
  }
 ],
 "metadata": {
  "kernelspec": {
   "display_name": "Python 3",
   "language": "python",
   "name": "python3"
  },
  "language_info": {
   "codemirror_mode": {
    "name": "ipython",
    "version": 3
   },
   "file_extension": ".py",
   "mimetype": "text/x-python",
   "name": "python",
   "nbconvert_exporter": "python",
   "pygments_lexer": "ipython3",
   "version": "3.7.3"
  }
 },
 "nbformat": 4,
 "nbformat_minor": 2
}
