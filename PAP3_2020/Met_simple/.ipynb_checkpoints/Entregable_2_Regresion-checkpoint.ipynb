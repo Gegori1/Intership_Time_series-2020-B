{
 "cells": [
  {
   "cell_type": "markdown",
   "metadata": {},
   "source": [
    "- This algorithm uses energy consumption data. \n",
    "- Gets already cleaned dataset and divides it into hourly and locational subsets\n",
    "- Uses multiple combinations of input variables to predict values. "
   ]
  },
  {
   "cell_type": "code",
   "execution_count": 1,
   "metadata": {},
   "outputs": [],
   "source": [
    "%matplotlib inline\n",
    "import matplotlib.pyplot as plt\n",
    "import pandas as pd\n",
    "import numpy as np\n",
    "import seaborn as sns\n",
    "from scipy.signal import find_peaks\n",
    "from pandas import read_csv, read_pickle\n",
    "from time import time \n",
    "import pickle\n",
    "from obspy.signal.detrend import polynomial\n",
    "import warnings\n",
    "from scipy import stats, signal\n",
    "warnings.filterwarnings(\"ignore\")"
   ]
  },
  {
   "cell_type": "markdown",
   "metadata": {},
   "source": [
    "### Categorical variables"
   ]
  },
  {
   "cell_type": "markdown",
   "metadata": {},
   "source": [
    "#### Public Holidays "
   ]
  },
  {
   "cell_type": "markdown",
   "metadata": {},
   "source": [
    "Public holidays were added in a column with penalization (-1)"
   ]
  },
  {
   "cell_type": "code",
   "execution_count": 19,
   "metadata": {},
   "outputs": [],
   "source": [
    "def dum_fest(df):\n",
    "    cata = []; fes = read_csv(\"Excels/festivos.csv\")\n",
    "    for j in range(len(fes.index)):\n",
    "            festiveDay = df.loc[(df.year==fes[\"Year\"][j]) & (df.month==fes[\"Month\"][j]) & (df.day==fes[\"Day\"][j])].index.values.tolist()\n",
    "            cata = cata + festiveDay\n",
    "\n",
    "    df['fest'] = np.nan; df.fest = df.fest.fillna(pd.Series(-1, index=cata))\n",
    "    df.fest = df.fest.fillna(0)\n",
    "    #Quitar los dias festivos\n",
    "    df = df.query(\"fest == 0\")\n",
    "    df = df.drop(\"fest\", axis = 1)\n",
    "    return df"
   ]
  },
  {
   "cell_type": "markdown",
   "metadata": {},
   "source": [
    "#### daily dummies"
   ]
  },
  {
   "cell_type": "markdown",
   "metadata": {},
   "source": [
    "Tuesday-Wednesday-Thurday as one behavior"
   ]
  },
  {
   "cell_type": "code",
   "execution_count": 18,
   "metadata": {},
   "outputs": [],
   "source": [
    "# lunes   martes-miercoles-jueves   viernes   sabado   domingo\n",
    "def dum_dia(df):\n",
    "    df.día_semana=df.día_semana.apply(lambda x: 1 if x==1 else (2 if x in [2,3,4] else (3 if x==5 else (4 if x==6 else 0))))\n",
    "    df = pd.get_dummies(df, prefix=['d_sm'], columns=['día_semana'])\n",
    "    df = df.drop(\"d_sm_0\", axis = 1)\n",
    "    return df"
   ]
  },
  {
   "cell_type": "markdown",
   "metadata": {},
   "source": [
    "One behavior for each day"
   ]
  },
  {
   "cell_type": "code",
   "execution_count": 3,
   "metadata": {},
   "outputs": [],
   "source": [
    "# # lunes  martes  miercoles  jueves  viernes  sabado  domingo\n",
    "# def dum_dia(df):\n",
    "#     df.día_semana=df.día_semana.apply(lambda x: 1 if x==1 else (2 if x==2 else (3 if x==3 else (4 if x==4 else (5 if x==5 else (6 if x==6 else 0))))))\n",
    "#     df = pd.get_dummies(df, prefix=['d_sm'], columns=['día_semana'])\n",
    "# #     df = df.drop(\"d_sm_0\", axis = 1)\n",
    "#     return df"
   ]
  },
  {
   "cell_type": "markdown",
   "metadata": {},
   "source": [
    "#### \"Seasonal dummies"
   ]
  },
  {
   "cell_type": "code",
   "execution_count": 17,
   "metadata": {},
   "outputs": [],
   "source": [
    "def dum_seas(df):\n",
    "    df['seas'] = np.nan\n",
    "    pr = df.query('day == 21 and month ==3').index\n",
    "    vr = df.query('day == 21 and month == 6').index\n",
    "    ot = df.query('day == 21 and month == 9').index\n",
    "    inv= df.query('day == 21 and month == 12').index\n",
    "\n",
    "    df.seas = df.seas.fillna(pd.Series(0, index=pr))\n",
    "    df.seas = df.seas.fillna(pd.Series(1, index=vr))\n",
    "    df.seas = df.seas.fillna(pd.Series(2, index=ot))\n",
    "    df.seas = df.seas.fillna(pd.Series(3, index=inv))\n",
    "\n",
    "    df.seas = df.seas.fillna(method= 'ffill')\n",
    "    df.seas = df.seas.fillna(method= 'bfill')\n",
    "\n",
    "    df = pd.get_dummies(df, prefix=['s_s'], columns=['seas'])\n",
    "    df = df.drop(\"s_s_3.0\", axis = 1)\n",
    "\n",
    "    return df"
   ]
  },
  {
   "cell_type": "markdown",
   "metadata": {},
   "source": [
    "##### Monthly dummies"
   ]
  },
  {
   "cell_type": "code",
   "execution_count": 16,
   "metadata": {},
   "outputs": [],
   "source": [
    "#     Enero, Febrero, Marzo, Abril, Mayo, Junio, Julio, Agosto, Septiembre, Octubre, Noviembre\n",
    "def dum_mensual(df):\n",
    "    df = pd.get_dummies(df, prefix=['mon'], columns=['month'])\n",
    "    df = df.drop(\"mon_12\", axis = 1)\n",
    "    return df"
   ]
  },
  {
   "cell_type": "code",
   "execution_count": 6,
   "metadata": {},
   "outputs": [],
   "source": [
    "def sonas(): \n",
    "    return [\"zona_{}\".format(i+1) for i in range(26)]"
   ]
  },
  {
   "cell_type": "markdown",
   "metadata": {},
   "source": [
    "-------------------------------------------------------------------------------------------------------------------------"
   ]
  },
  {
   "cell_type": "markdown",
   "metadata": {},
   "source": [
    "## function definition for data fitting"
   ]
  },
  {
   "cell_type": "markdown",
   "metadata": {},
   "source": [
    "The time series was divided into hourly sets to remove some periodicities of the series"
   ]
  },
  {
   "cell_type": "markdown",
   "metadata": {},
   "source": [
    "`get_zon_hor`: takes as parameters hour (h) and energy zone (z). Divide time series by hour and location, and remove future predicted values"
   ]
  },
  {
   "cell_type": "code",
   "execution_count": 7,
   "metadata": {},
   "outputs": [],
   "source": [
    "def get_zon_hor(h,z):\n",
    "    zon_n = df[df[\"hora\"]==h][f'{z}']\n",
    "    # drops the data to be predicted\n",
    "    zon_n.drop(zon_n.tail(365).index, inplace=True)\n",
    "    \n",
    "#     # deltes extreme values\n",
    "#     zon_n = zon_n.reset_index(drop = True)\n",
    "#     zon_n = zon_n.drop(np.where((np.abs(stats.zscore(zon_n)))>4.5)[0])\n",
    "#     zon_n = zon_n.reset_index(drop = True)\n",
    "#     zon_n = zon_n[zon_n>1]\n",
    "    \n",
    "    return zon_n"
   ]
  },
  {
   "cell_type": "code",
   "execution_count": 8,
   "metadata": {},
   "outputs": [],
   "source": [
    "# len(get_zon_hor(2, \"zona_6\"))"
   ]
  },
  {
   "cell_type": "code",
   "execution_count": 9,
   "metadata": {},
   "outputs": [],
   "source": [
    "# plt.plot(get_zon_hor(1, \"zona_6\"));\n",
    "# todos de la zona 6 y 13 se parecen"
   ]
  },
  {
   "cell_type": "markdown",
   "metadata": {},
   "source": [
    "`get_dums`: takes hour (h) and energy location (z). divide independent variables into hourly and locational subsets."
   ]
  },
  {
   "cell_type": "code",
   "execution_count": 10,
   "metadata": {},
   "outputs": [],
   "source": [
    "def get_dums(h, z):\n",
    "#     dem = ['hora',]# 'year', 'month']\n",
    "    zro =  sonas() #+dem\n",
    "    sin_zonas = df[df[\"hora\"]==h]\n",
    "    \n",
    "    # drops futurly predicted data\n",
    "    sin_zonas.drop(sin_zonas.tail(365).index,inplace=True)\n",
    "    sin_zonas = sin_zonas.reset_index(drop = True)\n",
    "    \n",
    "#     # removes extreme days\n",
    "#     sin_zonas = sin_zonas.drop(np.where((np.abs(stats.zscore(sin_zonas[f\"{z}\"])))>4.5)[0])\n",
    "#     sin_zonas = sin_zonas.query(f\"{z} > 1\")\n",
    "    sin_zonas = sin_zonas.reset_index(drop = True)\n",
    "    #quitar zonas\n",
    "    sin_zonas = sin_zonas.drop(zro,  axis=1)\n",
    "    return  sin_zonas"
   ]
  },
  {
   "cell_type": "code",
   "execution_count": 24,
   "metadata": {},
   "outputs": [
    {
     "data": {
      "text/html": [
       "<div>\n",
       "<style scoped>\n",
       "    .dataframe tbody tr th:only-of-type {\n",
       "        vertical-align: middle;\n",
       "    }\n",
       "\n",
       "    .dataframe tbody tr th {\n",
       "        vertical-align: top;\n",
       "    }\n",
       "\n",
       "    .dataframe thead th {\n",
       "        text-align: right;\n",
       "    }\n",
       "</style>\n",
       "<table border=\"1\" class=\"dataframe\">\n",
       "  <thead>\n",
       "    <tr style=\"text-align: right;\">\n",
       "      <th></th>\n",
       "      <th>hora</th>\n",
       "      <th>year</th>\n",
       "      <th>day</th>\n",
       "      <th>fest</th>\n",
       "      <th>d_sm_1</th>\n",
       "      <th>d_sm_2</th>\n",
       "      <th>d_sm_3</th>\n",
       "      <th>d_sm_4</th>\n",
       "      <th>s_s_0.0</th>\n",
       "      <th>s_s_1.0</th>\n",
       "      <th>...</th>\n",
       "      <th>mon_2</th>\n",
       "      <th>mon_3</th>\n",
       "      <th>mon_4</th>\n",
       "      <th>mon_5</th>\n",
       "      <th>mon_6</th>\n",
       "      <th>mon_7</th>\n",
       "      <th>mon_8</th>\n",
       "      <th>mon_9</th>\n",
       "      <th>mon_10</th>\n",
       "      <th>mon_11</th>\n",
       "    </tr>\n",
       "  </thead>\n",
       "  <tbody>\n",
       "    <tr>\n",
       "      <th>0</th>\n",
       "      <td>1</td>\n",
       "      <td>2015</td>\n",
       "      <td>1</td>\n",
       "      <td>0.0</td>\n",
       "      <td>1</td>\n",
       "      <td>0</td>\n",
       "      <td>0</td>\n",
       "      <td>0</td>\n",
       "      <td>0</td>\n",
       "      <td>0</td>\n",
       "      <td>...</td>\n",
       "      <td>0</td>\n",
       "      <td>0</td>\n",
       "      <td>0</td>\n",
       "      <td>0</td>\n",
       "      <td>0</td>\n",
       "      <td>0</td>\n",
       "      <td>0</td>\n",
       "      <td>0</td>\n",
       "      <td>0</td>\n",
       "      <td>0</td>\n",
       "    </tr>\n",
       "    <tr>\n",
       "      <th>1</th>\n",
       "      <td>1</td>\n",
       "      <td>2015</td>\n",
       "      <td>2</td>\n",
       "      <td>0.0</td>\n",
       "      <td>0</td>\n",
       "      <td>1</td>\n",
       "      <td>0</td>\n",
       "      <td>0</td>\n",
       "      <td>0</td>\n",
       "      <td>0</td>\n",
       "      <td>...</td>\n",
       "      <td>0</td>\n",
       "      <td>0</td>\n",
       "      <td>0</td>\n",
       "      <td>0</td>\n",
       "      <td>0</td>\n",
       "      <td>0</td>\n",
       "      <td>0</td>\n",
       "      <td>0</td>\n",
       "      <td>0</td>\n",
       "      <td>0</td>\n",
       "    </tr>\n",
       "    <tr>\n",
       "      <th>2</th>\n",
       "      <td>1</td>\n",
       "      <td>2015</td>\n",
       "      <td>3</td>\n",
       "      <td>0.0</td>\n",
       "      <td>0</td>\n",
       "      <td>1</td>\n",
       "      <td>0</td>\n",
       "      <td>0</td>\n",
       "      <td>0</td>\n",
       "      <td>0</td>\n",
       "      <td>...</td>\n",
       "      <td>0</td>\n",
       "      <td>0</td>\n",
       "      <td>0</td>\n",
       "      <td>0</td>\n",
       "      <td>0</td>\n",
       "      <td>0</td>\n",
       "      <td>0</td>\n",
       "      <td>0</td>\n",
       "      <td>0</td>\n",
       "      <td>0</td>\n",
       "    </tr>\n",
       "    <tr>\n",
       "      <th>3</th>\n",
       "      <td>1</td>\n",
       "      <td>2015</td>\n",
       "      <td>4</td>\n",
       "      <td>0.0</td>\n",
       "      <td>0</td>\n",
       "      <td>1</td>\n",
       "      <td>0</td>\n",
       "      <td>0</td>\n",
       "      <td>0</td>\n",
       "      <td>0</td>\n",
       "      <td>...</td>\n",
       "      <td>0</td>\n",
       "      <td>0</td>\n",
       "      <td>0</td>\n",
       "      <td>0</td>\n",
       "      <td>0</td>\n",
       "      <td>0</td>\n",
       "      <td>0</td>\n",
       "      <td>0</td>\n",
       "      <td>0</td>\n",
       "      <td>0</td>\n",
       "    </tr>\n",
       "    <tr>\n",
       "      <th>4</th>\n",
       "      <td>1</td>\n",
       "      <td>2015</td>\n",
       "      <td>5</td>\n",
       "      <td>0.0</td>\n",
       "      <td>0</td>\n",
       "      <td>0</td>\n",
       "      <td>1</td>\n",
       "      <td>0</td>\n",
       "      <td>0</td>\n",
       "      <td>0</td>\n",
       "      <td>...</td>\n",
       "      <td>0</td>\n",
       "      <td>0</td>\n",
       "      <td>0</td>\n",
       "      <td>0</td>\n",
       "      <td>0</td>\n",
       "      <td>0</td>\n",
       "      <td>0</td>\n",
       "      <td>0</td>\n",
       "      <td>0</td>\n",
       "      <td>0</td>\n",
       "    </tr>\n",
       "  </tbody>\n",
       "</table>\n",
       "<p>5 rows × 22 columns</p>\n",
       "</div>"
      ],
      "text/plain": [
       "   hora  year  day  fest  d_sm_1  d_sm_2  d_sm_3  d_sm_4  s_s_0.0  s_s_1.0  \\\n",
       "0     1  2015    1   0.0       1       0       0       0        0        0   \n",
       "1     1  2015    2   0.0       0       1       0       0        0        0   \n",
       "2     1  2015    3   0.0       0       1       0       0        0        0   \n",
       "3     1  2015    4   0.0       0       1       0       0        0        0   \n",
       "4     1  2015    5   0.0       0       0       1       0        0        0   \n",
       "\n",
       "   ...  mon_2  mon_3  mon_4  mon_5  mon_6  mon_7  mon_8  mon_9  mon_10  mon_11  \n",
       "0  ...      0      0      0      0      0      0      0      0       0       0  \n",
       "1  ...      0      0      0      0      0      0      0      0       0       0  \n",
       "2  ...      0      0      0      0      0      0      0      0       0       0  \n",
       "3  ...      0      0      0      0      0      0      0      0       0       0  \n",
       "4  ...      0      0      0      0      0      0      0      0       0       0  \n",
       "\n",
       "[5 rows x 22 columns]"
      ]
     },
     "execution_count": 24,
     "metadata": {},
     "output_type": "execute_result"
    }
   ],
   "source": [
    "get_dums(1, \"zona_1\").head()"
   ]
  },
  {
   "cell_type": "markdown",
   "metadata": {},
   "source": [
    "`get_max_pts`: takes as inputs h, z, and the number of period values to consider (armon). gets period of series through Fourier transformation \n",
    "\n",
    "<font size=\"1\">The first value is the periodicity found due to the series symmetry; therefore, it starts recollecting data starting with the second value.</font>"
   ]
  },
  {
   "cell_type": "code",
   "execution_count": 28,
   "metadata": {},
   "outputs": [],
   "source": [
    "def get_max_pts(h, z, armon):\n",
    "    f, asd = signal.periodogram(get_zon_hor(h, z))\n",
    "    peaks, _ = find_peaks(asd, height=0)\n",
    "    plt.plot(1/f, asd)\n",
    "    return pd.DataFrame(_['peak_heights'], 1/(f[peaks]), columns=[\"altura_pk\"]).sort_values(by=\"altura_pk\",ascending=False).head(armon).iloc[armon-1:]"
   ]
  },
  {
   "cell_type": "code",
   "execution_count": 30,
   "metadata": {},
   "outputs": [
    {
     "data": {
      "text/html": [
       "<div>\n",
       "<style scoped>\n",
       "    .dataframe tbody tr th:only-of-type {\n",
       "        vertical-align: middle;\n",
       "    }\n",
       "\n",
       "    .dataframe tbody tr th {\n",
       "        vertical-align: top;\n",
       "    }\n",
       "\n",
       "    .dataframe thead th {\n",
       "        text-align: right;\n",
       "    }\n",
       "</style>\n",
       "<table border=\"1\" class=\"dataframe\">\n",
       "  <thead>\n",
       "    <tr style=\"text-align: right;\">\n",
       "      <th></th>\n",
       "      <th>altura_pk</th>\n",
       "    </tr>\n",
       "  </thead>\n",
       "  <tbody>\n",
       "    <tr>\n",
       "      <th>6.994975</th>\n",
       "      <td>448913.699459</td>\n",
       "    </tr>\n",
       "  </tbody>\n",
       "</table>\n",
       "</div>"
      ],
      "text/plain": [
       "              altura_pk\n",
       "6.994975  448913.699459"
      ]
     },
     "execution_count": 30,
     "metadata": {},
     "output_type": "execute_result"
    },
    {
     "data": {
      "image/png": "[encoded data removed]",
      "text/plain": [
       "<Figure size 432x288 with 1 Axes>"
      ]
     },
     "metadata": {
      "needs_background": "light"
     },
     "output_type": "display_data"
    }
   ],
   "source": [
    "get_max_pts(1, \"zona_1\", 2)"
   ]
  },
  {
   "cell_type": "markdown",
   "metadata": {
    "ExecuteTime": {
     "end_time": "2021-01-10T15:04:57.047924Z",
     "start_time": "2021-01-10T15:04:57.028943Z"
    }
   },
   "source": [
    "`get_sc_coef`:creates columns with the Fourier series' first coefficient "
   ]
  },
  {
   "cell_type": "code",
   "execution_count": 31,
   "metadata": {},
   "outputs": [],
   "source": [
    "def get_sc_coef(h, z, armon):\n",
    "    X = pd.DataFrame()\n",
    "    t = np.arange(len(get_zon_hor(h, z)))\n",
    "    X[\"unos\"] = [1]*len(t)\n",
    "    p = get_max_pts(h, z, armon)\n",
    "    for i  in p.index:\n",
    "        X[f\"{i}_sen\"] = np.sin((t*2*np.pi)/i)\n",
    "        X[f\"{i}_cos\"] = np.cos((t*2*np.pi)/i)\n",
    "    return X"
   ]
  },
  {
   "cell_type": "code",
   "execution_count": 34,
   "metadata": {},
   "outputs": [
    {
     "data": {
      "image/png": "[encoded data removed]",
      "text/plain": [
       "<Figure size 432x288 with 1 Axes>"
      ]
     },
     "metadata": {
      "needs_background": "light"
     },
     "output_type": "display_data"
    }
   ],
   "source": [
    "get_sc_coef(1, \"zona_1\", 2);"
   ]
  },
  {
   "cell_type": "code",
   "execution_count": 181,
   "metadata": {},
   "outputs": [],
   "source": [
    "# plt.figure(figsize=(20, 10))\n",
    "# plt.plot(get_sc_coef(1,\"zona_1\", 5).sum(axis = 1)*10);\n",
    "# plt.plot(get_zon_hor(1, \"zona_1\"));"
   ]
  },
  {
   "cell_type": "markdown",
   "metadata": {},
   "source": [
    "Linear Kronecker was computed between frequency-dependent variables and seasonal variables to get correlation coefficients.\n",
    "\n",
    "The original matrices were added to the just computed matrix."
   ]
  },
  {
   "cell_type": "markdown",
   "metadata": {
    "ExecuteTime": {
     "end_time": "2021-01-10T15:33:58.069944Z",
     "start_time": "2021-01-10T15:33:58.045928Z"
    }
   },
   "source": [
    "`kron_conv`: computes linear Kronecker and adds original matrices to it."
   ]
  },
  {
   "cell_type": "code",
   "execution_count": 12,
   "metadata": {},
   "outputs": [],
   "source": [
    "def kron_conv(h, z, armon):\n",
    "    dm1 = get_dums(h, z); dm2 = get_sc_coef(h, z, armon)\n",
    "    d3 = pd.DataFrame(); kron = pd.DataFrame()\n",
    "    for i in dm2.columns:\n",
    "        d3 = dm1.multiply(dm2[f\"{i}\"], axis=\"index\")\n",
    "        d3.columns = [f\"{j}_{i}\" for j in dm1.columns]\n",
    "        kron = pd.concat([kron, d3], axis = 1)\n",
    "    X = kron.reset_index(drop = True)\n",
    "    X2 = pd.concat([X, dm1, dm2], sort = False, axis=1)\n",
    "    X2 = X2.drop('unos', axis = 1)\n",
    "    return X2"
   ]
  },
  {
   "cell_type": "markdown",
   "metadata": {},
   "source": [
    "- Score metric functions\n",
    "\n",
    "`MAPE`: returns MAPE value\n",
    "\n",
    "`Mape_hor`: returns error between input and output"
   ]
  },
  {
   "cell_type": "code",
   "execution_count": 1,
   "metadata": {},
   "outputs": [],
   "source": [
    "def MAPE(y_true, y_pred):\n",
    "    ma = np.mean(np.abs((y_true - y_pred) / y_true)) * 100\n",
    "    return ma"
   ]
  },
  {
   "cell_type": "code",
   "execution_count": 2,
   "metadata": {},
   "outputs": [],
   "source": [
    "def Mape_hor(y_true, y_pred):\n",
    "    y_true, y_pred = np.array(y_true), np.array(y_pred)\n",
    "    ma = np.abs((y_true - y_pred) / y_true) * 100\n",
    "    return ma"
   ]
  },
  {
   "cell_type": "markdown",
   "metadata": {},
   "source": [
    "---------------------------------------------------------------------------------------------------------------------------"
   ]
  },
  {
   "cell_type": "markdown",
   "metadata": {},
   "source": [
    "## Data fitting"
   ]
  },
  {
   "cell_type": "code",
   "execution_count": 15,
   "metadata": {},
   "outputs": [],
   "source": [
    "from sklearn.model_selection import train_test_split\n",
    "from sklearn.linear_model import LinearRegression\n",
    "from statsmodels.tsa.ar_model import AR\n",
    "from xgboost import XGBRegressor "
   ]
  },
  {
   "cell_type": "markdown",
   "metadata": {},
   "source": [
    "- Data splitting\n",
    "\n",
    "`get_train_split_sick`: divide in train and test set.\n",
    "\n",
    "`get_train_split_xgb`: divide in train, test, and evaluation set."
   ]
  },
  {
   "cell_type": "code",
   "execution_count": 16,
   "metadata": {},
   "outputs": [],
   "source": [
    "def get_train_split_sick(X, y):\n",
    "    X_train, X_test, y_train, y_test = train_test_split(X, y, test_size = 1/len(y), shuffle = False)\n",
    "    return X_train, X_test, y_train, y_test"
   ]
  },
  {
   "cell_type": "code",
   "execution_count": 17,
   "metadata": {},
   "outputs": [],
   "source": [
    "def get_train_split_xgb(X, y):\n",
    "    X_train, X_test, y_train, y_test = train_test_split(X, y, test_size = 0.3, shuffle = False)\n",
    "    X_val, X_test, y_val, y_test = train_test_split(X_test, y_test, test_size = 1/len(y_test), shuffle = False)\n",
    "    return X_train, X_test, X_val, y_train, y_test, y_val "
   ]
  },
  {
   "cell_type": "markdown",
   "metadata": {},
   "source": [
    "`reg`: computes Scikit learn & XGBoost regression\n",
    "\n",
    "returns \n",
    "- m1: MAPE & y_pred: prediction with scikitlearn\n",
    "- m2: MAPE & y_pred2 prediction with XGBoost"
   ]
  },
  {
   "cell_type": "code",
   "execution_count": 2,
   "metadata": {
    "ExecuteTime": {
     "end_time": "2021-01-09T22:05:42.270294Z",
     "start_time": "2021-01-09T22:05:42.250351Z"
    }
   },
   "outputs": [],
   "source": [
    "def reg(h, z, armon): # hour, zone, \n",
    "    y = np.array(get_zon_hor(h, z))\n",
    "    X = kron_conv(h, z, armon)\n",
    "\n",
    "    #Scikitlearn Regresssion\n",
    "    X_tr, X_te, y_tr, y_te = get_train_split_sick(X, y)\n",
    "    regress = LinearRegression(n_jobs = -1).fit(X_tr, y_tr)\n",
    "    y_pred = regress.predict(X_te)\n",
    "    m1 = MAPE(y_te, y_pred)\n",
    "    \n",
    "    #XGBoost Regression\n",
    "    X_train, X_test, X_val, y_train, y_test, y_val = get_train_split_xgb(X, y)\n",
    "    regress2 = XGBRegressor(objective ='reg:squarederror', n_jobs=-1, max_depth=3, learning_rate=1.5, n_estimators=5)\n",
    "    regress2.fit(X_train, y_train, eval_set=[(X,y),(X_val,y_val)], verbose=0, early_stopping_rounds=50)\n",
    "    y_pred2 = regress2.predict(X_test)\n",
    "    m2 = MAPE(y_test, y_pred2)\n",
    "    \n",
    "    return m1, m2, y_pred, y_pred2"
   ]
  },
  {
   "cell_type": "code",
   "execution_count": 40,
   "metadata": {},
   "outputs": [
    {
     "data": {
      "text/plain": [
       "(23.064736076153782,\n",
       " 18.583909664233698,\n",
       " array([ 483.32095406]),\n",
       " array([ 465.72308], dtype=float32))"
      ]
     },
     "execution_count": 40,
     "metadata": {},
     "output_type": "execute_result"
    }
   ],
   "source": [
    "reg(1, \"zona_5\", 1)"
   ]
  },
  {
   "cell_type": "code",
   "execution_count": 42,
   "metadata": {},
   "outputs": [
    {
     "name": "stdout",
     "output_type": "stream",
     "text": [
      "119 ms ± 3.67 ms per loop (mean ± std. dev. of 7 runs, 100 loops each)\n"
     ]
    }
   ],
   "source": [
    "%timeit -n 100 reg(1, \"zona_5\", 1)"
   ]
  },
  {
   "cell_type": "markdown",
   "metadata": {},
   "source": [
    "`regAR`: computes Autoregressive model"
   ]
  },
  {
   "cell_type": "code",
   "execution_count": 20,
   "metadata": {},
   "outputs": [],
   "source": [
    "def regAR(h, z):\n",
    "    y = pd.Series(get_zon_hor(h, z))\n",
    "    y_train, y_test = train_test_split(y, test_size = 1/len(y), shuffle = False)\n",
    "    \n",
    "    #Regresión con Autoregresión\n",
    "    regresar = AR(y_train).fit()\n",
    "    y_predico = regresar.predict(start=len(y_train), end=len(y_train) + len(y_test)-1, dynamic=False)\n",
    "    m3 = MAPE(y_test, y_predico)\n",
    "    return m3, y_predico"
   ]
  },
  {
   "cell_type": "code",
   "execution_count": 25,
   "metadata": {},
   "outputs": [],
   "source": [
    "# beg = time()\n",
    "# # for r in range(1, 1400):\n",
    "# reg(1,\"zona_5\", 3);\n",
    "# end = time()\n",
    "# end - beg"
   ]
  },
  {
   "cell_type": "markdown",
   "metadata": {},
   "source": [
    "`fm1`: returns holiday, daily, seasonal, monthly variables, or a combination of them"
   ]
  },
  {
   "cell_type": "code",
   "execution_count": 20,
   "metadata": {},
   "outputs": [],
   "source": [
    "def fm1(i):\n",
    "    global df\n",
    "    df = read_pickle(\"dflimpios.pkl\")\n",
    "    if i==0:\n",
    "        df = dum_fest(df)\n",
    "    if i==1:\n",
    "        df = dum_dia(df)\n",
    "    if i==2:\n",
    "        df = dum_seas(df)\n",
    "    if i==3:\n",
    "        df = dum_mensual(df)\n",
    "    if i==4:\n",
    "        df = dum_mensual(dum_seas(dum_dia(dum_fest(df)))) \n",
    "    return df\n",
    "fm1(4);"
   ]
  },
  {
   "cell_type": "code",
   "execution_count": 22,
   "metadata": {},
   "outputs": [
    {
     "data": {
      "text/plain": [
       "Index(['hora', 'zona_1', 'zona_2', 'zona_3', 'zona_4', 'zona_5', 'zona_6',\n",
       "       'zona_7', 'zona_8', 'zona_9', 'zona_10', 'zona_11', 'zona_12',\n",
       "       'zona_13', 'zona_14', 'zona_15', 'zona_16', 'zona_17', 'zona_18',\n",
       "       'zona_19', 'zona_20', 'zona_21', 'zona_22', 'zona_23', 'zona_24',\n",
       "       'zona_25', 'zona_26', 'year', 'day', 'fest', 'd_sm_1', 'd_sm_2',\n",
       "       'd_sm_3', 'd_sm_4', 's_s_0.0', 's_s_1.0', 's_s_2.0', 'mon_1', 'mon_2',\n",
       "       'mon_3', 'mon_4', 'mon_5', 'mon_6', 'mon_7', 'mon_8', 'mon_9', 'mon_10',\n",
       "       'mon_11'],\n",
       "      dtype='object')"
      ]
     },
     "execution_count": 22,
     "metadata": {},
     "output_type": "execute_result"
    }
   ],
   "source": [
    "fm1(4).columns"
   ]
  },
  {
   "cell_type": "code",
   "execution_count": 34,
   "metadata": {},
   "outputs": [
    {
     "name": "stdout",
     "output_type": "stream",
     "text": [
      "(2.4075378716805642, 1.4270591588811747, array([ 544.61023763]), array([ 524.2176], dtype=float32))\n"
     ]
    },
    {
     "data": {
      "text/plain": [
       "0.051901817321777344"
      ]
     },
     "execution_count": 34,
     "metadata": {},
     "output_type": "execute_result"
    }
   ],
   "source": [
    "beg = time()\n",
    "print(reg(1, \"zona_1\", 0)) #\n",
    "end = time()\n",
    "end - beg"
   ]
  },
  {
   "cell_type": "markdown",
   "metadata": {},
   "source": [
    "Runs algorithms and keep data in pandas dataframe"
   ]
  },
  {
   "cell_type": "code",
   "execution_count": null,
   "metadata": {},
   "outputs": [],
   "source": [
    "DE = {}; ED = {}; DA = {}; AD = {}\n",
    "for zona in [\"zona_1\", \"zona_2\"]: \n",
    "    DE[\"AR\"] = []\n",
    "    DA[\"AR\"] = []\n",
    "    for hora in range(1, 25):\n",
    "        m, y_p = regAR(hora, zona)\n",
    "        DE[\"AR\"].append(m)\n",
    "        DA[\"AR\"].append(y_p)\n",
    "    for dli in range(6):\n",
    "        df = fm1(dli)\n",
    "        for arm in range(6):\n",
    "            DE[f\"Sck_{arm}_{dli}\"] = []\n",
    "            DE[f\"XGB_{arm}_{dli}\"] = []\n",
    "            DA[f\"Sck_{arm}_{dli}\"] = []\n",
    "            DA[f\"XGB_{arm}_{dli}\"] = []\n",
    "            for hora in range(1, 25):\n",
    "                m1, m2, y_p1, y_p2 = reg(hora, zona, arm)\n",
    "                DE[f\"Sck_{arm}_{dli}\"].append(m1)\n",
    "                DE[f\"XGB_{arm}_{dli}\"].append(m2) \n",
    "                DA[f\"Sck_{arm}_{dli}\"].append(y_p1)\n",
    "                DA[f\"XGB_{arm}_{dli}\"].append(y_p2)\n",
    "    ED[zona] = pd.DataFrame(DE, index = range(1, 25)) \n",
    "    AD[zona] = pd.DataFrame(DA, index = range(1, 25)) \n",
    "AED = {\"mape\":ED, \"pred\":AD}"
   ]
  },
  {
   "cell_type": "markdown",
   "metadata": {
    "ExecuteTime": {
     "end_time": "2021-01-10T15:42:20.909390Z",
     "start_time": "2021-01-10T15:42:20.901364Z"
    }
   },
   "source": [
    "`todo`: runs the three algorithms with multiple input values. Returns a dictionary of dataframes"
   ]
  },
  {
   "cell_type": "code",
   "execution_count": 32,
   "metadata": {},
   "outputs": [],
   "source": [
    "def todo():\n",
    "    DE = {}; ED = {}; DA = {}; AD = {}\n",
    "    for zona in sonas(): \n",
    "        DE[\"AR\"] = []\n",
    "        DA[\"AR\"] = []\n",
    "        for hora in range(1, 25):\n",
    "            m, y_p = regAR(hora, zona)\n",
    "            DE[\"AR\"].append(m)\n",
    "            DA[\"AR\"].append(y_p)\n",
    "        for dli in range(6):\n",
    "            df = fm1(dli)\n",
    "            for arm in range(6):\n",
    "                DE[f\"Sck_{arm}_{dli}\"] = []\n",
    "                DE[f\"XGB_{arm}_{dli}\"] = []\n",
    "                DA[f\"Sck_{arm}_{dli}\"] = []\n",
    "                DA[f\"XGB_{arm}_{dli}\"] = []\n",
    "                for hora in range(1, 25):\n",
    "                    m1, m2, y_p1, y_p2 = reg(hora, zona, arm)\n",
    "                    DE[f\"Sck_{arm}_{dli}\"].append(m1)\n",
    "                    DE[f\"XGB_{arm}_{dli}\"].append(m2) \n",
    "                    DA[f\"Sck_{arm}_{dli}\"].append(y_p1)\n",
    "                    DA[f\"XGB_{arm}_{dli}\"].append(y_p2)\n",
    "        ED[zona] = pd.DataFrame(DE, index = range(1, 25)) \n",
    "        AD[zona] = pd.DataFrame(DA, index = range(1, 25)) \n",
    "    AED = {\"mape\":ED, \"pred\":AD}\n",
    "    return AED"
   ]
  },
  {
   "cell_type": "code",
   "execution_count": 33,
   "metadata": {},
   "outputs": [
    {
     "data": {
      "text/plain": [
       "2714.795229434967"
      ]
     },
     "execution_count": 33,
     "metadata": {},
     "output_type": "execute_result"
    }
   ],
   "source": [
    "beg = time()\n",
    "EAD = todo()\n",
    "end = time()\n",
    "end - beg"
   ]
  },
  {
   "cell_type": "code",
   "execution_count": 53,
   "metadata": {},
   "outputs": [
    {
     "data": {
      "text/plain": [
       "236.09523606300354"
      ]
     },
     "execution_count": 53,
     "metadata": {},
     "output_type": "execute_result"
    }
   ],
   "source": [
    "beg = time()\n",
    "EAD = todo()\n",
    "end = time()\n",
    "end - beg"
   ]
  },
  {
   "cell_type": "code",
   "execution_count": 99,
   "metadata": {},
   "outputs": [
    {
     "data": {
      "text/plain": [
       "1     0.057950\n",
       "2     0.403168\n",
       "3     0.111169\n",
       "4     0.011925\n",
       "5     0.263504\n",
       "6     0.251934\n",
       "7     0.033647\n",
       "8     0.135064\n",
       "9     0.033860\n",
       "10    0.115965\n",
       "11    0.000611\n",
       "12    0.188819\n",
       "13    0.026415\n",
       "14    0.054081\n",
       "15    0.010792\n",
       "16    0.302678\n",
       "17    0.014000\n",
       "18    0.000527\n",
       "19    0.725004\n",
       "20    0.231054\n",
       "21    0.114631\n",
       "22    0.313282\n",
       "23    0.104315\n",
       "24    0.398682\n",
       "dtype: float64"
      ]
     },
     "execution_count": 99,
     "metadata": {},
     "output_type": "execute_result"
    }
   ],
   "source": [
    "EAD[\"mape\"][\"zona_1\"].min(axis = 1)"
   ]
  },
  {
   "cell_type": "markdown",
   "metadata": {
    "ExecuteTime": {
     "end_time": "2021-01-10T15:42:50.973452Z",
     "start_time": "2021-01-10T15:42:50.957463Z"
    }
   },
   "source": [
    "- Experimental, for faster computation"
   ]
  },
  {
   "cell_type": "code",
   "execution_count": 54,
   "metadata": {},
   "outputs": [],
   "source": [
    "def regon(arg):\n",
    "    be, bo, bu, bi = reg(arg[0], arg[1], arg[2])\n",
    "    return be, bo, bu, bi"
   ]
  },
  {
   "cell_type": "code",
   "execution_count": 55,
   "metadata": {},
   "outputs": [],
   "source": [
    "car = []\n",
    "for i in range(1, 25):\n",
    "    for j in [\"zona_1\", \"zona_2\"]:\n",
    "        for k in range(6):\n",
    "                bon = [i, j, k]\n",
    "                car.append(bon)"
   ]
  },
  {
   "cell_type": "code",
   "execution_count": 56,
   "metadata": {},
   "outputs": [
    {
     "data": {
      "text/plain": [
       "288"
      ]
     },
     "execution_count": 56,
     "metadata": {},
     "output_type": "execute_result"
    }
   ],
   "source": [
    "len(car)"
   ]
  },
  {
   "cell_type": "code",
   "execution_count": 57,
   "metadata": {},
   "outputs": [],
   "source": [
    "def regas(car):\n",
    "    for i in range(6):\n",
    "        df = fm1(i)\n",
    "        cor1 = list(map(regon, car))\n",
    "        can.append(cor1)\n",
    "    return can"
   ]
  },
  {
   "cell_type": "code",
   "execution_count": 58,
   "metadata": {},
   "outputs": [
    {
     "data": {
      "text/plain": [
       "228.54670882225037"
      ]
     },
     "execution_count": 58,
     "metadata": {},
     "output_type": "execute_result"
    }
   ],
   "source": [
    "beg = time()\n",
    "can = []\n",
    "regas(car)\n",
    "end = time()\n",
    "end - beg"
   ]
  },
  {
   "cell_type": "code",
   "execution_count": 215,
   "metadata": {},
   "outputs": [],
   "source": [
    "car = [[1, \"zona_2\", 1, 1], [1, \"zona_3\", 1, 2]]"
   ]
  },
  {
   "cell_type": "code",
   "execution_count": 243,
   "metadata": {},
   "outputs": [],
   "source": [
    "car = [[i, j, k, l] for i, j, k, l in zip(range(1, 25), sonas(), range(1, 25), range(0, 5))]"
   ]
  },
  {
   "cell_type": "code",
   "execution_count": 274,
   "metadata": {},
   "outputs": [
    {
     "data": {
      "text/plain": [
       "-28.004926681518555"
      ]
     },
     "execution_count": 274,
     "metadata": {},
     "output_type": "execute_result"
    }
   ],
   "source": [
    "beg = time()\n",
    "cor1 = list(map(regon, car))\n",
    "end = time()\n",
    "beg - end"
   ]
  },
  {
   "cell_type": "code",
   "execution_count": 58,
   "metadata": {},
   "outputs": [
    {
     "data": {
      "text/plain": [
       "1     4.173217\n",
       "2     4.855302\n",
       "3     4.944084\n",
       "4     5.226407\n",
       "5     5.430592\n",
       "6     4.907652\n",
       "7     4.944493\n",
       "8     4.976333\n",
       "9     5.187021\n",
       "10    4.697278\n",
       "11    4.407233\n",
       "12    4.444924\n",
       "13    4.617235\n",
       "14    4.581564\n",
       "15    4.541507\n",
       "16    4.777069\n",
       "17    4.749792\n",
       "18    4.686939\n",
       "19    4.356286\n",
       "20    3.981182\n",
       "21    3.580332\n",
       "22    3.621603\n",
       "23    3.660293\n",
       "24    3.931869\n",
       "dtype: float64"
      ]
     },
     "execution_count": 58,
     "metadata": {},
     "output_type": "execute_result"
    }
   ],
   "source": [
    "EAD[\"mape\"][\"zona_3\"].min(axis = 1)"
   ]
  },
  {
   "cell_type": "markdown",
   "metadata": {},
   "source": [
    "- keep data in pickle files"
   ]
  },
  {
   "cell_type": "code",
   "execution_count": 59,
   "metadata": {
    "collapsed": true
   },
   "outputs": [],
   "source": [
    "# output = open('Excels/mapes_365_sextre.pkl', 'wb')\n",
    "# pickle.dump(EAD, output)\n",
    "# output.close()"
   ]
  },
  {
   "cell_type": "code",
   "execution_count": null,
   "metadata": {
    "collapsed": true
   },
   "outputs": [],
   "source": []
  }
 ],
 "metadata": {
  "kernelspec": {
   "display_name": "Python 3",
   "language": "python",
   "name": "python3"
  },
  "language_info": {
   "codemirror_mode": {
    "name": "ipython",
    "version": 3
   },
   "file_extension": ".py",
   "mimetype": "text/x-python",
   "name": "python",
   "nbconvert_exporter": "python",
   "pygments_lexer": "ipython3",
   "version": "3.7.7"
  },
  "toc": {
   "base_numbering": 1,
   "nav_menu": {},
   "number_sections": true,
   "sideBar": true,
   "skip_h1_title": false,
   "title_cell": "Table of Contents",
   "title_sidebar": "Contents",
   "toc_cell": false,
   "toc_position": {},
   "toc_section_display": true,
   "toc_window_display": false
  }
 },
 "nbformat": 4,
 "nbformat_minor": 2
}
