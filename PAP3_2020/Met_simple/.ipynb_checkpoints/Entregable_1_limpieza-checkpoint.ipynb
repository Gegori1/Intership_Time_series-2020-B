{
 "cells": [
  {
   "cell_type": "code",
   "execution_count": 1,
   "metadata": {},
   "outputs": [],
   "source": [
    "%matplotlib inline\n",
    "import matplotlib.pyplot as plt\n",
    "import pandas as pd\n",
    "import numpy as np\n",
    "from ipywidgets import widgets\n",
    "import seaborn as sns\n",
    "from scipy.signal import find_peaks\n",
    "from time import time\n",
    "import feather\n",
    "import xlsxwriter "
   ]
  },
  {
   "cell_type": "markdown",
   "metadata": {},
   "source": [
    "# Data Cleansing"
   ]
  },
  {
   "cell_type": "code",
   "execution_count": 11,
   "metadata": {},
   "outputs": [],
   "source": [
    "# data available in local repository only for privacy issues\n",
    "def dtfr():\n",
    "    df = pd.read_excel(\"Excels/Consumo horario Zonas de carga de la GCROC 2015-2019.xlsx\", sheet_name=\"datos\")\n",
    "    return df"
   ]
  },
  {
   "cell_type": "code",
   "execution_count": 12,
   "metadata": {},
   "outputs": [],
   "source": [
    "# dtfr().head()"
   ]
  },
  {
   "cell_type": "markdown",
   "metadata": {
    "ExecuteTime": {
     "end_time": "2021-01-09T17:24:51.608748Z",
     "start_time": "2021-01-09T17:24:51.593751Z"
    }
   },
   "source": [
    "##### Multiple level header on file: remove first header and change space separated names on second header"
   ]
  },
  {
   "cell_type": "code",
   "execution_count": 13,
   "metadata": {},
   "outputs": [],
   "source": [
    "def lim_header():\n",
    "    dfi = dtfr()\n",
    "    dfi.columns = dfi.iloc[0]\n",
    "    dfi = dfi.drop(index=0)\n",
    "    dfi.rename(columns = {\"día de la semana\" : \"día_semana\"}, inplace=True )\n",
    "    dfi.rename(columns = {pd.NaT : \"fechas\"}, inplace = True)\n",
    "    return dfi"
   ]
  },
  {
   "cell_type": "code",
   "execution_count": 14,
   "metadata": {},
   "outputs": [],
   "source": [
    "# lim_header().columns"
   ]
  },
  {
   "cell_type": "markdown",
   "metadata": {},
   "source": [
    "##### Fill on empty day of week and date values"
   ]
  },
  {
   "cell_type": "code",
   "execution_count": 15,
   "metadata": {},
   "outputs": [],
   "source": [
    "def lim_relleno():\n",
    "    df = lim_header()\n",
    "    dia_sem = df[\"día_semana\"].tolist()\n",
    "    fech = df[\"fecha\"].tolist()\n",
    "    hor = df[\"hora\"].tolist()\n",
    "    indx = 0\n",
    "    for h in hor:\n",
    "        if h == 1:\n",
    "            fecha = fech[indx]\n",
    "            diaa = dia_sem[indx]\n",
    "            indx += 1\n",
    "        elif h != 1:\n",
    "            fech[indx] = fecha\n",
    "            dia_sem[indx] = diaa\n",
    "            indx += 1\n",
    "    df[\"fecha\"] = fech\n",
    "    df[\"día_semana\"] = dia_sem\n",
    "    return df"
   ]
  },
  {
   "cell_type": "markdown",
   "metadata": {},
   "source": [
    "#### Replacement of non-numeric values"
   ]
  },
  {
   "cell_type": "code",
   "execution_count": 16,
   "metadata": {},
   "outputs": [],
   "source": [
    "def lim_Nnum():\n",
    "    df = lim_relleno()\n",
    "    df['year'] = pd.DatetimeIndex(df[\"fechas\"]).year\n",
    "    df['month'] = pd.DatetimeIndex(df[\"fechas\"]).month\n",
    "    df['day'] = pd.DatetimeIndex(df[\"fechas\"]).day\n",
    "\n",
    "    df = df.replace([\"Lunes\", \"Martes\", \"Miercoles\", \"Jueves\", \"Viernes\", \"Sabado\", \"Domingo\"], [0, 1, 2, 3, 4, 5, 6])\n",
    "    df = df.replace([\"Miércoles\", \"Sábado\"],[2,5])\n",
    "\n",
    "    df = df.drop([\"fecha\",\"fechas\"], axis=1)\n",
    "    df = df.dropna()\n",
    "    \n",
    "    return df"
   ]
  },
  {
   "cell_type": "markdown",
   "metadata": {},
   "source": [
    "#### Change columns names for readability"
   ]
  },
  {
   "cell_type": "code",
   "execution_count": 17,
   "metadata": {},
   "outputs": [],
   "source": [
    "def lim_nomzon():\n",
    "    df = lim_Nnum()\n",
    "    zonas = df.columns\n",
    "    elim = [\"día_semana\", \"hora\", \"day\", \"year\", \"month\"]\n",
    "    zonas = zonas.drop(elim)\n",
    "    son = [\"zona_{}\".format(i+1) for i in range(len(zonas))]\n",
    "    listDic={}\n",
    "    for zona, so in zip(zonas, son):\n",
    "        listDic[zona]=so\n",
    "    df.rename(columns = listDic, inplace=True )\n",
    "    return df"
   ]
  },
  {
   "cell_type": "markdown",
   "metadata": {},
   "source": [
    "###### Save data in a pickle file"
   ]
  },
  {
   "cell_type": "code",
   "execution_count": 18,
   "metadata": {},
   "outputs": [],
   "source": [
    "lim_nomzon().to_pickle(\"dflimpios.pkl\")"
   ]
  }
 ],
 "metadata": {
  "kernelspec": {
   "display_name": "Python 3",
   "language": "python",
   "name": "python3"
  },
  "language_info": {
   "codemirror_mode": {
    "name": "ipython",
    "version": 3
   },
   "file_extension": ".py",
   "mimetype": "text/x-python",
   "name": "python",
   "nbconvert_exporter": "python",
   "pygments_lexer": "ipython3",
   "version": "3.7.7"
  },
  "toc": {
   "base_numbering": 1,
   "nav_menu": {},
   "number_sections": true,
   "sideBar": true,
   "skip_h1_title": false,
   "title_cell": "Table of Contents",
   "title_sidebar": "Contents",
   "toc_cell": false,
   "toc_position": {},
   "toc_section_display": true,
   "toc_window_display": false
  }
 },
 "nbformat": 4,
 "nbformat_minor": 2
}
