{
 "cells": [
  {
   "cell_type": "markdown",
   "metadata": {},
   "source": [
    "The purpose of this code, was to prove the efficiety of multiple algorithms with a given design matrix, also created on this file\n",
    "\n",
    "df is a dataset with energy consumption on multiple energy plants + daily date values\n",
    "\n",
    "- The data was cleaned to imporve readability and manageability\n",
    "- categorical variables of data and seasonality were added\n",
    "- The outputs (energy by zone) were divided by  hourly data to remove some periodicity"
   ]
  },
  {
   "cell_type": "code",
   "execution_count": 16,
   "metadata": {},
   "outputs": [],
   "source": [
    "%matplotlib inline\n",
    "import matplotlib.pyplot as plt\n",
    "import pandas as pd\n",
    "import numpy as np\n",
    "from ipywidgets import widgets\n",
    "import seaborn as sns\n",
    "from  scipy import signal\n",
    "from scipy.signal import find_peaks\n",
    "from pandas import read_excel\n",
    "from pandas import read_csv\n",
    "import warnings # as for to get a beautiful output\n",
    "warnings.filterwarnings(\"ignore\", category=FutureWarning)"
   ]
  },
  {
   "cell_type": "code",
   "execution_count": 17,
   "metadata": {},
   "outputs": [],
   "source": [
    "from sklearn.linear_model import LinearRegression\n",
    "from xgboost import XGBRegressor \n",
    "from sklearn.model_selection import train_test_split\n",
    "from time import time "
   ]
  },
  {
   "cell_type": "markdown",
   "metadata": {},
   "source": [
    "---------------------------------------------------------------------------------------------------------------------------"
   ]
  },
  {
   "cell_type": "markdown",
   "metadata": {},
   "source": [
    "# Data cleansing"
   ]
  },
  {
   "cell_type": "markdown",
   "metadata": {},
   "source": [
    "#### Headers"
   ]
  },
  {
   "cell_type": "code",
   "execution_count": 18,
   "metadata": {},
   "outputs": [],
   "source": [
    "def lim_header(df):\n",
    "    df.columns = df.iloc[0]\n",
    "    df = df.drop(index=0)\n",
    "    df.rename(columns = {\"día de la semana\" : \"día_semana\"}, inplace=True ) # rename column to day_of_week\n",
    "    df.rename(columns = {pd.NaT : \"fechas\"}, inplace = True)\n",
    "    return df"
   ]
  },
  {
   "cell_type": "markdown",
   "metadata": {},
   "source": [
    "#####  fill column dia_semana on rows without a value"
   ]
  },
  {
   "cell_type": "code",
   "execution_count": 19,
   "metadata": {},
   "outputs": [],
   "source": [
    "def lim_relleno(df):\n",
    "    dia_sem = df[\"día_semana\"].tolist()\n",
    "    fech = df[\"fecha\"].tolist()\n",
    "    hor = df[\"hora\"].tolist()\n",
    "    indx = 0\n",
    "    for h in hor:\n",
    "        if h == 1:\n",
    "            fecha = fech[indx]\n",
    "            diaa = dia_sem[indx]\n",
    "            indx += 1\n",
    "        elif h != 1:\n",
    "            fech[indx] = fecha\n",
    "            dia_sem[indx] = diaa\n",
    "            indx += 1\n",
    "    df[\"fecha\"] = fech\n",
    "    df[\"día_semana\"] = dia_sem\n",
    "    return df"
   ]
  },
  {
   "cell_type": "markdown",
   "metadata": {},
   "source": [
    "#### from textual to numeric"
   ]
  },
  {
   "cell_type": "code",
   "execution_count": 20,
   "metadata": {},
   "outputs": [],
   "source": [
    "def lim_Nnum(df):\n",
    "    df['year'] = pd.DatetimeIndex(df[\"fechas\"]).year\n",
    "    df['month'] = pd.DatetimeIndex(df[\"fechas\"]).month\n",
    "    df['day'] = pd.DatetimeIndex(df[\"fechas\"]).day\n",
    "\n",
    "    df = df.replace([\"Lunes\", \"Martes\", \"Miercoles\", \"Jueves\", \"Viernes\", \"Sabado\", \"Domingo\"], [0, 1, 2, 3, 4, 5, 6])\n",
    "    df = df.replace([\"Miércoles\", \"Sábado\"],[2,5])\n",
    "\n",
    "    df = df.drop([\"fecha\",\"fechas\"], axis=1)\n",
    "    df = df.dropna()\n",
    "    \n",
    "    return df"
   ]
  },
  {
   "cell_type": "markdown",
   "metadata": {},
   "source": [
    "#### Change energy plant by zone for readability"
   ]
  },
  {
   "cell_type": "code",
   "execution_count": 21,
   "metadata": {},
   "outputs": [],
   "source": [
    "def lim_nomzon(df):\n",
    "    zonas = df.columns\n",
    "    elim = [\"día_semana\", \"hora\", \"day\", \"year\", \"month\"]\n",
    "    zonas = zonas.drop(elim)\n",
    "    son = [\"zona_{}\".format(i+1) for i in range(len(zonas))]\n",
    "    listDic={}\n",
    "    for zona, so in zip(zonas, son):\n",
    "        listDic[zona]=so\n",
    "    df.rename(columns = listDic, inplace=True )\n",
    "    return df"
   ]
  },
  {
   "cell_type": "markdown",
   "metadata": {},
   "source": [
    "### Categorical variables"
   ]
  },
  {
   "cell_type": "markdown",
   "metadata": {},
   "source": [
    "#### Public holidays"
   ]
  },
  {
   "cell_type": "markdown",
   "metadata": {},
   "source": [
    "- Public holidays are extracted from the festivos.csv file and inserted in one column as 1. The rest of the days stay as 0"
   ]
  },
  {
   "cell_type": "code",
   "execution_count": 22,
   "metadata": {},
   "outputs": [],
   "source": [
    "def dum_fest(df):\n",
    "    cata = []; fes = read_csv(\"festivos.csv\")\n",
    "    for j in range(len(fes.index)):\n",
    "            festiveDay = df.loc[(df.year==fes[\"Year\"][j]) & (df.month==fes[\"Month\"][j]) & (df.day==fes[\"Day\"][j])].index.values.tolist()\n",
    "            cata = cata + festiveDay\n",
    "\n",
    "    df['fest'] = np.nan; df.fest = df.fest.fillna(pd.Series(-1, index=cata))\n",
    "    df.fest = df.fest.fillna(0)\n",
    "    df.fest.unique()\n",
    "    return df"
   ]
  },
  {
   "cell_type": "markdown",
   "metadata": {},
   "source": [
    "#### Variables \"Dummies\" día de la semana"
   ]
  },
  {
   "cell_type": "markdown",
   "metadata": {},
   "source": [
    "1 tuesday-wednesday-thursday as the same behavior\n",
    "\n",
    "2 one behavior for each day"
   ]
  },
  {
   "cell_type": "code",
   "execution_count": 23,
   "metadata": {},
   "outputs": [],
   "source": [
    "# # 1\n",
    "# def dum_dia(df):\n",
    "#     # lunes, martes-miercoles-jueves, viernes, sabado, domingo\n",
    "#     df.día_semana=df.día_semana.apply(lambda x: 1 if x==1 else (2 if x in [2,3,4] else (3 if x==5 else (4 if x==6 else 0))))\n",
    "#     df = pd.get_dummies(df, prefix=['d_sm'], columns=['día_semana'])\n",
    "#     df = df.drop(\"d_sm_0\", axis = 1)\n",
    "#     return df"
   ]
  },
  {
   "cell_type": "code",
   "execution_count": 24,
   "metadata": {},
   "outputs": [],
   "source": [
    "# 2\n",
    "def dum_dia(df):\n",
    "    # lunes/monday, martes/tuesday, miercoles/wednesday, jueves/thursday, viernes/friday, sabado/saturday domingo/sunday\n",
    "    df.día_semana=df.día_semana.apply(lambda x: 1 if x==1 else (2 if x==2 else (3 if x==3 else (4 if x==4 else (5 if x==5 else (6 if x==6 else 0))))))\n",
    "    df = pd.get_dummies(df, prefix=['d_sm'], columns=['día_semana']) #days of the week\n",
    "    df = df.drop(\"d_sm_0\", axis = 1)\n",
    "    return df"
   ]
  },
  {
   "cell_type": "markdown",
   "metadata": {},
   "source": [
    "#### Seasonal variables"
   ]
  },
  {
   "cell_type": "markdown",
   "metadata": {},
   "source": [
    "- Constraints are specified to create seasonal variables. Autumn is dropped in order to avoid falling into the dummies trap."
   ]
  },
  {
   "cell_type": "code",
   "execution_count": 25,
   "metadata": {},
   "outputs": [],
   "source": [
    "def dum_seas(df):\n",
    "    df['seas'] = np.nan\n",
    "    pr = df.query('day == 21 and month ==3').index\n",
    "    vr = df.query('day == 21 and month == 6').index\n",
    "    ot = df.query('day == 21 and month == 9').index\n",
    "    inv= df.query('day == 21 and month == 12').index\n",
    "\n",
    "    df.seas = df.seas.fillna(pd.Series(0, index=pr))\n",
    "    df.seas = df.seas.fillna(pd.Series(1, index=vr))\n",
    "    df.seas = df.seas.fillna(pd.Series(2, index=ot))\n",
    "    df.seas = df.seas.fillna(pd.Series(3, index=inv))\n",
    "\n",
    "    df.seas = df.seas.fillna(method= 'ffill')\n",
    "    df.seas = df.seas.fillna(method= 'bfill')\n",
    "\n",
    "    df = pd.get_dummies(df, prefix=['s_s'], columns=['seas'])\n",
    "    df = df.drop(\"s_s_3.0\", axis = 1)\n",
    "\n",
    "    return df"
   ]
  },
  {
   "cell_type": "markdown",
   "metadata": {},
   "source": [
    "##### Monthy \"Dummies\""
   ]
  },
  {
   "cell_type": "code",
   "execution_count": 29,
   "metadata": {},
   "outputs": [],
   "source": [
    "def dum_mensual(df):\n",
    "    # Enero/January, Febrero/February, Marzo/March, Abril/April, Mayo/May, Junio/June, Julio/July, Agosto/August, Septiembre/September, Octubre/October, Diciembre/December\n",
    "    df = pd.get_dummies(df, prefix=['mon'], columns=['month'])\n",
    "    df = df.drop(\"mon_12\", axis = 1)\n",
    "    return df"
   ]
  },
  {
   "cell_type": "markdown",
   "metadata": {},
   "source": [
    "## Matrix input-output"
   ]
  },
  {
   "cell_type": "markdown",
   "metadata": {},
   "source": [
    "The data-dependent variables were added to the matrix of outputs"
   ]
  },
  {
   "cell_type": "code",
   "execution_count": 30,
   "metadata": {},
   "outputs": [],
   "source": [
    "def limp_dum():\n",
    "    df = read_excel(\"Consumo horario Zonas de carga de la GCROC 2015-2019.xlsx\", sheet_name=\"datos\")\n",
    "    # Limpieza de datos\n",
    "    df = lim_header(df)\n",
    "    df = lim_relleno(df)\n",
    "    df = lim_Nnum(df)\n",
    "    df = lim_nomzon(df)\n",
    "    # Adición de dummies \n",
    "    df = dum_fest(df)\n",
    "    df = dum_dia(df)\n",
    "    df = dum_seas(df)\n",
    "    df = dum_mensual(df)\n",
    "    return df"
   ]
  },
  {
   "cell_type": "code",
   "execution_count": 31,
   "metadata": {},
   "outputs": [
    {
     "data": {
      "text/plain": [
       "22.547947645187378"
      ]
     },
     "execution_count": 31,
     "metadata": {},
     "output_type": "execute_result"
    }
   ],
   "source": [
    "beg = time()\n",
    "df = limp_dum()\n",
    "end = time()\n",
    "end - beg"
   ]
  },
  {
   "cell_type": "code",
   "execution_count": 32,
   "metadata": {},
   "outputs": [],
   "source": [
    "def sonas():\n",
    "    zonas = df.columns  \n",
    "    return [\"zona_{}\".format(i+1) for i in range(26)]\n",
    "son = sonas() # a list with the name of output variables (later used)."
   ]
  },
  {
   "cell_type": "code",
   "execution_count": 35,
   "metadata": {},
   "outputs": [
    {
     "data": {
      "text/plain": [
       "Index(['hora', 'zona_1', 'zona_2', 'zona_3', 'zona_4', 'zona_5', 'zona_6',\n",
       "       'zona_7', 'zona_8', 'zona_9', 'zona_10', 'zona_11', 'zona_12',\n",
       "       'zona_13', 'zona_14', 'zona_15', 'zona_16', 'zona_17', 'zona_18',\n",
       "       'zona_19', 'zona_20', 'zona_21', 'zona_22', 'zona_23', 'zona_24',\n",
       "       'zona_25', 'zona_26', 'year', 'day', 'fest', 'd_sm_1', 'd_sm_2',\n",
       "       'd_sm_3', 'd_sm_4', 'd_sm_5', 'd_sm_6', 's_s_0.0', 's_s_1.0', 's_s_2.0',\n",
       "       'mon_1', 'mon_2', 'mon_3', 'mon_4', 'mon_5', 'mon_6', 'mon_7', 'mon_8',\n",
       "       'mon_9', 'mon_10', 'mon_11'],\n",
       "      dtype='object')"
      ]
     },
     "execution_count": 35,
     "metadata": {},
     "output_type": "execute_result"
    }
   ],
   "source": [
    "df.columns"
   ]
  },
  {
   "cell_type": "markdown",
   "metadata": {},
   "source": [
    "-------------------------------------------------------------------------------------------------------------------------"
   ]
  },
  {
   "cell_type": "markdown",
   "metadata": {},
   "source": [
    "# Functions used in regression"
   ]
  },
  {
   "cell_type": "markdown",
   "metadata": {},
   "source": [
    "- Gets the time series (output) of each zone and divides it by hourly data"
   ]
  },
  {
   "cell_type": "code",
   "execution_count": 36,
   "metadata": {},
   "outputs": [],
   "source": [
    "def get_zon_hor(h,z):\n",
    "    hora_n = df.query('hora == {}'.format(h))\n",
    "    zon_n = hora_n['{}'.format(z)]\n",
    "\n",
    "    return zon_n.valuesm"
   ]
  },
  {
   "cell_type": "markdown",
   "metadata": {},
   "source": [
    "- Gets categorical variables only"
   ]
  },
  {
   "cell_type": "code",
   "execution_count": 41,
   "metadata": {},
   "outputs": [],
   "source": [
    "def get_dums(h):\n",
    "    dem = ['hora', 'year', 'month']\n",
    "    zro = son #+ dem\n",
    "    sin_zonas = df.query(f'hora == {h}')\n",
    "    sin_zonas=sin_zonas.reset_index()\n",
    "    sin_zonas = sin_zonas.drop(zro,  axis=1)\n",
    "    sin_zonas = sin_zonas.drop('index', axis=1)\n",
    "    sin_zonas[\"ones\"] = 1\n",
    "    return  sin_zonas"
   ]
  },
  {
   "cell_type": "markdown",
   "metadata": {},
   "source": [
    "- Applies linear Kronecker to dummy variables"
   ]
  },
  {
   "cell_type": "code",
   "execution_count": 42,
   "metadata": {},
   "outputs": [],
   "source": [
    "def kron1(h, z):\n",
    "    #Definicion de valores\n",
    "    dm1 = get_dums(h); y = get_zon_hor(h, z)\n",
    "    kron = pd.DataFrame()\n",
    "    t = pd.DataFrame(np.arange(1, len(y)+1).tolist()); t.columns = [\"te\"]\n",
    "    error = pd.DataFrame()\n",
    "    \n",
    "    #Primer kronecker\n",
    "    kron = dm1.multiply(t[\"te\"] , axis=\"index\")\n",
    "    kron.columns = [f'{i}_t' for i in dm1.columns]\n",
    "    kron1 = pd.concat([kron, get_dums(h), t], sort = False, axis=1)\n",
    "    \n",
    "    \n",
    "    return kron1"
   ]
  },
  {
   "cell_type": "markdown",
   "metadata": {},
   "source": [
    "- Computes a linear regression, predicts the whole times series$^1$, and finds the periodicity$^2$ of the series.\n",
    "\n",
    "\n",
    "\n",
    "<font size=\"1\">$^1$ The series should be divided before this prediction as it contains the periodicity of the series that will be predicted (this is cheating)</font>\n",
    "\n",
    "<font size=\"1\">$^2$ This process was not performed correctly. The `signal.periodogram` function does not plot against frequency values</font>"
   ]
  },
  {
   "cell_type": "markdown",
   "metadata": {},
   "source": [
    "- Función de regresion_1 para obtener error y calcular picos"
   ]
  },
  {
   "cell_type": "code",
   "execution_count": 43,
   "metadata": {},
   "outputs": [],
   "source": [
    "def reg1_max(h, z):\n",
    "    y = get_zon_hor(h, z)\n",
    "    kron = kron1(h, z)\n",
    "    #Regresion\n",
    "    reg = LinearRegression(n_jobs = -1).fit(kron, y)\n",
    "    y_pred = reg.predict(kron)\n",
    "    \n",
    "    #Error\n",
    "    error = (y-y_pred)\n",
    "    f, asd = signal.periodogram(error, fs=1)\n",
    "    peaks, _ = find_peaks(asd, height = 30000)\n",
    "    \n",
    "    return peaks"
   ]
  },
  {
   "cell_type": "code",
   "execution_count": 44,
   "metadata": {},
   "outputs": [
    {
     "data": {
      "text/plain": [
       "array([ 20,  48, 203], dtype=int64)"
      ]
     },
     "execution_count": 44,
     "metadata": {},
     "output_type": "execute_result"
    }
   ],
   "source": [
    "reg1_max(1, \"zona_1\") # Frequency values, should use period instead"
   ]
  },
  {
   "cell_type": "markdown",
   "metadata": {},
   "source": [
    "- With the given frequencies, variables were created with the first coefficient of each Fourier series"
   ]
  },
  {
   "cell_type": "code",
   "execution_count": 45,
   "metadata": {},
   "outputs": [],
   "source": [
    "def get_sc_coef(h, z):\n",
    "    X = pd.DataFrame()\n",
    "    t = np.arange(len(df[df[\"hora\"]==h]))\n",
    "    X[\"te\"] = t \n",
    "    p = reg1_max(h, z)\n",
    "    for i  in p:\n",
    "        X[\"{}_sen\".format(i)] = np.sin((t*2*np.pi)/i)\n",
    "        X[\"{}_cos\".format(i)] = np.cos((t*2*np.pi)/i)\n",
    "    X[\"unos\"] = 1\n",
    "    return X"
   ]
  },
  {
   "cell_type": "markdown",
   "metadata": {},
   "source": [
    "- A multiplication$^1$ of rows as in linear Kronecker is applied to the dummies matrix and the frequency-dependent variables to get the correlation \n",
    "\n",
    "- To the previous matrix, dummies variables and frequency-dependent variables were added.  \n",
    "\n",
    "<font size=\"1\">$^1$Again, this computation should be made after data splitting</font>"
   ]
  },
  {
   "cell_type": "code",
   "execution_count": 46,
   "metadata": {},
   "outputs": [],
   "source": [
    "def kron_conv(h, z):\n",
    "    # X and y definition\n",
    "    y = get_zon_hor(h, z)\n",
    "    t = pd.DataFrame(np.arange(1, len(y)+1).tolist()); t.columns = [\"te\"]\n",
    "\n",
    "    \n",
    "    #Second Kronecker\n",
    "    dm1 = kron1(1, \"zona_1\"); dm2 = get_sc_coef(1, \"zona_1\")\n",
    "    d3 = pd.DataFrame(); kron = pd.DataFrame()\n",
    "    for i in dm2.columns:\n",
    "        d3 = dm1.multiply(dm2[f\"{i}\"], axis=\"index\")\n",
    "        d3.columns = [f\"{j}_{i}\" for j in dm1.columns]\n",
    "        kron = pd.concat([kron, d3], axis = 1)\n",
    "    \n",
    "    X = kron.reset_index()\n",
    "    X2 = pd.concat([X, get_dums(h), t], sort = False, axis=1)\n",
    "    X2 = X2.drop('index', axis = 1)\n",
    "    return X2"
   ]
  },
  {
   "cell_type": "markdown",
   "metadata": {},
   "source": [
    "- MAPE function\n",
    "- Since the series contain big numbers ($10^6$), MAPE metric was chosen, as not to get big sore values like in R2"
   ]
  },
  {
   "cell_type": "code",
   "execution_count": 47,
   "metadata": {},
   "outputs": [],
   "source": [
    "def MAPE(y_true, y_pred):\n",
    "    y_true, y_pred = np.array(y_true), np.array(y_pred)\n",
    "    ma = np.mean(np.abs((y_true - y_pred) / y_true)) * 100\n",
    "    return ma"
   ]
  },
  {
   "cell_type": "markdown",
   "metadata": {},
   "source": [
    "---------------------------------------------------------------------------------------------------------------------------"
   ]
  },
  {
   "cell_type": "markdown",
   "metadata": {},
   "source": [
    "## Regresión "
   ]
  },
  {
   "cell_type": "markdown",
   "metadata": {},
   "source": [
    "the matrix obtained from ``kron_conv`` function is used as input in a Linear Regression, Arima and Random Forest algorithms. Predictions and MAPE values are obtained from it (`reg`)."
   ]
  },
  {
   "cell_type": "markdown",
   "metadata": {},
   "source": [
    "-----------------------------------------------------------------------------------------------------------------------------"
   ]
  },
  {
   "cell_type": "markdown",
   "metadata": {},
   "source": [
    "Two splitting functions were used. One for the Arima and linear regression and one for the random forest, taking advantage of the latter's usage of validation test. "
   ]
  },
  {
   "cell_type": "code",
   "execution_count": 129,
   "metadata": {},
   "outputs": [],
   "source": [
    "def get_train_split_sick(X, y):\n",
    "    X_train, X_test, y_train, y_test = train_test_split(X, y, test_size = 0.03, shuffle = False) #0.015\n",
    "    return X_train, X_test, y_train, y_test"
   ]
  },
  {
   "cell_type": "code",
   "execution_count": 122,
   "metadata": {},
   "outputs": [],
   "source": [
    "def get_train_split_xgb(X, y):\n",
    "    X_train, X_test, y_train, y_test = train_test_split(X, y, test_size = 0.3, shuffle = False)\n",
    "    X_val, X_test, y_val, y_test = train_test_split(X_test, y_test, test_size =  float(format(20/len(y_test), '.3f')), shuffle = False) #0.06\n",
    "    return X_train, X_test, X_val, y_train, y_test, y_val "
   ]
  },
  {
   "cell_type": "code",
   "execution_count": 174,
   "metadata": {},
   "outputs": [],
   "source": [
    "from statsmodels.tsa.ar_model import AR"
   ]
  },
  {
   "cell_type": "markdown",
   "metadata": {},
   "source": [
    "The `reg` function uses hour and zone (energy plant) as parameters."
   ]
  },
  {
   "cell_type": "code",
   "execution_count": 191,
   "metadata": {},
   "outputs": [],
   "source": [
    "def reg(h, z):\n",
    "\n",
    "    y = pd.Series(get_zon_hor(h, z))\n",
    "    X = kron_conv(h, z)\n",
    "    X_tr, X_te, y_tr, y_te = get_train_split_sick(X, y)\n",
    "    \n",
    "    #Auto Arima\n",
    "    regresar = AR(y_tr).fit()\n",
    "    y_predico = regresar.predict(start=len(y_tr), end=len(y_tr) + len(y_te)-1, dynamic=False)\n",
    "    m3 = MAPE(y_te, y_predico)\n",
    "\n",
    "    \n",
    "    # Scikitlearn regression\n",
    "    regress = LinearRegression(n_jobs=-1,normalize=True).fit(X_tr, y_tr)\n",
    "    y_pred = regress.predict(X_te)\n",
    "    m = MAPE(y_te, y_pred)\n",
    "    \n",
    "    # XGBoost regression\n",
    "    X_train, X_test, X_val, y_train, y_test, y_val = get_train_split_xgb(X, y)\n",
    "    regress2 = XGBRegressor(objective ='reg:squarederror', n_jobs=-1, max_depth=3, learning_rate=1.5, n_estimators=5)#\n",
    "    regress2.fit(X_train, y_train, eval_set=[(X,y),(X_val,y_val)], verbose=0)#, , early_stopping_rounds=50)\n",
    "    y_pred2 = regress2.predict(X_test)\n",
    "    m2 = MAPE(y_test, y_pred2)\n",
    "    \n",
    "    # Y values that match with y_pred & y_pred2 indices\n",
    "    ma = [m + m2 + m3]\n",
    "    print(\"{}, hora_{}: Scikit_{:.3f} XGBoost_{:.3f} AR_{:.3f}\".format(z, h, m, m2, m3))\n",
    "    \n",
    "    return y_te.index, y_test.index, y_predico.index, y_pred, y_pred2, ma;"
   ]
  },
  {
   "cell_type": "markdown",
   "metadata": {},
   "source": [
    "Run regression function for specific hour and zone values"
   ]
  },
  {
   "cell_type": "code",
   "execution_count": 192,
   "metadata": {},
   "outputs": [],
   "source": [
    "hora_ = 5; zona_ = 'zona_2'"
   ]
  },
  {
   "cell_type": "markdown",
   "metadata": {},
   "source": [
    "`reg` function for specific hour and zone. Prints zone, hour, and MAPE values for each algorithm."
   ]
  },
  {
   "cell_type": "code",
   "execution_count": 196,
   "metadata": {},
   "outputs": [
    {
     "name": "stdout",
     "output_type": "stream",
     "text": [
      "zona_2, hora_5: Scikit_13.183 XGBoost_8.265 AR_4.595\n",
      "\n",
      " tiempo de corrida: 0.4398221969604492\n"
     ]
    }
   ],
   "source": [
    "beg = time()\n",
    "y = pd.Series(get_zon_hor(hora_ , zona_))\n",
    "x, x2, y_pred, y_pred2, y_pred3, ms = reg(hora_, zona_)\n",
    "\n",
    "end = time()\n",
    "print('\\n tiempo de corrida:', end - beg)"
   ]
  },
  {
   "cell_type": "code",
   "execution_count": 201,
   "metadata": {},
   "outputs": [
    {
     "name": "stdout",
     "output_type": "stream",
     "text": [
      "zona_1, hora_1: Scikit_16.594 XGBoost_11.467 AR_7.100\n",
      "zona_2, hora_1: Scikit_12.338 XGBoost_10.757 AR_4.933\n",
      "zona_3, hora_1: Scikit_6.091 XGBoost_3.514 AR_3.666\n",
      "zona_4, hora_1: Scikit_63.072 XGBoost_50.376 AR_8.891\n",
      "zona_5, hora_1: Scikit_16.014 XGBoost_7.425 AR_5.512\n",
      "zona_6, hora_1: Scikit_76.560 XGBoost_26.836 AR_14.575\n",
      "zona_7, hora_1: Scikit_6.778 XGBoost_10.448 AR_5.508\n",
      "zona_8, hora_1: Scikit_15.089 XGBoost_6.593 AR_6.339\n",
      "zona_9, hora_1: Scikit_121.875 XGBoost_125.091 AR_16.633\n",
      "zona_10, hora_1: Scikit_15.979 XGBoost_4.545 AR_5.083\n",
      "zona_11, hora_1: Scikit_9.437 XGBoost_13.075 AR_5.471\n",
      "zona_12, hora_1: Scikit_16.347 XGBoost_23.030 AR_18.014\n",
      "zona_13, hora_1: Scikit_20.236 XGBoost_33.991 AR_7.178\n",
      "zona_14, hora_1: Scikit_9.561 XGBoost_3.749 AR_4.603\n",
      "zona_15, hora_1: Scikit_4.425 XGBoost_4.070 AR_4.294\n",
      "zona_16, hora_1: Scikit_9.637 XGBoost_10.767 AR_6.610\n",
      "zona_17, hora_1: Scikit_8.126 XGBoost_9.831 AR_6.015\n",
      "zona_18, hora_1: Scikit_4.041 XGBoost_4.612 AR_3.636\n",
      "zona_19, hora_1: Scikit_7.081 XGBoost_8.240 AR_5.264\n",
      "zona_20, hora_1: Scikit_7.778 XGBoost_7.459 AR_3.276\n",
      "zona_21, hora_1: Scikit_10.253 XGBoost_25.095 AR_3.225\n",
      "zona_22, hora_1: Scikit_30.059 XGBoost_10.789 AR_4.348\n",
      "zona_23, hora_1: Scikit_18.135 XGBoost_8.844 AR_9.480\n",
      "zona_24, hora_1: Scikit_9.367 XGBoost_12.726 AR_4.888\n",
      "zona_25, hora_1: Scikit_18.747 XGBoost_7.701 AR_4.809\n",
      "zona_26, hora_1: Scikit_20.678 XGBoost_15.015 AR_6.041\n",
      "zona_1, hora_2: Scikit_14.421 XGBoost_7.955 AR_6.416\n",
      "zona_2, hora_2: Scikit_11.690 XGBoost_11.084 AR_5.057\n",
      "zona_3, hora_2: Scikit_5.886 XGBoost_5.111 AR_3.815\n",
      "zona_4, hora_2: Scikit_65.530 XGBoost_59.105 AR_10.406\n",
      "zona_5, hora_2: Scikit_14.639 XGBoost_6.068 AR_5.541\n",
      "zona_6, hora_2: Scikit_79.636 XGBoost_27.492 AR_15.091\n",
      "zona_7, hora_2: Scikit_5.870 XGBoost_10.257 AR_5.813\n",
      "zona_8, hora_2: Scikit_14.114 XGBoost_9.934 AR_6.650\n",
      "zona_9, hora_2: Scikit_124.621 XGBoost_111.044 AR_17.351\n",
      "zona_10, hora_2: Scikit_15.266 XGBoost_4.899 AR_4.646\n",
      "zona_11, hora_2: Scikit_9.418 XGBoost_7.934 AR_5.892\n",
      "zona_12, hora_2: Scikit_16.089 XGBoost_19.284 AR_16.565\n",
      "zona_13, hora_2: Scikit_21.554 XGBoost_25.015 AR_7.349\n",
      "zona_14, hora_2: Scikit_9.184 XGBoost_8.674 AR_5.163\n",
      "zona_15, hora_2: Scikit_4.093 XGBoost_6.267 AR_5.560\n",
      "zona_16, hora_2: Scikit_9.826 XGBoost_9.244 AR_6.776\n",
      "zona_17, hora_2: Scikit_7.954 XGBoost_8.323 AR_6.233\n",
      "zona_18, hora_2: Scikit_3.374 XGBoost_7.680 AR_3.600\n",
      "zona_19, hora_2: Scikit_6.670 XGBoost_7.702 AR_5.313\n",
      "zona_20, hora_2: Scikit_7.146 XGBoost_3.517 AR_3.567\n",
      "zona_21, hora_2: Scikit_11.555 XGBoost_4.721 AR_3.300\n",
      "zona_22, hora_2: Scikit_27.918 XGBoost_9.718 AR_4.382\n",
      "zona_23, hora_2: Scikit_18.735 XGBoost_11.141 AR_9.306\n",
      "zona_24, hora_2: Scikit_10.016 XGBoost_11.355 AR_5.307\n",
      "zona_25, hora_2: Scikit_16.378 XGBoost_13.634 AR_5.212\n",
      "zona_26, hora_2: Scikit_19.472 XGBoost_18.001 AR_5.989\n",
      "zona_1, hora_3: Scikit_14.108 XGBoost_6.953 AR_6.496\n",
      "zona_2, hora_3: Scikit_12.541 XGBoost_9.443 AR_4.588\n",
      "zona_3, hora_3: Scikit_5.963 XGBoost_4.423 AR_3.572\n",
      "zona_4, hora_3: Scikit_68.153 XGBoost_26.569 AR_11.253\n",
      "zona_5, hora_3: Scikit_14.085 XGBoost_5.810 AR_5.270\n",
      "zona_6, hora_3: Scikit_84.513 XGBoost_34.361 AR_15.474\n",
      "zona_7, hora_3: Scikit_5.452 XGBoost_6.663 AR_5.797\n",
      "zona_8, hora_3: Scikit_13.263 XGBoost_9.786 AR_5.725\n",
      "zona_9, hora_3: Scikit_132.866 XGBoost_138.373 AR_16.662\n",
      "zona_10, hora_3: Scikit_15.686 XGBoost_20.612 AR_4.825\n",
      "zona_11, hora_3: Scikit_7.461 XGBoost_9.367 AR_5.712\n",
      "zona_12, hora_3: Scikit_12.989 XGBoost_14.303 AR_15.237\n",
      "zona_13, hora_3: Scikit_23.999 XGBoost_62.463 AR_7.677\n",
      "zona_14, hora_3: Scikit_9.884 XGBoost_8.115 AR_5.377\n",
      "zona_15, hora_3: Scikit_4.930 XGBoost_5.791 AR_6.202\n",
      "zona_16, hora_3: Scikit_10.311 XGBoost_16.983 AR_7.091\n",
      "zona_17, hora_3: Scikit_8.716 XGBoost_8.484 AR_6.363\n",
      "zona_18, hora_3: Scikit_3.383 XGBoost_8.074 AR_3.365\n",
      "zona_19, hora_3: Scikit_6.614 XGBoost_5.747 AR_5.071\n",
      "zona_20, hora_3: Scikit_6.070 XGBoost_5.511 AR_3.836\n",
      "zona_21, hora_3: Scikit_10.980 XGBoost_5.006 AR_3.106\n",
      "zona_22, hora_3: Scikit_28.216 XGBoost_13.456 AR_4.683\n",
      "zona_23, hora_3: Scikit_18.356 XGBoost_10.149 AR_9.572\n",
      "zona_24, hora_3: Scikit_10.522 XGBoost_11.999 AR_4.772\n",
      "zona_25, hora_3: Scikit_14.895 XGBoost_7.339 AR_4.642\n",
      "zona_26, hora_3: Scikit_18.520 XGBoost_34.903 AR_6.746\n",
      "zona_1, hora_4: Scikit_17.107 XGBoost_7.019 AR_5.633\n",
      "zona_2, hora_4: Scikit_13.043 XGBoost_8.855 AR_4.642\n",
      "zona_3, hora_4: Scikit_5.843 XGBoost_5.020 AR_3.711\n",
      "zona_4, hora_4: Scikit_67.373 XGBoost_28.616 AR_11.497\n",
      "zona_5, hora_4: Scikit_14.849 XGBoost_7.642 AR_5.275\n",
      "zona_6, hora_4: Scikit_86.249 XGBoost_30.352 AR_15.623\n",
      "zona_7, hora_4: Scikit_5.361 XGBoost_9.008 AR_5.754\n",
      "zona_8, hora_4: Scikit_11.814 XGBoost_9.843 AR_6.093\n",
      "zona_9, hora_4: Scikit_138.101 XGBoost_147.411 AR_16.288\n",
      "zona_10, hora_4: Scikit_16.388 XGBoost_20.596 AR_4.896\n",
      "zona_11, hora_4: Scikit_6.833 XGBoost_8.144 AR_5.579\n",
      "zona_12, hora_4: Scikit_13.638 XGBoost_14.583 AR_14.979\n",
      "zona_13, hora_4: Scikit_23.748 XGBoost_57.551 AR_7.743\n",
      "zona_14, hora_4: Scikit_10.362 XGBoost_7.467 AR_5.761\n",
      "zona_15, hora_4: Scikit_4.740 XGBoost_7.512 AR_6.759\n",
      "zona_16, hora_4: Scikit_10.593 XGBoost_9.212 AR_7.107\n",
      "zona_17, hora_4: Scikit_8.554 XGBoost_9.243 AR_6.310\n",
      "zona_18, hora_4: Scikit_3.613 XGBoost_9.153 AR_3.559\n",
      "zona_19, hora_4: Scikit_5.928 XGBoost_6.997 AR_4.980\n",
      "zona_20, hora_4: Scikit_5.614 XGBoost_11.729 AR_4.218\n",
      "zona_21, hora_4: Scikit_10.643 XGBoost_8.024 AR_3.101\n",
      "zona_22, hora_4: Scikit_26.034 XGBoost_11.079 AR_5.026\n",
      "zona_23, hora_4: Scikit_19.742 XGBoost_20.530 AR_9.348\n",
      "zona_24, hora_4: Scikit_10.502 XGBoost_11.715 AR_4.612\n",
      "zona_25, hora_4: Scikit_12.488 XGBoost_9.639 AR_4.313\n",
      "zona_26, hora_4: Scikit_20.002 XGBoost_28.187 AR_7.181\n",
      "zona_1, hora_5: Scikit_15.152 XGBoost_8.627 AR_6.329\n",
      "zona_2, hora_5: Scikit_13.183 XGBoost_8.265 AR_4.595\n",
      "zona_3, hora_5: Scikit_5.796 XGBoost_4.629 AR_3.765\n",
      "zona_4, hora_5: Scikit_66.966 XGBoost_53.593 AR_11.027\n",
      "zona_5, hora_5: Scikit_15.310 XGBoost_9.289 AR_5.156\n",
      "zona_6, hora_5: Scikit_85.228 XGBoost_38.434 AR_15.577\n",
      "zona_7, hora_5: Scikit_5.843 XGBoost_8.314 AR_6.035\n",
      "zona_8, hora_5: Scikit_10.982 XGBoost_9.361 AR_5.959\n",
      "zona_9, hora_5: Scikit_139.486 XGBoost_128.408 AR_16.386\n",
      "zona_10, hora_5: Scikit_16.202 XGBoost_5.773 AR_4.876\n",
      "zona_11, hora_5: Scikit_7.146 XGBoost_6.576 AR_5.587\n",
      "zona_12, hora_5: Scikit_13.136 XGBoost_12.912 AR_14.089\n",
      "zona_13, hora_5: Scikit_22.220 XGBoost_27.994 AR_7.749\n",
      "zona_14, hora_5: Scikit_10.439 XGBoost_5.088 AR_5.931\n",
      "zona_15, hora_5: Scikit_5.470 XGBoost_7.365 AR_6.879\n",
      "zona_16, hora_5: Scikit_9.900 XGBoost_16.711 AR_7.106\n",
      "zona_17, hora_5: Scikit_7.884 XGBoost_8.572 AR_6.341\n",
      "zona_18, hora_5: Scikit_3.599 XGBoost_6.114 AR_3.540\n",
      "zona_19, hora_5: Scikit_5.847 XGBoost_5.180 AR_5.171\n",
      "zona_20, hora_5: Scikit_5.714 XGBoost_8.332 AR_4.121\n",
      "zona_21, hora_5: Scikit_10.539 XGBoost_9.387 AR_3.008\n",
      "zona_22, hora_5: Scikit_30.179 XGBoost_9.328 AR_5.732\n",
      "zona_23, hora_5: Scikit_21.046 XGBoost_13.580 AR_9.465\n",
      "zona_24, hora_5: Scikit_10.428 XGBoost_11.878 AR_4.706\n",
      "zona_25, hora_5: Scikit_12.199 XGBoost_12.865 AR_4.114\n",
      "zona_26, hora_5: Scikit_20.204 XGBoost_45.266 AR_6.860\n",
      "zona_1, hora_6: Scikit_14.312 XGBoost_7.359 AR_6.369\n",
      "zona_2, hora_6: Scikit_12.383 XGBoost_7.905 AR_4.678\n",
      "zona_3, hora_6: Scikit_5.815 XGBoost_4.799 AR_3.979\n",
      "zona_4, hora_6: Scikit_62.969 XGBoost_57.520 AR_9.854\n",
      "zona_5, hora_6: Scikit_14.938 XGBoost_14.255 AR_5.108\n",
      "zona_6, hora_6: Scikit_83.536 XGBoost_39.053 AR_15.290\n",
      "zona_7, hora_6: Scikit_12.082 XGBoost_17.658 AR_6.288\n",
      "zona_8, hora_6: Scikit_10.864 XGBoost_13.288 AR_6.251\n",
      "zona_9, hora_6: Scikit_139.792 XGBoost_158.183 AR_16.198\n",
      "zona_10, hora_6: Scikit_16.783 XGBoost_6.597 AR_4.905\n",
      "zona_11, hora_6: Scikit_7.642 XGBoost_11.688 AR_5.269\n",
      "zona_12, hora_6: Scikit_15.673 XGBoost_12.675 AR_14.210\n",
      "zona_13, hora_6: Scikit_26.742 XGBoost_19.195 AR_7.545\n",
      "zona_14, hora_6: Scikit_9.741 XGBoost_4.998 AR_6.439\n",
      "zona_15, hora_6: Scikit_5.918 XGBoost_10.042 AR_6.906\n",
      "zona_16, hora_6: Scikit_8.885 XGBoost_10.545 AR_6.852\n",
      "zona_17, hora_6: Scikit_7.914 XGBoost_8.190 AR_6.372\n",
      "zona_18, hora_6: Scikit_3.849 XGBoost_8.042 AR_3.675\n",
      "zona_19, hora_6: Scikit_5.994 XGBoost_3.776 AR_4.407\n",
      "zona_20, hora_6: Scikit_6.002 XGBoost_4.123 AR_4.067\n",
      "zona_21, hora_6: Scikit_10.159 XGBoost_8.757 AR_2.963\n",
      "zona_22, hora_6: Scikit_30.038 XGBoost_43.844 AR_5.806\n"
     ]
    },
    {
     "name": "stdout",
     "output_type": "stream",
     "text": [
      "zona_23, hora_6: Scikit_21.484 XGBoost_13.850 AR_9.095\n",
      "zona_24, hora_6: Scikit_10.802 XGBoost_12.250 AR_4.497\n",
      "zona_25, hora_6: Scikit_12.168 XGBoost_10.557 AR_4.216\n",
      "zona_26, hora_6: Scikit_17.129 XGBoost_17.465 AR_6.338\n",
      "zona_1, hora_7: Scikit_14.807 XGBoost_6.855 AR_6.682\n",
      "zona_2, hora_7: Scikit_11.498 XGBoost_8.930 AR_4.901\n",
      "zona_3, hora_7: Scikit_5.826 XGBoost_8.360 AR_4.938\n",
      "zona_4, hora_7: Scikit_55.272 XGBoost_18.164 AR_8.562\n",
      "zona_5, hora_7: Scikit_14.119 XGBoost_10.328 AR_5.193\n",
      "zona_6, hora_7: Scikit_81.788 XGBoost_31.304 AR_14.550\n",
      "zona_7, hora_7: Scikit_12.853 XGBoost_5.516 AR_5.473\n",
      "zona_8, hora_7: Scikit_10.187 XGBoost_11.933 AR_6.751\n",
      "zona_9, hora_7: Scikit_132.795 XGBoost_117.944 AR_14.155\n",
      "zona_10, hora_7: Scikit_18.159 XGBoost_5.742 AR_5.137\n",
      "zona_11, hora_7: Scikit_8.056 XGBoost_8.579 AR_5.217\n",
      "zona_12, hora_7: Scikit_14.680 XGBoost_14.296 AR_13.079\n",
      "zona_13, hora_7: Scikit_28.586 XGBoost_17.060 AR_7.727\n",
      "zona_14, hora_7: Scikit_11.896 XGBoost_7.707 AR_8.474\n",
      "zona_15, hora_7: Scikit_6.921 XGBoost_8.454 AR_7.882\n",
      "zona_16, hora_7: Scikit_6.985 XGBoost_9.781 AR_6.891\n",
      "zona_17, hora_7: Scikit_7.640 XGBoost_8.458 AR_6.509\n",
      "zona_18, hora_7: Scikit_4.137 XGBoost_5.638 AR_4.843\n",
      "zona_19, hora_7: Scikit_6.308 XGBoost_6.342 AR_3.604\n",
      "zona_20, hora_7: Scikit_3.979 XGBoost_5.162 AR_4.582\n",
      "zona_21, hora_7: Scikit_9.486 XGBoost_7.171 AR_2.976\n",
      "zona_22, hora_7: Scikit_29.435 XGBoost_29.941 AR_5.899\n",
      "zona_23, hora_7: Scikit_19.505 XGBoost_14.094 AR_8.393\n",
      "zona_24, hora_7: Scikit_11.971 XGBoost_12.444 AR_5.095\n",
      "zona_25, hora_7: Scikit_12.840 XGBoost_7.432 AR_4.013\n",
      "zona_26, hora_7: Scikit_12.980 XGBoost_13.555 AR_5.704\n",
      "zona_1, hora_8: Scikit_15.330 XGBoost_6.696 AR_6.490\n",
      "zona_2, hora_8: Scikit_10.770 XGBoost_12.785 AR_5.155\n",
      "zona_3, hora_8: Scikit_7.269 XGBoost_6.620 AR_5.981\n",
      "zona_4, hora_8: Scikit_51.680 XGBoost_9.581 AR_7.967\n",
      "zona_5, hora_8: Scikit_14.503 XGBoost_18.830 AR_6.314\n",
      "zona_6, hora_8: Scikit_76.359 XGBoost_32.190 AR_13.911\n",
      "zona_7, hora_8: Scikit_13.644 XGBoost_9.522 AR_5.703\n",
      "zona_8, hora_8: Scikit_6.666 XGBoost_8.936 AR_7.131\n",
      "zona_9, hora_8: Scikit_126.608 XGBoost_111.833 AR_12.609\n",
      "zona_10, hora_8: Scikit_18.249 XGBoost_7.412 AR_6.178\n",
      "zona_11, hora_8: Scikit_7.243 XGBoost_8.524 AR_5.790\n",
      "zona_12, hora_8: Scikit_15.268 XGBoost_8.049 AR_11.508\n",
      "zona_13, hora_8: Scikit_29.961 XGBoost_20.636 AR_7.780\n",
      "zona_14, hora_8: Scikit_12.559 XGBoost_7.154 AR_9.135\n",
      "zona_15, hora_8: Scikit_6.059 XGBoost_13.087 AR_9.279\n",
      "zona_16, hora_8: Scikit_7.529 XGBoost_6.633 AR_7.570\n",
      "zona_17, hora_8: Scikit_7.799 XGBoost_11.627 AR_7.498\n",
      "zona_18, hora_8: Scikit_4.540 XGBoost_3.762 AR_5.329\n",
      "zona_19, hora_8: Scikit_7.939 XGBoost_12.798 AR_3.643\n",
      "zona_20, hora_8: Scikit_4.941 XGBoost_5.479 AR_6.213\n",
      "zona_21, hora_8: Scikit_8.746 XGBoost_19.468 AR_3.562\n",
      "zona_22, hora_8: Scikit_27.209 XGBoost_12.297 AR_6.445\n",
      "zona_23, hora_8: Scikit_24.055 XGBoost_13.956 AR_8.251\n",
      "zona_24, hora_8: Scikit_12.358 XGBoost_12.053 AR_6.265\n",
      "zona_25, hora_8: Scikit_15.327 XGBoost_5.187 AR_4.350\n",
      "zona_26, hora_8: Scikit_8.711 XGBoost_13.699 AR_5.396\n",
      "zona_1, hora_9: Scikit_16.472 XGBoost_7.693 AR_6.940\n",
      "zona_2, hora_9: Scikit_10.477 XGBoost_8.360 AR_4.957\n",
      "zona_3, hora_9: Scikit_7.477 XGBoost_8.334 AR_5.729\n",
      "zona_4, hora_9: Scikit_51.832 XGBoost_11.438 AR_7.831\n",
      "zona_5, hora_9: Scikit_12.743 XGBoost_8.384 AR_5.492\n",
      "zona_6, hora_9: Scikit_71.595 XGBoost_33.081 AR_14.017\n",
      "zona_7, hora_9: Scikit_16.344 XGBoost_8.558 AR_5.827\n",
      "zona_8, hora_9: Scikit_8.188 XGBoost_14.371 AR_7.113\n",
      "zona_9, hora_9: Scikit_122.937 XGBoost_86.024 AR_14.048\n",
      "zona_10, hora_9: Scikit_21.707 XGBoost_5.920 AR_5.924\n",
      "zona_11, hora_9: Scikit_8.172 XGBoost_10.943 AR_6.682\n",
      "zona_12, hora_9: Scikit_15.000 XGBoost_11.968 AR_11.459\n",
      "zona_13, hora_9: Scikit_28.216 XGBoost_29.562 AR_8.529\n",
      "zona_14, hora_9: Scikit_11.400 XGBoost_5.949 AR_8.132\n",
      "zona_15, hora_9: Scikit_3.964 XGBoost_7.536 AR_7.080\n",
      "zona_16, hora_9: Scikit_8.899 XGBoost_11.585 AR_6.548\n",
      "zona_17, hora_9: Scikit_7.768 XGBoost_10.459 AR_7.630\n",
      "zona_18, hora_9: Scikit_4.397 XGBoost_5.170 AR_4.994\n",
      "zona_19, hora_9: Scikit_7.906 XGBoost_6.322 AR_4.022\n",
      "zona_20, hora_9: Scikit_4.280 XGBoost_5.526 AR_5.730\n",
      "zona_21, hora_9: Scikit_7.701 XGBoost_9.216 AR_3.779\n",
      "zona_22, hora_9: Scikit_28.406 XGBoost_11.031 AR_5.099\n",
      "zona_23, hora_9: Scikit_25.713 XGBoost_14.165 AR_7.872\n",
      "zona_24, hora_9: Scikit_12.920 XGBoost_12.453 AR_6.133\n",
      "zona_25, hora_9: Scikit_15.835 XGBoost_5.841 AR_4.509\n",
      "zona_26, hora_9: Scikit_10.487 XGBoost_14.378 AR_5.591\n",
      "zona_1, hora_10: Scikit_14.930 XGBoost_6.108 AR_6.304\n",
      "zona_2, hora_10: Scikit_10.201 XGBoost_7.925 AR_4.327\n",
      "zona_3, hora_10: Scikit_7.990 XGBoost_7.123 AR_5.582\n",
      "zona_4, hora_10: Scikit_51.202 XGBoost_19.873 AR_7.688\n",
      "zona_5, hora_10: Scikit_11.223 XGBoost_5.511 AR_5.146\n",
      "zona_6, hora_10: Scikit_68.013 XGBoost_25.588 AR_13.641\n",
      "zona_7, hora_10: Scikit_14.943 XGBoost_10.745 AR_5.830\n",
      "zona_8, hora_10: Scikit_7.448 XGBoost_10.021 AR_6.398\n",
      "zona_9, hora_10: Scikit_115.050 XGBoost_80.539 AR_13.919\n",
      "zona_10, hora_10: Scikit_23.021 XGBoost_5.657 AR_5.543\n",
      "zona_11, hora_10: Scikit_8.582 XGBoost_10.733 AR_6.947\n",
      "zona_12, hora_10: Scikit_12.906 XGBoost_12.013 AR_11.087\n",
      "zona_13, hora_10: Scikit_30.170 XGBoost_29.837 AR_9.121\n",
      "zona_14, hora_10: Scikit_10.360 XGBoost_5.932 AR_8.132\n",
      "zona_15, hora_10: Scikit_3.564 XGBoost_6.435 AR_5.238\n",
      "zona_16, hora_10: Scikit_7.755 XGBoost_10.878 AR_5.734\n",
      "zona_17, hora_10: Scikit_6.867 XGBoost_11.625 AR_7.452\n",
      "zona_18, hora_10: Scikit_4.271 XGBoost_5.947 AR_4.637\n",
      "zona_19, hora_10: Scikit_5.992 XGBoost_7.317 AR_4.652\n",
      "zona_20, hora_10: Scikit_3.978 XGBoost_8.789 AR_5.253\n",
      "zona_21, hora_10: Scikit_7.340 XGBoost_3.704 AR_3.678\n",
      "zona_22, hora_10: Scikit_30.535 XGBoost_20.067 AR_5.214\n",
      "zona_23, hora_10: Scikit_26.735 XGBoost_14.912 AR_7.544\n",
      "zona_24, hora_10: Scikit_13.146 XGBoost_11.253 AR_5.787\n",
      "zona_25, hora_10: Scikit_18.513 XGBoost_5.507 AR_4.423\n",
      "zona_26, hora_10: Scikit_9.363 XGBoost_10.878 AR_5.401\n",
      "zona_1, hora_11: Scikit_12.642 XGBoost_21.642 AR_7.062\n",
      "zona_2, hora_11: Scikit_10.168 XGBoost_6.325 AR_4.188\n",
      "zona_3, hora_11: Scikit_7.747 XGBoost_6.823 AR_5.186\n",
      "zona_4, hora_11: Scikit_49.213 XGBoost_26.233 AR_8.027\n",
      "zona_5, hora_11: Scikit_11.656 XGBoost_17.716 AR_4.989\n",
      "zona_6, hora_11: Scikit_67.475 XGBoost_28.719 AR_13.305\n",
      "zona_7, hora_11: Scikit_13.975 XGBoost_6.365 AR_5.656\n",
      "zona_8, hora_11: Scikit_8.987 XGBoost_11.411 AR_6.829\n",
      "zona_9, hora_11: Scikit_109.899 XGBoost_118.323 AR_13.953\n",
      "zona_10, hora_11: Scikit_22.859 XGBoost_6.073 AR_5.592\n",
      "zona_11, hora_11: Scikit_8.006 XGBoost_10.035 AR_7.051\n",
      "zona_12, hora_11: Scikit_10.908 XGBoost_24.464 AR_11.797\n",
      "zona_13, hora_11: Scikit_29.512 XGBoost_29.185 AR_9.025\n",
      "zona_14, hora_11: Scikit_9.480 XGBoost_3.729 AR_7.763\n",
      "zona_15, hora_11: Scikit_3.542 XGBoost_6.150 AR_4.554\n",
      "zona_16, hora_11: Scikit_7.903 XGBoost_10.242 AR_5.442\n",
      "zona_17, hora_11: Scikit_7.097 XGBoost_12.010 AR_7.447\n",
      "zona_18, hora_11: Scikit_4.090 XGBoost_10.202 AR_4.232\n",
      "zona_19, hora_11: Scikit_7.770 XGBoost_6.714 AR_5.785\n",
      "zona_20, hora_11: Scikit_4.130 XGBoost_3.404 AR_4.095\n",
      "zona_21, hora_11: Scikit_7.372 XGBoost_11.843 AR_3.827\n",
      "zona_22, hora_11: Scikit_31.404 XGBoost_32.196 AR_4.949\n",
      "zona_23, hora_11: Scikit_27.875 XGBoost_20.969 AR_7.223\n",
      "zona_24, hora_11: Scikit_12.711 XGBoost_10.902 AR_5.471\n",
      "zona_25, hora_11: Scikit_21.178 XGBoost_13.925 AR_4.575\n",
      "zona_26, hora_11: Scikit_9.578 XGBoost_15.531 AR_5.678\n",
      "zona_1, hora_12: Scikit_11.224 XGBoost_6.688 AR_5.723\n",
      "zona_2, hora_12: Scikit_9.333 XGBoost_6.491 AR_4.217\n",
      "zona_3, hora_12: Scikit_7.541 XGBoost_6.213 AR_4.757\n",
      "zona_4, hora_12: Scikit_50.276 XGBoost_17.826 AR_8.304\n",
      "zona_5, hora_12: Scikit_10.640 XGBoost_18.257 AR_4.927\n",
      "zona_6, hora_12: Scikit_64.806 XGBoost_25.003 AR_13.058\n",
      "zona_7, hora_12: Scikit_13.977 XGBoost_6.649 AR_5.551\n",
      "zona_8, hora_12: Scikit_8.881 XGBoost_9.904 AR_6.684\n",
      "zona_9, hora_12: Scikit_107.984 XGBoost_113.365 AR_14.082\n",
      "zona_10, hora_12: Scikit_23.080 XGBoost_23.505 AR_5.891\n",
      "zona_11, hora_12: Scikit_8.004 XGBoost_11.610 AR_7.319\n",
      "zona_12, hora_12: Scikit_16.059 XGBoost_30.046 AR_13.201\n",
      "zona_13, hora_12: Scikit_25.409 XGBoost_48.589 AR_8.632\n",
      "zona_14, hora_12: Scikit_10.138 XGBoost_4.027 AR_7.393\n",
      "zona_15, hora_12: Scikit_4.483 XGBoost_4.215 AR_5.221\n",
      "zona_16, hora_12: Scikit_7.330 XGBoost_7.635 AR_5.597\n",
      "zona_17, hora_12: Scikit_7.276 XGBoost_10.063 AR_7.064\n"
     ]
    },
    {
     "name": "stdout",
     "output_type": "stream",
     "text": [
      "zona_18, hora_12: Scikit_3.770 XGBoost_7.677 AR_3.914\n",
      "zona_19, hora_12: Scikit_7.411 XGBoost_12.313 AR_6.247\n",
      "zona_20, hora_12: Scikit_3.591 XGBoost_11.990 AR_4.474\n",
      "zona_21, hora_12: Scikit_7.501 XGBoost_16.142 AR_3.997\n",
      "zona_22, hora_12: Scikit_29.121 XGBoost_8.755 AR_4.888\n",
      "zona_23, hora_12: Scikit_32.045 XGBoost_8.218 AR_7.226\n",
      "zona_24, hora_12: Scikit_12.550 XGBoost_11.156 AR_5.376\n",
      "zona_25, hora_12: Scikit_22.519 XGBoost_10.921 AR_4.408\n",
      "zona_26, hora_12: Scikit_10.446 XGBoost_10.838 AR_7.507\n",
      "zona_1, hora_13: Scikit_10.965 XGBoost_6.414 AR_5.287\n",
      "zona_2, hora_13: Scikit_10.366 XGBoost_8.090 AR_4.103\n",
      "zona_3, hora_13: Scikit_7.558 XGBoost_8.219 AR_4.434\n",
      "zona_4, hora_13: Scikit_51.948 XGBoost_17.917 AR_8.464\n",
      "zona_5, hora_13: Scikit_8.620 XGBoost_9.905 AR_5.014\n",
      "zona_6, hora_13: Scikit_64.778 XGBoost_24.793 AR_13.624\n",
      "zona_7, hora_13: Scikit_12.586 XGBoost_3.372 AR_4.554\n",
      "zona_8, hora_13: Scikit_10.444 XGBoost_9.297 AR_6.957\n",
      "zona_9, hora_13: Scikit_103.623 XGBoost_119.391 AR_14.962\n",
      "zona_10, hora_13: Scikit_22.594 XGBoost_13.179 AR_5.739\n",
      "zona_11, hora_13: Scikit_7.638 XGBoost_10.339 AR_7.495\n",
      "zona_12, hora_13: Scikit_13.972 XGBoost_34.012 AR_14.426\n",
      "zona_13, hora_13: Scikit_23.155 XGBoost_29.196 AR_7.526\n",
      "zona_14, hora_13: Scikit_8.798 XGBoost_3.473 AR_8.000\n",
      "zona_15, hora_13: Scikit_4.264 XGBoost_5.622 AR_4.947\n",
      "zona_16, hora_13: Scikit_7.216 XGBoost_7.300 AR_5.647\n",
      "zona_17, hora_13: Scikit_7.131 XGBoost_8.617 AR_7.046\n",
      "zona_18, hora_13: Scikit_3.879 XGBoost_9.441 AR_3.846\n",
      "zona_19, hora_13: Scikit_7.082 XGBoost_16.383 AR_6.732\n",
      "zona_20, hora_13: Scikit_3.586 XGBoost_7.778 AR_4.273\n",
      "zona_21, hora_13: Scikit_7.151 XGBoost_8.563 AR_3.928\n",
      "zona_22, hora_13: Scikit_29.334 XGBoost_7.347 AR_5.704\n",
      "zona_23, hora_13: Scikit_33.996 XGBoost_18.987 AR_7.285\n",
      "zona_24, hora_13: Scikit_12.166 XGBoost_10.400 AR_5.228\n",
      "zona_25, hora_13: Scikit_22.333 XGBoost_8.004 AR_4.102\n",
      "zona_26, hora_13: Scikit_12.380 XGBoost_29.366 AR_7.615\n",
      "zona_1, hora_14: Scikit_11.627 XGBoost_6.619 AR_5.954\n",
      "zona_2, hora_14: Scikit_9.752 XGBoost_5.259 AR_4.234\n",
      "zona_3, hora_14: Scikit_7.810 XGBoost_6.809 AR_4.599\n",
      "zona_4, hora_14: Scikit_48.309 XGBoost_10.593 AR_8.877\n",
      "zona_5, hora_14: Scikit_8.680 XGBoost_7.637 AR_5.116\n",
      "zona_6, hora_14: Scikit_64.231 XGBoost_25.878 AR_13.798\n",
      "zona_7, hora_14: Scikit_13.844 XGBoost_5.300 AR_4.523\n",
      "zona_8, hora_14: Scikit_9.536 XGBoost_9.261 AR_6.542\n",
      "zona_9, hora_14: Scikit_101.127 XGBoost_114.285 AR_14.963\n",
      "zona_10, hora_14: Scikit_20.986 XGBoost_27.869 AR_5.631\n",
      "zona_11, hora_14: Scikit_7.581 XGBoost_7.934 AR_7.214\n",
      "zona_12, hora_14: Scikit_14.732 XGBoost_32.795 AR_14.818\n",
      "zona_13, hora_14: Scikit_22.164 XGBoost_38.610 AR_7.102\n",
      "zona_14, hora_14: Scikit_8.772 XGBoost_3.385 AR_7.876\n",
      "zona_15, hora_14: Scikit_4.294 XGBoost_4.954 AR_4.833\n",
      "zona_16, hora_14: Scikit_6.847 XGBoost_5.586 AR_5.847\n",
      "zona_17, hora_14: Scikit_8.349 XGBoost_6.962 AR_6.821\n",
      "zona_18, hora_14: Scikit_3.954 XGBoost_5.517 AR_3.609\n",
      "zona_19, hora_14: Scikit_6.420 XGBoost_15.586 AR_6.720\n",
      "zona_20, hora_14: Scikit_3.396 XGBoost_4.327 AR_3.909\n",
      "zona_21, hora_14: Scikit_7.275 XGBoost_10.934 AR_3.994\n",
      "zona_22, hora_14: Scikit_29.526 XGBoost_8.177 AR_5.737\n",
      "zona_23, hora_14: Scikit_32.908 XGBoost_9.353 AR_7.502\n",
      "zona_24, hora_14: Scikit_11.583 XGBoost_12.236 AR_5.323\n",
      "zona_25, hora_14: Scikit_22.552 XGBoost_9.772 AR_4.245\n",
      "zona_26, hora_14: Scikit_11.398 XGBoost_27.429 AR_6.526\n",
      "zona_1, hora_15: Scikit_12.611 XGBoost_5.805 AR_6.162\n",
      "zona_2, hora_15: Scikit_9.728 XGBoost_4.893 AR_4.116\n",
      "zona_3, hora_15: Scikit_7.619 XGBoost_5.839 AR_4.350\n",
      "zona_4, hora_15: Scikit_45.996 XGBoost_20.235 AR_8.323\n",
      "zona_5, hora_15: Scikit_7.987 XGBoost_5.786 AR_5.146\n",
      "zona_6, hora_15: Scikit_64.810 XGBoost_29.032 AR_13.766\n",
      "zona_7, hora_15: Scikit_15.197 XGBoost_6.249 AR_4.831\n",
      "zona_8, hora_15: Scikit_10.921 XGBoost_8.892 AR_6.255\n",
      "zona_9, hora_15: Scikit_103.653 XGBoost_89.482 AR_14.858\n",
      "zona_10, hora_15: Scikit_20.451 XGBoost_6.456 AR_5.376\n",
      "zona_11, hora_15: Scikit_7.391 XGBoost_12.452 AR_6.714\n",
      "zona_12, hora_15: Scikit_13.211 XGBoost_32.402 AR_15.483\n",
      "zona_13, hora_15: Scikit_22.856 XGBoost_23.319 AR_6.756\n",
      "zona_14, hora_15: Scikit_10.603 XGBoost_3.787 AR_7.987\n",
      "zona_15, hora_15: Scikit_4.328 XGBoost_5.134 AR_4.657\n",
      "zona_16, hora_15: Scikit_6.952 XGBoost_8.616 AR_5.985\n",
      "zona_17, hora_15: Scikit_9.495 XGBoost_8.701 AR_6.610\n",
      "zona_18, hora_15: Scikit_4.049 XGBoost_9.267 AR_3.583\n",
      "zona_19, hora_15: Scikit_5.408 XGBoost_10.456 AR_6.372\n",
      "zona_20, hora_15: Scikit_3.423 XGBoost_25.975 AR_4.064\n",
      "zona_21, hora_15: Scikit_8.307 XGBoost_4.731 AR_3.913\n",
      "zona_22, hora_15: Scikit_30.318 XGBoost_8.756 AR_5.569\n",
      "zona_23, hora_15: Scikit_32.352 XGBoost_11.339 AR_7.444\n",
      "zona_24, hora_15: Scikit_11.291 XGBoost_12.063 AR_5.297\n",
      "zona_25, hora_15: Scikit_24.733 XGBoost_12.661 AR_4.237\n",
      "zona_26, hora_15: Scikit_11.434 XGBoost_16.116 AR_6.499\n",
      "zona_1, hora_16: Scikit_13.158 XGBoost_5.883 AR_5.873\n",
      "zona_2, hora_16: Scikit_9.745 XGBoost_9.351 AR_4.189\n",
      "zona_3, hora_16: Scikit_7.155 XGBoost_5.514 AR_4.613\n",
      "zona_4, hora_16: Scikit_45.177 XGBoost_27.619 AR_8.905\n",
      "zona_5, hora_16: Scikit_7.607 XGBoost_16.090 AR_5.253\n",
      "zona_6, hora_16: Scikit_64.281 XGBoost_33.409 AR_14.300\n",
      "zona_7, hora_16: Scikit_17.025 XGBoost_7.445 AR_5.061\n",
      "zona_8, hora_16: Scikit_12.616 XGBoost_8.706 AR_6.640\n",
      "zona_9, hora_16: Scikit_105.981 XGBoost_84.709 AR_14.534\n",
      "zona_10, hora_16: Scikit_18.505 XGBoost_7.521 AR_5.331\n",
      "zona_11, hora_16: Scikit_6.994 XGBoost_9.446 AR_6.899\n",
      "zona_12, hora_16: Scikit_13.594 XGBoost_20.539 AR_15.333\n",
      "zona_13, hora_16: Scikit_21.497 XGBoost_27.452 AR_6.782\n",
      "zona_14, hora_16: Scikit_9.391 XGBoost_3.990 AR_8.014\n",
      "zona_15, hora_16: Scikit_4.253 XGBoost_4.765 AR_4.933\n",
      "zona_16, hora_16: Scikit_8.171 XGBoost_8.741 AR_5.831\n",
      "zona_17, hora_16: Scikit_9.418 XGBoost_10.403 AR_6.608\n",
      "zona_18, hora_16: Scikit_3.782 XGBoost_6.753 AR_3.267\n",
      "zona_19, hora_16: Scikit_5.214 XGBoost_11.237 AR_5.497\n",
      "zona_20, hora_16: Scikit_4.098 XGBoost_8.457 AR_4.240\n",
      "zona_21, hora_16: Scikit_9.207 XGBoost_5.351 AR_4.130\n",
      "zona_22, hora_16: Scikit_31.279 XGBoost_8.816 AR_5.558\n",
      "zona_23, hora_16: Scikit_30.258 XGBoost_7.842 AR_7.273\n",
      "zona_24, hora_16: Scikit_10.899 XGBoost_11.813 AR_5.550\n",
      "zona_25, hora_16: Scikit_24.708 XGBoost_5.763 AR_3.972\n",
      "zona_26, hora_16: Scikit_13.088 XGBoost_21.911 AR_6.777\n",
      "zona_1, hora_17: Scikit_21.070 XGBoost_5.338 AR_6.009\n",
      "zona_2, hora_17: Scikit_10.289 XGBoost_4.917 AR_4.536\n",
      "zona_3, hora_17: Scikit_7.715 XGBoost_5.830 AR_4.584\n",
      "zona_4, hora_17: Scikit_48.679 XGBoost_23.759 AR_8.465\n",
      "zona_5, hora_17: Scikit_8.006 XGBoost_16.010 AR_5.371\n",
      "zona_6, hora_17: Scikit_63.876 XGBoost_32.996 AR_14.594\n",
      "zona_7, hora_17: Scikit_16.473 XGBoost_7.104 AR_5.201\n",
      "zona_8, hora_17: Scikit_12.063 XGBoost_9.064 AR_6.707\n",
      "zona_9, hora_17: Scikit_106.819 XGBoost_84.949 AR_14.636\n",
      "zona_10, hora_17: Scikit_16.901 XGBoost_6.704 AR_5.372\n",
      "zona_11, hora_17: Scikit_7.485 XGBoost_8.863 AR_6.654\n",
      "zona_12, hora_17: Scikit_14.178 XGBoost_21.401 AR_15.437\n",
      "zona_13, hora_17: Scikit_21.937 XGBoost_12.927 AR_7.122\n",
      "zona_14, hora_17: Scikit_9.223 XGBoost_4.992 AR_7.434\n",
      "zona_15, hora_17: Scikit_4.320 XGBoost_5.364 AR_5.256\n",
      "zona_16, hora_17: Scikit_7.904 XGBoost_6.338 AR_6.048\n",
      "zona_17, hora_17: Scikit_8.778 XGBoost_10.834 AR_6.735\n",
      "zona_18, hora_17: Scikit_3.785 XGBoost_6.566 AR_3.558\n",
      "zona_19, hora_17: Scikit_5.441 XGBoost_9.635 AR_5.364\n",
      "zona_20, hora_17: Scikit_4.449 XGBoost_5.805 AR_4.577\n",
      "zona_21, hora_17: Scikit_9.388 XGBoost_3.744 AR_4.351\n",
      "zona_22, hora_17: Scikit_31.636 XGBoost_10.162 AR_5.203\n",
      "zona_23, hora_17: Scikit_30.182 XGBoost_7.982 AR_8.006\n",
      "zona_24, hora_17: Scikit_10.136 XGBoost_11.348 AR_5.798\n",
      "zona_25, hora_17: Scikit_23.163 XGBoost_6.783 AR_4.372\n",
      "zona_26, hora_17: Scikit_13.946 XGBoost_24.644 AR_7.173\n",
      "zona_1, hora_18: Scikit_26.779 XGBoost_9.302 AR_5.279\n",
      "zona_2, hora_18: Scikit_9.863 XGBoost_7.649 AR_4.235\n",
      "zona_3, hora_18: Scikit_8.093 XGBoost_6.756 AR_4.381\n",
      "zona_4, hora_18: Scikit_51.591 XGBoost_16.098 AR_7.921\n",
      "zona_5, hora_18: Scikit_7.741 XGBoost_9.925 AR_5.354\n",
      "zona_6, hora_18: Scikit_64.132 XGBoost_32.055 AR_14.373\n",
      "zona_7, hora_18: Scikit_17.547 XGBoost_12.589 AR_5.380\n",
      "zona_8, hora_18: Scikit_10.839 XGBoost_9.206 AR_6.282\n",
      "zona_9, hora_18: Scikit_108.631 XGBoost_107.619 AR_13.883\n",
      "zona_10, hora_18: Scikit_16.633 XGBoost_6.902 AR_4.686\n",
      "zona_11, hora_18: Scikit_7.649 XGBoost_6.957 AR_6.476\n"
     ]
    },
    {
     "name": "stdout",
     "output_type": "stream",
     "text": [
      "zona_12, hora_18: Scikit_13.808 XGBoost_15.571 AR_14.509\n",
      "zona_13, hora_18: Scikit_21.693 XGBoost_10.379 AR_7.250\n",
      "zona_14, hora_18: Scikit_6.967 XGBoost_4.885 AR_6.672\n",
      "zona_15, hora_18: Scikit_4.070 XGBoost_7.109 AR_4.846\n",
      "zona_16, hora_18: Scikit_7.363 XGBoost_8.258 AR_6.191\n",
      "zona_17, hora_18: Scikit_7.912 XGBoost_9.365 AR_6.949\n",
      "zona_18, hora_18: Scikit_4.475 XGBoost_7.557 AR_3.555\n",
      "zona_19, hora_18: Scikit_5.440 XGBoost_8.691 AR_5.050\n",
      "zona_20, hora_18: Scikit_3.718 XGBoost_7.683 AR_4.244\n",
      "zona_21, hora_18: Scikit_8.748 XGBoost_3.298 AR_4.194\n",
      "zona_22, hora_18: Scikit_31.421 XGBoost_13.872 AR_4.961\n",
      "zona_23, hora_18: Scikit_27.811 XGBoost_11.881 AR_8.134\n",
      "zona_24, hora_18: Scikit_9.153 XGBoost_9.373 AR_5.223\n",
      "zona_25, hora_18: Scikit_23.093 XGBoost_13.259 AR_4.331\n",
      "zona_26, hora_18: Scikit_16.379 XGBoost_18.263 AR_7.467\n",
      "zona_1, hora_19: Scikit_26.269 XGBoost_9.030 AR_5.511\n",
      "zona_2, hora_19: Scikit_8.317 XGBoost_6.955 AR_3.922\n",
      "zona_3, hora_19: Scikit_7.682 XGBoost_5.565 AR_3.587\n",
      "zona_4, hora_19: Scikit_51.675 XGBoost_20.823 AR_9.334\n",
      "zona_5, hora_19: Scikit_8.525 XGBoost_10.041 AR_5.285\n",
      "zona_6, hora_19: Scikit_63.060 XGBoost_43.003 AR_14.577\n",
      "zona_7, hora_19: Scikit_19.148 XGBoost_9.832 AR_5.270\n",
      "zona_8, hora_19: Scikit_8.511 XGBoost_9.732 AR_6.269\n",
      "zona_9, hora_19: Scikit_113.160 XGBoost_82.437 AR_14.075\n",
      "zona_10, hora_19: Scikit_16.868 XGBoost_7.316 AR_4.562\n",
      "zona_11, hora_19: Scikit_7.718 XGBoost_11.489 AR_5.894\n",
      "zona_12, hora_19: Scikit_12.475 XGBoost_16.628 AR_13.936\n",
      "zona_13, hora_19: Scikit_24.525 XGBoost_18.685 AR_6.893\n",
      "zona_14, hora_19: Scikit_7.707 XGBoost_6.139 AR_6.673\n",
      "zona_15, hora_19: Scikit_4.236 XGBoost_25.415 AR_4.228\n",
      "zona_16, hora_19: Scikit_7.943 XGBoost_7.727 AR_6.522\n",
      "zona_17, hora_19: Scikit_8.546 XGBoost_11.104 AR_7.059\n",
      "zona_18, hora_19: Scikit_4.469 XGBoost_7.431 AR_3.376\n",
      "zona_19, hora_19: Scikit_5.417 XGBoost_15.089 AR_4.833\n",
      "zona_20, hora_19: Scikit_3.522 XGBoost_4.285 AR_3.583\n",
      "zona_21, hora_19: Scikit_8.751 XGBoost_10.898 AR_3.723\n",
      "zona_22, hora_19: Scikit_32.252 XGBoost_7.796 AR_4.455\n",
      "zona_23, hora_19: Scikit_25.635 XGBoost_9.434 AR_8.211\n",
      "zona_24, hora_19: Scikit_10.961 XGBoost_10.936 AR_4.952\n",
      "zona_25, hora_19: Scikit_24.277 XGBoost_14.717 AR_4.086\n",
      "zona_26, hora_19: Scikit_22.972 XGBoost_8.113 AR_7.834\n",
      "zona_1, hora_20: Scikit_17.792 XGBoost_6.128 AR_6.831\n",
      "zona_2, hora_20: Scikit_7.716 XGBoost_15.896 AR_3.669\n",
      "zona_3, hora_20: Scikit_7.053 XGBoost_5.570 AR_3.198\n",
      "zona_4, hora_20: Scikit_59.427 XGBoost_11.125 AR_10.386\n",
      "zona_5, hora_20: Scikit_7.018 XGBoost_10.781 AR_5.365\n",
      "zona_6, hora_20: Scikit_63.930 XGBoost_25.306 AR_14.443\n",
      "zona_7, hora_20: Scikit_18.658 XGBoost_8.185 AR_6.198\n",
      "zona_8, hora_20: Scikit_5.295 XGBoost_12.960 AR_4.753\n",
      "zona_9, hora_20: Scikit_114.424 XGBoost_90.800 AR_13.491\n",
      "zona_10, hora_20: Scikit_17.253 XGBoost_23.006 AR_5.664\n",
      "zona_11, hora_20: Scikit_7.022 XGBoost_9.457 AR_4.941\n",
      "zona_12, hora_20: Scikit_13.534 XGBoost_18.236 AR_12.719\n",
      "zona_13, hora_20: Scikit_26.252 XGBoost_18.591 AR_6.661\n",
      "zona_14, hora_20: Scikit_9.921 XGBoost_14.957 AR_6.465\n",
      "zona_15, hora_20: Scikit_4.674 XGBoost_8.437 AR_5.045\n",
      "zona_16, hora_20: Scikit_8.650 XGBoost_31.395 AR_6.877\n",
      "zona_17, hora_20: Scikit_8.237 XGBoost_9.337 AR_6.423\n",
      "zona_18, hora_20: Scikit_3.469 XGBoost_8.080 AR_2.761\n",
      "zona_19, hora_20: Scikit_4.757 XGBoost_7.819 AR_4.511\n",
      "zona_20, hora_20: Scikit_3.791 XGBoost_3.352 AR_3.437\n",
      "zona_21, hora_20: Scikit_7.896 XGBoost_7.457 AR_4.008\n",
      "zona_22, hora_20: Scikit_30.596 XGBoost_22.738 AR_4.067\n",
      "zona_23, hora_20: Scikit_32.060 XGBoost_10.579 AR_9.669\n",
      "zona_24, hora_20: Scikit_11.892 XGBoost_5.564 AR_4.407\n",
      "zona_25, hora_20: Scikit_25.857 XGBoost_14.430 AR_3.750\n",
      "zona_26, hora_20: Scikit_23.594 XGBoost_8.375 AR_8.433\n",
      "zona_1, hora_21: Scikit_15.282 XGBoost_6.858 AR_6.649\n",
      "zona_2, hora_21: Scikit_6.680 XGBoost_7.432 AR_4.474\n",
      "zona_3, hora_21: Scikit_6.258 XGBoost_8.180 AR_4.135\n",
      "zona_4, hora_21: Scikit_50.357 XGBoost_10.922 AR_7.086\n",
      "zona_5, hora_21: Scikit_5.592 XGBoost_12.462 AR_5.999\n",
      "zona_6, hora_21: Scikit_64.560 XGBoost_30.215 AR_12.886\n",
      "zona_7, hora_21: Scikit_14.395 XGBoost_5.701 AR_6.552\n",
      "zona_8, hora_21: Scikit_3.799 XGBoost_4.735 AR_4.044\n",
      "zona_9, hora_21: Scikit_105.677 XGBoost_81.977 AR_8.765\n",
      "zona_10, hora_21: Scikit_16.269 XGBoost_22.297 AR_4.623\n",
      "zona_11, hora_21: Scikit_7.173 XGBoost_6.259 AR_5.595\n",
      "zona_12, hora_21: Scikit_11.944 XGBoost_4.896 AR_8.938\n",
      "zona_13, hora_21: Scikit_26.052 XGBoost_38.520 AR_6.026\n",
      "zona_14, hora_21: Scikit_11.239 XGBoost_8.937 AR_6.020\n",
      "zona_15, hora_21: Scikit_4.420 XGBoost_6.372 AR_6.360\n",
      "zona_16, hora_21: Scikit_8.878 XGBoost_13.634 AR_9.450\n",
      "zona_17, hora_21: Scikit_6.974 XGBoost_8.819 AR_7.434\n",
      "zona_18, hora_21: Scikit_3.153 XGBoost_2.800 AR_3.219\n",
      "zona_19, hora_21: Scikit_5.128 XGBoost_13.240 AR_3.280\n",
      "zona_20, hora_21: Scikit_3.967 XGBoost_4.715 AR_5.825\n",
      "zona_21, hora_21: Scikit_8.290 XGBoost_8.052 AR_6.005\n",
      "zona_22, hora_21: Scikit_27.319 XGBoost_10.136 AR_4.100\n",
      "zona_23, hora_21: Scikit_26.737 XGBoost_8.804 AR_8.140\n",
      "zona_24, hora_21: Scikit_11.449 XGBoost_11.727 AR_5.810\n",
      "zona_25, hora_21: Scikit_23.532 XGBoost_8.955 AR_4.221\n",
      "zona_26, hora_21: Scikit_14.307 XGBoost_8.442 AR_6.342\n",
      "zona_1, hora_22: Scikit_16.321 XGBoost_7.090 AR_4.829\n",
      "zona_2, hora_22: Scikit_9.250 XGBoost_5.663 AR_4.148\n",
      "zona_3, hora_22: Scikit_6.340 XGBoost_3.125 AR_3.112\n",
      "zona_4, hora_22: Scikit_48.162 XGBoost_15.299 AR_6.734\n",
      "zona_5, hora_22: Scikit_6.288 XGBoost_5.874 AR_5.221\n",
      "zona_6, hora_22: Scikit_65.899 XGBoost_24.411 AR_14.586\n",
      "zona_7, hora_22: Scikit_15.821 XGBoost_6.398 AR_6.044\n",
      "zona_8, hora_22: Scikit_3.812 XGBoost_7.490 AR_3.379\n",
      "zona_9, hora_22: Scikit_100.377 XGBoost_75.830 AR_10.246\n",
      "zona_10, hora_22: Scikit_15.050 XGBoost_4.687 AR_4.533\n",
      "zona_11, hora_22: Scikit_8.552 XGBoost_18.749 AR_5.312\n",
      "zona_12, hora_22: Scikit_11.117 XGBoost_15.170 AR_11.068\n",
      "zona_13, hora_22: Scikit_24.323 XGBoost_47.657 AR_6.556\n",
      "zona_14, hora_22: Scikit_9.669 XGBoost_4.392 AR_4.827\n",
      "zona_15, hora_22: Scikit_3.972 XGBoost_3.062 AR_3.206\n",
      "zona_16, hora_22: Scikit_7.982 XGBoost_13.109 AR_6.104\n",
      "zona_17, hora_22: Scikit_6.686 XGBoost_8.039 AR_6.336\n",
      "zona_18, hora_22: Scikit_2.928 XGBoost_6.778 AR_2.549\n",
      "zona_19, hora_22: Scikit_5.049 XGBoost_5.652 AR_4.510\n",
      "zona_20, hora_22: Scikit_5.826 XGBoost_4.006 AR_3.468\n",
      "zona_21, hora_22: Scikit_8.646 XGBoost_21.080 AR_3.402\n",
      "zona_22, hora_22: Scikit_27.604 XGBoost_4.732 AR_4.077\n",
      "zona_23, hora_22: Scikit_27.563 XGBoost_5.315 AR_7.230\n",
      "zona_24, hora_22: Scikit_10.789 XGBoost_10.644 AR_4.891\n",
      "zona_25, hora_22: Scikit_25.810 XGBoost_8.789 AR_3.771\n",
      "zona_26, hora_22: Scikit_10.512 XGBoost_7.931 AR_5.353\n",
      "zona_1, hora_23: Scikit_16.024 XGBoost_8.307 AR_4.537\n",
      "zona_2, hora_23: Scikit_9.223 XGBoost_5.286 AR_4.207\n",
      "zona_3, hora_23: Scikit_6.464 XGBoost_5.071 AR_2.985\n",
      "zona_4, hora_23: Scikit_50.629 XGBoost_15.589 AR_7.040\n",
      "zona_5, hora_23: Scikit_7.586 XGBoost_10.316 AR_5.154\n",
      "zona_6, hora_23: Scikit_67.529 XGBoost_30.328 AR_15.555\n",
      "zona_7, hora_23: Scikit_13.774 XGBoost_4.374 AR_5.077\n",
      "zona_8, hora_23: Scikit_5.286 XGBoost_8.236 AR_5.060\n",
      "zona_9, hora_23: Scikit_104.181 XGBoost_109.737 AR_12.342\n",
      "zona_10, hora_23: Scikit_14.721 XGBoost_5.475 AR_4.952\n",
      "zona_11, hora_23: Scikit_10.670 XGBoost_19.117 AR_5.332\n",
      "zona_12, hora_23: Scikit_11.668 XGBoost_27.668 AR_13.260\n",
      "zona_13, hora_23: Scikit_24.717 XGBoost_32.908 AR_6.686\n",
      "zona_14, hora_23: Scikit_8.196 XGBoost_4.584 AR_4.069\n",
      "zona_15, hora_23: Scikit_5.115 XGBoost_3.510 AR_3.465\n",
      "zona_16, hora_23: Scikit_8.175 XGBoost_4.130 AR_5.943\n",
      "zona_17, hora_23: Scikit_7.043 XGBoost_4.478 AR_5.840\n",
      "zona_18, hora_23: Scikit_3.946 XGBoost_6.385 AR_3.242\n",
      "zona_19, hora_23: Scikit_5.788 XGBoost_12.899 AR_4.874\n",
      "zona_20, hora_23: Scikit_5.829 XGBoost_6.922 AR_2.962\n",
      "zona_21, hora_23: Scikit_9.619 XGBoost_4.650 AR_3.282\n",
      "zona_22, hora_23: Scikit_29.152 XGBoost_4.524 AR_4.890\n",
      "zona_23, hora_23: Scikit_29.026 XGBoost_6.602 AR_6.937\n",
      "zona_24, hora_23: Scikit_10.565 XGBoost_8.636 AR_4.703\n",
      "zona_25, hora_23: Scikit_24.329 XGBoost_17.085 AR_3.934\n",
      "zona_26, hora_23: Scikit_13.244 XGBoost_12.308 AR_5.501\n",
      "zona_1, hora_24: Scikit_17.505 XGBoost_10.984 AR_7.312\n",
      "zona_2, hora_24: Scikit_9.880 XGBoost_12.980 AR_4.934\n",
      "zona_3, hora_24: Scikit_7.734 XGBoost_3.287 AR_3.746\n",
      "zona_4, hora_24: Scikit_50.965 XGBoost_11.686 AR_7.501\n",
      "zona_5, hora_24: Scikit_10.683 XGBoost_8.296 AR_5.662\n"
     ]
    },
    {
     "name": "stdout",
     "output_type": "stream",
     "text": [
      "zona_6, hora_24: Scikit_70.479 XGBoost_30.537 AR_16.389\n",
      "zona_7, hora_24: Scikit_9.473 XGBoost_8.512 AR_5.738\n",
      "zona_8, hora_24: Scikit_10.777 XGBoost_7.720 AR_6.248\n",
      "zona_9, hora_24: Scikit_114.481 XGBoost_115.021 AR_14.694\n",
      "zona_10, hora_24: Scikit_16.171 XGBoost_4.824 AR_5.081\n",
      "zona_11, hora_24: Scikit_10.139 XGBoost_22.663 AR_5.607\n",
      "zona_12, hora_24: Scikit_11.699 XGBoost_29.234 AR_15.435\n",
      "zona_13, hora_24: Scikit_24.382 XGBoost_26.427 AR_7.135\n",
      "zona_14, hora_24: Scikit_6.757 XGBoost_4.698 AR_3.795\n",
      "zona_15, hora_24: Scikit_5.364 XGBoost_2.681 AR_3.043\n",
      "zona_16, hora_24: Scikit_9.465 XGBoost_6.237 AR_6.022\n",
      "zona_17, hora_24: Scikit_7.504 XGBoost_6.378 AR_6.038\n",
      "zona_18, hora_24: Scikit_4.764 XGBoost_6.773 AR_3.550\n",
      "zona_19, hora_24: Scikit_6.105 XGBoost_14.935 AR_4.947\n",
      "zona_20, hora_24: Scikit_5.569 XGBoost_4.780 AR_2.859\n",
      "zona_21, hora_24: Scikit_11.736 XGBoost_4.099 AR_3.487\n",
      "zona_22, hora_24: Scikit_34.153 XGBoost_4.474 AR_5.747\n",
      "zona_23, hora_24: Scikit_22.402 XGBoost_7.403 AR_8.948\n",
      "zona_24, hora_24: Scikit_11.220 XGBoost_9.714 AR_4.992\n",
      "zona_25, hora_24: Scikit_22.181 XGBoost_9.020 AR_4.341\n",
      "zona_26, hora_24: Scikit_17.337 XGBoost_15.587 AR_5.897\n",
      "\n",
      " tiempo de corrida: 347.8510510921478\n"
     ]
    }
   ],
   "source": [
    "beg = time()\n",
    "for hora_ in range(1, 25):\n",
    "    for zona_ in son:\n",
    "        reg(hora_, zona_)\n",
    "end = time()\n",
    "print('\\n tiempo de corrida:', end - beg)"
   ]
  },
  {
   "cell_type": "markdown",
   "metadata": {},
   "source": [
    "## Gráficos "
   ]
  },
  {
   "cell_type": "markdown",
   "metadata": {},
   "source": [
    "The given output was plotted to find patterns/anomalies"
   ]
  },
  {
   "cell_type": "markdown",
   "metadata": {},
   "source": [
    "##### Y vs Y_pred"
   ]
  },
  {
   "cell_type": "markdown",
   "metadata": {},
   "source": [
    "Matplotlib"
   ]
  },
  {
   "cell_type": "code",
   "execution_count": 200,
   "metadata": {},
   "outputs": [
    {
     "data": {
      "image/png": "[encoded data removed]",
      "text/plain": [
       "<Figure size 936x936 with 1 Axes>"
      ]
     },
     "metadata": {
      "needs_background": "light"
     },
     "output_type": "display_data"
    }
   ],
   "source": [
    "plt.figure(figsize=(13,13))\n",
    "plt.plot(y[x2].values, label=\"Real\")\n",
    "# plt.plot(x_test, y_pred2, label=\"predict1\")\n",
    "plt.plot(y_pred3, label=\"predict Scikit\")\n",
    "plt.grid(True)\n",
    "plt.legend()\n",
    "\n",
    "plt.show()"
   ]
  },
  {
   "cell_type": "markdown",
   "metadata": {},
   "source": [
    "There is a big error on september 16th"
   ]
  },
  {
   "cell_type": "markdown",
   "metadata": {},
   "source": [
    "##### Y vs Y_pred"
   ]
  },
  {
   "cell_type": "code",
   "execution_count": 151,
   "metadata": {},
   "outputs": [
    {
     "data": {
      "image/png": "[encoded data removed]",
      "text/plain": [
       "<Figure size 936x936 with 1 Axes>"
      ]
     },
     "metadata": {
      "needs_background": "light"
     },
     "output_type": "display_data"
    }
   ],
   "source": [
    "plt.figure(figsize=(13,13))\n",
    "plt.plot(y[x2].values, label=\"Real\")\n",
    "plt.plot(y_pred2, label=\"predict XGBoost\")\n",
    "\n",
    "plt.grid(True)\n",
    "plt.legend()\n",
    "\n",
    "plt.show()"
   ]
  },
  {
   "cell_type": "markdown",
   "metadata": {},
   "source": [
    "Plotly"
   ]
  },
  {
   "cell_type": "code",
   "execution_count": 155,
   "metadata": {},
   "outputs": [],
   "source": [
    "import plotly.graph_objs as go\n",
    "from plotly.offline import plot"
   ]
  },
  {
   "cell_type": "code",
   "execution_count": 160,
   "metadata": {},
   "outputs": [
    {
     "data": {
      "text/plain": [
       "'temp-plot.html'"
      ]
     },
     "execution_count": 160,
     "metadata": {},
     "output_type": "execute_result"
    }
   ],
   "source": [
    "# Para Scikit-Learn\n",
    "data1=go.Scatter(x=y.index, y=y.values)\n",
    "fig=go.Figure(data = data1)\n",
    "plot(fig)"
   ]
  },
  {
   "cell_type": "code",
   "execution_count": 156,
   "metadata": {},
   "outputs": [
    {
     "data": {
      "text/plain": [
       "'temp-plot.html'"
      ]
     },
     "execution_count": 156,
     "metadata": {},
     "output_type": "execute_result"
    }
   ],
   "source": [
    "# Para Scikit-Learn\n",
    "t = np.linspace(0, len(y[x2].values), len(y[x2].values))\n",
    "data1=go.Scatter(x=t, y=y[x2].values)\n",
    "data2=go.Scatter(x=t, y=y_pred)\n",
    "fig=go.Figure(data = [data1,data2])\n",
    "plot(fig)"
   ]
  },
  {
   "cell_type": "code",
   "execution_count": null,
   "metadata": {},
   "outputs": [],
   "source": [
    "# Para XGBoost\n",
    "data1=go.Scatter(x=z2.index, y=z2.values)\n",
    "data2=go.Scatter(x=x2, y=y_pred2)\n",
    "fig=go.Figure(data = [data1,data2])\n",
    "plot(fig)"
   ]
  }
 ],
 "metadata": {
  "kernelspec": {
   "display_name": "Python 3 (ipykernel)",
   "language": "python",
   "name": "python3"
  },
  "language_info": {
   "codemirror_mode": {
    "name": "ipython",
    "version": 3
   },
   "file_extension": ".py",
   "mimetype": "text/x-python",
   "name": "python",
   "nbconvert_exporter": "python",
   "pygments_lexer": "ipython3",
   "version": "3.9.9"
  },
  "toc": {
   "base_numbering": 1,
   "nav_menu": {},
   "number_sections": true,
   "sideBar": true,
   "skip_h1_title": false,
   "title_cell": "Table of Contents",
   "title_sidebar": "Contents",
   "toc_cell": false,
   "toc_position": {},
   "toc_section_display": true,
   "toc_window_display": false
  }
 },
 "nbformat": 4,
 "nbformat_minor": 2
}
