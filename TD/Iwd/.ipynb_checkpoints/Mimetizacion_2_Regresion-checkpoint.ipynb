{
 "cells": [
  {
   "cell_type": "code",
   "execution_count": 14,
   "metadata": {},
   "outputs": [],
   "source": [
    "%matplotlib inline\n",
    "import matplotlib.pyplot as plt\n",
    "import pandas as pd\n",
    "import numpy as np\n",
    "import seaborn as sns\n",
    "from scipy.signal import find_peaks\n",
    "from pandas import read_csv, read_pickle\n",
    "from time import time \n",
    "import pickle\n",
    "from obspy.signal.detrend import polynomial\n",
    "from statsmodels.tsa.seasonal import seasonal_decompose\n",
    "import warnings\n",
    "from scipy import stats, signal\n",
    "warnings.filterwarnings(\"ignore\")"
   ]
  },
  {
   "cell_type": "markdown",
   "metadata": {},
   "source": [
    "### Creación de variables \"Dummies\""
   ]
  },
  {
   "cell_type": "markdown",
   "metadata": {},
   "source": [
    "#### Adición de días festivos con penalización"
   ]
  },
  {
   "cell_type": "code",
   "execution_count": 2,
   "metadata": {},
   "outputs": [],
   "source": [
    "def dum_fest(df):\n",
    "    cata = []; fes = read_csv(\"festivos.csv\")\n",
    "    for j in range(len(fes.index)):\n",
    "            festiveDay = df.loc[(df.year==fes[\"Year\"][j]) & (df.month==fes[\"Month\"][j]) & (df.day==fes[\"Day\"][j])].index.values.tolist()\n",
    "            cata = cata + festiveDay\n",
    "\n",
    "    df['fest'] = np.nan; df.fest = df.fest.fillna(pd.Series(-1, index=cata))\n",
    "    df.fest = df.fest.fillna(0)\n",
    "    #Quitar los dias festivos\n",
    "#     df = df.query(\"fest == 0\")\n",
    "#     df = df.drop(\"fest\", axis = 1)\n",
    "    return df"
   ]
  },
  {
   "cell_type": "markdown",
   "metadata": {},
   "source": [
    "#### Variables \"Dummies\" día de la semana"
   ]
  },
  {
   "cell_type": "code",
   "execution_count": 3,
   "metadata": {},
   "outputs": [],
   "source": [
    "# lunes   martes-miercoles-jueves   viernes   sabado   domingo\n",
    "def dum_dia(df):\n",
    "    df.día_semana=df.día_semana.apply(lambda x: 1 if x==1 else (2 if x in [2,3,4] else (3 if x==5 else (4 if x==6 else 0))))\n",
    "    df = pd.get_dummies(df, prefix=['d_sm'], columns=['día_semana'])\n",
    "    df = df.drop(\"d_sm_0\", axis = 1)\n",
    "    return df"
   ]
  },
  {
   "cell_type": "code",
   "execution_count": 4,
   "metadata": {},
   "outputs": [],
   "source": [
    "# lunes  martes  miercoles  jueves  viernes  sabado  domingo\n",
    "def dum_dia(df):\n",
    "    df.día_semana=df.día_semana.apply(lambda x: 1 if x==1 else (2 if x==2 else (3 if x==3 else (4 if x==4 else (5 if x==5 else (6 if x==6 else 0))))))\n",
    "    df = pd.get_dummies(df, prefix=['d_sm'], columns=['día_semana'])\n",
    "#     df = df.drop(\"d_sm_0\", axis = 1)\n",
    "    return df"
   ]
  },
  {
   "cell_type": "markdown",
   "metadata": {},
   "source": [
    "#### \"Dummies\" de temporada"
   ]
  },
  {
   "cell_type": "code",
   "execution_count": 5,
   "metadata": {},
   "outputs": [],
   "source": [
    "def dum_seas(df):\n",
    "    df['seas'] = np.nan\n",
    "    pr = df.query('day == 21 and month ==3').index\n",
    "    vr = df.query('day == 21 and month == 6').index\n",
    "    ot = df.query('day == 21 and month == 9').index\n",
    "    inv= df.query('day == 21 and month == 12').index\n",
    "\n",
    "    df.seas = df.seas.fillna(pd.Series(0, index=pr))\n",
    "    df.seas = df.seas.fillna(pd.Series(1, index=vr))\n",
    "    df.seas = df.seas.fillna(pd.Series(2, index=ot))\n",
    "    df.seas = df.seas.fillna(pd.Series(3, index=inv))\n",
    "\n",
    "    df.seas = df.seas.fillna(method= 'ffill')\n",
    "    df.seas = df.seas.fillna(method= 'bfill')\n",
    "\n",
    "    df = pd.get_dummies(df, prefix=['s_s'], columns=['seas'])\n",
    "    df = df.drop(\"s_s_3.0\", axis = 1)\n",
    "\n",
    "    return df"
   ]
  },
  {
   "cell_type": "markdown",
   "metadata": {},
   "source": [
    "##### \"Dummies\" mensuales"
   ]
  },
  {
   "cell_type": "code",
   "execution_count": 6,
   "metadata": {},
   "outputs": [],
   "source": [
    "#     Enero, Febrero, Marzo, Abril, Mayo, Junio, Julio, Agosto, Septiembre, Octubre, Noviembre\n",
    "def dum_mensual(df):\n",
    "    df = pd.get_dummies(df, prefix=['mon'], columns=['month'])\n",
    "    df = df.drop(\"mon_12\", axis = 1)\n",
    "    return df"
   ]
  },
  {
   "cell_type": "code",
   "execution_count": 7,
   "metadata": {},
   "outputs": [],
   "source": [
    "def sonas(): \n",
    "    return [\"zona_{}\".format(i+1) for i in range(26)]"
   ]
  },
  {
   "cell_type": "code",
   "execution_count": 8,
   "metadata": {},
   "outputs": [],
   "source": [
    "def fm1(i):\n",
    "    global df\n",
    "    df = read_pickle(\"dflimpios.pkl\")\n",
    "    if i==0:\n",
    "        df = dum_fest(df)\n",
    "    if i==1:\n",
    "        df = dum_dia(df)\n",
    "    if i==2:\n",
    "        df = dum_seas(df)\n",
    "    if i==3:\n",
    "        df = dum_mensual(df)\n",
    "    if i==4:\n",
    "        df = dum_mensual(dum_seas(dum_dia(dum_fest(df)))) \n",
    "    return df\n",
    "fm1(4);"
   ]
  },
  {
   "cell_type": "markdown",
   "metadata": {},
   "source": [
    "-------------------------------------------------------------------------------------------------------------------------"
   ]
  },
  {
   "cell_type": "markdown",
   "metadata": {},
   "source": [
    "## Definición de funciones para regresión "
   ]
  },
  {
   "cell_type": "markdown",
   "metadata": {},
   "source": [
    "-"
   ]
  },
  {
   "cell_type": "markdown",
   "metadata": {},
   "source": [
    "- Función para obtencion de serie con datos hora_i_zona_j[0]\n",
    "- Función para obtencion dataframe de hora_i[1]"
   ]
  },
  {
   "cell_type": "code",
   "execution_count": 9,
   "metadata": {},
   "outputs": [],
   "source": [
    "def get_zon_hor(h,z):\n",
    "    zon_n = df[df[\"hora\"]==h][f'{z}']\n",
    "    \n",
    "    # para quitar dias extremos\n",
    "    zon_n = zon_n.reset_index(drop = True)\n",
    "    zon_n = zon_n.drop(np.where((np.abs(stats.zscore(zon_n)))>4.5)[0])\n",
    "    zon_n = zon_n.reset_index(drop = True)\n",
    "    zon_n = zon_n[zon_n>1]\n",
    "    return zon_n"
   ]
  },
  {
   "cell_type": "code",
   "execution_count": 10,
   "metadata": {},
   "outputs": [
    {
     "data": {
      "text/plain": [
       "[<matplotlib.lines.Line2D at 0x1532b16f080>]"
      ]
     },
     "execution_count": 10,
     "metadata": {},
     "output_type": "execute_result"
    },
    {
     "data": {
      "image/png": "[encoded data removed]",
      "text/plain": [
       "<Figure size 432x288 with 1 Axes>"
      ]
     },
     "metadata": {
      "needs_background": "light"
     },
     "output_type": "display_data"
    }
   ],
   "source": [
    "plt.plot(get_zon_hor(2, \"zona_1\"))"
   ]
  },
  {
   "cell_type": "markdown",
   "metadata": {},
   "source": [
    "- Funcion para obtener picos de periodicidad 1"
   ]
  },
  {
   "cell_type": "code",
   "execution_count": 11,
   "metadata": {},
   "outputs": [],
   "source": [
    "def zu_peak(h,z):\n",
    "    df1 = df.set_index(\"fecha\", drop=True)\n",
    "    zon_n = df1[df1[\"hora\"]==h][f'{z}'].tail(100)\n",
    "    periodo = seasonal_decompose(zon_n, model=\"multiplicative\").seasonal.reset_index(drop = True)\n",
    "    f, asd = signal.periodogram(periodo)\n",
    "    peaks, _ = find_peaks(asd, height=0)\n",
    "    return peaks"
   ]
  },
  {
   "cell_type": "markdown",
   "metadata": {},
   "source": [
    "- Funcion para obtener armonicos 1"
   ]
  },
  {
   "cell_type": "code",
   "execution_count": 15,
   "metadata": {},
   "outputs": [],
   "source": [
    "def zu_arm(h, z):\n",
    "    X = pd.DataFrame()\n",
    "    t = np.arange(1, len(get_zon_hor(h, z))+1)\n",
    "    X=pd.DataFrame(t, columns = ['te'])\n",
    "    X[\"unos\"] = [1]*len(t)\n",
    "    p = zu_peak(h, z)\n",
    "    for i in p:\n",
    "        X[f\"{i}_sen\"] = np.abs(np.sin((t*2*np.pi)/i))\n",
    "        X[f\"{i}_cos\"] = np.abs(np.cos((t*2*np.pi)/i))\n",
    "    return X"
   ]
  },
  {
   "cell_type": "code",
   "execution_count": 16,
   "metadata": {},
   "outputs": [
    {
     "data": {
      "text/plain": [
       "(1512, 8)"
      ]
     },
     "execution_count": 16,
     "metadata": {},
     "output_type": "execute_result"
    }
   ],
   "source": [
    "zu_arm(2, \"zona_5\").shape"
   ]
  },
  {
   "cell_type": "markdown",
   "metadata": {},
   "source": [
    "- Funcion para obtener dummies 1"
   ]
  },
  {
   "cell_type": "code",
   "execution_count": 17,
   "metadata": {},
   "outputs": [],
   "source": [
    "def get_dums(h, z):\n",
    "    dem = ['hora','fecha']# 'year', 'month']\n",
    "    zro =  sonas() + dem\n",
    "    sin_zonas = df[df[\"hora\"]==h]\n",
    "    sin_zonas = sin_zonas.reset_index(drop = True)\n",
    "    \n",
    "    # para quitar dias extremos\n",
    "    sin_zonas = sin_zonas.drop(np.where((np.abs(stats.zscore(sin_zonas[f\"{z}\"])))>4.5)[0])\n",
    "    sin_zonas = sin_zonas.query(f\"{z} > 1\")\n",
    "    sin_zonas = sin_zonas.reset_index(drop = True)\n",
    "    \n",
    "    #quitar zonas\n",
    "    sin_zonas = sin_zonas.drop(zro,  axis=1)\n",
    "    return  sin_zonas"
   ]
  },
  {
   "cell_type": "markdown",
   "metadata": {},
   "source": [
    "- Funcion para el primer cronequer de dummies y TIF"
   ]
  },
  {
   "cell_type": "code",
   "execution_count": 18,
   "metadata": {},
   "outputs": [],
   "source": [
    "def zu_kron(h, z):\n",
    "    dm1 = get_dums(h, z); dm2 = zu_arm(h, z)\n",
    "    d3 = pd.DataFrame(); kron = pd.DataFrame()\n",
    "    for i in dm2.columns:\n",
    "        d3 = dm1.multiply(dm2[f\"{i}\"], axis=\"index\")\n",
    "        d3.columns = [f\"{j}_{i}\" for j in dm1.columns]\n",
    "        kron = pd.concat([kron, d3], axis = 1)\n",
    "    X = kron.reset_index(drop = True)\n",
    "#     X2 = pd.concat([X, dm1, dm2], sort = False, axis=1)\n",
    "    return X"
   ]
  },
  {
   "cell_type": "markdown",
   "metadata": {},
   "source": [
    "- Funcion de MAPE"
   ]
  },
  {
   "cell_type": "code",
   "execution_count": 19,
   "metadata": {},
   "outputs": [],
   "source": [
    "def MAPE(y_true, y_pred):\n",
    "    ma = np.mean(np.abs((y_true - y_pred) / y_true)) * 100\n",
    "    return ma"
   ]
  },
  {
   "cell_type": "code",
   "execution_count": 20,
   "metadata": {},
   "outputs": [],
   "source": [
    "from sklearn.linear_model import LinearRegression"
   ]
  },
  {
   "cell_type": "code",
   "execution_count": 21,
   "metadata": {},
   "outputs": [
    {
     "data": {
      "text/plain": [
       "1514"
      ]
     },
     "execution_count": 21,
     "metadata": {},
     "output_type": "execute_result"
    }
   ],
   "source": [
    "len(get_zon_hor(1, \"zona_1\"))"
   ]
  },
  {
   "cell_type": "markdown",
   "metadata": {},
   "source": [
    "- Funcion para primer regresion"
   ]
  },
  {
   "cell_type": "code",
   "execution_count": 74,
   "metadata": {},
   "outputs": [],
   "source": [
    "def zu_reg(h, z, n):\n",
    "    y = get_zon_hor(h, z)[700:-n]\n",
    "    kron = zu_kron(h, z)[700:-n]\n",
    "    #Regresion\n",
    "    reg = LinearRegression(n_jobs = -1).fit(kron, y)\n",
    "    y_pred = reg.predict(kron)\n",
    "    \n",
    "    print(MAPE(y, y_pred))\n",
    "#     plt.figure()\n",
    "#     plt.plot(y, label = \"real\")\n",
    "#     plt.plot(y.index, y_pred, label = \"predict\")\n",
    "#     plt.legend()\n",
    "    #Error\n",
    "    error = (y-y_pred)\n",
    "    f, asd = signal.periodogram(error, fs=1)\n",
    "    peaks, _ = find_peaks(asd, height = 0)\n",
    "    \n",
    "    top50_freq_indices = np.flip(np.argsort(asd), 0)[2:12]\n",
    "\n",
    "    power = asd[top50_freq_indices]\n",
    "    periods = 1 / f[top50_freq_indices]\n",
    "    matrix=pd.DataFrame(columns=[\"power\",\"periods\"])\n",
    "    matrix.power=power\n",
    "    matrix.periods=periods\n",
    "#     plt.figure()\n",
    "#     plt.plot(error)\n",
    "\n",
    "#     picos = pd.DataFrame(_['peak_heights'], 1/(f[peaks]), columns=[\"altura_pk\"]).sort_values(by=\"altura_pk\",ascending=False)\n",
    "#     picos = picos.reset_index()\n",
    "    return matrix"
   ]
  },
  {
   "cell_type": "code",
   "execution_count": 75,
   "metadata": {},
   "outputs": [
    {
     "name": "stdout",
     "output_type": "stream",
     "text": [
      "5.487116397914737\n"
     ]
    }
   ],
   "source": [
    "zu_reg(h = 2, z = \"zona_1\", n = 7);"
   ]
  },
  {
   "cell_type": "code",
   "execution_count": 76,
   "metadata": {},
   "outputs": [],
   "source": [
    "def sencos(h, z, n):\n",
    "    sencos = zu_arm(h, z)\n",
    "    t = sencos.te\n",
    "    p = zu_reg(h, z, n).periods\n",
    "    for i in p:\n",
    "        sencos[f\"{i:.2f}_sen\"] = np.abs(np.sin(((2*np.pi)/i)*t))\n",
    "        sencos[f\"{i:.2f}_cos\"] = np.abs(np.cos(((2*np.pi)/i)*t))\n",
    "    return sencos"
   ]
  },
  {
   "cell_type": "code",
   "execution_count": 129,
   "metadata": {},
   "outputs": [],
   "source": [
    "from statsmodels.tsa.arima_model import ARIMA"
   ]
  },
  {
   "cell_type": "code",
   "execution_count": 163,
   "metadata": {},
   "outputs": [],
   "source": [
    "# def zwa_kron(h, z, n):\n",
    "#     # train-test split\n",
    "#     dm1 = sencos(h, z, n)[700:-n]; dm2 = get_dums(h, z)[700:-n]; y = get_zon_hor(h, z)[700:-n]\n",
    "# #     sencos_train, sencos_test = train_test_split(X test_size = n/len(y), shuffle = False)\n",
    "# #     Dum_train, Dum_test, y_train,  y_test = train_test_split(X1, y, test_size = n/len(y), shuffle = False)\n",
    "    \n",
    "#     #Kronecker\n",
    "#     d3 = pd.DataFrame(); kron = pd.DataFrame()\n",
    "#     for i in dm2.columns:\n",
    "#         d3 = dm1.multiply(dm2[f\"{i}\"], axis=\"index\")\n",
    "#         d3.columns = [f\"{j}_{i}\" for j in dm1.columns]\n",
    "#         kron = pd.concat([kron, d3], axis = 1)\n",
    "#     X = kron.reset_index(drop = True)\n",
    "    \n",
    "#     reg = LinearRegression(n_jobs = -1).fit(X, y)\n",
    "#     y_pred = reg.predict(X)\n",
    "#     print(MAPE(y, y_pred))\n",
    "    \n",
    "#     plt.figure()\n",
    "#     plt.plot(y)\n",
    "#     plt.plot(y.index, y_pred)\n",
    "    \n",
    "#     error = (y-y_pred)\n",
    "# #     plt.figure()\n",
    "# #     plt.hist(error,bins=50)\n",
    "\n",
    "#     mod = ARIMA(error, order=(3,1,2))\n",
    "#     resta = mod.fit()\n",
    "    \n",
    "#     plt.figure()\n",
    "#     plt.plot(y[1:])\n",
    "#     plt.plot(y_pred[1:] + resta.fittedvalues)\n",
    "#     print(MAPE(y[1:], y_pred[1:] + resta.fittedvalues))\n",
    "#     return error"
   ]
  },
  {
   "cell_type": "code",
   "execution_count": null,
   "metadata": {},
   "outputs": [],
   "source": [
    "# def resta(h, z, n):\n",
    "#     error = zwa_kron(h, z, n)\n",
    "    \n",
    "#     from statsmodels.tsa.arima_model import ARIMA\n",
    "#     mod = ARIMA(error, order=(1,1,2))\n",
    "#     resta = mod.fit()\n",
    "    \n",
    "#     plt.figure()\n",
    "#     plt.plot(error)\n",
    "    \n",
    "#     plt.figure()\n",
    "#     plt.plot(error)\n",
    "#     plt.plot(resta.fittedvalues, color='red')\n",
    "    \n",
    "#     plt.figure()\n",
    "#     plt.plot(error-resta.fittedvalues)\n",
    "#     return resta.fittedvalues.index, error.index"
   ]
  },
  {
   "cell_type": "code",
   "execution_count": 176,
   "metadata": {},
   "outputs": [],
   "source": [
    "from sklearn.model_selection import train_test_split"
   ]
  },
  {
   "cell_type": "code",
   "execution_count": 188,
   "metadata": {},
   "outputs": [],
   "source": [
    "def zwa_kron(h, z, n):\n",
    "    # train-test split\n",
    "    X = sencos(h, z, n)[700:]; X1 = get_dums(h, z)[700:]; y = get_zon_hor(h, z)[700:]\n",
    "    \n",
    "    sencos_train, sencos_test = train_test_split(X, test_size = n/len(y), shuffle = False)\n",
    "    Dum_train, Dum_test, y_train,  y_test = train_test_split(X1, y, test_size = n/len(y), shuffle = False)\n",
    "    \n",
    "    #Kronecker\n",
    "    dm1 = sencos_train; dm2 = Dum_train \n",
    "    d3 = pd.DataFrame(); kron = pd.DataFrame()\n",
    "    for i in dm2.columns:\n",
    "        d3 = dm1.multiply(dm2[f\"{i}\"], axis=\"index\")\n",
    "        d3.columns = [f\"{j}_{i}\" for j in dm1.columns]\n",
    "        kron = pd.concat([kron, d3], axis = 1)\n",
    "    X_tr = kron.reset_index(drop = True)\n",
    "    \n",
    "    reg = LinearRegression(n_jobs = -1).fit(X_tr, y_train)\n",
    "    y_pred = reg.predict(X_tr)\n",
    "    print(MAPE(y_train, y_pred))\n",
    "    \n",
    "    #kronecker_prediccion\n",
    "    dm1 = sencos_test; dm2 = Dum_test\n",
    "    d3 = pd.DataFrame(); kron = pd.DataFrame()\n",
    "    for i in dm2.columns:\n",
    "        d3 = dm1.multiply(dm2[f\"{i}\"], axis=\"index\")\n",
    "        d3.columns = [f\"{j}_{i}\" for j in dm1.columns]\n",
    "        kron = pd.concat([kron, d3], axis = 1)\n",
    "    X_te = kron.reset_index(drop = True)\n",
    "    \n",
    "    y_pred_2 = reg.predict(X_te)\n",
    "    plt.plot(y_test)\n",
    "    plt.plot(y_test.index,y_pred_2)\n",
    "    print(MAPE(y_test, y_pred_2))\n",
    "    \n",
    "    # agregar componente de lasso\n",
    "    \n",
    "    return y_pred, y_pred_2"
   ]
  },
  {
   "cell_type": "code",
   "execution_count": 189,
   "metadata": {},
   "outputs": [
    {
     "name": "stdout",
     "output_type": "stream",
     "text": [
      "4.770520302868684\n",
      "1.8533584195432007\n",
      "62.44178895349417\n"
     ]
    },
    {
     "data": {
      "text/plain": [
       "1.850236415863037"
      ]
     },
     "execution_count": 189,
     "metadata": {},
     "output_type": "execute_result"
    },
    {
     "data": {
      "image/png": "[encoded data removed]",
      "text/plain": [
       "<Figure size 432x288 with 1 Axes>"
      ]
     },
     "metadata": {
      "needs_background": "light"
     },
     "output_type": "display_data"
    }
   ],
   "source": [
    "beg = time()\n",
    "zwa_kron(h = 4, z = \"zona_1\", n = 7);\n",
    "end = time()\n",
    "end - beg"
   ]
  },
  {
   "cell_type": "code",
   "execution_count": null,
   "metadata": {},
   "outputs": [],
   "source": []
  },
  {
   "cell_type": "markdown",
   "metadata": {},
   "source": [
    "- RESIDUOS NUEVAMENTE"
   ]
  },
  {
   "cell_type": "code",
   "execution_count": null,
   "metadata": {},
   "outputs": [],
   "source": [
    "##spatial electric load forecasting\n",
    "plt.figure(figsize=(10,5))\n",
    "plt.plot(onlyMWh.MWh[0:n].values,label=\"Reales\")\n",
    "plt.plot(prediction+results.fittedvalues,label=\"Predicción\")\n",
    "#plt.axis([1630,1650,120000,160000])\n",
    "plt.ylabel(\"demanda en MWh\")\n",
    "plt.xlabel(\"días\")\n",
    "plt.legend()\n",
    "plt.show()\n",
    "#%%obtener mape de regresión\n",
    "comp=comparacion(onlyMWh.MWh[0:n].values,prediction+results.fittedvalues)\n",
    "MAPE=comp.error.mean()\n",
    "print(\"MAPE = \",round(MAPE,4),\"%\")"
   ]
  },
  {
   "cell_type": "code",
   "execution_count": null,
   "metadata": {},
   "outputs": [],
   "source": []
  },
  {
   "cell_type": "code",
   "execution_count": null,
   "metadata": {},
   "outputs": [],
   "source": []
  },
  {
   "cell_type": "code",
   "execution_count": 577,
   "metadata": {},
   "outputs": [
    {
     "data": {
      "text/plain": [
       "638.7858505249023"
      ]
     },
     "execution_count": 577,
     "metadata": {},
     "output_type": "execute_result"
    }
   ],
   "source": [
    "# beg = time()\n",
    "# for i in range(1, 25):\n",
    "#     for j in range(1, 27):\n",
    "#         w = zwa_kron(h = i, z = f\"zona_{j}\", n = 7);\n",
    "#         if w > 4:\n",
    "#             print(\"hora = {i} zona = {j}\")\n",
    "# end = time()\n",
    "# end - beg"
   ]
  },
  {
   "cell_type": "code",
   "execution_count": null,
   "metadata": {},
   "outputs": [],
   "source": []
  },
  {
   "cell_type": "code",
   "execution_count": null,
   "metadata": {},
   "outputs": [],
   "source": []
  },
  {
   "cell_type": "code",
   "execution_count": null,
   "metadata": {},
   "outputs": [],
   "source": []
  },
  {
   "cell_type": "code",
   "execution_count": null,
   "metadata": {},
   "outputs": [],
   "source": []
  },
  {
   "cell_type": "code",
   "execution_count": 9,
   "metadata": {},
   "outputs": [],
   "source": [
    "# plt.plot(get_zon_hor(1, \"zona_6\"));\n",
    "# todos de la zona 6 y 13 se parecen"
   ]
  },
  {
   "cell_type": "markdown",
   "metadata": {},
   "source": [
    "- Función para obtención de Dummies"
   ]
  },
  {
   "cell_type": "markdown",
   "metadata": {},
   "source": [
    "- Función para obrtención de máximos locales"
   ]
  },
  {
   "cell_type": "code",
   "execution_count": 28,
   "metadata": {},
   "outputs": [],
   "source": [
    "def get_max_pts(h, z, armon):\n",
    "    f, asd = signal.periodogram(get_zon_hor(h, z))\n",
    "    peaks, _ = find_peaks(asd, height=0)\n",
    "    plt.plot(1/f, asd)\n",
    "    return pd.DataFrame(_['peak_heights'], 1/(f[peaks]), columns=[\"altura_pk\"]).sort_values(by=\"altura_pk\",ascending=False).head(armon).iloc[armon-1:]"
   ]
  },
  {
   "cell_type": "code",
   "execution_count": 30,
   "metadata": {},
   "outputs": [
    {
     "data": {
      "text/html": [
       "<div>\n",
       "<style scoped>\n",
       "    .dataframe tbody tr th:only-of-type {\n",
       "        vertical-align: middle;\n",
       "    }\n",
       "\n",
       "    .dataframe tbody tr th {\n",
       "        vertical-align: top;\n",
       "    }\n",
       "\n",
       "    .dataframe thead th {\n",
       "        text-align: right;\n",
       "    }\n",
       "</style>\n",
       "<table border=\"1\" class=\"dataframe\">\n",
       "  <thead>\n",
       "    <tr style=\"text-align: right;\">\n",
       "      <th></th>\n",
       "      <th>altura_pk</th>\n",
       "    </tr>\n",
       "  </thead>\n",
       "  <tbody>\n",
       "    <tr>\n",
       "      <th>6.994975</th>\n",
       "      <td>448913.699459</td>\n",
       "    </tr>\n",
       "  </tbody>\n",
       "</table>\n",
       "</div>"
      ],
      "text/plain": [
       "              altura_pk\n",
       "6.994975  448913.699459"
      ]
     },
     "execution_count": 30,
     "metadata": {},
     "output_type": "execute_result"
    },
    {
     "data": {
      "image/png": "[encoded data removed]",
      "text/plain": [
       "<Figure size 432x288 with 1 Axes>"
      ]
     },
     "metadata": {
      "needs_background": "light"
     },
     "output_type": "display_data"
    }
   ],
   "source": [
    "get_max_pts(1, \"zona_1\", 2)"
   ]
  },
  {
   "cell_type": "markdown",
   "metadata": {},
   "source": [
    "- Función para obtención de coeficientes de senos y cosenos"
   ]
  },
  {
   "cell_type": "code",
   "execution_count": 31,
   "metadata": {},
   "outputs": [],
   "source": [
    "def get_sc_coef(h, z, armon):\n",
    "    X = pd.DataFrame()\n",
    "    t = np.arange(len(get_zon_hor(h, z)))\n",
    "    X[\"unos\"] = [1]*len(t)\n",
    "    p = get_max_pts(h, z, armon)\n",
    "    for i  in p.index:\n",
    "        X[f\"{i}_sen\"] = np.sin((t*2*np.pi)/i)\n",
    "        X[f\"{i}_cos\"] = np.cos((t*2*np.pi)/i)\n",
    "    return X"
   ]
  },
  {
   "cell_type": "code",
   "execution_count": 34,
   "metadata": {},
   "outputs": [
    {
     "data": {
      "image/png": "[encoded data removed]",
      "text/plain": [
       "<Figure size 432x288 with 1 Axes>"
      ]
     },
     "metadata": {
      "needs_background": "light"
     },
     "output_type": "display_data"
    }
   ],
   "source": [
    "get_sc_coef(1, \"zona_1\", 2);"
   ]
  },
  {
   "cell_type": "code",
   "execution_count": 181,
   "metadata": {},
   "outputs": [],
   "source": [
    "# plt.figure(figsize=(20, 10))\n",
    "# plt.plot(get_sc_coef(1,\"zona_1\", 5).sum(axis = 1)*10);\n",
    "# plt.plot(get_zon_hor(1, \"zona_1\"));"
   ]
  },
  {
   "cell_type": "markdown",
   "metadata": {},
   "source": [
    "- Funcion de multiplicación de filas por Kronecker + addición de variables Dummies y coeficientes"
   ]
  },
  {
   "cell_type": "code",
   "execution_count": 12,
   "metadata": {},
   "outputs": [],
   "source": [
    "def kron_conv(h, z, armon):\n",
    "    dm1 = get_dums(h, z); dm2 = get_sc_coef(h, z, armon)\n",
    "    d3 = pd.DataFrame(); kron = pd.DataFrame()\n",
    "    for i in dm2.columns:\n",
    "        d3 = dm1.multiply(dm2[f\"{i}\"], axis=\"index\")\n",
    "        d3.columns = [f\"{j}_{i}\" for j in dm1.columns]\n",
    "        kron = pd.concat([kron, d3], axis = 1)\n",
    "    X = kron.reset_index(drop = True)\n",
    "    X2 = pd.concat([X, dm1, dm2], sort = False, axis=1)\n",
    "    X2 = X2.drop('unos', axis = 1)\n",
    "    return X2"
   ]
  },
  {
   "cell_type": "markdown",
   "metadata": {},
   "source": [
    "- Función de MAPE"
   ]
  },
  {
   "cell_type": "code",
   "execution_count": 13,
   "metadata": {},
   "outputs": [],
   "source": [
    "def MAPE(y_true, y_pred):\n",
    "    ma = np.mean(np.abs((y_true - y_pred) / y_true)) * 100\n",
    "    return ma"
   ]
  },
  {
   "cell_type": "code",
   "execution_count": 14,
   "metadata": {},
   "outputs": [],
   "source": [
    "def Mape_hor(y_true, y_pred):\n",
    "    y_true, y_pred = np.array(y_true), np.array(y_pred)\n",
    "    ma = np.abs((y_true - y_pred) / y_true) * 100\n",
    "    return ma"
   ]
  },
  {
   "cell_type": "markdown",
   "metadata": {},
   "source": [
    "---------------------------------------------------------------------------------------------------------------------------"
   ]
  },
  {
   "cell_type": "markdown",
   "metadata": {},
   "source": [
    "## Regresión "
   ]
  },
  {
   "cell_type": "code",
   "execution_count": 15,
   "metadata": {},
   "outputs": [],
   "source": [
    "from sklearn.model_selection import train_test_split\n",
    "from sklearn.linear_model import LinearRegression\n",
    "from statsmodels.tsa.ar_model import AR\n",
    "from xgboost import XGBRegressor "
   ]
  },
  {
   "cell_type": "markdown",
   "metadata": {},
   "source": [
    "Separar los dataframes"
   ]
  },
  {
   "cell_type": "code",
   "execution_count": 16,
   "metadata": {},
   "outputs": [],
   "source": [
    "def get_train_split_sick(X, y):\n",
    "    X_train, X_test, y_train, y_test = train_test_split(X, y, test_size = 1/len(y), shuffle = False)\n",
    "    return X_train, X_test, y_train, y_test"
   ]
  },
  {
   "cell_type": "code",
   "execution_count": 17,
   "metadata": {},
   "outputs": [],
   "source": [
    "def get_train_split_xgb(X, y):\n",
    "    X_train, X_test, y_train, y_test = train_test_split(X, y, test_size = 0.3, shuffle = False)\n",
    "    X_val, X_test, y_val, y_test = train_test_split(X_test, y_test, test_size = 1/len(y_test), shuffle = False)\n",
    "    return X_train, X_test, X_val, y_train, y_test, y_val "
   ]
  },
  {
   "cell_type": "markdown",
   "metadata": {},
   "source": [
    "Regresión con Scikit learn y XGBoost"
   ]
  },
  {
   "cell_type": "code",
   "execution_count": 18,
   "metadata": {},
   "outputs": [],
   "source": [
    "def reg(h, z, armon):\n",
    "    y = np.array(get_zon_hor(h, z))\n",
    "    X = kron_conv(h, z, armon)\n",
    "\n",
    "    #Regressión con scikitlearn\n",
    "    X_tr, X_te, y_tr, y_te = get_train_split_sick(X, y)\n",
    "    regress = LinearRegression(n_jobs = -1).fit(X_tr, y_tr)\n",
    "    y_pred = regress.predict(X_te)\n",
    "    m1 = MAPE(y_te, y_pred)\n",
    "    \n",
    "    #Regressión con XGBoost\n",
    "    X_train, X_test, X_val, y_train, y_test, y_val = get_train_split_xgb(X, y)\n",
    "    regress2 = XGBRegressor(objective ='reg:squarederror', n_jobs=-1, max_depth=3, learning_rate=1.5, n_estimators=5)\n",
    "    regress2.fit(X_train, y_train, eval_set=[(X,y),(X_val,y_val)], verbose=0, early_stopping_rounds=50)\n",
    "    y_pred2 = regress2.predict(X_test)\n",
    "    m2 = MAPE(y_test, y_pred2)\n",
    "    \n",
    "    return m1, m2, y_pred, y_pred2"
   ]
  },
  {
   "cell_type": "code",
   "execution_count": 40,
   "metadata": {},
   "outputs": [
    {
     "data": {
      "text/plain": [
       "(23.064736076153782,\n",
       " 18.583909664233698,\n",
       " array([ 483.32095406]),\n",
       " array([ 465.72308], dtype=float32))"
      ]
     },
     "execution_count": 40,
     "metadata": {},
     "output_type": "execute_result"
    }
   ],
   "source": [
    "reg(1, \"zona_5\", 1)"
   ]
  },
  {
   "cell_type": "code",
   "execution_count": 42,
   "metadata": {},
   "outputs": [
    {
     "name": "stdout",
     "output_type": "stream",
     "text": [
      "119 ms ± 3.67 ms per loop (mean ± std. dev. of 7 runs, 100 loops each)\n"
     ]
    }
   ],
   "source": [
    "%timeit -n 100 reg(1, \"zona_5\", 1)"
   ]
  },
  {
   "cell_type": "markdown",
   "metadata": {},
   "source": [
    "Modelo autoregresivo"
   ]
  },
  {
   "cell_type": "code",
   "execution_count": 20,
   "metadata": {},
   "outputs": [],
   "source": [
    "def regAR(h, z):\n",
    "    y = pd.Series(get_zon_hor(h, z))\n",
    "    y_train, y_test = train_test_split(y, test_size = 1/len(y), shuffle = False)\n",
    "    \n",
    "    #Regresión con Autoregresión\n",
    "    regresar = AR(y_train).fit()\n",
    "    y_predico = regresar.predict(start=len(y_train), end=len(y_train) + len(y_test)-1, dynamic=False)\n",
    "    m3 = MAPE(y_test, y_predico)\n",
    "    return m3, y_predico"
   ]
  },
  {
   "cell_type": "code",
   "execution_count": 25,
   "metadata": {},
   "outputs": [],
   "source": [
    "# beg = time()\n",
    "# # for r in range(1, 1400):\n",
    "# reg(1,\"zona_5\", 3);\n",
    "# end = time()\n",
    "# end - beg"
   ]
  },
  {
   "cell_type": "markdown",
   "metadata": {},
   "source": [
    "función de dummies"
   ]
  },
  {
   "cell_type": "code",
   "execution_count": 61,
   "metadata": {},
   "outputs": [],
   "source": []
  },
  {
   "cell_type": "code",
   "execution_count": 62,
   "metadata": {},
   "outputs": [
    {
     "data": {
      "text/plain": [
       "Index(['fecha', 'hora', 'zona_1', 'zona_2', 'zona_3', 'zona_4', 'zona_5',\n",
       "       'zona_6', 'zona_7', 'zona_8', 'zona_9', 'zona_10', 'zona_11', 'zona_12',\n",
       "       'zona_13', 'zona_14', 'zona_15', 'zona_16', 'zona_17', 'zona_18',\n",
       "       'zona_19', 'zona_20', 'zona_21', 'zona_22', 'zona_23', 'zona_24',\n",
       "       'zona_25', 'zona_26', 'year', 'day', 'fest', 'd_sm_1', 'd_sm_2',\n",
       "       'd_sm_3', 'd_sm_4', 's_s_0.0', 's_s_1.0', 's_s_2.0', 'mon_1', 'mon_2',\n",
       "       'mon_3', 'mon_4', 'mon_5', 'mon_6', 'mon_7', 'mon_8', 'mon_9', 'mon_10',\n",
       "       'mon_11'],\n",
       "      dtype='object')"
      ]
     },
     "execution_count": 62,
     "metadata": {},
     "output_type": "execute_result"
    }
   ],
   "source": [
    "fm1(4).columns"
   ]
  },
  {
   "cell_type": "code",
   "execution_count": 34,
   "metadata": {},
   "outputs": [
    {
     "name": "stdout",
     "output_type": "stream",
     "text": [
      "(2.4075378716805642, 1.4270591588811747, array([ 544.61023763]), array([ 524.2176], dtype=float32))\n"
     ]
    },
    {
     "data": {
      "text/plain": [
       "0.051901817321777344"
      ]
     },
     "execution_count": 34,
     "metadata": {},
     "output_type": "execute_result"
    }
   ],
   "source": [
    "beg = time()\n",
    "print(reg(1, \"zona_1\", 0))\n",
    "end = time()\n",
    "end - beg"
   ]
  },
  {
   "cell_type": "markdown",
   "metadata": {},
   "source": [
    "Corrida funcíon de regresión"
   ]
  },
  {
   "cell_type": "code",
   "execution_count": 112,
   "metadata": {},
   "outputs": [
    {
     "ename": "ValueError",
     "evalue": "Input contains NaN, infinity or a value too large for dtype('float64').",
     "output_type": "error",
     "traceback": [
      "\u001b[1;31m---------------------------------------------------------------------------\u001b[0m",
      "\u001b[1;31mValueError\u001b[0m                                Traceback (most recent call last)",
      "\u001b[1;32m<ipython-input-112-638a45b56285>\u001b[0m in \u001b[0;36m<module>\u001b[1;34m\u001b[0m\n\u001b[0;32m     15\u001b[0m             \u001b[0mDA\u001b[0m\u001b[1;33m[\u001b[0m\u001b[1;34mf\"XGB_{arm}_{dli}\"\u001b[0m\u001b[1;33m]\u001b[0m \u001b[1;33m=\u001b[0m \u001b[1;33m[\u001b[0m\u001b[1;33m]\u001b[0m\u001b[1;33m\u001b[0m\u001b[1;33m\u001b[0m\u001b[0m\n\u001b[0;32m     16\u001b[0m             \u001b[1;32mfor\u001b[0m \u001b[0mhora\u001b[0m \u001b[1;32min\u001b[0m \u001b[0mrange\u001b[0m\u001b[1;33m(\u001b[0m\u001b[1;36m1\u001b[0m\u001b[1;33m,\u001b[0m \u001b[1;36m25\u001b[0m\u001b[1;33m)\u001b[0m\u001b[1;33m:\u001b[0m\u001b[1;33m\u001b[0m\u001b[1;33m\u001b[0m\u001b[0m\n\u001b[1;32m---> 17\u001b[1;33m                 \u001b[0mm1\u001b[0m\u001b[1;33m,\u001b[0m \u001b[0mm2\u001b[0m\u001b[1;33m,\u001b[0m \u001b[0my_p1\u001b[0m\u001b[1;33m,\u001b[0m \u001b[0my_p2\u001b[0m \u001b[1;33m=\u001b[0m \u001b[0mreg\u001b[0m\u001b[1;33m(\u001b[0m\u001b[0mhora\u001b[0m\u001b[1;33m,\u001b[0m \u001b[0mzona\u001b[0m\u001b[1;33m,\u001b[0m \u001b[0marm\u001b[0m\u001b[1;33m)\u001b[0m\u001b[1;33m\u001b[0m\u001b[1;33m\u001b[0m\u001b[0m\n\u001b[0m\u001b[0;32m     18\u001b[0m                 \u001b[0mDE\u001b[0m\u001b[1;33m[\u001b[0m\u001b[1;34mf\"Sck_{arm}_{dli}\"\u001b[0m\u001b[1;33m]\u001b[0m\u001b[1;33m.\u001b[0m\u001b[0mappend\u001b[0m\u001b[1;33m(\u001b[0m\u001b[0mm1\u001b[0m\u001b[1;33m)\u001b[0m\u001b[1;33m\u001b[0m\u001b[1;33m\u001b[0m\u001b[0m\n\u001b[0;32m     19\u001b[0m                 \u001b[0mDE\u001b[0m\u001b[1;33m[\u001b[0m\u001b[1;34mf\"XGB_{arm}_{dli}\"\u001b[0m\u001b[1;33m]\u001b[0m\u001b[1;33m.\u001b[0m\u001b[0mappend\u001b[0m\u001b[1;33m(\u001b[0m\u001b[0mm2\u001b[0m\u001b[1;33m)\u001b[0m\u001b[1;33m\u001b[0m\u001b[1;33m\u001b[0m\u001b[0m\n",
      "\u001b[1;32m<ipython-input-22-972acb3c0b97>\u001b[0m in \u001b[0;36mreg\u001b[1;34m(h, z, armon)\u001b[0m\n\u001b[0;32m      5\u001b[0m     \u001b[1;31m#Regressión con scikitlearn\u001b[0m\u001b[1;33m\u001b[0m\u001b[1;33m\u001b[0m\u001b[1;33m\u001b[0m\u001b[0m\n\u001b[0;32m      6\u001b[0m     \u001b[0mX_tr\u001b[0m\u001b[1;33m,\u001b[0m \u001b[0mX_te\u001b[0m\u001b[1;33m,\u001b[0m \u001b[0my_tr\u001b[0m\u001b[1;33m,\u001b[0m \u001b[0my_te\u001b[0m \u001b[1;33m=\u001b[0m \u001b[0mget_train_split_sick\u001b[0m\u001b[1;33m(\u001b[0m\u001b[0mX\u001b[0m\u001b[1;33m,\u001b[0m \u001b[0my\u001b[0m\u001b[1;33m)\u001b[0m\u001b[1;33m\u001b[0m\u001b[1;33m\u001b[0m\u001b[0m\n\u001b[1;32m----> 7\u001b[1;33m     \u001b[0mregress\u001b[0m \u001b[1;33m=\u001b[0m \u001b[0mLinearRegression\u001b[0m\u001b[1;33m(\u001b[0m\u001b[0mn_jobs\u001b[0m \u001b[1;33m=\u001b[0m \u001b[1;33m-\u001b[0m\u001b[1;36m1\u001b[0m\u001b[1;33m)\u001b[0m\u001b[1;33m.\u001b[0m\u001b[0mfit\u001b[0m\u001b[1;33m(\u001b[0m\u001b[0mX_tr\u001b[0m\u001b[1;33m,\u001b[0m \u001b[0my_tr\u001b[0m\u001b[1;33m)\u001b[0m\u001b[1;33m\u001b[0m\u001b[1;33m\u001b[0m\u001b[0m\n\u001b[0m\u001b[0;32m      8\u001b[0m     \u001b[0my_pred\u001b[0m \u001b[1;33m=\u001b[0m \u001b[0mregress\u001b[0m\u001b[1;33m.\u001b[0m\u001b[0mpredict\u001b[0m\u001b[1;33m(\u001b[0m\u001b[0mX_te\u001b[0m\u001b[1;33m)\u001b[0m\u001b[1;33m\u001b[0m\u001b[1;33m\u001b[0m\u001b[0m\n\u001b[0;32m      9\u001b[0m     \u001b[0mm1\u001b[0m \u001b[1;33m=\u001b[0m \u001b[0mMAPE\u001b[0m\u001b[1;33m(\u001b[0m\u001b[0my_te\u001b[0m\u001b[1;33m,\u001b[0m \u001b[0my_pred\u001b[0m\u001b[1;33m)\u001b[0m\u001b[1;33m\u001b[0m\u001b[1;33m\u001b[0m\u001b[0m\n",
      "\u001b[1;32m~\\Anaconda3\\lib\\site-packages\\sklearn\\linear_model\\base.py\u001b[0m in \u001b[0;36mfit\u001b[1;34m(self, X, y, sample_weight)\u001b[0m\n\u001b[0;32m    461\u001b[0m         \u001b[0mn_jobs_\u001b[0m \u001b[1;33m=\u001b[0m \u001b[0mself\u001b[0m\u001b[1;33m.\u001b[0m\u001b[0mn_jobs\u001b[0m\u001b[1;33m\u001b[0m\u001b[1;33m\u001b[0m\u001b[0m\n\u001b[0;32m    462\u001b[0m         X, y = check_X_y(X, y, accept_sparse=['csr', 'csc', 'coo'],\n\u001b[1;32m--> 463\u001b[1;33m                          y_numeric=True, multi_output=True)\n\u001b[0m\u001b[0;32m    464\u001b[0m \u001b[1;33m\u001b[0m\u001b[0m\n\u001b[0;32m    465\u001b[0m         \u001b[1;32mif\u001b[0m \u001b[0msample_weight\u001b[0m \u001b[1;32mis\u001b[0m \u001b[1;32mnot\u001b[0m \u001b[1;32mNone\u001b[0m \u001b[1;32mand\u001b[0m \u001b[0mnp\u001b[0m\u001b[1;33m.\u001b[0m\u001b[0matleast_1d\u001b[0m\u001b[1;33m(\u001b[0m\u001b[0msample_weight\u001b[0m\u001b[1;33m)\u001b[0m\u001b[1;33m.\u001b[0m\u001b[0mndim\u001b[0m \u001b[1;33m>\u001b[0m \u001b[1;36m1\u001b[0m\u001b[1;33m:\u001b[0m\u001b[1;33m\u001b[0m\u001b[1;33m\u001b[0m\u001b[0m\n",
      "\u001b[1;32m~\\Anaconda3\\lib\\site-packages\\sklearn\\utils\\validation.py\u001b[0m in \u001b[0;36mcheck_X_y\u001b[1;34m(X, y, accept_sparse, accept_large_sparse, dtype, order, copy, force_all_finite, ensure_2d, allow_nd, multi_output, ensure_min_samples, ensure_min_features, y_numeric, warn_on_dtype, estimator)\u001b[0m\n\u001b[0;32m    717\u001b[0m                     \u001b[0mensure_min_features\u001b[0m\u001b[1;33m=\u001b[0m\u001b[0mensure_min_features\u001b[0m\u001b[1;33m,\u001b[0m\u001b[1;33m\u001b[0m\u001b[1;33m\u001b[0m\u001b[0m\n\u001b[0;32m    718\u001b[0m                     \u001b[0mwarn_on_dtype\u001b[0m\u001b[1;33m=\u001b[0m\u001b[0mwarn_on_dtype\u001b[0m\u001b[1;33m,\u001b[0m\u001b[1;33m\u001b[0m\u001b[1;33m\u001b[0m\u001b[0m\n\u001b[1;32m--> 719\u001b[1;33m                     estimator=estimator)\n\u001b[0m\u001b[0;32m    720\u001b[0m     \u001b[1;32mif\u001b[0m \u001b[0mmulti_output\u001b[0m\u001b[1;33m:\u001b[0m\u001b[1;33m\u001b[0m\u001b[1;33m\u001b[0m\u001b[0m\n\u001b[0;32m    721\u001b[0m         y = check_array(y, 'csr', force_all_finite=True, ensure_2d=False,\n",
      "\u001b[1;32m~\\Anaconda3\\lib\\site-packages\\sklearn\\utils\\validation.py\u001b[0m in \u001b[0;36mcheck_array\u001b[1;34m(array, accept_sparse, accept_large_sparse, dtype, order, copy, force_all_finite, ensure_2d, allow_nd, ensure_min_samples, ensure_min_features, warn_on_dtype, estimator)\u001b[0m\n\u001b[0;32m    540\u001b[0m         \u001b[1;32mif\u001b[0m \u001b[0mforce_all_finite\u001b[0m\u001b[1;33m:\u001b[0m\u001b[1;33m\u001b[0m\u001b[1;33m\u001b[0m\u001b[0m\n\u001b[0;32m    541\u001b[0m             _assert_all_finite(array,\n\u001b[1;32m--> 542\u001b[1;33m                                allow_nan=force_all_finite == 'allow-nan')\n\u001b[0m\u001b[0;32m    543\u001b[0m \u001b[1;33m\u001b[0m\u001b[0m\n\u001b[0;32m    544\u001b[0m     \u001b[1;32mif\u001b[0m \u001b[0mensure_min_samples\u001b[0m \u001b[1;33m>\u001b[0m \u001b[1;36m0\u001b[0m\u001b[1;33m:\u001b[0m\u001b[1;33m\u001b[0m\u001b[1;33m\u001b[0m\u001b[0m\n",
      "\u001b[1;32m~\\Anaconda3\\lib\\site-packages\\sklearn\\utils\\validation.py\u001b[0m in \u001b[0;36m_assert_all_finite\u001b[1;34m(X, allow_nan)\u001b[0m\n\u001b[0;32m     54\u001b[0m                 not allow_nan and not np.isfinite(X).all()):\n\u001b[0;32m     55\u001b[0m             \u001b[0mtype_err\u001b[0m \u001b[1;33m=\u001b[0m \u001b[1;34m'infinity'\u001b[0m \u001b[1;32mif\u001b[0m \u001b[0mallow_nan\u001b[0m \u001b[1;32melse\u001b[0m \u001b[1;34m'NaN, infinity'\u001b[0m\u001b[1;33m\u001b[0m\u001b[1;33m\u001b[0m\u001b[0m\n\u001b[1;32m---> 56\u001b[1;33m             \u001b[1;32mraise\u001b[0m \u001b[0mValueError\u001b[0m\u001b[1;33m(\u001b[0m\u001b[0mmsg_err\u001b[0m\u001b[1;33m.\u001b[0m\u001b[0mformat\u001b[0m\u001b[1;33m(\u001b[0m\u001b[0mtype_err\u001b[0m\u001b[1;33m,\u001b[0m \u001b[0mX\u001b[0m\u001b[1;33m.\u001b[0m\u001b[0mdtype\u001b[0m\u001b[1;33m)\u001b[0m\u001b[1;33m)\u001b[0m\u001b[1;33m\u001b[0m\u001b[1;33m\u001b[0m\u001b[0m\n\u001b[0m\u001b[0;32m     57\u001b[0m     \u001b[1;31m# for object dtype data, we only check for NaNs (GH-13254)\u001b[0m\u001b[1;33m\u001b[0m\u001b[1;33m\u001b[0m\u001b[1;33m\u001b[0m\u001b[0m\n\u001b[0;32m     58\u001b[0m     \u001b[1;32melif\u001b[0m \u001b[0mX\u001b[0m\u001b[1;33m.\u001b[0m\u001b[0mdtype\u001b[0m \u001b[1;33m==\u001b[0m \u001b[0mnp\u001b[0m\u001b[1;33m.\u001b[0m\u001b[0mdtype\u001b[0m\u001b[1;33m(\u001b[0m\u001b[1;34m'object'\u001b[0m\u001b[1;33m)\u001b[0m \u001b[1;32mand\u001b[0m \u001b[1;32mnot\u001b[0m \u001b[0mallow_nan\u001b[0m\u001b[1;33m:\u001b[0m\u001b[1;33m\u001b[0m\u001b[1;33m\u001b[0m\u001b[0m\n",
      "\u001b[1;31mValueError\u001b[0m: Input contains NaN, infinity or a value too large for dtype('float64')."
     ]
    }
   ],
   "source": [
    "DE = {}; ED = {}; DA = {}; AD = {}\n",
    "for zona in [\"zona_1\", \"zona_2\"]: \n",
    "    DE[\"AR\"] = []\n",
    "    DA[\"AR\"] = []\n",
    "    for hora in range(1, 25):\n",
    "        m, y_p = regAR(hora, zona)\n",
    "        DE[\"AR\"].append(m)\n",
    "        DA[\"AR\"].append(y_p)\n",
    "    for dli in range(6):\n",
    "        df = fm1(dli)\n",
    "        for arm in range(6):\n",
    "            DE[f\"Sck_{arm}_{dli}\"] = []\n",
    "            DE[f\"XGB_{arm}_{dli}\"] = []\n",
    "            DA[f\"Sck_{arm}_{dli}\"] = []\n",
    "            DA[f\"XGB_{arm}_{dli}\"] = []\n",
    "            for hora in range(1, 25):\n",
    "                m1, m2, y_p1, y_p2 = reg(hora, zona, arm)\n",
    "                DE[f\"Sck_{arm}_{dli}\"].append(m1)\n",
    "                DE[f\"XGB_{arm}_{dli}\"].append(m2) \n",
    "                DA[f\"Sck_{arm}_{dli}\"].append(y_p1)\n",
    "                DA[f\"XGB_{arm}_{dli}\"].append(y_p2)\n",
    "    ED[zona] = pd.DataFrame(DE, index = range(1, 25)) \n",
    "    AD[zona] = pd.DataFrame(DA, index = range(1, 25)) \n",
    "AED = {\"mape\":ED, \"pred\":AD}"
   ]
  },
  {
   "cell_type": "code",
   "execution_count": 32,
   "metadata": {},
   "outputs": [],
   "source": [
    "def todo():\n",
    "    DE = {}; ED = {}; DA = {}; AD = {}\n",
    "    for zona in sonas(): \n",
    "        DE[\"AR\"] = []\n",
    "        DA[\"AR\"] = []\n",
    "        for hora in range(1, 25):\n",
    "            m, y_p = regAR(hora, zona)\n",
    "            DE[\"AR\"].append(m)\n",
    "            DA[\"AR\"].append(y_p)\n",
    "        for dli in range(6):\n",
    "            df = fm1(dli)\n",
    "            for arm in range(6):\n",
    "                DE[f\"Sck_{arm}_{dli}\"] = []\n",
    "                DE[f\"XGB_{arm}_{dli}\"] = []\n",
    "                DA[f\"Sck_{arm}_{dli}\"] = []\n",
    "                DA[f\"XGB_{arm}_{dli}\"] = []\n",
    "                for hora in range(1, 25):\n",
    "                    m1, m2, y_p1, y_p2 = reg(hora, zona, arm)\n",
    "                    DE[f\"Sck_{arm}_{dli}\"].append(m1)\n",
    "                    DE[f\"XGB_{arm}_{dli}\"].append(m2) \n",
    "                    DA[f\"Sck_{arm}_{dli}\"].append(y_p1)\n",
    "                    DA[f\"XGB_{arm}_{dli}\"].append(y_p2)\n",
    "        ED[zona] = pd.DataFrame(DE, index = range(1, 25)) \n",
    "        AD[zona] = pd.DataFrame(DA, index = range(1, 25)) \n",
    "    AED = {\"mape\":ED, \"pred\":AD}\n",
    "    return AED"
   ]
  },
  {
   "cell_type": "code",
   "execution_count": 33,
   "metadata": {},
   "outputs": [
    {
     "data": {
      "text/plain": [
       "2714.795229434967"
      ]
     },
     "execution_count": 33,
     "metadata": {},
     "output_type": "execute_result"
    }
   ],
   "source": [
    "beg = time()\n",
    "EAD = todo()\n",
    "end = time()\n",
    "end - beg"
   ]
  },
  {
   "cell_type": "code",
   "execution_count": 53,
   "metadata": {},
   "outputs": [
    {
     "data": {
      "text/plain": [
       "236.09523606300354"
      ]
     },
     "execution_count": 53,
     "metadata": {},
     "output_type": "execute_result"
    }
   ],
   "source": [
    "beg = time()\n",
    "EAD = todo()\n",
    "end = time()\n",
    "end - beg"
   ]
  },
  {
   "cell_type": "code",
   "execution_count": 99,
   "metadata": {},
   "outputs": [
    {
     "data": {
      "text/plain": [
       "1     0.057950\n",
       "2     0.403168\n",
       "3     0.111169\n",
       "4     0.011925\n",
       "5     0.263504\n",
       "6     0.251934\n",
       "7     0.033647\n",
       "8     0.135064\n",
       "9     0.033860\n",
       "10    0.115965\n",
       "11    0.000611\n",
       "12    0.188819\n",
       "13    0.026415\n",
       "14    0.054081\n",
       "15    0.010792\n",
       "16    0.302678\n",
       "17    0.014000\n",
       "18    0.000527\n",
       "19    0.725004\n",
       "20    0.231054\n",
       "21    0.114631\n",
       "22    0.313282\n",
       "23    0.104315\n",
       "24    0.398682\n",
       "dtype: float64"
      ]
     },
     "execution_count": 99,
     "metadata": {},
     "output_type": "execute_result"
    }
   ],
   "source": [
    "EAD[\"mape\"][\"zona_1\"].min(axis = 1)"
   ]
  },
  {
   "cell_type": "code",
   "execution_count": 54,
   "metadata": {},
   "outputs": [],
   "source": [
    "def regon(arg):\n",
    "    be, bo, bu, bi = reg(arg[0], arg[1], arg[2])\n",
    "    return be, bo, bu, bi"
   ]
  },
  {
   "cell_type": "code",
   "execution_count": 55,
   "metadata": {},
   "outputs": [],
   "source": [
    "car = []\n",
    "for i in range(1, 25):\n",
    "    for j in [\"zona_1\", \"zona_2\"]:\n",
    "        for k in range(6):\n",
    "                bon = [i, j, k]\n",
    "                car.append(bon)"
   ]
  },
  {
   "cell_type": "code",
   "execution_count": 56,
   "metadata": {},
   "outputs": [
    {
     "data": {
      "text/plain": [
       "288"
      ]
     },
     "execution_count": 56,
     "metadata": {},
     "output_type": "execute_result"
    }
   ],
   "source": [
    "len(car)"
   ]
  },
  {
   "cell_type": "code",
   "execution_count": 57,
   "metadata": {},
   "outputs": [],
   "source": [
    "def regas(car):\n",
    "    for i in range(6):\n",
    "        df = fm1(i)\n",
    "        cor1 = list(map(regon, car))\n",
    "        can.append(cor1)\n",
    "    return can"
   ]
  },
  {
   "cell_type": "code",
   "execution_count": 58,
   "metadata": {},
   "outputs": [
    {
     "data": {
      "text/plain": [
       "228.54670882225037"
      ]
     },
     "execution_count": 58,
     "metadata": {},
     "output_type": "execute_result"
    }
   ],
   "source": [
    "beg = time()\n",
    "can = []\n",
    "regas(car)\n",
    "end = time()\n",
    "end - beg"
   ]
  },
  {
   "cell_type": "code",
   "execution_count": 71,
   "metadata": {},
   "outputs": [
    {
     "data": {
      "text/plain": [
       "[1, 'zona_1', 5]"
      ]
     },
     "execution_count": 71,
     "metadata": {},
     "output_type": "execute_result"
    }
   ],
   "source": [
    "car[5]"
   ]
  },
  {
   "cell_type": "code",
   "execution_count": 84,
   "metadata": {},
   "outputs": [
    {
     "name": "stdout",
     "output_type": "stream",
     "text": [
      "8.88690448207\n",
      "10.4500389585\n",
      "7.27443978944\n"
     ]
    }
   ],
   "source": [
    "for i in range(3):\n",
    "    print(can[i][0][0])"
   ]
  },
  {
   "cell_type": "code",
   "execution_count": null,
   "metadata": {},
   "outputs": [],
   "source": [
    "def lin(arg, )\n",
    "    arg[j][i][0]"
   ]
  },
  {
   "cell_type": "code",
   "execution_count": 78,
   "metadata": {},
   "outputs": [
    {
     "ename": "NameError",
     "evalue": "name 'x' is not defined",
     "output_type": "error",
     "traceback": [
      "\u001b[1;31m---------------------------------------------------------------------------\u001b[0m",
      "\u001b[1;31mNameError\u001b[0m                                 Traceback (most recent call last)",
      "\u001b[1;32m<ipython-input-78-447de5f0bc7d>\u001b[0m in \u001b[0;36m<module>\u001b[1;34m\u001b[0m\n\u001b[1;32m----> 1\u001b[1;33m \u001b[0mlist\u001b[0m\u001b[1;33m(\u001b[0m\u001b[0mfilter\u001b[0m\u001b[1;33m(\u001b[0m\u001b[1;32mlambda\u001b[0m \u001b[0mx\u001b[0m\u001b[1;33m:\u001b[0m \u001b[0mx\u001b[0m\u001b[1;33m==\u001b[0m\u001b[1;36m0\u001b[0m\u001b[1;33m,\u001b[0m \u001b[0mcan\u001b[0m\u001b[1;33m[\u001b[0m\u001b[1;36m0\u001b[0m\u001b[1;33m]\u001b[0m\u001b[1;33m[\u001b[0m\u001b[1;36m0\u001b[0m\u001b[1;33m]\u001b[0m\u001b[1;33m[\u001b[0m\u001b[0mx\u001b[0m\u001b[1;33m]\u001b[0m\u001b[1;33m)\u001b[0m\u001b[1;33m)\u001b[0m\u001b[1;33m\u001b[0m\u001b[1;33m\u001b[0m\u001b[0m\n\u001b[0m",
      "\u001b[1;31mNameError\u001b[0m: name 'x' is not defined"
     ]
    }
   ],
   "source": [
    "list(filter(lambda x: x==0, can[0][0][x]))"
   ]
  },
  {
   "cell_type": "code",
   "execution_count": null,
   "metadata": {},
   "outputs": [],
   "source": [
    "ford = "
   ]
  },
  {
   "cell_type": "code",
   "execution_count": 64,
   "metadata": {},
   "outputs": [
    {
     "data": {
      "text/plain": [
       "1.8430672417629195"
      ]
     },
     "execution_count": 64,
     "metadata": {},
     "output_type": "execute_result"
    }
   ],
   "source": [
    "can[0][11][0]"
   ]
  },
  {
   "cell_type": "code",
   "execution_count": 215,
   "metadata": {},
   "outputs": [],
   "source": [
    "car = [[1, \"zona_2\", 1, 1], [1, \"zona_3\", 1, 2]]"
   ]
  },
  {
   "cell_type": "code",
   "execution_count": 243,
   "metadata": {},
   "outputs": [],
   "source": [
    "car = [[i, j, k, l] for i, j, k, l in zip(range(1, 25), sonas(), range(1, 25), range(0, 5))]"
   ]
  },
  {
   "cell_type": "code",
   "execution_count": 274,
   "metadata": {},
   "outputs": [
    {
     "data": {
      "text/plain": [
       "-28.004926681518555"
      ]
     },
     "execution_count": 274,
     "metadata": {},
     "output_type": "execute_result"
    }
   ],
   "source": [
    "beg = time()\n",
    "cor1 = list(map(regon, car))\n",
    "end = time()\n",
    "beg - end"
   ]
  },
  {
   "cell_type": "code",
   "execution_count": null,
   "metadata": {},
   "outputs": [],
   "source": []
  },
  {
   "cell_type": "code",
   "execution_count": 58,
   "metadata": {},
   "outputs": [
    {
     "data": {
      "text/plain": [
       "1     4.173217\n",
       "2     4.855302\n",
       "3     4.944084\n",
       "4     5.226407\n",
       "5     5.430592\n",
       "6     4.907652\n",
       "7     4.944493\n",
       "8     4.976333\n",
       "9     5.187021\n",
       "10    4.697278\n",
       "11    4.407233\n",
       "12    4.444924\n",
       "13    4.617235\n",
       "14    4.581564\n",
       "15    4.541507\n",
       "16    4.777069\n",
       "17    4.749792\n",
       "18    4.686939\n",
       "19    4.356286\n",
       "20    3.981182\n",
       "21    3.580332\n",
       "22    3.621603\n",
       "23    3.660293\n",
       "24    3.931869\n",
       "dtype: float64"
      ]
     },
     "execution_count": 58,
     "metadata": {},
     "output_type": "execute_result"
    }
   ],
   "source": [
    "EAD[\"mape\"][\"zona_3\"].min(axis = 1)"
   ]
  },
  {
   "cell_type": "markdown",
   "metadata": {},
   "source": [
    "Guardar datos en archivo tipo pickle"
   ]
  },
  {
   "cell_type": "code",
   "execution_count": 59,
   "metadata": {
    "collapsed": true
   },
   "outputs": [],
   "source": [
    "# output = open('Excels/mapes_365_sextre.pkl', 'wb')\n",
    "# pickle.dump(EAD, output)\n",
    "# output.close()"
   ]
  },
  {
   "cell_type": "code",
   "execution_count": null,
   "metadata": {
    "collapsed": true
   },
   "outputs": [],
   "source": []
  }
 ],
 "metadata": {
  "kernelspec": {
   "display_name": "Python 3",
   "language": "python",
   "name": "python3"
  },
  "language_info": {
   "codemirror_mode": {
    "name": "ipython",
    "version": 3
   },
   "file_extension": ".py",
   "mimetype": "text/x-python",
   "name": "python",
   "nbconvert_exporter": "python",
   "pygments_lexer": "ipython3",
   "version": "3.7.3"
  }
 },
 "nbformat": 4,
 "nbformat_minor": 2
}
