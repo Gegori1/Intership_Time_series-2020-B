{
 "cells": [
  {
   "cell_type": "markdown",
   "metadata": {},
   "source": [
    "# Importar librerias"
   ]
  },
  {
   "cell_type": "code",
   "execution_count": 1,
   "metadata": {
    "ExecuteTime": {
     "end_time": "2020-05-12T16:41:45.719256Z",
     "start_time": "2020-05-12T16:41:45.710310Z"
    }
   },
   "outputs": [],
   "source": [
    "c = 1 # Valor para variables climaticas"
   ]
  },
  {
   "cell_type": "code",
   "execution_count": 2,
   "metadata": {
    "ExecuteTime": {
     "end_time": "2020-05-12T16:42:09.403947Z",
     "start_time": "2020-05-12T16:41:45.727231Z"
    }
   },
   "outputs": [],
   "source": [
    "import time\n",
    "start = time.time()\n",
    "#importar datos y librerias\n",
    "\n",
    "import numpy as np\n",
    "import pandas as pd\n",
    "import matplotlib.pyplot as plt\n",
    "\n",
    "from datetime import datetime\n",
    "from scipy import signal\n",
    "from scipy import special\n",
    "from scipy.ndimage.interpolation import shift\n",
    "from statsmodels.tsa.seasonal import seasonal_decompose\n",
    "\n",
    "from pmdarima.arima import auto_arima\n",
    "from statsmodels.tsa.arima_model import ARIMA\n",
    "from sklearn.linear_model import Lasso, LinearRegression\n",
    "from sklearn.model_selection import train_test_split\n",
    "from sklearn.decomposition import PCA\n",
    "\n",
    "import warnings\n",
    "warnings.filterwarnings(\"ignore\", category=RuntimeWarning)\n",
    "%matplotlib inline"
   ]
  },
  {
   "cell_type": "code",
   "execution_count": 3,
   "metadata": {
    "ExecuteTime": {
     "end_time": "2020-05-12T16:42:13.774943Z",
     "start_time": "2020-05-12T16:42:09.407937Z"
    }
   },
   "outputs": [
    {
     "data": {
      "text/html": [
       "        <script type=\"text/javascript\">\n",
       "        window.PlotlyConfig = {MathJaxConfig: 'local'};\n",
       "        if (window.MathJax) {MathJax.Hub.Config({SVG: {font: \"STIX-Web\"}});}\n",
       "        if (typeof require !== 'undefined') {\n",
       "        require.undef(\"plotly\");\n",
       "        requirejs.config({\n",
       "            paths: {\n",
       "                'plotly': ['https://cdn.plot.ly/plotly-latest.min']\n",
       "            }\n",
       "        });\n",
       "        require(['plotly'], function(Plotly) {\n",
       "            window._Plotly = Plotly;\n",
       "        });\n",
       "        }\n",
       "        </script>\n",
       "        "
      ]
     },
     "metadata": {},
     "output_type": "display_data"
    }
   ],
   "source": [
    "# Plotly\n",
    "import chart_studio.plotly as ply\n",
    "import cufflinks as cf\n",
    "cf.go_offline()"
   ]
  },
  {
   "cell_type": "markdown",
   "metadata": {},
   "source": [
    "# Funciones"
   ]
  },
  {
   "cell_type": "code",
   "execution_count": 4,
   "metadata": {
    "ExecuteTime": {
     "end_time": "2020-05-12T16:42:13.798876Z",
     "start_time": "2020-05-12T16:42:13.778929Z"
    }
   },
   "outputs": [],
   "source": [
    "# para calcular el mape\n",
    "def Mape(y,y_pred):\n",
    "    return np.mean(np.abs((y-y_pred)/y))*100\n",
    "\n",
    "# para hacer kronecker por fila\n",
    "def kronecker(data1:'Dataframe 1',data2:'Dataframe 2'):\n",
    "    Combinacion = pd.DataFrame(); d1 = pd.DataFrame()\n",
    "    for i in data2.columns:\n",
    "        d1 = data1.multiply(data2[f\"{i}\"] , axis=\"index\")\n",
    "        d1.columns = [f'{i}_{j}' for j in data1.columns]\n",
    "        Combinacion = pd.concat([Combinacion, d1], axis = 1)\n",
    "    return Combinacion\n",
    "\n",
    "# para crear variables difusas\n",
    "def triangular():\n",
    "    # Se crea x\n",
    "    ma = pd.DataFrame();\n",
    "    x = consumofeb.index.dayofyear.tolist()\n",
    "    # Se crean variables a, b y c\n",
    "    height = difs()\n",
    "    for hei in height:\n",
    "        ba = pd.DataFrame(x, columns=[\"x\"])\n",
    "        ba[\"a\"] = height[hei][0]\n",
    "        ba[\"b\"] = height[hei][1]\n",
    "        ba[\"c\"] = height[hei][2]\n",
    "        # Variable difusa\n",
    "        ca = pd.DataFrame()\n",
    "        ca[\"bo\"] = (ba.x-ba.a)/(ba.b-ba.a)\n",
    "        ca[\"ba\"] = (ba.c-ba.x)/(ba.c-ba.b)\n",
    "        ca = ca.min(axis = 1)\n",
    "        ca[ca<0]=0\n",
    "        ma = pd.concat([ma, ca], axis = 1) # Se concatenan\n",
    "        \n",
    "    ma.index = consumofeb.index\n",
    "    ma.columns = height.keys()\n",
    "    return ma"
   ]
  },
  {
   "cell_type": "code",
   "execution_count": 5,
   "metadata": {
    "ExecuteTime": {
     "end_time": "2020-05-12T16:42:13.806856Z",
     "start_time": "2020-05-12T16:42:13.801871Z"
    }
   },
   "outputs": [],
   "source": [
    "# triangular()"
   ]
  },
  {
   "cell_type": "markdown",
   "metadata": {},
   "source": [
    "# Cargar datos"
   ]
  },
  {
   "cell_type": "code",
   "execution_count": 6,
   "metadata": {
    "ExecuteTime": {
     "end_time": "2020-05-12T16:42:15.709606Z",
     "start_time": "2020-05-12T16:42:13.809850Z"
    }
   },
   "outputs": [],
   "source": [
    "def cargar():\n",
    "    # variables climaticas\n",
    "    consumofeb=pd.read_excel(r'Consumo_feb.xlsx').set_index(\"fecha\").loc[\"2007-01-01\":\"2020-03-30\"] # desde el 2007\n",
    "#     consumofeb=consumofeb.drop([\"prom\",\"Lluvia\",\"Velocidad_viento\"],1) # variables no importantes para el modelo\n",
    "    #variables de consumo MWh\n",
    "    consumo=pd.read_excel(r'Data1.xlsx').set_index(\"fecha\").loc[\"2007-01-01\":\"2020-03-30\"]  # consumo de energia en MWh\n",
    "    while True:\n",
    "        if len(consumofeb.index) != len(consumo.index): \n",
    "            raise RuntimeError(\"Climatic variable and consumption variable length does not match\")\n",
    "            break\n",
    "        else: return consumo, consumofeb\n",
    "\n",
    "consumo, consumofeb = cargar()"
   ]
  },
  {
   "cell_type": "code",
   "execution_count": 7,
   "metadata": {
    "ExecuteTime": {
     "end_time": "2020-05-12T16:42:15.768450Z",
     "start_time": "2020-05-12T16:42:15.712568Z"
    }
   },
   "outputs": [
    {
     "data": {
      "text/html": [
       "<div>\n",
       "<style scoped>\n",
       "    .dataframe tbody tr th:only-of-type {\n",
       "        vertical-align: middle;\n",
       "    }\n",
       "\n",
       "    .dataframe tbody tr th {\n",
       "        vertical-align: top;\n",
       "    }\n",
       "\n",
       "    .dataframe thead th {\n",
       "        text-align: right;\n",
       "    }\n",
       "</style>\n",
       "<table border=\"1\" class=\"dataframe\">\n",
       "  <thead>\n",
       "    <tr style=\"text-align: right;\">\n",
       "      <th></th>\n",
       "      <th>mín</th>\n",
       "      <th>max</th>\n",
       "      <th>prom</th>\n",
       "      <th>Nubosidad</th>\n",
       "      <th>Lluvia</th>\n",
       "      <th>Velocidad_viento</th>\n",
       "      <th>pca1</th>\n",
       "      <th>pca2</th>\n",
       "    </tr>\n",
       "    <tr>\n",
       "      <th>fecha</th>\n",
       "      <th></th>\n",
       "      <th></th>\n",
       "      <th></th>\n",
       "      <th></th>\n",
       "      <th></th>\n",
       "      <th></th>\n",
       "      <th></th>\n",
       "      <th></th>\n",
       "    </tr>\n",
       "  </thead>\n",
       "  <tbody>\n",
       "    <tr>\n",
       "      <th>2020-03-26</th>\n",
       "      <td>11.586795</td>\n",
       "      <td>30.143811</td>\n",
       "      <td>20.865303</td>\n",
       "      <td>12.5</td>\n",
       "      <td>0.0</td>\n",
       "      <td>8.566490</td>\n",
       "      <td>-1.439417</td>\n",
       "      <td>0.423947</td>\n",
       "    </tr>\n",
       "    <tr>\n",
       "      <th>2020-03-27</th>\n",
       "      <td>11.157733</td>\n",
       "      <td>27.367474</td>\n",
       "      <td>19.262604</td>\n",
       "      <td>12.5</td>\n",
       "      <td>0.0</td>\n",
       "      <td>7.644608</td>\n",
       "      <td>-1.450199</td>\n",
       "      <td>0.517341</td>\n",
       "    </tr>\n",
       "    <tr>\n",
       "      <th>2020-03-28</th>\n",
       "      <td>11.794835</td>\n",
       "      <td>28.818809</td>\n",
       "      <td>20.306822</td>\n",
       "      <td>12.5</td>\n",
       "      <td>0.0</td>\n",
       "      <td>8.213464</td>\n",
       "      <td>-1.440026</td>\n",
       "      <td>0.455210</td>\n",
       "    </tr>\n",
       "    <tr>\n",
       "      <th>2020-03-29</th>\n",
       "      <td>12.612114</td>\n",
       "      <td>30.435102</td>\n",
       "      <td>21.523608</td>\n",
       "      <td>12.5</td>\n",
       "      <td>0.0</td>\n",
       "      <td>7.901533</td>\n",
       "      <td>-1.426668</td>\n",
       "      <td>0.393595</td>\n",
       "    </tr>\n",
       "    <tr>\n",
       "      <th>2020-03-30</th>\n",
       "      <td>12.128960</td>\n",
       "      <td>29.058100</td>\n",
       "      <td>20.593530</td>\n",
       "      <td>12.5</td>\n",
       "      <td>0.0</td>\n",
       "      <td>7.164680</td>\n",
       "      <td>-1.434793</td>\n",
       "      <td>0.451175</td>\n",
       "    </tr>\n",
       "  </tbody>\n",
       "</table>\n",
       "</div>"
      ],
      "text/plain": [
       "                  mín        max       prom  Nubosidad  Lluvia  \\\n",
       "fecha                                                            \n",
       "2020-03-26  11.586795  30.143811  20.865303       12.5     0.0   \n",
       "2020-03-27  11.157733  27.367474  19.262604       12.5     0.0   \n",
       "2020-03-28  11.794835  28.818809  20.306822       12.5     0.0   \n",
       "2020-03-29  12.612114  30.435102  21.523608       12.5     0.0   \n",
       "2020-03-30  12.128960  29.058100  20.593530       12.5     0.0   \n",
       "\n",
       "            Velocidad_viento      pca1      pca2  \n",
       "fecha                                             \n",
       "2020-03-26          8.566490 -1.439417  0.423947  \n",
       "2020-03-27          7.644608 -1.450199  0.517341  \n",
       "2020-03-28          8.213464 -1.440026  0.455210  \n",
       "2020-03-29          7.901533 -1.426668  0.393595  \n",
       "2020-03-30          7.164680 -1.434793  0.451175  "
      ]
     },
     "execution_count": 7,
     "metadata": {},
     "output_type": "execute_result"
    }
   ],
   "source": [
    "Y = consumofeb.values\n",
    "Y_std = (Y- Y.mean())/Y.std()\n",
    "pca = PCA(n_components=.9)\n",
    "pca.fit(Y_std)\n",
    "clima_pca=pca.transform(Y_std)\n",
    "\n",
    "consumofeb[\"pca1\"]=clima_pca[:,0]\n",
    "consumofeb[\"pca2\"]=clima_pca[:,1]\n",
    "consumofeb.tail()"
   ]
  },
  {
   "cell_type": "markdown",
   "metadata": {},
   "source": [
    " # Variables difusas"
   ]
  },
  {
   "cell_type": "code",
   "execution_count": 8,
   "metadata": {
    "ExecuteTime": {
     "end_time": "2020-05-12T16:42:15.780417Z",
     "start_time": "2020-05-12T16:42:15.771414Z"
    }
   },
   "outputs": [],
   "source": [
    "def difs():\n",
    "    # Inicializar posicion de datos variables difusas\n",
    "\n",
    "    inv1 = [310.5-365.25, 8.6529, 138.941176470588]\n",
    "    pr = [8.6529, 138.941176470588, 221.9375]\n",
    "    vr = [138.941176470588, 221.9375, 310.5]\n",
    "    ot = [221.9375, 310.5, 365.25+8.6529]\n",
    "    ot2 = [221.9375-365.25, 310.5-365.25, 8.6529]\n",
    "    inv2 = [310.5, 365.25+8.6529, 365.25+138.941176470588]\n",
    "\n",
    "    height = {'Invierno1': inv1,'Primavera': pr,'verano': vr,'Otoño': ot,'Otoño2': ot2,'Invierno2': inv2,} \n",
    "    return height "
   ]
  },
  {
   "cell_type": "markdown",
   "metadata": {},
   "source": [
    "-  Para graficar"
   ]
  },
  {
   "cell_type": "code",
   "execution_count": 9,
   "metadata": {
    "ExecuteTime": {
     "end_time": "2020-05-12T16:42:15.788371Z",
     "start_time": "2020-05-12T16:42:15.783379Z"
    }
   },
   "outputs": [],
   "source": [
    "# triangular().iplot()"
   ]
  },
  {
   "cell_type": "markdown",
   "metadata": {},
   "source": [
    "# Variables climaticas"
   ]
  },
  {
   "cell_type": "code",
   "execution_count": 10,
   "metadata": {
    "ExecuteTime": {
     "end_time": "2020-05-12T16:42:15.816290Z",
     "start_time": "2020-05-12T16:42:15.795347Z"
    }
   },
   "outputs": [],
   "source": [
    "def pba(j, n):\n",
    "    # armonicos\n",
    "    f, asd = signal.periodogram(consumofeb[j], 1)\n",
    "#     plt.figure()\n",
    "#     plt.plot(1/f, asd)\n",
    "    picos = pd.DataFrame(asd, 1/(f), columns=[\"potencia\"])\n",
    "    picos = picos.sort_values(by=\"potencia\",ascending=False).reset_index().head(12)\n",
    "    picos.columns = [\"periodo\", \"potencia\"]\n",
    "    #fourier\n",
    "    sencos = pd.DataFrame(index = consumofeb.index)\n",
    "    t = np.arange(1,len(consumofeb)+1)\n",
    "    sencos[\"t\"]=t\n",
    "    for i  in  picos.periodo:\n",
    "            sencos[f\"{i:.2f}_sen\"] = np.abs(np.sin(((2*np.pi)/(i))*t))\n",
    "            sencos[f\"{i:.2f}_cos\"] = np.abs(np.cos(((2*np.pi)/(i))*t))\n",
    "    sencos['ones']=1\n",
    "    sencos['sen1']=np.abs(np.sin(((2*np.pi)/(365.25))*t))\n",
    "    sencos['cos1']=np.abs(np.cos(((2*np.pi)/(365.25))*t))\n",
    "    \n",
    "    sencos=kronecker(sencos, triangular())\n",
    "    #regresion\n",
    "    X_train, X_test, y_train, y_test = train_test_split(sencos, consumofeb[j], test_size=n, shuffle = False)\n",
    "    \n",
    "    reg = LinearRegression(n_jobs=-1).fit(X_train, y_train)\n",
    "    y_predict=reg.predict(X_test)\n",
    "    \n",
    "#     plt.figure()\n",
    "#     plt.plot(y_test , label=\"real\")\n",
    "#     plt.plot(y_test.index, y_predict,label=\"predicción\")\n",
    "\n",
    "#     plt.figure()\n",
    "#     plt.plot(y_train)\n",
    "#     plt.plot(y_train.index, reg.predict(X_train))\n",
    "#     print(Mape(y_train,reg.predict(X_train)))\n",
    "    \n",
    "    nov=pd.DataFrame(np.concatenate([reg.predict(X_train),y_predict]),index=consumofeb.index,columns=[f\"{j}\"])\n",
    "\n",
    "    return nov"
   ]
  },
  {
   "cell_type": "code",
   "execution_count": 11,
   "metadata": {
    "ExecuteTime": {
     "end_time": "2020-05-12T16:42:15.825268Z",
     "start_time": "2020-05-12T16:42:15.820280Z"
    }
   },
   "outputs": [],
   "source": [
    "# pba(\"pca2\", 2)"
   ]
  },
  {
   "cell_type": "code",
   "execution_count": 12,
   "metadata": {
    "ExecuteTime": {
     "end_time": "2020-05-12T16:42:15.838232Z",
     "start_time": "2020-05-12T16:42:15.829257Z"
    }
   },
   "outputs": [
    {
     "data": {
      "text/plain": [
       "Index(['mín', 'max', 'prom', 'Nubosidad', 'Lluvia', 'Velocidad_viento', 'pca1',\n",
       "       'pca2'],\n",
       "      dtype='object')"
      ]
     },
     "execution_count": 12,
     "metadata": {},
     "output_type": "execute_result"
    }
   ],
   "source": [
    "consumofeb.columns"
   ]
  },
  {
   "cell_type": "code",
   "execution_count": 13,
   "metadata": {
    "ExecuteTime": {
     "end_time": "2020-05-12T16:42:15.852229Z",
     "start_time": "2020-05-12T16:42:15.842221Z"
    }
   },
   "outputs": [],
   "source": [
    "def modelosclima(n):\n",
    "    ca = pd.DataFrame(index = consumo.index) #[\"mín\", \"max\", \"Nubosidad\"]\n",
    "    for i in [\"pca1\", \"pca2\", \"mín\", \"max\", \"Nubosidad\"]:\n",
    "        ca = pd.concat([ca, pba(i, n)], axis = 1)\n",
    "    return ca"
   ]
  },
  {
   "cell_type": "code",
   "execution_count": 14,
   "metadata": {
    "ExecuteTime": {
     "end_time": "2020-05-12T16:42:18.375748Z",
     "start_time": "2020-05-12T16:42:15.855187Z"
    }
   },
   "outputs": [],
   "source": [
    "# Se corre y guarda en una variable los datos de clima predichos\n",
    "modclima = modelosclima(c)"
   ]
  },
  {
   "cell_type": "markdown",
   "metadata": {},
   "source": [
    "# Varibles festivos"
   ]
  },
  {
   "cell_type": "code",
   "execution_count": 15,
   "metadata": {
    "ExecuteTime": {
     "end_time": "2020-05-12T16:42:18.395664Z",
     "start_time": "2020-05-12T16:42:18.378708Z"
    }
   },
   "outputs": [],
   "source": [
    "def festivos():\n",
    "    festivos=pd.read_excel(r'Festivos.xlsx')\n",
    "    festivos2=pd.read_excel(r'Festivos2.xlsx')\n",
    "\n",
    "    Dum = pd.DataFrame(index = consumo.index)\n",
    "\n",
    "    for col in festivos.columns:\n",
    "        Dum[f\"{col}\"] = consumo.index.isin(festivos[f\"{col}\"])\n",
    "        Dum[col] = Dum[col].replace([False, True],[0, 1])\n",
    "        clean = Dum[col].values\n",
    "        Dum[col] = Dum[col]+shift(clean, 1, cval=0)*.4\n",
    "        Dum[col] = Dum[col]+shift(clean, -1, cval=0)*.4\n",
    "        Dum[col] = Dum[col]+shift(clean, 2, cval=0)*.1\n",
    "        Dum[col] = Dum[col]+shift(clean, -2, cval=0)*.1\n",
    "        Dum[col] = Dum[col]/2\n",
    "\n",
    "    Dum[\"ones\"] = 1\n",
    "    Dum[\"t\"]=np.arange(1,len(consumo.index)+1)    \n",
    "    \n",
    "    for col in festivos2.columns:\n",
    "        Dum[col] = consumo.index.isin(festivos2[col])\n",
    "    Dum = Dum.replace([False, True],[0, 1])\n",
    "    \n",
    "    return Dum"
   ]
  },
  {
   "cell_type": "markdown",
   "metadata": {},
   "source": [
    "# Todas las variables dependientes"
   ]
  },
  {
   "cell_type": "code",
   "execution_count": 16,
   "metadata": {
    "ExecuteTime": {
     "end_time": "2020-05-12T16:42:18.421592Z",
     "start_time": "2020-05-12T16:42:18.400648Z"
    }
   },
   "outputs": [],
   "source": [
    "def dummies(n):   \n",
    "    # variables eureka y clima\n",
    "    consumo2 = pd.DataFrame(index=consumo.index)\n",
    "    consumo2[\"num\"] = np.arange(1,len(consumo.index)+1)\n",
    "    consumo2[\"day\"] = consumo.index.weekday\n",
    "    consumo2[\"eureka1\"] = consumo2.day**3\n",
    "    consumo2[\"eureka2\"] = modclima[\"max\"]*consumo2.num\n",
    "    consumo2[\"month\"] = consumo.index.month\n",
    "    X = consumo2.join(modclima)\n",
    "    # normalizacion eureka-clima\n",
    "    X_norm = X/X.max()\n",
    "    \n",
    "    # variables gplearn\n",
    "    X_norm[\"gplearn1\"]=np.cos(X_norm.day)*X_norm.num\n",
    "    X_norm[\"gplearn2\"]=X_norm.num*X_norm[\"mín\"]\n",
    "    X_norm[\"gplearn3\"]=3.319**X_norm[\"max\"]*np.cos(X_norm.day)\n",
    "    X_norm[\"gplearn8\"]=3.319**X_norm[\"max\"]*X_norm.num \n",
    "    X_norm[\"gplearn4\"]=np.cos(X_norm.day)*np.sin(X_norm.day)\n",
    "    X_norm[\"gplearn6\"]=X_norm[\"max\"]**2*X_norm[\"mín\"]**2\n",
    "    X_norm[\"gplearn7\"]=1/np.cos(X_norm.day)\n",
    "    X_norm[\"gplearn10\"]=X_norm[\"max\"]*X_norm[\"mín\"]**3*np.cos(X_norm.month)**2\n",
    "    # variables dummies\n",
    "    X_norm = pd.get_dummies(X_norm, columns=[\"month\", \"day\"], prefix=[\"month\", \"day\"], drop_first=True)\n",
    "    \n",
    "    X_norm=X_norm.drop([\"mín\", \"max\", \"Nubosidad\"],axis=1) \n",
    "\n",
    "    # variables festivos y difusa de clima\n",
    "    X_norm = X_norm.join(festivos())\n",
    "    X_norm = X_norm.join(triangular())\n",
    "    \n",
    "    # variables entre y fin\n",
    "    X_norm[\"fin\"]=consumo.index.weekday\n",
    "    X_norm[\"entre\"]=consumo.index.weekday\n",
    "    X_norm[\"fin\"]=X_norm[\"fin\"].replace([0,1,2,3,4,5,6],[.5,0,0,0,.5,1,1])\n",
    "    X_norm[\"entre\"]=X_norm[\"entre\"].replace([0,1,2,3,4,5,6],[.5,1,1,1,.5,0,0])\n",
    "    return X_norm"
   ]
  },
  {
   "cell_type": "code",
   "execution_count": 17,
   "metadata": {
    "ExecuteTime": {
     "end_time": "2020-05-12T16:42:18.963177Z",
     "start_time": "2020-05-12T16:42:18.424583Z"
    }
   },
   "outputs": [
    {
     "data": {
      "text/plain": [
       "0.5296416282653809"
      ]
     },
     "execution_count": 17,
     "metadata": {},
     "output_type": "execute_result"
    }
   ],
   "source": [
    "beg = time.time()\n",
    "dummies(7)\n",
    "end = time.time()\n",
    "end - beg"
   ]
  },
  {
   "cell_type": "markdown",
   "metadata": {},
   "source": [
    "# Para separar $x$ y $y$"
   ]
  },
  {
   "cell_type": "code",
   "execution_count": 18,
   "metadata": {
    "ExecuteTime": {
     "end_time": "2020-05-12T16:42:18.975145Z",
     "start_time": "2020-05-12T16:42:18.967168Z"
    }
   },
   "outputs": [],
   "source": [
    "def separar(n, X, y):\n",
    "    # separar X y Y\n",
    "    X_train, X_test, y_train, y_test = train_test_split(X, y, \\\n",
    "                                                  test_size = n, shuffle = False)\n",
    "    return (X_train, X_test), (y_train, y_test)"
   ]
  },
  {
   "cell_type": "markdown",
   "metadata": {},
   "source": [
    "# Primer regresion"
   ]
  },
  {
   "cell_type": "code",
   "execution_count": 19,
   "metadata": {
    "ExecuteTime": {
     "end_time": "2020-05-12T16:42:18.992099Z",
     "start_time": "2020-05-12T16:42:18.979133Z"
    }
   },
   "outputs": [],
   "source": [
    "def reg(n, pre_forc): # n = 7 , pre_for = \"general\" o \"forecasting\"\n",
    "    # cargar X y Y\n",
    "    y = consumo; X = dummies(n)\n",
    "    # Se obtienen los datos separados\n",
    "    Xo, yo = separar(n, X, y)  \n",
    "    # Decision \"general\" \"forcasting\"\n",
    "    while True:\n",
    "        if pre_forc == \"general\": \n",
    "            pre_forc = 0\n",
    "            break\n",
    "        elif pre_forc == \"forecasting\": \n",
    "            pre_forc = 1\n",
    "            break\n",
    "        else: \n",
    "            raise NameError(f\"expected 'general' or 'forecasting', got '{pre_forc}' instead\")\n",
    "            break\n",
    "            \n",
    "    # regresion y predeccion    \n",
    "    reg = LinearRegression(n_jobs =-1).fit(Xo[0], yo[0])\n",
    "    y_predict=reg.predict(Xo[pre_forc])\n",
    "    \n",
    "    # dataframe real-predict- resta\n",
    "    comp = pd.DataFrame(y_predict, columns = [\"predict\"],index = yo[pre_forc].index)\n",
    "    comp[\"real\"] = yo[pre_forc]; comp[\"resta\"] = comp.real - comp.predict\n",
    "    return comp\n",
    "    "
   ]
  },
  {
   "cell_type": "markdown",
   "metadata": {},
   "source": [
    "- Para graficar"
   ]
  },
  {
   "cell_type": "code",
   "execution_count": 20,
   "metadata": {
    "ExecuteTime": {
     "end_time": "2020-05-12T16:42:19.004067Z",
     "start_time": "2020-05-12T16:42:18.995091Z"
    }
   },
   "outputs": [],
   "source": [
    "def visual1(n):\n",
    "    regio = reg(n, \"general\")\n",
    "    rego = regio[[\"predict\", \"real\"]]\n",
    "    \n",
    "    rego.iplot(title = f\"general: {Mape(*rego.values.T)}\")\n",
    "    regio.resta.iplot(title = \"resta\")\n",
    "    \n",
    "    regal = reg(n, \"forecasting\")[[\"predict\", \"real\"]]\n",
    "    regal.iplot(title = f\"forecasting: {Mape(*regal.values.T)}\")"
   ]
  },
  {
   "cell_type": "code",
   "execution_count": 21,
   "metadata": {
    "ExecuteTime": {
     "end_time": "2020-05-12T16:42:19.015036Z",
     "start_time": "2020-05-12T16:42:19.009052Z"
    }
   },
   "outputs": [],
   "source": [
    "# visual1(7)"
   ]
  },
  {
   "cell_type": "markdown",
   "metadata": {},
   "source": [
    "# Periodos en residuales"
   ]
  },
  {
   "cell_type": "code",
   "execution_count": 22,
   "metadata": {
    "ExecuteTime": {
     "end_time": "2020-05-12T16:42:19.028999Z",
     "start_time": "2020-05-12T16:42:19.019025Z"
    }
   },
   "outputs": [],
   "source": [
    "def perio(n, fg):\n",
    "    # Periodograma de resta real - pred\n",
    "    reg1 = reg(n, fg)\n",
    "    \n",
    "    f, asd = signal.periodogram(reg1.resta, 1)\n",
    "    \n",
    "#     # graficar\n",
    "#     plt.plot(1/f, asd); plt.xlabel('periodo'); plt.ylabel('PSD')\n",
    "\n",
    "    # DataFrame con columna de potencia y columna de \n",
    "    picos = pd.DataFrame(asd, columns=[\"potencia\"])\n",
    "    picos[\"periodo\"] = 1/f\n",
    "    picos = picos.sort_values(by=\"potencia\",ascending=False).reset_index(drop = True).head(12)\n",
    "    return picos[2:12]"
   ]
  },
  {
   "cell_type": "code",
   "execution_count": 23,
   "metadata": {
    "ExecuteTime": {
     "end_time": "2020-05-12T16:42:19.036977Z",
     "start_time": "2020-05-12T16:42:19.031989Z"
    }
   },
   "outputs": [],
   "source": [
    "# perio(7, \"general\")"
   ]
  },
  {
   "cell_type": "markdown",
   "metadata": {},
   "source": [
    "# Kronecker Sencos-dummies"
   ]
  },
  {
   "cell_type": "code",
   "execution_count": 27,
   "metadata": {
    "ExecuteTime": {
     "end_time": "2020-05-12T16:44:38.021300Z",
     "start_time": "2020-05-12T16:44:37.999327Z"
    }
   },
   "outputs": [],
   "source": [
    "def kron(n):\n",
    "    # Se llama a X y a Y\n",
    "    X = dummies(n) \n",
    "    # Se crea dataframe de fourier\n",
    "    sencos = pd.DataFrame()\n",
    "    t = np.arange(1,len(consumo.MWh)+1)\n",
    "    sencos[\"t\"]=t\n",
    "    \n",
    "    # Mando llamar la funcion de armonicos\n",
    "    p = perio(n, \"general\")\n",
    "    \n",
    "    # fourier\n",
    "    for i  in  p.periodo:\n",
    "            sencos[\"{:.2f}_sen\".format(i)] = np.abs(np.sin(((2*np.pi)/(i))*t))\n",
    "            sencos[\"{:.2f}_cos\".format(i)] = np.abs(np.cos(((2*np.pi)/(i))*t))\n",
    "    sencos['ones']=1\n",
    "    sencos['sen']=np.abs(np.sin(((2*np.pi)/14)*t))\n",
    "    sencos['cos']=np.abs(np.cos(((2*np.pi)/14)*t))\n",
    "    sencos['sen1']=np.abs(np.sin(((2*np.pi)/(365.25))*t))\n",
    "    sencos['cos1']=np.abs(np.cos(((2*np.pi)/(365.25))*t))\n",
    "    sencos['sen2']=np.abs(np.sin(((2*np.pi)/(28))*t))\n",
    "    sencos['cos2']=np.abs(np.cos(((2*np.pi)/(28))*t))\n",
    "    \n",
    "    sencos.index =consumo.index\n",
    "    \n",
    "    # Kronecker\n",
    "    combination=kronecker(X, sencos)\n",
    "    return sencos #combination.join(modclima)"
   ]
  },
  {
   "cell_type": "code",
   "execution_count": 29,
   "metadata": {
    "ExecuteTime": {
     "end_time": "2020-05-12T16:45:47.843998Z",
     "start_time": "2020-05-12T16:45:43.143173Z"
    }
   },
   "outputs": [
    {
     "data": {
      "text/plain": [
       "Index(['t', '536.78_sen', '536.78_cos', '4831.00_sen', '4831.00_cos',\n",
       "       '966.20_sen', '966.20_cos', '805.17_sen', '805.17_cos', '6.99_sen',\n",
       "       '6.99_cos', '1610.33_sen', '1610.33_cos', '439.18_sen', '439.18_cos',\n",
       "       '127.13_sen', '127.13_cos', '130.57_sen', '130.57_cos', '690.14_sen',\n",
       "       '690.14_cos', 'ones', 'sen', 'cos', 'sen1', 'cos1', 'sen2', 'cos2'],\n",
       "      dtype='object')"
      ]
     },
     "execution_count": 29,
     "metadata": {},
     "output_type": "execute_result"
    }
   ],
   "source": [
    "kron(7).columns"
   ]
  },
  {
   "cell_type": "markdown",
   "metadata": {},
   "source": [
    "# Segunda regresion"
   ]
  },
  {
   "cell_type": "code",
   "execution_count": 72,
   "metadata": {
    "ExecuteTime": {
     "end_time": "2020-05-08T15:13:17.329127Z",
     "start_time": "2020-05-08T15:13:17.316161Z"
    }
   },
   "outputs": [],
   "source": [
    "def reg2(n, pre_forc): # n = 7 , pre_for = \"general\" o \"forcasting\"\n",
    "    # Se llama a X y a Y\n",
    "    X = kron(n); y = consumo\n",
    "    \n",
    "    # split\n",
    "    Xo, yo = separar(n, X, y) \n",
    "    \n",
    "    # Decision \"general\" \"forcasting\"\n",
    "    while True:\n",
    "        if pre_forc == \"general\": \n",
    "            pre_forc = 0\n",
    "            break\n",
    "        elif pre_forc == \"forecasting\": \n",
    "            pre_forc = 1\n",
    "            break\n",
    "        else: \n",
    "            raise NameError(f\"expected 'general' or 'forecasting', got '{pre_forc}' instead\")\n",
    "            break\n",
    "        \n",
    "    # regresion y predeccion    \n",
    "    reg = LinearRegression(n_jobs =-1).fit(Xo[0], yo[0])\n",
    "    y_predict=reg.predict(Xo[pre_forc])\n",
    "    \n",
    "    # dataframe real-predict- resta\n",
    "    comp = pd.DataFrame(y_predict, columns = [\"predict\"],index = yo[pre_forc].index)\n",
    "    comp[\"real\"] = yo[pre_forc]; comp[\"resta\"] = comp.real - comp.predict\n",
    "    return comp"
   ]
  },
  {
   "cell_type": "markdown",
   "metadata": {},
   "source": [
    "- para graficar"
   ]
  },
  {
   "cell_type": "code",
   "execution_count": 73,
   "metadata": {
    "ExecuteTime": {
     "end_time": "2020-05-08T15:13:19.919517Z",
     "start_time": "2020-05-08T15:13:19.912535Z"
    }
   },
   "outputs": [],
   "source": [
    "def visual2(n):\n",
    "    regio = reg2(n, \"general\")\n",
    "    rego = regio[[\"predict\", \"real\"]]\n",
    "    \n",
    "    rego.iplot(title = f\"general: {Mape(*rego.values.T)}\")\n",
    "    regio.resta.iplot(title = \"resta\")\n",
    "    \n",
    "    regal = reg2(n, \"forecasting\")[[\"predict\", \"real\"]]\n",
    "    regal.iplot(title = f\"forecasting: {Mape(*regal.values.T)}\")"
   ]
  },
  {
   "cell_type": "code",
   "execution_count": 74,
   "metadata": {
    "ExecuteTime": {
     "end_time": "2020-05-08T15:13:20.304269Z",
     "start_time": "2020-05-08T15:13:20.299285Z"
    }
   },
   "outputs": [],
   "source": [
    "# visual2(10)"
   ]
  },
  {
   "cell_type": "markdown",
   "metadata": {},
   "source": [
    "# Arima"
   ]
  },
  {
   "cell_type": "code",
   "execution_count": 75,
   "metadata": {
    "ExecuteTime": {
     "end_time": "2020-05-08T15:13:21.301843Z",
     "start_time": "2020-05-08T15:13:21.291869Z"
    }
   },
   "outputs": [],
   "source": [
    "def aroma(n):\n",
    "    # llamar X\n",
    "    X = festivos().join(triangular())[:-n].drop([\"ones\"], axis = 1)\n",
    "    # llamar y\n",
    "    result = reg2(n, \"general\").resta\n",
    "    # arima\n",
    "    step_wise=auto_arima(result, exog=X, start_p=1, start_q=1, max_p=7, max_q=7, D = None,\n",
    "                     trace=True, error_action='ignore', suppress_warnings=True, stepwise=True,m=1,\n",
    "                    seasonal=False,Stationary=True, n_jobs = -1)\n",
    "    \n",
    "    mod = ARIMA(result, order=step_wise.order) #\n",
    "    results = mod.fit()\n",
    "\n",
    "    return results # modelo"
   ]
  },
  {
   "cell_type": "code",
   "execution_count": 76,
   "metadata": {
    "ExecuteTime": {
     "end_time": "2020-05-08T15:13:21.528689Z",
     "start_time": "2020-05-08T15:13:21.522704Z"
    }
   },
   "outputs": [],
   "source": [
    "# aroma(7)"
   ]
  },
  {
   "cell_type": "markdown",
   "metadata": {},
   "source": [
    "# Tercer regresion"
   ]
  },
  {
   "cell_type": "code",
   "execution_count": 77,
   "metadata": {
    "ExecuteTime": {
     "end_time": "2020-05-08T15:13:22.673467Z",
     "start_time": "2020-05-08T15:13:22.663295Z"
    }
   },
   "outputs": [],
   "source": [
    "def reg3(n):\n",
    "    X = kron(n)\n",
    "    X_train, X_test, y_train, y_test = train_test_split(X, consumo, test_size = n, shuffle = False)\n",
    "    #se llama el modelo de arima\n",
    "    results = aroma(n)   \n",
    "    # prediccion con arima\n",
    "    extra=results.predict(len(y_train),len(y_train)+n)[1:]\n",
    "    \n",
    "    # regresion con lasso\n",
    "    lasso_reg = Lasso(normalize=True,max_iter=10000).fit(X_train,y_train)\n",
    "    y_pred_lass = lasso_reg.predict(X_test)\n",
    "    print(len(lasso_reg.coef_))\n",
    "\n",
    "    # predict, real, resta\n",
    "    comp = pd.DataFrame(y_pred_lass + extra.values, columns = [\"predicción\"],index = y_test.index)\n",
    "    comp[\"real\"] = y_test; comp[\"resta\"] = comp.real - comp.predicción\n",
    "    return comp"
   ]
  },
  {
   "cell_type": "code",
   "execution_count": 78,
   "metadata": {
    "ExecuteTime": {
     "end_time": "2020-05-08T15:14:51.666263Z",
     "start_time": "2020-05-08T15:13:34.412593Z"
    }
   },
   "outputs": [
    {
     "name": "stderr",
     "output_type": "stream",
     "text": [
      "C:\\Users\\alber\\AppData\\Roaming\\Python\\Python37\\site-packages\\pmdarima\\arima\\auto.py:303: UserWarning:\n",
      "\n",
      "stepwise model cannot be fit in parallel (n_jobs=1). Falling back to stepwise parameter search.\n",
      "\n"
     ]
    },
    {
     "name": "stdout",
     "output_type": "stream",
     "text": [
      "Performing stepwise search to minimize aic\n",
      "Fit ARIMA: (1, 0, 1)x(0, 0, 0, 0) (constant=True); AIC=79836.818, BIC=79862.441, Time=0.613 seconds\n",
      "Fit ARIMA: (0, 0, 0)x(0, 0, 0, 0) (constant=True); AIC=81009.800, BIC=81022.611, Time=0.131 seconds\n",
      "Fit ARIMA: (1, 0, 0)x(0, 0, 0, 0) (constant=True); AIC=79862.089, BIC=79881.307, Time=0.273 seconds\n",
      "Fit ARIMA: (0, 0, 1)x(0, 0, 0, 0) (constant=True); AIC=79966.885, BIC=79986.102, Time=0.475 seconds\n",
      "Fit ARIMA: (0, 0, 0)x(0, 0, 0, 0) (constant=False); AIC=81007.800, BIC=81014.205, Time=0.053 seconds\n",
      "Fit ARIMA: (2, 0, 1)x(0, 0, 0, 0) (constant=True); AIC=79373.739, BIC=79405.768, Time=4.159 seconds\n",
      "Fit ARIMA: (2, 0, 0)x(0, 0, 0, 0) (constant=True); AIC=79829.355, BIC=79854.978, Time=0.361 seconds\n",
      "Fit ARIMA: (3, 0, 1)x(0, 0, 0, 0) (constant=True); AIC=79369.653, BIC=79408.088, Time=7.472 seconds\n",
      "Fit ARIMA: (3, 0, 0)x(0, 0, 0, 0) (constant=True); AIC=79803.955, BIC=79835.984, Time=0.579 seconds\n",
      "Fit ARIMA: (4, 0, 1)x(0, 0, 0, 0) (constant=True); AIC=79378.232, BIC=79423.073, Time=5.452 seconds\n",
      "Fit ARIMA: (3, 0, 2)x(0, 0, 0, 0) (constant=True); AIC=79389.182, BIC=79434.023, Time=3.741 seconds\n",
      "Fit ARIMA: (2, 0, 2)x(0, 0, 0, 0) (constant=True); AIC=79368.607, BIC=79407.042, Time=6.564 seconds\n",
      "Fit ARIMA: (1, 0, 2)x(0, 0, 0, 0) (constant=True); AIC=79833.109, BIC=79865.139, Time=1.488 seconds\n",
      "Fit ARIMA: (2, 0, 3)x(0, 0, 0, 0) (constant=True); AIC=79374.441, BIC=79419.282, Time=5.594 seconds\n",
      "Fit ARIMA: (1, 0, 3)x(0, 0, 0, 0) (constant=True); AIC=79810.816, BIC=79849.251, Time=2.065 seconds\n",
      "Fit ARIMA: (3, 0, 3)x(0, 0, 0, 0) (constant=True); AIC=79370.075, BIC=79421.321, Time=9.168 seconds\n",
      "Total fit time: 48.235 seconds\n"
     ]
    },
    {
     "name": "stderr",
     "output_type": "stream",
     "text": [
      "C:\\Users\\alber\\AppData\\Roaming\\Python\\Python37\\site-packages\\statsmodels\\tsa\\base\\tsa_model.py:162: ValueWarning:\n",
      "\n",
      "No frequency information was provided, so inferred frequency D will be used.\n",
      "\n"
     ]
    },
    {
     "name": "stdout",
     "output_type": "stream",
     "text": [
      "1769\n",
      " timepo de corrida: 1.2873389681180318 min\n"
     ]
    }
   ],
   "source": [
    "beg = time.time()\n",
    "ba = reg3(365)\n",
    "end = time.time()\n",
    "print(f\" timepo de corrida: {(end - beg)/60} min\")"
   ]
  },
  {
   "cell_type": "markdown",
   "metadata": {},
   "source": [
    "- para graficar"
   ]
  },
  {
   "cell_type": "code",
   "execution_count": 81,
   "metadata": {
    "ExecuteTime": {
     "end_time": "2020-05-08T15:17:18.427468Z",
     "start_time": "2020-05-08T15:17:17.953138Z"
    }
   },
   "outputs": [
    {
     "data": {
      "application/vnd.plotly.v1+json": {
       "config": {
        "linkText": "Export to plot.ly",
        "plotlyServerURL": "https://plot.ly",
        "showLink": true
       },
       "data": [
        {
         "line": {
          "color": "rgba(255, 153, 51, 1.0)",
          "dash": "solid",
          "shape": "linear",
          "width": 1.3
         },
         "mode": "lines",
         "name": "real",
         "text": "",
         "type": "scatter",
         "x": [
          "2019-04-01",
          "2019-04-02",
          "2019-04-03",
          "2019-04-04",
          "2019-04-05",
          "2019-04-06",
          "2019-04-07",
          "2019-04-08",
          "2019-04-09",
          "2019-04-10",
          "2019-04-11",
          "2019-04-12",
          "2019-04-13",
          "2019-04-14",
          "2019-04-15",
          "2019-04-16",
          "2019-04-17",
          "2019-04-18",
          "2019-04-19",
          "2019-04-20",
          "2019-04-21",
          "2019-04-22",
          "2019-04-23",
          "2019-04-24",
          "2019-04-25",
          "2019-04-26",
          "2019-04-27",
          "2019-04-28",
          "2019-04-29",
          "2019-04-30",
          "2019-05-01",
          "2019-05-02",
          "2019-05-03",
          "2019-05-04",
          "2019-05-05",
          "2019-05-06",
          "2019-05-07",
          "2019-05-08",
          "2019-05-09",
          "2019-05-10",
          "2019-05-11",
          "2019-05-12",
          "2019-05-13",
          "2019-05-14",
          "2019-05-15",
          "2019-05-16",
          "2019-05-17",
          "2019-05-18",
          "2019-05-19",
          "2019-05-20",
          "2019-05-21",
          "2019-05-22",
          "2019-05-23",
          "2019-05-24",
          "2019-05-25",
          "2019-05-26",
          "2019-05-27",
          "2019-05-28",
          "2019-05-29",
          "2019-05-30",
          "2019-05-31",
          "2019-06-01",
          "2019-06-02",
          "2019-06-03",
          "2019-06-04",
          "2019-06-05",
          "2019-06-06",
          "2019-06-07",
          "2019-06-08",
          "2019-06-09",
          "2019-06-10",
          "2019-06-11",
          "2019-06-12",
          "2019-06-13",
          "2019-06-14",
          "2019-06-15",
          "2019-06-16",
          "2019-06-17",
          "2019-06-18",
          "2019-06-19",
          "2019-06-20",
          "2019-06-21",
          "2019-06-22",
          "2019-06-23",
          "2019-06-24",
          "2019-06-25",
          "2019-06-26",
          "2019-06-27",
          "2019-06-28",
          "2019-06-29",
          "2019-06-30",
          "2019-07-01",
          "2019-07-02",
          "2019-07-03",
          "2019-07-04",
          "2019-07-05",
          "2019-07-06",
          "2019-07-07",
          "2019-07-08",
          "2019-07-09",
          "2019-07-10",
          "2019-07-11",
          "2019-07-12",
          "2019-07-13",
          "2019-07-14",
          "2019-07-15",
          "2019-07-16",
          "2019-07-17",
          "2019-07-18",
          "2019-07-19",
          "2019-07-20",
          "2019-07-21",
          "2019-07-22",
          "2019-07-23",
          "2019-07-24",
          "2019-07-25",
          "2019-07-26",
          "2019-07-27",
          "2019-07-28",
          "2019-07-29",
          "2019-07-30",
          "2019-07-31",
          "2019-08-01",
          "2019-08-02",
          "2019-08-03",
          "2019-08-04",
          "2019-08-05",
          "2019-08-06",
          "2019-08-07",
          "2019-08-08",
          "2019-08-09",
          "2019-08-10",
          "2019-08-11",
          "2019-08-12",
          "2019-08-13",
          "2019-08-14",
          "2019-08-15",
          "2019-08-16",
          "2019-08-17",
          "2019-08-18",
          "2019-08-19",
          "2019-08-20",
          "2019-08-21",
          "2019-08-22",
          "2019-08-23",
          "2019-08-24",
          "2019-08-25",
          "2019-08-26",
          "2019-08-27",
          "2019-08-28",
          "2019-08-29",
          "2019-08-30",
          "2019-08-31",
          "2019-09-01",
          "2019-09-02",
          "2019-09-03",
          "2019-09-04",
          "2019-09-05",
          "2019-09-06",
          "2019-09-07",
          "2019-09-08",
          "2019-09-09",
          "2019-09-10",
          "2019-09-11",
          "2019-09-12",
          "2019-09-13",
          "2019-09-14",
          "2019-09-15",
          "2019-09-16",
          "2019-09-17",
          "2019-09-18",
          "2019-09-19",
          "2019-09-20",
          "2019-09-21",
          "2019-09-22",
          "2019-09-23",
          "2019-09-24",
          "2019-09-25",
          "2019-09-26",
          "2019-09-27",
          "2019-09-28",
          "2019-09-29",
          "2019-09-30",
          "2019-10-01",
          "2019-10-02",
          "2019-10-03",
          "2019-10-04",
          "2019-10-05",
          "2019-10-06",
          "2019-10-07",
          "2019-10-08",
          "2019-10-09",
          "2019-10-10",
          "2019-10-11",
          "2019-10-12",
          "2019-10-13",
          "2019-10-14",
          "2019-10-15",
          "2019-10-16",
          "2019-10-17",
          "2019-10-18",
          "2019-10-19",
          "2019-10-20",
          "2019-10-21",
          "2019-10-22",
          "2019-10-23",
          "2019-10-24",
          "2019-10-25",
          "2019-10-26",
          "2019-10-27",
          "2019-10-28",
          "2019-10-29",
          "2019-10-30",
          "2019-10-31",
          "2019-11-01",
          "2019-11-02",
          "2019-11-03",
          "2019-11-04",
          "2019-11-05",
          "2019-11-06",
          "2019-11-07",
          "2019-11-08",
          "2019-11-09",
          "2019-11-10",
          "2019-11-11",
          "2019-11-12",
          "2019-11-13",
          "2019-11-14",
          "2019-11-15",
          "2019-11-16",
          "2019-11-17",
          "2019-11-18",
          "2019-11-19",
          "2019-11-20",
          "2019-11-21",
          "2019-11-22",
          "2019-11-23",
          "2019-11-24",
          "2019-11-25",
          "2019-11-26",
          "2019-11-27",
          "2019-11-28",
          "2019-11-29",
          "2019-11-30",
          "2019-12-01",
          "2019-12-02",
          "2019-12-03",
          "2019-12-04",
          "2019-12-05",
          "2019-12-06",
          "2019-12-07",
          "2019-12-08",
          "2019-12-09",
          "2019-12-10",
          "2019-12-11",
          "2019-12-12",
          "2019-12-13",
          "2019-12-14",
          "2019-12-15",
          "2019-12-16",
          "2019-12-17",
          "2019-12-18",
          "2019-12-19",
          "2019-12-20",
          "2019-12-21",
          "2019-12-22",
          "2019-12-23",
          "2019-12-24",
          "2019-12-25",
          "2019-12-26",
          "2019-12-27",
          "2019-12-28",
          "2019-12-29",
          "2019-12-30",
          "2019-12-31",
          "2020-01-01",
          "2020-01-02",
          "2020-01-03",
          "2020-01-04",
          "2020-01-05",
          "2020-01-06",
          "2020-01-07",
          "2020-01-08",
          "2020-01-09",
          "2020-01-10",
          "2020-01-11",
          "2020-01-12",
          "2020-01-13",
          "2020-01-14",
          "2020-01-15",
          "2020-01-16",
          "2020-01-17",
          "2020-01-18",
          "2020-01-19",
          "2020-01-20",
          "2020-01-21",
          "2020-01-22",
          "2020-01-23",
          "2020-01-24",
          "2020-01-25",
          "2020-01-26",
          "2020-01-27",
          "2020-01-28",
          "2020-01-29",
          "2020-01-30",
          "2020-01-31",
          "2020-02-01",
          "2020-02-02",
          "2020-02-03",
          "2020-02-04",
          "2020-02-05",
          "2020-02-06",
          "2020-02-07",
          "2020-02-08",
          "2020-02-09",
          "2020-02-10",
          "2020-02-11",
          "2020-02-12",
          "2020-02-13",
          "2020-02-14",
          "2020-02-15",
          "2020-02-16",
          "2020-02-17",
          "2020-02-18",
          "2020-02-19",
          "2020-02-20",
          "2020-02-21",
          "2020-02-22",
          "2020-02-23",
          "2020-02-24",
          "2020-02-25",
          "2020-02-26",
          "2020-02-27",
          "2020-02-28",
          "2020-02-29",
          "2020-03-01",
          "2020-03-02",
          "2020-03-03",
          "2020-03-04",
          "2020-03-05",
          "2020-03-06",
          "2020-03-07",
          "2020-03-08",
          "2020-03-09",
          "2020-03-10",
          "2020-03-11",
          "2020-03-12",
          "2020-03-13",
          "2020-03-14",
          "2020-03-15",
          "2020-03-16",
          "2020-03-17",
          "2020-03-18",
          "2020-03-19",
          "2020-03-20",
          "2020-03-21",
          "2020-03-22",
          "2020-03-23",
          "2020-03-24",
          "2020-03-25",
          "2020-03-26",
          "2020-03-27",
          "2020-03-28",
          "2020-03-29",
          "2020-03-30"
         ],
         "y": [
          196904.228,
          207122.4405,
          209673.883,
          209630.608,
          211877.7711357422,
          199579.798,
          164382.75672412172,
          198098.91,
          206602.96572962598,
          208861.0498082413,
          209024.609,
          206789.222,
          193673.112,
          169069.223,
          193010,
          200917.15777472832,
          202274.278,
          183225.159,
          153917.929,
          160248.371,
          160343.94,
          198123.603,
          211378.832,
          210246.035,
          209295.313,
          209775.398,
          199141.387,
          175661.977,
          203507.566,
          208979.3018291059,
          186503.626,
          203723.777,
          210553.967,
          199380.424,
          176362.695,
          202461.592,
          210949.84,
          211644.159,
          210037.206,
          201229.201,
          197201.055,
          175505.845,
          204508.96828426616,
          212116.69955164206,
          217260.67556218783,
          216793.73291693113,
          217725.277,
          205663.784,
          181471.309,
          209524.979,
          217588.154,
          218979.919,
          219686,
          219078,
          209627.982,
          183584.0425017895,
          211223.095,
          217109,
          219521.027,
          219614.065,
          216893.743,
          202679.913,
          178435.842,
          203386.629,
          212216.49,
          205231.885,
          205121.9593386317,
          207174.452,
          196992.125,
          173742.691,
          202115.272,
          213172.384,
          214206.228,
          210219.923,
          210647.25,
          201523.644,
          173220.341,
          202818.984,
          213100.805,
          211586.981,
          212255.22249000001,
          211196.276,
          199010.263,
          174216.801,
          201163.077,
          208199.545,
          208392.528,
          201950.252,
          203798.639,
          194927.398,
          169873.006,
          193055.643,
          204108.459,
          202544.88,
          203946.333,
          201122.122,
          192091.125,
          169635.476,
          196427.65843207831,
          206337.9759943712,
          211699.241,
          209984.745,
          208242.32,
          192568.957,
          165796.829,
          190345.883,
          197304.89262820993,
          199931.004,
          201280.607,
          198712.895,
          184998.215,
          160963.419,
          186454.933,
          195796.589,
          197287.062,
          195025.742,
          194694.8,
          184374.574,
          162627.706,
          190961.858,
          199457.618,
          202452.177,
          203162.521,
          202889.594,
          196053.95979999998,
          172637.027,
          199254.661,
          206007.418,
          203394.847,
          201745.792,
          200406.64,
          191741.784,
          167069.288,
          194524.297,
          205047.168,
          208453.668,
          207533.345,
          206737.021,
          196792.662,
          172401.209,
          201514.617,
          208755.806,
          211702.788,
          210033.265,
          201585.253,
          187646.883,
          164951.972,
          188368.346,
          194208.01359781428,
          198116.41,
          197749.753,
          198522.107,
          187984.448,
          163619.952,
          193289.27,
          199188.888,
          204328.085,
          202078.586,
          199325.628,
          187721.683,
          163947.116,
          190909.494,
          198840.569,
          198612.584,
          201182.795,
          199985.169,
          187706.973,
          158599.506,
          151766.345,
          190357.229,
          199330.987,
          197681.325,
          195693.814,
          185969.621,
          164464.339,
          191005,
          198628,
          200546,
          199862,
          197636,
          187436,
          162312,
          180928,
          187697,
          189882,
          190440,
          190613,
          180690,
          159532,
          186287,
          193666,
          197044,
          199651,
          198878,
          184454,
          161012,
          189008,
          199283,
          199886,
          197439,
          194628,
          182012,
          157451,
          179750,
          187454,
          187039,
          189448,
          188045,
          175670,
          159302,
          178933,
          189269,
          192074,
          189060,
          187523,
          173539,
          155669,
          185071,
          194240,
          197386,
          199822,
          198145,
          185040,
          163064,
          189833,
          198013,
          193707,
          191211,
          190685,
          179913,
          155538,
          155473,
          182764,
          194381,
          199227,
          196224,
          185421,
          161952,
          187654,
          196899,
          199330,
          199195,
          197505,
          183926,
          162640,
          188061,
          197610,
          198861,
          198273,
          197910,
          183631,
          162086,
          189322,
          199796,
          197256,
          172912,
          184812,
          180866,
          162353,
          188477,
          197525,
          195950,
          196053,
          193610,
          178419,
          158125,
          167160,
          153466,
          128624,
          159127,
          169847,
          167376,
          152744,
          161393,
          153785,
          129479,
          160216,
          176153,
          170064,
          154375,
          179303,
          190582,
          193961,
          195431,
          193819,
          182426,
          159732,
          187431,
          196814,
          199947,
          199867,
          198781,
          187145,
          164080,
          187257,
          194655,
          196498,
          197180.599,
          194469.072,
          182328.698,
          158767.24745535228,
          184964,
          194913,
          195876,
          195641,
          194707,
          182479,
          157497,
          157350.724,
          180261.8694747058,
          190598.32145057345,
          187284.165,
          188032.952,
          180791.29936200002,
          156802.632,
          185664.461,
          196090.494,
          198069.94,
          196326.3004968575,
          198104.11,
          197219.405,
          165175.5991363423,
          193444.758,
          205066.911,
          207864.01059883178,
          208532.257,
          206646.291,
          195404.65734338292,
          170638.966,
          194946.982,
          207646.143,
          206187.856,
          203216.015,
          203384.3655258246,
          193804.37302020256,
          168483.515,
          195732.045,
          206334.203,
          208013.69892374228,
          209467.73,
          204347.097,
          195523.827,
          168597.855,
          194525.969,
          206944.76298956136,
          209419.85150708232,
          212493.446,
          211848.227,
          198746.1259198897,
          172471.601743114,
          172167.1345528299,
          196979.657,
          209386.045,
          207798.931,
          205937.07269599594,
          197432.10889048717,
          171967.55659909293,
          197526.498129075,
          206724.15,
          207132.60167331056,
          205825.95295446686,
          202961.53843346087,
          192610.26960474052,
          168345.521,
          191108.613
         ]
        },
        {
         "line": {
          "color": "rgba(55, 128, 191, 1.0)",
          "dash": "solid",
          "shape": "linear",
          "width": 1.3
         },
         "mode": "lines",
         "name": "predicción",
         "text": "",
         "type": "scatter",
         "x": [
          "2019-04-01",
          "2019-04-02",
          "2019-04-03",
          "2019-04-04",
          "2019-04-05",
          "2019-04-06",
          "2019-04-07",
          "2019-04-08",
          "2019-04-09",
          "2019-04-10",
          "2019-04-11",
          "2019-04-12",
          "2019-04-13",
          "2019-04-14",
          "2019-04-15",
          "2019-04-16",
          "2019-04-17",
          "2019-04-18",
          "2019-04-19",
          "2019-04-20",
          "2019-04-21",
          "2019-04-22",
          "2019-04-23",
          "2019-04-24",
          "2019-04-25",
          "2019-04-26",
          "2019-04-27",
          "2019-04-28",
          "2019-04-29",
          "2019-04-30",
          "2019-05-01",
          "2019-05-02",
          "2019-05-03",
          "2019-05-04",
          "2019-05-05",
          "2019-05-06",
          "2019-05-07",
          "2019-05-08",
          "2019-05-09",
          "2019-05-10",
          "2019-05-11",
          "2019-05-12",
          "2019-05-13",
          "2019-05-14",
          "2019-05-15",
          "2019-05-16",
          "2019-05-17",
          "2019-05-18",
          "2019-05-19",
          "2019-05-20",
          "2019-05-21",
          "2019-05-22",
          "2019-05-23",
          "2019-05-24",
          "2019-05-25",
          "2019-05-26",
          "2019-05-27",
          "2019-05-28",
          "2019-05-29",
          "2019-05-30",
          "2019-05-31",
          "2019-06-01",
          "2019-06-02",
          "2019-06-03",
          "2019-06-04",
          "2019-06-05",
          "2019-06-06",
          "2019-06-07",
          "2019-06-08",
          "2019-06-09",
          "2019-06-10",
          "2019-06-11",
          "2019-06-12",
          "2019-06-13",
          "2019-06-14",
          "2019-06-15",
          "2019-06-16",
          "2019-06-17",
          "2019-06-18",
          "2019-06-19",
          "2019-06-20",
          "2019-06-21",
          "2019-06-22",
          "2019-06-23",
          "2019-06-24",
          "2019-06-25",
          "2019-06-26",
          "2019-06-27",
          "2019-06-28",
          "2019-06-29",
          "2019-06-30",
          "2019-07-01",
          "2019-07-02",
          "2019-07-03",
          "2019-07-04",
          "2019-07-05",
          "2019-07-06",
          "2019-07-07",
          "2019-07-08",
          "2019-07-09",
          "2019-07-10",
          "2019-07-11",
          "2019-07-12",
          "2019-07-13",
          "2019-07-14",
          "2019-07-15",
          "2019-07-16",
          "2019-07-17",
          "2019-07-18",
          "2019-07-19",
          "2019-07-20",
          "2019-07-21",
          "2019-07-22",
          "2019-07-23",
          "2019-07-24",
          "2019-07-25",
          "2019-07-26",
          "2019-07-27",
          "2019-07-28",
          "2019-07-29",
          "2019-07-30",
          "2019-07-31",
          "2019-08-01",
          "2019-08-02",
          "2019-08-03",
          "2019-08-04",
          "2019-08-05",
          "2019-08-06",
          "2019-08-07",
          "2019-08-08",
          "2019-08-09",
          "2019-08-10",
          "2019-08-11",
          "2019-08-12",
          "2019-08-13",
          "2019-08-14",
          "2019-08-15",
          "2019-08-16",
          "2019-08-17",
          "2019-08-18",
          "2019-08-19",
          "2019-08-20",
          "2019-08-21",
          "2019-08-22",
          "2019-08-23",
          "2019-08-24",
          "2019-08-25",
          "2019-08-26",
          "2019-08-27",
          "2019-08-28",
          "2019-08-29",
          "2019-08-30",
          "2019-08-31",
          "2019-09-01",
          "2019-09-02",
          "2019-09-03",
          "2019-09-04",
          "2019-09-05",
          "2019-09-06",
          "2019-09-07",
          "2019-09-08",
          "2019-09-09",
          "2019-09-10",
          "2019-09-11",
          "2019-09-12",
          "2019-09-13",
          "2019-09-14",
          "2019-09-15",
          "2019-09-16",
          "2019-09-17",
          "2019-09-18",
          "2019-09-19",
          "2019-09-20",
          "2019-09-21",
          "2019-09-22",
          "2019-09-23",
          "2019-09-24",
          "2019-09-25",
          "2019-09-26",
          "2019-09-27",
          "2019-09-28",
          "2019-09-29",
          "2019-09-30",
          "2019-10-01",
          "2019-10-02",
          "2019-10-03",
          "2019-10-04",
          "2019-10-05",
          "2019-10-06",
          "2019-10-07",
          "2019-10-08",
          "2019-10-09",
          "2019-10-10",
          "2019-10-11",
          "2019-10-12",
          "2019-10-13",
          "2019-10-14",
          "2019-10-15",
          "2019-10-16",
          "2019-10-17",
          "2019-10-18",
          "2019-10-19",
          "2019-10-20",
          "2019-10-21",
          "2019-10-22",
          "2019-10-23",
          "2019-10-24",
          "2019-10-25",
          "2019-10-26",
          "2019-10-27",
          "2019-10-28",
          "2019-10-29",
          "2019-10-30",
          "2019-10-31",
          "2019-11-01",
          "2019-11-02",
          "2019-11-03",
          "2019-11-04",
          "2019-11-05",
          "2019-11-06",
          "2019-11-07",
          "2019-11-08",
          "2019-11-09",
          "2019-11-10",
          "2019-11-11",
          "2019-11-12",
          "2019-11-13",
          "2019-11-14",
          "2019-11-15",
          "2019-11-16",
          "2019-11-17",
          "2019-11-18",
          "2019-11-19",
          "2019-11-20",
          "2019-11-21",
          "2019-11-22",
          "2019-11-23",
          "2019-11-24",
          "2019-11-25",
          "2019-11-26",
          "2019-11-27",
          "2019-11-28",
          "2019-11-29",
          "2019-11-30",
          "2019-12-01",
          "2019-12-02",
          "2019-12-03",
          "2019-12-04",
          "2019-12-05",
          "2019-12-06",
          "2019-12-07",
          "2019-12-08",
          "2019-12-09",
          "2019-12-10",
          "2019-12-11",
          "2019-12-12",
          "2019-12-13",
          "2019-12-14",
          "2019-12-15",
          "2019-12-16",
          "2019-12-17",
          "2019-12-18",
          "2019-12-19",
          "2019-12-20",
          "2019-12-21",
          "2019-12-22",
          "2019-12-23",
          "2019-12-24",
          "2019-12-25",
          "2019-12-26",
          "2019-12-27",
          "2019-12-28",
          "2019-12-29",
          "2019-12-30",
          "2019-12-31",
          "2020-01-01",
          "2020-01-02",
          "2020-01-03",
          "2020-01-04",
          "2020-01-05",
          "2020-01-06",
          "2020-01-07",
          "2020-01-08",
          "2020-01-09",
          "2020-01-10",
          "2020-01-11",
          "2020-01-12",
          "2020-01-13",
          "2020-01-14",
          "2020-01-15",
          "2020-01-16",
          "2020-01-17",
          "2020-01-18",
          "2020-01-19",
          "2020-01-20",
          "2020-01-21",
          "2020-01-22",
          "2020-01-23",
          "2020-01-24",
          "2020-01-25",
          "2020-01-26",
          "2020-01-27",
          "2020-01-28",
          "2020-01-29",
          "2020-01-30",
          "2020-01-31",
          "2020-02-01",
          "2020-02-02",
          "2020-02-03",
          "2020-02-04",
          "2020-02-05",
          "2020-02-06",
          "2020-02-07",
          "2020-02-08",
          "2020-02-09",
          "2020-02-10",
          "2020-02-11",
          "2020-02-12",
          "2020-02-13",
          "2020-02-14",
          "2020-02-15",
          "2020-02-16",
          "2020-02-17",
          "2020-02-18",
          "2020-02-19",
          "2020-02-20",
          "2020-02-21",
          "2020-02-22",
          "2020-02-23",
          "2020-02-24",
          "2020-02-25",
          "2020-02-26",
          "2020-02-27",
          "2020-02-28",
          "2020-02-29",
          "2020-03-01",
          "2020-03-02",
          "2020-03-03",
          "2020-03-04",
          "2020-03-05",
          "2020-03-06",
          "2020-03-07",
          "2020-03-08",
          "2020-03-09",
          "2020-03-10",
          "2020-03-11",
          "2020-03-12",
          "2020-03-13",
          "2020-03-14",
          "2020-03-15",
          "2020-03-16",
          "2020-03-17",
          "2020-03-18",
          "2020-03-19",
          "2020-03-20",
          "2020-03-21",
          "2020-03-22",
          "2020-03-23",
          "2020-03-24",
          "2020-03-25",
          "2020-03-26",
          "2020-03-27",
          "2020-03-28",
          "2020-03-29",
          "2020-03-30"
         ],
         "y": [
          191342.48389271283,
          199601.45121060754,
          201480.71511022767,
          201680.97091898706,
          200490.77507061773,
          192005.60565451402,
          171386.39050349224,
          194551.6701657565,
          202115.56081507093,
          203882.46769102948,
          203824.16226113186,
          202405.94041322466,
          193786.91526436651,
          172971.6891231777,
          196573.76278087715,
          200197.0547804598,
          198019.46856177814,
          182053.23724876528,
          162170.8473088397,
          168290.13540889352,
          165342.3725126692,
          196868.96936614337,
          207440.95663538156,
          209583.14600569548,
          209824.15751731867,
          208376.66216086684,
          199870.16574791636,
          178788.16768774463,
          203270.28087374434,
          211505.23111088036,
          191924.73486786085,
          212982.957072178,
          211159.86492134823,
          202576.63267608965,
          181297.12616920428,
          205841.99153517073,
          214152.58671195188,
          215542.42988117866,
          214437.42482780898,
          211110.62432004703,
          204380.72051337434,
          183625.57857801393,
          208356.3603931901,
          216834.42621998672,
          218515.6518244351,
          218817.04608122786,
          217563.1434646192,
          209009.84592130955,
          187854.22675221195,
          212766.03453348676,
          220894.1243644096,
          222280.08382063318,
          221789.59336441918,
          219385.57687873993,
          209606.9193122622,
          187517.18196502366,
          212151.1392967501,
          219910.70180831073,
          220861.7976065861,
          219897.73395515184,
          217062.59402756742,
          209364.30693597763,
          186985.2018015061,
          211014.88895546042,
          218589.43733032176,
          218976.97156167953,
          217881.2017542735,
          214973.54720743265,
          204826.88199295354,
          182689.00417411403,
          206185.56432122522,
          213357.57390838087,
          213590.38710375567,
          212039.28691573686,
          208745.14907784588,
          198353.62289311868,
          176184.89275677875,
          198821.47752461972,
          205471.94703988972,
          205542.70499732823,
          203796.98315561243,
          200343.84880954176,
          190053.24155193614,
          168240.9354143825,
          189759.31604610634,
          196340.65290068346,
          196454.10814917414,
          195178.8974731745,
          192371.24315281378,
          182930.79800261484,
          162107.16688342774,
          180795.38498949376,
          188413.4945233072,
          189876.2414563212,
          189845.8179098788,
          188089.1502692655,
          179796.64696395857,
          159814.650081571,
          182473.51509887454,
          190395.36377898345,
          192059.95554754097,
          192000.75374764437,
          190210.61291447034,
          181894.4516403991,
          161701.7668095562,
          184529.70677567492,
          192185.5933817836,
          192987.0659978425,
          192440.5283959152,
          190395.67817928767,
          181864.1951654703,
          161401.29810434897,
          184359.0281494346,
          192223.32424911766,
          193338.47450652157,
          193070.51259072908,
          191273.2419288653,
          182708.69722573765,
          161948.55688289367,
          184793.3493193679,
          192145.74411170796,
          193494.74522540992,
          195780.45131884445,
          194068.83155584446,
          185532.07730645285,
          164608.16803078016,
          187500.96525841692,
          195149.13400860204,
          196168.0272837891,
          195931.66457492101,
          194258.3484105239,
          185831.4388890727,
          165059.1956603589,
          188206.7236572782,
          195906.87180495876,
          197126.4286875729,
          197123.03364770554,
          195680.6284066974,
          187437.24483754023,
          166318.609177019,
          189427.98628747402,
          196577.18797970904,
          197948.06829500876,
          197819.06372655177,
          196309.74934780315,
          188434.135778765,
          167453.79812227483,
          190737.36735616508,
          198338.79230339112,
          199645.5890491169,
          199672.49106639434,
          198272.6233017864,
          190232.12573227825,
          165755.58814880296,
          189039.9324367195,
          196785.84285536705,
          198195.81954383277,
          198335.77350430202,
          196948.00436722755,
          189174.3233449458,
          167956.03020831506,
          191122.98372641378,
          198466.55960216516,
          200039.7782592634,
          199936.2230466731,
          198289.49979325567,
          188878.12340415837,
          164213.46065191552,
          174165.08363544755,
          191552.72032436208,
          198335.02992611754,
          198979.73524667227,
          197166.63949253465,
          188783.59829999294,
          166820.36228025748,
          189480.89753264186,
          196727.71743873504,
          197995.29867790005,
          197898.76631400737,
          196260.2336138663,
          187938.23049313863,
          166086.18014213673,
          188833.40047523417,
          195927.15870822227,
          197470.16373049337,
          197339.44839585994,
          196028.14956225373,
          187950.895988068,
          166376.20648235394,
          189040.570863609,
          195996.30687717462,
          197291.31316960228,
          197041.31946258803,
          195315.71835807626,
          186422.97365631704,
          165650.55950970843,
          188414.13412464483,
          195697.58259771005,
          196894.21595979136,
          196824.72957576765,
          195202.1924557047,
          186730.23138331543,
          165059.27356095388,
          186915.49265726274,
          193472.927984098,
          194856.86422264492,
          195014.46159278406,
          193907.42550887034,
          186064.272996233,
          165092.9115148376,
          187540.2720806445,
          194828.29531773637,
          196233.19739496429,
          196203.16063933124,
          193413.58465431363,
          185232.1062388964,
          164124.17704643073,
          185992.48852260542,
          193033.77480871652,
          193875.39112169127,
          193606.8493883356,
          191944.73507285252,
          183774.77731266926,
          162874.36506634395,
          184070.4384525768,
          190752.69340154712,
          191450.7347663638,
          190849.22142975157,
          189563.13672888346,
          179630.65154872532,
          154033.51719230818,
          159389.39489585758,
          179765.72335990614,
          189137.58450110196,
          192040.98813446282,
          190702.62055338183,
          182858.81321767665,
          162437.14078882185,
          183183.1388679111,
          190259.4093297996,
          190996.03637866923,
          190838.7348881533,
          189396.41567305182,
          181454.62655541502,
          163093.72868789485,
          183994.3512190128,
          191181.8844109222,
          192281.28701865696,
          192198.07305960593,
          190859.2259906991,
          182979.19653894095,
          163302.40445454232,
          184409.09298616103,
          189972.9174678741,
          185781.33029863212,
          176765.94688886884,
          185948.40092212506,
          180859.12463671438,
          162122.38164491812,
          182248.97232235927,
          188931.35034311927,
          189245.34098489943,
          188412.13050368425,
          186519.59011077246,
          178057.49583837666,
          158166.15900043832,
          172743.63816152464,
          161761.86563078695,
          126032.14530296561,
          160184.9546687233,
          175871.3842076149,
          172713.01772974685,
          151749.36773396778,
          163560.02214728427,
          154254.43218425591,
          132761.06266093024,
          162161.8941846687,
          178646.26475423577,
          177437.7299937272,
          160061.35585009106,
          180945.63164029596,
          189415.8565745363,
          192674.44442401137,
          195157.775545304,
          192866.27065299664,
          184408.8199564646,
          164506.3552417088,
          184463.57408798937,
          191685.1678185277,
          192721.75447077988,
          192578.84798414333,
          191095.040284698,
          183393.9616691486,
          163837.45594738226,
          184344.4159607462,
          191670.60200047187,
          193357.92146679456,
          193224.4708263754,
          191727.83094420773,
          183805.52222799518,
          163891.13711270926,
          184680.83752865123,
          192372.58599013393,
          193828.18622849658,
          193972.68163789468,
          192701.0729172077,
          180512.091205243,
          155927.09416470447,
          162693.8130973717,
          182713.17103186506,
          191986.17279589103,
          195151.64907610338,
          194290.30644355272,
          186443.8370077104,
          166895.63660866363,
          188652.0127728739,
          196649.68403854198,
          198942.21588810268,
          199707.04743577613,
          198735.4215083186,
          190127.24548367344,
          169176.2440526675,
          191064.86657374227,
          198497.61394545613,
          199738.92578998854,
          199499.1850690158,
          197911.61104351064,
          189049.64003531562,
          167984.58856142394,
          190495.24377913165,
          198492.88527391685,
          200201.67652245428,
          200438.86846980036,
          199281.28218053732,
          190670.9838339275,
          173758.0802786411,
          196749.9751355952,
          204607.9295723938,
          206758.5699837304,
          207067.01151896256,
          205949.92649643874,
          197379.99351204679,
          176019.05911236955,
          199067.3761239753,
          206860.29720224318,
          208664.31684401797,
          208698.02321028922,
          207190.81144853603,
          198284.85762455876,
          176280.98732638036,
          184423.51215558732,
          207737.39379790387,
          209594.14023900588,
          209679.5978673698,
          208143.18163354092,
          199263.0435178459,
          177638.46186070848,
          200670.06493199174,
          208191.97064629907,
          210102.04255144994,
          209951.69110736487,
          208118.98755724772,
          199125.22945166778,
          177215.58018392406,
          200192.1482056057
         ]
        }
       ],
       "layout": {
        "legend": {
         "bgcolor": "#F5F6F9",
         "font": {
          "color": "#4D5663"
         }
        },
        "paper_bgcolor": "#F5F6F9",
        "plot_bgcolor": "#F5F6F9",
        "template": {
         "data": {
          "bar": [
           {
            "error_x": {
             "color": "#2a3f5f"
            },
            "error_y": {
             "color": "#2a3f5f"
            },
            "marker": {
             "line": {
              "color": "#E5ECF6",
              "width": 0.5
             }
            },
            "type": "bar"
           }
          ],
          "barpolar": [
           {
            "marker": {
             "line": {
              "color": "#E5ECF6",
              "width": 0.5
             }
            },
            "type": "barpolar"
           }
          ],
          "carpet": [
           {
            "aaxis": {
             "endlinecolor": "#2a3f5f",
             "gridcolor": "white",
             "linecolor": "white",
             "minorgridcolor": "white",
             "startlinecolor": "#2a3f5f"
            },
            "baxis": {
             "endlinecolor": "#2a3f5f",
             "gridcolor": "white",
             "linecolor": "white",
             "minorgridcolor": "white",
             "startlinecolor": "#2a3f5f"
            },
            "type": "carpet"
           }
          ],
          "choropleth": [
           {
            "colorbar": {
             "outlinewidth": 0,
             "ticks": ""
            },
            "type": "choropleth"
           }
          ],
          "contour": [
           {
            "colorbar": {
             "outlinewidth": 0,
             "ticks": ""
            },
            "colorscale": [
             [
              0,
              "#0d0887"
             ],
             [
              0.1111111111111111,
              "#46039f"
             ],
             [
              0.2222222222222222,
              "#7201a8"
             ],
             [
              0.3333333333333333,
              "#9c179e"
             ],
             [
              0.4444444444444444,
              "#bd3786"
             ],
             [
              0.5555555555555556,
              "#d8576b"
             ],
             [
              0.6666666666666666,
              "#ed7953"
             ],
             [
              0.7777777777777778,
              "#fb9f3a"
             ],
             [
              0.8888888888888888,
              "#fdca26"
             ],
             [
              1,
              "#f0f921"
             ]
            ],
            "type": "contour"
           }
          ],
          "contourcarpet": [
           {
            "colorbar": {
             "outlinewidth": 0,
             "ticks": ""
            },
            "type": "contourcarpet"
           }
          ],
          "heatmap": [
           {
            "colorbar": {
             "outlinewidth": 0,
             "ticks": ""
            },
            "colorscale": [
             [
              0,
              "#0d0887"
             ],
             [
              0.1111111111111111,
              "#46039f"
             ],
             [
              0.2222222222222222,
              "#7201a8"
             ],
             [
              0.3333333333333333,
              "#9c179e"
             ],
             [
              0.4444444444444444,
              "#bd3786"
             ],
             [
              0.5555555555555556,
              "#d8576b"
             ],
             [
              0.6666666666666666,
              "#ed7953"
             ],
             [
              0.7777777777777778,
              "#fb9f3a"
             ],
             [
              0.8888888888888888,
              "#fdca26"
             ],
             [
              1,
              "#f0f921"
             ]
            ],
            "type": "heatmap"
           }
          ],
          "heatmapgl": [
           {
            "colorbar": {
             "outlinewidth": 0,
             "ticks": ""
            },
            "colorscale": [
             [
              0,
              "#0d0887"
             ],
             [
              0.1111111111111111,
              "#46039f"
             ],
             [
              0.2222222222222222,
              "#7201a8"
             ],
             [
              0.3333333333333333,
              "#9c179e"
             ],
             [
              0.4444444444444444,
              "#bd3786"
             ],
             [
              0.5555555555555556,
              "#d8576b"
             ],
             [
              0.6666666666666666,
              "#ed7953"
             ],
             [
              0.7777777777777778,
              "#fb9f3a"
             ],
             [
              0.8888888888888888,
              "#fdca26"
             ],
             [
              1,
              "#f0f921"
             ]
            ],
            "type": "heatmapgl"
           }
          ],
          "histogram": [
           {
            "marker": {
             "colorbar": {
              "outlinewidth": 0,
              "ticks": ""
             }
            },
            "type": "histogram"
           }
          ],
          "histogram2d": [
           {
            "colorbar": {
             "outlinewidth": 0,
             "ticks": ""
            },
            "colorscale": [
             [
              0,
              "#0d0887"
             ],
             [
              0.1111111111111111,
              "#46039f"
             ],
             [
              0.2222222222222222,
              "#7201a8"
             ],
             [
              0.3333333333333333,
              "#9c179e"
             ],
             [
              0.4444444444444444,
              "#bd3786"
             ],
             [
              0.5555555555555556,
              "#d8576b"
             ],
             [
              0.6666666666666666,
              "#ed7953"
             ],
             [
              0.7777777777777778,
              "#fb9f3a"
             ],
             [
              0.8888888888888888,
              "#fdca26"
             ],
             [
              1,
              "#f0f921"
             ]
            ],
            "type": "histogram2d"
           }
          ],
          "histogram2dcontour": [
           {
            "colorbar": {
             "outlinewidth": 0,
             "ticks": ""
            },
            "colorscale": [
             [
              0,
              "#0d0887"
             ],
             [
              0.1111111111111111,
              "#46039f"
             ],
             [
              0.2222222222222222,
              "#7201a8"
             ],
             [
              0.3333333333333333,
              "#9c179e"
             ],
             [
              0.4444444444444444,
              "#bd3786"
             ],
             [
              0.5555555555555556,
              "#d8576b"
             ],
             [
              0.6666666666666666,
              "#ed7953"
             ],
             [
              0.7777777777777778,
              "#fb9f3a"
             ],
             [
              0.8888888888888888,
              "#fdca26"
             ],
             [
              1,
              "#f0f921"
             ]
            ],
            "type": "histogram2dcontour"
           }
          ],
          "mesh3d": [
           {
            "colorbar": {
             "outlinewidth": 0,
             "ticks": ""
            },
            "type": "mesh3d"
           }
          ],
          "parcoords": [
           {
            "line": {
             "colorbar": {
              "outlinewidth": 0,
              "ticks": ""
             }
            },
            "type": "parcoords"
           }
          ],
          "scatter": [
           {
            "marker": {
             "colorbar": {
              "outlinewidth": 0,
              "ticks": ""
             }
            },
            "type": "scatter"
           }
          ],
          "scatter3d": [
           {
            "line": {
             "colorbar": {
              "outlinewidth": 0,
              "ticks": ""
             }
            },
            "marker": {
             "colorbar": {
              "outlinewidth": 0,
              "ticks": ""
             }
            },
            "type": "scatter3d"
           }
          ],
          "scattercarpet": [
           {
            "marker": {
             "colorbar": {
              "outlinewidth": 0,
              "ticks": ""
             }
            },
            "type": "scattercarpet"
           }
          ],
          "scattergeo": [
           {
            "marker": {
             "colorbar": {
              "outlinewidth": 0,
              "ticks": ""
             }
            },
            "type": "scattergeo"
           }
          ],
          "scattergl": [
           {
            "marker": {
             "colorbar": {
              "outlinewidth": 0,
              "ticks": ""
             }
            },
            "type": "scattergl"
           }
          ],
          "scattermapbox": [
           {
            "marker": {
             "colorbar": {
              "outlinewidth": 0,
              "ticks": ""
             }
            },
            "type": "scattermapbox"
           }
          ],
          "scatterpolar": [
           {
            "marker": {
             "colorbar": {
              "outlinewidth": 0,
              "ticks": ""
             }
            },
            "type": "scatterpolar"
           }
          ],
          "scatterpolargl": [
           {
            "marker": {
             "colorbar": {
              "outlinewidth": 0,
              "ticks": ""
             }
            },
            "type": "scatterpolargl"
           }
          ],
          "scatterternary": [
           {
            "marker": {
             "colorbar": {
              "outlinewidth": 0,
              "ticks": ""
             }
            },
            "type": "scatterternary"
           }
          ],
          "surface": [
           {
            "colorbar": {
             "outlinewidth": 0,
             "ticks": ""
            },
            "colorscale": [
             [
              0,
              "#0d0887"
             ],
             [
              0.1111111111111111,
              "#46039f"
             ],
             [
              0.2222222222222222,
              "#7201a8"
             ],
             [
              0.3333333333333333,
              "#9c179e"
             ],
             [
              0.4444444444444444,
              "#bd3786"
             ],
             [
              0.5555555555555556,
              "#d8576b"
             ],
             [
              0.6666666666666666,
              "#ed7953"
             ],
             [
              0.7777777777777778,
              "#fb9f3a"
             ],
             [
              0.8888888888888888,
              "#fdca26"
             ],
             [
              1,
              "#f0f921"
             ]
            ],
            "type": "surface"
           }
          ],
          "table": [
           {
            "cells": {
             "fill": {
              "color": "#EBF0F8"
             },
             "line": {
              "color": "white"
             }
            },
            "header": {
             "fill": {
              "color": "#C8D4E3"
             },
             "line": {
              "color": "white"
             }
            },
            "type": "table"
           }
          ]
         },
         "layout": {
          "annotationdefaults": {
           "arrowcolor": "#2a3f5f",
           "arrowhead": 0,
           "arrowwidth": 1
          },
          "colorscale": {
           "diverging": [
            [
             0,
             "#8e0152"
            ],
            [
             0.1,
             "#c51b7d"
            ],
            [
             0.2,
             "#de77ae"
            ],
            [
             0.3,
             "#f1b6da"
            ],
            [
             0.4,
             "#fde0ef"
            ],
            [
             0.5,
             "#f7f7f7"
            ],
            [
             0.6,
             "#e6f5d0"
            ],
            [
             0.7,
             "#b8e186"
            ],
            [
             0.8,
             "#7fbc41"
            ],
            [
             0.9,
             "#4d9221"
            ],
            [
             1,
             "#276419"
            ]
           ],
           "sequential": [
            [
             0,
             "#0d0887"
            ],
            [
             0.1111111111111111,
             "#46039f"
            ],
            [
             0.2222222222222222,
             "#7201a8"
            ],
            [
             0.3333333333333333,
             "#9c179e"
            ],
            [
             0.4444444444444444,
             "#bd3786"
            ],
            [
             0.5555555555555556,
             "#d8576b"
            ],
            [
             0.6666666666666666,
             "#ed7953"
            ],
            [
             0.7777777777777778,
             "#fb9f3a"
            ],
            [
             0.8888888888888888,
             "#fdca26"
            ],
            [
             1,
             "#f0f921"
            ]
           ],
           "sequentialminus": [
            [
             0,
             "#0d0887"
            ],
            [
             0.1111111111111111,
             "#46039f"
            ],
            [
             0.2222222222222222,
             "#7201a8"
            ],
            [
             0.3333333333333333,
             "#9c179e"
            ],
            [
             0.4444444444444444,
             "#bd3786"
            ],
            [
             0.5555555555555556,
             "#d8576b"
            ],
            [
             0.6666666666666666,
             "#ed7953"
            ],
            [
             0.7777777777777778,
             "#fb9f3a"
            ],
            [
             0.8888888888888888,
             "#fdca26"
            ],
            [
             1,
             "#f0f921"
            ]
           ]
          },
          "colorway": [
           "#636efa",
           "#EF553B",
           "#00cc96",
           "#ab63fa",
           "#FFA15A",
           "#19d3f3",
           "#FF6692",
           "#B6E880",
           "#FF97FF",
           "#FECB52"
          ],
          "font": {
           "color": "#2a3f5f"
          },
          "geo": {
           "bgcolor": "white",
           "lakecolor": "white",
           "landcolor": "#E5ECF6",
           "showlakes": true,
           "showland": true,
           "subunitcolor": "white"
          },
          "hoverlabel": {
           "align": "left"
          },
          "hovermode": "closest",
          "mapbox": {
           "style": "light"
          },
          "paper_bgcolor": "white",
          "plot_bgcolor": "#E5ECF6",
          "polar": {
           "angularaxis": {
            "gridcolor": "white",
            "linecolor": "white",
            "ticks": ""
           },
           "bgcolor": "#E5ECF6",
           "radialaxis": {
            "gridcolor": "white",
            "linecolor": "white",
            "ticks": ""
           }
          },
          "scene": {
           "xaxis": {
            "backgroundcolor": "#E5ECF6",
            "gridcolor": "white",
            "gridwidth": 2,
            "linecolor": "white",
            "showbackground": true,
            "ticks": "",
            "zerolinecolor": "white"
           },
           "yaxis": {
            "backgroundcolor": "#E5ECF6",
            "gridcolor": "white",
            "gridwidth": 2,
            "linecolor": "white",
            "showbackground": true,
            "ticks": "",
            "zerolinecolor": "white"
           },
           "zaxis": {
            "backgroundcolor": "#E5ECF6",
            "gridcolor": "white",
            "gridwidth": 2,
            "linecolor": "white",
            "showbackground": true,
            "ticks": "",
            "zerolinecolor": "white"
           }
          },
          "shapedefaults": {
           "line": {
            "color": "#2a3f5f"
           }
          },
          "ternary": {
           "aaxis": {
            "gridcolor": "white",
            "linecolor": "white",
            "ticks": ""
           },
           "baxis": {
            "gridcolor": "white",
            "linecolor": "white",
            "ticks": ""
           },
           "bgcolor": "#E5ECF6",
           "caxis": {
            "gridcolor": "white",
            "linecolor": "white",
            "ticks": ""
           }
          },
          "title": {
           "x": 0.05
          },
          "xaxis": {
           "automargin": true,
           "gridcolor": "white",
           "linecolor": "white",
           "ticks": "",
           "zerolinecolor": "white",
           "zerolinewidth": 2
          },
          "yaxis": {
           "automargin": true,
           "gridcolor": "white",
           "linecolor": "white",
           "ticks": "",
           "zerolinecolor": "white",
           "zerolinewidth": 2
          }
         }
        },
        "title": {
         "font": {
          "color": "#4D5663"
         },
         "text": "Modelo Lasso-ARIMA Mape: 2.610"
        },
        "xaxis": {
         "gridcolor": "#E1E5ED",
         "showgrid": true,
         "tickfont": {
          "color": "#4D5663"
         },
         "title": {
          "font": {
           "color": "#4D5663"
          },
          "text": "fecha"
         },
         "zerolinecolor": "#E1E5ED"
        },
        "yaxis": {
         "gridcolor": "#E1E5ED",
         "showgrid": true,
         "tickfont": {
          "color": "#4D5663"
         },
         "title": {
          "font": {
           "color": "#4D5663"
          },
          "text": "consumo"
         },
         "zerolinecolor": "#E1E5ED"
        }
       }
      },
      "text/html": [
       "<div>\n",
       "        \n",
       "        \n",
       "            <div id=\"1199c2ce-df00-43e8-99eb-63dfb9211a87\" class=\"plotly-graph-div\" style=\"height:525px; width:100%;\"></div>\n",
       "            <script type=\"text/javascript\">\n",
       "                require([\"plotly\"], function(Plotly) {\n",
       "                    window.PLOTLYENV=window.PLOTLYENV || {};\n",
       "                    window.PLOTLYENV.BASE_URL='https://plot.ly';\n",
       "                    \n",
       "                if (document.getElementById(\"1199c2ce-df00-43e8-99eb-63dfb9211a87\")) {\n",
       "                    Plotly.newPlot(\n",
       "                        '1199c2ce-df00-43e8-99eb-63dfb9211a87',\n",
       "                        [{\"line\": {\"color\": \"rgba(255, 153, 51, 1.0)\", \"dash\": \"solid\", \"shape\": \"linear\", \"width\": 1.3}, \"mode\": \"lines\", \"name\": \"real\", \"text\": \"\", \"type\": \"scatter\", \"x\": [\"2019-04-01\", \"2019-04-02\", \"2019-04-03\", \"2019-04-04\", \"2019-04-05\", \"2019-04-06\", \"2019-04-07\", \"2019-04-08\", \"2019-04-09\", \"2019-04-10\", \"2019-04-11\", \"2019-04-12\", \"2019-04-13\", \"2019-04-14\", \"2019-04-15\", \"2019-04-16\", \"2019-04-17\", \"2019-04-18\", \"2019-04-19\", \"2019-04-20\", \"2019-04-21\", \"2019-04-22\", \"2019-04-23\", \"2019-04-24\", \"2019-04-25\", \"2019-04-26\", \"2019-04-27\", \"2019-04-28\", \"2019-04-29\", \"2019-04-30\", \"2019-05-01\", \"2019-05-02\", \"2019-05-03\", \"2019-05-04\", \"2019-05-05\", \"2019-05-06\", \"2019-05-07\", \"2019-05-08\", \"2019-05-09\", \"2019-05-10\", \"2019-05-11\", \"2019-05-12\", \"2019-05-13\", \"2019-05-14\", \"2019-05-15\", \"2019-05-16\", \"2019-05-17\", \"2019-05-18\", \"2019-05-19\", \"2019-05-20\", \"2019-05-21\", \"2019-05-22\", \"2019-05-23\", \"2019-05-24\", \"2019-05-25\", \"2019-05-26\", \"2019-05-27\", \"2019-05-28\", \"2019-05-29\", \"2019-05-30\", \"2019-05-31\", \"2019-06-01\", \"2019-06-02\", \"2019-06-03\", \"2019-06-04\", \"2019-06-05\", \"2019-06-06\", \"2019-06-07\", \"2019-06-08\", \"2019-06-09\", \"2019-06-10\", \"2019-06-11\", \"2019-06-12\", \"2019-06-13\", \"2019-06-14\", \"2019-06-15\", \"2019-06-16\", \"2019-06-17\", \"2019-06-18\", \"2019-06-19\", \"2019-06-20\", \"2019-06-21\", \"2019-06-22\", \"2019-06-23\", \"2019-06-24\", \"2019-06-25\", \"2019-06-26\", \"2019-06-27\", \"2019-06-28\", \"2019-06-29\", \"2019-06-30\", \"2019-07-01\", \"2019-07-02\", \"2019-07-03\", \"2019-07-04\", \"2019-07-05\", \"2019-07-06\", \"2019-07-07\", \"2019-07-08\", \"2019-07-09\", \"2019-07-10\", \"2019-07-11\", \"2019-07-12\", \"2019-07-13\", \"2019-07-14\", \"2019-07-15\", \"2019-07-16\", \"2019-07-17\", \"2019-07-18\", \"2019-07-19\", \"2019-07-20\", \"2019-07-21\", \"2019-07-22\", \"2019-07-23\", \"2019-07-24\", \"2019-07-25\", \"2019-07-26\", \"2019-07-27\", \"2019-07-28\", \"2019-07-29\", \"2019-07-30\", \"2019-07-31\", \"2019-08-01\", \"2019-08-02\", \"2019-08-03\", \"2019-08-04\", \"2019-08-05\", \"2019-08-06\", \"2019-08-07\", \"2019-08-08\", \"2019-08-09\", \"2019-08-10\", \"2019-08-11\", \"2019-08-12\", \"2019-08-13\", \"2019-08-14\", \"2019-08-15\", \"2019-08-16\", \"2019-08-17\", \"2019-08-18\", \"2019-08-19\", \"2019-08-20\", \"2019-08-21\", \"2019-08-22\", \"2019-08-23\", \"2019-08-24\", \"2019-08-25\", \"2019-08-26\", \"2019-08-27\", \"2019-08-28\", \"2019-08-29\", \"2019-08-30\", \"2019-08-31\", \"2019-09-01\", \"2019-09-02\", \"2019-09-03\", \"2019-09-04\", \"2019-09-05\", \"2019-09-06\", \"2019-09-07\", \"2019-09-08\", \"2019-09-09\", \"2019-09-10\", \"2019-09-11\", \"2019-09-12\", \"2019-09-13\", \"2019-09-14\", \"2019-09-15\", \"2019-09-16\", \"2019-09-17\", \"2019-09-18\", \"2019-09-19\", \"2019-09-20\", \"2019-09-21\", \"2019-09-22\", \"2019-09-23\", \"2019-09-24\", \"2019-09-25\", \"2019-09-26\", \"2019-09-27\", \"2019-09-28\", \"2019-09-29\", \"2019-09-30\", \"2019-10-01\", \"2019-10-02\", \"2019-10-03\", \"2019-10-04\", \"2019-10-05\", \"2019-10-06\", \"2019-10-07\", \"2019-10-08\", \"2019-10-09\", \"2019-10-10\", \"2019-10-11\", \"2019-10-12\", \"2019-10-13\", \"2019-10-14\", \"2019-10-15\", \"2019-10-16\", \"2019-10-17\", \"2019-10-18\", \"2019-10-19\", \"2019-10-20\", \"2019-10-21\", \"2019-10-22\", \"2019-10-23\", \"2019-10-24\", \"2019-10-25\", \"2019-10-26\", \"2019-10-27\", \"2019-10-28\", \"2019-10-29\", \"2019-10-30\", \"2019-10-31\", \"2019-11-01\", \"2019-11-02\", \"2019-11-03\", \"2019-11-04\", \"2019-11-05\", \"2019-11-06\", \"2019-11-07\", \"2019-11-08\", \"2019-11-09\", \"2019-11-10\", \"2019-11-11\", \"2019-11-12\", \"2019-11-13\", \"2019-11-14\", \"2019-11-15\", \"2019-11-16\", \"2019-11-17\", \"2019-11-18\", \"2019-11-19\", \"2019-11-20\", \"2019-11-21\", \"2019-11-22\", \"2019-11-23\", \"2019-11-24\", \"2019-11-25\", \"2019-11-26\", \"2019-11-27\", \"2019-11-28\", \"2019-11-29\", \"2019-11-30\", \"2019-12-01\", \"2019-12-02\", \"2019-12-03\", \"2019-12-04\", \"2019-12-05\", \"2019-12-06\", \"2019-12-07\", \"2019-12-08\", \"2019-12-09\", \"2019-12-10\", \"2019-12-11\", \"2019-12-12\", \"2019-12-13\", \"2019-12-14\", \"2019-12-15\", \"2019-12-16\", \"2019-12-17\", \"2019-12-18\", \"2019-12-19\", \"2019-12-20\", \"2019-12-21\", \"2019-12-22\", \"2019-12-23\", \"2019-12-24\", \"2019-12-25\", \"2019-12-26\", \"2019-12-27\", \"2019-12-28\", \"2019-12-29\", \"2019-12-30\", \"2019-12-31\", \"2020-01-01\", \"2020-01-02\", \"2020-01-03\", \"2020-01-04\", \"2020-01-05\", \"2020-01-06\", \"2020-01-07\", \"2020-01-08\", \"2020-01-09\", \"2020-01-10\", \"2020-01-11\", \"2020-01-12\", \"2020-01-13\", \"2020-01-14\", \"2020-01-15\", \"2020-01-16\", \"2020-01-17\", \"2020-01-18\", \"2020-01-19\", \"2020-01-20\", \"2020-01-21\", \"2020-01-22\", \"2020-01-23\", \"2020-01-24\", \"2020-01-25\", \"2020-01-26\", \"2020-01-27\", \"2020-01-28\", \"2020-01-29\", \"2020-01-30\", \"2020-01-31\", \"2020-02-01\", \"2020-02-02\", \"2020-02-03\", \"2020-02-04\", \"2020-02-05\", \"2020-02-06\", \"2020-02-07\", \"2020-02-08\", \"2020-02-09\", \"2020-02-10\", \"2020-02-11\", \"2020-02-12\", \"2020-02-13\", \"2020-02-14\", \"2020-02-15\", \"2020-02-16\", \"2020-02-17\", \"2020-02-18\", \"2020-02-19\", \"2020-02-20\", \"2020-02-21\", \"2020-02-22\", \"2020-02-23\", \"2020-02-24\", \"2020-02-25\", \"2020-02-26\", \"2020-02-27\", \"2020-02-28\", \"2020-02-29\", \"2020-03-01\", \"2020-03-02\", \"2020-03-03\", \"2020-03-04\", \"2020-03-05\", \"2020-03-06\", \"2020-03-07\", \"2020-03-08\", \"2020-03-09\", \"2020-03-10\", \"2020-03-11\", \"2020-03-12\", \"2020-03-13\", \"2020-03-14\", \"2020-03-15\", \"2020-03-16\", \"2020-03-17\", \"2020-03-18\", \"2020-03-19\", \"2020-03-20\", \"2020-03-21\", \"2020-03-22\", \"2020-03-23\", \"2020-03-24\", \"2020-03-25\", \"2020-03-26\", \"2020-03-27\", \"2020-03-28\", \"2020-03-29\", \"2020-03-30\"], \"y\": [196904.228, 207122.4405, 209673.883, 209630.608, 211877.7711357422, 199579.798, 164382.75672412172, 198098.91, 206602.96572962598, 208861.0498082413, 209024.609, 206789.222, 193673.112, 169069.223, 193010.0, 200917.15777472832, 202274.278, 183225.159, 153917.929, 160248.371, 160343.94, 198123.603, 211378.832, 210246.035, 209295.313, 209775.398, 199141.387, 175661.977, 203507.566, 208979.3018291059, 186503.626, 203723.777, 210553.967, 199380.424, 176362.695, 202461.592, 210949.84, 211644.159, 210037.206, 201229.201, 197201.055, 175505.845, 204508.96828426616, 212116.69955164206, 217260.67556218783, 216793.73291693113, 217725.277, 205663.784, 181471.309, 209524.979, 217588.154, 218979.919, 219686.0, 219078.0, 209627.982, 183584.0425017895, 211223.095, 217109.0, 219521.027, 219614.065, 216893.743, 202679.913, 178435.842, 203386.629, 212216.49, 205231.885, 205121.9593386317, 207174.452, 196992.125, 173742.691, 202115.272, 213172.384, 214206.228, 210219.923, 210647.25, 201523.644, 173220.341, 202818.984, 213100.805, 211586.981, 212255.22249000001, 211196.276, 199010.263, 174216.801, 201163.077, 208199.545, 208392.528, 201950.252, 203798.639, 194927.398, 169873.006, 193055.643, 204108.459, 202544.88, 203946.333, 201122.122, 192091.125, 169635.476, 196427.65843207831, 206337.9759943712, 211699.241, 209984.745, 208242.32, 192568.957, 165796.829, 190345.883, 197304.89262820993, 199931.004, 201280.607, 198712.895, 184998.215, 160963.419, 186454.933, 195796.589, 197287.062, 195025.742, 194694.8, 184374.574, 162627.706, 190961.858, 199457.618, 202452.177, 203162.521, 202889.594, 196053.95979999998, 172637.027, 199254.661, 206007.418, 203394.847, 201745.792, 200406.64, 191741.784, 167069.288, 194524.297, 205047.168, 208453.668, 207533.345, 206737.021, 196792.662, 172401.209, 201514.617, 208755.806, 211702.788, 210033.265, 201585.253, 187646.883, 164951.972, 188368.346, 194208.01359781428, 198116.41, 197749.753, 198522.107, 187984.448, 163619.952, 193289.27, 199188.888, 204328.085, 202078.586, 199325.628, 187721.683, 163947.116, 190909.494, 198840.569, 198612.584, 201182.795, 199985.169, 187706.973, 158599.506, 151766.345, 190357.229, 199330.987, 197681.325, 195693.814, 185969.621, 164464.339, 191005.0, 198628.0, 200546.0, 199862.0, 197636.0, 187436.0, 162312.0, 180928.0, 187697.0, 189882.0, 190440.0, 190613.0, 180690.0, 159532.0, 186287.0, 193666.0, 197044.0, 199651.0, 198878.0, 184454.0, 161012.0, 189008.0, 199283.0, 199886.0, 197439.0, 194628.0, 182012.0, 157451.0, 179750.0, 187454.0, 187039.0, 189448.0, 188045.0, 175670.0, 159302.0, 178933.0, 189269.0, 192074.0, 189060.0, 187523.0, 173539.0, 155669.0, 185071.0, 194240.0, 197386.0, 199822.0, 198145.0, 185040.0, 163064.0, 189833.0, 198013.0, 193707.0, 191211.0, 190685.0, 179913.0, 155538.0, 155473.0, 182764.0, 194381.0, 199227.0, 196224.0, 185421.0, 161952.0, 187654.0, 196899.0, 199330.0, 199195.0, 197505.0, 183926.0, 162640.0, 188061.0, 197610.0, 198861.0, 198273.0, 197910.0, 183631.0, 162086.0, 189322.0, 199796.0, 197256.0, 172912.0, 184812.0, 180866.0, 162353.0, 188477.0, 197525.0, 195950.0, 196053.0, 193610.0, 178419.0, 158125.0, 167160.0, 153466.0, 128624.0, 159127.0, 169847.0, 167376.0, 152744.0, 161393.0, 153785.0, 129479.0, 160216.0, 176153.0, 170064.0, 154375.0, 179303.0, 190582.0, 193961.0, 195431.0, 193819.0, 182426.0, 159732.0, 187431.0, 196814.0, 199947.0, 199867.0, 198781.0, 187145.0, 164080.0, 187257.0, 194655.0, 196498.0, 197180.599, 194469.072, 182328.698, 158767.24745535228, 184964.0, 194913.0, 195876.0, 195641.0, 194707.0, 182479.0, 157497.0, 157350.724, 180261.8694747058, 190598.32145057345, 187284.165, 188032.952, 180791.29936200002, 156802.632, 185664.461, 196090.494, 198069.94, 196326.3004968575, 198104.11, 197219.405, 165175.5991363423, 193444.758, 205066.911, 207864.01059883178, 208532.257, 206646.291, 195404.65734338292, 170638.966, 194946.982, 207646.143, 206187.856, 203216.015, 203384.3655258246, 193804.37302020256, 168483.515, 195732.045, 206334.203, 208013.69892374228, 209467.73, 204347.097, 195523.827, 168597.855, 194525.969, 206944.76298956136, 209419.85150708232, 212493.446, 211848.227, 198746.1259198897, 172471.601743114, 172167.1345528299, 196979.657, 209386.045, 207798.931, 205937.07269599594, 197432.10889048717, 171967.55659909293, 197526.498129075, 206724.15, 207132.60167331056, 205825.95295446686, 202961.53843346087, 192610.26960474052, 168345.521, 191108.613]}, {\"line\": {\"color\": \"rgba(55, 128, 191, 1.0)\", \"dash\": \"solid\", \"shape\": \"linear\", \"width\": 1.3}, \"mode\": \"lines\", \"name\": \"predicci\\u00f3n\", \"text\": \"\", \"type\": \"scatter\", \"x\": [\"2019-04-01\", \"2019-04-02\", \"2019-04-03\", \"2019-04-04\", \"2019-04-05\", \"2019-04-06\", \"2019-04-07\", \"2019-04-08\", \"2019-04-09\", \"2019-04-10\", \"2019-04-11\", \"2019-04-12\", \"2019-04-13\", \"2019-04-14\", \"2019-04-15\", \"2019-04-16\", \"2019-04-17\", \"2019-04-18\", \"2019-04-19\", \"2019-04-20\", \"2019-04-21\", \"2019-04-22\", \"2019-04-23\", \"2019-04-24\", \"2019-04-25\", \"2019-04-26\", \"2019-04-27\", \"2019-04-28\", \"2019-04-29\", \"2019-04-30\", \"2019-05-01\", \"2019-05-02\", \"2019-05-03\", \"2019-05-04\", \"2019-05-05\", \"2019-05-06\", \"2019-05-07\", \"2019-05-08\", \"2019-05-09\", \"2019-05-10\", \"2019-05-11\", \"2019-05-12\", \"2019-05-13\", \"2019-05-14\", \"2019-05-15\", \"2019-05-16\", \"2019-05-17\", \"2019-05-18\", \"2019-05-19\", \"2019-05-20\", \"2019-05-21\", \"2019-05-22\", \"2019-05-23\", \"2019-05-24\", \"2019-05-25\", \"2019-05-26\", \"2019-05-27\", \"2019-05-28\", \"2019-05-29\", \"2019-05-30\", \"2019-05-31\", \"2019-06-01\", \"2019-06-02\", \"2019-06-03\", \"2019-06-04\", \"2019-06-05\", \"2019-06-06\", \"2019-06-07\", \"2019-06-08\", \"2019-06-09\", \"2019-06-10\", \"2019-06-11\", \"2019-06-12\", \"2019-06-13\", \"2019-06-14\", \"2019-06-15\", \"2019-06-16\", \"2019-06-17\", \"2019-06-18\", \"2019-06-19\", \"2019-06-20\", \"2019-06-21\", \"2019-06-22\", \"2019-06-23\", \"2019-06-24\", \"2019-06-25\", \"2019-06-26\", \"2019-06-27\", \"2019-06-28\", \"2019-06-29\", \"2019-06-30\", \"2019-07-01\", \"2019-07-02\", \"2019-07-03\", \"2019-07-04\", \"2019-07-05\", \"2019-07-06\", \"2019-07-07\", \"2019-07-08\", \"2019-07-09\", \"2019-07-10\", \"2019-07-11\", \"2019-07-12\", \"2019-07-13\", \"2019-07-14\", \"2019-07-15\", \"2019-07-16\", \"2019-07-17\", \"2019-07-18\", \"2019-07-19\", \"2019-07-20\", \"2019-07-21\", \"2019-07-22\", \"2019-07-23\", \"2019-07-24\", \"2019-07-25\", \"2019-07-26\", \"2019-07-27\", \"2019-07-28\", \"2019-07-29\", \"2019-07-30\", \"2019-07-31\", \"2019-08-01\", \"2019-08-02\", \"2019-08-03\", \"2019-08-04\", \"2019-08-05\", \"2019-08-06\", \"2019-08-07\", \"2019-08-08\", \"2019-08-09\", \"2019-08-10\", \"2019-08-11\", \"2019-08-12\", \"2019-08-13\", \"2019-08-14\", \"2019-08-15\", \"2019-08-16\", \"2019-08-17\", \"2019-08-18\", \"2019-08-19\", \"2019-08-20\", \"2019-08-21\", \"2019-08-22\", \"2019-08-23\", \"2019-08-24\", \"2019-08-25\", \"2019-08-26\", \"2019-08-27\", \"2019-08-28\", \"2019-08-29\", \"2019-08-30\", \"2019-08-31\", \"2019-09-01\", \"2019-09-02\", \"2019-09-03\", \"2019-09-04\", \"2019-09-05\", \"2019-09-06\", \"2019-09-07\", \"2019-09-08\", \"2019-09-09\", \"2019-09-10\", \"2019-09-11\", \"2019-09-12\", \"2019-09-13\", \"2019-09-14\", \"2019-09-15\", \"2019-09-16\", \"2019-09-17\", \"2019-09-18\", \"2019-09-19\", \"2019-09-20\", \"2019-09-21\", \"2019-09-22\", \"2019-09-23\", \"2019-09-24\", \"2019-09-25\", \"2019-09-26\", \"2019-09-27\", \"2019-09-28\", \"2019-09-29\", \"2019-09-30\", \"2019-10-01\", \"2019-10-02\", \"2019-10-03\", \"2019-10-04\", \"2019-10-05\", \"2019-10-06\", \"2019-10-07\", \"2019-10-08\", \"2019-10-09\", \"2019-10-10\", \"2019-10-11\", \"2019-10-12\", \"2019-10-13\", \"2019-10-14\", \"2019-10-15\", \"2019-10-16\", \"2019-10-17\", \"2019-10-18\", \"2019-10-19\", \"2019-10-20\", \"2019-10-21\", \"2019-10-22\", \"2019-10-23\", \"2019-10-24\", \"2019-10-25\", \"2019-10-26\", \"2019-10-27\", \"2019-10-28\", \"2019-10-29\", \"2019-10-30\", \"2019-10-31\", \"2019-11-01\", \"2019-11-02\", \"2019-11-03\", \"2019-11-04\", \"2019-11-05\", \"2019-11-06\", \"2019-11-07\", \"2019-11-08\", \"2019-11-09\", \"2019-11-10\", \"2019-11-11\", \"2019-11-12\", \"2019-11-13\", \"2019-11-14\", \"2019-11-15\", \"2019-11-16\", \"2019-11-17\", \"2019-11-18\", \"2019-11-19\", \"2019-11-20\", \"2019-11-21\", \"2019-11-22\", \"2019-11-23\", \"2019-11-24\", \"2019-11-25\", \"2019-11-26\", \"2019-11-27\", \"2019-11-28\", \"2019-11-29\", \"2019-11-30\", \"2019-12-01\", \"2019-12-02\", \"2019-12-03\", \"2019-12-04\", \"2019-12-05\", \"2019-12-06\", \"2019-12-07\", \"2019-12-08\", \"2019-12-09\", \"2019-12-10\", \"2019-12-11\", \"2019-12-12\", \"2019-12-13\", \"2019-12-14\", \"2019-12-15\", \"2019-12-16\", \"2019-12-17\", \"2019-12-18\", \"2019-12-19\", \"2019-12-20\", \"2019-12-21\", \"2019-12-22\", \"2019-12-23\", \"2019-12-24\", \"2019-12-25\", \"2019-12-26\", \"2019-12-27\", \"2019-12-28\", \"2019-12-29\", \"2019-12-30\", \"2019-12-31\", \"2020-01-01\", \"2020-01-02\", \"2020-01-03\", \"2020-01-04\", \"2020-01-05\", \"2020-01-06\", \"2020-01-07\", \"2020-01-08\", \"2020-01-09\", \"2020-01-10\", \"2020-01-11\", \"2020-01-12\", \"2020-01-13\", \"2020-01-14\", \"2020-01-15\", \"2020-01-16\", \"2020-01-17\", \"2020-01-18\", \"2020-01-19\", \"2020-01-20\", \"2020-01-21\", \"2020-01-22\", \"2020-01-23\", \"2020-01-24\", \"2020-01-25\", \"2020-01-26\", \"2020-01-27\", \"2020-01-28\", \"2020-01-29\", \"2020-01-30\", \"2020-01-31\", \"2020-02-01\", \"2020-02-02\", \"2020-02-03\", \"2020-02-04\", \"2020-02-05\", \"2020-02-06\", \"2020-02-07\", \"2020-02-08\", \"2020-02-09\", \"2020-02-10\", \"2020-02-11\", \"2020-02-12\", \"2020-02-13\", \"2020-02-14\", \"2020-02-15\", \"2020-02-16\", \"2020-02-17\", \"2020-02-18\", \"2020-02-19\", \"2020-02-20\", \"2020-02-21\", \"2020-02-22\", \"2020-02-23\", \"2020-02-24\", \"2020-02-25\", \"2020-02-26\", \"2020-02-27\", \"2020-02-28\", \"2020-02-29\", \"2020-03-01\", \"2020-03-02\", \"2020-03-03\", \"2020-03-04\", \"2020-03-05\", \"2020-03-06\", \"2020-03-07\", \"2020-03-08\", \"2020-03-09\", \"2020-03-10\", \"2020-03-11\", \"2020-03-12\", \"2020-03-13\", \"2020-03-14\", \"2020-03-15\", \"2020-03-16\", \"2020-03-17\", \"2020-03-18\", \"2020-03-19\", \"2020-03-20\", \"2020-03-21\", \"2020-03-22\", \"2020-03-23\", \"2020-03-24\", \"2020-03-25\", \"2020-03-26\", \"2020-03-27\", \"2020-03-28\", \"2020-03-29\", \"2020-03-30\"], \"y\": [191342.48389271283, 199601.45121060754, 201480.71511022767, 201680.97091898706, 200490.77507061773, 192005.60565451402, 171386.39050349224, 194551.6701657565, 202115.56081507093, 203882.46769102948, 203824.16226113186, 202405.94041322466, 193786.91526436651, 172971.6891231777, 196573.76278087715, 200197.0547804598, 198019.46856177814, 182053.23724876528, 162170.8473088397, 168290.13540889352, 165342.3725126692, 196868.96936614337, 207440.95663538156, 209583.14600569548, 209824.15751731867, 208376.66216086684, 199870.16574791636, 178788.16768774463, 203270.28087374434, 211505.23111088036, 191924.73486786085, 212982.957072178, 211159.86492134823, 202576.63267608965, 181297.12616920428, 205841.99153517073, 214152.58671195188, 215542.42988117866, 214437.42482780898, 211110.62432004703, 204380.72051337434, 183625.57857801393, 208356.3603931901, 216834.42621998672, 218515.6518244351, 218817.04608122786, 217563.1434646192, 209009.84592130955, 187854.22675221195, 212766.03453348676, 220894.1243644096, 222280.08382063318, 221789.59336441918, 219385.57687873993, 209606.9193122622, 187517.18196502366, 212151.1392967501, 219910.70180831073, 220861.7976065861, 219897.73395515184, 217062.59402756742, 209364.30693597763, 186985.2018015061, 211014.88895546042, 218589.43733032176, 218976.97156167953, 217881.2017542735, 214973.54720743265, 204826.88199295354, 182689.00417411403, 206185.56432122522, 213357.57390838087, 213590.38710375567, 212039.28691573686, 208745.14907784588, 198353.62289311868, 176184.89275677875, 198821.47752461972, 205471.94703988972, 205542.70499732823, 203796.98315561243, 200343.84880954176, 190053.24155193614, 168240.9354143825, 189759.31604610634, 196340.65290068346, 196454.10814917414, 195178.8974731745, 192371.24315281378, 182930.79800261484, 162107.16688342774, 180795.38498949376, 188413.4945233072, 189876.2414563212, 189845.8179098788, 188089.1502692655, 179796.64696395857, 159814.650081571, 182473.51509887454, 190395.36377898345, 192059.95554754097, 192000.75374764437, 190210.61291447034, 181894.4516403991, 161701.7668095562, 184529.70677567492, 192185.5933817836, 192987.0659978425, 192440.5283959152, 190395.67817928767, 181864.1951654703, 161401.29810434897, 184359.0281494346, 192223.32424911766, 193338.47450652157, 193070.51259072908, 191273.2419288653, 182708.69722573765, 161948.55688289367, 184793.3493193679, 192145.74411170796, 193494.74522540992, 195780.45131884445, 194068.83155584446, 185532.07730645285, 164608.16803078016, 187500.96525841692, 195149.13400860204, 196168.0272837891, 195931.66457492101, 194258.3484105239, 185831.4388890727, 165059.1956603589, 188206.7236572782, 195906.87180495876, 197126.4286875729, 197123.03364770554, 195680.6284066974, 187437.24483754023, 166318.609177019, 189427.98628747402, 196577.18797970904, 197948.06829500876, 197819.06372655177, 196309.74934780315, 188434.135778765, 167453.79812227483, 190737.36735616508, 198338.79230339112, 199645.5890491169, 199672.49106639434, 198272.6233017864, 190232.12573227825, 165755.58814880296, 189039.9324367195, 196785.84285536705, 198195.81954383277, 198335.77350430202, 196948.00436722755, 189174.3233449458, 167956.03020831506, 191122.98372641378, 198466.55960216516, 200039.7782592634, 199936.2230466731, 198289.49979325567, 188878.12340415837, 164213.46065191552, 174165.08363544755, 191552.72032436208, 198335.02992611754, 198979.73524667227, 197166.63949253465, 188783.59829999294, 166820.36228025748, 189480.89753264186, 196727.71743873504, 197995.29867790005, 197898.76631400737, 196260.2336138663, 187938.23049313863, 166086.18014213673, 188833.40047523417, 195927.15870822227, 197470.16373049337, 197339.44839585994, 196028.14956225373, 187950.895988068, 166376.20648235394, 189040.570863609, 195996.30687717462, 197291.31316960228, 197041.31946258803, 195315.71835807626, 186422.97365631704, 165650.55950970843, 188414.13412464483, 195697.58259771005, 196894.21595979136, 196824.72957576765, 195202.1924557047, 186730.23138331543, 165059.27356095388, 186915.49265726274, 193472.927984098, 194856.86422264492, 195014.46159278406, 193907.42550887034, 186064.272996233, 165092.9115148376, 187540.2720806445, 194828.29531773637, 196233.19739496429, 196203.16063933124, 193413.58465431363, 185232.1062388964, 164124.17704643073, 185992.48852260542, 193033.77480871652, 193875.39112169127, 193606.8493883356, 191944.73507285252, 183774.77731266926, 162874.36506634395, 184070.4384525768, 190752.69340154712, 191450.7347663638, 190849.22142975157, 189563.13672888346, 179630.65154872532, 154033.51719230818, 159389.39489585758, 179765.72335990614, 189137.58450110196, 192040.98813446282, 190702.62055338183, 182858.81321767665, 162437.14078882185, 183183.1388679111, 190259.4093297996, 190996.03637866923, 190838.7348881533, 189396.41567305182, 181454.62655541502, 163093.72868789485, 183994.3512190128, 191181.8844109222, 192281.28701865696, 192198.07305960593, 190859.2259906991, 182979.19653894095, 163302.40445454232, 184409.09298616103, 189972.9174678741, 185781.33029863212, 176765.94688886884, 185948.40092212506, 180859.12463671438, 162122.38164491812, 182248.97232235927, 188931.35034311927, 189245.34098489943, 188412.13050368425, 186519.59011077246, 178057.49583837666, 158166.15900043832, 172743.63816152464, 161761.86563078695, 126032.14530296561, 160184.9546687233, 175871.3842076149, 172713.01772974685, 151749.36773396778, 163560.02214728427, 154254.43218425591, 132761.06266093024, 162161.8941846687, 178646.26475423577, 177437.7299937272, 160061.35585009106, 180945.63164029596, 189415.8565745363, 192674.44442401137, 195157.775545304, 192866.27065299664, 184408.8199564646, 164506.3552417088, 184463.57408798937, 191685.1678185277, 192721.75447077988, 192578.84798414333, 191095.040284698, 183393.9616691486, 163837.45594738226, 184344.4159607462, 191670.60200047187, 193357.92146679456, 193224.4708263754, 191727.83094420773, 183805.52222799518, 163891.13711270926, 184680.83752865123, 192372.58599013393, 193828.18622849658, 193972.68163789468, 192701.0729172077, 180512.091205243, 155927.09416470447, 162693.8130973717, 182713.17103186506, 191986.17279589103, 195151.64907610338, 194290.30644355272, 186443.8370077104, 166895.63660866363, 188652.0127728739, 196649.68403854198, 198942.21588810268, 199707.04743577613, 198735.4215083186, 190127.24548367344, 169176.2440526675, 191064.86657374227, 198497.61394545613, 199738.92578998854, 199499.1850690158, 197911.61104351064, 189049.64003531562, 167984.58856142394, 190495.24377913165, 198492.88527391685, 200201.67652245428, 200438.86846980036, 199281.28218053732, 190670.9838339275, 173758.0802786411, 196749.9751355952, 204607.9295723938, 206758.5699837304, 207067.01151896256, 205949.92649643874, 197379.99351204679, 176019.05911236955, 199067.3761239753, 206860.29720224318, 208664.31684401797, 208698.02321028922, 207190.81144853603, 198284.85762455876, 176280.98732638036, 184423.51215558732, 207737.39379790387, 209594.14023900588, 209679.5978673698, 208143.18163354092, 199263.0435178459, 177638.46186070848, 200670.06493199174, 208191.97064629907, 210102.04255144994, 209951.69110736487, 208118.98755724772, 199125.22945166778, 177215.58018392406, 200192.1482056057]}],\n",
       "                        {\"legend\": {\"bgcolor\": \"#F5F6F9\", \"font\": {\"color\": \"#4D5663\"}}, \"paper_bgcolor\": \"#F5F6F9\", \"plot_bgcolor\": \"#F5F6F9\", \"template\": {\"data\": {\"bar\": [{\"error_x\": {\"color\": \"#2a3f5f\"}, \"error_y\": {\"color\": \"#2a3f5f\"}, \"marker\": {\"line\": {\"color\": \"#E5ECF6\", \"width\": 0.5}}, \"type\": \"bar\"}], \"barpolar\": [{\"marker\": {\"line\": {\"color\": \"#E5ECF6\", \"width\": 0.5}}, \"type\": \"barpolar\"}], \"carpet\": [{\"aaxis\": {\"endlinecolor\": \"#2a3f5f\", \"gridcolor\": \"white\", \"linecolor\": \"white\", \"minorgridcolor\": \"white\", \"startlinecolor\": \"#2a3f5f\"}, \"baxis\": {\"endlinecolor\": \"#2a3f5f\", \"gridcolor\": \"white\", \"linecolor\": \"white\", \"minorgridcolor\": \"white\", \"startlinecolor\": \"#2a3f5f\"}, \"type\": \"carpet\"}], \"choropleth\": [{\"colorbar\": {\"outlinewidth\": 0, \"ticks\": \"\"}, \"type\": \"choropleth\"}], \"contour\": [{\"colorbar\": {\"outlinewidth\": 0, \"ticks\": \"\"}, \"colorscale\": [[0.0, \"#0d0887\"], [0.1111111111111111, \"#46039f\"], [0.2222222222222222, \"#7201a8\"], [0.3333333333333333, \"#9c179e\"], [0.4444444444444444, \"#bd3786\"], [0.5555555555555556, \"#d8576b\"], [0.6666666666666666, \"#ed7953\"], [0.7777777777777778, \"#fb9f3a\"], [0.8888888888888888, \"#fdca26\"], [1.0, \"#f0f921\"]], \"type\": \"contour\"}], \"contourcarpet\": [{\"colorbar\": {\"outlinewidth\": 0, \"ticks\": \"\"}, \"type\": \"contourcarpet\"}], \"heatmap\": [{\"colorbar\": {\"outlinewidth\": 0, \"ticks\": \"\"}, \"colorscale\": [[0.0, \"#0d0887\"], [0.1111111111111111, \"#46039f\"], [0.2222222222222222, \"#7201a8\"], [0.3333333333333333, \"#9c179e\"], [0.4444444444444444, \"#bd3786\"], [0.5555555555555556, \"#d8576b\"], [0.6666666666666666, \"#ed7953\"], [0.7777777777777778, \"#fb9f3a\"], [0.8888888888888888, \"#fdca26\"], [1.0, \"#f0f921\"]], \"type\": \"heatmap\"}], \"heatmapgl\": [{\"colorbar\": {\"outlinewidth\": 0, \"ticks\": \"\"}, \"colorscale\": [[0.0, \"#0d0887\"], [0.1111111111111111, \"#46039f\"], [0.2222222222222222, \"#7201a8\"], [0.3333333333333333, \"#9c179e\"], [0.4444444444444444, \"#bd3786\"], [0.5555555555555556, \"#d8576b\"], [0.6666666666666666, \"#ed7953\"], [0.7777777777777778, \"#fb9f3a\"], [0.8888888888888888, \"#fdca26\"], [1.0, \"#f0f921\"]], \"type\": \"heatmapgl\"}], \"histogram\": [{\"marker\": {\"colorbar\": {\"outlinewidth\": 0, \"ticks\": \"\"}}, \"type\": \"histogram\"}], \"histogram2d\": [{\"colorbar\": {\"outlinewidth\": 0, \"ticks\": \"\"}, \"colorscale\": [[0.0, \"#0d0887\"], [0.1111111111111111, \"#46039f\"], [0.2222222222222222, \"#7201a8\"], [0.3333333333333333, \"#9c179e\"], [0.4444444444444444, \"#bd3786\"], [0.5555555555555556, \"#d8576b\"], [0.6666666666666666, \"#ed7953\"], [0.7777777777777778, \"#fb9f3a\"], [0.8888888888888888, \"#fdca26\"], [1.0, \"#f0f921\"]], \"type\": \"histogram2d\"}], \"histogram2dcontour\": [{\"colorbar\": {\"outlinewidth\": 0, \"ticks\": \"\"}, \"colorscale\": [[0.0, \"#0d0887\"], [0.1111111111111111, \"#46039f\"], [0.2222222222222222, \"#7201a8\"], [0.3333333333333333, \"#9c179e\"], [0.4444444444444444, \"#bd3786\"], [0.5555555555555556, \"#d8576b\"], [0.6666666666666666, \"#ed7953\"], [0.7777777777777778, \"#fb9f3a\"], [0.8888888888888888, \"#fdca26\"], [1.0, \"#f0f921\"]], \"type\": \"histogram2dcontour\"}], \"mesh3d\": [{\"colorbar\": {\"outlinewidth\": 0, \"ticks\": \"\"}, \"type\": \"mesh3d\"}], \"parcoords\": [{\"line\": {\"colorbar\": {\"outlinewidth\": 0, \"ticks\": \"\"}}, \"type\": \"parcoords\"}], \"scatter\": [{\"marker\": {\"colorbar\": {\"outlinewidth\": 0, \"ticks\": \"\"}}, \"type\": \"scatter\"}], \"scatter3d\": [{\"line\": {\"colorbar\": {\"outlinewidth\": 0, \"ticks\": \"\"}}, \"marker\": {\"colorbar\": {\"outlinewidth\": 0, \"ticks\": \"\"}}, \"type\": \"scatter3d\"}], \"scattercarpet\": [{\"marker\": {\"colorbar\": {\"outlinewidth\": 0, \"ticks\": \"\"}}, \"type\": \"scattercarpet\"}], \"scattergeo\": [{\"marker\": {\"colorbar\": {\"outlinewidth\": 0, \"ticks\": \"\"}}, \"type\": \"scattergeo\"}], \"scattergl\": [{\"marker\": {\"colorbar\": {\"outlinewidth\": 0, \"ticks\": \"\"}}, \"type\": \"scattergl\"}], \"scattermapbox\": [{\"marker\": {\"colorbar\": {\"outlinewidth\": 0, \"ticks\": \"\"}}, \"type\": \"scattermapbox\"}], \"scatterpolar\": [{\"marker\": {\"colorbar\": {\"outlinewidth\": 0, \"ticks\": \"\"}}, \"type\": \"scatterpolar\"}], \"scatterpolargl\": [{\"marker\": {\"colorbar\": {\"outlinewidth\": 0, \"ticks\": \"\"}}, \"type\": \"scatterpolargl\"}], \"scatterternary\": [{\"marker\": {\"colorbar\": {\"outlinewidth\": 0, \"ticks\": \"\"}}, \"type\": \"scatterternary\"}], \"surface\": [{\"colorbar\": {\"outlinewidth\": 0, \"ticks\": \"\"}, \"colorscale\": [[0.0, \"#0d0887\"], [0.1111111111111111, \"#46039f\"], [0.2222222222222222, \"#7201a8\"], [0.3333333333333333, \"#9c179e\"], [0.4444444444444444, \"#bd3786\"], [0.5555555555555556, \"#d8576b\"], [0.6666666666666666, \"#ed7953\"], [0.7777777777777778, \"#fb9f3a\"], [0.8888888888888888, \"#fdca26\"], [1.0, \"#f0f921\"]], \"type\": \"surface\"}], \"table\": [{\"cells\": {\"fill\": {\"color\": \"#EBF0F8\"}, \"line\": {\"color\": \"white\"}}, \"header\": {\"fill\": {\"color\": \"#C8D4E3\"}, \"line\": {\"color\": \"white\"}}, \"type\": \"table\"}]}, \"layout\": {\"annotationdefaults\": {\"arrowcolor\": \"#2a3f5f\", \"arrowhead\": 0, \"arrowwidth\": 1}, \"colorscale\": {\"diverging\": [[0, \"#8e0152\"], [0.1, \"#c51b7d\"], [0.2, \"#de77ae\"], [0.3, \"#f1b6da\"], [0.4, \"#fde0ef\"], [0.5, \"#f7f7f7\"], [0.6, \"#e6f5d0\"], [0.7, \"#b8e186\"], [0.8, \"#7fbc41\"], [0.9, \"#4d9221\"], [1, \"#276419\"]], \"sequential\": [[0.0, \"#0d0887\"], [0.1111111111111111, \"#46039f\"], [0.2222222222222222, \"#7201a8\"], [0.3333333333333333, \"#9c179e\"], [0.4444444444444444, \"#bd3786\"], [0.5555555555555556, \"#d8576b\"], [0.6666666666666666, \"#ed7953\"], [0.7777777777777778, \"#fb9f3a\"], [0.8888888888888888, \"#fdca26\"], [1.0, \"#f0f921\"]], \"sequentialminus\": [[0.0, \"#0d0887\"], [0.1111111111111111, \"#46039f\"], [0.2222222222222222, \"#7201a8\"], [0.3333333333333333, \"#9c179e\"], [0.4444444444444444, \"#bd3786\"], [0.5555555555555556, \"#d8576b\"], [0.6666666666666666, \"#ed7953\"], [0.7777777777777778, \"#fb9f3a\"], [0.8888888888888888, \"#fdca26\"], [1.0, \"#f0f921\"]]}, \"colorway\": [\"#636efa\", \"#EF553B\", \"#00cc96\", \"#ab63fa\", \"#FFA15A\", \"#19d3f3\", \"#FF6692\", \"#B6E880\", \"#FF97FF\", \"#FECB52\"], \"font\": {\"color\": \"#2a3f5f\"}, \"geo\": {\"bgcolor\": \"white\", \"lakecolor\": \"white\", \"landcolor\": \"#E5ECF6\", \"showlakes\": true, \"showland\": true, \"subunitcolor\": \"white\"}, \"hoverlabel\": {\"align\": \"left\"}, \"hovermode\": \"closest\", \"mapbox\": {\"style\": \"light\"}, \"paper_bgcolor\": \"white\", \"plot_bgcolor\": \"#E5ECF6\", \"polar\": {\"angularaxis\": {\"gridcolor\": \"white\", \"linecolor\": \"white\", \"ticks\": \"\"}, \"bgcolor\": \"#E5ECF6\", \"radialaxis\": {\"gridcolor\": \"white\", \"linecolor\": \"white\", \"ticks\": \"\"}}, \"scene\": {\"xaxis\": {\"backgroundcolor\": \"#E5ECF6\", \"gridcolor\": \"white\", \"gridwidth\": 2, \"linecolor\": \"white\", \"showbackground\": true, \"ticks\": \"\", \"zerolinecolor\": \"white\"}, \"yaxis\": {\"backgroundcolor\": \"#E5ECF6\", \"gridcolor\": \"white\", \"gridwidth\": 2, \"linecolor\": \"white\", \"showbackground\": true, \"ticks\": \"\", \"zerolinecolor\": \"white\"}, \"zaxis\": {\"backgroundcolor\": \"#E5ECF6\", \"gridcolor\": \"white\", \"gridwidth\": 2, \"linecolor\": \"white\", \"showbackground\": true, \"ticks\": \"\", \"zerolinecolor\": \"white\"}}, \"shapedefaults\": {\"line\": {\"color\": \"#2a3f5f\"}}, \"ternary\": {\"aaxis\": {\"gridcolor\": \"white\", \"linecolor\": \"white\", \"ticks\": \"\"}, \"baxis\": {\"gridcolor\": \"white\", \"linecolor\": \"white\", \"ticks\": \"\"}, \"bgcolor\": \"#E5ECF6\", \"caxis\": {\"gridcolor\": \"white\", \"linecolor\": \"white\", \"ticks\": \"\"}}, \"title\": {\"x\": 0.05}, \"xaxis\": {\"automargin\": true, \"gridcolor\": \"white\", \"linecolor\": \"white\", \"ticks\": \"\", \"zerolinecolor\": \"white\", \"zerolinewidth\": 2}, \"yaxis\": {\"automargin\": true, \"gridcolor\": \"white\", \"linecolor\": \"white\", \"ticks\": \"\", \"zerolinecolor\": \"white\", \"zerolinewidth\": 2}}}, \"title\": {\"font\": {\"color\": \"#4D5663\"}, \"text\": \"Modelo Lasso-ARIMA Mape: 2.610\"}, \"xaxis\": {\"gridcolor\": \"#E1E5ED\", \"showgrid\": true, \"tickfont\": {\"color\": \"#4D5663\"}, \"title\": {\"font\": {\"color\": \"#4D5663\"}, \"text\": \"fecha\"}, \"zerolinecolor\": \"#E1E5ED\"}, \"yaxis\": {\"gridcolor\": \"#E1E5ED\", \"showgrid\": true, \"tickfont\": {\"color\": \"#4D5663\"}, \"title\": {\"font\": {\"color\": \"#4D5663\"}, \"text\": \"consumo\"}, \"zerolinecolor\": \"#E1E5ED\"}},\n",
       "                        {\"showLink\": true, \"linkText\": \"Export to plot.ly\", \"plotlyServerURL\": \"https://plot.ly\", \"responsive\": true}\n",
       "                    ).then(function(){\n",
       "                            \n",
       "var gd = document.getElementById('1199c2ce-df00-43e8-99eb-63dfb9211a87');\n",
       "var x = new MutationObserver(function (mutations, observer) {{\n",
       "        var display = window.getComputedStyle(gd).display;\n",
       "        if (!display || display === 'none') {{\n",
       "            console.log([gd, 'removed!']);\n",
       "            Plotly.purge(gd);\n",
       "            observer.disconnect();\n",
       "        }}\n",
       "}});\n",
       "\n",
       "// Listen for the removal of the full notebook cells\n",
       "var notebookContainer = gd.closest('#notebook-container');\n",
       "if (notebookContainer) {{\n",
       "    x.observe(notebookContainer, {childList: true});\n",
       "}}\n",
       "\n",
       "// Listen for the clearing of the current output cell\n",
       "var outputEl = gd.closest('.output');\n",
       "if (outputEl) {{\n",
       "    x.observe(outputEl, {childList: true});\n",
       "}}\n",
       "\n",
       "                        })\n",
       "                };\n",
       "                });\n",
       "            </script>\n",
       "        </div>"
      ]
     },
     "metadata": {},
     "output_type": "display_data"
    }
   ],
   "source": [
    "ai = Mape(*ba[[\"predicción\", \"real\"]].values.T)\n",
    "ba[[\"real\", \"predicción\"]].iplot(title = f\"Modelo Lasso-ARIMA Mape: {ai:.3f}\",xTitle = \"fecha\", yTitle = \"consumo\") #title = f\"Mape: {ai:.3f}\""
   ]
  },
  {
   "cell_type": "markdown",
   "metadata": {
    "ExecuteTime": {
     "end_time": "2020-05-05T15:09:09.774680Z",
     "start_time": "2020-05-05T15:04:56.186Z"
    }
   },
   "source": [
    "# Iterativo"
   ]
  },
  {
   "cell_type": "code",
   "execution_count": 82,
   "metadata": {
    "ExecuteTime": {
     "end_time": "2020-05-08T15:17:40.356422Z",
     "start_time": "2020-05-08T15:17:40.335479Z"
    }
   },
   "outputs": [],
   "source": [
    "def reg_it(n, it):\n",
    "    cas = {}; mape = []; y = consumo; X = kron(n)\n",
    "    C = festivos().join(triangular())[:-n].drop([\"ones\"], axis = 1)\n",
    "    itera = np.flip(np.arange(1, it))\n",
    "    for i in itera:\n",
    "        j = i*n\n",
    "        \n",
    "        X_train = X.head(len(y)-j); X_test = X.tail(j).head(n)\n",
    "        C_train = C.head(len(y)-j); C_test = C.tail(j).head(n)\n",
    "        y_train = y.head(len(y)-j); y_test = y.tail(j).head(n)\n",
    "        \n",
    "\n",
    "        result = reg2(n, \"general\").resta\n",
    "\n",
    "        step_wise=auto_arima(result, exog=C, start_p=1, start_q=1, max_p=7, max_q=7, D = None,\n",
    "                         trace=False, error_action='ignore', suppress_warnings=True, stepwise=True,m=1,\n",
    "                        seasonal=False,Stationary=True,)\n",
    "\n",
    "        results = ARIMA(result, order=step_wise.order).fit()\n",
    "        extra=results.predict(len(y_train),len(y_train)+n)[1:]\n",
    "        \n",
    "        lasso_reg = Lasso(normalize=True,max_iter=10000).fit(X_train,y_train)\n",
    "        y_pred_lass = lasso_reg.predict(X_test)\n",
    "        y_test[\"predict\"] = y_pred_lass\n",
    "        y_test[\"resta\"] = y_test.MWh - y_test.predict\n",
    "        y_test[\"error\"] = (np.abs((y_test.MWh - y_test.predict)/y_test.MWh))*100\n",
    "#         print(Mape(y_test.MWh, y_test.predict))\n",
    "#         print(y_test.error.mean())\n",
    "        mape.append(y_test.error.mean())\n",
    "        cas[i] = y_test\n",
    "    print(sum(mape)/(it-1))\n",
    "    return cas"
   ]
  },
  {
   "cell_type": "code",
   "execution_count": 83,
   "metadata": {
    "ExecuteTime": {
     "end_time": "2020-05-08T17:10:39.751219Z",
     "start_time": "2020-05-08T15:17:53.658089Z"
    }
   },
   "outputs": [
    {
     "name": "stderr",
     "output_type": "stream",
     "text": [
      "C:\\Users\\alber\\AppData\\Roaming\\Python\\Python37\\site-packages\\statsmodels\\tsa\\base\\tsa_model.py:162: ValueWarning:\n",
      "\n",
      "No frequency information was provided, so inferred frequency D will be used.\n",
      "\n",
      "C:\\Users\\alber\\AppData\\Roaming\\Python\\Python37\\site-packages\\statsmodels\\tsa\\base\\tsa_model.py:162: ValueWarning:\n",
      "\n",
      "No frequency information was provided, so inferred frequency D will be used.\n",
      "\n",
      "C:\\Users\\alber\\AppData\\Roaming\\Python\\Python37\\site-packages\\statsmodels\\tsa\\base\\tsa_model.py:162: ValueWarning:\n",
      "\n",
      "No frequency information was provided, so inferred frequency D will be used.\n",
      "\n",
      "C:\\Users\\alber\\AppData\\Roaming\\Python\\Python37\\site-packages\\statsmodels\\tsa\\base\\tsa_model.py:162: ValueWarning:\n",
      "\n",
      "No frequency information was provided, so inferred frequency D will be used.\n",
      "\n",
      "C:\\Users\\alber\\AppData\\Roaming\\Python\\Python37\\site-packages\\statsmodels\\tsa\\base\\tsa_model.py:162: ValueWarning:\n",
      "\n",
      "No frequency information was provided, so inferred frequency D will be used.\n",
      "\n",
      "C:\\Users\\alber\\AppData\\Roaming\\Python\\Python37\\site-packages\\statsmodels\\tsa\\base\\tsa_model.py:162: ValueWarning:\n",
      "\n",
      "No frequency information was provided, so inferred frequency D will be used.\n",
      "\n",
      "C:\\Users\\alber\\AppData\\Roaming\\Python\\Python37\\site-packages\\statsmodels\\tsa\\base\\tsa_model.py:162: ValueWarning:\n",
      "\n",
      "No frequency information was provided, so inferred frequency D will be used.\n",
      "\n",
      "C:\\Users\\alber\\AppData\\Roaming\\Python\\Python37\\site-packages\\statsmodels\\tsa\\base\\tsa_model.py:162: ValueWarning:\n",
      "\n",
      "No frequency information was provided, so inferred frequency D will be used.\n",
      "\n",
      "C:\\Users\\alber\\AppData\\Roaming\\Python\\Python37\\site-packages\\statsmodels\\tsa\\base\\tsa_model.py:162: ValueWarning:\n",
      "\n",
      "No frequency information was provided, so inferred frequency D will be used.\n",
      "\n",
      "C:\\Users\\alber\\AppData\\Roaming\\Python\\Python37\\site-packages\\statsmodels\\tsa\\base\\tsa_model.py:162: ValueWarning:\n",
      "\n",
      "No frequency information was provided, so inferred frequency D will be used.\n",
      "\n",
      "C:\\Users\\alber\\AppData\\Roaming\\Python\\Python37\\site-packages\\statsmodels\\tsa\\base\\tsa_model.py:162: ValueWarning:\n",
      "\n",
      "No frequency information was provided, so inferred frequency D will be used.\n",
      "\n",
      "C:\\Users\\alber\\AppData\\Roaming\\Python\\Python37\\site-packages\\statsmodels\\tsa\\base\\tsa_model.py:162: ValueWarning:\n",
      "\n",
      "No frequency information was provided, so inferred frequency D will be used.\n",
      "\n",
      "C:\\Users\\alber\\AppData\\Roaming\\Python\\Python37\\site-packages\\statsmodels\\tsa\\base\\tsa_model.py:162: ValueWarning:\n",
      "\n",
      "No frequency information was provided, so inferred frequency D will be used.\n",
      "\n",
      "C:\\Users\\alber\\AppData\\Roaming\\Python\\Python37\\site-packages\\statsmodels\\tsa\\base\\tsa_model.py:162: ValueWarning:\n",
      "\n",
      "No frequency information was provided, so inferred frequency D will be used.\n",
      "\n",
      "C:\\Users\\alber\\AppData\\Roaming\\Python\\Python37\\site-packages\\statsmodels\\tsa\\base\\tsa_model.py:162: ValueWarning:\n",
      "\n",
      "No frequency information was provided, so inferred frequency D will be used.\n",
      "\n",
      "C:\\Users\\alber\\AppData\\Roaming\\Python\\Python37\\site-packages\\statsmodels\\tsa\\base\\tsa_model.py:162: ValueWarning:\n",
      "\n",
      "No frequency information was provided, so inferred frequency D will be used.\n",
      "\n",
      "C:\\Users\\alber\\AppData\\Roaming\\Python\\Python37\\site-packages\\statsmodels\\tsa\\base\\tsa_model.py:162: ValueWarning:\n",
      "\n",
      "No frequency information was provided, so inferred frequency D will be used.\n",
      "\n",
      "C:\\Users\\alber\\AppData\\Roaming\\Python\\Python37\\site-packages\\statsmodels\\tsa\\base\\tsa_model.py:162: ValueWarning:\n",
      "\n",
      "No frequency information was provided, so inferred frequency D will be used.\n",
      "\n",
      "C:\\Users\\alber\\AppData\\Roaming\\Python\\Python37\\site-packages\\statsmodels\\tsa\\base\\tsa_model.py:162: ValueWarning:\n",
      "\n",
      "No frequency information was provided, so inferred frequency D will be used.\n",
      "\n",
      "C:\\Users\\alber\\AppData\\Roaming\\Python\\Python37\\site-packages\\statsmodels\\tsa\\base\\tsa_model.py:162: ValueWarning:\n",
      "\n",
      "No frequency information was provided, so inferred frequency D will be used.\n",
      "\n",
      "C:\\Users\\alber\\AppData\\Roaming\\Python\\Python37\\site-packages\\statsmodels\\tsa\\base\\tsa_model.py:162: ValueWarning:\n",
      "\n",
      "No frequency information was provided, so inferred frequency D will be used.\n",
      "\n",
      "C:\\Users\\alber\\AppData\\Roaming\\Python\\Python37\\site-packages\\statsmodels\\tsa\\base\\tsa_model.py:162: ValueWarning:\n",
      "\n",
      "No frequency information was provided, so inferred frequency D will be used.\n",
      "\n",
      "C:\\Users\\alber\\AppData\\Roaming\\Python\\Python37\\site-packages\\statsmodels\\tsa\\base\\tsa_model.py:162: ValueWarning:\n",
      "\n",
      "No frequency information was provided, so inferred frequency D will be used.\n",
      "\n",
      "C:\\Users\\alber\\AppData\\Roaming\\Python\\Python37\\site-packages\\statsmodels\\tsa\\base\\tsa_model.py:162: ValueWarning:\n",
      "\n",
      "No frequency information was provided, so inferred frequency D will be used.\n",
      "\n",
      "C:\\Users\\alber\\AppData\\Roaming\\Python\\Python37\\site-packages\\statsmodels\\tsa\\base\\tsa_model.py:162: ValueWarning:\n",
      "\n",
      "No frequency information was provided, so inferred frequency D will be used.\n",
      "\n",
      "C:\\Users\\alber\\AppData\\Roaming\\Python\\Python37\\site-packages\\statsmodels\\tsa\\base\\tsa_model.py:162: ValueWarning:\n",
      "\n",
      "No frequency information was provided, so inferred frequency D will be used.\n",
      "\n",
      "C:\\Users\\alber\\AppData\\Roaming\\Python\\Python37\\site-packages\\statsmodels\\tsa\\base\\tsa_model.py:162: ValueWarning:\n",
      "\n",
      "No frequency information was provided, so inferred frequency D will be used.\n",
      "\n",
      "C:\\Users\\alber\\AppData\\Roaming\\Python\\Python37\\site-packages\\statsmodels\\tsa\\base\\tsa_model.py:162: ValueWarning:\n",
      "\n",
      "No frequency information was provided, so inferred frequency D will be used.\n",
      "\n",
      "C:\\Users\\alber\\AppData\\Roaming\\Python\\Python37\\site-packages\\statsmodels\\tsa\\base\\tsa_model.py:162: ValueWarning:\n",
      "\n",
      "No frequency information was provided, so inferred frequency D will be used.\n",
      "\n",
      "C:\\Users\\alber\\AppData\\Roaming\\Python\\Python37\\site-packages\\statsmodels\\tsa\\base\\tsa_model.py:162: ValueWarning:\n",
      "\n",
      "No frequency information was provided, so inferred frequency D will be used.\n",
      "\n",
      "C:\\Users\\alber\\AppData\\Roaming\\Python\\Python37\\site-packages\\statsmodels\\tsa\\base\\tsa_model.py:162: ValueWarning:\n",
      "\n",
      "No frequency information was provided, so inferred frequency D will be used.\n",
      "\n",
      "C:\\Users\\alber\\AppData\\Roaming\\Python\\Python37\\site-packages\\statsmodels\\tsa\\base\\tsa_model.py:162: ValueWarning:\n",
      "\n",
      "No frequency information was provided, so inferred frequency D will be used.\n",
      "\n",
      "C:\\Users\\alber\\AppData\\Roaming\\Python\\Python37\\site-packages\\statsmodels\\tsa\\base\\tsa_model.py:162: ValueWarning:\n",
      "\n",
      "No frequency information was provided, so inferred frequency D will be used.\n",
      "\n",
      "C:\\Users\\alber\\AppData\\Roaming\\Python\\Python37\\site-packages\\statsmodels\\tsa\\base\\tsa_model.py:162: ValueWarning:\n",
      "\n",
      "No frequency information was provided, so inferred frequency D will be used.\n",
      "\n",
      "C:\\Users\\alber\\AppData\\Roaming\\Python\\Python37\\site-packages\\statsmodels\\tsa\\base\\tsa_model.py:162: ValueWarning:\n",
      "\n",
      "No frequency information was provided, so inferred frequency D will be used.\n",
      "\n",
      "C:\\Users\\alber\\AppData\\Roaming\\Python\\Python37\\site-packages\\statsmodels\\tsa\\base\\tsa_model.py:162: ValueWarning:\n",
      "\n",
      "No frequency information was provided, so inferred frequency D will be used.\n",
      "\n",
      "C:\\Users\\alber\\AppData\\Roaming\\Python\\Python37\\site-packages\\statsmodels\\tsa\\base\\tsa_model.py:162: ValueWarning:\n",
      "\n",
      "No frequency information was provided, so inferred frequency D will be used.\n",
      "\n",
      "C:\\Users\\alber\\AppData\\Roaming\\Python\\Python37\\site-packages\\statsmodels\\tsa\\base\\tsa_model.py:162: ValueWarning:\n",
      "\n",
      "No frequency information was provided, so inferred frequency D will be used.\n",
      "\n",
      "C:\\Users\\alber\\AppData\\Roaming\\Python\\Python37\\site-packages\\statsmodels\\tsa\\base\\tsa_model.py:162: ValueWarning:\n",
      "\n",
      "No frequency information was provided, so inferred frequency D will be used.\n",
      "\n",
      "C:\\Users\\alber\\AppData\\Roaming\\Python\\Python37\\site-packages\\statsmodels\\tsa\\base\\tsa_model.py:162: ValueWarning:\n",
      "\n",
      "No frequency information was provided, so inferred frequency D will be used.\n",
      "\n",
      "C:\\Users\\alber\\AppData\\Roaming\\Python\\Python37\\site-packages\\statsmodels\\tsa\\base\\tsa_model.py:162: ValueWarning:\n",
      "\n",
      "No frequency information was provided, so inferred frequency D will be used.\n",
      "\n",
      "C:\\Users\\alber\\AppData\\Roaming\\Python\\Python37\\site-packages\\statsmodels\\tsa\\base\\tsa_model.py:162: ValueWarning:\n",
      "\n",
      "No frequency information was provided, so inferred frequency D will be used.\n",
      "\n",
      "C:\\Users\\alber\\AppData\\Roaming\\Python\\Python37\\site-packages\\statsmodels\\tsa\\base\\tsa_model.py:162: ValueWarning:\n",
      "\n",
      "No frequency information was provided, so inferred frequency D will be used.\n",
      "\n"
     ]
    },
    {
     "name": "stderr",
     "output_type": "stream",
     "text": [
      "C:\\Users\\alber\\AppData\\Roaming\\Python\\Python37\\site-packages\\statsmodels\\tsa\\base\\tsa_model.py:162: ValueWarning:\n",
      "\n",
      "No frequency information was provided, so inferred frequency D will be used.\n",
      "\n",
      "C:\\Users\\alber\\AppData\\Roaming\\Python\\Python37\\site-packages\\statsmodels\\tsa\\base\\tsa_model.py:162: ValueWarning:\n",
      "\n",
      "No frequency information was provided, so inferred frequency D will be used.\n",
      "\n",
      "C:\\Users\\alber\\AppData\\Roaming\\Python\\Python37\\site-packages\\statsmodels\\tsa\\base\\tsa_model.py:162: ValueWarning:\n",
      "\n",
      "No frequency information was provided, so inferred frequency D will be used.\n",
      "\n",
      "C:\\Users\\alber\\AppData\\Roaming\\Python\\Python37\\site-packages\\statsmodels\\tsa\\base\\tsa_model.py:162: ValueWarning:\n",
      "\n",
      "No frequency information was provided, so inferred frequency D will be used.\n",
      "\n",
      "C:\\Users\\alber\\AppData\\Roaming\\Python\\Python37\\site-packages\\statsmodels\\tsa\\base\\tsa_model.py:162: ValueWarning:\n",
      "\n",
      "No frequency information was provided, so inferred frequency D will be used.\n",
      "\n",
      "C:\\Users\\alber\\AppData\\Roaming\\Python\\Python37\\site-packages\\statsmodels\\tsa\\base\\tsa_model.py:162: ValueWarning:\n",
      "\n",
      "No frequency information was provided, so inferred frequency D will be used.\n",
      "\n",
      "C:\\Users\\alber\\AppData\\Roaming\\Python\\Python37\\site-packages\\statsmodels\\tsa\\base\\tsa_model.py:162: ValueWarning:\n",
      "\n",
      "No frequency information was provided, so inferred frequency D will be used.\n",
      "\n",
      "C:\\Users\\alber\\AppData\\Roaming\\Python\\Python37\\site-packages\\statsmodels\\tsa\\base\\tsa_model.py:162: ValueWarning:\n",
      "\n",
      "No frequency information was provided, so inferred frequency D will be used.\n",
      "\n",
      "C:\\Users\\alber\\AppData\\Roaming\\Python\\Python37\\site-packages\\statsmodels\\tsa\\base\\tsa_model.py:162: ValueWarning:\n",
      "\n",
      "No frequency information was provided, so inferred frequency D will be used.\n",
      "\n"
     ]
    },
    {
     "name": "stdout",
     "output_type": "stream",
     "text": [
      "2.584440198668663\n"
     ]
    }
   ],
   "source": [
    "vov = reg_it(7, 53)"
   ]
  },
  {
   "cell_type": "code",
   "execution_count": 109,
   "metadata": {
    "ExecuteTime": {
     "end_time": "2020-05-08T17:46:08.274910Z",
     "start_time": "2020-05-08T17:46:08.221057Z"
    }
   },
   "outputs": [],
   "source": [
    "df = pd.DataFrame()\n",
    "for i in range(1, 53):\n",
    "    df = pd.concat([df, vov[i]])\n",
    "df = df.sort_index()"
   ]
  },
  {
   "cell_type": "code",
   "execution_count": 113,
   "metadata": {
    "ExecuteTime": {
     "end_time": "2020-05-08T17:46:36.708231Z",
     "start_time": "2020-05-08T17:46:36.700253Z"
    }
   },
   "outputs": [
    {
     "data": {
      "text/plain": [
       "2.5844401986686596"
      ]
     },
     "execution_count": 113,
     "metadata": {},
     "output_type": "execute_result"
    }
   ],
   "source": [
    "df.error.mean()"
   ]
  },
  {
   "cell_type": "code",
   "execution_count": 106,
   "metadata": {
    "ExecuteTime": {
     "end_time": "2020-05-08T17:44:09.135632Z",
     "start_time": "2020-05-08T17:44:09.127687Z"
    }
   },
   "outputs": [],
   "source": [
    "# output = open('lasso_y_xgb_completo.pickle', 'wb')\n",
    "# pickle.dump(df, output)\n",
    "# output.close()"
   ]
  },
  {
   "cell_type": "code",
   "execution_count": 195,
   "metadata": {
    "ExecuteTime": {
     "end_time": "2020-05-05T21:41:46.176172Z",
     "start_time": "2020-05-05T21:41:46.068315Z"
    }
   },
   "outputs": [
    {
     "name": "stdout",
     "output_type": "stream",
     "text": [
      "fecha\n",
      "2020-03-30    4.221498\n",
      "Name: error, dtype: float64\n",
      "fecha\n",
      "2020-03-17    4.210062\n",
      "Name: error, dtype: float64\n",
      "fecha\n",
      "2020-03-16    9.360409\n",
      "Name: error, dtype: float64\n",
      "Series([], Name: error, dtype: float64)\n",
      "fecha\n",
      "2020-02-25    4.325605\n",
      "Name: error, dtype: float64\n",
      "fecha\n",
      "2020-02-18    4.080677\n",
      "2020-02-19    4.605377\n",
      "2020-02-20    5.045590\n",
      "2020-02-21    4.771739\n",
      "2020-02-22    4.304425\n",
      "Name: error, dtype: float64\n",
      "fecha\n",
      "2020-02-15    5.323078\n",
      "Name: error, dtype: float64\n",
      "fecha\n",
      "2020-02-06    4.427198\n",
      "2020-02-09    5.460627\n",
      "Name: error, dtype: float64\n",
      "fecha\n",
      "2020-02-03    4.564747\n",
      "Name: error, dtype: float64\n",
      "Series([], Name: error, dtype: float64)\n",
      "Series([], Name: error, dtype: float64)\n",
      "Series([], Name: error, dtype: float64)\n",
      "fecha\n",
      "2020-01-01    4.030455\n",
      "Name: error, dtype: float64\n",
      "fecha\n",
      "2019-12-24    5.226196\n",
      "2019-12-27    4.695476\n",
      "2019-12-28    4.010493\n",
      "Name: error, dtype: float64\n",
      "fecha\n",
      "2019-12-23    4.340569\n",
      "Name: error, dtype: float64\n",
      "fecha\n",
      "2019-12-10    4.023856\n",
      "2019-12-11    4.667967\n",
      "Name: error, dtype: float64\n",
      "Series([], Name: error, dtype: float64)\n",
      "Series([], Name: error, dtype: float64)\n",
      "Series([], Name: error, dtype: float64)\n",
      "fecha\n",
      "2019-11-18    6.800778\n",
      "Name: error, dtype: float64\n",
      "Series([], Name: error, dtype: float64)\n",
      "fecha\n",
      "2019-10-31    4.029182\n",
      "2019-11-01    4.496459\n",
      "2019-11-02    7.395800\n",
      "2019-11-03    6.506058\n",
      "Name: error, dtype: float64\n",
      "fecha\n",
      "2019-10-22    4.236426\n",
      "2019-10-23    5.321744\n",
      "2019-10-24    4.023943\n",
      "2019-10-25    4.780978\n",
      "2019-10-26    6.867819\n",
      "2019-10-27    5.017242\n",
      "2019-10-28    6.330153\n",
      "Name: error, dtype: float64\n",
      "fecha\n",
      "2019-10-20    6.012893\n",
      "2019-10-21    5.325328\n",
      "Name: error, dtype: float64\n",
      "Series([], Name: error, dtype: float64)\n",
      "fecha\n",
      "2019-10-01    5.350268\n",
      "2019-10-02    4.834724\n",
      "2019-10-03    4.388680\n",
      "2019-10-04    4.202301\n",
      "2019-10-05    4.588161\n",
      "2019-10-06    5.457380\n",
      "Name: error, dtype: float64\n",
      "fecha\n",
      "2019-09-30    4.867468\n",
      "Name: error, dtype: float64\n",
      "Series([], Name: error, dtype: float64)\n",
      "fecha\n",
      "2019-09-16    9.281273\n",
      "Name: error, dtype: float64\n",
      "Series([], Name: error, dtype: float64)\n",
      "fecha\n",
      "2019-08-27    4.421444\n",
      "Name: error, dtype: float64\n",
      "fecha\n",
      "2019-08-21    4.278638\n",
      "2019-08-25    4.657038\n",
      "Name: error, dtype: float64\n",
      "fecha\n",
      "2019-08-19    4.117843\n",
      "Name: error, dtype: float64\n",
      "Series([], Name: error, dtype: float64)\n",
      "Series([], Name: error, dtype: float64)\n",
      "fecha\n",
      "2019-07-28    4.419561\n",
      "Name: error, dtype: float64\n",
      "fecha\n",
      "2019-07-21    6.210489\n",
      "Name: error, dtype: float64\n",
      "fecha\n",
      "2019-07-10    5.270511\n",
      "2019-07-11    4.470828\n",
      "Name: error, dtype: float64\n",
      "Series([], Name: error, dtype: float64)\n",
      "Series([], Name: error, dtype: float64)\n",
      "Series([], Name: error, dtype: float64)\n",
      "fecha\n",
      "2019-06-16    4.734642\n",
      "Name: error, dtype: float64\n",
      "fecha\n",
      "2019-06-04    5.698260\n",
      "2019-06-05    9.597183\n",
      "2019-06-06    9.408515\n",
      "2019-06-07    7.753773\n",
      "2019-06-08    7.448752\n",
      "2019-06-09    9.444302\n",
      "2019-06-10    5.761659\n",
      "Name: error, dtype: float64\n",
      "fecha\n",
      "2019-06-01    6.560073\n",
      "2019-06-02    8.969126\n",
      "2019-06-03    7.457384\n",
      "Name: error, dtype: float64\n",
      "Series([], Name: error, dtype: float64)\n",
      "fecha\n",
      "2019-05-14    4.053097\n",
      "2019-05-19    5.367751\n",
      "Name: error, dtype: float64\n",
      "fecha\n",
      "2019-05-07    4.017974\n",
      "2019-05-09    4.025343\n",
      "2019-05-10    6.681706\n",
      "2019-05-11    5.398857\n",
      "2019-05-12    7.535618\n",
      "2019-05-13    4.576369\n",
      "Name: error, dtype: float64\n",
      "fecha\n",
      "2019-05-01    5.561534\n",
      "2019-05-02    7.897325\n",
      "2019-05-03    4.365417\n",
      "2019-05-04    5.090020\n",
      "2019-05-05    7.058156\n",
      "2019-05-06    5.290888\n",
      "Name: error, dtype: float64\n",
      "Series([], Name: error, dtype: float64)\n",
      "fecha\n",
      "2019-04-19    6.404758\n",
      "Name: error, dtype: float64\n",
      "fecha\n",
      "2019-04-14    4.056948\n",
      "Name: error, dtype: float64\n",
      "fecha\n",
      "2019-04-07    6.661951\n",
      "Name: error, dtype: float64\n"
     ]
    }
   ],
   "source": [
    "for i in range(1, 53):\n",
    "    print(vov[i].error[vov[i].error > 4])"
   ]
  },
  {
   "cell_type": "code",
   "execution_count": 214,
   "metadata": {
    "ExecuteTime": {
     "end_time": "2020-05-05T21:46:23.344711Z",
     "start_time": "2020-05-05T21:46:22.630787Z"
    }
   },
   "outputs": [
    {
     "data": {
      "application/vnd.plotly.v1+json": {
       "config": {
        "linkText": "Export to plot.ly",
        "plotlyServerURL": "https://plot.ly",
        "showLink": true
       },
       "data": [
        {
         "line": {
          "color": "rgba(255, 153, 51, 1.0)",
          "dash": "solid",
          "shape": "linear",
          "width": 1.3
         },
         "mode": "lines",
         "name": "MWh",
         "text": "",
         "type": "scatter",
         "x": [
          "2019-12-31",
          "2020-01-01",
          "2020-01-02",
          "2020-01-03",
          "2020-01-04",
          "2020-01-05",
          "2020-01-06"
         ],
         "y": [
          153785,
          129479,
          160216,
          176153,
          170064,
          154375,
          179303
         ]
        },
        {
         "line": {
          "color": "rgba(55, 128, 191, 1.0)",
          "dash": "solid",
          "shape": "linear",
          "width": 1.3
         },
         "mode": "lines",
         "name": "predict",
         "text": "",
         "type": "scatter",
         "x": [
          "2019-12-31",
          "2020-01-01",
          "2020-01-02",
          "2020-01-03",
          "2020-01-04",
          "2020-01-05",
          "2020-01-06"
         ],
         "y": [
          153692.21178941056,
          124260.4074819162,
          158177.7214940407,
          176437.8012262957,
          174057.56592705337,
          156104.7559772027,
          177959.04315875893
         ]
        }
       ],
       "layout": {
        "legend": {
         "bgcolor": "#F5F6F9",
         "font": {
          "color": "#4D5663"
         }
        },
        "paper_bgcolor": "#F5F6F9",
        "plot_bgcolor": "#F5F6F9",
        "template": {
         "data": {
          "bar": [
           {
            "error_x": {
             "color": "#2a3f5f"
            },
            "error_y": {
             "color": "#2a3f5f"
            },
            "marker": {
             "line": {
              "color": "#E5ECF6",
              "width": 0.5
             }
            },
            "type": "bar"
           }
          ],
          "barpolar": [
           {
            "marker": {
             "line": {
              "color": "#E5ECF6",
              "width": 0.5
             }
            },
            "type": "barpolar"
           }
          ],
          "carpet": [
           {
            "aaxis": {
             "endlinecolor": "#2a3f5f",
             "gridcolor": "white",
             "linecolor": "white",
             "minorgridcolor": "white",
             "startlinecolor": "#2a3f5f"
            },
            "baxis": {
             "endlinecolor": "#2a3f5f",
             "gridcolor": "white",
             "linecolor": "white",
             "minorgridcolor": "white",
             "startlinecolor": "#2a3f5f"
            },
            "type": "carpet"
           }
          ],
          "choropleth": [
           {
            "colorbar": {
             "outlinewidth": 0,
             "ticks": ""
            },
            "type": "choropleth"
           }
          ],
          "contour": [
           {
            "colorbar": {
             "outlinewidth": 0,
             "ticks": ""
            },
            "colorscale": [
             [
              0,
              "#0d0887"
             ],
             [
              0.1111111111111111,
              "#46039f"
             ],
             [
              0.2222222222222222,
              "#7201a8"
             ],
             [
              0.3333333333333333,
              "#9c179e"
             ],
             [
              0.4444444444444444,
              "#bd3786"
             ],
             [
              0.5555555555555556,
              "#d8576b"
             ],
             [
              0.6666666666666666,
              "#ed7953"
             ],
             [
              0.7777777777777778,
              "#fb9f3a"
             ],
             [
              0.8888888888888888,
              "#fdca26"
             ],
             [
              1,
              "#f0f921"
             ]
            ],
            "type": "contour"
           }
          ],
          "contourcarpet": [
           {
            "colorbar": {
             "outlinewidth": 0,
             "ticks": ""
            },
            "type": "contourcarpet"
           }
          ],
          "heatmap": [
           {
            "colorbar": {
             "outlinewidth": 0,
             "ticks": ""
            },
            "colorscale": [
             [
              0,
              "#0d0887"
             ],
             [
              0.1111111111111111,
              "#46039f"
             ],
             [
              0.2222222222222222,
              "#7201a8"
             ],
             [
              0.3333333333333333,
              "#9c179e"
             ],
             [
              0.4444444444444444,
              "#bd3786"
             ],
             [
              0.5555555555555556,
              "#d8576b"
             ],
             [
              0.6666666666666666,
              "#ed7953"
             ],
             [
              0.7777777777777778,
              "#fb9f3a"
             ],
             [
              0.8888888888888888,
              "#fdca26"
             ],
             [
              1,
              "#f0f921"
             ]
            ],
            "type": "heatmap"
           }
          ],
          "heatmapgl": [
           {
            "colorbar": {
             "outlinewidth": 0,
             "ticks": ""
            },
            "colorscale": [
             [
              0,
              "#0d0887"
             ],
             [
              0.1111111111111111,
              "#46039f"
             ],
             [
              0.2222222222222222,
              "#7201a8"
             ],
             [
              0.3333333333333333,
              "#9c179e"
             ],
             [
              0.4444444444444444,
              "#bd3786"
             ],
             [
              0.5555555555555556,
              "#d8576b"
             ],
             [
              0.6666666666666666,
              "#ed7953"
             ],
             [
              0.7777777777777778,
              "#fb9f3a"
             ],
             [
              0.8888888888888888,
              "#fdca26"
             ],
             [
              1,
              "#f0f921"
             ]
            ],
            "type": "heatmapgl"
           }
          ],
          "histogram": [
           {
            "marker": {
             "colorbar": {
              "outlinewidth": 0,
              "ticks": ""
             }
            },
            "type": "histogram"
           }
          ],
          "histogram2d": [
           {
            "colorbar": {
             "outlinewidth": 0,
             "ticks": ""
            },
            "colorscale": [
             [
              0,
              "#0d0887"
             ],
             [
              0.1111111111111111,
              "#46039f"
             ],
             [
              0.2222222222222222,
              "#7201a8"
             ],
             [
              0.3333333333333333,
              "#9c179e"
             ],
             [
              0.4444444444444444,
              "#bd3786"
             ],
             [
              0.5555555555555556,
              "#d8576b"
             ],
             [
              0.6666666666666666,
              "#ed7953"
             ],
             [
              0.7777777777777778,
              "#fb9f3a"
             ],
             [
              0.8888888888888888,
              "#fdca26"
             ],
             [
              1,
              "#f0f921"
             ]
            ],
            "type": "histogram2d"
           }
          ],
          "histogram2dcontour": [
           {
            "colorbar": {
             "outlinewidth": 0,
             "ticks": ""
            },
            "colorscale": [
             [
              0,
              "#0d0887"
             ],
             [
              0.1111111111111111,
              "#46039f"
             ],
             [
              0.2222222222222222,
              "#7201a8"
             ],
             [
              0.3333333333333333,
              "#9c179e"
             ],
             [
              0.4444444444444444,
              "#bd3786"
             ],
             [
              0.5555555555555556,
              "#d8576b"
             ],
             [
              0.6666666666666666,
              "#ed7953"
             ],
             [
              0.7777777777777778,
              "#fb9f3a"
             ],
             [
              0.8888888888888888,
              "#fdca26"
             ],
             [
              1,
              "#f0f921"
             ]
            ],
            "type": "histogram2dcontour"
           }
          ],
          "mesh3d": [
           {
            "colorbar": {
             "outlinewidth": 0,
             "ticks": ""
            },
            "type": "mesh3d"
           }
          ],
          "parcoords": [
           {
            "line": {
             "colorbar": {
              "outlinewidth": 0,
              "ticks": ""
             }
            },
            "type": "parcoords"
           }
          ],
          "scatter": [
           {
            "marker": {
             "colorbar": {
              "outlinewidth": 0,
              "ticks": ""
             }
            },
            "type": "scatter"
           }
          ],
          "scatter3d": [
           {
            "line": {
             "colorbar": {
              "outlinewidth": 0,
              "ticks": ""
             }
            },
            "marker": {
             "colorbar": {
              "outlinewidth": 0,
              "ticks": ""
             }
            },
            "type": "scatter3d"
           }
          ],
          "scattercarpet": [
           {
            "marker": {
             "colorbar": {
              "outlinewidth": 0,
              "ticks": ""
             }
            },
            "type": "scattercarpet"
           }
          ],
          "scattergeo": [
           {
            "marker": {
             "colorbar": {
              "outlinewidth": 0,
              "ticks": ""
             }
            },
            "type": "scattergeo"
           }
          ],
          "scattergl": [
           {
            "marker": {
             "colorbar": {
              "outlinewidth": 0,
              "ticks": ""
             }
            },
            "type": "scattergl"
           }
          ],
          "scattermapbox": [
           {
            "marker": {
             "colorbar": {
              "outlinewidth": 0,
              "ticks": ""
             }
            },
            "type": "scattermapbox"
           }
          ],
          "scatterpolar": [
           {
            "marker": {
             "colorbar": {
              "outlinewidth": 0,
              "ticks": ""
             }
            },
            "type": "scatterpolar"
           }
          ],
          "scatterpolargl": [
           {
            "marker": {
             "colorbar": {
              "outlinewidth": 0,
              "ticks": ""
             }
            },
            "type": "scatterpolargl"
           }
          ],
          "scatterternary": [
           {
            "marker": {
             "colorbar": {
              "outlinewidth": 0,
              "ticks": ""
             }
            },
            "type": "scatterternary"
           }
          ],
          "surface": [
           {
            "colorbar": {
             "outlinewidth": 0,
             "ticks": ""
            },
            "colorscale": [
             [
              0,
              "#0d0887"
             ],
             [
              0.1111111111111111,
              "#46039f"
             ],
             [
              0.2222222222222222,
              "#7201a8"
             ],
             [
              0.3333333333333333,
              "#9c179e"
             ],
             [
              0.4444444444444444,
              "#bd3786"
             ],
             [
              0.5555555555555556,
              "#d8576b"
             ],
             [
              0.6666666666666666,
              "#ed7953"
             ],
             [
              0.7777777777777778,
              "#fb9f3a"
             ],
             [
              0.8888888888888888,
              "#fdca26"
             ],
             [
              1,
              "#f0f921"
             ]
            ],
            "type": "surface"
           }
          ],
          "table": [
           {
            "cells": {
             "fill": {
              "color": "#EBF0F8"
             },
             "line": {
              "color": "white"
             }
            },
            "header": {
             "fill": {
              "color": "#C8D4E3"
             },
             "line": {
              "color": "white"
             }
            },
            "type": "table"
           }
          ]
         },
         "layout": {
          "annotationdefaults": {
           "arrowcolor": "#2a3f5f",
           "arrowhead": 0,
           "arrowwidth": 1
          },
          "colorscale": {
           "diverging": [
            [
             0,
             "#8e0152"
            ],
            [
             0.1,
             "#c51b7d"
            ],
            [
             0.2,
             "#de77ae"
            ],
            [
             0.3,
             "#f1b6da"
            ],
            [
             0.4,
             "#fde0ef"
            ],
            [
             0.5,
             "#f7f7f7"
            ],
            [
             0.6,
             "#e6f5d0"
            ],
            [
             0.7,
             "#b8e186"
            ],
            [
             0.8,
             "#7fbc41"
            ],
            [
             0.9,
             "#4d9221"
            ],
            [
             1,
             "#276419"
            ]
           ],
           "sequential": [
            [
             0,
             "#0d0887"
            ],
            [
             0.1111111111111111,
             "#46039f"
            ],
            [
             0.2222222222222222,
             "#7201a8"
            ],
            [
             0.3333333333333333,
             "#9c179e"
            ],
            [
             0.4444444444444444,
             "#bd3786"
            ],
            [
             0.5555555555555556,
             "#d8576b"
            ],
            [
             0.6666666666666666,
             "#ed7953"
            ],
            [
             0.7777777777777778,
             "#fb9f3a"
            ],
            [
             0.8888888888888888,
             "#fdca26"
            ],
            [
             1,
             "#f0f921"
            ]
           ],
           "sequentialminus": [
            [
             0,
             "#0d0887"
            ],
            [
             0.1111111111111111,
             "#46039f"
            ],
            [
             0.2222222222222222,
             "#7201a8"
            ],
            [
             0.3333333333333333,
             "#9c179e"
            ],
            [
             0.4444444444444444,
             "#bd3786"
            ],
            [
             0.5555555555555556,
             "#d8576b"
            ],
            [
             0.6666666666666666,
             "#ed7953"
            ],
            [
             0.7777777777777778,
             "#fb9f3a"
            ],
            [
             0.8888888888888888,
             "#fdca26"
            ],
            [
             1,
             "#f0f921"
            ]
           ]
          },
          "colorway": [
           "#636efa",
           "#EF553B",
           "#00cc96",
           "#ab63fa",
           "#FFA15A",
           "#19d3f3",
           "#FF6692",
           "#B6E880",
           "#FF97FF",
           "#FECB52"
          ],
          "font": {
           "color": "#2a3f5f"
          },
          "geo": {
           "bgcolor": "white",
           "lakecolor": "white",
           "landcolor": "#E5ECF6",
           "showlakes": true,
           "showland": true,
           "subunitcolor": "white"
          },
          "hoverlabel": {
           "align": "left"
          },
          "hovermode": "closest",
          "mapbox": {
           "style": "light"
          },
          "paper_bgcolor": "white",
          "plot_bgcolor": "#E5ECF6",
          "polar": {
           "angularaxis": {
            "gridcolor": "white",
            "linecolor": "white",
            "ticks": ""
           },
           "bgcolor": "#E5ECF6",
           "radialaxis": {
            "gridcolor": "white",
            "linecolor": "white",
            "ticks": ""
           }
          },
          "scene": {
           "xaxis": {
            "backgroundcolor": "#E5ECF6",
            "gridcolor": "white",
            "gridwidth": 2,
            "linecolor": "white",
            "showbackground": true,
            "ticks": "",
            "zerolinecolor": "white"
           },
           "yaxis": {
            "backgroundcolor": "#E5ECF6",
            "gridcolor": "white",
            "gridwidth": 2,
            "linecolor": "white",
            "showbackground": true,
            "ticks": "",
            "zerolinecolor": "white"
           },
           "zaxis": {
            "backgroundcolor": "#E5ECF6",
            "gridcolor": "white",
            "gridwidth": 2,
            "linecolor": "white",
            "showbackground": true,
            "ticks": "",
            "zerolinecolor": "white"
           }
          },
          "shapedefaults": {
           "line": {
            "color": "#2a3f5f"
           }
          },
          "ternary": {
           "aaxis": {
            "gridcolor": "white",
            "linecolor": "white",
            "ticks": ""
           },
           "baxis": {
            "gridcolor": "white",
            "linecolor": "white",
            "ticks": ""
           },
           "bgcolor": "#E5ECF6",
           "caxis": {
            "gridcolor": "white",
            "linecolor": "white",
            "ticks": ""
           }
          },
          "title": {
           "x": 0.05
          },
          "xaxis": {
           "automargin": true,
           "gridcolor": "white",
           "linecolor": "white",
           "ticks": "",
           "zerolinecolor": "white",
           "zerolinewidth": 2
          },
          "yaxis": {
           "automargin": true,
           "gridcolor": "white",
           "linecolor": "white",
           "ticks": "",
           "zerolinecolor": "white",
           "zerolinewidth": 2
          }
         }
        },
        "title": {
         "font": {
          "color": "#4D5663"
         },
         "text": "1.3918547378388677"
        },
        "xaxis": {
         "gridcolor": "#E1E5ED",
         "showgrid": true,
         "tickfont": {
          "color": "#4D5663"
         },
         "title": {
          "font": {
           "color": "#4D5663"
          },
          "text": ""
         },
         "zerolinecolor": "#E1E5ED"
        },
        "yaxis": {
         "gridcolor": "#E1E5ED",
         "showgrid": true,
         "tickfont": {
          "color": "#4D5663"
         },
         "title": {
          "font": {
           "color": "#4D5663"
          },
          "text": ""
         },
         "zerolinecolor": "#E1E5ED"
        }
       }
      },
      "text/html": [
       "<div>\n",
       "        \n",
       "        \n",
       "            <div id=\"c48d5357-c8d5-4d4e-a388-0ab7ce806375\" class=\"plotly-graph-div\" style=\"height:525px; width:100%;\"></div>\n",
       "            <script type=\"text/javascript\">\n",
       "                require([\"plotly\"], function(Plotly) {\n",
       "                    window.PLOTLYENV=window.PLOTLYENV || {};\n",
       "                    window.PLOTLYENV.BASE_URL='https://plot.ly';\n",
       "                    \n",
       "                if (document.getElementById(\"c48d5357-c8d5-4d4e-a388-0ab7ce806375\")) {\n",
       "                    Plotly.newPlot(\n",
       "                        'c48d5357-c8d5-4d4e-a388-0ab7ce806375',\n",
       "                        [{\"line\": {\"color\": \"rgba(255, 153, 51, 1.0)\", \"dash\": \"solid\", \"shape\": \"linear\", \"width\": 1.3}, \"mode\": \"lines\", \"name\": \"MWh\", \"text\": \"\", \"type\": \"scatter\", \"x\": [\"2019-12-31\", \"2020-01-01\", \"2020-01-02\", \"2020-01-03\", \"2020-01-04\", \"2020-01-05\", \"2020-01-06\"], \"y\": [153785.0, 129479.0, 160216.0, 176153.0, 170064.0, 154375.0, 179303.0]}, {\"line\": {\"color\": \"rgba(55, 128, 191, 1.0)\", \"dash\": \"solid\", \"shape\": \"linear\", \"width\": 1.3}, \"mode\": \"lines\", \"name\": \"predict\", \"text\": \"\", \"type\": \"scatter\", \"x\": [\"2019-12-31\", \"2020-01-01\", \"2020-01-02\", \"2020-01-03\", \"2020-01-04\", \"2020-01-05\", \"2020-01-06\"], \"y\": [153692.21178941056, 124260.4074819162, 158177.7214940407, 176437.8012262957, 174057.56592705337, 156104.7559772027, 177959.04315875893]}],\n",
       "                        {\"legend\": {\"bgcolor\": \"#F5F6F9\", \"font\": {\"color\": \"#4D5663\"}}, \"paper_bgcolor\": \"#F5F6F9\", \"plot_bgcolor\": \"#F5F6F9\", \"template\": {\"data\": {\"bar\": [{\"error_x\": {\"color\": \"#2a3f5f\"}, \"error_y\": {\"color\": \"#2a3f5f\"}, \"marker\": {\"line\": {\"color\": \"#E5ECF6\", \"width\": 0.5}}, \"type\": \"bar\"}], \"barpolar\": [{\"marker\": {\"line\": {\"color\": \"#E5ECF6\", \"width\": 0.5}}, \"type\": \"barpolar\"}], \"carpet\": [{\"aaxis\": {\"endlinecolor\": \"#2a3f5f\", \"gridcolor\": \"white\", \"linecolor\": \"white\", \"minorgridcolor\": \"white\", \"startlinecolor\": \"#2a3f5f\"}, \"baxis\": {\"endlinecolor\": \"#2a3f5f\", \"gridcolor\": \"white\", \"linecolor\": \"white\", \"minorgridcolor\": \"white\", \"startlinecolor\": \"#2a3f5f\"}, \"type\": \"carpet\"}], \"choropleth\": [{\"colorbar\": {\"outlinewidth\": 0, \"ticks\": \"\"}, \"type\": \"choropleth\"}], \"contour\": [{\"colorbar\": {\"outlinewidth\": 0, \"ticks\": \"\"}, \"colorscale\": [[0.0, \"#0d0887\"], [0.1111111111111111, \"#46039f\"], [0.2222222222222222, \"#7201a8\"], [0.3333333333333333, \"#9c179e\"], [0.4444444444444444, \"#bd3786\"], [0.5555555555555556, \"#d8576b\"], [0.6666666666666666, \"#ed7953\"], [0.7777777777777778, \"#fb9f3a\"], [0.8888888888888888, \"#fdca26\"], [1.0, \"#f0f921\"]], \"type\": \"contour\"}], \"contourcarpet\": [{\"colorbar\": {\"outlinewidth\": 0, \"ticks\": \"\"}, \"type\": \"contourcarpet\"}], \"heatmap\": [{\"colorbar\": {\"outlinewidth\": 0, \"ticks\": \"\"}, \"colorscale\": [[0.0, \"#0d0887\"], [0.1111111111111111, \"#46039f\"], [0.2222222222222222, \"#7201a8\"], [0.3333333333333333, \"#9c179e\"], [0.4444444444444444, \"#bd3786\"], [0.5555555555555556, \"#d8576b\"], [0.6666666666666666, \"#ed7953\"], [0.7777777777777778, \"#fb9f3a\"], [0.8888888888888888, \"#fdca26\"], [1.0, \"#f0f921\"]], \"type\": \"heatmap\"}], \"heatmapgl\": [{\"colorbar\": {\"outlinewidth\": 0, \"ticks\": \"\"}, \"colorscale\": [[0.0, \"#0d0887\"], [0.1111111111111111, \"#46039f\"], [0.2222222222222222, \"#7201a8\"], [0.3333333333333333, \"#9c179e\"], [0.4444444444444444, \"#bd3786\"], [0.5555555555555556, \"#d8576b\"], [0.6666666666666666, \"#ed7953\"], [0.7777777777777778, \"#fb9f3a\"], [0.8888888888888888, \"#fdca26\"], [1.0, \"#f0f921\"]], \"type\": \"heatmapgl\"}], \"histogram\": [{\"marker\": {\"colorbar\": {\"outlinewidth\": 0, \"ticks\": \"\"}}, \"type\": \"histogram\"}], \"histogram2d\": [{\"colorbar\": {\"outlinewidth\": 0, \"ticks\": \"\"}, \"colorscale\": [[0.0, \"#0d0887\"], [0.1111111111111111, \"#46039f\"], [0.2222222222222222, \"#7201a8\"], [0.3333333333333333, \"#9c179e\"], [0.4444444444444444, \"#bd3786\"], [0.5555555555555556, \"#d8576b\"], [0.6666666666666666, \"#ed7953\"], [0.7777777777777778, \"#fb9f3a\"], [0.8888888888888888, \"#fdca26\"], [1.0, \"#f0f921\"]], \"type\": \"histogram2d\"}], \"histogram2dcontour\": [{\"colorbar\": {\"outlinewidth\": 0, \"ticks\": \"\"}, \"colorscale\": [[0.0, \"#0d0887\"], [0.1111111111111111, \"#46039f\"], [0.2222222222222222, \"#7201a8\"], [0.3333333333333333, \"#9c179e\"], [0.4444444444444444, \"#bd3786\"], [0.5555555555555556, \"#d8576b\"], [0.6666666666666666, \"#ed7953\"], [0.7777777777777778, \"#fb9f3a\"], [0.8888888888888888, \"#fdca26\"], [1.0, \"#f0f921\"]], \"type\": \"histogram2dcontour\"}], \"mesh3d\": [{\"colorbar\": {\"outlinewidth\": 0, \"ticks\": \"\"}, \"type\": \"mesh3d\"}], \"parcoords\": [{\"line\": {\"colorbar\": {\"outlinewidth\": 0, \"ticks\": \"\"}}, \"type\": \"parcoords\"}], \"scatter\": [{\"marker\": {\"colorbar\": {\"outlinewidth\": 0, \"ticks\": \"\"}}, \"type\": \"scatter\"}], \"scatter3d\": [{\"line\": {\"colorbar\": {\"outlinewidth\": 0, \"ticks\": \"\"}}, \"marker\": {\"colorbar\": {\"outlinewidth\": 0, \"ticks\": \"\"}}, \"type\": \"scatter3d\"}], \"scattercarpet\": [{\"marker\": {\"colorbar\": {\"outlinewidth\": 0, \"ticks\": \"\"}}, \"type\": \"scattercarpet\"}], \"scattergeo\": [{\"marker\": {\"colorbar\": {\"outlinewidth\": 0, \"ticks\": \"\"}}, \"type\": \"scattergeo\"}], \"scattergl\": [{\"marker\": {\"colorbar\": {\"outlinewidth\": 0, \"ticks\": \"\"}}, \"type\": \"scattergl\"}], \"scattermapbox\": [{\"marker\": {\"colorbar\": {\"outlinewidth\": 0, \"ticks\": \"\"}}, \"type\": \"scattermapbox\"}], \"scatterpolar\": [{\"marker\": {\"colorbar\": {\"outlinewidth\": 0, \"ticks\": \"\"}}, \"type\": \"scatterpolar\"}], \"scatterpolargl\": [{\"marker\": {\"colorbar\": {\"outlinewidth\": 0, \"ticks\": \"\"}}, \"type\": \"scatterpolargl\"}], \"scatterternary\": [{\"marker\": {\"colorbar\": {\"outlinewidth\": 0, \"ticks\": \"\"}}, \"type\": \"scatterternary\"}], \"surface\": [{\"colorbar\": {\"outlinewidth\": 0, \"ticks\": \"\"}, \"colorscale\": [[0.0, \"#0d0887\"], [0.1111111111111111, \"#46039f\"], [0.2222222222222222, \"#7201a8\"], [0.3333333333333333, \"#9c179e\"], [0.4444444444444444, \"#bd3786\"], [0.5555555555555556, \"#d8576b\"], [0.6666666666666666, \"#ed7953\"], [0.7777777777777778, \"#fb9f3a\"], [0.8888888888888888, \"#fdca26\"], [1.0, \"#f0f921\"]], \"type\": \"surface\"}], \"table\": [{\"cells\": {\"fill\": {\"color\": \"#EBF0F8\"}, \"line\": {\"color\": \"white\"}}, \"header\": {\"fill\": {\"color\": \"#C8D4E3\"}, \"line\": {\"color\": \"white\"}}, \"type\": \"table\"}]}, \"layout\": {\"annotationdefaults\": {\"arrowcolor\": \"#2a3f5f\", \"arrowhead\": 0, \"arrowwidth\": 1}, \"colorscale\": {\"diverging\": [[0, \"#8e0152\"], [0.1, \"#c51b7d\"], [0.2, \"#de77ae\"], [0.3, \"#f1b6da\"], [0.4, \"#fde0ef\"], [0.5, \"#f7f7f7\"], [0.6, \"#e6f5d0\"], [0.7, \"#b8e186\"], [0.8, \"#7fbc41\"], [0.9, \"#4d9221\"], [1, \"#276419\"]], \"sequential\": [[0.0, \"#0d0887\"], [0.1111111111111111, \"#46039f\"], [0.2222222222222222, \"#7201a8\"], [0.3333333333333333, \"#9c179e\"], [0.4444444444444444, \"#bd3786\"], [0.5555555555555556, \"#d8576b\"], [0.6666666666666666, \"#ed7953\"], [0.7777777777777778, \"#fb9f3a\"], [0.8888888888888888, \"#fdca26\"], [1.0, \"#f0f921\"]], \"sequentialminus\": [[0.0, \"#0d0887\"], [0.1111111111111111, \"#46039f\"], [0.2222222222222222, \"#7201a8\"], [0.3333333333333333, \"#9c179e\"], [0.4444444444444444, \"#bd3786\"], [0.5555555555555556, \"#d8576b\"], [0.6666666666666666, \"#ed7953\"], [0.7777777777777778, \"#fb9f3a\"], [0.8888888888888888, \"#fdca26\"], [1.0, \"#f0f921\"]]}, \"colorway\": [\"#636efa\", \"#EF553B\", \"#00cc96\", \"#ab63fa\", \"#FFA15A\", \"#19d3f3\", \"#FF6692\", \"#B6E880\", \"#FF97FF\", \"#FECB52\"], \"font\": {\"color\": \"#2a3f5f\"}, \"geo\": {\"bgcolor\": \"white\", \"lakecolor\": \"white\", \"landcolor\": \"#E5ECF6\", \"showlakes\": true, \"showland\": true, \"subunitcolor\": \"white\"}, \"hoverlabel\": {\"align\": \"left\"}, \"hovermode\": \"closest\", \"mapbox\": {\"style\": \"light\"}, \"paper_bgcolor\": \"white\", \"plot_bgcolor\": \"#E5ECF6\", \"polar\": {\"angularaxis\": {\"gridcolor\": \"white\", \"linecolor\": \"white\", \"ticks\": \"\"}, \"bgcolor\": \"#E5ECF6\", \"radialaxis\": {\"gridcolor\": \"white\", \"linecolor\": \"white\", \"ticks\": \"\"}}, \"scene\": {\"xaxis\": {\"backgroundcolor\": \"#E5ECF6\", \"gridcolor\": \"white\", \"gridwidth\": 2, \"linecolor\": \"white\", \"showbackground\": true, \"ticks\": \"\", \"zerolinecolor\": \"white\"}, \"yaxis\": {\"backgroundcolor\": \"#E5ECF6\", \"gridcolor\": \"white\", \"gridwidth\": 2, \"linecolor\": \"white\", \"showbackground\": true, \"ticks\": \"\", \"zerolinecolor\": \"white\"}, \"zaxis\": {\"backgroundcolor\": \"#E5ECF6\", \"gridcolor\": \"white\", \"gridwidth\": 2, \"linecolor\": \"white\", \"showbackground\": true, \"ticks\": \"\", \"zerolinecolor\": \"white\"}}, \"shapedefaults\": {\"line\": {\"color\": \"#2a3f5f\"}}, \"ternary\": {\"aaxis\": {\"gridcolor\": \"white\", \"linecolor\": \"white\", \"ticks\": \"\"}, \"baxis\": {\"gridcolor\": \"white\", \"linecolor\": \"white\", \"ticks\": \"\"}, \"bgcolor\": \"#E5ECF6\", \"caxis\": {\"gridcolor\": \"white\", \"linecolor\": \"white\", \"ticks\": \"\"}}, \"title\": {\"x\": 0.05}, \"xaxis\": {\"automargin\": true, \"gridcolor\": \"white\", \"linecolor\": \"white\", \"ticks\": \"\", \"zerolinecolor\": \"white\", \"zerolinewidth\": 2}, \"yaxis\": {\"automargin\": true, \"gridcolor\": \"white\", \"linecolor\": \"white\", \"ticks\": \"\", \"zerolinecolor\": \"white\", \"zerolinewidth\": 2}}}, \"title\": {\"font\": {\"color\": \"#4D5663\"}, \"text\": \"1.3918547378388677\"}, \"xaxis\": {\"gridcolor\": \"#E1E5ED\", \"showgrid\": true, \"tickfont\": {\"color\": \"#4D5663\"}, \"title\": {\"font\": {\"color\": \"#4D5663\"}, \"text\": \"\"}, \"zerolinecolor\": \"#E1E5ED\"}, \"yaxis\": {\"gridcolor\": \"#E1E5ED\", \"showgrid\": true, \"tickfont\": {\"color\": \"#4D5663\"}, \"title\": {\"font\": {\"color\": \"#4D5663\"}, \"text\": \"\"}, \"zerolinecolor\": \"#E1E5ED\"}},\n",
       "                        {\"showLink\": true, \"linkText\": \"Export to plot.ly\", \"plotlyServerURL\": \"https://plot.ly\", \"responsive\": true}\n",
       "                    ).then(function(){\n",
       "                            \n",
       "var gd = document.getElementById('c48d5357-c8d5-4d4e-a388-0ab7ce806375');\n",
       "var x = new MutationObserver(function (mutations, observer) {{\n",
       "        var display = window.getComputedStyle(gd).display;\n",
       "        if (!display || display === 'none') {{\n",
       "            console.log([gd, 'removed!']);\n",
       "            Plotly.purge(gd);\n",
       "            observer.disconnect();\n",
       "        }}\n",
       "}});\n",
       "\n",
       "// Listen for the removal of the full notebook cells\n",
       "var notebookContainer = gd.closest('#notebook-container');\n",
       "if (notebookContainer) {{\n",
       "    x.observe(notebookContainer, {childList: true});\n",
       "}}\n",
       "\n",
       "// Listen for the clearing of the current output cell\n",
       "var outputEl = gd.closest('.output');\n",
       "if (outputEl) {{\n",
       "    x.observe(outputEl, {childList: true});\n",
       "}}\n",
       "\n",
       "                        })\n",
       "                };\n",
       "                });\n",
       "            </script>\n",
       "        </div>"
      ]
     },
     "metadata": {},
     "output_type": "display_data"
    }
   ],
   "source": [
    "i = 13\n",
    "vov[i][[\"MWh\", \"predict\"]].iplot(title = vov[i].error.mean())"
   ]
  },
  {
   "cell_type": "code",
   "execution_count": null,
   "metadata": {},
   "outputs": [],
   "source": []
  }
 ],
 "metadata": {
  "kernelspec": {
   "display_name": "Python 3",
   "language": "python",
   "name": "python3"
  },
  "language_info": {
   "codemirror_mode": {
    "name": "ipython",
    "version": 3
   },
   "file_extension": ".py",
   "mimetype": "text/x-python",
   "name": "python",
   "nbconvert_exporter": "python",
   "pygments_lexer": "ipython3",
   "version": "3.7.7"
  },
  "toc": {
   "base_numbering": 1,
   "nav_menu": {},
   "number_sections": true,
   "sideBar": true,
   "skip_h1_title": false,
   "title_cell": "Table of Contents",
   "title_sidebar": "Contents",
   "toc_cell": false,
   "toc_position": {},
   "toc_section_display": true,
   "toc_window_display": false
  }
 },
 "nbformat": 4,
 "nbformat_minor": 2
}
