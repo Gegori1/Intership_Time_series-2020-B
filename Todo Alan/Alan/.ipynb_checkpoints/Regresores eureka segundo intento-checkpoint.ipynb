{
 "cells": [
  {
   "cell_type": "code",
   "execution_count": 7,
   "metadata": {},
   "outputs": [],
   "source": [
    "import time\n",
    "start = time.time()\n",
    "#importar datos y librerias\n",
    "import numpy as np\n",
    "import pandas as pd\n",
    "from datetime import datetime\n",
    "import matplotlib.pyplot as plt\n",
    "from scipy import signal\n",
    "import sklearn\n",
    "from sklearn.linear_model import LinearRegression\n",
    "from statsmodels.tsa.seasonal import seasonal_decompose\n",
    "from scipy.signal import find_peaks\n",
    "from scipy.stats import boxcox\n",
    "from scipy import special\n",
    "from sklearn.model_selection import train_test_split"
   ]
  },
  {
   "cell_type": "code",
   "execution_count": 8,
   "metadata": {},
   "outputs": [],
   "source": [
    "festivos=pd.read_excel(\"festivos.xlsx\")\n",
    "festivos2=pd.read_excel(\"festivos2.xlsx\")\n",
    "clima=pd.read_excel(\"Consumo.xlsx\",index_col=0)\n",
    "consumo=pd.read_excel(\"Data1.xlsx\").drop(\"Unnamed: 2\",axis=1)\n",
    "consumo1=pd.read_excel(\"Data1.xlsx\").drop(\"Unnamed: 2\",axis=1)\n",
    "consumo1[\"fecha1\"]=consumo.fecha.copy()\n",
    "consumo1=consumo1.set_index(\"fecha\")"
   ]
  },
  {
   "cell_type": "code",
   "execution_count": 9,
   "metadata": {},
   "outputs": [],
   "source": [
    "def Mape(y,y_pred,sample_weight):\n",
    "    return np.mean(np.abs((y-y_pred)/y))*100"
   ]
  },
  {
   "cell_type": "code",
   "execution_count": 10,
   "metadata": {},
   "outputs": [],
   "source": [
    "def kronecker(data1:'Dataframe 1',data2:'Dataframe 2'):\n",
    "    Combinacion = pd.DataFrame(); d1 = pd.DataFrame()\n",
    "    for i in data2.columns:\n",
    "        d1 = data1.multiply(data2[f\"{i}\"] , axis=\"index\")\n",
    "        d1.columns = [f'{i}_{j}' for j in data1.columns]\n",
    "        Combinacion = pd.concat([Combinacion, d1], axis = 1)\n",
    "    return Combinacion"
   ]
  },
  {
   "cell_type": "code",
   "execution_count": 11,
   "metadata": {},
   "outputs": [],
   "source": [
    "def isFestivo(x):\n",
    "    if x:\n",
    "        return 1\n",
    "    else:\n",
    "        return 0\n",
    "    \n",
    "def isFestivo1(x):\n",
    "    if (np.datetime64(x) in festivos.values):\n",
    "        return 1\n",
    "    else:\n",
    "        return 0\n",
    "    "
   ]
  },
  {
   "cell_type": "code",
   "execution_count": 12,
   "metadata": {},
   "outputs": [],
   "source": [
    "import numpy as np\n",
    "from scipy.ndimage.interpolation import shift"
   ]
  },
  {
   "cell_type": "code",
   "execution_count": 13,
   "metadata": {},
   "outputs": [],
   "source": [
    "for column in festivos.columns:\n",
    "    festivos[column] = pd.to_datetime(festivos[column])\n",
    "for col in festivos.columns:\n",
    "    consumo1[col] = consumo1.index.isin(festivos[col])\n",
    "    consumo1[col]=consumo1[col].apply(isFestivo)\n",
    "    clean=consumo1[col].values\n",
    "    consumo1[col]=consumo1[col]+shift(clean, 1, cval=0)*.5\n",
    "    consumo1[col]=consumo1[col]+shift(clean, -1, cval=0)*.5\n",
    "    consumo1[col]=consumo1[col]+shift(clean, 2, cval=0)*.25\n",
    "    consumo1[col]=consumo1[col]+shift(clean, -2, cval=0)*.25"
   ]
  },
  {
   "cell_type": "code",
   "execution_count": 14,
   "metadata": {},
   "outputs": [],
   "source": [
    "for column in festivos2.columns:\n",
    "    festivos2[column] = pd.to_datetime(festivos2[column])\n",
    "for col in festivos2.columns:\n",
    "    consumo1[col] = consumo1.index.isin(festivos2[col])\n",
    "    consumo1[col]=consumo1[col].apply(isFestivo)"
   ]
  },
  {
   "cell_type": "code",
   "execution_count": 15,
   "metadata": {
    "scrolled": true
   },
   "outputs": [
    {
     "data": {
      "text/html": [
       "<div>\n",
       "<style scoped>\n",
       "    .dataframe tbody tr th:only-of-type {\n",
       "        vertical-align: middle;\n",
       "    }\n",
       "\n",
       "    .dataframe tbody tr th {\n",
       "        vertical-align: top;\n",
       "    }\n",
       "\n",
       "    .dataframe thead th {\n",
       "        text-align: right;\n",
       "    }\n",
       "</style>\n",
       "<table border=\"1\" class=\"dataframe\">\n",
       "  <thead>\n",
       "    <tr style=\"text-align: right;\">\n",
       "      <th></th>\n",
       "      <th>MWh</th>\n",
       "      <th>fecha1</th>\n",
       "      <th>Dom santo</th>\n",
       "      <th>NewYear</th>\n",
       "      <th>Constitucion</th>\n",
       "      <th>Jue santo</th>\n",
       "      <th>Vie santo</th>\n",
       "      <th>Madre</th>\n",
       "      <th>Grito</th>\n",
       "      <th>virgen</th>\n",
       "      <th>...</th>\n",
       "      <th>max</th>\n",
       "      <th>ones</th>\n",
       "      <th>week</th>\n",
       "      <th>month</th>\n",
       "      <th>day</th>\n",
       "      <th>lluvia</th>\n",
       "      <th>Velocidad</th>\n",
       "      <th>Nubosidad</th>\n",
       "      <th>num</th>\n",
       "      <th>festivo</th>\n",
       "    </tr>\n",
       "    <tr>\n",
       "      <th>fecha</th>\n",
       "      <th></th>\n",
       "      <th></th>\n",
       "      <th></th>\n",
       "      <th></th>\n",
       "      <th></th>\n",
       "      <th></th>\n",
       "      <th></th>\n",
       "      <th></th>\n",
       "      <th></th>\n",
       "      <th></th>\n",
       "      <th></th>\n",
       "      <th></th>\n",
       "      <th></th>\n",
       "      <th></th>\n",
       "      <th></th>\n",
       "      <th></th>\n",
       "      <th></th>\n",
       "      <th></th>\n",
       "      <th></th>\n",
       "      <th></th>\n",
       "      <th></th>\n",
       "    </tr>\n",
       "  </thead>\n",
       "  <tbody>\n",
       "    <tr>\n",
       "      <th>2019-09-18</th>\n",
       "      <td>199330.987</td>\n",
       "      <td>2019-09-18</td>\n",
       "      <td>0.0</td>\n",
       "      <td>0.0</td>\n",
       "      <td>0.0</td>\n",
       "      <td>0.0</td>\n",
       "      <td>0.0</td>\n",
       "      <td>0.0</td>\n",
       "      <td>0.25</td>\n",
       "      <td>0.0</td>\n",
       "      <td>...</td>\n",
       "      <td>27.634117</td>\n",
       "      <td>1</td>\n",
       "      <td>38</td>\n",
       "      <td>9</td>\n",
       "      <td>2</td>\n",
       "      <td>7.439257</td>\n",
       "      <td>25.634125</td>\n",
       "      <td>26.558520</td>\n",
       "      <td>5740</td>\n",
       "      <td>0</td>\n",
       "    </tr>\n",
       "    <tr>\n",
       "      <th>2019-09-19</th>\n",
       "      <td>197681.325</td>\n",
       "      <td>2019-09-19</td>\n",
       "      <td>0.0</td>\n",
       "      <td>0.0</td>\n",
       "      <td>0.0</td>\n",
       "      <td>0.0</td>\n",
       "      <td>0.0</td>\n",
       "      <td>0.0</td>\n",
       "      <td>0.00</td>\n",
       "      <td>0.0</td>\n",
       "      <td>...</td>\n",
       "      <td>25.191282</td>\n",
       "      <td>1</td>\n",
       "      <td>38</td>\n",
       "      <td>9</td>\n",
       "      <td>3</td>\n",
       "      <td>14.475781</td>\n",
       "      <td>23.887963</td>\n",
       "      <td>38.925736</td>\n",
       "      <td>5741</td>\n",
       "      <td>0</td>\n",
       "    </tr>\n",
       "    <tr>\n",
       "      <th>2019-09-20</th>\n",
       "      <td>195693.814</td>\n",
       "      <td>2019-09-20</td>\n",
       "      <td>0.0</td>\n",
       "      <td>0.0</td>\n",
       "      <td>0.0</td>\n",
       "      <td>0.0</td>\n",
       "      <td>0.0</td>\n",
       "      <td>0.0</td>\n",
       "      <td>0.00</td>\n",
       "      <td>0.0</td>\n",
       "      <td>...</td>\n",
       "      <td>26.692100</td>\n",
       "      <td>1</td>\n",
       "      <td>38</td>\n",
       "      <td>9</td>\n",
       "      <td>4</td>\n",
       "      <td>4.161928</td>\n",
       "      <td>23.887796</td>\n",
       "      <td>21.342801</td>\n",
       "      <td>5742</td>\n",
       "      <td>0</td>\n",
       "    </tr>\n",
       "    <tr>\n",
       "      <th>2019-09-21</th>\n",
       "      <td>185969.621</td>\n",
       "      <td>2019-09-21</td>\n",
       "      <td>0.0</td>\n",
       "      <td>0.0</td>\n",
       "      <td>0.0</td>\n",
       "      <td>0.0</td>\n",
       "      <td>0.0</td>\n",
       "      <td>0.0</td>\n",
       "      <td>0.00</td>\n",
       "      <td>0.0</td>\n",
       "      <td>...</td>\n",
       "      <td>27.659577</td>\n",
       "      <td>1</td>\n",
       "      <td>38</td>\n",
       "      <td>9</td>\n",
       "      <td>5</td>\n",
       "      <td>1.265046</td>\n",
       "      <td>23.815369</td>\n",
       "      <td>15.932895</td>\n",
       "      <td>5743</td>\n",
       "      <td>0</td>\n",
       "    </tr>\n",
       "    <tr>\n",
       "      <th>2019-09-22</th>\n",
       "      <td>164464.339</td>\n",
       "      <td>2019-09-22</td>\n",
       "      <td>0.0</td>\n",
       "      <td>0.0</td>\n",
       "      <td>0.0</td>\n",
       "      <td>0.0</td>\n",
       "      <td>0.0</td>\n",
       "      <td>0.0</td>\n",
       "      <td>0.00</td>\n",
       "      <td>0.0</td>\n",
       "      <td>...</td>\n",
       "      <td>27.179216</td>\n",
       "      <td>1</td>\n",
       "      <td>38</td>\n",
       "      <td>9</td>\n",
       "      <td>6</td>\n",
       "      <td>0.751711</td>\n",
       "      <td>23.453237</td>\n",
       "      <td>15.690183</td>\n",
       "      <td>5744</td>\n",
       "      <td>0</td>\n",
       "    </tr>\n",
       "  </tbody>\n",
       "</table>\n",
       "<p>5 rows × 35 columns</p>\n",
       "</div>"
      ],
      "text/plain": [
       "                   MWh     fecha1  Dom santo  NewYear  Constitucion  \\\n",
       "fecha                                                                 \n",
       "2019-09-18  199330.987 2019-09-18        0.0      0.0           0.0   \n",
       "2019-09-19  197681.325 2019-09-19        0.0      0.0           0.0   \n",
       "2019-09-20  195693.814 2019-09-20        0.0      0.0           0.0   \n",
       "2019-09-21  185969.621 2019-09-21        0.0      0.0           0.0   \n",
       "2019-09-22  164464.339 2019-09-22        0.0      0.0           0.0   \n",
       "\n",
       "            Jue santo  Vie santo  Madre  Grito  virgen  ...        max  ones  \\\n",
       "fecha                                                   ...                    \n",
       "2019-09-18        0.0        0.0    0.0   0.25     0.0  ...  27.634117     1   \n",
       "2019-09-19        0.0        0.0    0.0   0.00     0.0  ...  25.191282     1   \n",
       "2019-09-20        0.0        0.0    0.0   0.00     0.0  ...  26.692100     1   \n",
       "2019-09-21        0.0        0.0    0.0   0.00     0.0  ...  27.659577     1   \n",
       "2019-09-22        0.0        0.0    0.0   0.00     0.0  ...  27.179216     1   \n",
       "\n",
       "            week  month  day     lluvia  Velocidad  Nubosidad   num  festivo  \n",
       "fecha                                                                         \n",
       "2019-09-18    38      9    2   7.439257  25.634125  26.558520  5740        0  \n",
       "2019-09-19    38      9    3  14.475781  23.887963  38.925736  5741        0  \n",
       "2019-09-20    38      9    4   4.161928  23.887796  21.342801  5742        0  \n",
       "2019-09-21    38      9    5   1.265046  23.815369  15.932895  5743        0  \n",
       "2019-09-22    38      9    6   0.751711  23.453237  15.690183  5744        0  \n",
       "\n",
       "[5 rows x 35 columns]"
      ]
     },
     "execution_count": 15,
     "metadata": {},
     "output_type": "execute_result"
    }
   ],
   "source": [
    "consumo1[\"min\"]=clima[\"mín\"].copy()\n",
    "consumo1[\"max\"]=clima[\"max\"].copy()\n",
    "consumo1[\"ones\"]=1\n",
    "consumo1[\"week\"]=consumo1.fecha1.dt.week\n",
    "consumo1[\"month\"]=consumo1.fecha1.apply(lambda x:x.month)\n",
    "consumo1[\"day\"]=consumo1.fecha1.dt.weekday\n",
    "consumo1[\"lluvia\"]=clima.Lluvia.copy()\n",
    "consumo1[\"Velocidad\"]=clima[\"Velocidad viento\"].copy()\n",
    "consumo1[\"Nubosidad\"]=clima.Nubosidad.copy()\n",
    "consumo1[\"num\"]=np.arange(0,len(consumo1.index))+1\n",
    "consumo1[\"festivo\"]=consumo1.fecha1.apply(isFestivo1)\n",
    "consumo1.tail()"
   ]
  },
  {
   "cell_type": "markdown",
   "metadata": {},
   "source": [
    "## Regresores no lineales sin normalizar"
   ]
  },
  {
   "cell_type": "code",
   "execution_count": 16,
   "metadata": {},
   "outputs": [],
   "source": [
    "consumo1[\"eureka1\"]=consumo1.week*consumo1.Nubosidad\n",
    "consumo1[\"eureka2\"]=consumo1.day**3\n",
    "consumo1[\"eureka3\"]=consumo1[\"max\"]*consumo1.num"
   ]
  },
  {
   "cell_type": "markdown",
   "metadata": {},
   "source": [
    "## Estandarizando y agreando regresores no lineales"
   ]
  },
  {
   "cell_type": "code",
   "execution_count": 17,
   "metadata": {},
   "outputs": [],
   "source": [
    "X=consumo1.drop([\"fecha1\",\"MWh\"],axis=1)\n",
    "y=consumo1.MWh"
   ]
  },
  {
   "cell_type": "code",
   "execution_count": 18,
   "metadata": {},
   "outputs": [],
   "source": [
    "Xmax=X.max()\n",
    "my=y.mean()\n",
    "sy=y.std()"
   ]
  },
  {
   "cell_type": "code",
   "execution_count": 19,
   "metadata": {},
   "outputs": [],
   "source": [
    "X_norm=X/Xmax\n",
    "y_norm=(y-my)/sy"
   ]
  },
  {
   "cell_type": "code",
   "execution_count": 14,
   "metadata": {},
   "outputs": [
    {
     "data": {
      "text/html": [
       "<div>\n",
       "<style scoped>\n",
       "    .dataframe tbody tr th:only-of-type {\n",
       "        vertical-align: middle;\n",
       "    }\n",
       "\n",
       "    .dataframe tbody tr th {\n",
       "        vertical-align: top;\n",
       "    }\n",
       "\n",
       "    .dataframe thead th {\n",
       "        text-align: right;\n",
       "    }\n",
       "</style>\n",
       "<table border=\"1\" class=\"dataframe\">\n",
       "  <thead>\n",
       "    <tr style=\"text-align: right;\">\n",
       "      <th></th>\n",
       "      <th>Dom santo</th>\n",
       "      <th>NewYear</th>\n",
       "      <th>Constitucion</th>\n",
       "      <th>Jue santo</th>\n",
       "      <th>Vie santo</th>\n",
       "      <th>Madre</th>\n",
       "      <th>Grito</th>\n",
       "      <th>virgen</th>\n",
       "      <th>muertos</th>\n",
       "      <th>Virgen2</th>\n",
       "      <th>...</th>\n",
       "      <th>gplearn1</th>\n",
       "      <th>gplearn2</th>\n",
       "      <th>gplearn3</th>\n",
       "      <th>gplearn8</th>\n",
       "      <th>gplearn4</th>\n",
       "      <th>gplearn5</th>\n",
       "      <th>gplearn6</th>\n",
       "      <th>gplearn7</th>\n",
       "      <th>gplearn9</th>\n",
       "      <th>gplearn10</th>\n",
       "    </tr>\n",
       "    <tr>\n",
       "      <th>fecha</th>\n",
       "      <th></th>\n",
       "      <th></th>\n",
       "      <th></th>\n",
       "      <th></th>\n",
       "      <th></th>\n",
       "      <th></th>\n",
       "      <th></th>\n",
       "      <th></th>\n",
       "      <th></th>\n",
       "      <th></th>\n",
       "      <th></th>\n",
       "      <th></th>\n",
       "      <th></th>\n",
       "      <th></th>\n",
       "      <th></th>\n",
       "      <th></th>\n",
       "      <th></th>\n",
       "      <th></th>\n",
       "      <th></th>\n",
       "      <th></th>\n",
       "      <th></th>\n",
       "    </tr>\n",
       "  </thead>\n",
       "  <tbody>\n",
       "    <tr>\n",
       "      <th>2004-01-01</th>\n",
       "      <td>0.0</td>\n",
       "      <td>1.0</td>\n",
       "      <td>0.0</td>\n",
       "      <td>0.0</td>\n",
       "      <td>0.0</td>\n",
       "      <td>0.0</td>\n",
       "      <td>0.0</td>\n",
       "      <td>0.0</td>\n",
       "      <td>0.0</td>\n",
       "      <td>0.0</td>\n",
       "      <td>...</td>\n",
       "      <td>0.000153</td>\n",
       "      <td>0.00007</td>\n",
       "      <td>2.028041</td>\n",
       "      <td>0.000402</td>\n",
       "      <td>0.420735</td>\n",
       "      <td>0.021817</td>\n",
       "      <td>0.079023</td>\n",
       "      <td>1.139494</td>\n",
       "      <td>0.055157</td>\n",
       "      <td>0.045248</td>\n",
       "    </tr>\n",
       "  </tbody>\n",
       "</table>\n",
       "<p>1 rows × 46 columns</p>\n",
       "</div>"
      ],
      "text/plain": [
       "            Dom santo  NewYear  Constitucion  Jue santo  Vie santo  Madre  \\\n",
       "fecha                                                                       \n",
       "2004-01-01        0.0      1.0           0.0        0.0        0.0    0.0   \n",
       "\n",
       "            Grito  virgen  muertos  Virgen2  ...  gplearn1  gplearn2  \\\n",
       "fecha                                        ...                       \n",
       "2004-01-01    0.0     0.0      0.0      0.0  ...  0.000153   0.00007   \n",
       "\n",
       "            gplearn3  gplearn8  gplearn4  gplearn5  gplearn6  gplearn7  \\\n",
       "fecha                                                                    \n",
       "2004-01-01  2.028041  0.000402  0.420735  0.021817  0.079023  1.139494   \n",
       "\n",
       "            gplearn9  gplearn10  \n",
       "fecha                            \n",
       "2004-01-01  0.055157   0.045248  \n",
       "\n",
       "[1 rows x 46 columns]"
      ]
     },
     "execution_count": 14,
     "metadata": {},
     "output_type": "execute_result"
    }
   ],
   "source": [
    "X_norm[\"gplearn1\"]=np.cos(X_norm.day)*X_norm.num\n",
    "X_norm[\"gplearn2\"]=X_norm.num*X_norm[\"min\"]\n",
    "X_norm[\"gplearn3\"]=3.319**X_norm[\"max\"]*np.cos(X_norm.day)\n",
    "X_norm[\"gplearn8\"]=3.319**X_norm[\"max\"]*X_norm.num \n",
    "X_norm[\"gplearn4\"]=np.cos(X_norm.day)*np.sin(X_norm.day)\n",
    "X_norm[\"gplearn5\"]=X_norm.month*X_norm.Nubosidad*np.cos(X_norm.week)\n",
    "X_norm[\"gplearn6\"]=X_norm[\"max\"]**2*X_norm[\"min\"]**2\n",
    "X_norm[\"gplearn7\"]=1/np.cos(X_norm.day)\n",
    "X_norm[\"gplearn9\"]=X_norm[\"max\"]**3*X_norm[\"min\"]**2*np.cos(X_norm.week)**2\n",
    "X_norm[\"gplearn10\"]=X_norm[\"max\"]*X_norm[\"min\"]**3*np.cos(X_norm.month)**2\n",
    "#X_norm[\"gplearn11\"]=X_norm.month*X_norm.Nubosidad*X_norm[\"max\"]*X_norm[\"min\"]**2\n",
    "#X_norm[\"gplearn12\"]=X_norm.Nubosidad*X_norm[\"min\"]**3\n",
    "X_norm.head(1)"
   ]
  },
  {
   "cell_type": "code",
   "execution_count": 15,
   "metadata": {},
   "outputs": [],
   "source": [
    "X_norm1=pd.get_dummies(X_norm,columns=[\"week\",\"month\",\"day\"])"
   ]
  },
  {
   "cell_type": "code",
   "execution_count": 16,
   "metadata": {},
   "outputs": [],
   "source": [
    "reg = LinearRegression().fit(X_norm1.values, y_norm.values)\n",
    "y_predict=reg.predict(X_norm1.values)"
   ]
  },
  {
   "cell_type": "code",
   "execution_count": 17,
   "metadata": {},
   "outputs": [
    {
     "name": "stdout",
     "output_type": "stream",
     "text": [
      "2.738589443910634\n"
     ]
    },
    {
     "data": {
      "image/png": "[encoded data removed]",
      "text/plain": [
       "<Figure size 432x288 with 1 Axes>"
      ]
     },
     "metadata": {
      "needs_background": "light"
     },
     "output_type": "display_data"
    }
   ],
   "source": [
    "plt.plot(y_norm.values)\n",
    "plt.plot(y_predict)\n",
    "print(Mape(y_norm*sy+my,y_predict*sy+my,1))"
   ]
  },
  {
   "cell_type": "markdown",
   "metadata": {},
   "source": [
    "## Agregando los senos y cosenos"
   ]
  },
  {
   "cell_type": "code",
   "execution_count": 18,
   "metadata": {},
   "outputs": [
    {
     "data": {
      "image/png": "[encoded data removed]",
      "text/plain": [
       "<Figure size 432x288 with 1 Axes>"
      ]
     },
     "metadata": {
      "needs_background": "light"
     },
     "output_type": "display_data"
    }
   ],
   "source": [
    "Tabla=pd.DataFrame(columns=['regresion','datos','resta'])\n",
    "Tabla[\"regresion\"]=y_predict*sy+my\n",
    "Tabla[\"datos\"]=y_norm.values*sy+my\n",
    "Tabla[\"resta\"]=Tabla.datos-Tabla.regresion\n",
    "plt.plot(Tabla.resta)\n",
    "plt.show()"
   ]
  },
  {
   "cell_type": "code",
   "execution_count": 19,
   "metadata": {},
   "outputs": [
    {
     "name": "stderr",
     "output_type": "stream",
     "text": [
      "C:\\Users\\alber\\Anaconda3\\lib\\site-packages\\ipykernel_launcher.py:2: RuntimeWarning: divide by zero encountered in true_divide\n",
      "  \n"
     ]
    },
    {
     "data": {
      "image/png": "[encoded data removed]",
      "text/plain": [
       "<Figure size 432x288 with 1 Axes>"
      ]
     },
     "metadata": {
      "needs_background": "light"
     },
     "output_type": "display_data"
    }
   ],
   "source": [
    "f, Pxx_den = signal.periodogram(Tabla.resta, 1)\n",
    "plt.plot(1/f, Pxx_den)\n",
    "plt.xlabel('periodo')\n",
    "plt.ylabel('PSD')\n",
    "plt.show()"
   ]
  },
  {
   "cell_type": "code",
   "execution_count": 20,
   "metadata": {},
   "outputs": [
    {
     "name": "stdout",
     "output_type": "stream",
     "text": [
      "          power      periods\n",
      "0  9.925476e+09  1436.000000\n",
      "1  6.314381e+09   957.333333\n",
      "2  4.822076e+09  1148.800000\n",
      "3  3.838641e+09  5744.000000\n",
      "4  3.711381e+09   820.571429\n",
      "5  3.315619e+09   522.181818\n",
      "6  2.185650e+09     6.996346\n",
      "7  1.455076e+09   229.760000\n",
      "8  1.404405e+09     7.004878\n",
      "9  1.349386e+09   140.097561\n"
     ]
    }
   ],
   "source": [
    "top_50_periods = {}\n",
    "# get indices for 3 highest Pxx values\n",
    "top50_freq_indices = np.flip(np.argsort(Pxx_den), 0)[2:12]\n",
    "\n",
    "freqs = f[top50_freq_indices]\n",
    "power = Pxx_den[top50_freq_indices]\n",
    "periods = 1 / np.array(freqs)\n",
    "matrix=pd.DataFrame(columns=[\"power\",\"periods\"])\n",
    "matrix.power=power\n",
    "matrix.periods=periods\n",
    "print(matrix)"
   ]
  },
  {
   "cell_type": "code",
   "execution_count": 21,
   "metadata": {},
   "outputs": [],
   "source": [
    "sencos = pd.DataFrame()\n",
    "t = np.arange(1,len(consumo.MWh)+1)\n",
    "sencos[\"t\"]=np.arange(1,len(consumo.MWh)+1)\n",
    "for i  in  matrix.periods:\n",
    "        sencos[\"{}_sen\".format(i)] = np.abs(np.sin(((2*np.pi)/i)*t))\n",
    "        sencos[\"{}_cos\".format(i)] = np.abs(np.cos(((2*np.pi)/i)*t))\n",
    "sencos['sen']=np.abs(np.sin(((2*np.pi)/14)*t))\n",
    "sencos['cos']=np.abs(np.cos(((2*np.pi)/14)*t))\n",
    "sencos['sen1']=np.abs(np.sin(((2*np.pi)/365)*t))\n",
    "sencos['cos1']=np.abs(np.cos(((2*np.pi)/365)*t))\n",
    "sencos['sen2']=np.abs(np.sin(((2*np.pi)/28)*t))\n",
    "sencos['cos2']=np.abs(np.cos(((2*np.pi)/28)*t))\n",
    "sencos[\"fecha\"]=consumo.fecha.copy()\n",
    "sencos=sencos.set_index(\"fecha\")"
   ]
  },
  {
   "cell_type": "code",
   "execution_count": 22,
   "metadata": {},
   "outputs": [],
   "source": [
    "X=consumo1.drop([\"fecha1\",\"MWh\",\"num\"],axis=1)\n",
    "y=consumo1.MWh"
   ]
  },
  {
   "cell_type": "code",
   "execution_count": 23,
   "metadata": {},
   "outputs": [],
   "source": [
    "Xmax=X.max()\n",
    "my=y.mean()\n",
    "sy=y.std()"
   ]
  },
  {
   "cell_type": "code",
   "execution_count": 24,
   "metadata": {},
   "outputs": [],
   "source": [
    "X_norm=X/Xmax\n",
    "y_norm=(y-my)/sy"
   ]
  },
  {
   "cell_type": "code",
   "execution_count": 25,
   "metadata": {},
   "outputs": [],
   "source": [
    "num=consumo1.num/consumo1.num.max()"
   ]
  },
  {
   "cell_type": "code",
   "execution_count": 26,
   "metadata": {},
   "outputs": [
    {
     "data": {
      "text/html": [
       "<div>\n",
       "<style scoped>\n",
       "    .dataframe tbody tr th:only-of-type {\n",
       "        vertical-align: middle;\n",
       "    }\n",
       "\n",
       "    .dataframe tbody tr th {\n",
       "        vertical-align: top;\n",
       "    }\n",
       "\n",
       "    .dataframe thead th {\n",
       "        text-align: right;\n",
       "    }\n",
       "</style>\n",
       "<table border=\"1\" class=\"dataframe\">\n",
       "  <thead>\n",
       "    <tr style=\"text-align: right;\">\n",
       "      <th></th>\n",
       "      <th>Dom santo</th>\n",
       "      <th>NewYear</th>\n",
       "      <th>Constitucion</th>\n",
       "      <th>Jue santo</th>\n",
       "      <th>Vie santo</th>\n",
       "      <th>Madre</th>\n",
       "      <th>Grito</th>\n",
       "      <th>virgen</th>\n",
       "      <th>muertos</th>\n",
       "      <th>Virgen2</th>\n",
       "      <th>...</th>\n",
       "      <th>gplearn3</th>\n",
       "      <th>gplearn8</th>\n",
       "      <th>gplearn4</th>\n",
       "      <th>gplearn5</th>\n",
       "      <th>gplearn6</th>\n",
       "      <th>gplearn7</th>\n",
       "      <th>gplearn9</th>\n",
       "      <th>gplearn10</th>\n",
       "      <th>gplearn11</th>\n",
       "      <th>gplearn12</th>\n",
       "    </tr>\n",
       "    <tr>\n",
       "      <th>fecha</th>\n",
       "      <th></th>\n",
       "      <th></th>\n",
       "      <th></th>\n",
       "      <th></th>\n",
       "      <th></th>\n",
       "      <th></th>\n",
       "      <th></th>\n",
       "      <th></th>\n",
       "      <th></th>\n",
       "      <th></th>\n",
       "      <th></th>\n",
       "      <th></th>\n",
       "      <th></th>\n",
       "      <th></th>\n",
       "      <th></th>\n",
       "      <th></th>\n",
       "      <th></th>\n",
       "      <th></th>\n",
       "      <th></th>\n",
       "      <th></th>\n",
       "      <th></th>\n",
       "    </tr>\n",
       "  </thead>\n",
       "  <tbody>\n",
       "    <tr>\n",
       "      <th>2004-01-01</th>\n",
       "      <td>0.0</td>\n",
       "      <td>1.0</td>\n",
       "      <td>0.0</td>\n",
       "      <td>0.0</td>\n",
       "      <td>0.0</td>\n",
       "      <td>0.0</td>\n",
       "      <td>0.0</td>\n",
       "      <td>0.0</td>\n",
       "      <td>0.0</td>\n",
       "      <td>0.0</td>\n",
       "      <td>...</td>\n",
       "      <td>2.028041</td>\n",
       "      <td>0.000402</td>\n",
       "      <td>0.420735</td>\n",
       "      <td>0.021817</td>\n",
       "      <td>0.079023</td>\n",
       "      <td>1.139494</td>\n",
       "      <td>0.055157</td>\n",
       "      <td>0.045248</td>\n",
       "      <td>0.00247</td>\n",
       "      <td>0.017087</td>\n",
       "    </tr>\n",
       "  </tbody>\n",
       "</table>\n",
       "<p>1 rows × 47 columns</p>\n",
       "</div>"
      ],
      "text/plain": [
       "            Dom santo  NewYear  Constitucion  Jue santo  Vie santo  Madre  \\\n",
       "fecha                                                                       \n",
       "2004-01-01        0.0      1.0           0.0        0.0        0.0    0.0   \n",
       "\n",
       "            Grito  virgen  muertos  Virgen2  ...  gplearn3  gplearn8  \\\n",
       "fecha                                        ...                       \n",
       "2004-01-01    0.0     0.0      0.0      0.0  ...  2.028041  0.000402   \n",
       "\n",
       "            gplearn4  gplearn5  gplearn6  gplearn7  gplearn9  gplearn10  \\\n",
       "fecha                                                                     \n",
       "2004-01-01  0.420735  0.021817  0.079023  1.139494  0.055157   0.045248   \n",
       "\n",
       "            gplearn11  gplearn12  \n",
       "fecha                             \n",
       "2004-01-01    0.00247   0.017087  \n",
       "\n",
       "[1 rows x 47 columns]"
      ]
     },
     "execution_count": 26,
     "metadata": {},
     "output_type": "execute_result"
    }
   ],
   "source": [
    "X_norm[\"gplearn1\"]=np.cos(X_norm.day)*num\n",
    "X_norm[\"gplearn2\"]=num*X_norm[\"min\"]\n",
    "X_norm[\"gplearn3\"]=3.319**X_norm[\"max\"]*np.cos(X_norm.day)\n",
    "X_norm[\"gplearn8\"]=3.319**X_norm[\"max\"]*num \n",
    "X_norm[\"gplearn4\"]=np.cos(X_norm.day)*np.sin(X_norm.day)\n",
    "X_norm[\"gplearn5\"]=X_norm.month*X_norm.Nubosidad*np.cos(X_norm.week)\n",
    "X_norm[\"gplearn6\"]=X_norm[\"max\"]**2*X_norm[\"min\"]**2\n",
    "X_norm[\"gplearn7\"]=1/np.cos(X_norm.day)\n",
    "X_norm[\"gplearn9\"]=X_norm[\"max\"]**3*X_norm[\"min\"]**2*np.cos(X_norm.week)**2\n",
    "X_norm[\"gplearn10\"]=X_norm[\"max\"]*X_norm[\"min\"]**3*np.cos(X_norm.month)**2\n",
    "X_norm[\"gplearn11\"]=X_norm.month*X_norm.Nubosidad*X_norm[\"max\"]*X_norm[\"min\"]**2\n",
    "X_norm[\"gplearn12\"]=X_norm.Nubosidad*X_norm[\"min\"]**3\n",
    "X_norm.head(1)"
   ]
  },
  {
   "cell_type": "code",
   "execution_count": 27,
   "metadata": {},
   "outputs": [],
   "source": [
    "X_norm1=pd.get_dummies(X_norm,columns=[\"week\",\"month\",\"day\"])"
   ]
  },
  {
   "cell_type": "code",
   "execution_count": 28,
   "metadata": {},
   "outputs": [],
   "source": [
    "X_norm1=X_norm1.drop([\"month_1.0\",\"day_0.0\",\"week_1.0\"],axis=1)"
   ]
  },
  {
   "cell_type": "code",
   "execution_count": 29,
   "metadata": {},
   "outputs": [
    {
     "data": {
      "text/html": [
       "<div>\n",
       "<style scoped>\n",
       "    .dataframe tbody tr th:only-of-type {\n",
       "        vertical-align: middle;\n",
       "    }\n",
       "\n",
       "    .dataframe tbody tr th {\n",
       "        vertical-align: top;\n",
       "    }\n",
       "\n",
       "    .dataframe thead th {\n",
       "        text-align: right;\n",
       "    }\n",
       "</style>\n",
       "<table border=\"1\" class=\"dataframe\">\n",
       "  <thead>\n",
       "    <tr style=\"text-align: right;\">\n",
       "      <th></th>\n",
       "      <th>Dom santo_t</th>\n",
       "      <th>Dom santo_1436.0_sen</th>\n",
       "      <th>Dom santo_1436.0_cos</th>\n",
       "      <th>Dom santo_957.3333333333333_sen</th>\n",
       "      <th>Dom santo_957.3333333333333_cos</th>\n",
       "      <th>Dom santo_1148.8_sen</th>\n",
       "      <th>Dom santo_1148.8_cos</th>\n",
       "      <th>Dom santo_5744.0_sen</th>\n",
       "      <th>Dom santo_5744.0_cos</th>\n",
       "      <th>Dom santo_820.5714285714286_sen</th>\n",
       "      <th>...</th>\n",
       "      <th>day_1.0_7.004878048780487_cos</th>\n",
       "      <th>day_1.0_140.09756097560975_sen</th>\n",
       "      <th>day_1.0_140.09756097560975_cos</th>\n",
       "      <th>day_1.0_sen</th>\n",
       "      <th>day_1.0_cos</th>\n",
       "      <th>day_1.0_sen1</th>\n",
       "      <th>day_1.0_cos1</th>\n",
       "      <th>day_1.0_sen2</th>\n",
       "      <th>day_1.0_cos2</th>\n",
       "      <th>ones</th>\n",
       "    </tr>\n",
       "    <tr>\n",
       "      <th>fecha</th>\n",
       "      <th></th>\n",
       "      <th></th>\n",
       "      <th></th>\n",
       "      <th></th>\n",
       "      <th></th>\n",
       "      <th></th>\n",
       "      <th></th>\n",
       "      <th></th>\n",
       "      <th></th>\n",
       "      <th></th>\n",
       "      <th></th>\n",
       "      <th></th>\n",
       "      <th></th>\n",
       "      <th></th>\n",
       "      <th></th>\n",
       "      <th></th>\n",
       "      <th></th>\n",
       "      <th></th>\n",
       "      <th></th>\n",
       "      <th></th>\n",
       "      <th></th>\n",
       "    </tr>\n",
       "  </thead>\n",
       "  <tbody>\n",
       "    <tr>\n",
       "      <th>2019-09-18</th>\n",
       "      <td>0.0</td>\n",
       "      <td>0.0</td>\n",
       "      <td>0.0</td>\n",
       "      <td>0.0</td>\n",
       "      <td>0.0</td>\n",
       "      <td>0.0</td>\n",
       "      <td>0.0</td>\n",
       "      <td>0.0</td>\n",
       "      <td>0.0</td>\n",
       "      <td>0.0</td>\n",
       "      <td>...</td>\n",
       "      <td>0.0</td>\n",
       "      <td>0.000000e+00</td>\n",
       "      <td>0.0</td>\n",
       "      <td>0.000000</td>\n",
       "      <td>0.000000</td>\n",
       "      <td>0.000000</td>\n",
       "      <td>0.000000</td>\n",
       "      <td>0.000000</td>\n",
       "      <td>0.00000</td>\n",
       "      <td>1</td>\n",
       "    </tr>\n",
       "    <tr>\n",
       "      <th>2019-09-19</th>\n",
       "      <td>0.0</td>\n",
       "      <td>0.0</td>\n",
       "      <td>0.0</td>\n",
       "      <td>0.0</td>\n",
       "      <td>0.0</td>\n",
       "      <td>0.0</td>\n",
       "      <td>0.0</td>\n",
       "      <td>0.0</td>\n",
       "      <td>0.0</td>\n",
       "      <td>0.0</td>\n",
       "      <td>...</td>\n",
       "      <td>0.0</td>\n",
       "      <td>0.000000e+00</td>\n",
       "      <td>0.0</td>\n",
       "      <td>0.000000</td>\n",
       "      <td>0.000000</td>\n",
       "      <td>0.000000</td>\n",
       "      <td>0.000000</td>\n",
       "      <td>0.000000</td>\n",
       "      <td>0.00000</td>\n",
       "      <td>1</td>\n",
       "    </tr>\n",
       "    <tr>\n",
       "      <th>2019-09-20</th>\n",
       "      <td>0.0</td>\n",
       "      <td>0.0</td>\n",
       "      <td>0.0</td>\n",
       "      <td>0.0</td>\n",
       "      <td>0.0</td>\n",
       "      <td>0.0</td>\n",
       "      <td>0.0</td>\n",
       "      <td>0.0</td>\n",
       "      <td>0.0</td>\n",
       "      <td>0.0</td>\n",
       "      <td>...</td>\n",
       "      <td>0.0</td>\n",
       "      <td>0.000000e+00</td>\n",
       "      <td>0.0</td>\n",
       "      <td>0.000000</td>\n",
       "      <td>0.000000</td>\n",
       "      <td>0.000000</td>\n",
       "      <td>0.000000</td>\n",
       "      <td>0.000000</td>\n",
       "      <td>0.00000</td>\n",
       "      <td>1</td>\n",
       "    </tr>\n",
       "    <tr>\n",
       "      <th>2019-09-21</th>\n",
       "      <td>0.0</td>\n",
       "      <td>0.0</td>\n",
       "      <td>0.0</td>\n",
       "      <td>0.0</td>\n",
       "      <td>0.0</td>\n",
       "      <td>0.0</td>\n",
       "      <td>0.0</td>\n",
       "      <td>0.0</td>\n",
       "      <td>0.0</td>\n",
       "      <td>0.0</td>\n",
       "      <td>...</td>\n",
       "      <td>0.0</td>\n",
       "      <td>0.000000e+00</td>\n",
       "      <td>0.0</td>\n",
       "      <td>0.000000</td>\n",
       "      <td>0.000000</td>\n",
       "      <td>0.000000</td>\n",
       "      <td>0.000000</td>\n",
       "      <td>0.000000</td>\n",
       "      <td>0.00000</td>\n",
       "      <td>1</td>\n",
       "    </tr>\n",
       "    <tr>\n",
       "      <th>2019-09-22</th>\n",
       "      <td>0.0</td>\n",
       "      <td>0.0</td>\n",
       "      <td>0.0</td>\n",
       "      <td>0.0</td>\n",
       "      <td>0.0</td>\n",
       "      <td>0.0</td>\n",
       "      <td>0.0</td>\n",
       "      <td>0.0</td>\n",
       "      <td>0.0</td>\n",
       "      <td>0.0</td>\n",
       "      <td>...</td>\n",
       "      <td>1.0</td>\n",
       "      <td>3.135839e-14</td>\n",
       "      <td>1.0</td>\n",
       "      <td>0.974928</td>\n",
       "      <td>0.222521</td>\n",
       "      <td>0.996659</td>\n",
       "      <td>0.081676</td>\n",
       "      <td>0.781831</td>\n",
       "      <td>0.62349</td>\n",
       "      <td>1</td>\n",
       "    </tr>\n",
       "  </tbody>\n",
       "</table>\n",
       "<p>5 rows × 3052 columns</p>\n",
       "</div>"
      ],
      "text/plain": [
       "            Dom santo_t  Dom santo_1436.0_sen  Dom santo_1436.0_cos  \\\n",
       "fecha                                                                 \n",
       "2019-09-18          0.0                   0.0                   0.0   \n",
       "2019-09-19          0.0                   0.0                   0.0   \n",
       "2019-09-20          0.0                   0.0                   0.0   \n",
       "2019-09-21          0.0                   0.0                   0.0   \n",
       "2019-09-22          0.0                   0.0                   0.0   \n",
       "\n",
       "            Dom santo_957.3333333333333_sen  Dom santo_957.3333333333333_cos  \\\n",
       "fecha                                                                          \n",
       "2019-09-18                              0.0                              0.0   \n",
       "2019-09-19                              0.0                              0.0   \n",
       "2019-09-20                              0.0                              0.0   \n",
       "2019-09-21                              0.0                              0.0   \n",
       "2019-09-22                              0.0                              0.0   \n",
       "\n",
       "            Dom santo_1148.8_sen  Dom santo_1148.8_cos  Dom santo_5744.0_sen  \\\n",
       "fecha                                                                          \n",
       "2019-09-18                   0.0                   0.0                   0.0   \n",
       "2019-09-19                   0.0                   0.0                   0.0   \n",
       "2019-09-20                   0.0                   0.0                   0.0   \n",
       "2019-09-21                   0.0                   0.0                   0.0   \n",
       "2019-09-22                   0.0                   0.0                   0.0   \n",
       "\n",
       "            Dom santo_5744.0_cos  Dom santo_820.5714285714286_sen  ...  \\\n",
       "fecha                                                              ...   \n",
       "2019-09-18                   0.0                              0.0  ...   \n",
       "2019-09-19                   0.0                              0.0  ...   \n",
       "2019-09-20                   0.0                              0.0  ...   \n",
       "2019-09-21                   0.0                              0.0  ...   \n",
       "2019-09-22                   0.0                              0.0  ...   \n",
       "\n",
       "            day_1.0_7.004878048780487_cos  day_1.0_140.09756097560975_sen  \\\n",
       "fecha                                                                       \n",
       "2019-09-18                            0.0                    0.000000e+00   \n",
       "2019-09-19                            0.0                    0.000000e+00   \n",
       "2019-09-20                            0.0                    0.000000e+00   \n",
       "2019-09-21                            0.0                    0.000000e+00   \n",
       "2019-09-22                            1.0                    3.135839e-14   \n",
       "\n",
       "            day_1.0_140.09756097560975_cos  day_1.0_sen  day_1.0_cos  \\\n",
       "fecha                                                                  \n",
       "2019-09-18                             0.0     0.000000     0.000000   \n",
       "2019-09-19                             0.0     0.000000     0.000000   \n",
       "2019-09-20                             0.0     0.000000     0.000000   \n",
       "2019-09-21                             0.0     0.000000     0.000000   \n",
       "2019-09-22                             1.0     0.974928     0.222521   \n",
       "\n",
       "            day_1.0_sen1  day_1.0_cos1  day_1.0_sen2  day_1.0_cos2  ones  \n",
       "fecha                                                                     \n",
       "2019-09-18      0.000000      0.000000      0.000000       0.00000     1  \n",
       "2019-09-19      0.000000      0.000000      0.000000       0.00000     1  \n",
       "2019-09-20      0.000000      0.000000      0.000000       0.00000     1  \n",
       "2019-09-21      0.000000      0.000000      0.000000       0.00000     1  \n",
       "2019-09-22      0.996659      0.081676      0.781831       0.62349     1  \n",
       "\n",
       "[5 rows x 3052 columns]"
      ]
     },
     "execution_count": 29,
     "metadata": {},
     "output_type": "execute_result"
    }
   ],
   "source": [
    "combination=kronecker(sencos,X_norm1)\n",
    "combination[\"ones\"]=1\n",
    "#combination[\"t\"]=num\n",
    "#combination = pd.concat([consumo1, sencos], axis=1)\n",
    "combination.tail()"
   ]
  },
  {
   "cell_type": "code",
   "execution_count": 30,
   "metadata": {},
   "outputs": [],
   "source": [
    "X_train, X_test = combination[:-7].values, combination[-7:].values\n",
    "y_train, y_test = y_norm[:-7].values*sy+my,y_norm[-7:].values*sy+my"
   ]
  },
  {
   "cell_type": "code",
   "execution_count": 31,
   "metadata": {},
   "outputs": [],
   "source": [
    "reg = LinearRegression(normalize=True).fit(X_train, y_train)\n",
    "y_predict=reg.predict(X_test)"
   ]
  },
  {
   "cell_type": "code",
   "execution_count": 32,
   "metadata": {},
   "outputs": [
    {
     "name": "stdout",
     "output_type": "stream",
     "text": [
      "9.267614387252946\n"
     ]
    },
    {
     "data": {
      "image/png": "[encoded data removed]",
      "text/plain": [
       "<Figure size 432x288 with 1 Axes>"
      ]
     },
     "metadata": {
      "needs_background": "light"
     },
     "output_type": "display_data"
    }
   ],
   "source": [
    "plt.plot(y_test,label=\"real\")\n",
    "plt.plot(y_predict,label=\"predicción\")\n",
    "plt.legend()\n",
    "#plt.axis([0,6000,-3,3])\n",
    "print(Mape(y_test*sy+my,y_predict*sy+my,1))"
   ]
  },
  {
   "cell_type": "code",
   "execution_count": 33,
   "metadata": {},
   "outputs": [
    {
     "name": "stdout",
     "output_type": "stream",
     "text": [
      "0.6729811379030046\n"
     ]
    }
   ],
   "source": [
    "print(Mape(y_train*sy+my,reg.predict(X_train)*sy+my,1))"
   ]
  },
  {
   "cell_type": "markdown",
   "metadata": {},
   "source": [
    "## Ridge"
   ]
  },
  {
   "cell_type": "code",
   "execution_count": 34,
   "metadata": {},
   "outputs": [],
   "source": [
    "from sklearn.linear_model import Ridge"
   ]
  },
  {
   "cell_type": "code",
   "execution_count": 35,
   "metadata": {},
   "outputs": [
    {
     "data": {
      "text/plain": [
       "Ridge(alpha=18.0, copy_X=True, fit_intercept=True, max_iter=None,\n",
       "      normalize=False, random_state=None, solver='auto', tol=0.001)"
      ]
     },
     "execution_count": 35,
     "metadata": {},
     "output_type": "execute_result"
    }
   ],
   "source": [
    "clf = Ridge(alpha=18.0)\n",
    "clf.fit(X_train, y_train)"
   ]
  },
  {
   "cell_type": "code",
   "execution_count": 36,
   "metadata": {},
   "outputs": [],
   "source": [
    "y_predict=clf.predict(X_test)"
   ]
  },
  {
   "cell_type": "code",
   "execution_count": 37,
   "metadata": {},
   "outputs": [
    {
     "data": {
      "text/plain": [
       "2.2448856153279797"
      ]
     },
     "execution_count": 37,
     "metadata": {},
     "output_type": "execute_result"
    },
    {
     "data": {
      "image/png": "[encoded data removed]",
      "text/plain": [
       "<Figure size 432x288 with 1 Axes>"
      ]
     },
     "metadata": {
      "needs_background": "light"
     },
     "output_type": "display_data"
    }
   ],
   "source": [
    "plt.plot(y_predict)\n",
    "plt.plot(y_test)\n",
    "Mape(y_test*sy+my,y_predict*sy+my,1)"
   ]
  },
  {
   "cell_type": "markdown",
   "metadata": {},
   "source": [
    "## Lasso"
   ]
  },
  {
   "cell_type": "code",
   "execution_count": 38,
   "metadata": {},
   "outputs": [],
   "source": [
    "from sklearn import linear_model"
   ]
  },
  {
   "cell_type": "code",
   "execution_count": 39,
   "metadata": {
    "scrolled": true
   },
   "outputs": [
    {
     "name": "stdout",
     "output_type": "stream",
     "text": [
      "2.0593944841513023\n"
     ]
    },
    {
     "name": "stderr",
     "output_type": "stream",
     "text": [
      "C:\\Users\\alber\\Anaconda3\\lib\\site-packages\\sklearn\\linear_model\\coordinate_descent.py:475: ConvergenceWarning: Objective did not converge. You might want to increase the number of iterations. Duality gap: 36729921517.43135, tolerance: 337995230.1688411\n",
      "  positive)\n"
     ]
    },
    {
     "data": {
      "text/plain": [
       "[<matplotlib.lines.Line2D at 0x28564e036a0>]"
      ]
     },
     "execution_count": 39,
     "metadata": {},
     "output_type": "execute_result"
    },
    {
     "data": {
      "image/png": "[encoded data removed]",
      "text/plain": [
       "<Figure size 432x288 with 1 Axes>"
      ]
     },
     "metadata": {
      "needs_background": "light"
     },
     "output_type": "display_data"
    }
   ],
   "source": [
    "reg = linear_model.Lasso(max_iter=10000,alpha=1.69,tol=.0001)\n",
    "reg.fit(X_train, y_train)\n",
    "y_predict=reg.predict(X_test)\n",
    "print(Mape(y_test*sy+my,y_predict*sy+my,1))\n",
    "plt.plot(y_predict)\n",
    "plt.plot(y_test)\n"
   ]
  },
  {
   "cell_type": "markdown",
   "metadata": {},
   "source": [
    "## Elastic net"
   ]
  },
  {
   "cell_type": "code",
   "execution_count": 40,
   "metadata": {},
   "outputs": [],
   "source": [
    "from sklearn.linear_model import ElasticNet"
   ]
  },
  {
   "cell_type": "code",
   "execution_count": 41,
   "metadata": {},
   "outputs": [
    {
     "ename": "KeyboardInterrupt",
     "evalue": "",
     "output_type": "error",
     "traceback": [
      "\u001b[1;31m---------------------------------------------------------------------------\u001b[0m",
      "\u001b[1;31mKeyboardInterrupt\u001b[0m                         Traceback (most recent call last)",
      "\u001b[1;32m<ipython-input-41-5e46fde9810a>\u001b[0m in \u001b[0;36m<module>\u001b[1;34m\u001b[0m\n\u001b[0;32m      1\u001b[0m \u001b[1;32mfor\u001b[0m \u001b[0mi\u001b[0m \u001b[1;32min\u001b[0m \u001b[0mrange\u001b[0m\u001b[1;33m(\u001b[0m\u001b[1;36m1\u001b[0m\u001b[1;33m,\u001b[0m\u001b[1;36m50\u001b[0m\u001b[1;33m)\u001b[0m\u001b[1;33m:\u001b[0m\u001b[1;33m\u001b[0m\u001b[1;33m\u001b[0m\u001b[0m\n\u001b[0;32m      2\u001b[0m     \u001b[0mregr\u001b[0m \u001b[1;33m=\u001b[0m \u001b[0mElasticNet\u001b[0m\u001b[1;33m(\u001b[0m\u001b[0mmax_iter\u001b[0m\u001b[1;33m=\u001b[0m\u001b[1;36m5000\u001b[0m\u001b[1;33m,\u001b[0m\u001b[0malpha\u001b[0m\u001b[1;33m=\u001b[0m\u001b[0mi\u001b[0m\u001b[1;33m)\u001b[0m\u001b[1;33m\u001b[0m\u001b[1;33m\u001b[0m\u001b[0m\n\u001b[1;32m----> 3\u001b[1;33m     \u001b[0mregr\u001b[0m\u001b[1;33m.\u001b[0m\u001b[0mfit\u001b[0m\u001b[1;33m(\u001b[0m\u001b[0mX_train\u001b[0m\u001b[1;33m,\u001b[0m \u001b[0my_train\u001b[0m\u001b[1;33m)\u001b[0m\u001b[1;33m\u001b[0m\u001b[1;33m\u001b[0m\u001b[0m\n\u001b[0m\u001b[0;32m      4\u001b[0m     \u001b[0my_predict\u001b[0m\u001b[1;33m=\u001b[0m\u001b[0mregr\u001b[0m\u001b[1;33m.\u001b[0m\u001b[0mpredict\u001b[0m\u001b[1;33m(\u001b[0m\u001b[0mX_test\u001b[0m\u001b[1;33m)\u001b[0m\u001b[1;33m\u001b[0m\u001b[1;33m\u001b[0m\u001b[0m\n\u001b[0;32m      5\u001b[0m     \u001b[0mprint\u001b[0m\u001b[1;33m(\u001b[0m\u001b[0mi\u001b[0m\u001b[1;33m,\u001b[0m\u001b[0mMape\u001b[0m\u001b[1;33m(\u001b[0m\u001b[0my_test\u001b[0m\u001b[1;33m*\u001b[0m\u001b[0msy\u001b[0m\u001b[1;33m+\u001b[0m\u001b[0mmy\u001b[0m\u001b[1;33m,\u001b[0m\u001b[0my_predict\u001b[0m\u001b[1;33m*\u001b[0m\u001b[0msy\u001b[0m\u001b[1;33m+\u001b[0m\u001b[0mmy\u001b[0m\u001b[1;33m,\u001b[0m\u001b[1;36m1\u001b[0m\u001b[1;33m)\u001b[0m\u001b[1;33m)\u001b[0m\u001b[1;33m\u001b[0m\u001b[1;33m\u001b[0m\u001b[0m\n",
      "\u001b[1;32m~\\Anaconda3\\lib\\site-packages\\sklearn\\linear_model\\coordinate_descent.py\u001b[0m in \u001b[0;36mfit\u001b[1;34m(self, X, y, check_input)\u001b[0m\n\u001b[0;32m    750\u001b[0m                           \u001b[0mrandom_state\u001b[0m\u001b[1;33m=\u001b[0m\u001b[0mself\u001b[0m\u001b[1;33m.\u001b[0m\u001b[0mrandom_state\u001b[0m\u001b[1;33m,\u001b[0m\u001b[1;33m\u001b[0m\u001b[1;33m\u001b[0m\u001b[0m\n\u001b[0;32m    751\u001b[0m                           \u001b[0mselection\u001b[0m\u001b[1;33m=\u001b[0m\u001b[0mself\u001b[0m\u001b[1;33m.\u001b[0m\u001b[0mselection\u001b[0m\u001b[1;33m,\u001b[0m\u001b[1;33m\u001b[0m\u001b[1;33m\u001b[0m\u001b[0m\n\u001b[1;32m--> 752\u001b[1;33m                           check_input=False)\n\u001b[0m\u001b[0;32m    753\u001b[0m             \u001b[0mcoef_\u001b[0m\u001b[1;33m[\u001b[0m\u001b[0mk\u001b[0m\u001b[1;33m]\u001b[0m \u001b[1;33m=\u001b[0m \u001b[0mthis_coef\u001b[0m\u001b[1;33m[\u001b[0m\u001b[1;33m:\u001b[0m\u001b[1;33m,\u001b[0m \u001b[1;36m0\u001b[0m\u001b[1;33m]\u001b[0m\u001b[1;33m\u001b[0m\u001b[1;33m\u001b[0m\u001b[0m\n\u001b[0;32m    754\u001b[0m             \u001b[0mdual_gaps_\u001b[0m\u001b[1;33m[\u001b[0m\u001b[0mk\u001b[0m\u001b[1;33m]\u001b[0m \u001b[1;33m=\u001b[0m \u001b[0mthis_dual_gap\u001b[0m\u001b[1;33m[\u001b[0m\u001b[1;36m0\u001b[0m\u001b[1;33m]\u001b[0m\u001b[1;33m\u001b[0m\u001b[1;33m\u001b[0m\u001b[0m\n",
      "\u001b[1;32m~\\Anaconda3\\lib\\site-packages\\sklearn\\linear_model\\coordinate_descent.py\u001b[0m in \u001b[0;36menet_path\u001b[1;34m(X, y, l1_ratio, eps, n_alphas, alphas, precompute, Xy, copy_X, coef_init, verbose, return_n_iter, positive, check_input, **params)\u001b[0m\n\u001b[0;32m    473\u001b[0m             model = cd_fast.enet_coordinate_descent(\n\u001b[0;32m    474\u001b[0m                 \u001b[0mcoef_\u001b[0m\u001b[1;33m,\u001b[0m \u001b[0ml1_reg\u001b[0m\u001b[1;33m,\u001b[0m \u001b[0ml2_reg\u001b[0m\u001b[1;33m,\u001b[0m \u001b[0mX\u001b[0m\u001b[1;33m,\u001b[0m \u001b[0my\u001b[0m\u001b[1;33m,\u001b[0m \u001b[0mmax_iter\u001b[0m\u001b[1;33m,\u001b[0m \u001b[0mtol\u001b[0m\u001b[1;33m,\u001b[0m \u001b[0mrng\u001b[0m\u001b[1;33m,\u001b[0m \u001b[0mrandom\u001b[0m\u001b[1;33m,\u001b[0m\u001b[1;33m\u001b[0m\u001b[1;33m\u001b[0m\u001b[0m\n\u001b[1;32m--> 475\u001b[1;33m                 positive)\n\u001b[0m\u001b[0;32m    476\u001b[0m         \u001b[1;32melse\u001b[0m\u001b[1;33m:\u001b[0m\u001b[1;33m\u001b[0m\u001b[1;33m\u001b[0m\u001b[0m\n\u001b[0;32m    477\u001b[0m             raise ValueError(\"Precompute should be one of True, False, \"\n",
      "\u001b[1;32msklearn\\linear_model\\cd_fast.pyx\u001b[0m in \u001b[0;36msklearn.linear_model.cd_fast.enet_coordinate_descent\u001b[1;34m()\u001b[0m\n",
      "\u001b[1;31mKeyboardInterrupt\u001b[0m: "
     ]
    }
   ],
   "source": [
    "for i in range(1,50):    \n",
    "    regr = ElasticNet(max_iter=5000,alpha=i)\n",
    "    regr.fit(X_train, y_train)\n",
    "    y_predict=regr.predict(X_test)\n",
    "    print(i,Mape(y_test*sy+my,y_predict*sy+my,1))\n",
    "plt.plot(y_predict)\n",
    "plt.plot(y_test)"
   ]
  },
  {
   "cell_type": "markdown",
   "metadata": {},
   "source": [
    "## Arch"
   ]
  },
  {
   "cell_type": "code",
   "execution_count": null,
   "metadata": {},
   "outputs": [],
   "source": [
    "residuales=(y_norm[0:-7]*sy+my)-(y_predict*sy+my)\n",
    "plt.plot(residuales)"
   ]
  },
  {
   "cell_type": "code",
   "execution_count": 5,
   "metadata": {},
   "outputs": [],
   "source": [
    "from pmdarima.arima import auto_arima"
   ]
  },
  {
   "cell_type": "code",
   "execution_count": 6,
   "metadata": {},
   "outputs": [
    {
     "ename": "NameError",
     "evalue": "name 'residuales' is not defined",
     "output_type": "error",
     "traceback": [
      "\u001b[1;31m---------------------------------------------------------------------------\u001b[0m",
      "\u001b[1;31mNameError\u001b[0m                                 Traceback (most recent call last)",
      "\u001b[1;32m<ipython-input-6-6a6cc454c2ce>\u001b[0m in \u001b[0;36m<module>\u001b[1;34m\u001b[0m\n\u001b[1;32m----> 1\u001b[1;33m step_wise=auto_arima(residuales,exog=X_norm.values[0:-7],start_p=1, start_q=1, max_p=7, max_q=7, max_d=7,\n\u001b[0m\u001b[0;32m      2\u001b[0m                      \u001b[0mtrace\u001b[0m\u001b[1;33m=\u001b[0m\u001b[1;32mTrue\u001b[0m\u001b[1;33m,\u001b[0m \u001b[0merror_action\u001b[0m\u001b[1;33m=\u001b[0m\u001b[1;34m'ignore'\u001b[0m\u001b[1;33m,\u001b[0m \u001b[0msuppress_warnings\u001b[0m\u001b[1;33m=\u001b[0m\u001b[1;32mTrue\u001b[0m\u001b[1;33m,\u001b[0m \u001b[0mstepwise\u001b[0m\u001b[1;33m=\u001b[0m\u001b[1;32mTrue\u001b[0m\u001b[1;33m,\u001b[0m\u001b[0mm\u001b[0m\u001b[1;33m=\u001b[0m\u001b[1;36m1\u001b[0m\u001b[1;33m,\u001b[0m\u001b[1;33m\u001b[0m\u001b[1;33m\u001b[0m\u001b[0m\n\u001b[0;32m      3\u001b[0m                     seasonal=False,Stationary=True)\n",
      "\u001b[1;31mNameError\u001b[0m: name 'residuales' is not defined"
     ]
    }
   ],
   "source": [
    "step_wise=auto_arima(residuales,exog=X_norm.values[0:-7],start_p=1, start_q=1, max_p=7, max_q=7, max_d=7,\n",
    "                     trace=True, error_action='ignore', suppress_warnings=True, stepwise=True,m=1,\n",
    "                    seasonal=False,Stationary=True)"
   ]
  },
  {
   "cell_type": "code",
   "execution_count": null,
   "metadata": {},
   "outputs": [],
   "source": [
    "step_wise.summary()"
   ]
  },
  {
   "cell_type": "code",
   "execution_count": null,
   "metadata": {},
   "outputs": [],
   "source": [
    "from statsmodels.tsa.statespace.sarimax import SARIMAX\n",
    "\n",
    "model= SARIMAX(residuales,X_norm.values[:-7],order=(5,0,4))"
   ]
  },
  {
   "cell_type": "code",
   "execution_count": null,
   "metadata": {},
   "outputs": [],
   "source": [
    "results= model.fit(maxiter=5000)"
   ]
  },
  {
   "cell_type": "code",
   "execution_count": null,
   "metadata": {},
   "outputs": [],
   "source": [
    "plt.plot(residuales)\n",
    "plt.plot(results.fittedvalues[3:])"
   ]
  },
  {
   "cell_type": "code",
   "execution_count": null,
   "metadata": {},
   "outputs": [],
   "source": [
    "forecast_1= results.forecast(steps=7)"
   ]
  },
  {
   "cell_type": "code",
   "execution_count": null,
   "metadata": {},
   "outputs": [],
   "source": [
    "from sklearn.linear_model import Lasso"
   ]
  },
  {
   "cell_type": "code",
   "execution_count": null,
   "metadata": {},
   "outputs": [],
   "source": [
    "lasso = Lasso(max_iter=5000,alpha=3,tol=.0001)\n",
    "lasso.fit(combination.values[0:-7],y_norm[:-7])"
   ]
  },
  {
   "cell_type": "code",
   "execution_count": null,
   "metadata": {},
   "outputs": [],
   "source": [
    "y_predict=lasso.predict(combination.values[-7:])"
   ]
  },
  {
   "cell_type": "code",
   "execution_count": null,
   "metadata": {},
   "outputs": [],
   "source": [
    "plt.plot(y_norm.values[-7:]*sy+my)\n",
    "plt.plot(y_predict*sy+my)\n",
    "print(Mape(y_norm.values[-7:]*sy+my,(y_predict*sy+my),1))"
   ]
  },
  {
   "cell_type": "code",
   "execution_count": null,
   "metadata": {},
   "outputs": [],
   "source": [
    "plt.plot(y_norm*sy+my)\n",
    "plt.plot(residuales)"
   ]
  },
  {
   "cell_type": "code",
   "execution_count": null,
   "metadata": {},
   "outputs": [],
   "source": [
    "combination.head()"
   ]
  }
 ],
 "metadata": {
  "kernelspec": {
   "display_name": "Python 3",
   "language": "python",
   "name": "python3"
  },
  "language_info": {
   "codemirror_mode": {
    "name": "ipython",
    "version": 3
   },
   "file_extension": ".py",
   "mimetype": "text/x-python",
   "name": "python",
   "nbconvert_exporter": "python",
   "pygments_lexer": "ipython3",
   "version": "3.7.3"
  }
 },
 "nbformat": 4,
 "nbformat_minor": 2
}
