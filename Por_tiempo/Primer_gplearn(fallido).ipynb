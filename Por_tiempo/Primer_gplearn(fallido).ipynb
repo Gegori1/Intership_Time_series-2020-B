{
 "cells": [
  {
   "cell_type": "code",
   "execution_count": 40,
   "metadata": {},
   "outputs": [],
   "source": [
    "import pandas as pd\n",
    "import numpy as np\n",
    "%matplotlib inline\n",
    "import matplotlib.pyplot as plt\n",
    "import gplearn as gpl  \n",
    "from gplearn.genetic import SymbolicRegressor\n",
    "from sklearn.model_selection import train_test_split"
   ]
  },
  {
   "cell_type": "code",
   "execution_count": 7,
   "metadata": {},
   "outputs": [],
   "source": [
    "Tiempo = pd.read_excel('Consumo.xlsx')"
   ]
  },
  {
   "cell_type": "code",
   "execution_count": null,
   "metadata": {},
   "outputs": [],
   "source": []
  },
  {
   "cell_type": "code",
   "execution_count": null,
   "metadata": {},
   "outputs": [],
   "source": []
  },
  {
   "cell_type": "code",
   "execution_count": null,
   "metadata": {},
   "outputs": [],
   "source": []
  },
  {
   "cell_type": "code",
   "execution_count": null,
   "metadata": {},
   "outputs": [],
   "source": []
  },
  {
   "cell_type": "code",
   "execution_count": 23,
   "metadata": {},
   "outputs": [
    {
     "data": {
      "text/html": [
       "<div>\n",
       "<style scoped>\n",
       "    .dataframe tbody tr th:only-of-type {\n",
       "        vertical-align: middle;\n",
       "    }\n",
       "\n",
       "    .dataframe tbody tr th {\n",
       "        vertical-align: top;\n",
       "    }\n",
       "\n",
       "    .dataframe thead th {\n",
       "        text-align: right;\n",
       "    }\n",
       "</style>\n",
       "<table border=\"1\" class=\"dataframe\">\n",
       "  <thead>\n",
       "    <tr style=\"text-align: right;\">\n",
       "      <th></th>\n",
       "      <th>fecha</th>\n",
       "      <th>mín</th>\n",
       "      <th>max</th>\n",
       "      <th>prom</th>\n",
       "      <th>Nubosidad</th>\n",
       "      <th>Lluvia</th>\n",
       "      <th>Velocidad viento</th>\n",
       "    </tr>\n",
       "  </thead>\n",
       "  <tbody>\n",
       "    <tr>\n",
       "      <th>0</th>\n",
       "      <td>2004-01-01</td>\n",
       "      <td>8.857143</td>\n",
       "      <td>24.571429</td>\n",
       "      <td>16.714286</td>\n",
       "      <td>23.853679</td>\n",
       "      <td>0.001</td>\n",
       "      <td>23.25</td>\n",
       "    </tr>\n",
       "    <tr>\n",
       "      <th>1</th>\n",
       "      <td>2004-01-02</td>\n",
       "      <td>8.500000</td>\n",
       "      <td>24.642857</td>\n",
       "      <td>16.571429</td>\n",
       "      <td>22.364404</td>\n",
       "      <td>0.001</td>\n",
       "      <td>23.25</td>\n",
       "    </tr>\n",
       "    <tr>\n",
       "      <th>2</th>\n",
       "      <td>2004-01-03</td>\n",
       "      <td>9.142857</td>\n",
       "      <td>24.285714</td>\n",
       "      <td>16.714286</td>\n",
       "      <td>19.124190</td>\n",
       "      <td>0.001</td>\n",
       "      <td>22.75</td>\n",
       "    </tr>\n",
       "    <tr>\n",
       "      <th>3</th>\n",
       "      <td>2004-01-04</td>\n",
       "      <td>9.714286</td>\n",
       "      <td>24.500000</td>\n",
       "      <td>17.107143</td>\n",
       "      <td>19.215350</td>\n",
       "      <td>0.001</td>\n",
       "      <td>22.75</td>\n",
       "    </tr>\n",
       "    <tr>\n",
       "      <th>4</th>\n",
       "      <td>2004-01-05</td>\n",
       "      <td>11.000000</td>\n",
       "      <td>25.285714</td>\n",
       "      <td>18.142857</td>\n",
       "      <td>26.441329</td>\n",
       "      <td>0.001</td>\n",
       "      <td>22.75</td>\n",
       "    </tr>\n",
       "  </tbody>\n",
       "</table>\n",
       "</div>"
      ],
      "text/plain": [
       "       fecha        mín        max       prom  Nubosidad  Lluvia  \\\n",
       "0 2004-01-01   8.857143  24.571429  16.714286  23.853679   0.001   \n",
       "1 2004-01-02   8.500000  24.642857  16.571429  22.364404   0.001   \n",
       "2 2004-01-03   9.142857  24.285714  16.714286  19.124190   0.001   \n",
       "3 2004-01-04   9.714286  24.500000  17.107143  19.215350   0.001   \n",
       "4 2004-01-05  11.000000  25.285714  18.142857  26.441329   0.001   \n",
       "\n",
       "   Velocidad viento  \n",
       "0             23.25  \n",
       "1             23.25  \n",
       "2             22.75  \n",
       "3             22.75  \n",
       "4             22.75  "
      ]
     },
     "execution_count": 23,
     "metadata": {},
     "output_type": "execute_result"
    }
   ],
   "source": [
    "Tiempo.head()"
   ]
  },
  {
   "cell_type": "code",
   "execution_count": 27,
   "metadata": {},
   "outputs": [],
   "source": [
    "Tiempo[\"te\"] = np.arange(1, len(Tiempo.index)+1)"
   ]
  },
  {
   "cell_type": "code",
   "execution_count": 29,
   "metadata": {},
   "outputs": [
    {
     "data": {
      "text/html": [
       "<div>\n",
       "<style scoped>\n",
       "    .dataframe tbody tr th:only-of-type {\n",
       "        vertical-align: middle;\n",
       "    }\n",
       "\n",
       "    .dataframe tbody tr th {\n",
       "        vertical-align: top;\n",
       "    }\n",
       "\n",
       "    .dataframe thead th {\n",
       "        text-align: right;\n",
       "    }\n",
       "</style>\n",
       "<table border=\"1\" class=\"dataframe\">\n",
       "  <thead>\n",
       "    <tr style=\"text-align: right;\">\n",
       "      <th></th>\n",
       "      <th>fecha</th>\n",
       "      <th>mín</th>\n",
       "      <th>max</th>\n",
       "      <th>prom</th>\n",
       "      <th>Nubosidad</th>\n",
       "      <th>Lluvia</th>\n",
       "      <th>Velocidad viento</th>\n",
       "      <th>te</th>\n",
       "    </tr>\n",
       "  </thead>\n",
       "  <tbody>\n",
       "    <tr>\n",
       "      <th>0</th>\n",
       "      <td>2004-01-01</td>\n",
       "      <td>8.857143</td>\n",
       "      <td>24.571429</td>\n",
       "      <td>16.714286</td>\n",
       "      <td>23.853679</td>\n",
       "      <td>0.001</td>\n",
       "      <td>23.25</td>\n",
       "      <td>1</td>\n",
       "    </tr>\n",
       "    <tr>\n",
       "      <th>1</th>\n",
       "      <td>2004-01-02</td>\n",
       "      <td>8.500000</td>\n",
       "      <td>24.642857</td>\n",
       "      <td>16.571429</td>\n",
       "      <td>22.364404</td>\n",
       "      <td>0.001</td>\n",
       "      <td>23.25</td>\n",
       "      <td>2</td>\n",
       "    </tr>\n",
       "  </tbody>\n",
       "</table>\n",
       "</div>"
      ],
      "text/plain": [
       "       fecha       mín        max       prom  Nubosidad  Lluvia  \\\n",
       "0 2004-01-01  8.857143  24.571429  16.714286  23.853679   0.001   \n",
       "1 2004-01-02  8.500000  24.642857  16.571429  22.364404   0.001   \n",
       "\n",
       "   Velocidad viento  te  \n",
       "0             23.25   1  \n",
       "1             23.25   2  "
      ]
     },
     "execution_count": 29,
     "metadata": {},
     "output_type": "execute_result"
    }
   ],
   "source": [
    "Tiempo.head(2)"
   ]
  },
  {
   "cell_type": "code",
   "execution_count": 88,
   "metadata": {},
   "outputs": [],
   "source": [
    "X_train, X_test, y_train, y_test = train_test_split(Tiempo.te, Tiempo[\"max\"],  test_size = 20, shuffle = False)"
   ]
  },
  {
   "cell_type": "code",
   "execution_count": 100,
   "metadata": {},
   "outputs": [
    {
     "name": "stdout",
     "output_type": "stream",
     "text": [
      "    |   Population Average    |             Best Individual              |\n",
      "---- ------------------------- ------------------------------------------ ----------\n",
      " Gen   Length          Fitness   Length          Fitness      OOB Fitness  Time Left\n",
      "   0    19.52      6.50967e+18       10          25.7661              N/A      1.21m\n",
      "   1    13.08      1.19375e+11       30            25.15              N/A      4.11m\n",
      "   2    14.74      1.19356e+11       39          13.2948              N/A      5.06m\n",
      "   3    19.92      5.32685e+14       34          13.2209              N/A      5.81m\n",
      "   4    24.46      4.78036e+07       39          13.1522              N/A      6.79m\n",
      "   5    29.45      5.95566e+07       44          11.8626              N/A      7.77m\n",
      "   6    35.94      1.34626e+06       43          11.6637              N/A      8.16m\n",
      "   7    43.05       1.1977e+08       90          10.2827              N/A     10.37m\n",
      "   8    46.13      3.73625e+14       81          7.27923              N/A      9.29m\n"
     ]
    },
    {
     "data": {
      "text/plain": [
       "SymbolicRegressor(const_range=(-1.0, 1.0), feature_names=None,\n",
       "                  function_set=['add', 'sub', 'mul', 'sin', 'cos'],\n",
       "                  generations=25, init_depth=(2, 6),\n",
       "                  init_method='half and half', low_memory=False,\n",
       "                  max_samples=1.0, metric='rmse', n_jobs=-1, p_crossover=0.65,\n",
       "                  p_hoist_mutation=0.05, p_point_mutation=0.1,\n",
       "                  p_point_replace=0.05, p_subtree_mutation=0.15,\n",
       "                  parsimony_coefficient=0.001, population_size=3000,\n",
       "                  random_state=None, stopping_criteria=10, tournament_size=5,\n",
       "                  verbose=1, warm_start=False)"
      ]
     },
     "execution_count": 100,
     "metadata": {},
     "output_type": "execute_result"
    }
   ],
   "source": [
    "function_set = ['add', 'sub', 'mul', 'sin', 'cos']\n",
    "est = SymbolicRegressor(population_size = 3000, tournament_size=5,\n",
    "                          generations = 25, stopping_criteria=10,\n",
    "                          function_set = function_set, metric='rmse',\n",
    "                          p_crossover=0.65, p_subtree_mutation=0.15,\n",
    "                          p_hoist_mutation=0.05, p_point_mutation=0.1,\n",
    "                          verbose = 1, random_state = None, n_jobs = -1)\n",
    "est.fit(X_train.reshape(-1, 1), y_train)"
   ]
  },
  {
   "cell_type": "code",
   "execution_count": 101,
   "metadata": {},
   "outputs": [],
   "source": [
    "y_pred = est.predict(X_train.reshape(-1, 1))"
   ]
  },
  {
   "cell_type": "code",
   "execution_count": 102,
   "metadata": {},
   "outputs": [
    {
     "data": {
      "text/plain": [
       "array([24.68758334, 23.9896812 , 23.35153062, ..., 19.47367346,\n",
       "       19.46654391, 19.27070482])"
      ]
     },
     "execution_count": 102,
     "metadata": {},
     "output_type": "execute_result"
    }
   ],
   "source": [
    "y_pred"
   ]
  },
  {
   "cell_type": "code",
   "execution_count": 106,
   "metadata": {},
   "outputs": [
    {
     "data": {
      "text/plain": [
       "[<matplotlib.lines.Line2D at 0x15d229d4128>]"
      ]
     },
     "execution_count": 106,
     "metadata": {},
     "output_type": "execute_result"
    },
    {
     "data": {
      "image/png": "[encoded data removed]",
      "text/plain": [
       "<Figure size 432x288 with 1 Axes>"
      ]
     },
     "metadata": {
      "needs_background": "light"
     },
     "output_type": "display_data"
    }
   ],
   "source": [
    "plt.plot(Tiempo[\"max\"][:-20])\n",
    "plt.plot(y_pred)"
   ]
  },
  {
   "cell_type": "code",
   "execution_count": 84,
   "metadata": {},
   "outputs": [
    {
     "data": {
      "text/plain": [
       "20"
      ]
     },
     "execution_count": 84,
     "metadata": {},
     "output_type": "execute_result"
    }
   ],
   "source": [
    "len(y_pred)"
   ]
  },
  {
   "cell_type": "code",
   "execution_count": 98,
   "metadata": {},
   "outputs": [
    {
     "name": "stdout",
     "output_type": "stream",
     "text": [
      "div(div(X0, mul(0.072, -0.711)), mul(X0, -0.692))\n"
     ]
    }
   ],
   "source": [
    "print(est._program)"
   ]
  },
  {
   "cell_type": "code",
   "execution_count": 48,
   "metadata": {},
   "outputs": [
    {
     "data": {
      "text/plain": [
       "(1, 5724)"
      ]
     },
     "execution_count": 48,
     "metadata": {},
     "output_type": "execute_result"
    }
   ],
   "source": [
    "X_train.to_numpy().reshape(1, -1).shape"
   ]
  },
  {
   "cell_type": "code",
   "execution_count": 51,
   "metadata": {},
   "outputs": [
    {
     "data": {
      "text/plain": [
       "(5724,)"
      ]
     },
     "execution_count": 51,
     "metadata": {},
     "output_type": "execute_result"
    }
   ],
   "source": [
    "X_train.shape"
   ]
  },
  {
   "cell_type": "code",
   "execution_count": null,
   "metadata": {},
   "outputs": [],
   "source": []
  },
  {
   "cell_type": "code",
   "execution_count": null,
   "metadata": {},
   "outputs": [],
   "source": [
    "def _xexp( x ):\n",
    "    a = np.exp(x); \n",
    "    a[ np.abs(a) > 1e+9 ] = 1e+9\n",
    "    return a    "
   ]
  },
  {
   "cell_type": "code",
   "execution_count": null,
   "metadata": {},
   "outputs": [],
   "source": [
    "xexp = gpl.functions.make_function( function = _xexp, name='xexp', arity=1 )\n",
    "#function_set = ['add', 'sub', 'mul', 'div', 'sin', 'log'] #, xexp]\n",
    "function_set = ['add', 'sub', 'mul', 'div']"
   ]
  },
  {
   "cell_type": "code",
   "execution_count": null,
   "metadata": {},
   "outputs": [],
   "source": [
    "if 'model' in locals(): del model\n",
    "model = SymbolicRegressor(population_size = 3000, tournament_size=5,\n",
    "                          generations = 25, stopping_criteria=0.1,\n",
    "                          function_set = function_set, metric='rmse',\n",
    "                          p_crossover=0.65, p_subtree_mutation=0.15,\n",
    "                          p_hoist_mutation=0.05, p_point_mutation=0.1,\n",
    "                          verbose = 1, random_state = None, n_jobs = -1)"
   ]
  },
  {
   "cell_type": "code",
   "execution_count": null,
   "metadata": {},
   "outputs": [],
   "source": [
    "# Train\n",
    "t0 = time.time()\n",
    "model.fit(train_windows.values[:,:-1], train_windows.values[:,-1])\n",
    "tF = time.time()"
   ]
  },
  {
   "cell_type": "code",
   "execution_count": null,
   "metadata": {},
   "outputs": [],
   "source": [
    "# Predict\n",
    "sr_y_fit = model.predict(train_windows.values[:,:-1]).reshape(-1,1)\n",
    "sr_y_pred = model.predict(test_windows.values[:,:-1]).reshape(-1,1)"
   ]
  },
  {
   "cell_type": "code",
   "execution_count": null,
   "metadata": {},
   "outputs": [],
   "source": [
    "# Calculating Errors\n",
    "sr_residuals = sr_y_pred - testset.iloc[5:,-1].values.reshape(-1,1)\n",
    "sr_rmse = np.sqrt(np.sum(np.power(sr_residuals,2)) / len(sr_residuals))\n",
    "print('RMSE = %f' % sr_rmse)\n",
    "print('Time to train %.2f' % (tF - t0))\n",
    "print(model._program)"
   ]
  },
  {
   "cell_type": "code",
   "execution_count": null,
   "metadata": {},
   "outputs": [],
   "source": []
  },
  {
   "cell_type": "code",
   "execution_count": null,
   "metadata": {},
   "outputs": [],
   "source": [
    "#################################################\n",
    "# TRAIN THE NETWORK AND PREDICT - With previous y\n",
    "#################################################\n",
    "\n",
    "if 'model_inc' in locals(): del model_inc\n",
    "model_inc = SymbolicRegressor(population_size = 3000, tournament_size=5,\n",
    "                          generations = 25, stopping_criteria=0.1,\n",
    "                          function_set = function_set, metric='rmse',\n",
    "                          p_crossover=0.65, p_subtree_mutation=0.15,\n",
    "                          p_hoist_mutation=0.05, p_point_mutation=0.1,\n",
    "                          verbose = 1, random_state = None, n_jobs = -1)\n",
    "# Train\n",
    "t0 = time.time()\n",
    "model_inc.fit(train_windows_sr_inc.values[:,:-1], train_windows_sr_inc.values[:,-1])\n",
    "tF = time.time()\n",
    "\n",
    "# Predict\n",
    "sr_y_fit_inc = model_inc.predict(train_windows_sr_inc.values[:,:-1]).reshape(-1,1)\n",
    "sr_y_pred_inc = model_inc.predict(test_windows_sr_inc.values[:,:-1]).reshape(-1,1)\n",
    "\n",
    "# Calculating Errors\n",
    "sr_residuals_inc = sr_y_pred_inc - testset.iloc[5:,-1].values.reshape(-1,1)\n",
    "sr_rmse_inc = np.sqrt(np.sum(np.power(sr_residuals_inc,2)) / len(sr_residuals_inc))\n",
    "print('RMSE = %f' % sr_rmse_inc)\n",
    "print('Time to train %.2f' % (tF - t0))\n",
    "print(model_inc._program)"
   ]
  }
 ],
 "metadata": {
  "kernelspec": {
   "display_name": "Python 3",
   "language": "python",
   "name": "python3"
  },
  "language_info": {
   "codemirror_mode": {
    "name": "ipython",
    "version": 3
   },
   "file_extension": ".py",
   "mimetype": "text/x-python",
   "name": "python",
   "nbconvert_exporter": "python",
   "pygments_lexer": "ipython3",
   "version": "3.7.3"
  }
 },
 "nbformat": 4,
 "nbformat_minor": 2
}
